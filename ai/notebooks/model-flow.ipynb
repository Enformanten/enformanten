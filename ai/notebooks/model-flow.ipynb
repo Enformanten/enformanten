{
 "cells": [
  {
   "cell_type": "markdown",
   "metadata": {},
   "source": [
    "# Model Flow\n",
    "\n",
    "This notebook contains a step-by-step guide to the model registry flow. It is intended to be used as a reference to understand the operations performed to create each moddel, and as a starting point for future development."
   ]
  },
  {
   "cell_type": "code",
   "execution_count": null,
   "metadata": {},
   "outputs": [],
   "source": [
    "# !pip install rich # Run this cell if you don't have rich installed"
   ]
  },
  {
   "cell_type": "markdown",
   "metadata": {},
   "source": [
    "Import packages. Note that `tilly` is our internal name for Driftsoptimeringsmodellen. <br>\n",
    "(Utilization model -> Utilization -> Tilly)"
   ]
  },
  {
   "cell_type": "code",
   "execution_count": 25,
   "metadata": {},
   "outputs": [],
   "source": [
    "import pandas as pd\n",
    "from typing import Generator\n",
    "from loguru import logger\n",
    "from snowflake.snowpark import Session\n",
    "\n",
    "from tilly.config import SNOWFLAKE_CREDENTIALS\n",
    "from tilly.database.data.crud import retrieve_data\n",
    "from tilly.database.data.models import TrainingTimeslots\n",
    "from tilly.services.ml.transformations.postprocessing import Postprocessor\n"
   ]
  },
  {
   "cell_type": "code",
   "execution_count": 3,
   "metadata": {},
   "outputs": [],
   "source": [
    "pd.options.plotting.backend = \"plotly\""
   ]
  },
  {
   "cell_type": "markdown",
   "metadata": {},
   "source": [
    "Define the snowflake connection and retrieve data"
   ]
  },
  {
   "cell_type": "code",
   "execution_count": 21,
   "metadata": {},
   "outputs": [],
   "source": [
    "def get_session() -> Generator[Session, None, None]:\n",
    "    \"\"\"Get a Snowflake Session for Database Interactions.\"\"\"\n",
    "    return Session.builder.configs(SNOWFLAKE_CREDENTIALS).create()"
   ]
  },
  {
   "cell_type": "code",
   "execution_count": 22,
   "metadata": {},
   "outputs": [
    {
     "name": "stderr",
     "output_type": "stream",
     "text": [
      "\u001b[32m2023-11-07 11:01:05.162\u001b[0m | \u001b[34m\u001b[1mDEBUG   \u001b[0m | \u001b[36mtilly.database.data.crud\u001b[0m:\u001b[36mretrieve_data\u001b[0m:\u001b[36m62\u001b[0m - \u001b[34m\u001b[1mRetrieving data from 4_FEATURIZ_DRIFTOPTIMERING_TRAINING_TEST\u001b[0m\n"
     ]
    },
    {
     "data": {
      "text/html": [
       "<pre style=\"white-space:pre;overflow-x:auto;line-height:normal;font-family:Menlo,'DejaVu Sans Mono',consolas,'Courier New',monospace\"><span style=\"color: #7fbfbf; text-decoration-color: #7fbfbf\">[11/07/23 11:01:16] </span><span style=\"color: #000080; text-decoration-color: #000080\">INFO    </span> Shape <span style=\"font-weight: bold\">(</span><span style=\"color: #008080; text-decoration-color: #008080; font-weight: bold\">1842208</span>, <span style=\"color: #008080; text-decoration-color: #008080; font-weight: bold\">16</span><span style=\"font-weight: bold\">)</span> | Unique <span style=\"color: #008000; text-decoration-color: #008000\">'SKOLE_ID'</span>: <span style=\"color: #008080; text-decoration-color: #008080; font-weight: bold\">164</span>                             <a href=\"file:///home/nbt/repos/enformanten/ai/tilly/utils/logger.py\" target=\"_blank\"><span style=\"color: #7f7f7f; text-decoration-color: #7f7f7f\">logger.py</span></a><span style=\"color: #7f7f7f; text-decoration-color: #7f7f7f\">:</span><a href=\"file:///home/nbt/repos/enformanten/ai/tilly/utils/logger.py#102\" target=\"_blank\"><span style=\"color: #7f7f7f; text-decoration-color: #7f7f7f\">102</span></a>\n",
       "</pre>\n"
      ],
      "text/plain": [
       "\u001b[2;36m[11/07/23 11:01:16]\u001b[0m\u001b[2;36m \u001b[0m\u001b[34mINFO    \u001b[0m Shape \u001b[1m(\u001b[0m\u001b[1;36m1842208\u001b[0m, \u001b[1;36m16\u001b[0m\u001b[1m)\u001b[0m | Unique \u001b[32m'SKOLE_ID'\u001b[0m: \u001b[1;36m164\u001b[0m                             \u001b]8;id=626990;file:///home/nbt/repos/enformanten/ai/tilly/utils/logger.py\u001b\\\u001b[2mlogger.py\u001b[0m\u001b]8;;\u001b\\\u001b[2m:\u001b[0m\u001b]8;id=35100;file:///home/nbt/repos/enformanten/ai/tilly/utils/logger.py#102\u001b\\\u001b[2m102\u001b[0m\u001b]8;;\u001b\\\n"
      ]
     },
     "metadata": {},
     "output_type": "display_data"
    }
   ],
   "source": [
    "data = retrieve_data(get_session(), table_name=TrainingTimeslots.__tablename__)"
   ]
  },
  {
   "cell_type": "markdown",
   "metadata": {},
   "source": [
    "### Data integrity"
   ]
  },
  {
   "cell_type": "code",
   "execution_count": 29,
   "metadata": {},
   "outputs": [
    {
     "data": {
      "text/plain": [
       "{'Rønbækskolen_A.03':            ID   KOMMUNE         SKOLE        DATE      TIME  DAYNAME  \\\n",
       " 303      A.03  Favrskov  Rønbækskolen  2023-09-29  17:00:00   Fredag   \n",
       " 1955     A.03  Favrskov  Rønbækskolen  2023-09-27  14:15:00   Onsdag   \n",
       " 4019     A.03  Favrskov  Rønbækskolen  2023-10-04  14:15:00   Onsdag   \n",
       " 5646     A.03  Favrskov  Rønbækskolen  2023-09-25  04:15:00   Mandag   \n",
       " 6781     A.03  Favrskov  Rønbækskolen  2023-10-05  22:15:00  Torsdag   \n",
       " ...       ...       ...           ...         ...       ...      ...   \n",
       " 1838144  A.03  Favrskov  Rønbækskolen  2023-10-06  13:30:00   Fredag   \n",
       " 1838882  A.03  Favrskov  Rønbækskolen  2023-10-08  06:00:00  Soendag   \n",
       " 1840061  A.03  Favrskov  Rønbækskolen  2023-10-03  19:45:00  Tirsdag   \n",
       " 1841111  A.03  Favrskov  Rønbækskolen  2023-09-28  21:30:00  Torsdag   \n",
       " 1841501  A.03  Favrskov  Rønbækskolen  2023-10-04  18:15:00   Onsdag   \n",
       " \n",
       "         TIDSPUNKT_TYPE        TYPE        NAVN         CO2       TEMP  MOTION  \\\n",
       " 303             Fritid  Normal Dag  Normal Dag  468.000000  21.500000     NaN   \n",
       " 1955             Skole  Normal Dag  Normal Dag  552.000000  21.866667     NaN   \n",
       " 4019             Skole  Normal Dag  Normal Dag  506.666667  21.000000     NaN   \n",
       " 5646             Skole  Normal Dag  Normal Dag  458.666667  20.400000     NaN   \n",
       " 6781            Fritid  Normal Dag  Normal Dag  453.000000  20.600000     NaN   \n",
       " ...                ...         ...         ...         ...        ...     ...   \n",
       " 1838144          Skole  Normal Dag  Normal Dag  607.000000  21.400000     NaN   \n",
       " 1838882         Fritid  Normal Dag  Normal Dag  466.000000  19.900000     NaN   \n",
       " 1840061         Fritid  Normal Dag  Normal Dag  427.000000  20.600000     NaN   \n",
       " 1841111         Fritid  Normal Dag  Normal Dag  412.000000  21.400000     NaN   \n",
       " 1841501         Fritid  Normal Dag  Normal Dag  435.333333  20.700000     NaN   \n",
       " \n",
       "           IAQ  BOOKET  SKEMALAGT           SKOLE_ID  \n",
       " 303      0.02     NaN        NaN  Rønbækskolen_A.03  \n",
       " 1955     0.03     NaN        NaN  Rønbækskolen_A.03  \n",
       " 4019     0.02     NaN        NaN  Rønbækskolen_A.03  \n",
       " 5646     0.08     NaN        NaN  Rønbækskolen_A.03  \n",
       " 6781     0.02     NaN        NaN  Rønbækskolen_A.03  \n",
       " ...       ...     ...        ...                ...  \n",
       " 1838144  0.04     NaN        NaN  Rønbækskolen_A.03  \n",
       " 1838882  0.02     NaN        NaN  Rønbækskolen_A.03  \n",
       " 1840061  0.02     NaN        NaN  Rønbækskolen_A.03  \n",
       " 1841111  0.02     NaN        NaN  Rønbækskolen_A.03  \n",
       " 1841501  0.02     NaN        NaN  Rønbækskolen_A.03  \n",
       " \n",
       " [1476 rows x 16 columns],\n",
       " 'Rønbækskolen_A.09':            ID   KOMMUNE         SKOLE        DATE      TIME  DAYNAME  \\\n",
       " 1074     A.09  Favrskov  Rønbækskolen  2023-09-29  23:30:00   Fredag   \n",
       " 1128     A.09  Favrskov  Rønbækskolen  2023-09-27  01:45:00   Onsdag   \n",
       " 4116     A.09  Favrskov  Rønbækskolen  2023-10-01  15:15:00  Soendag   \n",
       " 5478     A.09  Favrskov  Rønbækskolen  2023-10-08  04:15:00  Soendag   \n",
       " 11113    A.09  Favrskov  Rønbækskolen  2023-09-24  22:00:00  Soendag   \n",
       " ...       ...       ...           ...         ...       ...      ...   \n",
       " 1836690  A.09  Favrskov  Rønbækskolen  2023-09-23  03:45:00  Loerdag   \n",
       " 1837310  A.09  Favrskov  Rønbækskolen  2023-09-22  17:15:00   Fredag   \n",
       " 1841546  A.09  Favrskov  Rønbækskolen  2023-09-28  01:30:00  Torsdag   \n",
       " 1841613  A.09  Favrskov  Rønbækskolen  2023-09-28  07:30:00  Torsdag   \n",
       " 1842193  A.09  Favrskov  Rønbækskolen  2023-10-10  13:00:00  Tirsdag   \n",
       " \n",
       "         TIDSPUNKT_TYPE        TYPE        NAVN         CO2  TEMP  MOTION  \\\n",
       " 1074            Fritid  Normal Dag  Normal Dag  452.333333  20.3     NaN   \n",
       " 1128             Skole  Normal Dag  Normal Dag  628.333333  20.2     NaN   \n",
       " 4116            Fritid  Normal Dag  Normal Dag  412.333333  20.0     NaN   \n",
       " 5478            Fritid  Normal Dag  Normal Dag  439.000000  18.9     NaN   \n",
       " 11113           Fritid  Normal Dag  Normal Dag  418.000000  20.1     NaN   \n",
       " ...                ...         ...         ...         ...   ...     ...   \n",
       " 1836690         Fritid  Normal Dag  Normal Dag  452.000000  20.4     NaN   \n",
       " 1837310         Fritid  Normal Dag  Normal Dag  416.500000  21.1     NaN   \n",
       " 1841546          Skole  Normal Dag  Normal Dag  465.000000  20.4     NaN   \n",
       " 1841613          Skole  Normal Dag  Normal Dag  460.000000  20.6     NaN   \n",
       " 1842193          Skole  Normal Dag  Normal Dag  468.000000  19.5     NaN   \n",
       " \n",
       "               IAQ  BOOKET  SKEMALAGT           SKOLE_ID  \n",
       " 1074     0.020000     NaN        NaN  Rønbækskolen_A.09  \n",
       " 1128     0.030000     NaN        NaN  Rønbækskolen_A.09  \n",
       " 4116     0.020000     NaN        NaN  Rønbækskolen_A.09  \n",
       " 5478     0.020000     NaN        NaN  Rønbækskolen_A.09  \n",
       " 11113    0.020000     NaN        NaN  Rønbækskolen_A.09  \n",
       " ...           ...     ...        ...                ...  \n",
       " 1836690  0.020000     NaN        NaN  Rønbækskolen_A.09  \n",
       " 1837310  0.020000     NaN        NaN  Rønbækskolen_A.09  \n",
       " 1841546  0.026667     NaN        NaN  Rønbækskolen_A.09  \n",
       " 1841613  0.020000     NaN        NaN  Rønbækskolen_A.09  \n",
       " 1842193  0.030000     NaN        NaN  Rønbækskolen_A.09  \n",
       " \n",
       " [1442 rows x 16 columns],\n",
       " 'Rønbækskolen_A.10':            ID   KOMMUNE         SKOLE        DATE      TIME  DAYNAME  \\\n",
       " 1403     A.10  Favrskov  Rønbækskolen  2023-09-27  16:30:00   Onsdag   \n",
       " 1432     A.10  Favrskov  Rønbækskolen  2023-10-11  04:15:00   Onsdag   \n",
       " 3776     A.10  Favrskov  Rønbækskolen  2023-09-30  00:30:00  Loerdag   \n",
       " 6116     A.10  Favrskov  Rønbækskolen  2023-09-23  17:30:00  Loerdag   \n",
       " 8020     A.10  Favrskov  Rønbækskolen  2023-10-09  20:45:00   Mandag   \n",
       " ...       ...       ...           ...         ...       ...      ...   \n",
       " 1838442  A.10  Favrskov  Rønbækskolen  2023-10-04  04:00:00   Onsdag   \n",
       " 1839867  A.10  Favrskov  Rønbækskolen  2023-09-28  05:45:00  Torsdag   \n",
       " 1840151  A.10  Favrskov  Rønbækskolen  2023-09-22  20:30:00   Fredag   \n",
       " 1840998  A.10  Favrskov  Rønbækskolen  2023-10-06  17:15:00   Fredag   \n",
       " 1841316  A.10  Favrskov  Rønbækskolen  2023-10-09  03:00:00   Mandag   \n",
       " \n",
       "         TIDSPUNKT_TYPE        TYPE        NAVN         CO2  TEMP  MOTION  \\\n",
       " 1403            Fritid  Normal Dag  Normal Dag  481.000000  21.1     NaN   \n",
       " 1432             Skole  Normal Dag  Normal Dag  449.000000  19.8     NaN   \n",
       " 3776            Fritid  Normal Dag  Normal Dag  457.333333  20.5     NaN   \n",
       " 6116            Fritid  Normal Dag  Normal Dag  447.000000  20.5     NaN   \n",
       " 8020            Fritid  Normal Dag  Normal Dag  442.000000  20.0     NaN   \n",
       " ...                ...         ...         ...         ...   ...     ...   \n",
       " 1838442          Skole  Normal Dag  Normal Dag  432.000000  19.8     NaN   \n",
       " 1839867          Skole  Normal Dag  Normal Dag  505.000000  20.6     NaN   \n",
       " 1840151         Fritid  Normal Dag  Normal Dag  434.000000  20.9     NaN   \n",
       " 1840998         Fritid  Normal Dag  Normal Dag  415.000000  20.3     NaN   \n",
       " 1841316          Skole  Normal Dag  Normal Dag  461.000000  19.0     NaN   \n",
       " \n",
       "           IAQ  BOOKET  SKEMALAGT           SKOLE_ID  \n",
       " 1403     0.04     NaN        NaN  Rønbækskolen_A.10  \n",
       " 1432     0.03     NaN        NaN  Rønbækskolen_A.10  \n",
       " 3776     0.02     NaN        NaN  Rønbækskolen_A.10  \n",
       " 6116     0.02     NaN        NaN  Rønbækskolen_A.10  \n",
       " 8020     0.03     NaN        NaN  Rønbækskolen_A.10  \n",
       " ...       ...     ...        ...                ...  \n",
       " 1838442  0.02     NaN        NaN  Rønbækskolen_A.10  \n",
       " 1839867  0.02     NaN        NaN  Rønbækskolen_A.10  \n",
       " 1840151  0.02     NaN        NaN  Rønbækskolen_A.10  \n",
       " 1840998  0.03     NaN        NaN  Rønbækskolen_A.10  \n",
       " 1841316  0.02     NaN        NaN  Rønbækskolen_A.10  \n",
       " \n",
       " [1431 rows x 16 columns],\n",
       " 'Rønbækskolen_A.11a':             ID   KOMMUNE         SKOLE        DATE      TIME  DAYNAME  \\\n",
       " 2362     A.11a  Favrskov  Rønbækskolen  2023-09-24  09:15:00  Soendag   \n",
       " 5446     A.11a  Favrskov  Rønbækskolen  2023-09-29  03:30:00   Fredag   \n",
       " 6178     A.11a  Favrskov  Rønbækskolen  2023-10-02  01:00:00   Mandag   \n",
       " 6987     A.11a  Favrskov  Rønbækskolen  2023-09-28  16:45:00  Torsdag   \n",
       " 10517    A.11a  Favrskov  Rønbækskolen  2023-09-24  08:45:00  Soendag   \n",
       " ...        ...       ...           ...         ...       ...      ...   \n",
       " 1834201  A.11a  Favrskov  Rønbækskolen  2023-09-27  00:15:00   Onsdag   \n",
       " 1837751  A.11a  Favrskov  Rønbækskolen  2023-10-03  13:30:00  Tirsdag   \n",
       " 1839099  A.11a  Favrskov  Rønbækskolen  2023-10-02  07:45:00   Mandag   \n",
       " 1840559  A.11a  Favrskov  Rønbækskolen  2023-10-09  19:00:00   Mandag   \n",
       " 1841102  A.11a  Favrskov  Rønbækskolen  2023-09-30  15:45:00  Loerdag   \n",
       " \n",
       "         TIDSPUNKT_TYPE        TYPE        NAVN         CO2  TEMP  MOTION  \\\n",
       " 2362            Fritid  Normal Dag  Normal Dag  494.333333  20.9     NaN   \n",
       " 5446             Skole  Normal Dag  Normal Dag  418.000000  21.4     NaN   \n",
       " 6178             Skole  Normal Dag  Normal Dag  432.000000  20.5     NaN   \n",
       " 6987            Fritid  Normal Dag  Normal Dag  434.500000  22.0     NaN   \n",
       " 10517           Fritid  Normal Dag  Normal Dag  518.000000  20.8     NaN   \n",
       " ...                ...         ...         ...         ...   ...     ...   \n",
       " 1834201          Skole  Normal Dag  Normal Dag  499.000000  21.3     NaN   \n",
       " 1837751          Skole  Normal Dag  Normal Dag  529.000000  21.5     NaN   \n",
       " 1839099          Skole  Normal Dag  Normal Dag  596.000000  21.2     NaN   \n",
       " 1840559         Fritid  Normal Dag  Normal Dag  461.000000  20.2     NaN   \n",
       " 1841102         Fritid  Normal Dag  Normal Dag  404.000000  21.2     NaN   \n",
       " \n",
       "               IAQ  BOOKET  SKEMALAGT            SKOLE_ID  \n",
       " 2362     0.020000     NaN        NaN  Rønbækskolen_A.11a  \n",
       " 5446     0.020000     NaN        NaN  Rønbækskolen_A.11a  \n",
       " 6178     0.180000     NaN        NaN  Rønbækskolen_A.11a  \n",
       " 6987     0.020000     NaN        NaN  Rønbækskolen_A.11a  \n",
       " 10517    0.020000     NaN        NaN  Rønbækskolen_A.11a  \n",
       " ...           ...     ...        ...                 ...  \n",
       " 1834201  0.140000     NaN        NaN  Rønbækskolen_A.11a  \n",
       " 1837751  0.080000     NaN        NaN  Rønbækskolen_A.11a  \n",
       " 1839099  0.020000     NaN        NaN  Rønbækskolen_A.11a  \n",
       " 1840559  0.040000     NaN        NaN  Rønbækskolen_A.11a  \n",
       " 1841102  0.023333     NaN        NaN  Rønbækskolen_A.11a  \n",
       " \n",
       " [1308 rows x 16 columns],\n",
       " 'Rønbækskolen_A.11b':             ID   KOMMUNE         SKOLE        DATE      TIME  DAYNAME  \\\n",
       " 2695     A.11b  Favrskov  Rønbækskolen  2023-10-02  05:15:00   Mandag   \n",
       " 2891     A.11b  Favrskov  Rønbækskolen  2023-09-30  12:15:00  Loerdag   \n",
       " 3645     A.11b  Favrskov  Rønbækskolen  2023-10-10  08:00:00  Tirsdag   \n",
       " 9253     A.11b  Favrskov  Rønbækskolen  2023-10-06  09:45:00   Fredag   \n",
       " 9290     A.11b  Favrskov  Rønbækskolen  2023-10-06  19:45:00   Fredag   \n",
       " ...        ...       ...           ...         ...       ...      ...   \n",
       " 1837209  A.11b  Favrskov  Rønbækskolen  2023-09-24  01:30:00  Soendag   \n",
       " 1838666  A.11b  Favrskov  Rønbækskolen  2023-10-08  08:00:00  Soendag   \n",
       " 1840076  A.11b  Favrskov  Rønbækskolen  2023-09-22  21:30:00   Fredag   \n",
       " 1840114  A.11b  Favrskov  Rønbækskolen  2023-09-25  17:15:00   Mandag   \n",
       " 1841038  A.11b  Favrskov  Rønbækskolen  2023-09-30  18:45:00  Loerdag   \n",
       " \n",
       "         TIDSPUNKT_TYPE        TYPE        NAVN         CO2       TEMP  MOTION  \\\n",
       " 2695             Skole  Normal Dag  Normal Dag  792.666667  21.266667     NaN   \n",
       " 2891            Fritid  Normal Dag  Normal Dag  447.000000  21.700000     NaN   \n",
       " 3645             Skole  Normal Dag  Normal Dag  738.000000  21.500000     NaN   \n",
       " 9253             Skole  Normal Dag  Normal Dag  579.666667  21.900000     NaN   \n",
       " 9290            Fritid  Normal Dag  Normal Dag  527.000000  21.500000     NaN   \n",
       " ...                ...         ...         ...         ...        ...     ...   \n",
       " 1837209         Fritid  Normal Dag  Normal Dag  424.000000  21.100000     NaN   \n",
       " 1838666         Fritid  Normal Dag  Normal Dag  451.000000  21.300000     NaN   \n",
       " 1840076         Fritid  Normal Dag  Normal Dag  430.000000  21.600000     NaN   \n",
       " 1840114         Fritid  Normal Dag  Normal Dag  432.000000  21.500000     NaN   \n",
       " 1841038         Fritid  Normal Dag  Normal Dag  436.333333  21.300000     NaN   \n",
       " \n",
       "           IAQ  BOOKET  SKEMALAGT            SKOLE_ID  \n",
       " 2695     0.06     NaN        NaN  Rønbækskolen_A.11b  \n",
       " 2891     0.02     NaN        NaN  Rønbækskolen_A.11b  \n",
       " 3645     0.03     NaN        NaN  Rønbækskolen_A.11b  \n",
       " 9253     0.03     NaN        NaN  Rønbækskolen_A.11b  \n",
       " 9290     0.03     NaN        NaN  Rønbækskolen_A.11b  \n",
       " ...       ...     ...        ...                 ...  \n",
       " 1837209  0.02     NaN        NaN  Rønbækskolen_A.11b  \n",
       " 1838666  0.02     NaN        NaN  Rønbækskolen_A.11b  \n",
       " 1840076  0.02     NaN        NaN  Rønbækskolen_A.11b  \n",
       " 1840114  0.02     NaN        NaN  Rønbækskolen_A.11b  \n",
       " 1841038  0.02     NaN        NaN  Rønbækskolen_A.11b  \n",
       " \n",
       " [1248 rows x 16 columns],\n",
       " 'Rønbækskolen_A.12':            ID   KOMMUNE         SKOLE        DATE      TIME  DAYNAME  \\\n",
       " 224      A.12  Favrskov  Rønbækskolen  2023-09-27  21:15:00   Onsdag   \n",
       " 2990     A.12  Favrskov  Rønbækskolen  2023-09-26  14:00:00  Tirsdag   \n",
       " 5681     A.12  Favrskov  Rønbækskolen  2023-09-30  22:30:00  Loerdag   \n",
       " 6641     A.12  Favrskov  Rønbækskolen  2023-09-29  16:45:00   Fredag   \n",
       " 6777     A.12  Favrskov  Rønbækskolen  2023-10-01  13:30:00  Soendag   \n",
       " ...       ...       ...           ...         ...       ...      ...   \n",
       " 1838791  A.12  Favrskov  Rønbækskolen  2023-09-25  21:45:00   Mandag   \n",
       " 1838945  A.12  Favrskov  Rønbækskolen  2023-10-05  13:45:00  Torsdag   \n",
       " 1839633  A.12  Favrskov  Rønbækskolen  2023-10-08  07:00:00  Soendag   \n",
       " 1841634  A.12  Favrskov  Rønbækskolen  2023-10-06  23:15:00   Fredag   \n",
       " 1841641  A.12  Favrskov  Rønbækskolen  2023-09-30  03:30:00  Loerdag   \n",
       " \n",
       "         TIDSPUNKT_TYPE        TYPE        NAVN         CO2       TEMP  MOTION  \\\n",
       " 224             Fritid  Normal Dag  Normal Dag  445.000000  21.300000     NaN   \n",
       " 2990             Skole  Normal Dag  Normal Dag  576.333333  21.800000     NaN   \n",
       " 5681            Fritid  Normal Dag  Normal Dag  409.000000  20.700000     NaN   \n",
       " 6641            Fritid  Normal Dag  Normal Dag  471.000000  21.500000     NaN   \n",
       " 6777            Fritid  Normal Dag  Normal Dag  416.000000  20.700000     NaN   \n",
       " ...                ...         ...         ...         ...        ...     ...   \n",
       " 1838791         Fritid  Normal Dag  Normal Dag  443.666667  20.833333     NaN   \n",
       " 1838945          Skole  Normal Dag  Normal Dag  577.000000  21.200000     NaN   \n",
       " 1839633         Fritid  Normal Dag  Normal Dag  433.000000  19.800000     NaN   \n",
       " 1841634         Fritid  Normal Dag  Normal Dag  473.000000  20.800000     NaN   \n",
       " 1841641         Fritid  Normal Dag  Normal Dag  434.000000  20.900000     NaN   \n",
       " \n",
       "           IAQ  BOOKET  SKEMALAGT           SKOLE_ID  \n",
       " 224      0.02     NaN        NaN  Rønbækskolen_A.12  \n",
       " 2990     0.02     NaN        NaN  Rønbækskolen_A.12  \n",
       " 5681     0.02     NaN        NaN  Rønbækskolen_A.12  \n",
       " 6641     0.03     NaN        NaN  Rønbækskolen_A.12  \n",
       " 6777     0.03     NaN        NaN  Rønbækskolen_A.12  \n",
       " ...       ...     ...        ...                ...  \n",
       " 1838791  0.02     NaN        NaN  Rønbækskolen_A.12  \n",
       " 1838945  0.02     NaN        NaN  Rønbækskolen_A.12  \n",
       " 1839633  0.02     NaN        NaN  Rønbækskolen_A.12  \n",
       " 1841634  0.02     NaN        NaN  Rønbækskolen_A.12  \n",
       " 1841641  0.02     NaN        NaN  Rønbækskolen_A.12  \n",
       " \n",
       " [1366 rows x 16 columns],\n",
       " 'Rønbækskolen_A.14':            ID   KOMMUNE         SKOLE        DATE      TIME  DAYNAME  \\\n",
       " 1816     A.14  Favrskov  Rønbækskolen  2023-09-25  21:30:00   Mandag   \n",
       " 1931     A.14  Favrskov  Rønbækskolen  2023-10-03  16:45:00  Tirsdag   \n",
       " 3302     A.14  Favrskov  Rønbækskolen  2023-09-23  04:30:00  Loerdag   \n",
       " 4756     A.14  Favrskov  Rønbækskolen  2023-10-10  22:00:00  Tirsdag   \n",
       " 6017     A.14  Favrskov  Rønbækskolen  2023-09-26  10:15:00  Tirsdag   \n",
       " ...       ...       ...           ...         ...       ...      ...   \n",
       " 1832493  A.14  Favrskov  Rønbækskolen  2023-09-29  14:30:00   Fredag   \n",
       " 1836949  A.14  Favrskov  Rønbækskolen  2023-09-23  01:45:00  Loerdag   \n",
       " 1838908  A.14  Favrskov  Rønbækskolen  2023-09-27  16:30:00   Onsdag   \n",
       " 1841160  A.14  Favrskov  Rønbækskolen  2023-10-10  11:45:00  Tirsdag   \n",
       " 1841342  A.14  Favrskov  Rønbækskolen  2023-10-05  16:15:00  Torsdag   \n",
       " \n",
       "         TIDSPUNKT_TYPE        TYPE        NAVN         CO2       TEMP  MOTION  \\\n",
       " 1816            Fritid  Normal Dag  Normal Dag  757.000000  21.600000     NaN   \n",
       " 1931            Fritid  Normal Dag  Normal Dag  435.666667  20.833333     NaN   \n",
       " 3302            Fritid  Normal Dag  Normal Dag  432.666667  21.200000     NaN   \n",
       " 4756            Fritid  Normal Dag  Normal Dag  846.000000  21.000000     NaN   \n",
       " 6017             Skole  Normal Dag  Normal Dag  455.666667  21.200000     NaN   \n",
       " ...                ...         ...         ...         ...        ...     ...   \n",
       " 1832493          Skole  Normal Dag  Normal Dag  474.000000  21.400000     NaN   \n",
       " 1836949         Fritid  Normal Dag  Normal Dag  429.000000  21.300000     NaN   \n",
       " 1838908         Fritid  Normal Dag  Normal Dag  556.000000  22.100000     NaN   \n",
       " 1841160          Skole  Normal Dag  Normal Dag  676.000000  21.000000     NaN   \n",
       " 1841342         Fritid  Normal Dag  Normal Dag  609.000000  21.100000     NaN   \n",
       " \n",
       "           IAQ  BOOKET  SKEMALAGT           SKOLE_ID  \n",
       " 1816     0.04     NaN        NaN  Rønbækskolen_A.14  \n",
       " 1931     0.02     NaN        NaN  Rønbækskolen_A.14  \n",
       " 3302     0.02     NaN        NaN  Rønbækskolen_A.14  \n",
       " 4756     0.04     NaN        NaN  Rønbækskolen_A.14  \n",
       " 6017     0.02     NaN        NaN  Rønbækskolen_A.14  \n",
       " ...       ...     ...        ...                ...  \n",
       " 1832493  0.03     NaN        NaN  Rønbækskolen_A.14  \n",
       " 1836949  0.02     NaN        NaN  Rønbækskolen_A.14  \n",
       " 1838908  0.04     NaN        NaN  Rønbækskolen_A.14  \n",
       " 1841160  0.04     NaN        NaN  Rønbækskolen_A.14  \n",
       " 1841342  0.22     NaN        NaN  Rønbækskolen_A.14  \n",
       " \n",
       " [1368 rows x 16 columns],\n",
       " 'Rønbækskolen_A.20':            ID   KOMMUNE         SKOLE        DATE      TIME  DAYNAME  \\\n",
       " 217      A.20  Favrskov  Rønbækskolen  2023-09-29  03:30:00   Fredag   \n",
       " 790      A.20  Favrskov  Rønbækskolen  2023-10-04  07:00:00   Onsdag   \n",
       " 863      A.20  Favrskov  Rønbækskolen  2023-10-04  11:00:00   Onsdag   \n",
       " 4092     A.20  Favrskov  Rønbækskolen  2023-09-30  23:45:00  Loerdag   \n",
       " 5974     A.20  Favrskov  Rønbækskolen  2023-09-23  23:15:00  Loerdag   \n",
       " ...       ...       ...           ...         ...       ...      ...   \n",
       " 1838240  A.20  Favrskov  Rønbækskolen  2023-10-02  08:30:00   Mandag   \n",
       " 1838644  A.20  Favrskov  Rønbækskolen  2023-09-27  01:00:00   Onsdag   \n",
       " 1839513  A.20  Favrskov  Rønbækskolen  2023-10-06  05:00:00   Fredag   \n",
       " 1840207  A.20  Favrskov  Rønbækskolen  2023-10-05  05:45:00  Torsdag   \n",
       " 1840472  A.20  Favrskov  Rønbækskolen  2023-10-05  14:45:00  Torsdag   \n",
       " \n",
       "         TIDSPUNKT_TYPE        TYPE        NAVN         CO2       TEMP  MOTION  \\\n",
       " 217              Skole  Normal Dag  Normal Dag  412.500000  21.600000     NaN   \n",
       " 790              Skole  Normal Dag  Normal Dag  633.000000  21.050000     NaN   \n",
       " 863              Skole  Normal Dag  Normal Dag  552.000000  21.300000     NaN   \n",
       " 4092            Fritid  Normal Dag  Normal Dag  366.000000  21.000000     NaN   \n",
       " 5974            Fritid  Normal Dag  Normal Dag  425.000000  20.900000     NaN   \n",
       " ...                ...         ...         ...         ...        ...     ...   \n",
       " 1838240          Skole  Normal Dag  Normal Dag  570.000000  21.266667     NaN   \n",
       " 1838644          Skole  Normal Dag  Normal Dag  528.333333  21.400000     NaN   \n",
       " 1839513          Skole  Normal Dag  Normal Dag  419.000000  20.800000     NaN   \n",
       " 1840207          Skole  Normal Dag  Normal Dag  562.500000  20.900000     NaN   \n",
       " 1840472          Skole  Normal Dag  Normal Dag  490.000000  21.500000     NaN   \n",
       " \n",
       "               IAQ  BOOKET  SKEMALAGT           SKOLE_ID  \n",
       " 217      0.045000     NaN        NaN  Rønbækskolen_A.20  \n",
       " 790      0.020000     NaN        NaN  Rønbækskolen_A.20  \n",
       " 863      0.206667     NaN        NaN  Rønbækskolen_A.20  \n",
       " 4092     0.020000     NaN        NaN  Rønbækskolen_A.20  \n",
       " 5974     0.020000     NaN        NaN  Rønbækskolen_A.20  \n",
       " ...           ...     ...        ...                ...  \n",
       " 1838240  0.020000     NaN        NaN  Rønbækskolen_A.20  \n",
       " 1838644  0.160000     NaN        NaN  Rønbækskolen_A.20  \n",
       " 1839513  0.020000     NaN        NaN  Rønbækskolen_A.20  \n",
       " 1840207  0.220000     NaN        NaN  Rønbækskolen_A.20  \n",
       " 1840472  0.020000     NaN        NaN  Rønbækskolen_A.20  \n",
       " \n",
       " [1289 rows x 16 columns],\n",
       " 'Rønbækskolen_A.31':            ID   KOMMUNE         SKOLE        DATE      TIME  DAYNAME  \\\n",
       " 482      A.31  Favrskov  Rønbækskolen  2023-10-01  12:30:00  Soendag   \n",
       " 2178     A.31  Favrskov  Rønbækskolen  2023-09-25  00:15:00   Mandag   \n",
       " 2453     A.31  Favrskov  Rønbækskolen  2023-09-23  17:45:00  Loerdag   \n",
       " 4485     A.31  Favrskov  Rønbækskolen  2023-09-26  19:30:00  Tirsdag   \n",
       " 6256     A.31  Favrskov  Rønbækskolen  2023-10-04  21:15:00   Onsdag   \n",
       " ...       ...       ...           ...         ...       ...      ...   \n",
       " 1838716  A.31  Favrskov  Rønbækskolen  2023-10-03  15:45:00  Tirsdag   \n",
       " 1839793  A.31  Favrskov  Rønbækskolen  2023-09-26  17:45:00  Tirsdag   \n",
       " 1840887  A.31  Favrskov  Rønbækskolen  2023-10-10  21:30:00  Tirsdag   \n",
       " 1841116  A.31  Favrskov  Rønbækskolen  2023-09-25  18:30:00   Mandag   \n",
       " 1841992  A.31  Favrskov  Rønbækskolen  2023-09-23  09:45:00  Loerdag   \n",
       " \n",
       "         TIDSPUNKT_TYPE        TYPE        NAVN         CO2  TEMP  MOTION  \\\n",
       " 482             Fritid  Normal Dag  Normal Dag  435.000000  20.8     NaN   \n",
       " 2178             Skole  Normal Dag  Normal Dag  448.000000  20.6     NaN   \n",
       " 2453            Fritid  Normal Dag  Normal Dag  459.000000  21.0     NaN   \n",
       " 4485            Fritid  Normal Dag  Normal Dag  438.666667  21.3     NaN   \n",
       " 6256            Fritid  Normal Dag  Normal Dag  387.333333  20.6     NaN   \n",
       " ...                ...         ...         ...         ...   ...     ...   \n",
       " 1838716          Skole  Normal Dag  Normal Dag  454.000000  21.0     NaN   \n",
       " 1839793         Fritid  Normal Dag  Normal Dag  453.666667  21.4     NaN   \n",
       " 1840887         Fritid  Normal Dag  Normal Dag  479.000000  20.7     NaN   \n",
       " 1841116         Fritid  Normal Dag  Normal Dag  434.000000  21.0     NaN   \n",
       " 1841992         Fritid  Normal Dag  Normal Dag  490.000000  21.0     NaN   \n",
       " \n",
       "               IAQ  BOOKET  SKEMALAGT           SKOLE_ID  \n",
       " 482      0.020000     NaN        NaN  Rønbækskolen_A.31  \n",
       " 2178     0.263333     NaN        NaN  Rønbækskolen_A.31  \n",
       " 2453     0.020000     NaN        NaN  Rønbækskolen_A.31  \n",
       " 4485     0.020000     NaN        NaN  Rønbækskolen_A.31  \n",
       " 6256     0.020000     NaN        NaN  Rønbækskolen_A.31  \n",
       " ...           ...     ...        ...                ...  \n",
       " 1838716  0.020000     NaN        NaN  Rønbækskolen_A.31  \n",
       " 1839793  0.020000     NaN        NaN  Rønbækskolen_A.31  \n",
       " 1840887  0.050000     NaN        NaN  Rønbækskolen_A.31  \n",
       " 1841116  0.020000     NaN        NaN  Rønbækskolen_A.31  \n",
       " 1841992  0.020000     NaN        NaN  Rønbækskolen_A.31  \n",
       " \n",
       " [1398 rows x 16 columns],\n",
       " 'Rønbækskolen_A.38':            ID   KOMMUNE         SKOLE        DATE      TIME  DAYNAME  \\\n",
       " 100      A.38  Favrskov  Rønbækskolen  2023-10-07  13:15:00  Loerdag   \n",
       " 907      A.38  Favrskov  Rønbækskolen  2023-10-05  03:45:00  Torsdag   \n",
       " 1908     A.38  Favrskov  Rønbækskolen  2023-09-30  13:00:00  Loerdag   \n",
       " 5381     A.38  Favrskov  Rønbækskolen  2023-10-05  03:00:00  Torsdag   \n",
       " 6358     A.38  Favrskov  Rønbækskolen  2023-09-29  07:45:00   Fredag   \n",
       " ...       ...       ...           ...         ...       ...      ...   \n",
       " 1838455  A.38  Favrskov  Rønbækskolen  2023-09-22  20:15:00   Fredag   \n",
       " 1839444  A.38  Favrskov  Rønbækskolen  2023-10-07  02:15:00  Loerdag   \n",
       " 1839461  A.38  Favrskov  Rønbækskolen  2023-10-03  20:30:00  Tirsdag   \n",
       " 1841097  A.38  Favrskov  Rønbækskolen  2023-10-03  08:15:00  Tirsdag   \n",
       " 1841310  A.38  Favrskov  Rønbækskolen  2023-10-01  17:00:00  Soendag   \n",
       " \n",
       "         TIDSPUNKT_TYPE        TYPE        NAVN         CO2  TEMP  MOTION  \\\n",
       " 100             Fritid  Normal Dag  Normal Dag  411.000000  21.2     NaN   \n",
       " 907              Skole  Normal Dag  Normal Dag  436.000000  20.3     NaN   \n",
       " 1908            Fritid  Normal Dag  Normal Dag  447.333333  22.0     NaN   \n",
       " 5381             Skole  Normal Dag  Normal Dag  439.333333  20.3     NaN   \n",
       " 6358             Skole  Normal Dag  Normal Dag  449.000000  21.7     NaN   \n",
       " ...                ...         ...         ...         ...   ...     ...   \n",
       " 1838455         Fritid  Normal Dag  Normal Dag  435.500000  23.0     NaN   \n",
       " 1839444         Fritid  Normal Dag  Normal Dag  431.000000  20.6     NaN   \n",
       " 1839461         Fritid  Normal Dag  Normal Dag  415.000000  20.7     NaN   \n",
       " 1841097          Skole  Normal Dag  Normal Dag  445.666667  20.9     NaN   \n",
       " 1841310         Fritid  Normal Dag  Normal Dag  429.500000  20.9     NaN   \n",
       " \n",
       "           IAQ  BOOKET  SKEMALAGT           SKOLE_ID  \n",
       " 100      0.02     NaN        NaN  Rønbækskolen_A.38  \n",
       " 907      0.02     NaN        NaN  Rønbækskolen_A.38  \n",
       " 1908     0.02     NaN        NaN  Rønbækskolen_A.38  \n",
       " 5381     0.02     NaN        NaN  Rønbækskolen_A.38  \n",
       " 6358     0.02     NaN        NaN  Rønbækskolen_A.38  \n",
       " ...       ...     ...        ...                ...  \n",
       " 1838455  0.03     NaN        NaN  Rønbækskolen_A.38  \n",
       " 1839444  0.02     NaN        NaN  Rønbækskolen_A.38  \n",
       " 1839461  0.02     NaN        NaN  Rønbækskolen_A.38  \n",
       " 1841097  0.02     NaN        NaN  Rønbækskolen_A.38  \n",
       " 1841310  0.02     NaN        NaN  Rønbækskolen_A.38  \n",
       " \n",
       " [1302 rows x 16 columns],\n",
       " 'Rønbækskolen_B.01':            ID   KOMMUNE         SKOLE        DATE      TIME  DAYNAME  \\\n",
       " 58       B.01  Favrskov  Rønbækskolen  2023-09-22  11:30:00   Fredag   \n",
       " 296      B.01  Favrskov  Rønbækskolen  2023-10-04  12:45:00   Onsdag   \n",
       " 1303     B.01  Favrskov  Rønbækskolen  2023-10-07  13:45:00  Loerdag   \n",
       " 1333     B.01  Favrskov  Rønbækskolen  2023-09-22  03:00:00   Fredag   \n",
       " 1351     B.01  Favrskov  Rønbækskolen  2023-09-26  07:45:00  Tirsdag   \n",
       " ...       ...       ...           ...         ...       ...      ...   \n",
       " 1838159  B.01  Favrskov  Rønbækskolen  2023-10-08  04:30:00  Soendag   \n",
       " 1838293  B.01  Favrskov  Rønbækskolen  2023-10-08  00:15:00  Soendag   \n",
       " 1840530  B.01  Favrskov  Rønbækskolen  2023-09-24  18:30:00  Soendag   \n",
       " 1840581  B.01  Favrskov  Rønbækskolen  2023-10-01  21:45:00  Soendag   \n",
       " 1841525  B.01  Favrskov  Rønbækskolen  2023-09-23  12:45:00  Loerdag   \n",
       " \n",
       "         TIDSPUNKT_TYPE        TYPE        NAVN     CO2       TEMP  MOTION  \\\n",
       " 58               Skole  Normal Dag  Normal Dag   992.0  23.333333     NaN   \n",
       " 296              Skole  Normal Dag  Normal Dag  1086.0  22.000000     NaN   \n",
       " 1303            Fritid  Normal Dag  Normal Dag   484.0  21.300000     NaN   \n",
       " 1333             Skole  Normal Dag  Normal Dag   531.5  22.700000     NaN   \n",
       " 1351             Skole  Normal Dag  Normal Dag   630.0  21.800000     NaN   \n",
       " ...                ...         ...         ...     ...        ...     ...   \n",
       " 1838159         Fritid  Normal Dag  Normal Dag   513.0  20.200000     NaN   \n",
       " 1838293         Fritid  Normal Dag  Normal Dag   478.0  20.600000     NaN   \n",
       " 1840530         Fritid  Normal Dag  Normal Dag   539.0  21.800000     NaN   \n",
       " 1840581         Fritid  Normal Dag  Normal Dag   450.5  21.100000     NaN   \n",
       " 1841525         Fritid  Normal Dag  Normal Dag   580.0  22.300000     NaN   \n",
       " \n",
       "           IAQ  BOOKET  SKEMALAGT           SKOLE_ID  \n",
       " 58       0.02     NaN        NaN  Rønbækskolen_B.01  \n",
       " 296      0.03     NaN        NaN  Rønbækskolen_B.01  \n",
       " 1303     0.02     NaN        NaN  Rønbækskolen_B.01  \n",
       " 1333     0.02     NaN        NaN  Rønbækskolen_B.01  \n",
       " 1351     0.02     NaN        NaN  Rønbækskolen_B.01  \n",
       " ...       ...     ...        ...                ...  \n",
       " 1838159  0.02     NaN        NaN  Rønbækskolen_B.01  \n",
       " 1838293  0.02     NaN        NaN  Rønbækskolen_B.01  \n",
       " 1840530  0.02     NaN        NaN  Rønbækskolen_B.01  \n",
       " 1840581  0.02     NaN        NaN  Rønbækskolen_B.01  \n",
       " 1841525  0.02     NaN        NaN  Rønbækskolen_B.01  \n",
       " \n",
       " [1413 rows x 16 columns],\n",
       " 'Rønbækskolen_B.02':            ID   KOMMUNE         SKOLE        DATE      TIME  DAYNAME  \\\n",
       " 3247     B.02  Favrskov  Rønbækskolen  2023-10-01  11:30:00  Soendag   \n",
       " 3307     B.02  Favrskov  Rønbækskolen  2023-10-05  10:15:00  Torsdag   \n",
       " 6142     B.02  Favrskov  Rønbækskolen  2023-10-02  06:45:00   Mandag   \n",
       " 7797     B.02  Favrskov  Rønbækskolen  2023-09-22  06:30:00   Fredag   \n",
       " 14636    B.02  Favrskov  Rønbækskolen  2023-09-24  22:00:00  Soendag   \n",
       " ...       ...       ...           ...         ...       ...      ...   \n",
       " 1839673  B.02  Favrskov  Rønbækskolen  2023-09-26  21:30:00  Tirsdag   \n",
       " 1840456  B.02  Favrskov  Rønbækskolen  2023-09-29  11:30:00   Fredag   \n",
       " 1840781  B.02  Favrskov  Rønbækskolen  2023-10-10  19:15:00  Tirsdag   \n",
       " 1840967  B.02  Favrskov  Rønbækskolen  2023-09-29  20:15:00   Fredag   \n",
       " 1841681  B.02  Favrskov  Rønbækskolen  2023-10-05  19:15:00  Torsdag   \n",
       " \n",
       "         TIDSPUNKT_TYPE        TYPE        NAVN    CO2  TEMP  MOTION   IAQ  \\\n",
       " 3247            Fritid  Normal Dag  Normal Dag  513.0  22.0     NaN  0.02   \n",
       " 3307             Skole  Normal Dag  Normal Dag  582.0  22.7     NaN  0.02   \n",
       " 6142             Skole  Normal Dag  Normal Dag  610.0  21.5     NaN  0.02   \n",
       " 7797             Skole  Normal Dag  Normal Dag  582.0  23.0     NaN  0.04   \n",
       " 14636           Fritid  Normal Dag  Normal Dag  463.0  22.0     NaN  0.02   \n",
       " ...                ...         ...         ...    ...   ...     ...   ...   \n",
       " 1839673         Fritid  Normal Dag  Normal Dag  552.0  22.2     NaN  0.13   \n",
       " 1840456          Skole  Normal Dag  Normal Dag  696.0  22.8     NaN  0.03   \n",
       " 1840781         Fritid  Normal Dag  Normal Dag  772.0  21.0     NaN  0.04   \n",
       " 1840967         Fritid  Normal Dag  Normal Dag  602.0  22.2     NaN  0.13   \n",
       " 1841681         Fritid  Normal Dag  Normal Dag  572.0  22.0     NaN  0.02   \n",
       " \n",
       "          BOOKET  SKEMALAGT           SKOLE_ID  \n",
       " 3247        NaN        NaN  Rønbækskolen_B.02  \n",
       " 3307        NaN        NaN  Rønbækskolen_B.02  \n",
       " 6142        NaN        NaN  Rønbækskolen_B.02  \n",
       " 7797        NaN        NaN  Rønbækskolen_B.02  \n",
       " 14636       NaN        NaN  Rønbækskolen_B.02  \n",
       " ...         ...        ...                ...  \n",
       " 1839673     NaN        NaN  Rønbækskolen_B.02  \n",
       " 1840456     NaN        NaN  Rønbækskolen_B.02  \n",
       " 1840781     NaN        NaN  Rønbækskolen_B.02  \n",
       " 1840967     NaN        NaN  Rønbækskolen_B.02  \n",
       " 1841681     NaN        NaN  Rønbækskolen_B.02  \n",
       " \n",
       " [1340 rows x 16 columns],\n",
       " 'Rønbækskolen_B.03':            ID   KOMMUNE         SKOLE        DATE      TIME  DAYNAME  \\\n",
       " 2414     B.03  Favrskov  Rønbækskolen  2023-10-01  09:45:00  Soendag   \n",
       " 3104     B.03  Favrskov  Rønbækskolen  2023-10-09  12:00:00   Mandag   \n",
       " 5854     B.03  Favrskov  Rønbækskolen  2023-09-22  12:45:00   Fredag   \n",
       " 6152     B.03  Favrskov  Rønbækskolen  2023-10-05  09:30:00  Torsdag   \n",
       " 7435     B.03  Favrskov  Rønbækskolen  2023-09-25  20:15:00   Mandag   \n",
       " ...       ...       ...           ...         ...       ...      ...   \n",
       " 1839491  B.03  Favrskov  Rønbækskolen  2023-09-29  12:00:00   Fredag   \n",
       " 1839652  B.03  Favrskov  Rønbækskolen  2023-10-07  08:00:00  Loerdag   \n",
       " 1841229  B.03  Favrskov  Rønbækskolen  2023-10-12  13:45:00  Torsdag   \n",
       " 1841258  B.03  Favrskov  Rønbækskolen  2023-10-05  14:45:00  Torsdag   \n",
       " 1842183  B.03  Favrskov  Rønbækskolen  2023-10-02  07:15:00   Mandag   \n",
       " \n",
       "         TIDSPUNKT_TYPE        TYPE        NAVN         CO2  TEMP  MOTION  \\\n",
       " 2414            Fritid  Normal Dag  Normal Dag  452.666667  21.9     NaN   \n",
       " 3104             Skole  Normal Dag  Normal Dag  501.000000  21.2     NaN   \n",
       " 5854             Skole  Normal Dag  Normal Dag  586.000000  23.5     NaN   \n",
       " 6152             Skole  Normal Dag  Normal Dag  511.500000  22.4     NaN   \n",
       " 7435            Fritid  Normal Dag  Normal Dag  559.333333  22.1     NaN   \n",
       " ...                ...         ...         ...         ...   ...     ...   \n",
       " 1839491          Skole  Normal Dag  Normal Dag  503.000000  22.4     NaN   \n",
       " 1839652         Fritid  Normal Dag  Normal Dag  427.000000  21.8     NaN   \n",
       " 1841229          Skole  Normal Dag  Normal Dag  654.000000  21.9     NaN   \n",
       " 1841258          Skole  Normal Dag  Normal Dag  822.000000  22.9     NaN   \n",
       " 1842183          Skole  Normal Dag  Normal Dag  526.000000  21.6     NaN   \n",
       " \n",
       "               IAQ  BOOKET  SKEMALAGT           SKOLE_ID  \n",
       " 2414     0.020000     NaN        NaN  Rønbækskolen_B.03  \n",
       " 3104     0.050000     NaN        NaN  Rønbækskolen_B.03  \n",
       " 5854     0.020000     NaN        NaN  Rønbækskolen_B.03  \n",
       " 6152     0.020000     NaN        NaN  Rønbækskolen_B.03  \n",
       " 7435     0.033333     NaN        NaN  Rønbækskolen_B.03  \n",
       " ...           ...     ...        ...                ...  \n",
       " 1839491  0.020000     NaN        NaN  Rønbækskolen_B.03  \n",
       " 1839652  0.020000     NaN        NaN  Rønbækskolen_B.03  \n",
       " 1841229  0.080000     NaN        NaN  Rønbækskolen_B.03  \n",
       " 1841258  0.190000     NaN        NaN  Rønbækskolen_B.03  \n",
       " 1842183  0.020000     NaN        NaN  Rønbækskolen_B.03  \n",
       " \n",
       " [1347 rows x 16 columns],\n",
       " 'Rønbækskolen_B.04':            ID   KOMMUNE         SKOLE        DATE      TIME  DAYNAME  \\\n",
       " 1743     B.04  Favrskov  Rønbækskolen  2023-10-03  21:30:00  Tirsdag   \n",
       " 2887     B.04  Favrskov  Rønbækskolen  2023-09-27  04:15:00   Onsdag   \n",
       " 5528     B.04  Favrskov  Rønbækskolen  2023-10-07  18:30:00  Loerdag   \n",
       " 6281     B.04  Favrskov  Rønbækskolen  2023-09-27  05:30:00   Onsdag   \n",
       " 11999    B.04  Favrskov  Rønbækskolen  2023-09-23  03:15:00  Loerdag   \n",
       " ...       ...       ...           ...         ...       ...      ...   \n",
       " 1836514  B.04  Favrskov  Rønbækskolen  2023-10-10  11:00:00  Tirsdag   \n",
       " 1838305  B.04  Favrskov  Rønbækskolen  2023-10-05  18:00:00  Torsdag   \n",
       " 1840157  B.04  Favrskov  Rønbækskolen  2023-10-02  19:45:00   Mandag   \n",
       " 1840455  B.04  Favrskov  Rønbækskolen  2023-10-07  21:15:00  Loerdag   \n",
       " 1840802  B.04  Favrskov  Rønbækskolen  2023-10-08  19:00:00  Soendag   \n",
       " \n",
       "         TIDSPUNKT_TYPE        TYPE        NAVN         CO2       TEMP  MOTION  \\\n",
       " 1743            Fritid  Normal Dag  Normal Dag  576.666667  21.700000     NaN   \n",
       " 2887             Skole  Normal Dag  Normal Dag  448.000000  22.066667     NaN   \n",
       " 5528            Fritid  Normal Dag  Normal Dag  480.000000  21.600000     NaN   \n",
       " 6281             Skole  Normal Dag  Normal Dag  455.666667  22.333333     NaN   \n",
       " 11999           Fritid  Normal Dag  Normal Dag  514.000000  22.733333     NaN   \n",
       " ...                ...         ...         ...         ...        ...     ...   \n",
       " 1836514          Skole  Normal Dag  Normal Dag  677.000000  22.500000     NaN   \n",
       " 1838305         Fritid  Normal Dag  Normal Dag  611.000000  22.600000     NaN   \n",
       " 1840157         Fritid  Normal Dag  Normal Dag  673.000000  22.233333     NaN   \n",
       " 1840455         Fritid  Normal Dag  Normal Dag  452.000000  21.400000     NaN   \n",
       " 1840802         Fritid  Normal Dag  Normal Dag  451.000000  21.100000     NaN   \n",
       " \n",
       "               IAQ  BOOKET  SKEMALAGT           SKOLE_ID  \n",
       " 1743     0.036667     NaN        NaN  Rønbækskolen_B.04  \n",
       " 2887     0.020000     NaN        NaN  Rønbækskolen_B.04  \n",
       " 5528     0.020000     NaN        NaN  Rønbækskolen_B.04  \n",
       " 6281     0.040000     NaN        NaN  Rønbækskolen_B.04  \n",
       " 11999    0.030000     NaN        NaN  Rønbækskolen_B.04  \n",
       " ...           ...     ...        ...                ...  \n",
       " 1836514  0.030000     NaN        NaN  Rønbækskolen_B.04  \n",
       " 1838305  0.020000     NaN        NaN  Rønbækskolen_B.04  \n",
       " 1840157  0.050000     NaN        NaN  Rønbækskolen_B.04  \n",
       " 1840455  0.020000     NaN        NaN  Rønbækskolen_B.04  \n",
       " 1840802  0.020000     NaN        NaN  Rønbækskolen_B.04  \n",
       " \n",
       " [1291 rows x 16 columns],\n",
       " 'Rønbækskolen_B.07':            ID   KOMMUNE         SKOLE        DATE      TIME  DAYNAME  \\\n",
       " 91       B.07  Favrskov  Rønbækskolen  2023-09-30  19:15:00  Loerdag   \n",
       " 2532     B.07  Favrskov  Rønbækskolen  2023-10-04  09:30:00   Onsdag   \n",
       " 2612     B.07  Favrskov  Rønbækskolen  2023-10-01  11:30:00  Soendag   \n",
       " 2815     B.07  Favrskov  Rønbækskolen  2023-10-08  15:45:00  Soendag   \n",
       " 4142     B.07  Favrskov  Rønbækskolen  2023-09-24  09:45:00  Soendag   \n",
       " ...       ...       ...           ...         ...       ...      ...   \n",
       " 1840299  B.07  Favrskov  Rønbækskolen  2023-10-07  06:00:00  Loerdag   \n",
       " 1840312  B.07  Favrskov  Rønbækskolen  2023-10-09  06:15:00   Mandag   \n",
       " 1840642  B.07  Favrskov  Rønbækskolen  2023-10-05  11:30:00  Torsdag   \n",
       " 1840715  B.07  Favrskov  Rønbækskolen  2023-10-04  18:00:00   Onsdag   \n",
       " 1840789  B.07  Favrskov  Rønbækskolen  2023-09-28  20:45:00  Torsdag   \n",
       " \n",
       "         TIDSPUNKT_TYPE        TYPE        NAVN         CO2       TEMP  MOTION  \\\n",
       " 91              Fritid  Normal Dag  Normal Dag  528.333333  22.866667     NaN   \n",
       " 2532             Skole  Normal Dag  Normal Dag  562.000000  23.400000     NaN   \n",
       " 2612            Fritid  Normal Dag  Normal Dag  482.000000  22.700000     NaN   \n",
       " 2815            Fritid  Normal Dag  Normal Dag  449.000000  21.900000     NaN   \n",
       " 4142            Fritid  Normal Dag  Normal Dag  495.333333  23.633333     NaN   \n",
       " ...                ...         ...         ...         ...        ...     ...   \n",
       " 1840299         Fritid  Normal Dag  Normal Dag  520.000000  22.400000     NaN   \n",
       " 1840312          Skole  Normal Dag  Normal Dag  536.000000  22.200000     NaN   \n",
       " 1840642          Skole  Normal Dag  Normal Dag  962.000000  24.100000     NaN   \n",
       " 1840715         Fritid  Normal Dag  Normal Dag  926.000000  22.800000     NaN   \n",
       " 1840789         Fritid  Normal Dag  Normal Dag  515.666667  23.333333     NaN   \n",
       " \n",
       "           IAQ  BOOKET  SKEMALAGT           SKOLE_ID  \n",
       " 91       0.02     NaN        NaN  Rønbækskolen_B.07  \n",
       " 2532     0.02     NaN        NaN  Rønbækskolen_B.07  \n",
       " 2612     0.02     NaN        NaN  Rønbækskolen_B.07  \n",
       " 2815     0.02     NaN        NaN  Rønbækskolen_B.07  \n",
       " 4142     0.02     NaN        NaN  Rønbækskolen_B.07  \n",
       " ...       ...     ...        ...                ...  \n",
       " 1840299  0.02     NaN        NaN  Rønbækskolen_B.07  \n",
       " 1840312  0.02     NaN        NaN  Rønbækskolen_B.07  \n",
       " 1840642  0.04     NaN        NaN  Rønbækskolen_B.07  \n",
       " 1840715  0.03     NaN        NaN  Rønbækskolen_B.07  \n",
       " 1840789  0.11     NaN        NaN  Rønbækskolen_B.07  \n",
       " \n",
       " [1371 rows x 16 columns],\n",
       " 'Rønbækskolen_B.11':            ID   KOMMUNE         SKOLE        DATE      TIME  DAYNAME  \\\n",
       " 102      B.11  Favrskov  Rønbækskolen  2023-10-08  07:30:00  Soendag   \n",
       " 366      B.11  Favrskov  Rønbækskolen  2023-09-30  01:15:00  Loerdag   \n",
       " 1967     B.11  Favrskov  Rønbækskolen  2023-09-29  02:30:00   Fredag   \n",
       " 4797     B.11  Favrskov  Rønbækskolen  2023-09-29  10:30:00   Fredag   \n",
       " 10573    B.11  Favrskov  Rønbækskolen  2023-10-06  10:15:00   Fredag   \n",
       " ...       ...       ...           ...         ...       ...      ...   \n",
       " 1825878  B.11  Favrskov  Rønbækskolen  2023-09-28  19:15:00  Torsdag   \n",
       " 1829437  B.11  Favrskov  Rønbækskolen  2023-10-09  08:45:00   Mandag   \n",
       " 1835413  B.11  Favrskov  Rønbækskolen  2023-10-07  11:00:00  Loerdag   \n",
       " 1836477  B.11  Favrskov  Rønbækskolen  2023-09-28  12:00:00  Torsdag   \n",
       " 1837943  B.11  Favrskov  Rønbækskolen  2023-09-30  08:45:00  Loerdag   \n",
       " \n",
       "         TIDSPUNKT_TYPE        TYPE        NAVN         CO2  TEMP  MOTION  \\\n",
       " 102             Fritid  Normal Dag  Normal Dag  496.000000  22.4     NaN   \n",
       " 366             Fritid  Normal Dag  Normal Dag  539.000000  23.5     NaN   \n",
       " 1967             Skole  Normal Dag  Normal Dag  466.666667  23.8     NaN   \n",
       " 4797             Skole  Normal Dag  Normal Dag  845.333333  24.4     NaN   \n",
       " 10573            Skole  Normal Dag  Normal Dag  822.000000  23.9     NaN   \n",
       " ...                ...         ...         ...         ...   ...     ...   \n",
       " 1825878         Fritid  Normal Dag  Normal Dag  454.000000  24.2     NaN   \n",
       " 1829437          Skole  Normal Dag  Normal Dag  605.000000  22.9     NaN   \n",
       " 1835413         Fritid  Normal Dag  Normal Dag  524.000000  23.0     NaN   \n",
       " 1836477          Skole  Normal Dag  Normal Dag  572.000000  24.7     NaN   \n",
       " 1837943         Fritid  Normal Dag  Normal Dag  519.000000  24.1     NaN   \n",
       " \n",
       "               IAQ  BOOKET  SKEMALAGT           SKOLE_ID  \n",
       " 102      0.020000     NaN        NaN  Rønbækskolen_B.11  \n",
       " 366      0.043333     NaN        NaN  Rønbækskolen_B.11  \n",
       " 1967     0.020000     NaN        NaN  Rønbækskolen_B.11  \n",
       " 4797     0.086667     NaN        NaN  Rønbækskolen_B.11  \n",
       " 10573    0.040000     NaN        NaN  Rønbækskolen_B.11  \n",
       " ...           ...     ...        ...                ...  \n",
       " 1825878  0.030000     NaN        NaN  Rønbækskolen_B.11  \n",
       " 1829437  0.020000     NaN        NaN  Rønbækskolen_B.11  \n",
       " 1835413  0.030000     NaN        NaN  Rønbækskolen_B.11  \n",
       " 1836477  0.030000     NaN        NaN  Rønbækskolen_B.11  \n",
       " 1837943  0.030000     NaN        NaN  Rønbækskolen_B.11  \n",
       " \n",
       " [1346 rows x 16 columns],\n",
       " 'Rønbækskolen_B.19':            ID   KOMMUNE         SKOLE        DATE      TIME  DAYNAME  \\\n",
       " 2423     B.19  Favrskov  Rønbækskolen  2023-10-01  19:00:00  Soendag   \n",
       " 2614     B.19  Favrskov  Rønbækskolen  2023-10-09  00:15:00   Mandag   \n",
       " 6338     B.19  Favrskov  Rønbækskolen  2023-10-07  06:30:00  Loerdag   \n",
       " 11917    B.19  Favrskov  Rønbækskolen  2023-09-30  15:30:00  Loerdag   \n",
       " 12303    B.19  Favrskov  Rønbækskolen  2023-10-03  16:15:00  Tirsdag   \n",
       " ...       ...       ...           ...         ...       ...      ...   \n",
       " 1834596  B.19  Favrskov  Rønbækskolen  2023-10-09  10:30:00   Mandag   \n",
       " 1834680  B.19  Favrskov  Rønbækskolen  2023-10-02  02:45:00   Mandag   \n",
       " 1835166  B.19  Favrskov  Rønbækskolen  2023-10-04  07:30:00   Onsdag   \n",
       " 1838291  B.19  Favrskov  Rønbækskolen  2023-09-26  06:45:00  Tirsdag   \n",
       " 1841545  B.19  Favrskov  Rønbækskolen  2023-09-29  09:30:00   Fredag   \n",
       " \n",
       "         TIDSPUNKT_TYPE        TYPE        NAVN         CO2       TEMP  MOTION  \\\n",
       " 2423            Fritid  Normal Dag  Normal Dag  426.666667  20.500000     NaN   \n",
       " 2614             Skole  Normal Dag  Normal Dag  498.000000  19.900000     NaN   \n",
       " 6338            Fritid  Normal Dag  Normal Dag  450.000000  20.700000     NaN   \n",
       " 11917           Fritid  Normal Dag  Normal Dag  428.000000  21.166667     NaN   \n",
       " 12303           Fritid  Normal Dag  Normal Dag  466.000000  21.100000     NaN   \n",
       " ...                ...         ...         ...         ...        ...     ...   \n",
       " 1834596          Skole  Normal Dag  Normal Dag  721.000000  20.300000     NaN   \n",
       " 1834680          Skole  Normal Dag  Normal Dag  455.333333  20.500000     NaN   \n",
       " 1835166          Skole  Normal Dag  Normal Dag  626.333333  21.000000     NaN   \n",
       " 1838291          Skole  Normal Dag  Normal Dag  697.666667  21.300000     NaN   \n",
       " 1841545          Skole  Normal Dag  Normal Dag  602.000000  21.900000     NaN   \n",
       " \n",
       "               IAQ  BOOKET  SKEMALAGT           SKOLE_ID  \n",
       " 2423     0.020000     NaN        NaN  Rønbækskolen_B.19  \n",
       " 2614     0.020000     NaN        NaN  Rønbækskolen_B.19  \n",
       " 6338     0.020000     NaN        NaN  Rønbækskolen_B.19  \n",
       " 11917    0.020000     NaN        NaN  Rønbækskolen_B.19  \n",
       " 12303    0.020000     NaN        NaN  Rønbækskolen_B.19  \n",
       " ...           ...     ...        ...                ...  \n",
       " 1834596  0.350000     NaN        NaN  Rønbækskolen_B.19  \n",
       " 1834680  0.086667     NaN        NaN  Rønbækskolen_B.19  \n",
       " 1835166  0.043333     NaN        NaN  Rønbækskolen_B.19  \n",
       " 1838291  0.030000     NaN        NaN  Rønbækskolen_B.19  \n",
       " 1841545  0.020000     NaN        NaN  Rønbækskolen_B.19  \n",
       " \n",
       " [1283 rows x 16 columns],\n",
       " 'Rønbækskolen_B.21':            ID   KOMMUNE         SKOLE        DATE      TIME  DAYNAME  \\\n",
       " 531      B.21  Favrskov  Rønbækskolen  2023-10-03  22:30:00  Tirsdag   \n",
       " 1385     B.21  Favrskov  Rønbækskolen  2023-09-28  11:30:00  Torsdag   \n",
       " 1704     B.21  Favrskov  Rønbækskolen  2023-10-01  15:15:00  Soendag   \n",
       " 6764     B.21  Favrskov  Rønbækskolen  2023-09-29  04:45:00   Fredag   \n",
       " 8317     B.21  Favrskov  Rønbækskolen  2023-09-23  11:30:00  Loerdag   \n",
       " ...       ...       ...           ...         ...       ...      ...   \n",
       " 1835224  B.21  Favrskov  Rønbækskolen  2023-09-25  22:45:00   Mandag   \n",
       " 1836916  B.21  Favrskov  Rønbækskolen  2023-09-27  21:00:00   Onsdag   \n",
       " 1837951  B.21  Favrskov  Rønbækskolen  2023-10-08  05:30:00  Soendag   \n",
       " 1839046  B.21  Favrskov  Rønbækskolen  2023-09-25  10:00:00   Mandag   \n",
       " 1842011  B.21  Favrskov  Rønbækskolen  2023-10-09  20:30:00   Mandag   \n",
       " \n",
       "         TIDSPUNKT_TYPE        TYPE        NAVN         CO2   TEMP  MOTION  \\\n",
       " 531             Fritid  Normal Dag  Normal Dag  529.000000  23.90     NaN   \n",
       " 1385             Skole  Normal Dag  Normal Dag  423.666667  24.40     NaN   \n",
       " 1704            Fritid  Normal Dag  Normal Dag  449.333333  23.70     NaN   \n",
       " 6764             Skole  Normal Dag  Normal Dag  429.500000  24.25     NaN   \n",
       " 8317            Fritid  Normal Dag  Normal Dag  465.000000  24.70     NaN   \n",
       " ...                ...         ...         ...         ...    ...     ...   \n",
       " 1835224         Fritid  Normal Dag  Normal Dag  470.666667  24.20     NaN   \n",
       " 1836916         Fritid  Normal Dag  Normal Dag  605.000000  24.40     NaN   \n",
       " 1837951         Fritid  Normal Dag  Normal Dag  461.000000  23.10     NaN   \n",
       " 1839046          Skole  Normal Dag  Normal Dag  489.000000  24.20     NaN   \n",
       " 1842011         Fritid  Normal Dag  Normal Dag  519.000000  23.20     NaN   \n",
       " \n",
       "               IAQ  BOOKET  SKEMALAGT           SKOLE_ID  \n",
       " 531      0.100000     NaN        NaN  Rønbækskolen_B.21  \n",
       " 1385     0.040000     NaN        NaN  Rønbækskolen_B.21  \n",
       " 1704     0.020000     NaN        NaN  Rønbækskolen_B.21  \n",
       " 6764     0.020000     NaN        NaN  Rønbækskolen_B.21  \n",
       " 8317     0.020000     NaN        NaN  Rønbækskolen_B.21  \n",
       " ...           ...     ...        ...                ...  \n",
       " 1835224  0.073333     NaN        NaN  Rønbækskolen_B.21  \n",
       " 1836916  0.040000     NaN        NaN  Rønbækskolen_B.21  \n",
       " 1837951  0.020000     NaN        NaN  Rønbækskolen_B.21  \n",
       " 1839046  0.020000     NaN        NaN  Rønbækskolen_B.21  \n",
       " 1842011  0.040000     NaN        NaN  Rønbækskolen_B.21  \n",
       " \n",
       " [1218 rows x 16 columns],\n",
       " 'Rønbækskolen_B.22':            ID   KOMMUNE         SKOLE        DATE      TIME  DAYNAME  \\\n",
       " 7036     B.22  Favrskov  Rønbækskolen  2023-09-23  07:45:00  Loerdag   \n",
       " 7764     B.22  Favrskov  Rønbækskolen  2023-10-07  23:15:00  Loerdag   \n",
       " 8182     B.22  Favrskov  Rønbækskolen  2023-09-22  22:00:00   Fredag   \n",
       " 9117     B.22  Favrskov  Rønbækskolen  2023-10-02  17:45:00   Mandag   \n",
       " 10676    B.22  Favrskov  Rønbækskolen  2023-10-09  09:15:00   Mandag   \n",
       " ...       ...       ...           ...         ...       ...      ...   \n",
       " 1836921  B.22  Favrskov  Rønbækskolen  2023-09-23  20:30:00  Loerdag   \n",
       " 1838607  B.22  Favrskov  Rønbækskolen  2023-09-25  20:30:00   Mandag   \n",
       " 1838973  B.22  Favrskov  Rønbækskolen  2023-10-05  09:45:00  Torsdag   \n",
       " 1839670  B.22  Favrskov  Rønbækskolen  2023-10-05  21:30:00  Torsdag   \n",
       " 1841385  B.22  Favrskov  Rønbækskolen  2023-10-08  17:30:00  Soendag   \n",
       " \n",
       "         TIDSPUNKT_TYPE        TYPE        NAVN    CO2  TEMP  MOTION       IAQ  \\\n",
       " 7036            Fritid  Normal Dag  Normal Dag  571.0  24.6     NaN  0.466667   \n",
       " 7764            Fritid  Normal Dag  Normal Dag  482.0  23.3     NaN  0.020000   \n",
       " 8182            Fritid  Normal Dag  Normal Dag  562.0  25.0     NaN  0.420000   \n",
       " 9117            Fritid  Normal Dag  Normal Dag  534.0  24.3     NaN  0.380000   \n",
       " 10676            Skole  Normal Dag  Normal Dag  631.0  23.7     NaN  0.030000   \n",
       " ...                ...         ...         ...    ...   ...     ...       ...   \n",
       " 1836921         Fritid  Normal Dag  Normal Dag  558.5  24.6     NaN  0.340000   \n",
       " 1838607         Fritid  Normal Dag  Normal Dag  639.5  24.5     NaN  0.570000   \n",
       " 1838973          Skole  Normal Dag  Normal Dag  617.0  24.7     NaN  1.300000   \n",
       " 1839670         Fritid  Normal Dag  Normal Dag  533.0  23.9     NaN  0.040000   \n",
       " 1841385         Fritid  Normal Dag  Normal Dag  539.0  23.2     NaN  0.020000   \n",
       " \n",
       "          BOOKET  SKEMALAGT           SKOLE_ID  \n",
       " 7036        NaN        NaN  Rønbækskolen_B.22  \n",
       " 7764        NaN        NaN  Rønbækskolen_B.22  \n",
       " 8182        NaN        NaN  Rønbækskolen_B.22  \n",
       " 9117        NaN        NaN  Rønbækskolen_B.22  \n",
       " 10676       NaN        NaN  Rønbækskolen_B.22  \n",
       " ...         ...        ...                ...  \n",
       " 1836921     NaN        NaN  Rønbækskolen_B.22  \n",
       " 1838607     NaN        NaN  Rønbækskolen_B.22  \n",
       " 1838973     NaN        NaN  Rønbækskolen_B.22  \n",
       " 1839670     NaN        NaN  Rønbækskolen_B.22  \n",
       " 1841385     NaN        NaN  Rønbækskolen_B.22  \n",
       " \n",
       " [1132 rows x 16 columns],\n",
       " 'Rønbækskolen_B.26':            ID   KOMMUNE         SKOLE        DATE      TIME  DAYNAME  \\\n",
       " 538      B.26  Favrskov  Rønbækskolen  2023-09-25  17:45:00   Mandag   \n",
       " 575      B.26  Favrskov  Rønbækskolen  2023-09-29  02:30:00   Fredag   \n",
       " 2744     B.26  Favrskov  Rønbækskolen  2023-10-03  07:00:00  Tirsdag   \n",
       " 8631     B.26  Favrskov  Rønbækskolen  2023-09-22  02:30:00   Fredag   \n",
       " 8642     B.26  Favrskov  Rønbækskolen  2023-09-23  11:45:00  Loerdag   \n",
       " ...       ...       ...           ...         ...       ...      ...   \n",
       " 1834686  B.26  Favrskov  Rønbækskolen  2023-10-10  11:45:00  Tirsdag   \n",
       " 1834900  B.26  Favrskov  Rønbækskolen  2023-09-26  00:00:00  Tirsdag   \n",
       " 1836019  B.26  Favrskov  Rønbækskolen  2023-10-02  22:15:00   Mandag   \n",
       " 1836243  B.26  Favrskov  Rønbækskolen  2023-09-25  04:30:00   Mandag   \n",
       " 1836628  B.26  Favrskov  Rønbækskolen  2023-10-04  17:30:00   Onsdag   \n",
       " \n",
       "         TIDSPUNKT_TYPE        TYPE        NAVN         CO2       TEMP  MOTION  \\\n",
       " 538             Fritid  Normal Dag  Normal Dag  557.000000  24.900000     NaN   \n",
       " 575              Skole  Normal Dag  Normal Dag  446.000000  23.500000     NaN   \n",
       " 2744             Skole  Normal Dag  Normal Dag  458.333333  23.300000     NaN   \n",
       " 8631             Skole  Normal Dag  Normal Dag  499.666667  24.500000     NaN   \n",
       " 8642            Fritid  Normal Dag  Normal Dag  501.666667  24.500000     NaN   \n",
       " ...                ...         ...         ...         ...        ...     ...   \n",
       " 1834686          Skole  Normal Dag  Normal Dag  418.000000  22.100000     NaN   \n",
       " 1834900          Skole  Normal Dag  Normal Dag  531.666667  24.266667     NaN   \n",
       " 1836019         Fritid  Normal Dag  Normal Dag  556.666667  23.900000     NaN   \n",
       " 1836243          Skole  Normal Dag  Normal Dag  449.333333  23.066667     NaN   \n",
       " 1836628         Fritid  Normal Dag  Normal Dag  696.000000  23.800000     NaN   \n",
       " \n",
       "               IAQ  BOOKET  SKEMALAGT           SKOLE_ID  \n",
       " 538      0.150000     NaN        NaN  Rønbækskolen_B.26  \n",
       " 575      0.020000     NaN        NaN  Rønbækskolen_B.26  \n",
       " 2744     0.020000     NaN        NaN  Rønbækskolen_B.26  \n",
       " 8631     0.020000     NaN        NaN  Rønbækskolen_B.26  \n",
       " 8642     0.120000     NaN        NaN  Rønbækskolen_B.26  \n",
       " ...           ...     ...        ...                ...  \n",
       " 1834686  0.030000     NaN        NaN  Rønbækskolen_B.26  \n",
       " 1834900  0.040000     NaN        NaN  Rønbækskolen_B.26  \n",
       " 1836019  0.043333     NaN        NaN  Rønbækskolen_B.26  \n",
       " 1836243  0.020000     NaN        NaN  Rønbækskolen_B.26  \n",
       " 1836628  0.070000     NaN        NaN  Rønbækskolen_B.26  \n",
       " \n",
       " [1127 rows x 16 columns],\n",
       " 'Rønbækskolen_B.31':            ID   KOMMUNE         SKOLE        DATE      TIME  DAYNAME  \\\n",
       " 75       B.31  Favrskov  Rønbækskolen  2023-09-28  09:45:00  Torsdag   \n",
       " 8992     B.31  Favrskov  Rønbækskolen  2023-09-27  17:45:00   Onsdag   \n",
       " 14320    B.31  Favrskov  Rønbækskolen  2023-10-02  09:15:00   Mandag   \n",
       " 16703    B.31  Favrskov  Rønbækskolen  2023-10-01  09:45:00  Soendag   \n",
       " 17690    B.31  Favrskov  Rønbækskolen  2023-09-22  15:00:00   Fredag   \n",
       " ...       ...       ...           ...         ...       ...      ...   \n",
       " 1833532  B.31  Favrskov  Rønbækskolen  2023-10-08  12:00:00  Soendag   \n",
       " 1834055  B.31  Favrskov  Rønbækskolen  2023-10-06  01:30:00   Fredag   \n",
       " 1834750  B.31  Favrskov  Rønbækskolen  2023-09-27  18:15:00   Onsdag   \n",
       " 1835298  B.31  Favrskov  Rønbækskolen  2023-10-09  20:30:00   Mandag   \n",
       " 1841211  B.31  Favrskov  Rønbækskolen  2023-10-10  22:30:00  Tirsdag   \n",
       " \n",
       "         TIDSPUNKT_TYPE        TYPE        NAVN         CO2  TEMP  MOTION  \\\n",
       " 75               Skole  Normal Dag  Normal Dag  470.666667  25.6     NaN   \n",
       " 8992            Fritid  Normal Dag  Normal Dag  558.000000  25.6     NaN   \n",
       " 14320            Skole  Normal Dag  Normal Dag  432.666667  24.9     NaN   \n",
       " 16703           Fritid  Normal Dag  Normal Dag  430.333333  25.1     NaN   \n",
       " 17690            Skole  Normal Dag  Normal Dag  413.000000  26.2     NaN   \n",
       " ...                ...         ...         ...         ...   ...     ...   \n",
       " 1833532         Fritid  Normal Dag  Normal Dag  449.000000  24.6     NaN   \n",
       " 1834055          Skole  Normal Dag  Normal Dag  467.000000  24.8     NaN   \n",
       " 1834750         Fritid  Normal Dag  Normal Dag  571.333333  25.6     NaN   \n",
       " 1835298         Fritid  Normal Dag  Normal Dag  513.000000  24.5     NaN   \n",
       " 1841211         Fritid  Normal Dag  Normal Dag  454.000000  24.1     NaN   \n",
       " \n",
       "               IAQ  BOOKET  SKEMALAGT           SKOLE_ID  \n",
       " 75       0.040000     NaN        NaN  Rønbækskolen_B.31  \n",
       " 8992     0.070000     NaN        NaN  Rønbækskolen_B.31  \n",
       " 14320    0.020000     NaN        NaN  Rønbækskolen_B.31  \n",
       " 16703    0.020000     NaN        NaN  Rønbækskolen_B.31  \n",
       " 17690    0.046667     NaN        NaN  Rønbækskolen_B.31  \n",
       " ...           ...     ...        ...                ...  \n",
       " 1833532  0.020000     NaN        NaN  Rønbækskolen_B.31  \n",
       " 1834055  0.040000     NaN        NaN  Rønbækskolen_B.31  \n",
       " 1834750  0.070000     NaN        NaN  Rønbækskolen_B.31  \n",
       " 1835298  0.060000     NaN        NaN  Rønbækskolen_B.31  \n",
       " 1841211  0.050000     NaN        NaN  Rønbækskolen_B.31  \n",
       " \n",
       " [1195 rows x 16 columns],\n",
       " 'Rønbækskolen_B.32':            ID   KOMMUNE         SKOLE        DATE      TIME  DAYNAME  \\\n",
       " 2520     B.32  Favrskov  Rønbækskolen  2023-10-02  00:45:00   Mandag   \n",
       " 5555     B.32  Favrskov  Rønbækskolen  2023-10-03  14:00:00  Tirsdag   \n",
       " 5593     B.32  Favrskov  Rønbækskolen  2023-10-07  09:00:00  Loerdag   \n",
       " 5744     B.32  Favrskov  Rønbækskolen  2023-09-25  13:00:00   Mandag   \n",
       " 5909     B.32  Favrskov  Rønbækskolen  2023-09-28  03:15:00  Torsdag   \n",
       " ...       ...       ...           ...         ...       ...      ...   \n",
       " 1837957  B.32  Favrskov  Rønbækskolen  2023-09-25  01:30:00   Mandag   \n",
       " 1839638  B.32  Favrskov  Rønbækskolen  2023-10-03  14:30:00  Tirsdag   \n",
       " 1840975  B.32  Favrskov  Rønbækskolen  2023-09-29  18:00:00   Fredag   \n",
       " 1840985  B.32  Favrskov  Rønbækskolen  2023-09-22  15:15:00   Fredag   \n",
       " 1841757  B.32  Favrskov  Rønbækskolen  2023-09-24  03:15:00  Soendag   \n",
       " \n",
       "         TIDSPUNKT_TYPE        TYPE        NAVN         CO2       TEMP  MOTION  \\\n",
       " 2520             Skole  Normal Dag  Normal Dag  424.666667  23.900000     NaN   \n",
       " 5555             Skole  Normal Dag  Normal Dag  394.000000  23.800000     NaN   \n",
       " 5593            Fritid  Normal Dag  Normal Dag  471.000000  23.900000     NaN   \n",
       " 5744             Skole  Normal Dag  Normal Dag  437.000000  24.100000     NaN   \n",
       " 5909             Skole  Normal Dag  Normal Dag  425.000000  23.900000     NaN   \n",
       " ...                ...         ...         ...         ...        ...     ...   \n",
       " 1837957          Skole  Normal Dag  Normal Dag  417.000000  24.166667     NaN   \n",
       " 1839638          Skole  Normal Dag  Normal Dag  395.000000  23.800000     NaN   \n",
       " 1840975         Fritid  Normal Dag  Normal Dag  478.000000  24.700000     NaN   \n",
       " 1840985          Skole  Normal Dag  Normal Dag  421.500000  25.200000     NaN   \n",
       " 1841757         Fritid  Normal Dag  Normal Dag  440.000000  24.500000     NaN   \n",
       " \n",
       "               IAQ  BOOKET  SKEMALAGT           SKOLE_ID  \n",
       " 2520     0.020000     NaN        NaN  Rønbækskolen_B.32  \n",
       " 5555     0.033333     NaN        NaN  Rønbækskolen_B.32  \n",
       " 5593     0.030000     NaN        NaN  Rønbækskolen_B.32  \n",
       " 5744     0.030000     NaN        NaN  Rønbækskolen_B.32  \n",
       " 5909     0.020000     NaN        NaN  Rønbækskolen_B.32  \n",
       " ...           ...     ...        ...                ...  \n",
       " 1837957  0.020000     NaN        NaN  Rønbækskolen_B.32  \n",
       " 1839638  0.040000     NaN        NaN  Rønbækskolen_B.32  \n",
       " 1840975  0.290000     NaN        NaN  Rønbækskolen_B.32  \n",
       " 1840985  0.110000     NaN        NaN  Rønbækskolen_B.32  \n",
       " 1841757  0.020000     NaN        NaN  Rønbækskolen_B.32  \n",
       " \n",
       " [996 rows x 16 columns],\n",
       " 'Rønbækskolen_B.33':            ID   KOMMUNE         SKOLE        DATE      TIME  DAYNAME  \\\n",
       " 1430     B.33  Favrskov  Rønbækskolen  2023-10-05  16:15:00  Torsdag   \n",
       " 4929     B.33  Favrskov  Rønbækskolen  2023-10-07  18:30:00  Loerdag   \n",
       " 7274     B.33  Favrskov  Rønbækskolen  2023-09-28  07:00:00  Torsdag   \n",
       " 10114    B.33  Favrskov  Rønbækskolen  2023-09-23  19:30:00  Loerdag   \n",
       " 10212    B.33  Favrskov  Rønbækskolen  2023-09-29  02:30:00   Fredag   \n",
       " ...       ...       ...           ...         ...       ...      ...   \n",
       " 1837686  B.33  Favrskov  Rønbækskolen  2023-09-29  07:00:00   Fredag   \n",
       " 1838570  B.33  Favrskov  Rønbækskolen  2023-10-06  08:30:00   Fredag   \n",
       " 1839321  B.33  Favrskov  Rønbækskolen  2023-10-03  20:45:00  Tirsdag   \n",
       " 1840833  B.33  Favrskov  Rønbækskolen  2023-10-10  16:15:00  Tirsdag   \n",
       " 1842088  B.33  Favrskov  Rønbækskolen  2023-10-11  05:00:00   Onsdag   \n",
       " \n",
       "         TIDSPUNKT_TYPE        TYPE        NAVN         CO2       TEMP  MOTION  \\\n",
       " 1430            Fritid  Normal Dag  Normal Dag  403.000000  23.200000     NaN   \n",
       " 4929            Fritid  Normal Dag  Normal Dag  444.000000  23.300000     NaN   \n",
       " 7274             Skole  Normal Dag  Normal Dag  473.000000  23.500000     NaN   \n",
       " 10114           Fritid  Normal Dag  Normal Dag  477.000000  24.500000     NaN   \n",
       " 10212            Skole  Normal Dag  Normal Dag  422.000000  23.200000     NaN   \n",
       " ...                ...         ...         ...         ...        ...     ...   \n",
       " 1837686          Skole  Normal Dag  Normal Dag  468.333333  23.466667     NaN   \n",
       " 1838570          Skole  Normal Dag  Normal Dag  739.000000  23.600000     NaN   \n",
       " 1839321         Fritid  Normal Dag  Normal Dag  505.000000  23.300000     NaN   \n",
       " 1840833         Fritid  Normal Dag  Normal Dag  437.000000  22.200000     NaN   \n",
       " 1842088          Skole  Normal Dag  Normal Dag  502.000000  22.400000     NaN   \n",
       " \n",
       "           IAQ  BOOKET  SKEMALAGT           SKOLE_ID  \n",
       " 1430     0.03     NaN        NaN  Rønbækskolen_B.33  \n",
       " 4929     0.02     NaN        NaN  Rønbækskolen_B.33  \n",
       " 7274     0.11     NaN        NaN  Rønbækskolen_B.33  \n",
       " 10114    0.03     NaN        NaN  Rønbækskolen_B.33  \n",
       " 10212    0.02     NaN        NaN  Rønbækskolen_B.33  \n",
       " ...       ...     ...        ...                ...  \n",
       " 1837686  0.13     NaN        NaN  Rønbækskolen_B.33  \n",
       " 1838570  0.04     NaN        NaN  Rønbækskolen_B.33  \n",
       " 1839321  0.03     NaN        NaN  Rønbækskolen_B.33  \n",
       " 1840833  0.03     NaN        NaN  Rønbækskolen_B.33  \n",
       " 1842088  0.04     NaN        NaN  Rønbækskolen_B.33  \n",
       " \n",
       " [1097 rows x 16 columns],\n",
       " 'Rønbækskolen_B.42':            ID   KOMMUNE         SKOLE        DATE      TIME  DAYNAME  \\\n",
       " 1349     B.42  Favrskov  Rønbækskolen  2023-10-04  11:15:00   Onsdag   \n",
       " 1870     B.42  Favrskov  Rønbækskolen  2023-09-22  14:15:00   Fredag   \n",
       " 2524     B.42  Favrskov  Rønbækskolen  2023-10-03  13:00:00  Tirsdag   \n",
       " 3511     B.42  Favrskov  Rønbækskolen  2023-10-04  22:45:00   Onsdag   \n",
       " 3721     B.42  Favrskov  Rønbækskolen  2023-09-25  17:45:00   Mandag   \n",
       " ...       ...       ...           ...         ...       ...      ...   \n",
       " 1828309  B.42  Favrskov  Rønbækskolen  2023-09-24  02:15:00  Soendag   \n",
       " 1830050  B.42  Favrskov  Rønbækskolen  2023-09-24  02:30:00  Soendag   \n",
       " 1831671  B.42  Favrskov  Rønbækskolen  2023-10-02  09:30:00   Mandag   \n",
       " 1837852  B.42  Favrskov  Rønbækskolen  2023-09-23  07:00:00  Loerdag   \n",
       " 1839749  B.42  Favrskov  Rønbækskolen  2023-10-01  01:00:00  Soendag   \n",
       " \n",
       "         TIDSPUNKT_TYPE        TYPE        NAVN         CO2       TEMP  MOTION  \\\n",
       " 1349             Skole  Normal Dag  Normal Dag  508.000000  20.800000     NaN   \n",
       " 1870             Skole  Normal Dag  Normal Dag  544.666667  22.433333     NaN   \n",
       " 2524             Skole  Normal Dag  Normal Dag  612.666667  21.200000     NaN   \n",
       " 3511            Fritid  Normal Dag  Normal Dag  771.666667  20.266667     NaN   \n",
       " 3721            Fritid  Normal Dag  Normal Dag  717.000000  21.600000     NaN   \n",
       " ...                ...         ...         ...         ...        ...     ...   \n",
       " 1828309         Fritid  Normal Dag  Normal Dag  506.333333  21.100000     NaN   \n",
       " 1830050         Fritid  Normal Dag  Normal Dag  487.333333  21.100000     NaN   \n",
       " 1831671          Skole  Normal Dag  Normal Dag  588.666667  20.700000     NaN   \n",
       " 1837852         Fritid  Normal Dag  Normal Dag  563.666667  21.600000     NaN   \n",
       " 1839749         Fritid  Normal Dag  Normal Dag  389.000000  19.800000     NaN   \n",
       " \n",
       "           IAQ  BOOKET  SKEMALAGT           SKOLE_ID  \n",
       " 1349     0.02     NaN        NaN  Rønbækskolen_B.42  \n",
       " 1870     0.02     NaN        NaN  Rønbækskolen_B.42  \n",
       " 2524     0.02     NaN        NaN  Rønbækskolen_B.42  \n",
       " 3511     0.04     NaN        NaN  Rønbækskolen_B.42  \n",
       " 3721     0.04     NaN        NaN  Rønbækskolen_B.42  \n",
       " ...       ...     ...        ...                ...  \n",
       " 1828309  0.02     NaN        NaN  Rønbækskolen_B.42  \n",
       " 1830050  0.02     NaN        NaN  Rønbækskolen_B.42  \n",
       " 1831671  0.04     NaN        NaN  Rønbækskolen_B.42  \n",
       " 1837852  0.02     NaN        NaN  Rønbækskolen_B.42  \n",
       " 1839749  0.02     NaN        NaN  Rønbækskolen_B.42  \n",
       " \n",
       " [1037 rows x 16 columns],\n",
       " 'Rønbækskolen_B.46':            ID   KOMMUNE         SKOLE        DATE      TIME  DAYNAME  \\\n",
       " 914      B.46  Favrskov  Rønbækskolen  2023-09-22  17:15:00   Fredag   \n",
       " 1219     B.46  Favrskov  Rønbækskolen  2023-10-02  23:15:00   Mandag   \n",
       " 1318     B.46  Favrskov  Rønbækskolen  2023-10-02  10:00:00   Mandag   \n",
       " 9908     B.46  Favrskov  Rønbækskolen  2023-09-23  15:15:00  Loerdag   \n",
       " 13319    B.46  Favrskov  Rønbækskolen  2023-09-23  11:15:00  Loerdag   \n",
       " ...       ...       ...           ...         ...       ...      ...   \n",
       " 1825120  B.46  Favrskov  Rønbækskolen  2023-10-11  00:45:00   Onsdag   \n",
       " 1830363  B.46  Favrskov  Rønbækskolen  2023-09-25  19:45:00   Mandag   \n",
       " 1831911  B.46  Favrskov  Rønbækskolen  2023-09-24  18:45:00  Soendag   \n",
       " 1832742  B.46  Favrskov  Rønbækskolen  2023-10-08  22:00:00  Soendag   \n",
       " 1841996  B.46  Favrskov  Rønbækskolen  2023-10-07  00:45:00  Loerdag   \n",
       " \n",
       "         TIDSPUNKT_TYPE        TYPE        NAVN         CO2       TEMP  MOTION  \\\n",
       " 914             Fritid  Normal Dag  Normal Dag  607.500000  23.900000     NaN   \n",
       " 1219            Fritid  Normal Dag  Normal Dag  998.500000  21.600000     NaN   \n",
       " 1318             Skole  Normal Dag  Normal Dag  489.000000  21.500000     NaN   \n",
       " 9908            Fritid  Normal Dag  Normal Dag  488.666667  24.133333     NaN   \n",
       " 13319           Fritid  Normal Dag  Normal Dag  507.666667  23.100000     NaN   \n",
       " ...                ...         ...         ...         ...        ...     ...   \n",
       " 1825120          Skole  Normal Dag  Normal Dag  584.000000  20.800000     NaN   \n",
       " 1830363         Fritid  Normal Dag  Normal Dag  594.000000  23.200000     NaN   \n",
       " 1831911         Fritid  Normal Dag  Normal Dag  455.000000  23.100000     NaN   \n",
       " 1832742         Fritid  Normal Dag  Normal Dag  444.500000  20.700000     NaN   \n",
       " 1841996         Fritid  Normal Dag  Normal Dag  388.000000  21.800000     NaN   \n",
       " \n",
       "            IAQ  BOOKET  SKEMALAGT           SKOLE_ID  \n",
       " 914      0.045     NaN        NaN  Rønbækskolen_B.46  \n",
       " 1219     0.030     NaN        NaN  Rønbækskolen_B.46  \n",
       " 1318     0.020     NaN        NaN  Rønbækskolen_B.46  \n",
       " 9908     0.020     NaN        NaN  Rønbækskolen_B.46  \n",
       " 13319    0.020     NaN        NaN  Rønbækskolen_B.46  \n",
       " ...        ...     ...        ...                ...  \n",
       " 1825120  0.030     NaN        NaN  Rønbækskolen_B.46  \n",
       " 1830363  0.030     NaN        NaN  Rønbækskolen_B.46  \n",
       " 1831911  0.020     NaN        NaN  Rønbækskolen_B.46  \n",
       " 1832742  0.030     NaN        NaN  Rønbækskolen_B.46  \n",
       " 1841996  0.020     NaN        NaN  Rønbækskolen_B.46  \n",
       " \n",
       " [1171 rows x 16 columns],\n",
       " 'Rønbækskolen_B.48':            ID   KOMMUNE         SKOLE        DATE      TIME  DAYNAME  \\\n",
       " 2323     B.48  Favrskov  Rønbækskolen  2023-09-25  07:00:00   Mandag   \n",
       " 6602     B.48  Favrskov  Rønbækskolen  2023-09-26  23:00:00  Tirsdag   \n",
       " 9644     B.48  Favrskov  Rønbækskolen  2023-10-03  21:45:00  Tirsdag   \n",
       " 10339    B.48  Favrskov  Rønbækskolen  2023-10-04  01:45:00   Onsdag   \n",
       " 11482    B.48  Favrskov  Rønbækskolen  2023-10-05  05:30:00  Torsdag   \n",
       " ...       ...       ...           ...         ...       ...      ...   \n",
       " 1834050  B.48  Favrskov  Rønbækskolen  2023-10-05  14:00:00  Torsdag   \n",
       " 1836513  B.48  Favrskov  Rønbækskolen  2023-10-04  09:45:00   Onsdag   \n",
       " 1838739  B.48  Favrskov  Rønbækskolen  2023-09-26  13:00:00  Tirsdag   \n",
       " 1839243  B.48  Favrskov  Rønbækskolen  2023-09-26  11:30:00  Tirsdag   \n",
       " 1842019  B.48  Favrskov  Rønbækskolen  2023-09-23  00:30:00  Loerdag   \n",
       " \n",
       "         TIDSPUNKT_TYPE        TYPE        NAVN         CO2       TEMP  MOTION  \\\n",
       " 2323             Skole  Normal Dag  Normal Dag  450.000000  22.666667     NaN   \n",
       " 6602            Fritid  Normal Dag  Normal Dag  519.000000  23.000000     NaN   \n",
       " 9644            Fritid  Normal Dag  Normal Dag  490.333333  21.800000     NaN   \n",
       " 10339            Skole  Normal Dag  Normal Dag  460.666667  21.800000     NaN   \n",
       " 11482            Skole  Normal Dag  Normal Dag  687.500000  22.400000     NaN   \n",
       " ...                ...         ...         ...         ...        ...     ...   \n",
       " 1834050          Skole  Normal Dag  Normal Dag  500.000000  23.400000     NaN   \n",
       " 1836513          Skole  Normal Dag  Normal Dag  692.000000  22.400000     NaN   \n",
       " 1838739          Skole  Normal Dag  Normal Dag  714.000000  23.466667     NaN   \n",
       " 1839243          Skole  Normal Dag  Normal Dag  514.000000  23.100000     NaN   \n",
       " 1842019         Fritid  Normal Dag  Normal Dag  514.000000  23.300000     NaN   \n",
       " \n",
       "               IAQ  BOOKET  SKEMALAGT           SKOLE_ID  \n",
       " 2323     0.026667     NaN        NaN  Rønbækskolen_B.48  \n",
       " 6602     0.040000     NaN        NaN  Rønbækskolen_B.48  \n",
       " 9644     0.023333     NaN        NaN  Rønbækskolen_B.48  \n",
       " 10339    0.020000     NaN        NaN  Rønbækskolen_B.48  \n",
       " 11482    0.030000     NaN        NaN  Rønbækskolen_B.48  \n",
       " ...           ...     ...        ...                ...  \n",
       " 1834050  0.020000     NaN        NaN  Rønbækskolen_B.48  \n",
       " 1836513  0.080000     NaN        NaN  Rønbækskolen_B.48  \n",
       " 1838739  0.030000     NaN        NaN  Rønbækskolen_B.48  \n",
       " 1839243  0.040000     NaN        NaN  Rønbækskolen_B.48  \n",
       " 1842019  0.020000     NaN        NaN  Rønbækskolen_B.48  \n",
       " \n",
       " [993 rows x 16 columns],\n",
       " 'Rønbækskolen_B.50':            ID   KOMMUNE         SKOLE        DATE      TIME  DAYNAME  \\\n",
       " 941      B.50  Favrskov  Rønbækskolen  2023-10-02  15:45:00   Mandag   \n",
       " 1565     B.50  Favrskov  Rønbækskolen  2023-09-29  11:30:00   Fredag   \n",
       " 2126     B.50  Favrskov  Rønbækskolen  2023-10-02  15:15:00   Mandag   \n",
       " 2632     B.50  Favrskov  Rønbækskolen  2023-09-23  17:15:00  Loerdag   \n",
       " 2917     B.50  Favrskov  Rønbækskolen  2023-09-23  07:30:00  Loerdag   \n",
       " ...       ...       ...           ...         ...       ...      ...   \n",
       " 1835750  B.50  Favrskov  Rønbækskolen  2023-10-06  09:15:00   Fredag   \n",
       " 1837271  B.50  Favrskov  Rønbækskolen  2023-09-23  17:30:00  Loerdag   \n",
       " 1837693  B.50  Favrskov  Rønbækskolen  2023-10-04  14:15:00   Onsdag   \n",
       " 1838999  B.50  Favrskov  Rønbækskolen  2023-10-10  06:30:00  Tirsdag   \n",
       " 1841319  B.50  Favrskov  Rønbækskolen  2023-10-03  23:30:00  Tirsdag   \n",
       " \n",
       "         TIDSPUNKT_TYPE        TYPE        NAVN          CO2  TEMP  MOTION  \\\n",
       " 941              Skole  Normal Dag  Normal Dag   666.666667  22.3     NaN   \n",
       " 1565             Skole  Normal Dag  Normal Dag   424.666667  22.8     NaN   \n",
       " 2126             Skole  Normal Dag  Normal Dag   668.666667  22.3     NaN   \n",
       " 2632            Fritid  Normal Dag  Normal Dag   469.000000  23.9     NaN   \n",
       " 2917            Fritid  Normal Dag  Normal Dag   507.500000  23.0     NaN   \n",
       " ...                ...         ...         ...          ...   ...     ...   \n",
       " 1835750          Skole  Normal Dag  Normal Dag   560.000000  23.1     NaN   \n",
       " 1837271         Fritid  Normal Dag  Normal Dag   457.333333  23.8     NaN   \n",
       " 1837693          Skole  Normal Dag  Normal Dag  1247.666667  23.5     NaN   \n",
       " 1838999          Skole  Normal Dag  Normal Dag   607.000000  21.9     NaN   \n",
       " 1841319         Fritid  Normal Dag  Normal Dag   521.500000  21.9     NaN   \n",
       " \n",
       "           IAQ  BOOKET  SKEMALAGT           SKOLE_ID  \n",
       " 941      0.03     NaN        NaN  Rønbækskolen_B.50  \n",
       " 1565     0.02     NaN        NaN  Rønbækskolen_B.50  \n",
       " 2126     0.03     NaN        NaN  Rønbækskolen_B.50  \n",
       " 2632     0.03     NaN        NaN  Rønbækskolen_B.50  \n",
       " 2917     0.02     NaN        NaN  Rønbækskolen_B.50  \n",
       " ...       ...     ...        ...                ...  \n",
       " 1835750  0.03     NaN        NaN  Rønbækskolen_B.50  \n",
       " 1837271  0.03     NaN        NaN  Rønbækskolen_B.50  \n",
       " 1837693  0.05     NaN        NaN  Rønbækskolen_B.50  \n",
       " 1838999  0.02     NaN        NaN  Rønbækskolen_B.50  \n",
       " 1841319  0.08     NaN        NaN  Rønbækskolen_B.50  \n",
       " \n",
       " [1336 rows x 16 columns],\n",
       " 'Rønbækskolen_B.54':            ID   KOMMUNE         SKOLE        DATE      TIME  DAYNAME  \\\n",
       " 2244     B.54  Favrskov  Rønbækskolen  2023-09-30  09:15:00  Loerdag   \n",
       " 5071     B.54  Favrskov  Rønbækskolen  2023-10-02  12:00:00   Mandag   \n",
       " 5921     B.54  Favrskov  Rønbækskolen  2023-09-28  22:15:00  Torsdag   \n",
       " 6003     B.54  Favrskov  Rønbækskolen  2023-10-04  19:45:00   Onsdag   \n",
       " 7889     B.54  Favrskov  Rønbækskolen  2023-09-22  13:30:00   Fredag   \n",
       " ...       ...       ...           ...         ...       ...      ...   \n",
       " 1837930  B.54  Favrskov  Rønbækskolen  2023-09-30  03:15:00  Loerdag   \n",
       " 1838740  B.54  Favrskov  Rønbækskolen  2023-10-05  15:00:00  Torsdag   \n",
       " 1840405  B.54  Favrskov  Rønbækskolen  2023-09-26  23:15:00  Tirsdag   \n",
       " 1841290  B.54  Favrskov  Rønbækskolen  2023-09-24  02:30:00  Soendag   \n",
       " 1841744  B.54  Favrskov  Rønbækskolen  2023-09-23  10:15:00  Loerdag   \n",
       " \n",
       "         TIDSPUNKT_TYPE        TYPE        NAVN         CO2       TEMP  MOTION  \\\n",
       " 2244            Fritid  Normal Dag  Normal Dag  457.666667  23.033333     NaN   \n",
       " 5071             Skole  Normal Dag  Normal Dag  533.000000  23.800000     NaN   \n",
       " 5921            Fritid  Normal Dag  Normal Dag  420.666667  23.400000     NaN   \n",
       " 6003            Fritid  Normal Dag  Normal Dag  784.000000  23.400000     NaN   \n",
       " 7889             Skole  Normal Dag  Normal Dag  561.000000  25.100000     NaN   \n",
       " ...                ...         ...         ...         ...        ...     ...   \n",
       " 1837930         Fritid  Normal Dag  Normal Dag  430.000000  22.900000     NaN   \n",
       " 1838740          Skole  Normal Dag  Normal Dag  648.000000  32.600000     NaN   \n",
       " 1840405         Fritid  Normal Dag  Normal Dag  479.000000  23.800000     NaN   \n",
       " 1841290         Fritid  Normal Dag  Normal Dag  457.000000  23.100000     NaN   \n",
       " 1841744         Fritid  Normal Dag  Normal Dag  475.000000  23.400000     NaN   \n",
       " \n",
       "               IAQ  BOOKET  SKEMALAGT           SKOLE_ID  \n",
       " 2244     0.020000     NaN        NaN  Rønbækskolen_B.54  \n",
       " 5071     0.030000     NaN        NaN  Rønbækskolen_B.54  \n",
       " 5921     0.216667     NaN        NaN  Rønbækskolen_B.54  \n",
       " 6003     0.030000     NaN        NaN  Rønbækskolen_B.54  \n",
       " 7889     0.020000     NaN        NaN  Rønbækskolen_B.54  \n",
       " ...           ...     ...        ...                ...  \n",
       " 1837930  0.030000     NaN        NaN  Rønbækskolen_B.54  \n",
       " 1838740  0.060000     NaN        NaN  Rønbækskolen_B.54  \n",
       " 1840405  0.030000     NaN        NaN  Rønbækskolen_B.54  \n",
       " 1841290  0.020000     NaN        NaN  Rønbækskolen_B.54  \n",
       " 1841744  0.020000     NaN        NaN  Rønbækskolen_B.54  \n",
       " \n",
       " [1079 rows x 16 columns],\n",
       " 'Rønbækskolen_B.56':            ID   KOMMUNE         SKOLE        DATE      TIME  DAYNAME  \\\n",
       " 3807     B.56  Favrskov  Rønbækskolen  2023-10-10  15:00:00  Tirsdag   \n",
       " 5310     B.56  Favrskov  Rønbækskolen  2023-10-04  15:15:00   Onsdag   \n",
       " 6316     B.56  Favrskov  Rønbækskolen  2023-09-28  11:00:00  Torsdag   \n",
       " 7303     B.56  Favrskov  Rønbækskolen  2023-10-06  22:30:00   Fredag   \n",
       " 8111     B.56  Favrskov  Rønbækskolen  2023-10-03  04:15:00  Tirsdag   \n",
       " ...       ...       ...           ...         ...       ...      ...   \n",
       " 1835569  B.56  Favrskov  Rønbækskolen  2023-09-25  22:00:00   Mandag   \n",
       " 1838048  B.56  Favrskov  Rønbækskolen  2023-10-03  04:00:00  Tirsdag   \n",
       " 1839813  B.56  Favrskov  Rønbækskolen  2023-09-27  03:15:00   Onsdag   \n",
       " 1841743  B.56  Favrskov  Rønbækskolen  2023-09-24  15:15:00  Soendag   \n",
       " 1841864  B.56  Favrskov  Rønbækskolen  2023-10-09  07:00:00   Mandag   \n",
       " \n",
       "         TIDSPUNKT_TYPE        TYPE        NAVN         CO2  TEMP  MOTION  \\\n",
       " 3807             Skole  Normal Dag  Normal Dag  490.000000  23.4     NaN   \n",
       " 5310             Skole  Normal Dag  Normal Dag  884.000000  24.2     NaN   \n",
       " 6316             Skole  Normal Dag  Normal Dag  413.000000  24.1     NaN   \n",
       " 7303            Fritid  Normal Dag  Normal Dag  431.000000  24.0     NaN   \n",
       " 8111             Skole  Normal Dag  Normal Dag  599.000000  23.5     NaN   \n",
       " ...                ...         ...         ...         ...   ...     ...   \n",
       " 1835569         Fritid  Normal Dag  Normal Dag  515.000000  24.3     NaN   \n",
       " 1838048          Skole  Normal Dag  Normal Dag  584.333333  23.5     NaN   \n",
       " 1839813          Skole  Normal Dag  Normal Dag  456.000000  23.6     NaN   \n",
       " 1841743         Fritid  Normal Dag  Normal Dag  425.000000  24.8     NaN   \n",
       " 1841864          Skole  Normal Dag  Normal Dag  491.000000  22.6     NaN   \n",
       " \n",
       "           IAQ  BOOKET  SKEMALAGT           SKOLE_ID  \n",
       " 3807     0.04     NaN        NaN  Rønbækskolen_B.56  \n",
       " 5310     0.04     NaN        NaN  Rønbækskolen_B.56  \n",
       " 6316     0.06     NaN        NaN  Rønbækskolen_B.56  \n",
       " 7303     0.02     NaN        NaN  Rønbækskolen_B.56  \n",
       " 8111     0.03     NaN        NaN  Rønbækskolen_B.56  \n",
       " ...       ...     ...        ...                ...  \n",
       " 1835569  0.21     NaN        NaN  Rønbækskolen_B.56  \n",
       " 1838048  0.03     NaN        NaN  Rønbækskolen_B.56  \n",
       " 1839813  0.02     NaN        NaN  Rønbækskolen_B.56  \n",
       " 1841743  0.02     NaN        NaN  Rønbækskolen_B.56  \n",
       " 1841864  0.02     NaN        NaN  Rønbækskolen_B.56  \n",
       " \n",
       " [1010 rows x 16 columns],\n",
       " 'Rønbækskolen_B.57':            ID   KOMMUNE         SKOLE        DATE      TIME  DAYNAME  \\\n",
       " 2299     B.57  Favrskov  Rønbækskolen  2023-10-07  13:30:00  Loerdag   \n",
       " 3135     B.57  Favrskov  Rønbækskolen  2023-10-06  20:15:00   Fredag   \n",
       " 3668     B.57  Favrskov  Rønbækskolen  2023-10-03  11:00:00  Tirsdag   \n",
       " 4031     B.57  Favrskov  Rønbækskolen  2023-09-30  03:00:00  Loerdag   \n",
       " 4180     B.57  Favrskov  Rønbækskolen  2023-09-25  10:15:00   Mandag   \n",
       " ...       ...       ...           ...         ...       ...      ...   \n",
       " 1829507  B.57  Favrskov  Rønbækskolen  2023-10-03  07:45:00  Tirsdag   \n",
       " 1835887  B.57  Favrskov  Rønbækskolen  2023-09-22  04:15:00   Fredag   \n",
       " 1836910  B.57  Favrskov  Rønbækskolen  2023-10-02  05:30:00   Mandag   \n",
       " 1837661  B.57  Favrskov  Rønbækskolen  2023-10-08  00:00:00  Soendag   \n",
       " 1837804  B.57  Favrskov  Rønbækskolen  2023-09-26  22:45:00  Tirsdag   \n",
       " \n",
       "         TIDSPUNKT_TYPE        TYPE        NAVN         CO2  TEMP  MOTION  \\\n",
       " 2299            Fritid  Normal Dag  Normal Dag  447.000000  23.7     NaN   \n",
       " 3135            Fritid  Normal Dag  Normal Dag  506.000000  23.9     NaN   \n",
       " 3668             Skole  Normal Dag  Normal Dag  488.000000  23.5     NaN   \n",
       " 4031            Fritid  Normal Dag  Normal Dag  469.666667  23.1     NaN   \n",
       " 4180             Skole  Normal Dag  Normal Dag  454.333333  23.7     NaN   \n",
       " ...                ...         ...         ...         ...   ...     ...   \n",
       " 1829507          Skole  Normal Dag  Normal Dag  478.000000  23.4     NaN   \n",
       " 1835887          Skole  Normal Dag  Normal Dag  508.000000  22.6     NaN   \n",
       " 1836910          Skole  Normal Dag  Normal Dag  420.666667  22.8     NaN   \n",
       " 1837661         Fritid  Normal Dag  Normal Dag  454.000000  22.8     NaN   \n",
       " 1837804         Fritid  Normal Dag  Normal Dag  470.333333  24.3     NaN   \n",
       " \n",
       "               IAQ  BOOKET  SKEMALAGT           SKOLE_ID  \n",
       " 2299     0.020000     NaN        NaN  Rønbækskolen_B.57  \n",
       " 3135     0.020000     NaN        NaN  Rønbækskolen_B.57  \n",
       " 3668     0.020000     NaN        NaN  Rønbækskolen_B.57  \n",
       " 4031     0.060000     NaN        NaN  Rønbækskolen_B.57  \n",
       " 4180     0.020000     NaN        NaN  Rønbækskolen_B.57  \n",
       " ...           ...     ...        ...                ...  \n",
       " 1829507  0.020000     NaN        NaN  Rønbækskolen_B.57  \n",
       " 1835887  0.060000     NaN        NaN  Rønbækskolen_B.57  \n",
       " 1836910  0.023333     NaN        NaN  Rønbækskolen_B.57  \n",
       " 1837661  0.020000     NaN        NaN  Rønbækskolen_B.57  \n",
       " 1837804  0.093333     NaN        NaN  Rønbækskolen_B.57  \n",
       " \n",
       " [1142 rows x 16 columns],\n",
       " 'Rønbækskolen_B.58':            ID   KOMMUNE         SKOLE        DATE      TIME  DAYNAME  \\\n",
       " 1213     B.58  Favrskov  Rønbækskolen  2023-09-29  03:00:00   Fredag   \n",
       " 1402     B.58  Favrskov  Rønbækskolen  2023-09-28  11:30:00  Torsdag   \n",
       " 3412     B.58  Favrskov  Rønbækskolen  2023-09-23  20:00:00  Loerdag   \n",
       " 4365     B.58  Favrskov  Rønbækskolen  2023-10-07  17:00:00  Loerdag   \n",
       " 5978     B.58  Favrskov  Rønbækskolen  2023-09-27  09:30:00   Onsdag   \n",
       " ...       ...       ...           ...         ...       ...      ...   \n",
       " 1827153  B.58  Favrskov  Rønbækskolen  2023-10-06  12:00:00   Fredag   \n",
       " 1831468  B.58  Favrskov  Rønbækskolen  2023-10-01  05:15:00  Soendag   \n",
       " 1833050  B.58  Favrskov  Rønbækskolen  2023-09-22  19:30:00   Fredag   \n",
       " 1840110  B.58  Favrskov  Rønbækskolen  2023-09-23  18:30:00  Loerdag   \n",
       " 1840578  B.58  Favrskov  Rønbækskolen  2023-10-03  06:30:00  Tirsdag   \n",
       " \n",
       "         TIDSPUNKT_TYPE        TYPE        NAVN         CO2  TEMP  MOTION  \\\n",
       " 1213             Skole  Normal Dag  Normal Dag  414.000000  24.3     NaN   \n",
       " 1402             Skole  Normal Dag  Normal Dag  397.333333  24.7     NaN   \n",
       " 3412            Fritid  Normal Dag  Normal Dag  392.500000  24.2     NaN   \n",
       " 4365            Fritid  Normal Dag  Normal Dag  459.000000  23.3     NaN   \n",
       " 5978             Skole  Normal Dag  Normal Dag  412.000000  24.4     NaN   \n",
       " ...                ...         ...         ...         ...   ...     ...   \n",
       " 1827153          Skole  Normal Dag  Normal Dag  416.000000  23.6     NaN   \n",
       " 1831468         Fritid  Normal Dag  Normal Dag  409.000000  23.2     NaN   \n",
       " 1833050         Fritid  Normal Dag  Normal Dag  390.000000  24.7     NaN   \n",
       " 1840110         Fritid  Normal Dag  Normal Dag  389.000000  24.3     NaN   \n",
       " 1840578          Skole  Normal Dag  Normal Dag  468.333333  23.7     NaN   \n",
       " \n",
       "               IAQ  BOOKET  SKEMALAGT           SKOLE_ID  \n",
       " 1213     0.030000     NaN        NaN  Rønbækskolen_B.58  \n",
       " 1402     0.063333     NaN        NaN  Rønbækskolen_B.58  \n",
       " 3412     0.040000     NaN        NaN  Rønbækskolen_B.58  \n",
       " 4365     0.020000     NaN        NaN  Rønbækskolen_B.58  \n",
       " 5978     0.020000     NaN        NaN  Rønbækskolen_B.58  \n",
       " ...           ...     ...        ...                ...  \n",
       " 1827153  0.020000     NaN        NaN  Rønbækskolen_B.58  \n",
       " 1831468  0.020000     NaN        NaN  Rønbækskolen_B.58  \n",
       " 1833050  0.040000     NaN        NaN  Rønbækskolen_B.58  \n",
       " 1840110  0.050000     NaN        NaN  Rønbækskolen_B.58  \n",
       " 1840578  0.026667     NaN        NaN  Rønbækskolen_B.58  \n",
       " \n",
       " [1010 rows x 16 columns],\n",
       " 'Rønbækskolen_B.62':            ID   KOMMUNE         SKOLE        DATE      TIME  DAYNAME  \\\n",
       " 687      B.62  Favrskov  Rønbækskolen  2023-09-24  12:45:00  Soendag   \n",
       " 2687     B.62  Favrskov  Rønbækskolen  2023-09-23  02:30:00  Loerdag   \n",
       " 5293     B.62  Favrskov  Rønbækskolen  2023-09-25  15:30:00   Mandag   \n",
       " 6418     B.62  Favrskov  Rønbækskolen  2023-09-25  00:15:00   Mandag   \n",
       " 9126     B.62  Favrskov  Rønbækskolen  2023-09-23  05:45:00  Loerdag   \n",
       " ...       ...       ...           ...         ...       ...      ...   \n",
       " 1823704  B.62  Favrskov  Rønbækskolen  2023-09-29  19:45:00   Fredag   \n",
       " 1823747  B.62  Favrskov  Rønbækskolen  2023-09-25  13:15:00   Mandag   \n",
       " 1832271  B.62  Favrskov  Rønbækskolen  2023-09-30  03:00:00  Loerdag   \n",
       " 1841343  B.62  Favrskov  Rønbækskolen  2023-09-22  10:00:00   Fredag   \n",
       " 1841780  B.62  Favrskov  Rønbækskolen  2023-10-01  05:15:00  Soendag   \n",
       " \n",
       "         TIDSPUNKT_TYPE        TYPE        NAVN         CO2  TEMP  MOTION  \\\n",
       " 687             Fritid  Normal Dag  Normal Dag  515.000000  25.6     NaN   \n",
       " 2687            Fritid  Normal Dag  Normal Dag  543.500000  25.6     NaN   \n",
       " 5293             Skole  Normal Dag  Normal Dag  481.666667  25.9     NaN   \n",
       " 6418             Skole  Normal Dag  Normal Dag  505.000000  25.6     NaN   \n",
       " 9126            Fritid  Normal Dag  Normal Dag  546.000000  25.5     NaN   \n",
       " ...                ...         ...         ...         ...   ...     ...   \n",
       " 1823704         Fritid  Normal Dag  Normal Dag  569.000000  25.9     NaN   \n",
       " 1823747          Skole  Normal Dag  Normal Dag  495.000000  25.6     NaN   \n",
       " 1832271         Fritid  Normal Dag  Normal Dag  532.000000  25.5     NaN   \n",
       " 1841343          Skole  Normal Dag  Normal Dag  567.000000  24.9     NaN   \n",
       " 1841780         Fritid  Normal Dag  Normal Dag  494.000000  25.0     NaN   \n",
       " \n",
       "               IAQ  BOOKET  SKEMALAGT           SKOLE_ID  \n",
       " 687      0.020000     NaN        NaN  Rønbækskolen_B.62  \n",
       " 2687     0.090000     NaN        NaN  Rønbækskolen_B.62  \n",
       " 5293     0.206667     NaN        NaN  Rønbækskolen_B.62  \n",
       " 6418     0.053333     NaN        NaN  Rønbækskolen_B.62  \n",
       " 9126     0.030000     NaN        NaN  Rønbækskolen_B.62  \n",
       " ...           ...     ...        ...                ...  \n",
       " 1823704  0.236667     NaN        NaN  Rønbækskolen_B.62  \n",
       " 1823747  0.123333     NaN        NaN  Rønbækskolen_B.62  \n",
       " 1832271  0.160000     NaN        NaN  Rønbækskolen_B.62  \n",
       " 1841343  2.040000     NaN        NaN  Rønbækskolen_B.62  \n",
       " 1841780  0.050000     NaN        NaN  Rønbækskolen_B.62  \n",
       " \n",
       " [993 rows x 16 columns],\n",
       " 'Rønbækskolen_B.63':            ID   KOMMUNE         SKOLE        DATE      TIME  DAYNAME  \\\n",
       " 593      B.63  Favrskov  Rønbækskolen  2023-10-10  15:00:00  Tirsdag   \n",
       " 1977     B.63  Favrskov  Rønbækskolen  2023-09-29  03:00:00   Fredag   \n",
       " 2665     B.63  Favrskov  Rønbækskolen  2023-09-30  22:00:00  Loerdag   \n",
       " 2732     B.63  Favrskov  Rønbækskolen  2023-10-10  09:45:00  Tirsdag   \n",
       " 3690     B.63  Favrskov  Rønbækskolen  2023-09-29  21:00:00   Fredag   \n",
       " ...       ...       ...           ...         ...       ...      ...   \n",
       " 1837391  B.63  Favrskov  Rønbækskolen  2023-10-07  07:30:00  Loerdag   \n",
       " 1838402  B.63  Favrskov  Rønbækskolen  2023-09-23  06:15:00  Loerdag   \n",
       " 1840149  B.63  Favrskov  Rønbækskolen  2023-09-26  14:15:00  Tirsdag   \n",
       " 1840428  B.63  Favrskov  Rønbækskolen  2023-09-24  05:45:00  Soendag   \n",
       " 1840684  B.63  Favrskov  Rønbækskolen  2023-09-26  12:15:00  Tirsdag   \n",
       " \n",
       "         TIDSPUNKT_TYPE        TYPE        NAVN         CO2       TEMP  MOTION  \\\n",
       " 593              Skole  Normal Dag  Normal Dag  500.000000  22.200000     NaN   \n",
       " 1977             Skole  Normal Dag  Normal Dag  551.333333  24.166667     NaN   \n",
       " 2665            Fritid  Normal Dag  Normal Dag  490.666667  23.600000     NaN   \n",
       " 2732             Skole  Normal Dag  Normal Dag  516.000000  21.700000     NaN   \n",
       " 3690            Fritid  Normal Dag  Normal Dag  552.500000  23.900000     NaN   \n",
       " ...                ...         ...         ...         ...        ...     ...   \n",
       " 1837391         Fritid  Normal Dag  Normal Dag  510.000000  22.400000     NaN   \n",
       " 1838402         Fritid  Normal Dag  Normal Dag  487.333333  23.700000     NaN   \n",
       " 1840149          Skole  Normal Dag  Normal Dag  521.000000  25.900000     NaN   \n",
       " 1840428         Fritid  Normal Dag  Normal Dag  478.000000  23.500000     NaN   \n",
       " 1840684          Skole  Normal Dag  Normal Dag  464.000000  23.900000     NaN   \n",
       " \n",
       "               IAQ  BOOKET  SKEMALAGT           SKOLE_ID  \n",
       " 593      0.050000     NaN        NaN  Rønbækskolen_B.63  \n",
       " 1977     0.133333     NaN        NaN  Rønbækskolen_B.63  \n",
       " 2665     0.023333     NaN        NaN  Rønbækskolen_B.63  \n",
       " 2732     0.030000     NaN        NaN  Rønbækskolen_B.63  \n",
       " 3690     0.190000     NaN        NaN  Rønbækskolen_B.63  \n",
       " ...           ...     ...        ...                ...  \n",
       " 1837391  0.190000     NaN        NaN  Rønbækskolen_B.63  \n",
       " 1838402  0.030000     NaN        NaN  Rønbækskolen_B.63  \n",
       " 1840149  0.090000     NaN        NaN  Rønbækskolen_B.63  \n",
       " 1840428  0.020000     NaN        NaN  Rønbækskolen_B.63  \n",
       " 1840684  0.020000     NaN        NaN  Rønbækskolen_B.63  \n",
       " \n",
       " [935 rows x 16 columns],\n",
       " 'Rønbækskolen_C.10':            ID   KOMMUNE         SKOLE        DATE      TIME  DAYNAME  \\\n",
       " 1412     C.10  Favrskov  Rønbækskolen  2023-09-24  09:15:00  Soendag   \n",
       " 5112     C.10  Favrskov  Rønbækskolen  2023-10-01  18:00:00  Soendag   \n",
       " 5216     C.10  Favrskov  Rønbækskolen  2023-09-26  02:45:00  Tirsdag   \n",
       " 6674     C.10  Favrskov  Rønbækskolen  2023-09-30  04:45:00  Loerdag   \n",
       " 7018     C.10  Favrskov  Rønbækskolen  2023-09-27  14:15:00   Onsdag   \n",
       " ...       ...       ...           ...         ...       ...      ...   \n",
       " 1833161  C.10  Favrskov  Rønbækskolen  2023-10-02  12:45:00   Mandag   \n",
       " 1833376  C.10  Favrskov  Rønbækskolen  2023-10-02  05:45:00   Mandag   \n",
       " 1834305  C.10  Favrskov  Rønbækskolen  2023-09-27  07:00:00   Onsdag   \n",
       " 1840564  C.10  Favrskov  Rønbækskolen  2023-09-23  19:45:00  Loerdag   \n",
       " 1841438  C.10  Favrskov  Rønbækskolen  2023-09-23  14:15:00  Loerdag   \n",
       " \n",
       "         TIDSPUNKT_TYPE        TYPE        NAVN         CO2       TEMP  MOTION  \\\n",
       " 1412            Fritid  Normal Dag  Normal Dag  522.000000  22.033333     NaN   \n",
       " 5112            Fritid  Normal Dag  Normal Dag  561.000000  21.500000     NaN   \n",
       " 5216             Skole  Normal Dag  Normal Dag  607.000000  21.033333     NaN   \n",
       " 6674            Fritid  Normal Dag  Normal Dag  506.000000  21.400000     NaN   \n",
       " 7018             Skole  Normal Dag  Normal Dag  407.666667  22.100000     NaN   \n",
       " ...                ...         ...         ...         ...        ...     ...   \n",
       " 1833161          Skole  Normal Dag  Normal Dag  465.000000  22.100000     NaN   \n",
       " 1833376          Skole  Normal Dag  Normal Dag  519.000000  20.800000     NaN   \n",
       " 1834305          Skole  Normal Dag  Normal Dag  446.000000  21.166667     NaN   \n",
       " 1840564         Fritid  Normal Dag  Normal Dag  617.000000  21.100000     NaN   \n",
       " 1841438         Fritid  Normal Dag  Normal Dag  666.000000  21.800000     NaN   \n",
       " \n",
       "               IAQ  BOOKET  SKEMALAGT           SKOLE_ID  \n",
       " 1412     0.023333     NaN        NaN  Rønbækskolen_C.10  \n",
       " 5112     0.020000     NaN        NaN  Rønbækskolen_C.10  \n",
       " 5216     0.033333     NaN        NaN  Rønbækskolen_C.10  \n",
       " 6674     0.060000     NaN        NaN  Rønbækskolen_C.10  \n",
       " 7018     0.040000     NaN        NaN  Rønbækskolen_C.10  \n",
       " ...           ...     ...        ...                ...  \n",
       " 1833161  0.030000     NaN        NaN  Rønbækskolen_C.10  \n",
       " 1833376  0.020000     NaN        NaN  Rønbækskolen_C.10  \n",
       " 1834305  0.020000     NaN        NaN  Rønbækskolen_C.10  \n",
       " 1840564  0.020000     NaN        NaN  Rønbækskolen_C.10  \n",
       " 1841438  0.020000     NaN        NaN  Rønbækskolen_C.10  \n",
       " \n",
       " [1097 rows x 16 columns],\n",
       " 'Rønbækskolen_C.12':            ID   KOMMUNE         SKOLE        DATE      TIME  DAYNAME  \\\n",
       " 782      C.12  Favrskov  Rønbækskolen  2023-10-10  11:15:00  Tirsdag   \n",
       " 821      C.12  Favrskov  Rønbækskolen  2023-10-02  06:15:00   Mandag   \n",
       " 7338     C.12  Favrskov  Rønbækskolen  2023-10-10  20:45:00  Tirsdag   \n",
       " 7438     C.12  Favrskov  Rønbækskolen  2023-09-28  19:00:00  Torsdag   \n",
       " 7977     C.12  Favrskov  Rønbækskolen  2023-10-02  05:00:00   Mandag   \n",
       " ...       ...       ...           ...         ...       ...      ...   \n",
       " 1827544  C.12  Favrskov  Rønbækskolen  2023-09-27  16:45:00   Onsdag   \n",
       " 1828432  C.12  Favrskov  Rønbækskolen  2023-09-29  05:15:00   Fredag   \n",
       " 1829014  C.12  Favrskov  Rønbækskolen  2023-09-27  19:00:00   Onsdag   \n",
       " 1832484  C.12  Favrskov  Rønbækskolen  2023-10-02  01:45:00   Mandag   \n",
       " 1832785  C.12  Favrskov  Rønbækskolen  2023-09-26  19:00:00  Tirsdag   \n",
       " \n",
       "         TIDSPUNKT_TYPE        TYPE        NAVN         CO2  TEMP  MOTION  \\\n",
       " 782              Skole  Normal Dag  Normal Dag  547.000000  20.9     NaN   \n",
       " 821              Skole  Normal Dag  Normal Dag  416.000000  20.4     NaN   \n",
       " 7338            Fritid  Normal Dag  Normal Dag  595.000000  20.4     NaN   \n",
       " 7438            Fritid  Normal Dag  Normal Dag  419.000000  21.8     NaN   \n",
       " 7977             Skole  Normal Dag  Normal Dag  442.666667  20.4     NaN   \n",
       " ...                ...         ...         ...         ...   ...     ...   \n",
       " 1827544         Fritid  Normal Dag  Normal Dag  572.333333  21.9     NaN   \n",
       " 1828432          Skole  Normal Dag  Normal Dag  362.000000  21.2     NaN   \n",
       " 1829014         Fritid  Normal Dag  Normal Dag  574.666667  21.7     NaN   \n",
       " 1832484          Skole  Normal Dag  Normal Dag  472.000000  20.4     NaN   \n",
       " 1832785         Fritid  Normal Dag  Normal Dag  601.000000  21.7     NaN   \n",
       " \n",
       "           IAQ  BOOKET  SKEMALAGT           SKOLE_ID  \n",
       " 782      0.02     NaN        NaN  Rønbækskolen_C.12  \n",
       " 821      0.02     NaN        NaN  Rønbækskolen_C.12  \n",
       " 7338     0.04     NaN        NaN  Rønbækskolen_C.12  \n",
       " 7438     0.08     NaN        NaN  Rønbækskolen_C.12  \n",
       " 7977     0.02     NaN        NaN  Rønbækskolen_C.12  \n",
       " ...       ...     ...        ...                ...  \n",
       " 1827544  0.03     NaN        NaN  Rønbækskolen_C.12  \n",
       " 1828432  0.02     NaN        NaN  Rønbækskolen_C.12  \n",
       " 1829014  0.03     NaN        NaN  Rønbækskolen_C.12  \n",
       " 1832484  0.02     NaN        NaN  Rønbækskolen_C.12  \n",
       " 1832785  0.06     NaN        NaN  Rønbækskolen_C.12  \n",
       " \n",
       " [943 rows x 16 columns],\n",
       " 'Rønbækskolen_C.13':            ID   KOMMUNE         SKOLE        DATE      TIME  DAYNAME  \\\n",
       " 454      C.13  Favrskov  Rønbækskolen  2023-09-23  11:45:00  Loerdag   \n",
       " 583      C.13  Favrskov  Rønbækskolen  2023-10-08  18:30:00  Soendag   \n",
       " 1555     C.13  Favrskov  Rønbækskolen  2023-10-02  22:15:00   Mandag   \n",
       " 3749     C.13  Favrskov  Rønbækskolen  2023-09-30  09:00:00  Loerdag   \n",
       " 5669     C.13  Favrskov  Rønbækskolen  2023-10-10  23:30:00  Tirsdag   \n",
       " ...       ...       ...           ...         ...       ...      ...   \n",
       " 1828195  C.13  Favrskov  Rønbækskolen  2023-09-27  20:00:00   Onsdag   \n",
       " 1834963  C.13  Favrskov  Rønbækskolen  2023-10-07  07:45:00  Loerdag   \n",
       " 1837022  C.13  Favrskov  Rønbækskolen  2023-09-26  01:30:00  Tirsdag   \n",
       " 1840469  C.13  Favrskov  Rønbækskolen  2023-10-02  09:30:00   Mandag   \n",
       " 1840867  C.13  Favrskov  Rønbækskolen  2023-09-28  04:15:00  Torsdag   \n",
       " \n",
       "         TIDSPUNKT_TYPE        TYPE        NAVN         CO2  TEMP  MOTION  \\\n",
       " 454             Fritid  Normal Dag  Normal Dag  578.000000  22.4     NaN   \n",
       " 583             Fritid  Normal Dag  Normal Dag  457.000000  20.4     NaN   \n",
       " 1555            Fritid  Normal Dag  Normal Dag  565.000000  21.3     NaN   \n",
       " 3749            Fritid  Normal Dag  Normal Dag  409.000000  22.0     NaN   \n",
       " 5669            Fritid  Normal Dag  Normal Dag  697.000000  21.0     NaN   \n",
       " ...                ...         ...         ...         ...   ...     ...   \n",
       " 1828195         Fritid  Normal Dag  Normal Dag  488.000000  22.4     NaN   \n",
       " 1834963         Fritid  Normal Dag  Normal Dag  458.500000  21.2     NaN   \n",
       " 1837022          Skole  Normal Dag  Normal Dag  603.666667  21.8     NaN   \n",
       " 1840469          Skole  Normal Dag  Normal Dag  399.000000  21.4     NaN   \n",
       " 1840867          Skole  Normal Dag  Normal Dag  474.333333  22.0     NaN   \n",
       " \n",
       "           IAQ  BOOKET  SKEMALAGT           SKOLE_ID  \n",
       " 454      0.02     NaN        NaN  Rønbækskolen_C.13  \n",
       " 583      0.02     NaN        NaN  Rønbækskolen_C.13  \n",
       " 1555     0.03     NaN        NaN  Rønbækskolen_C.13  \n",
       " 3749     0.03     NaN        NaN  Rønbækskolen_C.13  \n",
       " 5669     0.04     NaN        NaN  Rønbækskolen_C.13  \n",
       " ...       ...     ...        ...                ...  \n",
       " 1828195  0.04     NaN        NaN  Rønbækskolen_C.13  \n",
       " 1834963  0.02     NaN        NaN  Rønbækskolen_C.13  \n",
       " 1837022  0.02     NaN        NaN  Rønbækskolen_C.13  \n",
       " 1840469  0.03     NaN        NaN  Rønbækskolen_C.13  \n",
       " 1840867  0.03     NaN        NaN  Rønbækskolen_C.13  \n",
       " \n",
       " [1031 rows x 16 columns],\n",
       " 'Rønbækskolen_C.14':            ID   KOMMUNE         SKOLE        DATE      TIME  DAYNAME  \\\n",
       " 596      C.14  Favrskov  Rønbækskolen  2023-09-30  13:15:00  Loerdag   \n",
       " 898      C.14  Favrskov  Rønbækskolen  2023-09-26  19:30:00  Tirsdag   \n",
       " 957      C.14  Favrskov  Rønbækskolen  2023-10-03  18:00:00  Tirsdag   \n",
       " 13874    C.14  Favrskov  Rønbækskolen  2023-10-03  08:15:00  Tirsdag   \n",
       " 16072    C.14  Favrskov  Rønbækskolen  2023-09-23  12:15:00  Loerdag   \n",
       " ...       ...       ...           ...         ...       ...      ...   \n",
       " 1826475  C.14  Favrskov  Rønbækskolen  2023-09-25  23:45:00   Mandag   \n",
       " 1829036  C.14  Favrskov  Rønbækskolen  2023-09-27  01:15:00   Onsdag   \n",
       " 1830169  C.14  Favrskov  Rønbækskolen  2023-09-27  01:45:00   Onsdag   \n",
       " 1837352  C.14  Favrskov  Rønbækskolen  2023-10-09  16:15:00   Mandag   \n",
       " 1841023  C.14  Favrskov  Rønbækskolen  2023-10-10  05:15:00  Tirsdag   \n",
       " \n",
       "         TIDSPUNKT_TYPE        TYPE        NAVN         CO2       TEMP  MOTION  \\\n",
       " 596             Fritid  Normal Dag  Normal Dag  428.333333  21.300000     NaN   \n",
       " 898             Fritid  Normal Dag  Normal Dag  711.000000  21.800000     NaN   \n",
       " 957             Fritid  Normal Dag  Normal Dag  639.000000  21.500000     NaN   \n",
       " 13874            Skole  Normal Dag  Normal Dag  717.666667  21.633333     NaN   \n",
       " 16072           Fritid  Normal Dag  Normal Dag  598.000000  22.566667     NaN   \n",
       " ...                ...         ...         ...         ...        ...     ...   \n",
       " 1826475         Fritid  Normal Dag  Normal Dag  665.666667  21.500000     NaN   \n",
       " 1829036          Skole  Normal Dag  Normal Dag  666.000000  21.400000     NaN   \n",
       " 1830169          Skole  Normal Dag  Normal Dag  660.500000  21.400000     NaN   \n",
       " 1837352         Fritid  Normal Dag  Normal Dag  480.000000  20.700000     NaN   \n",
       " 1841023          Skole  Normal Dag  Normal Dag  508.500000  20.200000     NaN   \n",
       " \n",
       "               IAQ  BOOKET  SKEMALAGT           SKOLE_ID  \n",
       " 596      0.023333     1.0        NaN  Rønbækskolen_C.14  \n",
       " 898      0.040000     1.0        NaN  Rønbækskolen_C.14  \n",
       " 957      0.253333     1.0        NaN  Rønbækskolen_C.14  \n",
       " 13874    0.020000     NaN        NaN  Rønbækskolen_C.14  \n",
       " 16072    0.030000     1.0        NaN  Rønbækskolen_C.14  \n",
       " ...           ...     ...        ...                ...  \n",
       " 1826475  0.040000     NaN        NaN  Rønbækskolen_C.14  \n",
       " 1829036  0.040000     NaN        NaN  Rønbækskolen_C.14  \n",
       " 1830169  0.040000     NaN        NaN  Rønbækskolen_C.14  \n",
       " 1837352  0.020000     NaN        NaN  Rønbækskolen_C.14  \n",
       " 1841023  0.020000     NaN        NaN  Rønbækskolen_C.14  \n",
       " \n",
       " [898 rows x 16 columns],\n",
       " 'Rønbækskolen_C.15':            ID   KOMMUNE         SKOLE        DATE      TIME  DAYNAME  \\\n",
       " 561      C.15  Favrskov  Rønbækskolen  2023-09-25  18:30:00   Mandag   \n",
       " 1039     C.15  Favrskov  Rønbækskolen  2023-09-25  04:15:00   Mandag   \n",
       " 4104     C.15  Favrskov  Rønbækskolen  2023-09-25  03:00:00   Mandag   \n",
       " 8812     C.15  Favrskov  Rønbækskolen  2023-10-07  00:45:00  Loerdag   \n",
       " 10627    C.15  Favrskov  Rønbækskolen  2023-09-30  10:45:00  Loerdag   \n",
       " ...       ...       ...           ...         ...       ...      ...   \n",
       " 1839939  C.15  Favrskov  Rønbækskolen  2023-09-27  20:45:00   Onsdag   \n",
       " 1840225  C.15  Favrskov  Rønbækskolen  2023-10-08  09:00:00  Soendag   \n",
       " 1841100  C.15  Favrskov  Rønbækskolen  2023-09-25  01:00:00   Mandag   \n",
       " 1841448  C.15  Favrskov  Rønbækskolen  2023-10-09  14:15:00   Mandag   \n",
       " 1842156  C.15  Favrskov  Rønbækskolen  2023-10-03  00:30:00  Tirsdag   \n",
       " \n",
       "         TIDSPUNKT_TYPE        TYPE        NAVN         CO2       TEMP  MOTION  \\\n",
       " 561             Fritid  Normal Dag  Normal Dag  763.000000  23.300000     NaN   \n",
       " 1039             Skole  Normal Dag  Normal Dag  442.333333  22.000000     NaN   \n",
       " 4104             Skole  Normal Dag  Normal Dag  437.000000  22.000000     NaN   \n",
       " 8812            Fritid  Normal Dag  Normal Dag  419.000000  22.000000     NaN   \n",
       " 10627           Fritid  Normal Dag  Normal Dag  672.333333  22.833333     NaN   \n",
       " ...                ...         ...         ...         ...        ...     ...   \n",
       " 1839939         Fritid  Normal Dag  Normal Dag  469.000000  22.500000     NaN   \n",
       " 1840225         Fritid  Normal Dag  Normal Dag  426.000000  21.200000     NaN   \n",
       " 1841100          Skole  Normal Dag  Normal Dag  436.333333  22.100000     NaN   \n",
       " 1841448          Skole  Normal Dag  Normal Dag  634.000000  21.500000     NaN   \n",
       " 1842156          Skole  Normal Dag  Normal Dag  718.000000  22.200000     NaN   \n",
       " \n",
       "           IAQ  BOOKET  SKEMALAGT           SKOLE_ID  \n",
       " 561      0.14     1.0        NaN  Rønbækskolen_C.15  \n",
       " 1039     0.03     NaN        NaN  Rønbækskolen_C.15  \n",
       " 4104     0.03     NaN        NaN  Rønbækskolen_C.15  \n",
       " 8812     0.02     NaN        NaN  Rønbækskolen_C.15  \n",
       " 10627    0.04     1.0        NaN  Rønbækskolen_C.15  \n",
       " ...       ...     ...        ...                ...  \n",
       " 1839939  0.05     NaN        NaN  Rønbækskolen_C.15  \n",
       " 1840225  0.02     NaN        NaN  Rønbækskolen_C.15  \n",
       " 1841100  0.03     NaN        NaN  Rønbækskolen_C.15  \n",
       " 1841448  0.05     NaN        NaN  Rønbækskolen_C.15  \n",
       " 1842156  0.10     NaN        NaN  Rønbækskolen_C.15  \n",
       " \n",
       " [987 rows x 16 columns],\n",
       " 'Rønbækskolen_C.17':            ID   KOMMUNE         SKOLE        DATE      TIME  DAYNAME  \\\n",
       " 4017     C.17  Favrskov  Rønbækskolen  2023-09-30  20:00:00  Loerdag   \n",
       " 6439     C.17  Favrskov  Rønbækskolen  2023-10-01  16:15:00  Soendag   \n",
       " 13345    C.17  Favrskov  Rønbækskolen  2023-10-04  08:00:00   Onsdag   \n",
       " 14970    C.17  Favrskov  Rønbækskolen  2023-10-09  10:30:00   Mandag   \n",
       " 19909    C.17  Favrskov  Rønbækskolen  2023-09-26  04:45:00  Tirsdag   \n",
       " ...       ...       ...           ...         ...       ...      ...   \n",
       " 1832656  C.17  Favrskov  Rønbækskolen  2023-10-10  19:30:00  Tirsdag   \n",
       " 1833587  C.17  Favrskov  Rønbækskolen  2023-09-30  17:15:00  Loerdag   \n",
       " 1834848  C.17  Favrskov  Rønbækskolen  2023-10-10  14:45:00  Tirsdag   \n",
       " 1835955  C.17  Favrskov  Rønbækskolen  2023-10-02  04:30:00   Mandag   \n",
       " 1841772  C.17  Favrskov  Rønbækskolen  2023-10-09  14:00:00   Mandag   \n",
       " \n",
       "         TIDSPUNKT_TYPE        TYPE        NAVN         CO2  TEMP  MOTION  \\\n",
       " 4017            Fritid  Normal Dag  Normal Dag  427.000000  21.7     NaN   \n",
       " 6439            Fritid  Normal Dag  Normal Dag  472.333333  21.2     NaN   \n",
       " 13345            Skole  Normal Dag  Normal Dag  611.000000  22.4     NaN   \n",
       " 14970            Skole  Normal Dag  Normal Dag  548.000000  21.0     NaN   \n",
       " 19909            Skole  Normal Dag  Normal Dag  682.000000  21.1     NaN   \n",
       " ...                ...         ...         ...         ...   ...     ...   \n",
       " 1832656         Fritid  Normal Dag  Normal Dag  497.000000  21.2     NaN   \n",
       " 1833587         Fritid  Normal Dag  Normal Dag  424.000000  22.0     NaN   \n",
       " 1834848          Skole  Normal Dag  Normal Dag  460.000000  21.6     NaN   \n",
       " 1835955          Skole  Normal Dag  Normal Dag  504.000000  20.8     NaN   \n",
       " 1841772          Skole  Normal Dag  Normal Dag  566.000000  21.1     NaN   \n",
       " \n",
       "               IAQ  BOOKET  SKEMALAGT           SKOLE_ID  \n",
       " 4017     0.020000     NaN        NaN  Rønbækskolen_C.17  \n",
       " 6439     0.020000     NaN        NaN  Rønbækskolen_C.17  \n",
       " 13345    0.020000     NaN        NaN  Rønbækskolen_C.17  \n",
       " 14970    0.030000     NaN        NaN  Rønbækskolen_C.17  \n",
       " 19909    0.050000     NaN        NaN  Rønbækskolen_C.17  \n",
       " ...           ...     ...        ...                ...  \n",
       " 1832656  0.050000     NaN        NaN  Rønbækskolen_C.17  \n",
       " 1833587  0.023333     NaN        NaN  Rønbækskolen_C.17  \n",
       " 1834848  0.040000     NaN        NaN  Rønbækskolen_C.17  \n",
       " 1835955  0.020000     NaN        NaN  Rønbækskolen_C.17  \n",
       " 1841772  0.030000     NaN        NaN  Rønbækskolen_C.17  \n",
       " \n",
       " [889 rows x 16 columns],\n",
       " 'Rønbækskolen_C.26':            ID   KOMMUNE         SKOLE        DATE      TIME  DAYNAME  \\\n",
       " 562      C.26  Favrskov  Rønbækskolen  2023-09-30  14:15:00  Loerdag   \n",
       " 8275     C.26  Favrskov  Rønbækskolen  2023-10-05  12:00:00  Torsdag   \n",
       " 8644     C.26  Favrskov  Rønbækskolen  2023-10-09  16:00:00   Mandag   \n",
       " 11010    C.26  Favrskov  Rønbækskolen  2023-10-08  02:30:00  Soendag   \n",
       " 11422    C.26  Favrskov  Rønbækskolen  2023-10-09  08:45:00   Mandag   \n",
       " ...       ...       ...           ...         ...       ...      ...   \n",
       " 1834972  C.26  Favrskov  Rønbækskolen  2023-09-25  16:15:00   Mandag   \n",
       " 1835392  C.26  Favrskov  Rønbækskolen  2023-10-02  06:30:00   Mandag   \n",
       " 1836766  C.26  Favrskov  Rønbækskolen  2023-09-24  06:30:00  Soendag   \n",
       " 1838093  C.26  Favrskov  Rønbækskolen  2023-10-10  23:30:00  Tirsdag   \n",
       " 1839255  C.26  Favrskov  Rønbækskolen  2023-09-28  12:00:00  Torsdag   \n",
       " \n",
       "         TIDSPUNKT_TYPE        TYPE        NAVN         CO2       TEMP  MOTION  \\\n",
       " 562             Fritid  Normal Dag  Normal Dag  414.000000  22.400000     NaN   \n",
       " 8275             Skole  Normal Dag  Normal Dag  395.000000  21.800000     NaN   \n",
       " 8644            Fritid  Normal Dag  Normal Dag  403.000000  21.600000     NaN   \n",
       " 11010           Fritid  Normal Dag  Normal Dag  422.000000  20.700000     NaN   \n",
       " 11422            Skole  Normal Dag  Normal Dag  417.000000  20.900000     NaN   \n",
       " ...                ...         ...         ...         ...        ...     ...   \n",
       " 1834972         Fritid  Normal Dag  Normal Dag  498.000000  23.800000     NaN   \n",
       " 1835392          Skole  Normal Dag  Normal Dag  451.000000  21.000000     NaN   \n",
       " 1836766         Fritid  Normal Dag  Normal Dag  552.333333  21.966667     NaN   \n",
       " 1838093         Fritid  Normal Dag  Normal Dag  481.000000  21.000000     NaN   \n",
       " 1839255          Skole  Normal Dag  Normal Dag  402.666667  22.900000     NaN   \n",
       " \n",
       "           IAQ  BOOKET  SKEMALAGT           SKOLE_ID  \n",
       " 562      0.02     1.0        NaN  Rønbækskolen_C.26  \n",
       " 8275     0.02     NaN        NaN  Rønbækskolen_C.26  \n",
       " 8644     0.18     NaN        NaN  Rønbækskolen_C.26  \n",
       " 11010    0.02     NaN        NaN  Rønbækskolen_C.26  \n",
       " 11422    0.02     NaN        NaN  Rønbækskolen_C.26  \n",
       " ...       ...     ...        ...                ...  \n",
       " 1834972  0.03     NaN        NaN  Rønbækskolen_C.26  \n",
       " 1835392  0.02     NaN        NaN  Rønbækskolen_C.26  \n",
       " 1836766  0.02     NaN        NaN  Rønbækskolen_C.26  \n",
       " 1838093  0.04     NaN        NaN  Rønbækskolen_C.26  \n",
       " 1839255  0.02     NaN        NaN  Rønbækskolen_C.26  \n",
       " \n",
       " [933 rows x 16 columns],\n",
       " 'Rønbækskolen_C.27':            ID   KOMMUNE         SKOLE        DATE      TIME  DAYNAME  \\\n",
       " 557      C.27  Favrskov  Rønbækskolen  2023-10-03  20:15:00  Tirsdag   \n",
       " 703      C.27  Favrskov  Rønbækskolen  2023-10-04  21:45:00   Onsdag   \n",
       " 7947     C.27  Favrskov  Rønbækskolen  2023-09-22  16:15:00   Fredag   \n",
       " 7959     C.27  Favrskov  Rønbækskolen  2023-09-24  05:15:00  Soendag   \n",
       " 10625    C.27  Favrskov  Rønbækskolen  2023-09-30  15:00:00  Loerdag   \n",
       " ...       ...       ...           ...         ...       ...      ...   \n",
       " 1826783  C.27  Favrskov  Rønbækskolen  2023-09-22  22:00:00   Fredag   \n",
       " 1833801  C.27  Favrskov  Rønbækskolen  2023-10-06  20:30:00   Fredag   \n",
       " 1834082  C.27  Favrskov  Rønbækskolen  2023-10-02  22:45:00   Mandag   \n",
       " 1834857  C.27  Favrskov  Rønbækskolen  2023-10-04  10:45:00   Onsdag   \n",
       " 1840356  C.27  Favrskov  Rønbækskolen  2023-09-27  11:30:00   Onsdag   \n",
       " \n",
       "         TIDSPUNKT_TYPE        TYPE        NAVN         CO2       TEMP  MOTION  \\\n",
       " 557             Fritid  Normal Dag  Normal Dag  493.000000  22.000000     NaN   \n",
       " 703             Fritid  Normal Dag  Normal Dag  486.666667  21.966667     NaN   \n",
       " 7947            Fritid  Normal Dag  Normal Dag  426.000000  24.400000     NaN   \n",
       " 7959            Fritid  Normal Dag  Normal Dag  504.333333  22.100000     NaN   \n",
       " 10625           Fritid  Normal Dag  Normal Dag  422.000000  22.900000     NaN   \n",
       " ...                ...         ...         ...         ...        ...     ...   \n",
       " 1826783         Fritid  Normal Dag  Normal Dag  439.000000  23.100000     NaN   \n",
       " 1833801         Fritid  Normal Dag  Normal Dag  407.000000  22.600000     NaN   \n",
       " 1834082         Fritid  Normal Dag  Normal Dag  550.000000  21.800000     NaN   \n",
       " 1834857          Skole  Normal Dag  Normal Dag  976.333333  23.800000     NaN   \n",
       " 1840356          Skole  Normal Dag  Normal Dag  658.000000  23.700000     NaN   \n",
       " \n",
       "               IAQ  BOOKET  SKEMALAGT           SKOLE_ID  \n",
       " 557      0.080000     1.0        NaN  Rønbækskolen_C.27  \n",
       " 703      0.030000     NaN        NaN  Rønbækskolen_C.27  \n",
       " 7947     0.030000     NaN        NaN  Rønbækskolen_C.27  \n",
       " 7959     0.020000     NaN        NaN  Rønbækskolen_C.27  \n",
       " 10625    0.020000     1.0        NaN  Rønbækskolen_C.27  \n",
       " ...           ...     ...        ...                ...  \n",
       " 1826783  0.020000     NaN        NaN  Rønbækskolen_C.27  \n",
       " 1833801  0.020000     NaN        NaN  Rønbækskolen_C.27  \n",
       " 1834082  0.030000     NaN        NaN  Rønbækskolen_C.27  \n",
       " 1834857  0.046667     NaN        NaN  Rønbækskolen_C.27  \n",
       " 1840356  0.060000     NaN        NaN  Rønbækskolen_C.27  \n",
       " \n",
       " [965 rows x 16 columns],\n",
       " 'Rønbækskolen_C.28':            ID   KOMMUNE         SKOLE        DATE      TIME  DAYNAME  \\\n",
       " 555      C.28  Favrskov  Rønbækskolen  2023-09-23  11:00:00  Loerdag   \n",
       " 558      C.28  Favrskov  Rønbækskolen  2023-09-23  16:15:00  Loerdag   \n",
       " 3266     C.28  Favrskov  Rønbækskolen  2023-10-09  00:00:00   Mandag   \n",
       " 3796     C.28  Favrskov  Rønbækskolen  2023-09-28  07:00:00  Torsdag   \n",
       " 4991     C.28  Favrskov  Rønbækskolen  2023-10-10  06:45:00  Tirsdag   \n",
       " ...       ...       ...           ...         ...       ...      ...   \n",
       " 1835246  C.28  Favrskov  Rønbækskolen  2023-10-04  13:45:00   Onsdag   \n",
       " 1835426  C.28  Favrskov  Rønbækskolen  2023-09-27  17:30:00   Onsdag   \n",
       " 1838575  C.28  Favrskov  Rønbækskolen  2023-09-30  03:00:00  Loerdag   \n",
       " 1839357  C.28  Favrskov  Rønbækskolen  2023-10-07  13:30:00  Loerdag   \n",
       " 1840127  C.28  Favrskov  Rønbækskolen  2023-09-27  09:00:00   Onsdag   \n",
       " \n",
       "         TIDSPUNKT_TYPE        TYPE        NAVN         CO2       TEMP  MOTION  \\\n",
       " 555             Fritid  Normal Dag  Normal Dag  983.000000  22.800000     NaN   \n",
       " 558             Fritid  Normal Dag  Normal Dag  540.000000  23.100000     NaN   \n",
       " 3266             Skole  Normal Dag  Normal Dag  453.000000  20.400000     NaN   \n",
       " 3796             Skole  Normal Dag  Normal Dag  592.666667  22.633333     NaN   \n",
       " 4991             Skole  Normal Dag  Normal Dag  579.000000  21.800000     NaN   \n",
       " ...                ...         ...         ...         ...        ...     ...   \n",
       " 1835246          Skole  Normal Dag  Normal Dag  496.000000  21.800000     NaN   \n",
       " 1835426         Fritid  Normal Dag  Normal Dag  438.666667  22.533333     NaN   \n",
       " 1838575         Fritid  Normal Dag  Normal Dag  392.000000  21.600000     NaN   \n",
       " 1839357         Fritid  Normal Dag  Normal Dag  413.000000  21.800000     NaN   \n",
       " 1840127          Skole  Normal Dag  Normal Dag  549.333333  22.133333     NaN   \n",
       " \n",
       "           IAQ  BOOKET  SKEMALAGT           SKOLE_ID  \n",
       " 555      0.04     1.0        NaN  Rønbækskolen_C.28  \n",
       " 558      0.02     1.0        NaN  Rønbækskolen_C.28  \n",
       " 3266     0.03     NaN        NaN  Rønbækskolen_C.28  \n",
       " 3796     0.03     NaN        NaN  Rønbækskolen_C.28  \n",
       " 4991     0.02     NaN        NaN  Rønbækskolen_C.28  \n",
       " ...       ...     ...        ...                ...  \n",
       " 1835246  0.03     NaN        NaN  Rønbækskolen_C.28  \n",
       " 1835426  0.05     NaN        NaN  Rønbækskolen_C.28  \n",
       " 1838575  0.02     NaN        NaN  Rønbækskolen_C.28  \n",
       " 1839357  0.02     NaN        NaN  Rønbækskolen_C.28  \n",
       " 1840127  0.39     NaN        NaN  Rønbækskolen_C.28  \n",
       " \n",
       " [799 rows x 16 columns],\n",
       " 'Rønbækskolen_C.31':            ID   KOMMUNE         SKOLE        DATE      TIME  DAYNAME  \\\n",
       " 382      C.31  Favrskov  Rønbækskolen  2023-09-23  22:00:00  Loerdag   \n",
       " 1938     C.31  Favrskov  Rønbækskolen  2023-10-07  07:00:00  Loerdag   \n",
       " 4882     C.31  Favrskov  Rønbækskolen  2023-10-06  10:45:00   Fredag   \n",
       " 6308     C.31  Favrskov  Rønbækskolen  2023-09-27  08:30:00   Onsdag   \n",
       " 8253     C.31  Favrskov  Rønbækskolen  2023-10-03  19:00:00  Tirsdag   \n",
       " ...       ...       ...           ...         ...       ...      ...   \n",
       " 1833944  C.31  Favrskov  Rønbækskolen  2023-10-03  22:15:00  Tirsdag   \n",
       " 1835130  C.31  Favrskov  Rønbækskolen  2023-09-30  22:30:00  Loerdag   \n",
       " 1835857  C.31  Favrskov  Rønbækskolen  2023-09-25  06:15:00   Mandag   \n",
       " 1837713  C.31  Favrskov  Rønbækskolen  2023-09-28  18:15:00  Torsdag   \n",
       " 1841978  C.31  Favrskov  Rønbækskolen  2023-09-29  10:00:00   Fredag   \n",
       " \n",
       "         TIDSPUNKT_TYPE        TYPE        NAVN         CO2       TEMP  MOTION  \\\n",
       " 382             Fritid  Normal Dag  Normal Dag  526.666667  22.500000     NaN   \n",
       " 1938            Fritid  Normal Dag  Normal Dag  426.000000  21.500000     NaN   \n",
       " 4882             Skole  Normal Dag  Normal Dag  456.500000  22.000000     NaN   \n",
       " 6308             Skole  Normal Dag  Normal Dag  436.000000  22.300000     NaN   \n",
       " 8253            Fritid  Normal Dag  Normal Dag  407.666667  21.300000     NaN   \n",
       " ...                ...         ...         ...         ...        ...     ...   \n",
       " 1833944         Fritid  Normal Dag  Normal Dag  413.666667  21.100000     NaN   \n",
       " 1835130         Fritid  Normal Dag  Normal Dag  426.000000  21.866667     NaN   \n",
       " 1835857          Skole  Normal Dag  Normal Dag  476.666667  22.100000     NaN   \n",
       " 1837713         Fritid  Normal Dag  Normal Dag  496.000000  22.500000     NaN   \n",
       " 1841978          Skole  Normal Dag  Normal Dag  415.000000  22.500000     NaN   \n",
       " \n",
       "               IAQ  BOOKET  SKEMALAGT           SKOLE_ID  \n",
       " 382      0.020000     NaN        NaN  Rønbækskolen_C.31  \n",
       " 1938     0.020000     NaN        NaN  Rønbækskolen_C.31  \n",
       " 4882     0.020000     NaN        NaN  Rønbækskolen_C.31  \n",
       " 6308     0.020000     NaN        NaN  Rønbækskolen_C.31  \n",
       " 8253     0.020000     NaN        NaN  Rønbækskolen_C.31  \n",
       " ...           ...     ...        ...                ...  \n",
       " 1833944  0.020000     NaN        NaN  Rønbækskolen_C.31  \n",
       " 1835130  0.020000     NaN        NaN  Rønbækskolen_C.31  \n",
       " 1835857  0.020000     NaN        NaN  Rønbækskolen_C.31  \n",
       " 1837713  0.033333     NaN        NaN  Rønbækskolen_C.31  \n",
       " 1841978  0.020000     NaN        NaN  Rønbækskolen_C.31  \n",
       " \n",
       " [860 rows x 16 columns],\n",
       " 'Rønbækskolen_C.32':            ID   KOMMUNE         SKOLE        DATE      TIME  DAYNAME  \\\n",
       " 1710     C.32  Favrskov  Rønbækskolen  2023-09-26  14:45:00  Tirsdag   \n",
       " 3867     C.32  Favrskov  Rønbækskolen  2023-10-03  13:15:00  Tirsdag   \n",
       " 5042     C.32  Favrskov  Rønbækskolen  2023-10-06  22:15:00   Fredag   \n",
       " 5838     C.32  Favrskov  Rønbækskolen  2023-09-22  09:00:00   Fredag   \n",
       " 6694     C.32  Favrskov  Rønbækskolen  2023-10-01  13:45:00  Soendag   \n",
       " ...       ...       ...           ...         ...       ...      ...   \n",
       " 1836866  C.32  Favrskov  Rønbækskolen  2023-10-12  23:00:00  Torsdag   \n",
       " 1837305  C.32  Favrskov  Rønbækskolen  2023-09-22  18:45:00   Fredag   \n",
       " 1839603  C.32  Favrskov  Rønbækskolen  2023-09-29  21:30:00   Fredag   \n",
       " 1840050  C.32  Favrskov  Rønbækskolen  2023-09-24  22:30:00  Soendag   \n",
       " 1841803  C.32  Favrskov  Rønbækskolen  2023-10-05  19:15:00  Torsdag   \n",
       " \n",
       "         TIDSPUNKT_TYPE        TYPE        NAVN         CO2       TEMP  MOTION  \\\n",
       " 1710             Skole  Normal Dag  Normal Dag  470.000000  23.366667     NaN   \n",
       " 3867             Skole  Normal Dag  Normal Dag  887.000000  22.800000     NaN   \n",
       " 5042            Fritid  Normal Dag  Normal Dag  452.000000  21.700000     NaN   \n",
       " 5838             Skole  Normal Dag  Normal Dag  400.000000  22.600000     NaN   \n",
       " 6694            Fritid  Normal Dag  Normal Dag  508.000000  21.500000     NaN   \n",
       " ...                ...         ...         ...         ...        ...     ...   \n",
       " 1836866         Fritid  Normal Dag  Normal Dag  735.000000  20.300000     NaN   \n",
       " 1837305         Fritid  Normal Dag  Normal Dag  449.000000  22.900000     NaN   \n",
       " 1839603         Fritid  Normal Dag  Normal Dag  484.333333  22.000000     NaN   \n",
       " 1840050         Fritid  Normal Dag  Normal Dag  481.000000  22.400000     NaN   \n",
       " 1841803         Fritid  Normal Dag  Normal Dag  518.000000  22.000000     NaN   \n",
       " \n",
       "           IAQ  BOOKET  SKEMALAGT           SKOLE_ID  \n",
       " 1710     0.02     NaN        NaN  Rønbækskolen_C.32  \n",
       " 3867     0.08     NaN        NaN  Rønbækskolen_C.32  \n",
       " 5042     0.03     NaN        NaN  Rønbækskolen_C.32  \n",
       " 5838     0.02     NaN        NaN  Rønbækskolen_C.32  \n",
       " 6694     0.02     NaN        NaN  Rønbækskolen_C.32  \n",
       " ...       ...     ...        ...                ...  \n",
       " 1836866  0.04     NaN        NaN  Rønbækskolen_C.32  \n",
       " 1837305  0.03     NaN        NaN  Rønbækskolen_C.32  \n",
       " 1839603  0.03     NaN        NaN  Rønbækskolen_C.32  \n",
       " 1840050  0.02     NaN        NaN  Rønbækskolen_C.32  \n",
       " 1841803  0.04     NaN        NaN  Rønbækskolen_C.32  \n",
       " \n",
       " [917 rows x 16 columns],\n",
       " 'Rønbækskolen_D.03':            ID   KOMMUNE         SKOLE        DATE      TIME  DAYNAME  \\\n",
       " 46       D.03  Favrskov  Rønbækskolen  2023-01-31  18:15:00  Tirsdag   \n",
       " 112      D.03  Favrskov  Rønbækskolen  2023-01-24  20:15:00  Tirsdag   \n",
       " 556      D.03  Favrskov  Rønbækskolen  2023-09-30  12:00:00  Loerdag   \n",
       " 900      D.03  Favrskov  Rønbækskolen  2023-09-30  11:15:00  Loerdag   \n",
       " 901      D.03  Favrskov  Rønbækskolen  2023-09-30  10:45:00  Loerdag   \n",
       " ...       ...       ...           ...         ...       ...      ...   \n",
       " 1837497  D.03  Favrskov  Rønbækskolen  2023-01-20  18:15:00   Fredag   \n",
       " 1838551  D.03  Favrskov  Rønbækskolen  2023-01-10  14:15:00  Tirsdag   \n",
       " 1838938  D.03  Favrskov  Rønbækskolen  2023-09-29  18:00:00   Fredag   \n",
       " 1839466  D.03  Favrskov  Rønbækskolen  2023-01-31  12:15:00  Tirsdag   \n",
       " 1841534  D.03  Favrskov  Rønbækskolen  2023-02-02  07:15:00  Torsdag   \n",
       " \n",
       "         TIDSPUNKT_TYPE        TYPE        NAVN    CO2   TEMP  MOTION   IAQ  \\\n",
       " 46              Fritid  Normal Dag  Normal Dag  426.0  20.10     NaN   NaN   \n",
       " 112             Fritid  Normal Dag  Normal Dag  978.0  20.20     NaN   NaN   \n",
       " 556             Fritid  Normal Dag  Normal Dag  440.0  23.00     NaN  1.21   \n",
       " 900             Fritid  Normal Dag  Normal Dag  435.0  23.00     NaN  1.17   \n",
       " 901             Fritid  Normal Dag  Normal Dag  433.0  23.00     NaN  1.07   \n",
       " ...                ...         ...         ...    ...    ...     ...   ...   \n",
       " 1837497         Fritid  Normal Dag  Normal Dag  473.0  20.50     NaN   NaN   \n",
       " 1838551          Skole  Normal Dag  Normal Dag  427.0  20.40     NaN   NaN   \n",
       " 1838938         Fritid  Normal Dag  Normal Dag  437.5  22.75     NaN  0.03   \n",
       " 1839466          Skole  Normal Dag  Normal Dag  580.0  20.60     NaN   NaN   \n",
       " 1841534          Skole  Normal Dag  Normal Dag  462.0  19.40     NaN   NaN   \n",
       " \n",
       "          BOOKET  SKEMALAGT           SKOLE_ID  \n",
       " 46          1.0        NaN  Rønbækskolen_D.03  \n",
       " 112         1.0        NaN  Rønbækskolen_D.03  \n",
       " 556         1.0        NaN  Rønbækskolen_D.03  \n",
       " 900         1.0        NaN  Rønbækskolen_D.03  \n",
       " 901         1.0        NaN  Rønbækskolen_D.03  \n",
       " ...         ...        ...                ...  \n",
       " 1837497     NaN        NaN  Rønbækskolen_D.03  \n",
       " 1838551     NaN        NaN  Rønbækskolen_D.03  \n",
       " 1838938     NaN        NaN  Rønbækskolen_D.03  \n",
       " 1839466     NaN        NaN  Rønbækskolen_D.03  \n",
       " 1841534     NaN        NaN  Rønbækskolen_D.03  \n",
       " \n",
       " [2497 rows x 16 columns],\n",
       " 'Rønbækskolen_D.05':            ID   KOMMUNE         SKOLE        DATE      TIME  DAYNAME  \\\n",
       " 49       D.05  Favrskov  Rønbækskolen  2023-02-07  19:45:00  Tirsdag   \n",
       " 122      D.05  Favrskov  Rønbækskolen  2023-01-31  20:15:00  Tirsdag   \n",
       " 204      D.05  Favrskov  Rønbækskolen  2023-09-22  14:00:00   Fredag   \n",
       " 1735     D.05  Favrskov  Rønbækskolen  2023-09-28  06:15:00  Torsdag   \n",
       " 1876     D.05  Favrskov  Rønbækskolen  2023-01-10  23:15:00  Tirsdag   \n",
       " ...       ...       ...           ...         ...       ...      ...   \n",
       " 1839509  D.05  Favrskov  Rønbækskolen  2023-10-05  10:30:00  Torsdag   \n",
       " 1840045  D.05  Favrskov  Rønbækskolen  2023-02-06  13:45:00   Mandag   \n",
       " 1841505  D.05  Favrskov  Rønbækskolen  2023-01-31  02:45:00  Tirsdag   \n",
       " 1841770  D.05  Favrskov  Rønbækskolen  2023-01-23  00:45:00   Mandag   \n",
       " 1842185  D.05  Favrskov  Rønbækskolen  2023-01-26  11:15:00  Torsdag   \n",
       " \n",
       "         TIDSPUNKT_TYPE        TYPE        NAVN          CO2  TEMP  MOTION  \\\n",
       " 49              Fritid  Normal Dag  Normal Dag   416.000000  19.6     NaN   \n",
       " 122             Fritid  Normal Dag  Normal Dag  1970.000000  21.3     NaN   \n",
       " 204              Skole  Normal Dag  Normal Dag   396.666667  22.9     NaN   \n",
       " 1735             Skole  Normal Dag  Normal Dag   754.666667  22.6     NaN   \n",
       " 1876            Fritid  Normal Dag  Normal Dag   420.000000  19.3     NaN   \n",
       " ...                ...         ...         ...          ...   ...     ...   \n",
       " 1839509          Skole  Normal Dag  Normal Dag   725.000000  22.9     NaN   \n",
       " 1840045          Skole  Normal Dag  Normal Dag   626.000000  20.1     NaN   \n",
       " 1841505          Skole  Normal Dag  Normal Dag   429.000000  19.0     NaN   \n",
       " 1841770          Skole  Normal Dag  Normal Dag   436.000000  18.0     NaN   \n",
       " 1842185          Skole  Normal Dag  Normal Dag   841.000000  21.5     NaN   \n",
       " \n",
       "               IAQ  BOOKET  SKEMALAGT           SKOLE_ID  \n",
       " 49            NaN     1.0        NaN  Rønbækskolen_D.05  \n",
       " 122           NaN     1.0        NaN  Rønbækskolen_D.05  \n",
       " 204      0.033333     NaN        NaN  Rønbækskolen_D.05  \n",
       " 1735     0.030000     NaN        NaN  Rønbækskolen_D.05  \n",
       " 1876          NaN     NaN        NaN  Rønbækskolen_D.05  \n",
       " ...           ...     ...        ...                ...  \n",
       " 1839509  0.040000     NaN        NaN  Rønbækskolen_D.05  \n",
       " 1840045       NaN     NaN        NaN  Rønbækskolen_D.05  \n",
       " 1841505       NaN     NaN        NaN  Rønbækskolen_D.05  \n",
       " 1841770       NaN     NaN        NaN  Rønbækskolen_D.05  \n",
       " 1842185       NaN     NaN        1.0  Rønbækskolen_D.05  \n",
       " \n",
       " [2494 rows x 16 columns],\n",
       " 'Rønbækskolen_D.06':            ID   KOMMUNE         SKOLE        DATE      TIME  DAYNAME  \\\n",
       " 183      D.06  Favrskov  Rønbækskolen  2023-01-10  17:45:00  Tirsdag   \n",
       " 412      D.06  Favrskov  Rønbækskolen  2023-10-04  16:30:00   Onsdag   \n",
       " 754      D.06  Favrskov  Rønbækskolen  2023-02-02  05:15:00  Torsdag   \n",
       " 896      D.06  Favrskov  Rønbækskolen  2023-09-26  18:30:00  Tirsdag   \n",
       " 1983     D.06  Favrskov  Rønbækskolen  2023-01-28  07:45:00  Loerdag   \n",
       " ...       ...       ...           ...         ...       ...      ...   \n",
       " 1838755  D.06  Favrskov  Rønbækskolen  2023-10-11  20:45:00   Onsdag   \n",
       " 1840256  D.06  Favrskov  Rønbækskolen  2023-01-12  04:15:00  Torsdag   \n",
       " 1841333  D.06  Favrskov  Rønbækskolen  2023-09-27  10:45:00   Onsdag   \n",
       " 1841362  D.06  Favrskov  Rønbækskolen  2023-01-25  22:15:00   Onsdag   \n",
       " 1841411  D.06  Favrskov  Rønbækskolen  2023-01-17  22:45:00  Tirsdag   \n",
       " \n",
       "         TIDSPUNKT_TYPE        TYPE        NAVN         CO2       TEMP  MOTION  \\\n",
       " 183             Fritid  Normal Dag  Normal Dag  448.000000  19.100000     NaN   \n",
       " 412             Fritid  Normal Dag  Normal Dag  418.666667  22.066667     NaN   \n",
       " 754              Skole  Normal Dag  Normal Dag  686.000000  18.600000     NaN   \n",
       " 896             Fritid  Normal Dag  Normal Dag  946.333333  22.500000     NaN   \n",
       " 1983            Fritid  Normal Dag  Normal Dag  522.000000  21.700000     NaN   \n",
       " ...                ...         ...         ...         ...        ...     ...   \n",
       " 1838755         Fritid  Normal Dag  Normal Dag  508.000000  21.100000     NaN   \n",
       " 1840256          Skole  Normal Dag  Normal Dag  500.000000  18.600000     NaN   \n",
       " 1841333          Skole  Normal Dag  Normal Dag  495.000000  22.400000     NaN   \n",
       " 1841362         Fritid  Normal Dag  Normal Dag  481.000000  21.100000     NaN   \n",
       " 1841411         Fritid  Normal Dag  Normal Dag  483.000000  19.400000     NaN   \n",
       " \n",
       "           IAQ  BOOKET  SKEMALAGT           SKOLE_ID  \n",
       " 183       NaN     1.0        NaN  Rønbækskolen_D.06  \n",
       " 412      0.02     NaN        NaN  Rønbækskolen_D.06  \n",
       " 754       NaN     NaN        NaN  Rønbækskolen_D.06  \n",
       " 896      0.80     1.0        NaN  Rønbækskolen_D.06  \n",
       " 1983      NaN     NaN        NaN  Rønbækskolen_D.06  \n",
       " ...       ...     ...        ...                ...  \n",
       " 1838755  0.02     NaN        NaN  Rønbækskolen_D.06  \n",
       " 1840256   NaN     NaN        NaN  Rønbækskolen_D.06  \n",
       " 1841333  0.02     NaN        NaN  Rønbækskolen_D.06  \n",
       " 1841362   NaN     NaN        NaN  Rønbækskolen_D.06  \n",
       " 1841411   NaN     NaN        NaN  Rønbækskolen_D.06  \n",
       " \n",
       " [2777 rows x 16 columns],\n",
       " 'Rønbækskolen_D.08':            ID   KOMMUNE         SKOLE        DATE      TIME  DAYNAME  \\\n",
       " 226      D.08  Favrskov  Rønbækskolen  2023-01-31  16:45:00  Tirsdag   \n",
       " 227      D.08  Favrskov  Rønbækskolen  2023-01-14  09:15:00  Loerdag   \n",
       " 290      D.08  Favrskov  Rønbækskolen  2023-10-09  09:00:00   Mandag   \n",
       " 1585     D.08  Favrskov  Rønbækskolen  2023-09-26  09:00:00  Tirsdag   \n",
       " 4500     D.08  Favrskov  Rønbækskolen  2023-01-30  17:45:00   Mandag   \n",
       " ...       ...       ...           ...         ...       ...      ...   \n",
       " 1840337  D.08  Favrskov  Rønbækskolen  2023-02-06  04:45:00   Mandag   \n",
       " 1840691  D.08  Favrskov  Rønbækskolen  2023-01-16  17:15:00   Mandag   \n",
       " 1841463  D.08  Favrskov  Rønbækskolen  2023-01-30  03:15:00   Mandag   \n",
       " 1841467  D.08  Favrskov  Rønbækskolen  2023-02-05  17:15:00  Soendag   \n",
       " 1841718  D.08  Favrskov  Rønbækskolen  2023-01-23  04:15:00   Mandag   \n",
       " \n",
       "         TIDSPUNKT_TYPE        TYPE        NAVN     CO2  TEMP  MOTION   IAQ  \\\n",
       " 226             Fritid  Normal Dag  Normal Dag  1001.0  20.3     NaN   NaN   \n",
       " 227             Fritid  Normal Dag  Normal Dag   515.0  19.9     NaN   NaN   \n",
       " 290              Skole  Normal Dag  Normal Dag   476.5  21.4     NaN  0.02   \n",
       " 1585             Skole  Normal Dag  Normal Dag   582.0  23.1     NaN  0.02   \n",
       " 4500            Fritid  Normal Dag  Normal Dag   450.0  19.5     NaN   NaN   \n",
       " ...                ...         ...         ...     ...   ...     ...   ...   \n",
       " 1840337          Skole  Normal Dag  Normal Dag   485.0  17.5     NaN   NaN   \n",
       " 1840691         Fritid  Normal Dag  Normal Dag   435.0  19.1     NaN   NaN   \n",
       " 1841463          Skole  Normal Dag  Normal Dag   445.0  18.8     NaN   NaN   \n",
       " 1841467         Fritid  Normal Dag  Normal Dag   512.0  17.9     NaN   NaN   \n",
       " 1841718          Skole  Normal Dag  Normal Dag   430.0  18.5     NaN   NaN   \n",
       " \n",
       "          BOOKET  SKEMALAGT           SKOLE_ID  \n",
       " 226         1.0        NaN  Rønbækskolen_D.08  \n",
       " 227         1.0        NaN  Rønbækskolen_D.08  \n",
       " 290         NaN        NaN  Rønbækskolen_D.08  \n",
       " 1585        NaN        NaN  Rønbækskolen_D.08  \n",
       " 4500        NaN        NaN  Rønbækskolen_D.08  \n",
       " ...         ...        ...                ...  \n",
       " 1840337     NaN        NaN  Rønbækskolen_D.08  \n",
       " 1840691     NaN        NaN  Rønbækskolen_D.08  \n",
       " 1841463     NaN        NaN  Rønbækskolen_D.08  \n",
       " 1841467     NaN        NaN  Rønbækskolen_D.08  \n",
       " 1841718     NaN        NaN  Rønbækskolen_D.08  \n",
       " \n",
       " [2405 rows x 16 columns],\n",
       " 'Rønbækskolen_D.09':            ID   KOMMUNE         SKOLE        DATE      TIME  DAYNAME  \\\n",
       " 1295     D.09  Favrskov  Rønbækskolen  2023-02-01  10:15:00   Onsdag   \n",
       " 2259     D.09  Favrskov  Rønbækskolen  2023-09-29  21:00:00   Fredag   \n",
       " 2401     D.09  Favrskov  Rønbækskolen  2023-01-14  09:15:00  Loerdag   \n",
       " 2529     D.09  Favrskov  Rønbækskolen  2023-01-31  07:45:00  Tirsdag   \n",
       " 3276     D.09  Favrskov  Rønbækskolen  2023-01-05  07:15:00  Torsdag   \n",
       " ...       ...       ...           ...         ...       ...      ...   \n",
       " 1837640  D.09  Favrskov  Rønbækskolen  2023-01-09  08:15:00   Mandag   \n",
       " 1838350  D.09  Favrskov  Rønbækskolen  2023-10-05  13:30:00  Torsdag   \n",
       " 1838734  D.09  Favrskov  Rønbækskolen  2023-01-17  02:45:00  Tirsdag   \n",
       " 1839706  D.09  Favrskov  Rønbækskolen  2023-09-22  07:45:00   Fredag   \n",
       " 1841233  D.09  Favrskov  Rønbækskolen  2023-01-13  17:45:00   Fredag   \n",
       " \n",
       "         TIDSPUNKT_TYPE        TYPE        NAVN    CO2  TEMP  MOTION   IAQ  \\\n",
       " 1295             Skole  Normal Dag  Normal Dag  600.0  20.6     NaN   NaN   \n",
       " 2259            Fritid  Normal Dag  Normal Dag  462.0  22.2     NaN  0.03   \n",
       " 2401            Fritid  Normal Dag  Normal Dag  411.0  20.4     NaN   NaN   \n",
       " 2529             Skole  Normal Dag  Normal Dag  415.0  19.6     NaN   NaN   \n",
       " 3276             Skole  Normal Dag  Normal Dag  454.0  19.8     NaN   NaN   \n",
       " ...                ...         ...         ...    ...   ...     ...   ...   \n",
       " 1837640          Skole  Normal Dag  Normal Dag  484.0  19.4     NaN   NaN   \n",
       " 1838350          Skole  Normal Dag  Normal Dag  442.0  22.5     NaN  0.03   \n",
       " 1838734          Skole  Normal Dag  Normal Dag  480.0  19.9     NaN   NaN   \n",
       " 1839706          Skole  Normal Dag  Normal Dag  504.0  23.0     NaN  0.02   \n",
       " 1841233         Fritid  Normal Dag  Normal Dag  420.0  20.5     NaN   NaN   \n",
       " \n",
       "          BOOKET  SKEMALAGT           SKOLE_ID  \n",
       " 1295        NaN        NaN  Rønbækskolen_D.09  \n",
       " 2259        NaN        NaN  Rønbækskolen_D.09  \n",
       " 2401        NaN        NaN  Rønbækskolen_D.09  \n",
       " 2529        NaN        NaN  Rønbækskolen_D.09  \n",
       " 3276        NaN        NaN  Rønbækskolen_D.09  \n",
       " ...         ...        ...                ...  \n",
       " 1837640     NaN        NaN  Rønbækskolen_D.09  \n",
       " 1838350     NaN        NaN  Rønbækskolen_D.09  \n",
       " 1838734     NaN        NaN  Rønbækskolen_D.09  \n",
       " 1839706     NaN        NaN  Rønbækskolen_D.09  \n",
       " 1841233     NaN        NaN  Rønbækskolen_D.09  \n",
       " \n",
       " [2416 rows x 16 columns],\n",
       " 'Rønbækskolen_D.14':            ID   KOMMUNE         SKOLE        DATE      TIME  DAYNAME  \\\n",
       " 13       D.14  Favrskov  Rønbækskolen  2023-10-02  11:15:00   Mandag   \n",
       " 45       D.14  Favrskov  Rønbækskolen  2023-02-04  10:15:00  Loerdag   \n",
       " 1801     D.14  Favrskov  Rønbækskolen  2023-01-08  07:15:00  Soendag   \n",
       " 2022     D.14  Favrskov  Rønbækskolen  2023-01-08  11:15:00  Soendag   \n",
       " 3148     D.14  Favrskov  Rønbækskolen  2023-01-22  15:15:00  Soendag   \n",
       " ...       ...       ...           ...         ...       ...      ...   \n",
       " 1839869  D.14  Favrskov  Rønbækskolen  2023-09-29  14:15:00   Fredag   \n",
       " 1840083  D.14  Favrskov  Rønbækskolen  2023-10-02  04:00:00   Mandag   \n",
       " 1840382  D.14  Favrskov  Rønbækskolen  2023-01-23  02:15:00   Mandag   \n",
       " 1840962  D.14  Favrskov  Rønbækskolen  2023-10-11  00:00:00   Onsdag   \n",
       " 1841013  D.14  Favrskov  Rønbækskolen  2023-01-30  07:45:00   Mandag   \n",
       " \n",
       "         TIDSPUNKT_TYPE        TYPE        NAVN         CO2       TEMP  MOTION  \\\n",
       " 13               Skole  Normal Dag  Normal Dag  673.666667  22.333333     NaN   \n",
       " 45              Fritid  Normal Dag  Normal Dag  944.000000  19.400000     NaN   \n",
       " 1801            Fritid  Normal Dag  Normal Dag  526.000000  18.400000     NaN   \n",
       " 2022            Fritid  Normal Dag  Normal Dag  511.000000  18.300000     NaN   \n",
       " 3148            Fritid  Normal Dag  Normal Dag  446.000000  18.000000     NaN   \n",
       " ...                ...         ...         ...         ...        ...     ...   \n",
       " 1839869          Skole  Normal Dag  Normal Dag  409.000000  22.200000     NaN   \n",
       " 1840083          Skole  Normal Dag  Normal Dag  427.000000  21.550000     NaN   \n",
       " 1840382          Skole  Normal Dag  Normal Dag  438.000000  17.800000     NaN   \n",
       " 1840962          Skole  Normal Dag  Normal Dag  509.000000  20.400000     NaN   \n",
       " 1841013          Skole  Normal Dag  Normal Dag  474.000000  18.800000     NaN   \n",
       " \n",
       "           IAQ  BOOKET  SKEMALAGT           SKOLE_ID  \n",
       " 13       0.04     NaN        NaN  Rønbækskolen_D.14  \n",
       " 45        NaN     1.0        NaN  Rønbækskolen_D.14  \n",
       " 1801      NaN     NaN        NaN  Rønbækskolen_D.14  \n",
       " 2022      NaN     NaN        NaN  Rønbækskolen_D.14  \n",
       " 3148      NaN     NaN        NaN  Rønbækskolen_D.14  \n",
       " ...       ...     ...        ...                ...  \n",
       " 1839869  0.02     NaN        NaN  Rønbækskolen_D.14  \n",
       " 1840083  0.02     NaN        NaN  Rønbækskolen_D.14  \n",
       " 1840382   NaN     NaN        NaN  Rønbækskolen_D.14  \n",
       " 1840962  0.05     NaN        NaN  Rønbækskolen_D.14  \n",
       " 1841013   NaN     NaN        NaN  Rønbækskolen_D.14  \n",
       " \n",
       " [2398 rows x 16 columns],\n",
       " 'Rønbækskolen_D.17':            ID   KOMMUNE         SKOLE        DATE      TIME  DAYNAME  \\\n",
       " 661      D.17  Favrskov  Rønbækskolen  2023-01-11  23:15:00   Onsdag   \n",
       " 1414     D.17  Favrskov  Rønbækskolen  2023-09-26  16:30:00  Tirsdag   \n",
       " 1535     D.17  Favrskov  Rønbækskolen  2023-01-29  18:15:00  Soendag   \n",
       " 1943     D.17  Favrskov  Rønbækskolen  2023-01-25  13:15:00   Onsdag   \n",
       " 2213     D.17  Favrskov  Rønbækskolen  2023-01-28  07:15:00  Loerdag   \n",
       " ...       ...       ...           ...         ...       ...      ...   \n",
       " 1840484  D.17  Favrskov  Rønbækskolen  2023-01-06  15:45:00   Fredag   \n",
       " 1840919  D.17  Favrskov  Rønbækskolen  2023-01-23  23:45:00   Mandag   \n",
       " 1841573  D.17  Favrskov  Rønbækskolen  2023-02-02  19:45:00  Torsdag   \n",
       " 1841692  D.17  Favrskov  Rønbækskolen  2023-01-29  12:45:00  Soendag   \n",
       " 1841798  D.17  Favrskov  Rønbækskolen  2023-01-14  04:45:00  Loerdag   \n",
       " \n",
       "         TIDSPUNKT_TYPE        TYPE        NAVN    CO2  TEMP  MOTION   IAQ  \\\n",
       " 661             Fritid  Normal Dag  Normal Dag  458.0  19.1     NaN   NaN   \n",
       " 1414            Fritid  Normal Dag  Normal Dag  547.0  24.0     NaN  0.21   \n",
       " 1535            Fritid  Normal Dag  Normal Dag  415.0  18.6     NaN   NaN   \n",
       " 1943             Skole  Normal Dag  Normal Dag  874.0  19.9     NaN   NaN   \n",
       " 2213            Fritid  Normal Dag  Normal Dag  502.0  18.9     NaN   NaN   \n",
       " ...                ...         ...         ...    ...   ...     ...   ...   \n",
       " 1840484          Skole  Normal Dag  Normal Dag  581.0  19.9     NaN   NaN   \n",
       " 1840919         Fritid  Normal Dag  Normal Dag  609.0  18.7     NaN   NaN   \n",
       " 1841573         Fritid  Normal Dag  Normal Dag  528.0  19.5     NaN   NaN   \n",
       " 1841692         Fritid  Normal Dag  Normal Dag  420.0  18.6     NaN   NaN   \n",
       " 1841798         Fritid  Normal Dag  Normal Dag  401.0  19.1     NaN   NaN   \n",
       " \n",
       "          BOOKET  SKEMALAGT           SKOLE_ID  \n",
       " 661         NaN        NaN  Rønbækskolen_D.17  \n",
       " 1414        1.0        NaN  Rønbækskolen_D.17  \n",
       " 1535        NaN        NaN  Rønbækskolen_D.17  \n",
       " 1943        NaN        NaN  Rønbækskolen_D.17  \n",
       " 2213        NaN        NaN  Rønbækskolen_D.17  \n",
       " ...         ...        ...                ...  \n",
       " 1840484     NaN        NaN  Rønbækskolen_D.17  \n",
       " 1840919     NaN        NaN  Rønbækskolen_D.17  \n",
       " 1841573     NaN        NaN  Rønbækskolen_D.17  \n",
       " 1841692     NaN        NaN  Rønbækskolen_D.17  \n",
       " 1841798     NaN        NaN  Rønbækskolen_D.17  \n",
       " \n",
       " [2314 rows x 16 columns],\n",
       " 'Rønbækskolen_D.19':            ID   KOMMUNE         SKOLE        DATE      TIME  DAYNAME  \\\n",
       " 71       D.19  Favrskov  Rønbækskolen  2023-01-24  18:45:00  Tirsdag   \n",
       " 181      D.19  Favrskov  Rønbækskolen  2023-02-04  13:15:00  Loerdag   \n",
       " 2139     D.19  Favrskov  Rønbækskolen  2023-01-14  01:15:00  Loerdag   \n",
       " 4746     D.19  Favrskov  Rønbækskolen  2023-01-09  10:45:00   Mandag   \n",
       " 6701     D.19  Favrskov  Rønbækskolen  2023-01-29  20:15:00  Soendag   \n",
       " ...       ...       ...           ...         ...       ...      ...   \n",
       " 1839090  D.19  Favrskov  Rønbækskolen  2023-01-14  19:45:00  Loerdag   \n",
       " 1839746  D.19  Favrskov  Rønbækskolen  2023-01-20  17:45:00   Fredag   \n",
       " 1839932  D.19  Favrskov  Rønbækskolen  2023-09-29  03:30:00   Fredag   \n",
       " 1840003  D.19  Favrskov  Rønbækskolen  2023-10-04  05:45:00   Onsdag   \n",
       " 1841731  D.19  Favrskov  Rønbækskolen  2023-10-07  12:30:00  Loerdag   \n",
       " \n",
       "         TIDSPUNKT_TYPE        TYPE        NAVN    CO2  TEMP  MOTION   IAQ  \\\n",
       " 71              Fritid  Normal Dag  Normal Dag  589.0   0.0     NaN   NaN   \n",
       " 181             Fritid  Normal Dag  Normal Dag  906.0   0.0     NaN   NaN   \n",
       " 2139            Fritid  Normal Dag  Normal Dag  644.0   0.0     NaN   NaN   \n",
       " 4746             Skole  Normal Dag  Normal Dag  719.0   0.0     NaN   NaN   \n",
       " 6701            Fritid  Normal Dag  Normal Dag  414.0   0.0     NaN   NaN   \n",
       " ...                ...         ...         ...    ...   ...     ...   ...   \n",
       " 1839090         Fritid  Normal Dag  Normal Dag  412.0   0.0     NaN   NaN   \n",
       " 1839746         Fritid  Normal Dag  Normal Dag  544.0   0.0     NaN   NaN   \n",
       " 1839932          Skole  Normal Dag  Normal Dag  421.0  22.4     NaN  0.23   \n",
       " 1840003          Skole  Normal Dag  Normal Dag  488.0  21.7     NaN  0.02   \n",
       " 1841731         Fritid  Normal Dag  Normal Dag  458.0  21.8     NaN  0.02   \n",
       " \n",
       "          BOOKET  SKEMALAGT           SKOLE_ID  \n",
       " 71          1.0        NaN  Rønbækskolen_D.19  \n",
       " 181         1.0        NaN  Rønbækskolen_D.19  \n",
       " 2139        NaN        NaN  Rønbækskolen_D.19  \n",
       " 4746        NaN        NaN  Rønbækskolen_D.19  \n",
       " 6701        NaN        NaN  Rønbækskolen_D.19  \n",
       " ...         ...        ...                ...  \n",
       " 1839090     NaN        NaN  Rønbækskolen_D.19  \n",
       " 1839746     NaN        NaN  Rønbækskolen_D.19  \n",
       " 1839932     NaN        NaN  Rønbækskolen_D.19  \n",
       " 1840003     NaN        NaN  Rønbækskolen_D.19  \n",
       " 1841731     NaN        NaN  Rønbækskolen_D.19  \n",
       " \n",
       " [2218 rows x 16 columns],\n",
       " 'Rønbækskolen_D.23':            ID   KOMMUNE         SKOLE        DATE      TIME  DAYNAME  \\\n",
       " 88       D.23  Favrskov  Rønbækskolen  2023-01-13  22:15:00   Fredag   \n",
       " 168      D.23  Favrskov  Rønbækskolen  2023-01-30  07:45:00   Mandag   \n",
       " 1293     D.23  Favrskov  Rønbækskolen  2023-02-07  03:45:00  Tirsdag   \n",
       " 2583     D.23  Favrskov  Rønbækskolen  2023-01-28  04:45:00  Loerdag   \n",
       " 3090     D.23  Favrskov  Rønbækskolen  2023-01-20  20:15:00   Fredag   \n",
       " ...       ...       ...           ...         ...       ...      ...   \n",
       " 1840445  D.23  Favrskov  Rønbækskolen  2023-01-12  10:45:00  Torsdag   \n",
       " 1841269  D.23  Favrskov  Rønbækskolen  2023-10-02  21:45:00   Mandag   \n",
       " 1841728  D.23  Favrskov  Rønbækskolen  2023-01-23  07:45:00   Mandag   \n",
       " 1841869  D.23  Favrskov  Rønbækskolen  2023-01-30  01:45:00   Mandag   \n",
       " 1842096  D.23  Favrskov  Rønbækskolen  2023-01-14  14:15:00  Loerdag   \n",
       " \n",
       "         TIDSPUNKT_TYPE        TYPE        NAVN    CO2  TEMP  MOTION   IAQ  \\\n",
       " 88              Fritid  Normal Dag  Normal Dag  625.0  21.2     NaN   NaN   \n",
       " 168              Skole  Normal Dag  Normal Dag  451.0  17.9     NaN   NaN   \n",
       " 1293             Skole  Normal Dag  Normal Dag  526.0  17.6     NaN   NaN   \n",
       " 2583            Fritid  Normal Dag  Normal Dag  753.0  19.5     NaN   NaN   \n",
       " 3090            Fritid  Normal Dag  Normal Dag  767.0  19.8     NaN   NaN   \n",
       " ...                ...         ...         ...    ...   ...     ...   ...   \n",
       " 1840445          Skole  Normal Dag  Normal Dag  675.0  20.5     NaN   NaN   \n",
       " 1841269         Fritid  Normal Dag  Normal Dag  452.0  21.2     NaN  0.02   \n",
       " 1841728          Skole  Normal Dag  Normal Dag  461.0  18.1     NaN   NaN   \n",
       " 1841869          Skole  Normal Dag  Normal Dag  419.0  17.0     NaN   NaN   \n",
       " 1842096         Fritid  Normal Dag  Normal Dag  455.0  19.5     NaN   NaN   \n",
       " \n",
       "          BOOKET  SKEMALAGT           SKOLE_ID  \n",
       " 88          1.0        NaN  Rønbækskolen_D.23  \n",
       " 168         NaN        NaN  Rønbækskolen_D.23  \n",
       " 1293        NaN        NaN  Rønbækskolen_D.23  \n",
       " 2583        NaN        NaN  Rønbækskolen_D.23  \n",
       " 3090        NaN        NaN  Rønbækskolen_D.23  \n",
       " ...         ...        ...                ...  \n",
       " 1840445     NaN        NaN  Rønbækskolen_D.23  \n",
       " 1841269     NaN        NaN  Rønbækskolen_D.23  \n",
       " 1841728     NaN        NaN  Rønbækskolen_D.23  \n",
       " 1841869     NaN        NaN  Rønbækskolen_D.23  \n",
       " 1842096     NaN        NaN  Rønbækskolen_D.23  \n",
       " \n",
       " [2324 rows x 16 columns],\n",
       " 'Rønbækskolen_D.29':            ID   KOMMUNE         SKOLE        DATE      TIME  DAYNAME  \\\n",
       " 72       D.29  Favrskov  Rønbækskolen  2023-02-01  17:15:00   Onsdag   \n",
       " 121      D.29  Favrskov  Rønbækskolen  2023-02-03  23:45:00   Fredag   \n",
       " 1185     D.29  Favrskov  Rønbækskolen  2023-01-11  02:45:00   Onsdag   \n",
       " 1369     D.29  Favrskov  Rønbækskolen  2023-10-06  06:45:00   Fredag   \n",
       " 2757     D.29  Favrskov  Rønbækskolen  2023-10-07  16:30:00  Loerdag   \n",
       " ...       ...       ...           ...         ...       ...      ...   \n",
       " 1840017  D.29  Favrskov  Rønbækskolen  2023-01-18  16:15:00   Onsdag   \n",
       " 1840202  D.29  Favrskov  Rønbækskolen  2023-01-25  11:15:00   Onsdag   \n",
       " 1840249  D.29  Favrskov  Rønbækskolen  2023-01-26  10:15:00  Torsdag   \n",
       " 1840426  D.29  Favrskov  Rønbækskolen  2023-01-17  08:45:00  Tirsdag   \n",
       " 1841195  D.29  Favrskov  Rønbækskolen  2023-09-27  08:45:00   Onsdag   \n",
       " \n",
       "         TIDSPUNKT_TYPE        TYPE        NAVN     CO2  TEMP  MOTION   IAQ  \\\n",
       " 72              Fritid  Normal Dag  Normal Dag   653.0  20.4     NaN   NaN   \n",
       " 121             Fritid  Normal Dag  Normal Dag  1140.0  19.9     NaN   NaN   \n",
       " 1185             Skole  Normal Dag  Normal Dag   422.0  18.8     NaN   NaN   \n",
       " 1369             Skole  Normal Dag  Normal Dag   848.0  23.3     NaN  0.04   \n",
       " 2757            Fritid  Normal Dag  Normal Dag   393.0  22.8     NaN  0.02   \n",
       " ...                ...         ...         ...     ...   ...     ...   ...   \n",
       " 1840017         Fritid  Normal Dag  Normal Dag   425.0  20.0     NaN   NaN   \n",
       " 1840202          Skole  Normal Dag  Normal Dag   886.0  21.0     NaN   NaN   \n",
       " 1840249          Skole  Normal Dag  Normal Dag   884.0  20.7     NaN   NaN   \n",
       " 1840426          Skole  Normal Dag  Normal Dag   843.0  20.1     NaN   NaN   \n",
       " 1841195          Skole  Normal Dag  Normal Dag   838.0  24.3     NaN  0.04   \n",
       " \n",
       "          BOOKET  SKEMALAGT           SKOLE_ID  \n",
       " 72          1.0        NaN  Rønbækskolen_D.29  \n",
       " 121         1.0        NaN  Rønbækskolen_D.29  \n",
       " 1185        NaN        NaN  Rønbækskolen_D.29  \n",
       " 1369        NaN        NaN  Rønbækskolen_D.29  \n",
       " 2757        NaN        NaN  Rønbækskolen_D.29  \n",
       " ...         ...        ...                ...  \n",
       " 1840017     NaN        NaN  Rønbækskolen_D.29  \n",
       " 1840202     NaN        NaN  Rønbækskolen_D.29  \n",
       " 1840249     NaN        NaN  Rønbækskolen_D.29  \n",
       " 1840426     NaN        NaN  Rønbækskolen_D.29  \n",
       " 1841195     NaN        NaN  Rønbækskolen_D.29  \n",
       " \n",
       " [2418 rows x 16 columns],\n",
       " 'Rønbækskolen_D.30':            ID   KOMMUNE         SKOLE        DATE      TIME  DAYNAME  \\\n",
       " 87       D.30  Favrskov  Rønbækskolen  2023-02-04  12:30:00  Loerdag   \n",
       " 98       D.30  Favrskov  Rønbækskolen  2023-01-10  19:00:00  Tirsdag   \n",
       " 228      D.30  Favrskov  Rønbækskolen  2023-01-24  17:30:00  Tirsdag   \n",
       " 1056     D.30  Favrskov  Rønbækskolen  2023-02-02  20:00:00  Torsdag   \n",
       " 2602     D.30  Favrskov  Rønbækskolen  2023-01-26  16:30:00  Torsdag   \n",
       " ...       ...       ...           ...         ...       ...      ...   \n",
       " 1839324  D.30  Favrskov  Rønbækskolen  2023-02-06  11:30:00   Mandag   \n",
       " 1840044  D.30  Favrskov  Rønbækskolen  2023-09-28  18:30:00  Torsdag   \n",
       " 1840551  D.30  Favrskov  Rønbækskolen  2023-09-25  05:45:00   Mandag   \n",
       " 1841650  D.30  Favrskov  Rønbækskolen  2023-10-08  12:30:00  Soendag   \n",
       " 1841878  D.30  Favrskov  Rønbækskolen  2023-01-19  23:00:00  Torsdag   \n",
       " \n",
       "         TIDSPUNKT_TYPE        TYPE        NAVN     CO2  TEMP  MOTION   IAQ  \\\n",
       " 87              Fritid  Normal Dag  Normal Dag  1295.0  21.7     NaN   NaN   \n",
       " 98              Fritid  Normal Dag  Normal Dag   441.0  21.4     NaN   NaN   \n",
       " 228             Fritid  Normal Dag  Normal Dag   475.0  21.4     NaN   NaN   \n",
       " 1056            Fritid  Normal Dag  Normal Dag   444.0  19.9     NaN   NaN   \n",
       " 2602            Fritid  Normal Dag  Normal Dag   458.0  20.5     NaN   NaN   \n",
       " ...                ...         ...         ...     ...   ...     ...   ...   \n",
       " 1839324          Skole  Normal Dag  Normal Dag   783.0  20.8     NaN   NaN   \n",
       " 1840044         Fritid  Normal Dag  Normal Dag   428.0  22.7     NaN  0.02   \n",
       " 1840551          Skole  Normal Dag  Normal Dag   404.0  22.5     NaN  0.08   \n",
       " 1841650         Fritid  Normal Dag  Normal Dag   491.0  21.8     NaN  0.04   \n",
       " 1841878         Fritid  Normal Dag  Normal Dag   470.0  19.6     NaN   NaN   \n",
       " \n",
       "          BOOKET  SKEMALAGT           SKOLE_ID  \n",
       " 87          1.0        NaN  Rønbækskolen_D.30  \n",
       " 98          1.0        NaN  Rønbækskolen_D.30  \n",
       " 228         1.0        NaN  Rønbækskolen_D.30  \n",
       " 1056        NaN        NaN  Rønbækskolen_D.30  \n",
       " 2602        NaN        NaN  Rønbækskolen_D.30  \n",
       " ...         ...        ...                ...  \n",
       " 1839324     NaN        NaN  Rønbækskolen_D.30  \n",
       " 1840044     NaN        NaN  Rønbækskolen_D.30  \n",
       " 1840551     NaN        NaN  Rønbækskolen_D.30  \n",
       " 1841650     NaN        NaN  Rønbækskolen_D.30  \n",
       " 1841878     NaN        NaN  Rønbækskolen_D.30  \n",
       " \n",
       " [2563 rows x 16 columns],\n",
       " 'Rønbækskolen_D.31':            ID   KOMMUNE         SKOLE        DATE      TIME  DAYNAME  \\\n",
       " 215      D.31  Favrskov  Rønbækskolen  2023-10-05  22:15:00  Torsdag   \n",
       " 539      D.31  Favrskov  Rønbækskolen  2023-09-29  01:15:00   Fredag   \n",
       " 1903     D.31  Favrskov  Rønbækskolen  2023-01-20  04:45:00   Fredag   \n",
       " 2098     D.31  Favrskov  Rønbækskolen  2023-10-08  10:00:00  Soendag   \n",
       " 2386     D.31  Favrskov  Rønbækskolen  2023-01-28  19:45:00  Loerdag   \n",
       " ...       ...       ...           ...         ...       ...      ...   \n",
       " 1840424  D.31  Favrskov  Rønbækskolen  2023-01-11  03:45:00   Onsdag   \n",
       " 1840505  D.31  Favrskov  Rønbækskolen  2023-02-08  18:45:00   Onsdag   \n",
       " 1840634  D.31  Favrskov  Rønbækskolen  2023-01-09  03:45:00   Mandag   \n",
       " 1841394  D.31  Favrskov  Rønbækskolen  2023-02-08  02:15:00   Onsdag   \n",
       " 1841899  D.31  Favrskov  Rønbækskolen  2023-01-17  04:15:00  Tirsdag   \n",
       " \n",
       "         TIDSPUNKT_TYPE        TYPE        NAVN         CO2  TEMP  MOTION  \\\n",
       " 215             Fritid  Normal Dag  Normal Dag  408.333333  22.7     NaN   \n",
       " 539              Skole  Normal Dag  Normal Dag  451.666667  22.8     NaN   \n",
       " 1903             Skole  Normal Dag  Normal Dag  489.000000  19.1     NaN   \n",
       " 2098            Fritid  Normal Dag  Normal Dag  393.000000  22.0     NaN   \n",
       " 2386            Fritid  Normal Dag  Normal Dag  481.000000  18.5     NaN   \n",
       " ...                ...         ...         ...         ...   ...     ...   \n",
       " 1840424          Skole  Normal Dag  Normal Dag  504.000000  19.1     NaN   \n",
       " 1840505         Fritid  Normal Dag  Normal Dag  557.000000  19.3     NaN   \n",
       " 1840634          Skole  Normal Dag  Normal Dag  469.000000  17.7     NaN   \n",
       " 1841394          Skole  Normal Dag  Normal Dag  520.000000  18.9     NaN   \n",
       " 1841899          Skole  Normal Dag  Normal Dag  581.000000  18.7     NaN   \n",
       " \n",
       "           IAQ  BOOKET  SKEMALAGT           SKOLE_ID  \n",
       " 215      0.03     NaN        NaN  Rønbækskolen_D.31  \n",
       " 539      0.02     NaN        NaN  Rønbækskolen_D.31  \n",
       " 1903      NaN     NaN        NaN  Rønbækskolen_D.31  \n",
       " 2098     0.02     NaN        NaN  Rønbækskolen_D.31  \n",
       " 2386      NaN     NaN        NaN  Rønbækskolen_D.31  \n",
       " ...       ...     ...        ...                ...  \n",
       " 1840424   NaN     NaN        NaN  Rønbækskolen_D.31  \n",
       " 1840505   NaN     NaN        NaN  Rønbækskolen_D.31  \n",
       " 1840634   NaN     NaN        NaN  Rønbækskolen_D.31  \n",
       " 1841394   NaN     NaN        NaN  Rønbækskolen_D.31  \n",
       " 1841899   NaN     NaN        NaN  Rønbækskolen_D.31  \n",
       " \n",
       " [2572 rows x 16 columns],\n",
       " 'Rønbækskolen_D.32':            ID   KOMMUNE         SKOLE        DATE      TIME  DAYNAME  \\\n",
       " 47       D.32  Favrskov  Rønbækskolen  2023-01-17  19:00:00  Tirsdag   \n",
       " 99       D.32  Favrskov  Rønbækskolen  2023-02-03  22:00:00   Fredag   \n",
       " 105      D.32  Favrskov  Rønbækskolen  2023-01-24  19:30:00  Tirsdag   \n",
       " 818      D.32  Favrskov  Rønbækskolen  2023-01-31  07:30:00  Tirsdag   \n",
       " 1845     D.32  Favrskov  Rønbækskolen  2023-09-22  18:00:00   Fredag   \n",
       " ...       ...       ...           ...         ...       ...      ...   \n",
       " 1841114  D.32  Favrskov  Rønbækskolen  2023-10-01  12:45:00  Soendag   \n",
       " 1841334  D.32  Favrskov  Rønbækskolen  2023-01-10  06:00:00  Tirsdag   \n",
       " 1841500  D.32  Favrskov  Rønbækskolen  2023-01-08  16:30:00  Soendag   \n",
       " 1841938  D.32  Favrskov  Rønbækskolen  2023-01-22  13:30:00  Soendag   \n",
       " 1842058  D.32  Favrskov  Rønbækskolen  2023-01-12  07:30:00  Torsdag   \n",
       " \n",
       "         TIDSPUNKT_TYPE        TYPE        NAVN    CO2  TEMP  MOTION   IAQ  \\\n",
       " 47              Fritid  Normal Dag  Normal Dag  501.0  20.0     NaN   NaN   \n",
       " 99              Fritid  Normal Dag  Normal Dag  559.0  19.9     NaN   NaN   \n",
       " 105             Fritid  Normal Dag  Normal Dag  530.0  19.9     NaN   NaN   \n",
       " 818              Skole  Normal Dag  Normal Dag  460.0  19.2     NaN   NaN   \n",
       " 1845            Fritid  Normal Dag  Normal Dag  417.0  22.5     NaN  0.03   \n",
       " ...                ...         ...         ...    ...   ...     ...   ...   \n",
       " 1841114         Fritid  Normal Dag  Normal Dag  420.0  21.7     NaN  0.02   \n",
       " 1841334          Skole  Normal Dag  Normal Dag  586.0  18.8     NaN   NaN   \n",
       " 1841500         Fritid  Normal Dag  Normal Dag  442.0  18.1     NaN   NaN   \n",
       " 1841938         Fritid  Normal Dag  Normal Dag  446.0  18.0     NaN   NaN   \n",
       " 1842058          Skole  Normal Dag  Normal Dag  455.0  19.8     NaN   NaN   \n",
       " \n",
       "          BOOKET  SKEMALAGT           SKOLE_ID  \n",
       " 47          1.0        NaN  Rønbækskolen_D.32  \n",
       " 99          1.0        NaN  Rønbækskolen_D.32  \n",
       " 105         1.0        NaN  Rønbækskolen_D.32  \n",
       " 818         NaN        NaN  Rønbækskolen_D.32  \n",
       " 1845        NaN        NaN  Rønbækskolen_D.32  \n",
       " ...         ...        ...                ...  \n",
       " 1841114     NaN        NaN  Rønbækskolen_D.32  \n",
       " 1841334     NaN        NaN  Rønbækskolen_D.32  \n",
       " 1841500     NaN        NaN  Rønbækskolen_D.32  \n",
       " 1841938     NaN        NaN  Rønbækskolen_D.32  \n",
       " 1842058     NaN        NaN  Rønbækskolen_D.32  \n",
       " \n",
       " [2367 rows x 16 columns],\n",
       " 'Rønbækskolen_E.06':            ID   KOMMUNE         SKOLE        DATE      TIME  DAYNAME  \\\n",
       " 738      E.06  Favrskov  Rønbækskolen  2023-10-08  07:00:00  Soendag   \n",
       " 2870     E.06  Favrskov  Rønbækskolen  2023-09-25  12:30:00   Mandag   \n",
       " 4012     E.06  Favrskov  Rønbækskolen  2023-10-04  11:45:00   Onsdag   \n",
       " 7579     E.06  Favrskov  Rønbækskolen  2023-10-03  04:45:00  Tirsdag   \n",
       " 10957    E.06  Favrskov  Rønbækskolen  2023-10-08  23:45:00  Soendag   \n",
       " ...       ...       ...           ...         ...       ...      ...   \n",
       " 1826122  E.06  Favrskov  Rønbækskolen  2023-09-25  18:30:00   Mandag   \n",
       " 1826929  E.06  Favrskov  Rønbækskolen  2023-09-22  10:30:00   Fredag   \n",
       " 1835441  E.06  Favrskov  Rønbækskolen  2023-09-22  22:00:00   Fredag   \n",
       " 1837011  E.06  Favrskov  Rønbækskolen  2023-09-26  11:45:00  Tirsdag   \n",
       " 1841632  E.06  Favrskov  Rønbækskolen  2023-10-01  03:30:00  Soendag   \n",
       " \n",
       "         TIDSPUNKT_TYPE        TYPE        NAVN    CO2       TEMP  MOTION  \\\n",
       " 738             Fritid  Normal Dag  Normal Dag  588.0  21.100000     NaN   \n",
       " 2870             Skole  Normal Dag  Normal Dag  504.0  22.900000     NaN   \n",
       " 4012             Skole  Normal Dag  Normal Dag  510.0  21.500000     NaN   \n",
       " 7579             Skole  Normal Dag  Normal Dag  500.0  22.000000     NaN   \n",
       " 10957           Fritid  Normal Dag  Normal Dag  497.0  21.000000     NaN   \n",
       " ...                ...         ...         ...    ...        ...     ...   \n",
       " 1826122         Fritid  Normal Dag  Normal Dag  465.0  23.000000     NaN   \n",
       " 1826929          Skole  Normal Dag  Normal Dag  519.0  23.266667     NaN   \n",
       " 1835441         Fritid  Normal Dag  Normal Dag  447.0  23.150000     NaN   \n",
       " 1837011          Skole  Normal Dag  Normal Dag  499.0  22.800000     NaN   \n",
       " 1841632         Fritid  Normal Dag  Normal Dag  434.0  22.000000     NaN   \n",
       " \n",
       "           IAQ  BOOKET  SKEMALAGT           SKOLE_ID  \n",
       " 738      0.02     NaN        NaN  Rønbækskolen_E.06  \n",
       " 2870     0.02     NaN        NaN  Rønbækskolen_E.06  \n",
       " 4012     0.02     NaN        NaN  Rønbækskolen_E.06  \n",
       " 7579     0.02     NaN        NaN  Rønbækskolen_E.06  \n",
       " 10957    0.03     NaN        NaN  Rønbækskolen_E.06  \n",
       " ...       ...     ...        ...                ...  \n",
       " 1826122  0.02     NaN        NaN  Rønbækskolen_E.06  \n",
       " 1826929  0.02     NaN        NaN  Rønbækskolen_E.06  \n",
       " 1835441  0.02     NaN        NaN  Rønbækskolen_E.06  \n",
       " 1837011  0.02     NaN        NaN  Rønbækskolen_E.06  \n",
       " 1841632  0.02     NaN        NaN  Rønbækskolen_E.06  \n",
       " \n",
       " [591 rows x 16 columns],\n",
       " 'Rønbækskolen_E.07':            ID   KOMMUNE         SKOLE        DATE      TIME  DAYNAME  \\\n",
       " 980      E.07  Favrskov  Rønbækskolen  2023-09-28  15:30:00  Torsdag   \n",
       " 3112     E.07  Favrskov  Rønbækskolen  2023-09-27  21:00:00   Onsdag   \n",
       " 4161     E.07  Favrskov  Rønbækskolen  2023-09-24  04:15:00  Soendag   \n",
       " 8015     E.07  Favrskov  Rønbækskolen  2023-10-10  14:30:00  Tirsdag   \n",
       " 9627     E.07  Favrskov  Rønbækskolen  2023-09-23  05:30:00  Loerdag   \n",
       " ...       ...       ...           ...         ...       ...      ...   \n",
       " 1832158  E.07  Favrskov  Rønbækskolen  2023-10-10  13:30:00  Tirsdag   \n",
       " 1832239  E.07  Favrskov  Rønbækskolen  2023-09-25  10:45:00   Mandag   \n",
       " 1838794  E.07  Favrskov  Rønbækskolen  2023-09-24  02:00:00  Soendag   \n",
       " 1840793  E.07  Favrskov  Rønbækskolen  2023-09-25  17:45:00   Mandag   \n",
       " 1841418  E.07  Favrskov  Rønbækskolen  2023-10-03  04:30:00  Tirsdag   \n",
       " \n",
       "         TIDSPUNKT_TYPE        TYPE        NAVN         CO2  TEMP  MOTION  \\\n",
       " 980              Skole  Normal Dag  Normal Dag  417.000000  23.6     NaN   \n",
       " 3112            Fritid  Normal Dag  Normal Dag  444.000000  23.2     NaN   \n",
       " 4161            Fritid  Normal Dag  Normal Dag  436.000000  22.4     NaN   \n",
       " 8015             Skole  Normal Dag  Normal Dag  504.000000  22.1     NaN   \n",
       " 9627            Fritid  Normal Dag  Normal Dag  475.666667  22.8     NaN   \n",
       " ...                ...         ...         ...         ...   ...     ...   \n",
       " 1832158          Skole  Normal Dag  Normal Dag  549.000000  22.3     NaN   \n",
       " 1832239          Skole  Normal Dag  Normal Dag  642.000000  23.6     NaN   \n",
       " 1838794         Fritid  Normal Dag  Normal Dag  436.000000  22.6     NaN   \n",
       " 1840793         Fritid  Normal Dag  Normal Dag  423.000000  23.8     NaN   \n",
       " 1841418          Skole  Normal Dag  Normal Dag  479.000000  22.2     NaN   \n",
       " \n",
       "            IAQ  BOOKET  SKEMALAGT           SKOLE_ID  \n",
       " 980      0.020     NaN        NaN  Rønbækskolen_E.07  \n",
       " 3112     0.040     NaN        NaN  Rønbækskolen_E.07  \n",
       " 4161     0.020     NaN        NaN  Rønbækskolen_E.07  \n",
       " 8015     0.050     NaN        NaN  Rønbækskolen_E.07  \n",
       " 9627     0.020     NaN        NaN  Rønbækskolen_E.07  \n",
       " ...        ...     ...        ...                ...  \n",
       " 1832158  0.050     NaN        NaN  Rønbækskolen_E.07  \n",
       " 1832239  0.160     NaN        NaN  Rønbækskolen_E.07  \n",
       " 1838794  0.025     NaN        NaN  Rønbækskolen_E.07  \n",
       " 1840793  0.040     NaN        NaN  Rønbækskolen_E.07  \n",
       " 1841418  0.020     NaN        NaN  Rønbækskolen_E.07  \n",
       " \n",
       " [717 rows x 16 columns],\n",
       " 'Rønbækskolen_E.08':            ID   KOMMUNE         SKOLE        DATE      TIME  DAYNAME  \\\n",
       " 1579     E.08  Favrskov  Rønbækskolen  2023-09-22  19:15:00   Fredag   \n",
       " 4018     E.08  Favrskov  Rønbækskolen  2023-10-05  00:00:00  Torsdag   \n",
       " 9539     E.08  Favrskov  Rønbækskolen  2023-09-28  17:00:00  Torsdag   \n",
       " 22605    E.08  Favrskov  Rønbækskolen  2023-09-25  13:30:00   Mandag   \n",
       " 36074    E.08  Favrskov  Rønbækskolen  2023-10-06  22:30:00   Fredag   \n",
       " ...       ...       ...           ...         ...       ...      ...   \n",
       " 1833084  E.08  Favrskov  Rønbækskolen  2023-10-01  14:15:00  Soendag   \n",
       " 1834113  E.08  Favrskov  Rønbækskolen  2023-09-30  11:00:00  Loerdag   \n",
       " 1837295  E.08  Favrskov  Rønbækskolen  2023-10-02  14:45:00   Mandag   \n",
       " 1840106  E.08  Favrskov  Rønbækskolen  2023-10-11  02:45:00   Onsdag   \n",
       " 1841096  E.08  Favrskov  Rønbækskolen  2023-09-25  23:00:00   Mandag   \n",
       " \n",
       "         TIDSPUNKT_TYPE        TYPE        NAVN          CO2   TEMP  MOTION  \\\n",
       " 1579            Fritid  Normal Dag  Normal Dag   429.000000  22.40     NaN   \n",
       " 4018             Skole  Normal Dag  Normal Dag  1018.000000  21.30     NaN   \n",
       " 9539            Fritid  Normal Dag  Normal Dag   444.000000  22.15     NaN   \n",
       " 22605            Skole  Normal Dag  Normal Dag   441.000000  21.90     NaN   \n",
       " 36074           Fritid  Normal Dag  Normal Dag   572.000000  21.40     NaN   \n",
       " ...                ...         ...         ...          ...    ...     ...   \n",
       " 1833084         Fritid  Normal Dag  Normal Dag   441.000000  21.10     NaN   \n",
       " 1834113         Fritid  Normal Dag  Normal Dag   457.000000  21.60     NaN   \n",
       " 1837295          Skole  Normal Dag  Normal Dag   770.500000  22.70     NaN   \n",
       " 1840106          Skole  Normal Dag  Normal Dag   461.000000  20.60     NaN   \n",
       " 1841096         Fritid  Normal Dag  Normal Dag   460.333333  21.70     NaN   \n",
       " \n",
       "           IAQ  BOOKET  SKEMALAGT           SKOLE_ID  \n",
       " 1579     0.03     NaN        NaN  Rønbækskolen_E.08  \n",
       " 4018     0.04     NaN        NaN  Rønbækskolen_E.08  \n",
       " 9539     0.03     NaN        NaN  Rønbækskolen_E.08  \n",
       " 22605    0.08     NaN        NaN  Rønbækskolen_E.08  \n",
       " 36074    0.02     NaN        NaN  Rønbækskolen_E.08  \n",
       " ...       ...     ...        ...                ...  \n",
       " 1833084  0.03     NaN        NaN  Rønbækskolen_E.08  \n",
       " 1834113  0.02     NaN        NaN  Rønbækskolen_E.08  \n",
       " 1837295  0.05     NaN        NaN  Rønbækskolen_E.08  \n",
       " 1840106  0.04     NaN        NaN  Rønbækskolen_E.08  \n",
       " 1841096  0.34     NaN        NaN  Rønbækskolen_E.08  \n",
       " \n",
       " [665 rows x 16 columns],\n",
       " 'Rønbækskolen_E.10':            ID   KOMMUNE         SKOLE        DATE      TIME  DAYNAME  \\\n",
       " 2701     E.10  Favrskov  Rønbækskolen  2023-09-25  12:30:00   Mandag   \n",
       " 2931     E.10  Favrskov  Rønbækskolen  2023-10-06  01:00:00   Fredag   \n",
       " 7199     E.10  Favrskov  Rønbækskolen  2023-10-06  21:00:00   Fredag   \n",
       " 8276     E.10  Favrskov  Rønbækskolen  2023-10-04  14:45:00   Onsdag   \n",
       " 8439     E.10  Favrskov  Rønbækskolen  2023-10-01  09:00:00  Soendag   \n",
       " ...       ...       ...           ...         ...       ...      ...   \n",
       " 1808558  E.10  Favrskov  Rønbækskolen  2023-09-26  11:45:00  Tirsdag   \n",
       " 1817808  E.10  Favrskov  Rønbækskolen  2023-10-05  07:45:00  Torsdag   \n",
       " 1825558  E.10  Favrskov  Rønbækskolen  2023-09-25  15:00:00   Mandag   \n",
       " 1834559  E.10  Favrskov  Rønbækskolen  2023-10-02  10:45:00   Mandag   \n",
       " 1840601  E.10  Favrskov  Rønbækskolen  2023-10-09  05:15:00   Mandag   \n",
       " \n",
       "         TIDSPUNKT_TYPE        TYPE        NAVN         CO2       TEMP  MOTION  \\\n",
       " 2701             Skole  Normal Dag  Normal Dag  469.666667  23.666667     NaN   \n",
       " 2931             Skole  Normal Dag  Normal Dag  456.000000  22.700000     NaN   \n",
       " 7199            Fritid  Normal Dag  Normal Dag  646.000000  22.700000     NaN   \n",
       " 8276             Skole  Normal Dag  Normal Dag  504.000000  22.900000     NaN   \n",
       " 8439            Fritid  Normal Dag  Normal Dag  435.333333  22.600000     NaN   \n",
       " ...                ...         ...         ...         ...        ...     ...   \n",
       " 1808558          Skole  Normal Dag  Normal Dag  465.000000  23.600000     NaN   \n",
       " 1817808          Skole  Normal Dag  Normal Dag  684.000000  22.900000     NaN   \n",
       " 1825558          Skole  Normal Dag  Normal Dag  424.000000  23.833333     NaN   \n",
       " 1834559          Skole  Normal Dag  Normal Dag  924.000000  23.500000     NaN   \n",
       " 1840601          Skole  Normal Dag  Normal Dag  467.000000  21.500000     NaN   \n",
       " \n",
       "            IAQ  BOOKET  SKEMALAGT           SKOLE_ID  \n",
       " 2701     0.390     NaN        NaN  Rønbækskolen_E.10  \n",
       " 2931     0.030     NaN        NaN  Rønbækskolen_E.10  \n",
       " 7199     0.025     NaN        NaN  Rønbækskolen_E.10  \n",
       " 8276     0.030     NaN        NaN  Rønbækskolen_E.10  \n",
       " 8439     0.020     NaN        NaN  Rønbækskolen_E.10  \n",
       " ...        ...     ...        ...                ...  \n",
       " 1808558  0.070     NaN        NaN  Rønbækskolen_E.10  \n",
       " 1817808  0.160     NaN        NaN  Rønbækskolen_E.10  \n",
       " 1825558  0.060     NaN        NaN  Rønbækskolen_E.10  \n",
       " 1834559  0.050     NaN        NaN  Rønbækskolen_E.10  \n",
       " 1840601  0.020     NaN        NaN  Rønbækskolen_E.10  \n",
       " \n",
       " [667 rows x 16 columns],\n",
       " 'Rønbækskolen_E.11':            ID   KOMMUNE         SKOLE        DATE      TIME  DAYNAME  \\\n",
       " 1689     E.11  Favrskov  Rønbækskolen  2023-10-08  13:30:00  Soendag   \n",
       " 2611     E.11  Favrskov  Rønbækskolen  2023-09-24  02:00:00  Soendag   \n",
       " 3039     E.11  Favrskov  Rønbækskolen  2023-10-07  21:45:00  Loerdag   \n",
       " 14235    E.11  Favrskov  Rønbækskolen  2023-10-01  15:00:00  Soendag   \n",
       " 18492    E.11  Favrskov  Rønbækskolen  2023-10-01  08:15:00  Soendag   \n",
       " ...       ...       ...           ...         ...       ...      ...   \n",
       " 1830313  E.11  Favrskov  Rønbækskolen  2023-09-26  10:45:00  Tirsdag   \n",
       " 1832977  E.11  Favrskov  Rønbækskolen  2023-09-26  03:30:00  Tirsdag   \n",
       " 1833732  E.11  Favrskov  Rønbækskolen  2023-09-26  15:15:00  Tirsdag   \n",
       " 1837473  E.11  Favrskov  Rønbækskolen  2023-09-25  10:15:00   Mandag   \n",
       " 1838329  E.11  Favrskov  Rønbækskolen  2023-10-01  04:00:00  Soendag   \n",
       " \n",
       "         TIDSPUNKT_TYPE        TYPE        NAVN         CO2  TEMP  MOTION  \\\n",
       " 1689            Fritid  Normal Dag  Normal Dag  529.000000  23.2     NaN   \n",
       " 2611            Fritid  Normal Dag  Normal Dag  492.000000  24.8     NaN   \n",
       " 3039            Fritid  Normal Dag  Normal Dag  750.000000  23.3     NaN   \n",
       " 14235           Fritid  Normal Dag  Normal Dag  455.000000  23.9     NaN   \n",
       " 18492           Fritid  Normal Dag  Normal Dag  459.333333  23.9     NaN   \n",
       " ...                ...         ...         ...         ...   ...     ...   \n",
       " 1830313          Skole  Normal Dag  Normal Dag  551.000000  24.3     NaN   \n",
       " 1832977          Skole  Normal Dag  Normal Dag  461.000000  24.4     NaN   \n",
       " 1833732          Skole  Normal Dag  Normal Dag  493.000000  24.4     NaN   \n",
       " 1837473          Skole  Normal Dag  Normal Dag  610.000000  24.4     NaN   \n",
       " 1838329         Fritid  Normal Dag  Normal Dag  444.000000  24.1     NaN   \n",
       " \n",
       "           IAQ  BOOKET  SKEMALAGT           SKOLE_ID  \n",
       " 1689     0.02     NaN        NaN  Rønbækskolen_E.11  \n",
       " 2611     0.02     NaN        NaN  Rønbækskolen_E.11  \n",
       " 3039     0.03     NaN        NaN  Rønbækskolen_E.11  \n",
       " 14235    0.02     NaN        NaN  Rønbækskolen_E.11  \n",
       " 18492    0.02     NaN        NaN  Rønbækskolen_E.11  \n",
       " ...       ...     ...        ...                ...  \n",
       " 1830313  0.02     NaN        NaN  Rønbækskolen_E.11  \n",
       " 1832977  0.02     NaN        NaN  Rønbækskolen_E.11  \n",
       " 1833732  0.02     NaN        NaN  Rønbækskolen_E.11  \n",
       " 1837473  0.02     NaN        NaN  Rønbækskolen_E.11  \n",
       " 1838329  0.02     NaN        NaN  Rønbækskolen_E.11  \n",
       " \n",
       " [641 rows x 16 columns],\n",
       " 'Rønbækskolen_E.12':            ID   KOMMUNE         SKOLE        DATE      TIME  DAYNAME  \\\n",
       " 8220     E.12  Favrskov  Rønbækskolen  2023-10-09  01:00:00   Mandag   \n",
       " 8289     E.12  Favrskov  Rønbækskolen  2023-09-29  18:45:00   Fredag   \n",
       " 10062    E.12  Favrskov  Rønbækskolen  2023-10-09  10:00:00   Mandag   \n",
       " 13733    E.12  Favrskov  Rønbækskolen  2023-10-12  04:30:00  Torsdag   \n",
       " 17813    E.12  Favrskov  Rønbækskolen  2023-10-03  06:45:00  Tirsdag   \n",
       " ...       ...       ...           ...         ...       ...      ...   \n",
       " 1814902  E.12  Favrskov  Rønbækskolen  2023-10-02  11:30:00   Mandag   \n",
       " 1827538  E.12  Favrskov  Rønbækskolen  2023-10-01  14:45:00  Soendag   \n",
       " 1827753  E.12  Favrskov  Rønbækskolen  2023-10-04  05:00:00   Onsdag   \n",
       " 1833248  E.12  Favrskov  Rønbækskolen  2023-09-26  07:45:00  Tirsdag   \n",
       " 1838969  E.12  Favrskov  Rønbækskolen  2023-09-27  08:15:00   Onsdag   \n",
       " \n",
       "         TIDSPUNKT_TYPE        TYPE        NAVN         CO2       TEMP  MOTION  \\\n",
       " 8220             Skole  Normal Dag  Normal Dag  461.000000  21.500000     NaN   \n",
       " 8289            Fritid  Normal Dag  Normal Dag  459.000000  23.200000     NaN   \n",
       " 10062            Skole  Normal Dag  Normal Dag  527.666667  21.966667     NaN   \n",
       " 13733            Skole  Normal Dag  Normal Dag  442.000000  21.200000     NaN   \n",
       " 17813            Skole  Normal Dag  Normal Dag  517.500000  22.450000     NaN   \n",
       " ...                ...         ...         ...         ...        ...     ...   \n",
       " 1814902          Skole  Normal Dag  Normal Dag  605.333333  23.200000     NaN   \n",
       " 1827538         Fritid  Normal Dag  Normal Dag  420.000000  22.500000     NaN   \n",
       " 1827753          Skole  Normal Dag  Normal Dag  445.333333  21.900000     NaN   \n",
       " 1833248          Skole  Normal Dag  Normal Dag  582.000000  23.400000     NaN   \n",
       " 1838969          Skole  Normal Dag  Normal Dag  565.000000  23.300000     NaN   \n",
       " \n",
       "           IAQ  BOOKET  SKEMALAGT           SKOLE_ID  \n",
       " 8220     0.02     NaN        NaN  Rønbækskolen_E.12  \n",
       " 8289     0.03     NaN        NaN  Rønbækskolen_E.12  \n",
       " 10062    0.04     NaN        NaN  Rønbækskolen_E.12  \n",
       " 13733    0.02     NaN        NaN  Rønbækskolen_E.12  \n",
       " 17813    0.02     NaN        NaN  Rønbækskolen_E.12  \n",
       " ...       ...     ...        ...                ...  \n",
       " 1814902  0.05     NaN        NaN  Rønbækskolen_E.12  \n",
       " 1827538  0.02     NaN        NaN  Rønbækskolen_E.12  \n",
       " 1827753  0.02     NaN        NaN  Rønbækskolen_E.12  \n",
       " 1833248  0.17     NaN        NaN  Rønbækskolen_E.12  \n",
       " 1838969  0.04     NaN        NaN  Rønbækskolen_E.12  \n",
       " \n",
       " [597 rows x 16 columns],\n",
       " 'Rønbækskolen_E.14':            ID   KOMMUNE         SKOLE        DATE      TIME  DAYNAME  \\\n",
       " 2281     E.14  Favrskov  Rønbækskolen  2023-10-07  00:45:00  Loerdag   \n",
       " 9929     E.14  Favrskov  Rønbækskolen  2023-09-22  16:00:00   Fredag   \n",
       " 12319    E.14  Favrskov  Rønbækskolen  2023-09-27  20:00:00   Onsdag   \n",
       " 14305    E.14  Favrskov  Rønbækskolen  2023-09-23  22:00:00  Loerdag   \n",
       " 19336    E.14  Favrskov  Rønbækskolen  2023-10-09  06:45:00   Mandag   \n",
       " ...       ...       ...           ...         ...       ...      ...   \n",
       " 1824785  E.14  Favrskov  Rønbækskolen  2023-10-01  22:30:00  Soendag   \n",
       " 1828647  E.14  Favrskov  Rønbækskolen  2023-09-25  19:30:00   Mandag   \n",
       " 1829468  E.14  Favrskov  Rønbækskolen  2023-10-05  14:00:00  Torsdag   \n",
       " 1830548  E.14  Favrskov  Rønbækskolen  2023-09-25  13:45:00   Mandag   \n",
       " 1837948  E.14  Favrskov  Rønbækskolen  2023-09-30  03:30:00  Loerdag   \n",
       " \n",
       "         TIDSPUNKT_TYPE        TYPE        NAVN         CO2  TEMP  MOTION  \\\n",
       " 2281            Fritid  Normal Dag  Normal Dag  637.000000  21.1     NaN   \n",
       " 9929            Fritid  Normal Dag  Normal Dag  573.333333  23.1     NaN   \n",
       " 12319           Fritid  Normal Dag  Normal Dag  443.000000  22.0     NaN   \n",
       " 14305           Fritid  Normal Dag  Normal Dag  488.000000  21.3     NaN   \n",
       " 19336            Skole  Normal Dag  Normal Dag  533.000000  19.6     NaN   \n",
       " ...                ...         ...         ...         ...   ...     ...   \n",
       " 1824785         Fritid  Normal Dag  Normal Dag  430.000000  20.9     NaN   \n",
       " 1828647         Fritid  Normal Dag  Normal Dag  500.000000  22.0     NaN   \n",
       " 1829468          Skole  Normal Dag  Normal Dag  484.000000  22.1     NaN   \n",
       " 1830548          Skole  Normal Dag  Normal Dag  480.000000  22.7     NaN   \n",
       " 1837948         Fritid  Normal Dag  Normal Dag  467.000000  21.2     NaN   \n",
       " \n",
       "           IAQ  BOOKET  SKEMALAGT           SKOLE_ID  \n",
       " 2281     0.02     NaN        NaN  Rønbækskolen_E.14  \n",
       " 9929     0.03     NaN        NaN  Rønbækskolen_E.14  \n",
       " 12319    0.04     NaN        NaN  Rønbækskolen_E.14  \n",
       " 14305    0.02     NaN        NaN  Rønbækskolen_E.14  \n",
       " 19336    0.02     NaN        NaN  Rønbækskolen_E.14  \n",
       " ...       ...     ...        ...                ...  \n",
       " 1824785  0.02     NaN        NaN  Rønbækskolen_E.14  \n",
       " 1828647  0.03     NaN        NaN  Rønbækskolen_E.14  \n",
       " 1829468  0.02     NaN        NaN  Rønbækskolen_E.14  \n",
       " 1830548  0.03     NaN        NaN  Rønbækskolen_E.14  \n",
       " 1837948  0.02     NaN        NaN  Rønbækskolen_E.14  \n",
       " \n",
       " [643 rows x 16 columns],\n",
       " 'Rønbækskolen_E.16':            ID   KOMMUNE         SKOLE        DATE      TIME  DAYNAME  \\\n",
       " 459      E.16  Favrskov  Rønbækskolen  2023-10-01  01:00:00  Soendag   \n",
       " 1109     E.16  Favrskov  Rønbækskolen  2023-10-11  15:00:00   Onsdag   \n",
       " 2298     E.16  Favrskov  Rønbækskolen  2023-09-30  19:15:00  Loerdag   \n",
       " 2363     E.16  Favrskov  Rønbækskolen  2023-09-27  20:15:00   Onsdag   \n",
       " 11650    E.16  Favrskov  Rønbækskolen  2023-10-09  11:00:00   Mandag   \n",
       " ...       ...       ...           ...         ...       ...      ...   \n",
       " 1824606  E.16  Favrskov  Rønbækskolen  2023-09-29  00:15:00   Fredag   \n",
       " 1825830  E.16  Favrskov  Rønbækskolen  2023-10-07  00:45:00  Loerdag   \n",
       " 1829230  E.16  Favrskov  Rønbækskolen  2023-10-04  06:45:00   Onsdag   \n",
       " 1829353  E.16  Favrskov  Rønbækskolen  2023-10-10  05:15:00  Tirsdag   \n",
       " 1838729  E.16  Favrskov  Rønbækskolen  2023-10-06  13:45:00   Fredag   \n",
       " \n",
       "         TIDSPUNKT_TYPE        TYPE        NAVN          CO2   TEMP  MOTION  \\\n",
       " 459             Fritid  Normal Dag  Normal Dag   428.333333  21.60     NaN   \n",
       " 1109             Skole  Normal Dag  Normal Dag   441.000000  22.40     NaN   \n",
       " 2298            Fritid  Normal Dag  Normal Dag   420.000000  22.00     NaN   \n",
       " 2363            Fritid  Normal Dag  Normal Dag   482.000000  22.80     NaN   \n",
       " 11650            Skole  Normal Dag  Normal Dag  1012.000000  22.60     NaN   \n",
       " ...                ...         ...         ...          ...    ...     ...   \n",
       " 1824606          Skole  Normal Dag  Normal Dag   417.000000  22.20     NaN   \n",
       " 1825830         Fritid  Normal Dag  Normal Dag   434.000000  22.00     NaN   \n",
       " 1829230          Skole  Normal Dag  Normal Dag  1010.000000  22.35     NaN   \n",
       " 1829353          Skole  Normal Dag  Normal Dag   472.000000  20.50     NaN   \n",
       " 1838729          Skole  Normal Dag  Normal Dag   728.000000  23.40     NaN   \n",
       " \n",
       "            IAQ  BOOKET  SKEMALAGT           SKOLE_ID  \n",
       " 459      0.020     NaN        NaN  Rønbækskolen_E.16  \n",
       " 1109     0.190     NaN        NaN  Rønbækskolen_E.16  \n",
       " 2298     0.020     NaN        NaN  Rønbækskolen_E.16  \n",
       " 2363     0.030     NaN        NaN  Rønbækskolen_E.16  \n",
       " 11650    0.430     NaN        NaN  Rønbækskolen_E.16  \n",
       " ...        ...     ...        ...                ...  \n",
       " 1824606  0.020     NaN        NaN  Rønbækskolen_E.16  \n",
       " 1825830  0.020     NaN        NaN  Rønbækskolen_E.16  \n",
       " 1829230  0.075     NaN        NaN  Rønbækskolen_E.16  \n",
       " 1829353  0.020     NaN        NaN  Rønbækskolen_E.16  \n",
       " 1838729  0.060     NaN        NaN  Rønbækskolen_E.16  \n",
       " \n",
       " [600 rows x 16 columns],\n",
       " 'Rønbækskolen_E.17':            ID   KOMMUNE         SKOLE        DATE      TIME  DAYNAME  \\\n",
       " 4634     E.17  Favrskov  Rønbækskolen  2023-09-27  02:30:00   Onsdag   \n",
       " 5014     E.17  Favrskov  Rønbækskolen  2023-10-02  14:00:00   Mandag   \n",
       " 8939     E.17  Favrskov  Rønbækskolen  2023-10-01  06:00:00  Soendag   \n",
       " 9398     E.17  Favrskov  Rønbækskolen  2023-09-23  09:45:00  Loerdag   \n",
       " 11695    E.17  Favrskov  Rønbækskolen  2023-09-23  16:45:00  Loerdag   \n",
       " ...       ...       ...           ...         ...       ...      ...   \n",
       " 1832152  E.17  Favrskov  Rønbækskolen  2023-10-11  15:00:00   Onsdag   \n",
       " 1837672  E.17  Favrskov  Rønbækskolen  2023-10-03  17:30:00  Tirsdag   \n",
       " 1838572  E.17  Favrskov  Rønbækskolen  2023-10-03  12:45:00  Tirsdag   \n",
       " 1840008  E.17  Favrskov  Rønbækskolen  2023-10-08  13:15:00  Soendag   \n",
       " 1841208  E.17  Favrskov  Rønbækskolen  2023-09-24  02:00:00  Soendag   \n",
       " \n",
       "         TIDSPUNKT_TYPE        TYPE        NAVN         CO2       TEMP  MOTION  \\\n",
       " 4634             Skole  Normal Dag  Normal Dag  471.000000  21.900000     NaN   \n",
       " 5014             Skole  Normal Dag  Normal Dag  457.000000  22.200000     NaN   \n",
       " 8939            Fritid  Normal Dag  Normal Dag  408.333333  21.200000     NaN   \n",
       " 9398            Fritid  Normal Dag  Normal Dag  508.000000  22.200000     NaN   \n",
       " 11695           Fritid  Normal Dag  Normal Dag  496.000000  22.500000     NaN   \n",
       " ...                ...         ...         ...         ...        ...     ...   \n",
       " 1832152          Skole  Normal Dag  Normal Dag  518.000000  21.400000     NaN   \n",
       " 1837672         Fritid  Normal Dag  Normal Dag  452.500000  22.000000     NaN   \n",
       " 1838572          Skole  Normal Dag  Normal Dag  544.666667  22.333333     NaN   \n",
       " 1840008         Fritid  Normal Dag  Normal Dag  517.000000  20.900000     NaN   \n",
       " 1841208         Fritid  Normal Dag  Normal Dag  478.000000  21.900000     NaN   \n",
       " \n",
       "            IAQ  BOOKET  SKEMALAGT           SKOLE_ID  \n",
       " 4634     0.020     NaN        NaN  Rønbækskolen_E.17  \n",
       " 5014     0.040     NaN        NaN  Rønbækskolen_E.17  \n",
       " 8939     0.020     NaN        NaN  Rønbækskolen_E.17  \n",
       " 9398     0.070     NaN        NaN  Rønbækskolen_E.17  \n",
       " 11695    0.020     NaN        NaN  Rønbækskolen_E.17  \n",
       " ...        ...     ...        ...                ...  \n",
       " 1832152  0.030     NaN        NaN  Rønbækskolen_E.17  \n",
       " 1837672  0.035     NaN        NaN  Rønbækskolen_E.17  \n",
       " 1838572  0.020     NaN        NaN  Rønbækskolen_E.17  \n",
       " 1840008  0.030     NaN        NaN  Rønbækskolen_E.17  \n",
       " 1841208  0.030     NaN        NaN  Rønbækskolen_E.17  \n",
       " \n",
       " [629 rows x 16 columns],\n",
       " 'Rønbækskolen_E.19':            ID   KOMMUNE         SKOLE        DATE      TIME  DAYNAME  \\\n",
       " 3178     E.19  Favrskov  Rønbækskolen  2023-10-01  18:15:00  Soendag   \n",
       " 4982     E.19  Favrskov  Rønbækskolen  2023-10-05  07:00:00  Torsdag   \n",
       " 6177     E.19  Favrskov  Rønbækskolen  2023-10-04  03:45:00   Onsdag   \n",
       " 6270     E.19  Favrskov  Rønbækskolen  2023-10-07  13:00:00  Loerdag   \n",
       " 8346     E.19  Favrskov  Rønbækskolen  2023-09-27  19:30:00   Onsdag   \n",
       " ...       ...       ...           ...         ...       ...      ...   \n",
       " 1827971  E.19  Favrskov  Rønbækskolen  2023-09-22  13:45:00   Fredag   \n",
       " 1829770  E.19  Favrskov  Rønbækskolen  2023-10-07  13:45:00  Loerdag   \n",
       " 1829838  E.19  Favrskov  Rønbækskolen  2023-09-24  05:15:00  Soendag   \n",
       " 1833068  E.19  Favrskov  Rønbækskolen  2023-09-30  08:15:00  Loerdag   \n",
       " 1833928  E.19  Favrskov  Rønbækskolen  2023-10-04  23:30:00   Onsdag   \n",
       " \n",
       "         TIDSPUNKT_TYPE        TYPE        NAVN         CO2  TEMP  MOTION  \\\n",
       " 3178            Fritid  Normal Dag  Normal Dag  430.000000  20.2     NaN   \n",
       " 4982             Skole  Normal Dag  Normal Dag  824.000000  23.1     NaN   \n",
       " 6177             Skole  Normal Dag  Normal Dag  471.333333  22.0     NaN   \n",
       " 6270            Fritid  Normal Dag  Normal Dag  514.000000  21.2     NaN   \n",
       " 8346            Fritid  Normal Dag  Normal Dag  474.000000  24.0     NaN   \n",
       " ...                ...         ...         ...         ...   ...     ...   \n",
       " 1827971          Skole  Normal Dag  Normal Dag  739.000000  23.5     NaN   \n",
       " 1829770         Fritid  Normal Dag  Normal Dag  506.000000  21.2     NaN   \n",
       " 1829838         Fritid  Normal Dag  Normal Dag  481.000000  21.0     NaN   \n",
       " 1833068         Fritid  Normal Dag  Normal Dag  469.000000  21.8     NaN   \n",
       " 1833928         Fritid  Normal Dag  Normal Dag  647.000000  22.4     NaN   \n",
       " \n",
       "               IAQ  BOOKET  SKEMALAGT           SKOLE_ID  \n",
       " 3178     0.050000     NaN        NaN  Rønbækskolen_E.19  \n",
       " 4982     0.030000     NaN        NaN  Rønbækskolen_E.19  \n",
       " 6177     0.073333     NaN        NaN  Rønbækskolen_E.19  \n",
       " 6270     0.020000     NaN        NaN  Rønbækskolen_E.19  \n",
       " 8346     0.060000     NaN        NaN  Rønbækskolen_E.19  \n",
       " ...           ...     ...        ...                ...  \n",
       " 1827971  0.040000     NaN        NaN  Rønbækskolen_E.19  \n",
       " 1829770  0.020000     NaN        NaN  Rønbækskolen_E.19  \n",
       " 1829838  0.020000     NaN        NaN  Rønbækskolen_E.19  \n",
       " 1833068  0.020000     NaN        NaN  Rønbækskolen_E.19  \n",
       " 1833928  0.030000     NaN        NaN  Rønbækskolen_E.19  \n",
       " \n",
       " [574 rows x 16 columns],\n",
       " 'Rønbækskolen_E.20':            ID   KOMMUNE         SKOLE        DATE      TIME  DAYNAME  \\\n",
       " 3654     E.20  Favrskov  Rønbækskolen  2023-10-04  22:45:00   Onsdag   \n",
       " 5766     E.20  Favrskov  Rønbækskolen  2023-10-01  10:30:00  Soendag   \n",
       " 8390     E.20  Favrskov  Rønbækskolen  2023-10-03  16:30:00  Tirsdag   \n",
       " 11716    E.20  Favrskov  Rønbækskolen  2023-10-09  11:00:00   Mandag   \n",
       " 23155    E.20  Favrskov  Rønbækskolen  2023-10-03  12:45:00  Tirsdag   \n",
       " ...       ...       ...           ...         ...       ...      ...   \n",
       " 1824432  E.20  Favrskov  Rønbækskolen  2023-10-03  22:45:00  Tirsdag   \n",
       " 1829828  E.20  Favrskov  Rønbækskolen  2023-10-08  15:00:00  Soendag   \n",
       " 1830979  E.20  Favrskov  Rønbækskolen  2023-09-25  15:30:00   Mandag   \n",
       " 1832660  E.20  Favrskov  Rønbækskolen  2023-10-10  13:30:00  Tirsdag   \n",
       " 1835953  E.20  Favrskov  Rønbækskolen  2023-09-26  07:00:00  Tirsdag   \n",
       " \n",
       "         TIDSPUNKT_TYPE        TYPE        NAVN         CO2   TEMP  MOTION  \\\n",
       " 3654            Fritid  Normal Dag  Normal Dag  491.000000  21.20     NaN   \n",
       " 5766            Fritid  Normal Dag  Normal Dag  419.000000  21.70     NaN   \n",
       " 8390            Fritid  Normal Dag  Normal Dag  415.333333  21.90     NaN   \n",
       " 11716            Skole  Normal Dag  Normal Dag  786.000000  22.00     NaN   \n",
       " 23155            Skole  Normal Dag  Normal Dag  466.000000  22.00     NaN   \n",
       " ...                ...         ...         ...         ...    ...     ...   \n",
       " 1824432         Fritid  Normal Dag  Normal Dag  431.500000  21.60     NaN   \n",
       " 1829828         Fritid  Normal Dag  Normal Dag  443.000000  21.40     NaN   \n",
       " 1830979          Skole  Normal Dag  Normal Dag  424.000000  22.50     NaN   \n",
       " 1832660          Skole  Normal Dag  Normal Dag  427.000000  20.90     NaN   \n",
       " 1835953          Skole  Normal Dag  Normal Dag  793.500000  22.45     NaN   \n",
       " \n",
       "           IAQ  BOOKET  SKEMALAGT           SKOLE_ID  \n",
       " 3654     0.03     NaN        NaN  Rønbækskolen_E.20  \n",
       " 5766     0.02     NaN        NaN  Rønbækskolen_E.20  \n",
       " 8390     0.02     NaN        NaN  Rønbækskolen_E.20  \n",
       " 11716    0.05     NaN        NaN  Rønbækskolen_E.20  \n",
       " 23155    0.02     NaN        NaN  Rønbækskolen_E.20  \n",
       " ...       ...     ...        ...                ...  \n",
       " 1824432  0.02     NaN        NaN  Rønbækskolen_E.20  \n",
       " 1829828  0.02     NaN        NaN  Rønbækskolen_E.20  \n",
       " 1830979  0.04     NaN        NaN  Rønbækskolen_E.20  \n",
       " 1832660  0.04     NaN        NaN  Rønbækskolen_E.20  \n",
       " 1835953  0.05     NaN        NaN  Rønbækskolen_E.20  \n",
       " \n",
       " [578 rows x 16 columns],\n",
       " 'Rønbækskolen_E.21':            ID   KOMMUNE         SKOLE        DATE      TIME  DAYNAME  \\\n",
       " 1782     E.21  Favrskov  Rønbækskolen  2023-10-08  13:30:00  Soendag   \n",
       " 4056     E.21  Favrskov  Rønbækskolen  2023-09-26  19:45:00  Tirsdag   \n",
       " 6756     E.21  Favrskov  Rønbækskolen  2023-10-01  10:45:00  Soendag   \n",
       " 11148    E.21  Favrskov  Rønbækskolen  2023-10-01  04:30:00  Soendag   \n",
       " 12204    E.21  Favrskov  Rønbækskolen  2023-09-29  17:30:00   Fredag   \n",
       " ...       ...       ...           ...         ...       ...      ...   \n",
       " 1822989  E.21  Favrskov  Rønbækskolen  2023-10-08  01:30:00  Soendag   \n",
       " 1826923  E.21  Favrskov  Rønbækskolen  2023-09-27  22:00:00   Onsdag   \n",
       " 1830501  E.21  Favrskov  Rønbækskolen  2023-09-29  15:30:00   Fredag   \n",
       " 1841068  E.21  Favrskov  Rønbækskolen  2023-09-24  08:15:00  Soendag   \n",
       " 1841796  E.21  Favrskov  Rønbækskolen  2023-10-09  09:45:00   Mandag   \n",
       " \n",
       "         TIDSPUNKT_TYPE        TYPE        NAVN    CO2  TEMP  MOTION   IAQ  \\\n",
       " 1782            Fritid  Normal Dag  Normal Dag  467.0  19.9     NaN  0.02   \n",
       " 4056            Fritid  Normal Dag  Normal Dag  534.5  21.5     NaN  0.03   \n",
       " 6756            Fritid  Normal Dag  Normal Dag  441.0  20.6     NaN  0.02   \n",
       " 11148           Fritid  Normal Dag  Normal Dag  435.0  19.9     NaN  0.02   \n",
       " 12204           Fritid  Normal Dag  Normal Dag  476.5  21.2     NaN  0.02   \n",
       " ...                ...         ...         ...    ...   ...     ...   ...   \n",
       " 1822989         Fritid  Normal Dag  Normal Dag  444.0  19.0     NaN  0.02   \n",
       " 1826923         Fritid  Normal Dag  Normal Dag  457.0  21.2     NaN  0.02   \n",
       " 1830501          Skole  Normal Dag  Normal Dag  489.0  21.5     NaN  0.02   \n",
       " 1841068         Fritid  Normal Dag  Normal Dag  459.0  21.6     NaN  0.02   \n",
       " 1841796          Skole  Normal Dag  Normal Dag  695.0  19.8     NaN  0.03   \n",
       " \n",
       "          BOOKET  SKEMALAGT           SKOLE_ID  \n",
       " 1782        NaN        NaN  Rønbækskolen_E.21  \n",
       " 4056        NaN        NaN  Rønbækskolen_E.21  \n",
       " 6756        NaN        NaN  Rønbækskolen_E.21  \n",
       " 11148       NaN        NaN  Rønbækskolen_E.21  \n",
       " 12204       NaN        NaN  Rønbækskolen_E.21  \n",
       " ...         ...        ...                ...  \n",
       " 1822989     NaN        NaN  Rønbækskolen_E.21  \n",
       " 1826923     NaN        NaN  Rønbækskolen_E.21  \n",
       " 1830501     NaN        NaN  Rønbækskolen_E.21  \n",
       " 1841068     NaN        NaN  Rønbækskolen_E.21  \n",
       " 1841796     NaN        NaN  Rønbækskolen_E.21  \n",
       " \n",
       " [573 rows x 16 columns],\n",
       " 'Rønbækskolen_E.23':            ID   KOMMUNE         SKOLE        DATE      TIME  DAYNAME  \\\n",
       " 1144     E.23  Favrskov  Rønbækskolen  2023-09-29  08:15:00   Fredag   \n",
       " 10633    E.23  Favrskov  Rønbækskolen  2023-10-03  17:15:00  Tirsdag   \n",
       " 10877    E.23  Favrskov  Rønbækskolen  2023-10-05  04:00:00  Torsdag   \n",
       " 20185    E.23  Favrskov  Rønbækskolen  2023-09-27  19:15:00   Onsdag   \n",
       " 24529    E.23  Favrskov  Rønbækskolen  2023-10-02  15:30:00   Mandag   \n",
       " ...       ...       ...           ...         ...       ...      ...   \n",
       " 1824811  E.23  Favrskov  Rønbækskolen  2023-10-09  11:45:00   Mandag   \n",
       " 1826904  E.23  Favrskov  Rønbækskolen  2023-10-10  12:30:00  Tirsdag   \n",
       " 1830566  E.23  Favrskov  Rønbækskolen  2023-10-04  00:45:00   Onsdag   \n",
       " 1837136  E.23  Favrskov  Rønbækskolen  2023-10-09  10:15:00   Mandag   \n",
       " 1838234  E.23  Favrskov  Rønbækskolen  2023-09-28  11:30:00  Torsdag   \n",
       " \n",
       "         TIDSPUNKT_TYPE        TYPE        NAVN    CO2  TEMP  MOTION   IAQ  \\\n",
       " 1144             Skole  Normal Dag  Normal Dag  447.0  21.6     NaN  0.02   \n",
       " 10633           Fritid  Normal Dag  Normal Dag  626.0  20.9     NaN  0.04   \n",
       " 10877            Skole  Normal Dag  Normal Dag  498.0  19.5     NaN  0.02   \n",
       " 20185           Fritid  Normal Dag  Normal Dag  458.5  21.7     NaN  0.03   \n",
       " 24529            Skole  Normal Dag  Normal Dag  544.0  21.6     NaN  0.04   \n",
       " ...                ...         ...         ...    ...   ...     ...   ...   \n",
       " 1824811          Skole  Normal Dag  Normal Dag  508.0  19.4     NaN  0.09   \n",
       " 1826904          Skole  Normal Dag  Normal Dag  539.0  19.6     NaN  0.07   \n",
       " 1830566          Skole  Normal Dag  Normal Dag  542.0  19.8     NaN  0.02   \n",
       " 1837136          Skole  Normal Dag  Normal Dag  526.0  19.4     NaN  0.14   \n",
       " 1838234          Skole  Normal Dag  Normal Dag  431.0  23.0     NaN  0.03   \n",
       " \n",
       "          BOOKET  SKEMALAGT           SKOLE_ID  \n",
       " 1144        NaN        NaN  Rønbækskolen_E.23  \n",
       " 10633       1.0        NaN  Rønbækskolen_E.23  \n",
       " 10877       NaN        NaN  Rønbækskolen_E.23  \n",
       " 20185       NaN        NaN  Rønbækskolen_E.23  \n",
       " 24529       NaN        NaN  Rønbækskolen_E.23  \n",
       " ...         ...        ...                ...  \n",
       " 1824811     NaN        NaN  Rønbækskolen_E.23  \n",
       " 1826904     NaN        NaN  Rønbækskolen_E.23  \n",
       " 1830566     NaN        NaN  Rønbækskolen_E.23  \n",
       " 1837136     NaN        NaN  Rønbækskolen_E.23  \n",
       " 1838234     NaN        NaN  Rønbækskolen_E.23  \n",
       " \n",
       " [528 rows x 16 columns],\n",
       " 'Rønbækskolen_E.25':            ID   KOMMUNE         SKOLE        DATE      TIME  DAYNAME  \\\n",
       " 7854     E.25  Favrskov  Rønbækskolen  2023-09-26  06:45:00  Tirsdag   \n",
       " 10182    E.25  Favrskov  Rønbækskolen  2023-09-24  09:45:00  Soendag   \n",
       " 12233    E.25  Favrskov  Rønbækskolen  2023-10-03  21:15:00  Tirsdag   \n",
       " 17293    E.25  Favrskov  Rønbækskolen  2023-09-24  23:45:00  Soendag   \n",
       " 20961    E.25  Favrskov  Rønbækskolen  2023-09-22  01:00:00   Fredag   \n",
       " ...       ...       ...           ...         ...       ...      ...   \n",
       " 1824226  E.25  Favrskov  Rønbækskolen  2023-09-24  21:00:00  Soendag   \n",
       " 1829300  E.25  Favrskov  Rønbækskolen  2023-10-09  15:00:00   Mandag   \n",
       " 1829992  E.25  Favrskov  Rønbækskolen  2023-10-09  07:30:00   Mandag   \n",
       " 1831435  E.25  Favrskov  Rønbækskolen  2023-09-25  22:15:00   Mandag   \n",
       " 1835812  E.25  Favrskov  Rønbækskolen  2023-09-23  00:00:00  Loerdag   \n",
       " \n",
       "         TIDSPUNKT_TYPE        TYPE        NAVN         CO2       TEMP  MOTION  \\\n",
       " 7854             Skole  Normal Dag  Normal Dag  457.500000  20.700000     NaN   \n",
       " 10182           Fritid  Normal Dag  Normal Dag  472.000000  21.800000     NaN   \n",
       " 12233           Fritid  Normal Dag  Normal Dag  635.000000  20.400000     NaN   \n",
       " 17293           Fritid  Normal Dag  Normal Dag  471.000000  21.300000     NaN   \n",
       " 20961            Skole  Normal Dag  Normal Dag  468.000000  23.300000     NaN   \n",
       " ...                ...         ...         ...         ...        ...     ...   \n",
       " 1824226         Fritid  Normal Dag  Normal Dag  465.000000  21.500000     NaN   \n",
       " 1829300          Skole  Normal Dag  Normal Dag  483.666667  19.633333     NaN   \n",
       " 1829992          Skole  Normal Dag  Normal Dag  976.000000  20.700000     NaN   \n",
       " 1831435         Fritid  Normal Dag  Normal Dag  435.500000  21.200000     NaN   \n",
       " 1835812         Fritid  Normal Dag  Normal Dag  538.500000  22.400000     NaN   \n",
       " \n",
       "           IAQ  BOOKET  SKEMALAGT           SKOLE_ID  \n",
       " 7854     0.02     NaN        NaN  Rønbækskolen_E.25  \n",
       " 10182    0.02     NaN        NaN  Rønbækskolen_E.25  \n",
       " 12233    0.02     NaN        NaN  Rønbækskolen_E.25  \n",
       " 17293    0.02     NaN        NaN  Rønbækskolen_E.25  \n",
       " 20961    0.03     NaN        NaN  Rønbækskolen_E.25  \n",
       " ...       ...     ...        ...                ...  \n",
       " 1824226  0.03     NaN        NaN  Rønbækskolen_E.25  \n",
       " 1829300  0.06     NaN        NaN  Rønbækskolen_E.25  \n",
       " 1829992  0.34     NaN        NaN  Rønbækskolen_E.25  \n",
       " 1831435  0.03     NaN        NaN  Rønbækskolen_E.25  \n",
       " 1835812  0.02     NaN        NaN  Rønbækskolen_E.25  \n",
       " \n",
       " [633 rows x 16 columns],\n",
       " 'Rønbækskolen_E.27':            ID   KOMMUNE         SKOLE        DATE      TIME  DAYNAME  \\\n",
       " 559      E.27  Favrskov  Rønbækskolen  2023-09-26  17:45:00  Tirsdag   \n",
       " 897      E.27  Favrskov  Rønbækskolen  2023-09-26  17:30:00  Tirsdag   \n",
       " 1091     E.27  Favrskov  Rønbækskolen  2023-09-24  21:30:00  Soendag   \n",
       " 17455    E.27  Favrskov  Rønbækskolen  2023-09-27  18:45:00   Onsdag   \n",
       " 19728    E.27  Favrskov  Rønbækskolen  2023-10-10  01:45:00  Tirsdag   \n",
       " ...       ...       ...           ...         ...       ...      ...   \n",
       " 1833444  E.27  Favrskov  Rønbækskolen  2023-10-08  11:30:00  Soendag   \n",
       " 1835698  E.27  Favrskov  Rønbækskolen  2023-09-24  06:00:00  Soendag   \n",
       " 1835826  E.27  Favrskov  Rønbækskolen  2023-09-29  09:15:00   Fredag   \n",
       " 1837498  E.27  Favrskov  Rønbækskolen  2023-09-22  09:30:00   Fredag   \n",
       " 1841132  E.27  Favrskov  Rønbækskolen  2023-09-28  12:15:00  Torsdag   \n",
       " \n",
       "         TIDSPUNKT_TYPE        TYPE        NAVN         CO2       TEMP  MOTION  \\\n",
       " 559             Fritid  Normal Dag  Normal Dag  565.500000  22.400000     NaN   \n",
       " 897             Fritid  Normal Dag  Normal Dag  586.000000  22.450000     NaN   \n",
       " 1091            Fritid  Normal Dag  Normal Dag  467.666667  21.900000     NaN   \n",
       " 17455           Fritid  Normal Dag  Normal Dag  478.666667  21.900000     NaN   \n",
       " 19728            Skole  Normal Dag  Normal Dag  503.000000  18.300000     NaN   \n",
       " ...                ...         ...         ...         ...        ...     ...   \n",
       " 1833444         Fritid  Normal Dag  Normal Dag  498.000000  22.400000     NaN   \n",
       " 1835698         Fritid  Normal Dag  Normal Dag  469.000000  20.900000     NaN   \n",
       " 1835826          Skole  Normal Dag  Normal Dag  553.000000  22.400000     NaN   \n",
       " 1837498          Skole  Normal Dag  Normal Dag  659.000000  23.500000     NaN   \n",
       " 1841132          Skole  Normal Dag  Normal Dag  469.333333  24.166667     NaN   \n",
       " \n",
       "           IAQ  BOOKET  SKEMALAGT           SKOLE_ID  \n",
       " 559      0.03     1.0        NaN  Rønbækskolen_E.27  \n",
       " 897      0.03     1.0        NaN  Rønbækskolen_E.27  \n",
       " 1091     0.02     NaN        NaN  Rønbækskolen_E.27  \n",
       " 17455    0.03     NaN        NaN  Rønbækskolen_E.27  \n",
       " 19728    0.05     NaN        NaN  Rønbækskolen_E.27  \n",
       " ...       ...     ...        ...                ...  \n",
       " 1833444  0.02     NaN        NaN  Rønbækskolen_E.27  \n",
       " 1835698  0.02     NaN        NaN  Rønbækskolen_E.27  \n",
       " 1835826  0.09     NaN        NaN  Rønbækskolen_E.27  \n",
       " 1837498  0.04     NaN        NaN  Rønbækskolen_E.27  \n",
       " 1841132  0.03     NaN        NaN  Rønbækskolen_E.27  \n",
       " \n",
       " [592 rows x 16 columns],\n",
       " 'Rønbækskolen_E.35':            ID   KOMMUNE         SKOLE        DATE      TIME  DAYNAME  \\\n",
       " 783      E.35  Favrskov  Rønbækskolen  2023-10-07  19:00:00  Loerdag   \n",
       " 1114     E.35  Favrskov  Rønbækskolen  2023-10-07  13:15:00  Loerdag   \n",
       " 1531     E.35  Favrskov  Rønbækskolen  2023-10-01  02:30:00  Soendag   \n",
       " 3802     E.35  Favrskov  Rønbækskolen  2023-10-05  22:00:00  Torsdag   \n",
       " 4070     E.35  Favrskov  Rønbækskolen  2023-10-11  18:00:00   Onsdag   \n",
       " ...       ...       ...           ...         ...       ...      ...   \n",
       " 1814401  E.35  Favrskov  Rønbækskolen  2023-10-11  09:00:00   Onsdag   \n",
       " 1816262  E.35  Favrskov  Rønbækskolen  2023-09-22  01:30:00   Fredag   \n",
       " 1819724  E.35  Favrskov  Rønbækskolen  2023-09-28  13:30:00  Torsdag   \n",
       " 1819870  E.35  Favrskov  Rønbækskolen  2023-09-30  23:15:00  Loerdag   \n",
       " 1834828  E.35  Favrskov  Rønbækskolen  2023-10-09  16:45:00   Mandag   \n",
       " \n",
       "         TIDSPUNKT_TYPE        TYPE        NAVN         CO2  TEMP  MOTION  \\\n",
       " 783             Fritid  Normal Dag  Normal Dag  486.000000  21.7     NaN   \n",
       " 1114            Fritid  Normal Dag  Normal Dag  491.000000  22.4     NaN   \n",
       " 1531            Fritid  Normal Dag  Normal Dag  504.333333  22.4     NaN   \n",
       " 3802            Fritid  Normal Dag  Normal Dag  521.000000  22.4     NaN   \n",
       " 4070            Fritid  Normal Dag  Normal Dag  463.000000  20.9     NaN   \n",
       " ...                ...         ...         ...         ...   ...     ...   \n",
       " 1814401          Skole  Normal Dag  Normal Dag  445.000000  21.3     NaN   \n",
       " 1816262          Skole  Normal Dag  Normal Dag  477.333333  23.1     NaN   \n",
       " 1819724          Skole  Normal Dag  Normal Dag  458.000000  24.5     NaN   \n",
       " 1819870         Fritid  Normal Dag  Normal Dag  515.000000  22.7     NaN   \n",
       " 1834828         Fritid  Normal Dag  Normal Dag  462.000000  21.2     NaN   \n",
       " \n",
       "           IAQ  BOOKET  SKEMALAGT           SKOLE_ID  \n",
       " 783      0.02     NaN        NaN  Rønbækskolen_E.35  \n",
       " 1114     0.02     NaN        NaN  Rønbækskolen_E.35  \n",
       " 1531     0.02     NaN        NaN  Rønbækskolen_E.35  \n",
       " 3802     0.04     NaN        NaN  Rønbækskolen_E.35  \n",
       " 4070     0.03     NaN        NaN  Rønbækskolen_E.35  \n",
       " ...       ...     ...        ...                ...  \n",
       " 1814401  0.04     NaN        NaN  Rønbækskolen_E.35  \n",
       " 1816262  0.03     NaN        NaN  Rønbækskolen_E.35  \n",
       " 1819724  0.02     NaN        NaN  Rønbækskolen_E.35  \n",
       " 1819870  0.02     NaN        NaN  Rønbækskolen_E.35  \n",
       " 1834828  0.04     NaN        NaN  Rønbækskolen_E.35  \n",
       " \n",
       " [627 rows x 16 columns],\n",
       " 'Rønbækskolen_E.37':            ID   KOMMUNE         SKOLE        DATE      TIME  DAYNAME  \\\n",
       " 41       E.37  Favrskov  Rønbækskolen  2023-10-02  23:45:00   Mandag   \n",
       " 5678     E.37  Favrskov  Rønbækskolen  2023-09-30  15:00:00  Loerdag   \n",
       " 6184     E.37  Favrskov  Rønbækskolen  2023-09-24  10:15:00  Soendag   \n",
       " 9630     E.37  Favrskov  Rønbækskolen  2023-09-22  09:30:00   Fredag   \n",
       " 10526    E.37  Favrskov  Rønbækskolen  2023-09-28  01:30:00  Torsdag   \n",
       " ...       ...       ...           ...         ...       ...      ...   \n",
       " 1825727  E.37  Favrskov  Rønbækskolen  2023-09-25  03:00:00   Mandag   \n",
       " 1835343  E.37  Favrskov  Rønbækskolen  2023-10-10  01:45:00  Tirsdag   \n",
       " 1836756  E.37  Favrskov  Rønbækskolen  2023-09-22  10:00:00   Fredag   \n",
       " 1837835  E.37  Favrskov  Rønbækskolen  2023-09-28  10:00:00  Torsdag   \n",
       " 1840988  E.37  Favrskov  Rønbækskolen  2023-10-06  07:15:00   Fredag   \n",
       " \n",
       "         TIDSPUNKT_TYPE        TYPE        NAVN         CO2       TEMP  MOTION  \\\n",
       " 41              Fritid  Normal Dag  Normal Dag  482.333333  20.200000     NaN   \n",
       " 5678            Fritid  Normal Dag  Normal Dag  406.500000  21.950000     NaN   \n",
       " 6184            Fritid  Normal Dag  Normal Dag  436.000000  22.200000     NaN   \n",
       " 9630             Skole  Normal Dag  Normal Dag  414.000000  21.800000     NaN   \n",
       " 10526            Skole  Normal Dag  Normal Dag  487.000000  20.900000     NaN   \n",
       " ...                ...         ...         ...         ...        ...     ...   \n",
       " 1825727          Skole  Normal Dag  Normal Dag  435.333333  20.400000     NaN   \n",
       " 1835343          Skole  Normal Dag  Normal Dag  547.000000  18.100000     NaN   \n",
       " 1836756          Skole  Normal Dag  Normal Dag  517.500000  22.100000     NaN   \n",
       " 1837835          Skole  Normal Dag  Normal Dag  504.000000  22.133333     NaN   \n",
       " 1840988          Skole  Normal Dag  Normal Dag  592.000000  19.400000     NaN   \n",
       " \n",
       "            IAQ  BOOKET  SKEMALAGT           SKOLE_ID  \n",
       " 41       0.030     NaN        NaN  Rønbækskolen_E.37  \n",
       " 5678     0.020     NaN        NaN  Rønbækskolen_E.37  \n",
       " 6184     0.030     NaN        NaN  Rønbækskolen_E.37  \n",
       " 9630     0.020     NaN        NaN  Rønbækskolen_E.37  \n",
       " 10526    0.030     NaN        NaN  Rønbækskolen_E.37  \n",
       " ...        ...     ...        ...                ...  \n",
       " 1825727  0.020     NaN        NaN  Rønbækskolen_E.37  \n",
       " 1835343  0.030     NaN        NaN  Rønbækskolen_E.37  \n",
       " 1836756  0.035     NaN        NaN  Rønbækskolen_E.37  \n",
       " 1837835  0.090     NaN        NaN  Rønbækskolen_E.37  \n",
       " 1840988  0.040     NaN        NaN  Rønbækskolen_E.37  \n",
       " \n",
       " [646 rows x 16 columns],\n",
       " 'Rønbækskolen_E.41':            ID   KOMMUNE         SKOLE        DATE      TIME  DAYNAME  \\\n",
       " 346      E.41  Favrskov  Rønbækskolen  2023-10-04  15:30:00   Onsdag   \n",
       " 5207     E.41  Favrskov  Rønbækskolen  2023-09-28  14:15:00  Torsdag   \n",
       " 8758     E.41  Favrskov  Rønbækskolen  2023-09-28  13:45:00  Torsdag   \n",
       " 12476    E.41  Favrskov  Rønbækskolen  2023-10-04  17:15:00   Onsdag   \n",
       " 15078    E.41  Favrskov  Rønbækskolen  2023-09-22  19:30:00   Fredag   \n",
       " ...       ...       ...           ...         ...       ...      ...   \n",
       " 1822991  E.41  Favrskov  Rønbækskolen  2023-09-28  05:30:00  Torsdag   \n",
       " 1823524  E.41  Favrskov  Rønbækskolen  2023-10-01  07:00:00  Soendag   \n",
       " 1826060  E.41  Favrskov  Rønbækskolen  2023-10-06  17:45:00   Fredag   \n",
       " 1833933  E.41  Favrskov  Rønbækskolen  2023-09-26  07:45:00  Tirsdag   \n",
       " 1838940  E.41  Favrskov  Rønbækskolen  2023-10-09  12:45:00   Mandag   \n",
       " \n",
       "         TIDSPUNKT_TYPE        TYPE        NAVN         CO2       TEMP  MOTION  \\\n",
       " 346              Skole  Normal Dag  Normal Dag  499.666667  20.266667     NaN   \n",
       " 5207             Skole  Normal Dag  Normal Dag  462.000000  22.700000     NaN   \n",
       " 8758             Skole  Normal Dag  Normal Dag  469.000000  22.900000     NaN   \n",
       " 12476           Fritid  Normal Dag  Normal Dag  477.333333  19.800000     NaN   \n",
       " 15078           Fritid  Normal Dag  Normal Dag  426.000000  22.400000     NaN   \n",
       " ...                ...         ...         ...         ...        ...     ...   \n",
       " 1822991          Skole  Normal Dag  Normal Dag  438.000000  21.300000     NaN   \n",
       " 1823524         Fritid  Normal Dag  Normal Dag  396.000000  19.900000     NaN   \n",
       " 1826060         Fritid  Normal Dag  Normal Dag  449.000000  20.300000     NaN   \n",
       " 1833933          Skole  Normal Dag  Normal Dag  599.000000  22.000000     NaN   \n",
       " 1838940          Skole  Normal Dag  Normal Dag  599.000000  19.400000     NaN   \n",
       " \n",
       "               IAQ  BOOKET  SKEMALAGT           SKOLE_ID  \n",
       " 346      0.030000     NaN        NaN  Rønbækskolen_E.41  \n",
       " 5207     0.260000     NaN        NaN  Rønbækskolen_E.41  \n",
       " 8758     0.240000     NaN        NaN  Rønbækskolen_E.41  \n",
       " 12476    0.023333     NaN        NaN  Rønbækskolen_E.41  \n",
       " 15078    0.020000     NaN        NaN  Rønbækskolen_E.41  \n",
       " ...           ...     ...        ...                ...  \n",
       " 1822991  0.020000     NaN        NaN  Rønbækskolen_E.41  \n",
       " 1823524  0.020000     NaN        NaN  Rønbækskolen_E.41  \n",
       " 1826060  0.025000     NaN        NaN  Rønbækskolen_E.41  \n",
       " 1833933  0.030000     NaN        NaN  Rønbækskolen_E.41  \n",
       " 1838940  4.190000     NaN        NaN  Rønbækskolen_E.41  \n",
       " \n",
       " [554 rows x 16 columns],\n",
       " 'Rønbækskolen_E.42':            ID   KOMMUNE         SKOLE        DATE      TIME  DAYNAME  \\\n",
       " 1232     E.42  Favrskov  Rønbækskolen  2023-09-26  09:15:00  Tirsdag   \n",
       " 5294     E.42  Favrskov  Rønbækskolen  2023-10-03  06:30:00  Tirsdag   \n",
       " 14506    E.42  Favrskov  Rønbækskolen  2023-10-05  22:30:00  Torsdag   \n",
       " 20684    E.42  Favrskov  Rønbækskolen  2023-09-29  19:15:00   Fredag   \n",
       " 23042    E.42  Favrskov  Rønbækskolen  2023-09-23  15:45:00  Loerdag   \n",
       " ...       ...       ...           ...         ...       ...      ...   \n",
       " 1805505  E.42  Favrskov  Rønbækskolen  2023-10-09  23:00:00   Mandag   \n",
       " 1806049  E.42  Favrskov  Rønbækskolen  2023-09-29  02:30:00   Fredag   \n",
       " 1819842  E.42  Favrskov  Rønbækskolen  2023-09-22  18:00:00   Fredag   \n",
       " 1821496  E.42  Favrskov  Rønbækskolen  2023-09-22  23:45:00   Fredag   \n",
       " 1827072  E.42  Favrskov  Rønbækskolen  2023-09-22  20:30:00   Fredag   \n",
       " \n",
       "         TIDSPUNKT_TYPE        TYPE        NAVN    CO2   TEMP  MOTION   IAQ  \\\n",
       " 1232             Skole  Normal Dag  Normal Dag  526.5  21.70     NaN  0.03   \n",
       " 5294             Skole  Normal Dag  Normal Dag  484.5  20.30     NaN  0.02   \n",
       " 14506           Fritid  Normal Dag  Normal Dag  455.0  19.90     NaN  0.02   \n",
       " 20684           Fritid  Normal Dag  Normal Dag  439.0  21.50     NaN  0.02   \n",
       " 23042           Fritid  Normal Dag  Normal Dag  435.0  23.30     NaN  0.03   \n",
       " ...                ...         ...         ...    ...    ...     ...   ...   \n",
       " 1805505         Fritid  Normal Dag  Normal Dag  551.0  18.70     NaN  0.03   \n",
       " 1806049          Skole  Normal Dag  Normal Dag  431.0  21.60     NaN  0.02   \n",
       " 1819842         Fritid  Normal Dag  Normal Dag  431.0  22.85     NaN  0.03   \n",
       " 1821496         Fritid  Normal Dag  Normal Dag  435.0  22.00     NaN  0.02   \n",
       " 1827072         Fritid  Normal Dag  Normal Dag  427.0  22.40     NaN  0.02   \n",
       " \n",
       "          BOOKET  SKEMALAGT           SKOLE_ID  \n",
       " 1232        NaN        NaN  Rønbækskolen_E.42  \n",
       " 5294        NaN        NaN  Rønbækskolen_E.42  \n",
       " 14506       NaN        NaN  Rønbækskolen_E.42  \n",
       " 20684       NaN        NaN  Rønbækskolen_E.42  \n",
       " 23042       NaN        NaN  Rønbækskolen_E.42  \n",
       " ...         ...        ...                ...  \n",
       " 1805505     NaN        NaN  Rønbækskolen_E.42  \n",
       " 1806049     NaN        NaN  Rønbækskolen_E.42  \n",
       " 1819842     NaN        NaN  Rønbækskolen_E.42  \n",
       " 1821496     NaN        NaN  Rønbækskolen_E.42  \n",
       " 1827072     NaN        NaN  Rønbækskolen_E.42  \n",
       " \n",
       " [593 rows x 16 columns],\n",
       " 'Rønbækskolen_E.43':            ID   KOMMUNE         SKOLE        DATE      TIME  DAYNAME  \\\n",
       " 3124     E.43  Favrskov  Rønbækskolen  2023-09-29  23:00:00   Fredag   \n",
       " 6249     E.43  Favrskov  Rønbækskolen  2023-09-22  23:30:00   Fredag   \n",
       " 9233     E.43  Favrskov  Rønbækskolen  2023-09-29  22:30:00   Fredag   \n",
       " 12984    E.43  Favrskov  Rønbækskolen  2023-09-29  07:00:00   Fredag   \n",
       " 16292    E.43  Favrskov  Rønbækskolen  2023-10-07  01:00:00  Loerdag   \n",
       " ...       ...       ...           ...         ...       ...      ...   \n",
       " 1829107  E.43  Favrskov  Rønbækskolen  2023-09-22  00:30:00   Fredag   \n",
       " 1835741  E.43  Favrskov  Rønbækskolen  2023-10-04  18:00:00   Onsdag   \n",
       " 1836232  E.43  Favrskov  Rønbækskolen  2023-09-24  11:30:00  Soendag   \n",
       " 1838640  E.43  Favrskov  Rønbækskolen  2023-10-02  15:45:00   Mandag   \n",
       " 1838703  E.43  Favrskov  Rønbækskolen  2023-10-03  01:15:00  Tirsdag   \n",
       " \n",
       "         TIDSPUNKT_TYPE        TYPE        NAVN         CO2   TEMP  MOTION  \\\n",
       " 3124            Fritid  Normal Dag  Normal Dag  418.000000  21.60     NaN   \n",
       " 6249            Fritid  Normal Dag  Normal Dag  477.333333  22.20     NaN   \n",
       " 9233            Fritid  Normal Dag  Normal Dag  418.000000  21.60     NaN   \n",
       " 12984            Skole  Normal Dag  Normal Dag  575.000000  22.00     NaN   \n",
       " 16292           Fritid  Normal Dag  Normal Dag  432.000000  19.50     NaN   \n",
       " ...                ...         ...         ...         ...    ...     ...   \n",
       " 1829107          Skole  Normal Dag  Normal Dag  496.666667  23.10     NaN   \n",
       " 1835741         Fritid  Normal Dag  Normal Dag  527.500000  19.60     NaN   \n",
       " 1836232         Fritid  Normal Dag  Normal Dag  464.000000  21.75     NaN   \n",
       " 1838640          Skole  Normal Dag  Normal Dag  468.000000  21.90     NaN   \n",
       " 1838703          Skole  Normal Dag  Normal Dag  478.000000  21.10     NaN   \n",
       " \n",
       "           IAQ  BOOKET  SKEMALAGT           SKOLE_ID  \n",
       " 3124     0.02     NaN        NaN  Rønbækskolen_E.43  \n",
       " 6249     0.02     NaN        NaN  Rønbækskolen_E.43  \n",
       " 9233     0.02     NaN        NaN  Rønbækskolen_E.43  \n",
       " 12984    0.02     NaN        NaN  Rønbækskolen_E.43  \n",
       " 16292    0.02     NaN        NaN  Rønbækskolen_E.43  \n",
       " ...       ...     ...        ...                ...  \n",
       " 1829107  0.04     NaN        NaN  Rønbækskolen_E.43  \n",
       " 1835741  0.02     NaN        NaN  Rønbækskolen_E.43  \n",
       " 1836232  0.02     NaN        NaN  Rønbækskolen_E.43  \n",
       " 1838640  0.03     NaN        NaN  Rønbækskolen_E.43  \n",
       " 1838703  0.02     NaN        NaN  Rønbækskolen_E.43  \n",
       " \n",
       " [589 rows x 16 columns],\n",
       " 'Rønbækskolen_F.01':            ID   KOMMUNE         SKOLE        DATE      TIME  DAYNAME  \\\n",
       " 201      F.01  Favrskov  Rønbækskolen  2023-09-22  20:30:00   Fredag   \n",
       " 1611     F.01  Favrskov  Rønbækskolen  2023-09-30  14:30:00  Loerdag   \n",
       " 5424     F.01  Favrskov  Rønbækskolen  2023-09-26  23:30:00  Tirsdag   \n",
       " 12379    F.01  Favrskov  Rønbækskolen  2023-09-27  17:30:00   Onsdag   \n",
       " 15324    F.01  Favrskov  Rønbækskolen  2023-09-23  15:30:00  Loerdag   \n",
       " ...       ...       ...           ...         ...       ...      ...   \n",
       " 1830919  F.01  Favrskov  Rønbækskolen  2023-10-08  07:00:00  Soendag   \n",
       " 1832007  F.01  Favrskov  Rønbækskolen  2023-10-02  07:30:00   Mandag   \n",
       " 1836050  F.01  Favrskov  Rønbækskolen  2023-10-07  07:45:00  Loerdag   \n",
       " 1836761  F.01  Favrskov  Rønbækskolen  2023-10-04  08:30:00   Onsdag   \n",
       " 1838287  F.01  Favrskov  Rønbækskolen  2023-10-08  18:00:00  Soendag   \n",
       " \n",
       "         TIDSPUNKT_TYPE        TYPE        NAVN         CO2       TEMP  MOTION  \\\n",
       " 201             Fritid  Normal Dag  Normal Dag  429.500000  23.700000     NaN   \n",
       " 1611            Fritid  Normal Dag  Normal Dag  393.666667  23.833333     NaN   \n",
       " 5424            Fritid  Normal Dag  Normal Dag  553.000000  23.400000     NaN   \n",
       " 12379           Fritid  Normal Dag  Normal Dag  492.333333  23.700000     NaN   \n",
       " 15324           Fritid  Normal Dag  Normal Dag  502.500000  23.800000     NaN   \n",
       " ...                ...         ...         ...         ...        ...     ...   \n",
       " 1830919         Fritid  Normal Dag  Normal Dag  477.000000  21.900000     NaN   \n",
       " 1832007          Skole  Normal Dag  Normal Dag  485.000000  23.100000     NaN   \n",
       " 1836050         Fritid  Normal Dag  Normal Dag  401.000000  22.450000     NaN   \n",
       " 1836761          Skole  Normal Dag  Normal Dag  537.500000  22.450000     NaN   \n",
       " 1838287         Fritid  Normal Dag  Normal Dag  466.000000  21.900000     NaN   \n",
       " \n",
       "           IAQ  BOOKET  SKEMALAGT           SKOLE_ID  \n",
       " 201      0.02     NaN        NaN  Rønbækskolen_F.01  \n",
       " 1611     0.02     NaN        NaN  Rønbækskolen_F.01  \n",
       " 5424     0.04     NaN        NaN  Rønbækskolen_F.01  \n",
       " 12379    0.03     NaN        NaN  Rønbækskolen_F.01  \n",
       " 15324    0.02     NaN        NaN  Rønbækskolen_F.01  \n",
       " ...       ...     ...        ...                ...  \n",
       " 1830919  0.02     NaN        NaN  Rønbækskolen_F.01  \n",
       " 1832007  0.02     NaN        NaN  Rønbækskolen_F.01  \n",
       " 1836050  0.02     NaN        NaN  Rønbækskolen_F.01  \n",
       " 1836761  0.02     NaN        NaN  Rønbækskolen_F.01  \n",
       " 1838287  0.03     NaN        NaN  Rønbækskolen_F.01  \n",
       " \n",
       " [690 rows x 16 columns],\n",
       " 'Rønbækskolen_F.05':            ID   KOMMUNE         SKOLE        DATE      TIME  DAYNAME  \\\n",
       " 8525     F.05  Favrskov  Rønbækskolen  2023-09-30  17:00:00  Loerdag   \n",
       " 17476    F.05  Favrskov  Rønbækskolen  2023-09-26  20:00:00  Tirsdag   \n",
       " 21364    F.05  Favrskov  Rønbækskolen  2023-09-26  20:45:00  Tirsdag   \n",
       " 35052    F.05  Favrskov  Rønbækskolen  2023-09-25  09:00:00   Mandag   \n",
       " 48958    F.05  Favrskov  Rønbækskolen  2023-09-23  06:30:00  Loerdag   \n",
       " ...       ...       ...           ...         ...       ...      ...   \n",
       " 1828990  F.05  Favrskov  Rønbækskolen  2023-09-29  17:00:00   Fredag   \n",
       " 1830544  F.05  Favrskov  Rønbækskolen  2023-09-27  07:30:00   Onsdag   \n",
       " 1834181  F.05  Favrskov  Rønbækskolen  2023-09-29  02:30:00   Fredag   \n",
       " 1836562  F.05  Favrskov  Rønbækskolen  2023-10-06  03:30:00   Fredag   \n",
       " 1838467  F.05  Favrskov  Rønbækskolen  2023-09-25  20:15:00   Mandag   \n",
       " \n",
       "         TIDSPUNKT_TYPE        TYPE        NAVN    CO2  TEMP  MOTION   IAQ  \\\n",
       " 8525            Fritid  Normal Dag  Normal Dag  399.0  21.7     NaN  0.02   \n",
       " 17476           Fritid  Normal Dag  Normal Dag  866.0  22.4     NaN  0.03   \n",
       " 21364           Fritid  Normal Dag  Normal Dag  808.0  22.2     NaN  0.03   \n",
       " 35052            Skole  Normal Dag  Normal Dag  466.0  21.7     NaN  0.02   \n",
       " 48958           Fritid  Normal Dag  Normal Dag  411.0  22.0     NaN  0.04   \n",
       " ...                ...         ...         ...    ...   ...     ...   ...   \n",
       " 1828990         Fritid  Normal Dag  Normal Dag  470.0  21.9     NaN  0.02   \n",
       " 1830544          Skole  Normal Dag  Normal Dag  872.0  22.3     NaN  0.02   \n",
       " 1834181          Skole  Normal Dag  Normal Dag  400.0  21.9     NaN  0.05   \n",
       " 1836562          Skole  Normal Dag  Normal Dag  584.0  20.8     NaN  0.02   \n",
       " 1838467         Fritid  Normal Dag  Normal Dag  498.5  22.0     NaN  0.04   \n",
       " \n",
       "          BOOKET  SKEMALAGT           SKOLE_ID  \n",
       " 8525        NaN        NaN  Rønbækskolen_F.05  \n",
       " 17476       1.0        NaN  Rønbækskolen_F.05  \n",
       " 21364       1.0        NaN  Rønbækskolen_F.05  \n",
       " 35052       NaN        NaN  Rønbækskolen_F.05  \n",
       " 48958       NaN        NaN  Rønbækskolen_F.05  \n",
       " ...         ...        ...                ...  \n",
       " 1828990     NaN        NaN  Rønbækskolen_F.05  \n",
       " 1830544     NaN        NaN  Rønbækskolen_F.05  \n",
       " 1834181     NaN        NaN  Rønbækskolen_F.05  \n",
       " 1836562     NaN        NaN  Rønbækskolen_F.05  \n",
       " 1838467     NaN        NaN  Rønbækskolen_F.05  \n",
       " \n",
       " [469 rows x 16 columns],\n",
       " 'Rønbækskolen_F.06':            ID   KOMMUNE         SKOLE        DATE      TIME  DAYNAME  \\\n",
       " 137      F.06  Favrskov  Rønbækskolen  2023-09-28  02:00:00  Torsdag   \n",
       " 1840     F.06  Favrskov  Rønbækskolen  2023-10-01  04:45:00  Soendag   \n",
       " 12998    F.06  Favrskov  Rønbækskolen  2023-09-25  21:00:00   Mandag   \n",
       " 13761    F.06  Favrskov  Rønbækskolen  2023-10-02  23:15:00   Mandag   \n",
       " 18204    F.06  Favrskov  Rønbækskolen  2023-10-04  09:30:00   Onsdag   \n",
       " ...       ...       ...           ...         ...       ...      ...   \n",
       " 1836113  F.06  Favrskov  Rønbækskolen  2023-10-03  12:15:00  Tirsdag   \n",
       " 1837381  F.06  Favrskov  Rønbækskolen  2023-09-29  18:45:00   Fredag   \n",
       " 1837505  F.06  Favrskov  Rønbækskolen  2023-10-03  14:00:00  Tirsdag   \n",
       " 1839096  F.06  Favrskov  Rønbækskolen  2023-09-26  09:30:00  Tirsdag   \n",
       " 1839545  F.06  Favrskov  Rønbækskolen  2023-09-29  10:00:00   Fredag   \n",
       " \n",
       "         TIDSPUNKT_TYPE        TYPE        NAVN         CO2       TEMP  MOTION  \\\n",
       " 137              Skole  Normal Dag  Normal Dag  512.000000  22.000000     NaN   \n",
       " 1840            Fritid  Normal Dag  Normal Dag  478.000000  21.400000     NaN   \n",
       " 12998           Fritid  Normal Dag  Normal Dag  546.000000  22.100000     NaN   \n",
       " 13761           Fritid  Normal Dag  Normal Dag  734.333333  21.566667     NaN   \n",
       " 18204            Skole  Normal Dag  Normal Dag  776.500000  22.400000     NaN   \n",
       " ...                ...         ...         ...         ...        ...     ...   \n",
       " 1836113          Skole  Normal Dag  Normal Dag  903.333333  21.700000     NaN   \n",
       " 1837381         Fritid  Normal Dag  Normal Dag  474.000000  22.100000     NaN   \n",
       " 1837505          Skole  Normal Dag  Normal Dag  895.333333  21.600000     NaN   \n",
       " 1839096          Skole  Normal Dag  Normal Dag  432.000000  22.300000     NaN   \n",
       " 1839545          Skole  Normal Dag  Normal Dag  489.000000  22.600000     NaN   \n",
       " \n",
       "               IAQ  BOOKET  SKEMALAGT           SKOLE_ID  \n",
       " 137      0.030000     NaN        NaN  Rønbækskolen_F.06  \n",
       " 1840     0.020000     NaN        NaN  Rønbækskolen_F.06  \n",
       " 12998    0.020000     NaN        NaN  Rønbækskolen_F.06  \n",
       " 13761    0.020000     NaN        NaN  Rønbækskolen_F.06  \n",
       " 18204    0.030000     NaN        NaN  Rønbækskolen_F.06  \n",
       " ...           ...     ...        ...                ...  \n",
       " 1836113  0.226667     NaN        NaN  Rønbækskolen_F.06  \n",
       " 1837381  0.040000     NaN        NaN  Rønbækskolen_F.06  \n",
       " 1837505  0.220000     NaN        NaN  Rønbækskolen_F.06  \n",
       " 1839096  0.020000     NaN        NaN  Rønbækskolen_F.06  \n",
       " 1839545  0.020000     NaN        NaN  Rønbækskolen_F.06  \n",
       " \n",
       " [518 rows x 16 columns],\n",
       " 'Rønbækskolen_F.08':            ID   KOMMUNE         SKOLE        DATE      TIME  DAYNAME  \\\n",
       " 9127     F.08  Favrskov  Rønbækskolen  2023-10-08  16:15:00  Soendag   \n",
       " 25348    F.08  Favrskov  Rønbækskolen  2023-10-06  22:15:00   Fredag   \n",
       " 39013    F.08  Favrskov  Rønbækskolen  2023-10-07  08:30:00  Loerdag   \n",
       " 39412    F.08  Favrskov  Rønbækskolen  2023-10-08  15:30:00  Soendag   \n",
       " 45726    F.08  Favrskov  Rønbækskolen  2023-10-07  05:30:00  Loerdag   \n",
       " ...       ...       ...           ...         ...       ...      ...   \n",
       " 1812446  F.08  Favrskov  Rønbækskolen  2023-10-10  19:30:00  Tirsdag   \n",
       " 1824571  F.08  Favrskov  Rønbækskolen  2023-10-03  03:30:00  Tirsdag   \n",
       " 1825531  F.08  Favrskov  Rønbækskolen  2023-10-08  03:45:00  Soendag   \n",
       " 1832352  F.08  Favrskov  Rønbækskolen  2023-10-04  03:45:00   Onsdag   \n",
       " 1832372  F.08  Favrskov  Rønbækskolen  2023-10-02  21:30:00   Mandag   \n",
       " \n",
       "         TIDSPUNKT_TYPE        TYPE        NAVN    CO2  TEMP  MOTION   IAQ  \\\n",
       " 9127            Fritid  Normal Dag  Normal Dag  462.0  20.2     NaN  0.02   \n",
       " 25348           Fritid  Normal Dag  Normal Dag  483.0  21.0     NaN  0.02   \n",
       " 39013           Fritid  Normal Dag  Normal Dag  465.0  21.0     NaN  0.02   \n",
       " 39412           Fritid  Normal Dag  Normal Dag  443.5  20.3     NaN  0.02   \n",
       " 45726           Fritid  Normal Dag  Normal Dag  465.0  20.6     NaN  0.02   \n",
       " ...                ...         ...         ...    ...   ...     ...   ...   \n",
       " 1812446         Fritid  Normal Dag  Normal Dag  515.0  20.2     NaN  0.02   \n",
       " 1824571          Skole  Normal Dag  Normal Dag  533.0  20.9     NaN  0.02   \n",
       " 1825531         Fritid  Normal Dag  Normal Dag  465.0  19.7     NaN  0.02   \n",
       " 1832352          Skole  Normal Dag  Normal Dag  930.0  20.4     NaN  0.04   \n",
       " 1832372         Fritid  Normal Dag  Normal Dag  546.0  21.4     NaN  0.02   \n",
       " \n",
       "          BOOKET  SKEMALAGT           SKOLE_ID  \n",
       " 9127        NaN        NaN  Rønbækskolen_F.08  \n",
       " 25348       NaN        NaN  Rønbækskolen_F.08  \n",
       " 39013       NaN        NaN  Rønbækskolen_F.08  \n",
       " 39412       NaN        NaN  Rønbækskolen_F.08  \n",
       " 45726       NaN        NaN  Rønbækskolen_F.08  \n",
       " ...         ...        ...                ...  \n",
       " 1812446     NaN        NaN  Rønbækskolen_F.08  \n",
       " 1824571     NaN        NaN  Rønbækskolen_F.08  \n",
       " 1825531     NaN        NaN  Rønbækskolen_F.08  \n",
       " 1832352     NaN        NaN  Rønbækskolen_F.08  \n",
       " 1832372     NaN        NaN  Rønbækskolen_F.08  \n",
       " \n",
       " [278 rows x 16 columns],\n",
       " 'Rønbækskolen_F.09':            ID   KOMMUNE         SKOLE        DATE      TIME  DAYNAME  \\\n",
       " 3046     F.09  Favrskov  Rønbækskolen  2023-10-03  08:30:00  Tirsdag   \n",
       " 10828    F.09  Favrskov  Rønbækskolen  2023-10-02  03:15:00   Mandag   \n",
       " 20030    F.09  Favrskov  Rønbækskolen  2023-09-22  11:15:00   Fredag   \n",
       " 26859    F.09  Favrskov  Rønbækskolen  2023-10-04  04:00:00   Onsdag   \n",
       " 29146    F.09  Favrskov  Rønbækskolen  2023-09-28  11:45:00  Torsdag   \n",
       " ...       ...       ...           ...         ...       ...      ...   \n",
       " 1824221  F.09  Favrskov  Rønbækskolen  2023-10-03  00:30:00  Tirsdag   \n",
       " 1831060  F.09  Favrskov  Rønbækskolen  2023-09-29  08:15:00   Fredag   \n",
       " 1835583  F.09  Favrskov  Rønbækskolen  2023-10-04  01:45:00   Onsdag   \n",
       " 1837619  F.09  Favrskov  Rønbækskolen  2023-09-27  13:15:00   Onsdag   \n",
       " 1839851  F.09  Favrskov  Rønbækskolen  2023-10-04  03:00:00   Onsdag   \n",
       " \n",
       "         TIDSPUNKT_TYPE        TYPE        NAVN          CO2       TEMP  \\\n",
       " 3046             Skole  Normal Dag  Normal Dag  1243.500000  21.000000   \n",
       " 10828            Skole  Normal Dag  Normal Dag   445.500000  20.100000   \n",
       " 20030            Skole  Normal Dag  Normal Dag   530.000000  22.100000   \n",
       " 26859            Skole  Normal Dag  Normal Dag   779.000000  19.966667   \n",
       " 29146            Skole  Normal Dag  Normal Dag   605.333333  22.033333   \n",
       " ...                ...         ...         ...          ...        ...   \n",
       " 1824221          Skole  Normal Dag  Normal Dag   504.000000  20.300000   \n",
       " 1831060          Skole  Normal Dag  Normal Dag   653.000000  21.800000   \n",
       " 1835583          Skole  Normal Dag  Normal Dag   842.666667  20.100000   \n",
       " 1837619          Skole  Normal Dag  Normal Dag   547.000000  21.700000   \n",
       " 1839851          Skole  Normal Dag  Normal Dag   799.500000  20.000000   \n",
       " \n",
       "          MOTION       IAQ  BOOKET  SKEMALAGT           SKOLE_ID  \n",
       " 3046        NaN  0.035000     NaN        NaN  Rønbækskolen_F.09  \n",
       " 10828       NaN  0.020000     NaN        NaN  Rønbækskolen_F.09  \n",
       " 20030       NaN  0.020000     NaN        NaN  Rønbækskolen_F.09  \n",
       " 26859       NaN  0.020000     NaN        NaN  Rønbækskolen_F.09  \n",
       " 29146       NaN  0.023333     NaN        NaN  Rønbækskolen_F.09  \n",
       " ...         ...       ...     ...        ...                ...  \n",
       " 1824221     NaN  0.020000     NaN        NaN  Rønbækskolen_F.09  \n",
       " 1831060     NaN  0.030000     NaN        NaN  Rønbækskolen_F.09  \n",
       " 1835583     NaN  0.020000     NaN        NaN  Rønbækskolen_F.09  \n",
       " 1837619     NaN  0.030000     NaN        NaN  Rønbækskolen_F.09  \n",
       " 1839851     NaN  0.020000     NaN        NaN  Rønbækskolen_F.09  \n",
       " \n",
       " [456 rows x 16 columns],\n",
       " 'Rønbækskolen_F.20':            ID   KOMMUNE         SKOLE        DATE      TIME  DAYNAME  \\\n",
       " 6600     F.20  Favrskov  Rønbækskolen  2023-09-30  14:30:00  Loerdag   \n",
       " 7820     F.20  Favrskov  Rønbækskolen  2023-10-07  07:45:00  Loerdag   \n",
       " 10599    F.20  Favrskov  Rønbækskolen  2023-10-09  20:00:00   Mandag   \n",
       " 14083    F.20  Favrskov  Rønbækskolen  2023-10-08  20:30:00  Soendag   \n",
       " 27936    F.20  Favrskov  Rønbækskolen  2023-09-25  07:30:00   Mandag   \n",
       " ...       ...       ...           ...         ...       ...      ...   \n",
       " 1827521  F.20  Favrskov  Rønbækskolen  2023-09-22  10:45:00   Fredag   \n",
       " 1833748  F.20  Favrskov  Rønbækskolen  2023-09-25  11:00:00   Mandag   \n",
       " 1834227  F.20  Favrskov  Rønbækskolen  2023-09-27  02:45:00   Onsdag   \n",
       " 1834718  F.20  Favrskov  Rønbækskolen  2023-10-07  06:15:00  Loerdag   \n",
       " 1840269  F.20  Favrskov  Rønbækskolen  2023-10-04  10:45:00   Onsdag   \n",
       " \n",
       "         TIDSPUNKT_TYPE        TYPE        NAVN          CO2   TEMP  MOTION  \\\n",
       " 6600            Fritid  Normal Dag  Normal Dag   407.000000  22.70     NaN   \n",
       " 7820            Fritid  Normal Dag  Normal Dag   441.000000  20.70     NaN   \n",
       " 10599           Fritid  Normal Dag  Normal Dag   490.500000  20.30     NaN   \n",
       " 14083           Fritid  Normal Dag  Normal Dag   482.666667  20.20     NaN   \n",
       " 27936            Skole  Normal Dag  Normal Dag   896.000000  22.50     NaN   \n",
       " ...                ...         ...         ...          ...    ...     ...   \n",
       " 1827521          Skole  Normal Dag  Normal Dag   459.000000  22.80     NaN   \n",
       " 1833748          Skole  Normal Dag  Normal Dag  1120.000000  23.60     NaN   \n",
       " 1834227          Skole  Normal Dag  Normal Dag   673.000000  21.95     NaN   \n",
       " 1834718         Fritid  Normal Dag  Normal Dag   424.000000  20.60     NaN   \n",
       " 1840269          Skole  Normal Dag  Normal Dag   519.500000  22.00     NaN   \n",
       " \n",
       "               IAQ  BOOKET  SKEMALAGT           SKOLE_ID  \n",
       " 6600     0.020000     NaN        NaN  Rønbækskolen_F.20  \n",
       " 7820     0.020000     NaN        NaN  Rønbækskolen_F.20  \n",
       " 10599    0.020000     NaN        NaN  Rønbækskolen_F.20  \n",
       " 14083    0.020000     NaN        NaN  Rønbækskolen_F.20  \n",
       " 27936    0.020000     NaN        NaN  Rønbækskolen_F.20  \n",
       " ...           ...     ...        ...                ...  \n",
       " 1827521  0.023333     NaN        NaN  Rønbækskolen_F.20  \n",
       " 1833748  0.110000     NaN        NaN  Rønbækskolen_F.20  \n",
       " 1834227  0.020000     NaN        NaN  Rønbækskolen_F.20  \n",
       " 1834718  0.020000     NaN        NaN  Rønbækskolen_F.20  \n",
       " 1840269  0.030000     NaN        NaN  Rønbækskolen_F.20  \n",
       " \n",
       " [506 rows x 16 columns],\n",
       " 'Rønbækskolen_F.23':            ID   KOMMUNE         SKOLE        DATE      TIME  DAYNAME  \\\n",
       " 1061     F.23  Favrskov  Rønbækskolen  2023-10-07  16:45:00  Loerdag   \n",
       " 1415     F.23  Favrskov  Rønbækskolen  2023-09-26  19:30:00  Tirsdag   \n",
       " 3012     F.23  Favrskov  Rønbækskolen  2023-09-24  20:30:00  Soendag   \n",
       " 4702     F.23  Favrskov  Rønbækskolen  2023-10-05  02:15:00  Torsdag   \n",
       " 5134     F.23  Favrskov  Rønbækskolen  2023-09-23  18:30:00  Loerdag   \n",
       " ...       ...       ...           ...         ...       ...      ...   \n",
       " 1824663  F.23  Favrskov  Rønbækskolen  2023-10-04  00:15:00   Onsdag   \n",
       " 1832287  F.23  Favrskov  Rønbækskolen  2023-09-27  13:00:00   Onsdag   \n",
       " 1832622  F.23  Favrskov  Rønbækskolen  2023-10-11  11:45:00   Onsdag   \n",
       " 1834527  F.23  Favrskov  Rønbækskolen  2023-10-05  02:30:00  Torsdag   \n",
       " 1841836  F.23  Favrskov  Rønbækskolen  2023-09-27  18:00:00   Onsdag   \n",
       " \n",
       "         TIDSPUNKT_TYPE        TYPE        NAVN    CO2  TEMP  MOTION    IAQ  \\\n",
       " 1061            Fritid  Normal Dag  Normal Dag  448.0  20.0     NaN  0.020   \n",
       " 1415            Fritid  Normal Dag  Normal Dag  788.0  21.1     NaN  0.065   \n",
       " 3012            Fritid  Normal Dag  Normal Dag  463.0  20.6     NaN  0.030   \n",
       " 4702             Skole  Normal Dag  Normal Dag  538.5  20.8     NaN  0.050   \n",
       " 5134            Fritid  Normal Dag  Normal Dag  488.0  21.3     NaN  0.020   \n",
       " ...                ...         ...         ...    ...   ...     ...    ...   \n",
       " 1824663          Skole  Normal Dag  Normal Dag  738.0  20.2     NaN  0.360   \n",
       " 1832287          Skole  Normal Dag  Normal Dag  560.0  22.1     NaN  0.050   \n",
       " 1832622          Skole  Normal Dag  Normal Dag  917.0  22.9     NaN  0.050   \n",
       " 1834527          Skole  Normal Dag  Normal Dag  528.0  20.8     NaN  0.050   \n",
       " 1841836         Fritid  Normal Dag  Normal Dag  468.0  21.4     NaN  0.040   \n",
       " \n",
       "          BOOKET  SKEMALAGT           SKOLE_ID  \n",
       " 1061        NaN        NaN  Rønbækskolen_F.23  \n",
       " 1415        1.0        NaN  Rønbækskolen_F.23  \n",
       " 3012        NaN        NaN  Rønbækskolen_F.23  \n",
       " 4702        NaN        NaN  Rønbækskolen_F.23  \n",
       " 5134        NaN        NaN  Rønbækskolen_F.23  \n",
       " ...         ...        ...                ...  \n",
       " 1824663     NaN        NaN  Rønbækskolen_F.23  \n",
       " 1832287     NaN        NaN  Rønbækskolen_F.23  \n",
       " 1832622     NaN        NaN  Rønbækskolen_F.23  \n",
       " 1834527     NaN        NaN  Rønbækskolen_F.23  \n",
       " 1841836     NaN        NaN  Rønbækskolen_F.23  \n",
       " \n",
       " [561 rows x 16 columns],\n",
       " 'Rønbækskolen_F.24':            ID   KOMMUNE         SKOLE        DATE      TIME  DAYNAME  \\\n",
       " 3985     F.24  Favrskov  Rønbækskolen  2023-10-04  09:45:00   Onsdag   \n",
       " 7646     F.24  Favrskov  Rønbækskolen  2023-10-06  10:30:00   Fredag   \n",
       " 8649     F.24  Favrskov  Rønbækskolen  2023-10-05  23:30:00  Torsdag   \n",
       " 10630    F.24  Favrskov  Rønbækskolen  2023-09-26  18:45:00  Tirsdag   \n",
       " 12742    F.24  Favrskov  Rønbækskolen  2023-09-24  04:45:00  Soendag   \n",
       " ...       ...       ...           ...         ...       ...      ...   \n",
       " 1826847  F.24  Favrskov  Rønbækskolen  2023-10-09  00:00:00   Mandag   \n",
       " 1827754  F.24  Favrskov  Rønbækskolen  2023-09-28  22:45:00  Torsdag   \n",
       " 1830374  F.24  Favrskov  Rønbækskolen  2023-09-27  07:00:00   Onsdag   \n",
       " 1832049  F.24  Favrskov  Rønbækskolen  2023-09-27  06:30:00   Onsdag   \n",
       " 1832284  F.24  Favrskov  Rønbækskolen  2023-09-22  21:15:00   Fredag   \n",
       " \n",
       "         TIDSPUNKT_TYPE        TYPE        NAVN    CO2  TEMP  MOTION    IAQ  \\\n",
       " 3985             Skole  Normal Dag  Normal Dag  801.0  21.4     NaN  0.035   \n",
       " 7646             Skole  Normal Dag  Normal Dag  648.0  21.8     NaN  0.020   \n",
       " 8649            Fritid  Normal Dag  Normal Dag  565.0  20.1     NaN  0.020   \n",
       " 10630           Fritid  Normal Dag  Normal Dag  504.0  21.1     NaN  0.070   \n",
       " 12742           Fritid  Normal Dag  Normal Dag  439.0  20.3     NaN  0.030   \n",
       " ...                ...         ...         ...    ...   ...     ...    ...   \n",
       " 1826847          Skole  Normal Dag  Normal Dag  452.5  18.6     NaN  0.020   \n",
       " 1827754         Fritid  Normal Dag  Normal Dag  456.0  21.5     NaN  0.020   \n",
       " 1830374          Skole  Normal Dag  Normal Dag  840.0  21.0     NaN  0.080   \n",
       " 1832049          Skole  Normal Dag  Normal Dag  853.0  21.1     NaN  0.190   \n",
       " 1832284         Fritid  Normal Dag  Normal Dag  427.0  21.7     NaN  0.020   \n",
       " \n",
       "          BOOKET  SKEMALAGT           SKOLE_ID  \n",
       " 3985        NaN        NaN  Rønbækskolen_F.24  \n",
       " 7646        NaN        NaN  Rønbækskolen_F.24  \n",
       " 8649        NaN        NaN  Rønbækskolen_F.24  \n",
       " 10630       1.0        NaN  Rønbækskolen_F.24  \n",
       " 12742       NaN        NaN  Rønbækskolen_F.24  \n",
       " ...         ...        ...                ...  \n",
       " 1826847     NaN        NaN  Rønbækskolen_F.24  \n",
       " 1827754     NaN        NaN  Rønbækskolen_F.24  \n",
       " 1830374     NaN        NaN  Rønbækskolen_F.24  \n",
       " 1832049     NaN        NaN  Rønbækskolen_F.24  \n",
       " 1832284     NaN        NaN  Rønbækskolen_F.24  \n",
       " \n",
       " [483 rows x 16 columns],\n",
       " 'Rønbækskolen_F.25':            ID   KOMMUNE         SKOLE        DATE      TIME  DAYNAME  \\\n",
       " 545      F.25  Favrskov  Rønbækskolen  2023-09-29  06:30:00   Fredag   \n",
       " 3094     F.25  Favrskov  Rønbækskolen  2023-10-11  09:30:00   Onsdag   \n",
       " 10276    F.25  Favrskov  Rønbækskolen  2023-09-28  09:00:00  Torsdag   \n",
       " 10494    F.25  Favrskov  Rønbækskolen  2023-10-07  18:15:00  Loerdag   \n",
       " 12175    F.25  Favrskov  Rønbækskolen  2023-09-22  22:00:00   Fredag   \n",
       " ...       ...       ...           ...         ...       ...      ...   \n",
       " 1831612  F.25  Favrskov  Rønbækskolen  2023-09-28  22:15:00  Torsdag   \n",
       " 1836744  F.25  Favrskov  Rønbækskolen  2023-09-24  04:00:00  Soendag   \n",
       " 1840577  F.25  Favrskov  Rønbækskolen  2023-10-08  12:00:00  Soendag   \n",
       " 1841012  F.25  Favrskov  Rønbækskolen  2023-10-02  20:45:00   Mandag   \n",
       " 1841384  F.25  Favrskov  Rønbækskolen  2023-10-09  15:00:00   Mandag   \n",
       " \n",
       "         TIDSPUNKT_TYPE        TYPE        NAVN         CO2  TEMP  MOTION  \\\n",
       " 545              Skole  Normal Dag  Normal Dag  577.333333  21.5     NaN   \n",
       " 3094             Skole  Normal Dag  Normal Dag  446.000000  19.3     NaN   \n",
       " 10276            Skole  Normal Dag  Normal Dag  587.000000  21.4     NaN   \n",
       " 10494           Fritid  Normal Dag  Normal Dag  521.000000  20.2     NaN   \n",
       " 12175           Fritid  Normal Dag  Normal Dag  515.000000  21.7     NaN   \n",
       " ...                ...         ...         ...         ...   ...     ...   \n",
       " 1831612         Fritid  Normal Dag  Normal Dag  722.000000  21.6     NaN   \n",
       " 1836744         Fritid  Normal Dag  Normal Dag  494.000000  20.8     NaN   \n",
       " 1840577         Fritid  Normal Dag  Normal Dag  455.000000  19.6     NaN   \n",
       " 1841012         Fritid  Normal Dag  Normal Dag  565.000000  20.4     NaN   \n",
       " 1841384          Skole  Normal Dag  Normal Dag  578.000000  19.3     NaN   \n",
       " \n",
       "           IAQ  BOOKET  SKEMALAGT           SKOLE_ID  \n",
       " 545      0.02     NaN        NaN  Rønbækskolen_F.25  \n",
       " 3094     0.03     NaN        NaN  Rønbækskolen_F.25  \n",
       " 10276    0.02     NaN        NaN  Rønbækskolen_F.25  \n",
       " 10494    0.02     NaN        NaN  Rønbækskolen_F.25  \n",
       " 12175    0.02     NaN        NaN  Rønbækskolen_F.25  \n",
       " ...       ...     ...        ...                ...  \n",
       " 1831612  0.14     NaN        NaN  Rønbækskolen_F.25  \n",
       " 1836744  0.02     NaN        NaN  Rønbækskolen_F.25  \n",
       " 1840577  0.03     NaN        NaN  Rønbækskolen_F.25  \n",
       " 1841012  0.03     NaN        NaN  Rønbækskolen_F.25  \n",
       " 1841384  0.23     NaN        NaN  Rønbækskolen_F.25  \n",
       " \n",
       " [673 rows x 16 columns],\n",
       " 'Rønbækskolen_F.27':            ID   KOMMUNE         SKOLE        DATE      TIME  DAYNAME  \\\n",
       " 6596     F.27  Favrskov  Rønbækskolen  2023-10-07  00:00:00  Loerdag   \n",
       " 8143     F.27  Favrskov  Rønbækskolen  2023-10-04  18:00:00   Onsdag   \n",
       " 11353    F.27  Favrskov  Rønbækskolen  2023-10-08  21:15:00  Soendag   \n",
       " 14781    F.27  Favrskov  Rønbækskolen  2023-10-08  10:15:00  Soendag   \n",
       " 14825    F.27  Favrskov  Rønbækskolen  2023-09-28  07:45:00  Torsdag   \n",
       " ...       ...       ...           ...         ...       ...      ...   \n",
       " 1834269  F.27  Favrskov  Rønbækskolen  2023-10-12  06:45:00  Torsdag   \n",
       " 1835847  F.27  Favrskov  Rønbækskolen  2023-10-02  17:15:00   Mandag   \n",
       " 1836377  F.27  Favrskov  Rønbækskolen  2023-09-25  22:00:00   Mandag   \n",
       " 1839263  F.27  Favrskov  Rønbækskolen  2023-10-10  18:00:00  Tirsdag   \n",
       " 1841936  F.27  Favrskov  Rønbækskolen  2023-10-02  18:00:00   Mandag   \n",
       " \n",
       "         TIDSPUNKT_TYPE        TYPE        NAVN    CO2  TEMP  MOTION   IAQ  \\\n",
       " 6596            Fritid  Normal Dag  Normal Dag  476.0  19.3     NaN  0.02   \n",
       " 8143            Fritid  Normal Dag  Normal Dag  470.0  19.4     NaN  0.03   \n",
       " 11353           Fritid  Normal Dag  Normal Dag  521.0  17.8     NaN  0.02   \n",
       " 14781           Fritid  Normal Dag  Normal Dag  487.5  17.7     NaN  0.02   \n",
       " 14825            Skole  Normal Dag  Normal Dag  595.0  21.9     NaN  0.03   \n",
       " ...                ...         ...         ...    ...   ...     ...   ...   \n",
       " 1834269          Skole  Normal Dag  Normal Dag  664.0  19.3     NaN  0.02   \n",
       " 1835847         Fritid  Normal Dag  Normal Dag  613.0  20.0     NaN  0.03   \n",
       " 1836377         Fritid  Normal Dag  Normal Dag  674.0  20.3     NaN  0.02   \n",
       " 1839263         Fritid  Normal Dag  Normal Dag  536.0  18.9     NaN  0.02   \n",
       " 1841936         Fritid  Normal Dag  Normal Dag  624.0  19.9     NaN  0.03   \n",
       " \n",
       "          BOOKET  SKEMALAGT           SKOLE_ID  \n",
       " 6596        NaN        NaN  Rønbækskolen_F.27  \n",
       " 8143        NaN        NaN  Rønbækskolen_F.27  \n",
       " 11353       NaN        NaN  Rønbækskolen_F.27  \n",
       " 14781       NaN        NaN  Rønbækskolen_F.27  \n",
       " 14825       NaN        NaN  Rønbækskolen_F.27  \n",
       " ...         ...        ...                ...  \n",
       " 1834269     NaN        NaN  Rønbækskolen_F.27  \n",
       " 1835847     NaN        NaN  Rønbækskolen_F.27  \n",
       " 1836377     NaN        NaN  Rønbækskolen_F.27  \n",
       " 1839263     NaN        NaN  Rønbækskolen_F.27  \n",
       " 1841936     NaN        NaN  Rønbækskolen_F.27  \n",
       " \n",
       " [614 rows x 16 columns],\n",
       " 'Rønbækskolen_G.01':            ID   KOMMUNE         SKOLE        DATE      TIME  DAYNAME  \\\n",
       " 5019     G.01  Favrskov  Rønbækskolen  2023-10-02  02:45:00   Mandag   \n",
       " 8943     G.01  Favrskov  Rønbækskolen  2023-09-22  20:45:00   Fredag   \n",
       " 11102    G.01  Favrskov  Rønbækskolen  2023-10-08  13:30:00  Soendag   \n",
       " 16055    G.01  Favrskov  Rønbækskolen  2023-09-23  04:45:00  Loerdag   \n",
       " 17484    G.01  Favrskov  Rønbækskolen  2023-09-28  19:30:00  Torsdag   \n",
       " ...       ...       ...           ...         ...       ...      ...   \n",
       " 1819316  G.01  Favrskov  Rønbækskolen  2023-09-23  05:45:00  Loerdag   \n",
       " 1821131  G.01  Favrskov  Rønbækskolen  2023-09-30  21:45:00  Loerdag   \n",
       " 1826996  G.01  Favrskov  Rønbækskolen  2023-10-03  01:00:00  Tirsdag   \n",
       " 1833997  G.01  Favrskov  Rønbækskolen  2023-09-22  13:15:00   Fredag   \n",
       " 1840519  G.01  Favrskov  Rønbækskolen  2023-09-25  02:00:00   Mandag   \n",
       " \n",
       "         TIDSPUNKT_TYPE        TYPE        NAVN         CO2   TEMP  MOTION  \\\n",
       " 5019             Skole  Normal Dag  Normal Dag  400.000000  19.90     NaN   \n",
       " 8943            Fritid  Normal Dag  Normal Dag  396.333333  22.20     NaN   \n",
       " 11102           Fritid  Normal Dag  Normal Dag  451.000000  19.80     NaN   \n",
       " 16055           Fritid  Normal Dag  Normal Dag  406.500000  21.70     NaN   \n",
       " 17484           Fritid  Normal Dag  Normal Dag  412.000000  21.40     NaN   \n",
       " ...                ...         ...         ...         ...    ...     ...   \n",
       " 1819316         Fritid  Normal Dag  Normal Dag  399.500000  21.65     NaN   \n",
       " 1821131         Fritid  Normal Dag  Normal Dag  395.000000  20.50     NaN   \n",
       " 1826996          Skole  Normal Dag  Normal Dag  488.000000  20.75     NaN   \n",
       " 1833997          Skole  Normal Dag  Normal Dag  398.000000  22.90     NaN   \n",
       " 1840519          Skole  Normal Dag  Normal Dag  392.000000  20.90     NaN   \n",
       " \n",
       "           IAQ  BOOKET  SKEMALAGT           SKOLE_ID  \n",
       " 5019     0.02     NaN        NaN  Rønbækskolen_G.01  \n",
       " 8943     0.02     NaN        NaN  Rønbækskolen_G.01  \n",
       " 11102    0.02     NaN        NaN  Rønbækskolen_G.01  \n",
       " 16055    0.02     NaN        NaN  Rønbækskolen_G.01  \n",
       " 17484    0.02     1.0        NaN  Rønbækskolen_G.01  \n",
       " ...       ...     ...        ...                ...  \n",
       " 1819316  0.02     NaN        NaN  Rønbækskolen_G.01  \n",
       " 1821131  0.02     NaN        NaN  Rønbækskolen_G.01  \n",
       " 1826996  0.03     NaN        NaN  Rønbækskolen_G.01  \n",
       " 1833997  0.03     NaN        NaN  Rønbækskolen_G.01  \n",
       " 1840519  0.05     NaN        NaN  Rønbækskolen_G.01  \n",
       " \n",
       " [708 rows x 16 columns],\n",
       " 'Rønbækskolen_G.02':            ID   KOMMUNE         SKOLE        DATE      TIME  DAYNAME  \\\n",
       " 4134     G.02  Favrskov  Rønbækskolen  2023-09-26  07:15:00  Tirsdag   \n",
       " 6746     G.02  Favrskov  Rønbækskolen  2023-09-23  17:00:00  Loerdag   \n",
       " 9739     G.02  Favrskov  Rønbækskolen  2023-09-23  09:45:00  Loerdag   \n",
       " 13591    G.02  Favrskov  Rønbækskolen  2023-10-10  16:15:00  Tirsdag   \n",
       " 14176    G.02  Favrskov  Rønbækskolen  2023-09-29  16:45:00   Fredag   \n",
       " ...       ...       ...           ...         ...       ...      ...   \n",
       " 1813486  G.02  Favrskov  Rønbækskolen  2023-09-24  19:30:00  Soendag   \n",
       " 1815011  G.02  Favrskov  Rønbækskolen  2023-09-25  01:15:00   Mandag   \n",
       " 1818088  G.02  Favrskov  Rønbækskolen  2023-10-02  22:15:00   Mandag   \n",
       " 1827341  G.02  Favrskov  Rønbækskolen  2023-10-02  13:30:00   Mandag   \n",
       " 1827858  G.02  Favrskov  Rønbækskolen  2023-09-29  07:45:00   Fredag   \n",
       " \n",
       "         TIDSPUNKT_TYPE        TYPE        NAVN         CO2  TEMP  MOTION  \\\n",
       " 4134             Skole  Normal Dag  Normal Dag  898.500000  22.7     NaN   \n",
       " 6746            Fritid  Normal Dag  Normal Dag  433.666667  23.0     NaN   \n",
       " 9739            Fritid  Normal Dag  Normal Dag  439.000000  22.1     NaN   \n",
       " 13591           Fritid  Normal Dag  Normal Dag  459.000000  20.5     NaN   \n",
       " 14176           Fritid  Normal Dag  Normal Dag  402.000000  21.6     NaN   \n",
       " ...                ...         ...         ...         ...   ...     ...   \n",
       " 1813486         Fritid  Normal Dag  Normal Dag  407.666667  22.1     NaN   \n",
       " 1815011          Skole  Normal Dag  Normal Dag  426.000000  21.6     NaN   \n",
       " 1818088         Fritid  Normal Dag  Normal Dag  458.000000  20.8     NaN   \n",
       " 1827341          Skole  Normal Dag  Normal Dag  476.000000  22.1     NaN   \n",
       " 1827858          Skole  Normal Dag  Normal Dag  426.000000  21.5     NaN   \n",
       " \n",
       "               IAQ  BOOKET  SKEMALAGT           SKOLE_ID  \n",
       " 4134     0.025000     NaN        NaN  Rønbækskolen_G.02  \n",
       " 6746     0.033333     NaN        NaN  Rønbækskolen_G.02  \n",
       " 9739     0.235000     NaN        NaN  Rønbækskolen_G.02  \n",
       " 13591    0.020000     NaN        NaN  Rønbækskolen_G.02  \n",
       " 14176    0.020000     NaN        NaN  Rønbækskolen_G.02  \n",
       " ...           ...     ...        ...                ...  \n",
       " 1813486  0.020000     NaN        NaN  Rønbækskolen_G.02  \n",
       " 1815011  0.305000     NaN        NaN  Rønbækskolen_G.02  \n",
       " 1818088  0.020000     NaN        NaN  Rønbækskolen_G.02  \n",
       " 1827341  0.040000     NaN        NaN  Rønbækskolen_G.02  \n",
       " 1827858  0.020000     NaN        NaN  Rønbækskolen_G.02  \n",
       " \n",
       " [584 rows x 16 columns],\n",
       " 'Rønbækskolen_G.03':            ID   KOMMUNE         SKOLE        DATE      TIME  DAYNAME  \\\n",
       " 647      G.03  Favrskov  Rønbækskolen  2023-09-30  10:30:00  Loerdag   \n",
       " 2882     G.03  Favrskov  Rønbækskolen  2023-10-01  05:00:00  Soendag   \n",
       " 4639     G.03  Favrskov  Rønbækskolen  2023-10-02  09:45:00   Mandag   \n",
       " 6026     G.03  Favrskov  Rønbækskolen  2023-10-09  12:45:00   Mandag   \n",
       " 9388     G.03  Favrskov  Rønbækskolen  2023-10-01  18:15:00  Soendag   \n",
       " ...       ...       ...           ...         ...       ...      ...   \n",
       " 1808543  G.03  Favrskov  Rønbækskolen  2023-09-29  17:15:00   Fredag   \n",
       " 1816875  G.03  Favrskov  Rønbækskolen  2023-09-30  15:00:00  Loerdag   \n",
       " 1830848  G.03  Favrskov  Rønbækskolen  2023-10-05  17:30:00  Torsdag   \n",
       " 1831796  G.03  Favrskov  Rønbækskolen  2023-09-25  15:15:00   Mandag   \n",
       " 1833303  G.03  Favrskov  Rønbækskolen  2023-09-26  17:30:00  Tirsdag   \n",
       " \n",
       "         TIDSPUNKT_TYPE        TYPE        NAVN         CO2  TEMP  MOTION  \\\n",
       " 647             Fritid  Normal Dag  Normal Dag  394.666667  22.3     NaN   \n",
       " 2882            Fritid  Normal Dag  Normal Dag  393.500000  21.6     NaN   \n",
       " 4639             Skole  Normal Dag  Normal Dag  698.500000  22.3     NaN   \n",
       " 6026             Skole  Normal Dag  Normal Dag  501.000000  21.2     NaN   \n",
       " 9388            Fritid  Normal Dag  Normal Dag  406.000000  21.6     NaN   \n",
       " ...                ...         ...         ...         ...   ...     ...   \n",
       " 1808543         Fritid  Normal Dag  Normal Dag  382.000000  22.6     NaN   \n",
       " 1816875         Fritid  Normal Dag  Normal Dag  417.000000  23.2     NaN   \n",
       " 1830848         Fritid  Normal Dag  Normal Dag  556.000000  22.8     NaN   \n",
       " 1831796          Skole  Normal Dag  Normal Dag  490.000000  23.5     NaN   \n",
       " 1833303         Fritid  Normal Dag  Normal Dag  714.000000  23.6     NaN   \n",
       " \n",
       "           IAQ  BOOKET  SKEMALAGT           SKOLE_ID  \n",
       " 647      0.02     NaN        NaN  Rønbækskolen_G.03  \n",
       " 2882     0.02     NaN        NaN  Rønbækskolen_G.03  \n",
       " 4639     0.03     NaN        NaN  Rønbækskolen_G.03  \n",
       " 6026     0.11     NaN        NaN  Rønbækskolen_G.03  \n",
       " 9388     0.02     NaN        NaN  Rønbækskolen_G.03  \n",
       " ...       ...     ...        ...                ...  \n",
       " 1808543  0.09     NaN        NaN  Rønbækskolen_G.03  \n",
       " 1816875  0.02     NaN        NaN  Rønbækskolen_G.03  \n",
       " 1830848  0.04     NaN        NaN  Rønbækskolen_G.03  \n",
       " 1831796  0.03     NaN        NaN  Rønbækskolen_G.03  \n",
       " 1833303  0.17     NaN        NaN  Rønbækskolen_G.03  \n",
       " \n",
       " [723 rows x 16 columns],\n",
       " 'Rønbækskolen_G.04':            ID   KOMMUNE         SKOLE        DATE      TIME  DAYNAME  \\\n",
       " 689      G.04  Favrskov  Rønbækskolen  2023-10-04  21:45:00   Onsdag   \n",
       " 3163     G.04  Favrskov  Rønbækskolen  2023-10-07  03:15:00  Loerdag   \n",
       " 7976     G.04  Favrskov  Rønbækskolen  2023-10-02  00:15:00   Mandag   \n",
       " 10847    G.04  Favrskov  Rønbækskolen  2023-10-04  13:45:00   Onsdag   \n",
       " 11172    G.04  Favrskov  Rønbækskolen  2023-09-30  01:30:00  Loerdag   \n",
       " ...       ...       ...           ...         ...       ...      ...   \n",
       " 1824659  G.04  Favrskov  Rønbækskolen  2023-10-03  09:45:00  Tirsdag   \n",
       " 1838633  G.04  Favrskov  Rønbækskolen  2023-09-28  18:00:00  Torsdag   \n",
       " 1839891  G.04  Favrskov  Rønbækskolen  2023-09-30  12:30:00  Loerdag   \n",
       " 1840798  G.04  Favrskov  Rønbækskolen  2023-10-06  23:30:00   Fredag   \n",
       " 1842205  G.04  Favrskov  Rønbækskolen  2023-10-04  23:15:00   Onsdag   \n",
       " \n",
       "         TIDSPUNKT_TYPE        TYPE        NAVN         CO2   TEMP  MOTION  \\\n",
       " 689             Fritid  Normal Dag  Normal Dag  472.000000  20.90     NaN   \n",
       " 3163            Fritid  Normal Dag  Normal Dag  565.000000  21.20     NaN   \n",
       " 7976             Skole  Normal Dag  Normal Dag  431.333333  21.30     NaN   \n",
       " 10847            Skole  Normal Dag  Normal Dag  430.000000  20.55     NaN   \n",
       " 11172           Fritid  Normal Dag  Normal Dag  410.666667  21.80     NaN   \n",
       " ...                ...         ...         ...         ...    ...     ...   \n",
       " 1824659          Skole  Normal Dag  Normal Dag  591.000000  21.60     NaN   \n",
       " 1838633         Fritid  Normal Dag  Normal Dag  465.666667  22.90     NaN   \n",
       " 1839891         Fritid  Normal Dag  Normal Dag  403.000000  22.80     NaN   \n",
       " 1840798         Fritid  Normal Dag  Normal Dag  572.500000  21.40     NaN   \n",
       " 1842205         Fritid  Normal Dag  Normal Dag  484.000000  21.00     NaN   \n",
       " \n",
       "               IAQ  BOOKET  SKEMALAGT           SKOLE_ID  \n",
       " 689      0.030000     NaN        NaN  Rønbækskolen_G.04  \n",
       " 3163     0.020000     NaN        NaN  Rønbækskolen_G.04  \n",
       " 7976     0.023333     NaN        NaN  Rønbækskolen_G.04  \n",
       " 10847    0.020000     NaN        NaN  Rønbækskolen_G.04  \n",
       " 11172    0.020000     NaN        NaN  Rønbækskolen_G.04  \n",
       " ...           ...     ...        ...                ...  \n",
       " 1824659  0.030000     NaN        NaN  Rønbækskolen_G.04  \n",
       " 1838633  0.023333     NaN        NaN  Rønbækskolen_G.04  \n",
       " 1839891  0.020000     NaN        NaN  Rønbækskolen_G.04  \n",
       " 1840798  0.020000     NaN        NaN  Rønbækskolen_G.04  \n",
       " 1842205  0.030000     NaN        NaN  Rønbækskolen_G.04  \n",
       " \n",
       " [656 rows x 16 columns],\n",
       " 'Rønbækskolen_G.05':            ID   KOMMUNE         SKOLE        DATE      TIME  DAYNAME  \\\n",
       " 2290     G.05  Favrskov  Rønbækskolen  2023-10-01  20:15:00  Soendag   \n",
       " 3346     G.05  Favrskov  Rønbækskolen  2023-09-30  17:30:00  Loerdag   \n",
       " 6317     G.05  Favrskov  Rønbækskolen  2023-09-30  03:30:00  Loerdag   \n",
       " 7774     G.05  Favrskov  Rønbækskolen  2023-10-09  13:45:00   Mandag   \n",
       " 16693    G.05  Favrskov  Rønbækskolen  2023-09-30  00:15:00  Loerdag   \n",
       " ...       ...       ...           ...         ...       ...      ...   \n",
       " 1823156  G.05  Favrskov  Rønbækskolen  2023-09-26  10:00:00  Tirsdag   \n",
       " 1827104  G.05  Favrskov  Rønbækskolen  2023-10-09  04:45:00   Mandag   \n",
       " 1832009  G.05  Favrskov  Rønbækskolen  2023-10-01  08:45:00  Soendag   \n",
       " 1840153  G.05  Favrskov  Rønbækskolen  2023-10-02  18:45:00   Mandag   \n",
       " 1841380  G.05  Favrskov  Rønbækskolen  2023-10-03  05:45:00  Tirsdag   \n",
       " \n",
       "         TIDSPUNKT_TYPE        TYPE        NAVN         CO2   TEMP  MOTION  \\\n",
       " 2290            Fritid  Normal Dag  Normal Dag  422.000000  21.50     NaN   \n",
       " 3346            Fritid  Normal Dag  Normal Dag  419.000000  22.40     NaN   \n",
       " 6317            Fritid  Normal Dag  Normal Dag  416.000000  21.80     NaN   \n",
       " 7774             Skole  Normal Dag  Normal Dag  448.000000  20.90     NaN   \n",
       " 16693           Fritid  Normal Dag  Normal Dag  422.000000  22.00     NaN   \n",
       " ...                ...         ...         ...         ...    ...     ...   \n",
       " 1823156          Skole  Normal Dag  Normal Dag  701.000000  23.30     NaN   \n",
       " 1827104          Skole  Normal Dag  Normal Dag  472.000000  19.80     NaN   \n",
       " 1832009         Fritid  Normal Dag  Normal Dag  424.000000  21.90     NaN   \n",
       " 1840153         Fritid  Normal Dag  Normal Dag  469.666667  21.90     NaN   \n",
       " 1841380          Skole  Normal Dag  Normal Dag  574.500000  21.45     NaN   \n",
       " \n",
       "           IAQ  BOOKET  SKEMALAGT           SKOLE_ID  \n",
       " 2290     0.02     NaN        NaN  Rønbækskolen_G.05  \n",
       " 3346     0.08     NaN        NaN  Rønbækskolen_G.05  \n",
       " 6317     0.02     NaN        NaN  Rønbækskolen_G.05  \n",
       " 7774     0.02     NaN        NaN  Rønbækskolen_G.05  \n",
       " 16693    0.02     NaN        NaN  Rønbækskolen_G.05  \n",
       " ...       ...     ...        ...                ...  \n",
       " 1823156  0.02     NaN        NaN  Rønbækskolen_G.05  \n",
       " 1827104  0.02     NaN        NaN  Rønbækskolen_G.05  \n",
       " 1832009  0.02     NaN        NaN  Rønbækskolen_G.05  \n",
       " 1840153  0.03     NaN        NaN  Rønbækskolen_G.05  \n",
       " 1841380  0.02     NaN        NaN  Rønbækskolen_G.05  \n",
       " \n",
       " [678 rows x 16 columns],\n",
       " 'Rønbækskolen_G.06':            ID   KOMMUNE         SKOLE        DATE      TIME  DAYNAME  \\\n",
       " 587      G.06  Favrskov  Rønbækskolen  2023-09-27  15:15:00   Onsdag   \n",
       " 2410     G.06  Favrskov  Rønbækskolen  2023-10-02  20:15:00   Mandag   \n",
       " 3838     G.06  Favrskov  Rønbækskolen  2023-10-04  06:30:00   Onsdag   \n",
       " 6645     G.06  Favrskov  Rønbækskolen  2023-09-29  02:00:00   Fredag   \n",
       " 8032     G.06  Favrskov  Rønbækskolen  2023-10-04  19:45:00   Onsdag   \n",
       " ...       ...       ...           ...         ...       ...      ...   \n",
       " 1830823  G.06  Favrskov  Rønbækskolen  2023-10-02  22:00:00   Mandag   \n",
       " 1837053  G.06  Favrskov  Rønbækskolen  2023-10-01  17:45:00  Soendag   \n",
       " 1837085  G.06  Favrskov  Rønbækskolen  2023-10-02  19:15:00   Mandag   \n",
       " 1839288  G.06  Favrskov  Rønbækskolen  2023-09-22  06:45:00   Fredag   \n",
       " 1839649  G.06  Favrskov  Rønbækskolen  2023-09-23  11:15:00  Loerdag   \n",
       " \n",
       "         TIDSPUNKT_TYPE        TYPE        NAVN         CO2       TEMP  MOTION  \\\n",
       " 587              Skole  Normal Dag  Normal Dag  471.666667  23.933333     NaN   \n",
       " 2410            Fritid  Normal Dag  Normal Dag  454.666667  22.100000     NaN   \n",
       " 3838             Skole  Normal Dag  Normal Dag  686.000000  22.000000     NaN   \n",
       " 6645             Skole  Normal Dag  Normal Dag  631.000000  22.900000     NaN   \n",
       " 8032            Fritid  Normal Dag  Normal Dag  438.000000  21.600000     NaN   \n",
       " ...                ...         ...         ...         ...        ...     ...   \n",
       " 1830823         Fritid  Normal Dag  Normal Dag  443.666667  21.933333     NaN   \n",
       " 1837053         Fritid  Normal Dag  Normal Dag  406.000000  21.850000     NaN   \n",
       " 1837085         Fritid  Normal Dag  Normal Dag  454.666667  22.200000     NaN   \n",
       " 1839288          Skole  Normal Dag  Normal Dag  508.000000  23.700000     NaN   \n",
       " 1839649         Fritid  Normal Dag  Normal Dag  426.000000  23.300000     NaN   \n",
       " \n",
       "           IAQ  BOOKET  SKEMALAGT           SKOLE_ID  \n",
       " 587      0.03     NaN        NaN  Rønbækskolen_G.06  \n",
       " 2410     0.02     NaN        NaN  Rønbækskolen_G.06  \n",
       " 3838     0.02     NaN        NaN  Rønbækskolen_G.06  \n",
       " 6645     0.02     NaN        NaN  Rønbækskolen_G.06  \n",
       " 8032     0.02     NaN        NaN  Rønbækskolen_G.06  \n",
       " ...       ...     ...        ...                ...  \n",
       " 1830823  0.02     NaN        NaN  Rønbækskolen_G.06  \n",
       " 1837053  0.02     NaN        NaN  Rønbækskolen_G.06  \n",
       " 1837085  0.02     NaN        NaN  Rønbækskolen_G.06  \n",
       " 1839288  0.02     NaN        NaN  Rønbækskolen_G.06  \n",
       " 1839649  0.02     NaN        NaN  Rønbækskolen_G.06  \n",
       " \n",
       " [701 rows x 16 columns],\n",
       " 'Rønbækskolen_G.07':            ID   KOMMUNE         SKOLE        DATE      TIME  DAYNAME  \\\n",
       " 1327     G.07  Favrskov  Rønbækskolen  2023-10-03  02:45:00  Tirsdag   \n",
       " 6707     G.07  Favrskov  Rønbækskolen  2023-09-28  09:30:00  Torsdag   \n",
       " 7445     G.07  Favrskov  Rønbækskolen  2023-09-25  08:45:00   Mandag   \n",
       " 9059     G.07  Favrskov  Rønbækskolen  2023-09-27  09:15:00   Onsdag   \n",
       " 14271    G.07  Favrskov  Rønbækskolen  2023-10-02  22:30:00   Mandag   \n",
       " ...       ...       ...           ...         ...       ...      ...   \n",
       " 1832398  G.07  Favrskov  Rønbækskolen  2023-09-29  17:15:00   Fredag   \n",
       " 1835300  G.07  Favrskov  Rønbækskolen  2023-10-02  18:30:00   Mandag   \n",
       " 1838319  G.07  Favrskov  Rønbækskolen  2023-10-08  14:45:00  Soendag   \n",
       " 1839069  G.07  Favrskov  Rønbækskolen  2023-09-25  10:00:00   Mandag   \n",
       " 1840630  G.07  Favrskov  Rønbækskolen  2023-09-25  20:00:00   Mandag   \n",
       " \n",
       "         TIDSPUNKT_TYPE        TYPE        NAVN         CO2  TEMP  MOTION  \\\n",
       " 1327             Skole  Normal Dag  Normal Dag  457.500000  21.5     NaN   \n",
       " 6707             Skole  Normal Dag  Normal Dag  401.000000  22.8     NaN   \n",
       " 7445             Skole  Normal Dag  Normal Dag  711.333333  23.1     NaN   \n",
       " 9059             Skole  Normal Dag  Normal Dag  911.000000  24.3     NaN   \n",
       " 14271           Fritid  Normal Dag  Normal Dag  460.000000  21.6     NaN   \n",
       " ...                ...         ...         ...         ...   ...     ...   \n",
       " 1832398         Fritid  Normal Dag  Normal Dag  401.500000  22.4     NaN   \n",
       " 1835300         Fritid  Normal Dag  Normal Dag  439.333333  21.9     NaN   \n",
       " 1838319         Fritid  Normal Dag  Normal Dag  471.500000  20.5     NaN   \n",
       " 1839069          Skole  Normal Dag  Normal Dag  768.000000  23.5     NaN   \n",
       " 1840630         Fritid  Normal Dag  Normal Dag  436.333333  22.3     NaN   \n",
       " \n",
       "           IAQ  BOOKET  SKEMALAGT           SKOLE_ID  \n",
       " 1327     0.02     NaN        NaN  Rønbækskolen_G.07  \n",
       " 6707     0.02     NaN        NaN  Rønbækskolen_G.07  \n",
       " 7445     0.02     NaN        NaN  Rønbækskolen_G.07  \n",
       " 9059     0.03     NaN        NaN  Rønbækskolen_G.07  \n",
       " 14271    0.02     NaN        NaN  Rønbækskolen_G.07  \n",
       " ...       ...     ...        ...                ...  \n",
       " 1832398  0.02     NaN        NaN  Rønbækskolen_G.07  \n",
       " 1835300  0.02     NaN        NaN  Rønbækskolen_G.07  \n",
       " 1838319  0.02     NaN        NaN  Rønbækskolen_G.07  \n",
       " 1839069  0.03     NaN        NaN  Rønbækskolen_G.07  \n",
       " 1840630  0.02     NaN        NaN  Rønbækskolen_G.07  \n",
       " \n",
       " [571 rows x 16 columns],\n",
       " 'Rønbækskolen_H.01':            ID   KOMMUNE         SKOLE        DATE      TIME  DAYNAME  \\\n",
       " 903      H.01  Favrskov  Rønbækskolen  2023-10-09  18:00:00   Mandag   \n",
       " 1388     H.01  Favrskov  Rønbækskolen  2023-09-24  21:30:00  Soendag   \n",
       " 6062     H.01  Favrskov  Rønbækskolen  2023-09-23  17:00:00  Loerdag   \n",
       " 6620     H.01  Favrskov  Rønbækskolen  2023-10-02  19:45:00   Mandag   \n",
       " 10238    H.01  Favrskov  Rønbækskolen  2023-09-23  02:45:00  Loerdag   \n",
       " ...       ...       ...           ...         ...       ...      ...   \n",
       " 1831899  H.01  Favrskov  Rønbækskolen  2023-09-29  15:15:00   Fredag   \n",
       " 1833212  H.01  Favrskov  Rønbækskolen  2023-10-11  08:30:00   Onsdag   \n",
       " 1834735  H.01  Favrskov  Rønbækskolen  2023-10-02  19:30:00   Mandag   \n",
       " 1838100  H.01  Favrskov  Rønbækskolen  2023-10-08  10:00:00  Soendag   \n",
       " 1840394  H.01  Favrskov  Rønbækskolen  2023-10-08  19:30:00  Soendag   \n",
       " \n",
       "         TIDSPUNKT_TYPE        TYPE        NAVN         CO2   TEMP  MOTION  \\\n",
       " 903             Fritid  Normal Dag  Normal Dag  386.000000  20.00     NaN   \n",
       " 1388            Fritid  Normal Dag  Normal Dag  468.500000  20.75     NaN   \n",
       " 6062            Fritid  Normal Dag  Normal Dag  462.000000  21.10     NaN   \n",
       " 6620            Fritid  Normal Dag  Normal Dag  405.000000  19.60     NaN   \n",
       " 10238           Fritid  Normal Dag  Normal Dag  484.000000  21.00     NaN   \n",
       " ...                ...         ...         ...         ...    ...     ...   \n",
       " 1831899          Skole  Normal Dag  Normal Dag  376.500000  20.60     NaN   \n",
       " 1833212          Skole  Normal Dag  Normal Dag  941.000000  20.60     NaN   \n",
       " 1834735         Fritid  Normal Dag  Normal Dag  401.666667  19.60     NaN   \n",
       " 1838100         Fritid  Normal Dag  Normal Dag  416.000000  20.00     NaN   \n",
       " 1840394         Fritid  Normal Dag  Normal Dag  395.000000  20.10     NaN   \n",
       " \n",
       "               IAQ  BOOKET  SKEMALAGT           SKOLE_ID  \n",
       " 903      0.030000     1.0        NaN  Rønbækskolen_H.01  \n",
       " 1388     0.030000     NaN        NaN  Rønbækskolen_H.01  \n",
       " 6062     0.020000     NaN        NaN  Rønbækskolen_H.01  \n",
       " 6620     0.033333     NaN        NaN  Rønbækskolen_H.01  \n",
       " 10238    0.020000     NaN        NaN  Rønbækskolen_H.01  \n",
       " ...           ...     ...        ...                ...  \n",
       " 1831899  0.065000     NaN        NaN  Rønbækskolen_H.01  \n",
       " 1833212  0.040000     NaN        NaN  Rønbækskolen_H.01  \n",
       " 1834735  0.040000     NaN        NaN  Rønbækskolen_H.01  \n",
       " 1838100  0.020000     NaN        NaN  Rønbækskolen_H.01  \n",
       " 1840394  0.020000     NaN        NaN  Rønbækskolen_H.01  \n",
       " \n",
       " [719 rows x 16 columns],\n",
       " 'Rønbækskolen_H.02':            ID   KOMMUNE         SKOLE        DATE      TIME  DAYNAME  \\\n",
       " 902      H.02  Favrskov  Rønbækskolen  2023-10-03  20:45:00  Tirsdag   \n",
       " 3720     H.02  Favrskov  Rønbækskolen  2023-09-23  04:45:00  Loerdag   \n",
       " 6747     H.02  Favrskov  Rønbækskolen  2023-09-25  09:00:00   Mandag   \n",
       " 7935     H.02  Favrskov  Rønbækskolen  2023-10-09  08:00:00   Mandag   \n",
       " 9346     H.02  Favrskov  Rønbækskolen  2023-10-03  08:15:00  Tirsdag   \n",
       " ...       ...       ...           ...         ...       ...      ...   \n",
       " 1835524  H.02  Favrskov  Rønbækskolen  2023-10-08  21:30:00  Soendag   \n",
       " 1839583  H.02  Favrskov  Rønbækskolen  2023-10-03  22:45:00  Tirsdag   \n",
       " 1840561  H.02  Favrskov  Rønbækskolen  2023-10-05  06:15:00  Torsdag   \n",
       " 1840604  H.02  Favrskov  Rønbækskolen  2023-10-06  18:45:00   Fredag   \n",
       " 1840865  H.02  Favrskov  Rønbækskolen  2023-09-22  06:30:00   Fredag   \n",
       " \n",
       "         TIDSPUNKT_TYPE        TYPE        NAVN         CO2  TEMP  MOTION  \\\n",
       " 902             Fritid  Normal Dag  Normal Dag  969.666667  20.5     NaN   \n",
       " 3720            Fritid  Normal Dag  Normal Dag  521.000000  21.7     NaN   \n",
       " 6747             Skole  Normal Dag  Normal Dag  503.666667  21.3     NaN   \n",
       " 7935             Skole  Normal Dag  Normal Dag  667.000000  19.6     NaN   \n",
       " 9346             Skole  Normal Dag  Normal Dag  637.000000  20.5     NaN   \n",
       " ...                ...         ...         ...         ...   ...     ...   \n",
       " 1835524         Fritid  Normal Dag  Normal Dag  529.000000  19.4     NaN   \n",
       " 1839583         Fritid  Normal Dag  Normal Dag  720.000000  20.3     NaN   \n",
       " 1840561          Skole  Normal Dag  Normal Dag  484.000000  20.0     NaN   \n",
       " 1840604         Fritid  Normal Dag  Normal Dag  497.000000  20.1     NaN   \n",
       " 1840865          Skole  Normal Dag  Normal Dag  827.000000  22.8     NaN   \n",
       " \n",
       "            IAQ  BOOKET  SKEMALAGT           SKOLE_ID  \n",
       " 902      0.090     1.0        NaN  Rønbækskolen_H.02  \n",
       " 3720     0.020     NaN        NaN  Rønbækskolen_H.02  \n",
       " 6747     0.020     NaN        NaN  Rønbækskolen_H.02  \n",
       " 7935     0.040     NaN        NaN  Rønbækskolen_H.02  \n",
       " 9346     0.020     NaN        NaN  Rønbækskolen_H.02  \n",
       " ...        ...     ...        ...                ...  \n",
       " 1835524  0.030     NaN        NaN  Rønbækskolen_H.02  \n",
       " 1839583  0.035     NaN        NaN  Rønbækskolen_H.02  \n",
       " 1840561  0.020     NaN        NaN  Rønbækskolen_H.02  \n",
       " 1840604  0.040     NaN        NaN  Rønbækskolen_H.02  \n",
       " 1840865    NaN     NaN        NaN  Rønbækskolen_H.02  \n",
       " \n",
       " [831 rows x 16 columns],\n",
       " 'Rønbækskolen_H.06':            ID   KOMMUNE         SKOLE        DATE      TIME  DAYNAME  \\\n",
       " 560      H.06  Favrskov  Rønbækskolen  2023-10-04  14:15:00   Onsdag   \n",
       " 899      H.06  Favrskov  Rønbækskolen  2023-10-10  15:00:00  Tirsdag   \n",
       " 4121     H.06  Favrskov  Rønbækskolen  2023-10-05  01:45:00  Torsdag   \n",
       " 7679     H.06  Favrskov  Rønbækskolen  2023-10-05  22:15:00  Torsdag   \n",
       " 9531     H.06  Favrskov  Rønbækskolen  2023-09-22  10:30:00   Fredag   \n",
       " ...       ...       ...           ...         ...       ...      ...   \n",
       " 1831458  H.06  Favrskov  Rønbækskolen  2023-09-25  10:00:00   Mandag   \n",
       " 1833093  H.06  Favrskov  Rønbækskolen  2023-09-30  13:30:00  Loerdag   \n",
       " 1837201  H.06  Favrskov  Rønbækskolen  2023-10-11  02:00:00   Onsdag   \n",
       " 1841052  H.06  Favrskov  Rønbækskolen  2023-09-25  09:15:00   Mandag   \n",
       " 1841255  H.06  Favrskov  Rønbækskolen  2023-10-02  10:15:00   Mandag   \n",
       " \n",
       "         TIDSPUNKT_TYPE        TYPE        NAVN          CO2  TEMP  MOTION  \\\n",
       " 560              Skole  Normal Dag  Normal Dag   679.000000  20.9     NaN   \n",
       " 899              Skole  Normal Dag  Normal Dag   440.000000  19.0     NaN   \n",
       " 4121             Skole  Normal Dag  Normal Dag   579.000000  18.9     NaN   \n",
       " 7679            Fritid  Normal Dag  Normal Dag  1626.000000  20.8     NaN   \n",
       " 9531             Skole  Normal Dag  Normal Dag   628.000000  23.5     NaN   \n",
       " ...                ...         ...         ...          ...   ...     ...   \n",
       " 1831458          Skole  Normal Dag  Normal Dag   443.333333  21.6     NaN   \n",
       " 1833093         Fritid  Normal Dag  Normal Dag   441.000000  22.5     NaN   \n",
       " 1837201          Skole  Normal Dag  Normal Dag   494.000000  18.4     NaN   \n",
       " 1841052          Skole  Normal Dag  Normal Dag   485.666667  21.8     NaN   \n",
       " 1841255          Skole  Normal Dag  Normal Dag   617.000000  20.8     NaN   \n",
       " \n",
       "               IAQ  BOOKET  SKEMALAGT           SKOLE_ID  \n",
       " 560      0.030000     1.0        NaN  Rønbækskolen_H.06  \n",
       " 899      0.040000     1.0        NaN  Rønbækskolen_H.06  \n",
       " 4121     0.020000     NaN        NaN  Rønbækskolen_H.06  \n",
       " 7679     0.040000     NaN        NaN  Rønbækskolen_H.06  \n",
       " 9531     0.060000     NaN        NaN  Rønbækskolen_H.06  \n",
       " ...           ...     ...        ...                ...  \n",
       " 1831458  0.020000     NaN        NaN  Rønbækskolen_H.06  \n",
       " 1833093  0.030000     NaN        NaN  Rønbækskolen_H.06  \n",
       " 1837201  0.030000     NaN        NaN  Rønbækskolen_H.06  \n",
       " 1841052  0.020000     NaN        NaN  Rønbækskolen_H.06  \n",
       " 1841255  0.063333     NaN        NaN  Rønbækskolen_H.06  \n",
       " \n",
       " [636 rows x 16 columns],\n",
       " 'Rønbækskolen_J.01':            ID   KOMMUNE         SKOLE        DATE      TIME  DAYNAME  \\\n",
       " 1029     J.01  Favrskov  Rønbækskolen  2023-09-29  08:15:00   Fredag   \n",
       " 3470     J.01  Favrskov  Rønbækskolen  2023-09-24  05:00:00  Soendag   \n",
       " 6680     J.01  Favrskov  Rønbækskolen  2023-10-08  14:45:00  Soendag   \n",
       " 11956    J.01  Favrskov  Rønbækskolen  2023-09-25  21:30:00   Mandag   \n",
       " 15060    J.01  Favrskov  Rønbækskolen  2023-09-28  10:15:00  Torsdag   \n",
       " ...       ...       ...           ...         ...       ...      ...   \n",
       " 1827212  J.01  Favrskov  Rønbækskolen  2023-09-23  03:15:00  Loerdag   \n",
       " 1827962  J.01  Favrskov  Rønbækskolen  2023-10-06  10:15:00   Fredag   \n",
       " 1832900  J.01  Favrskov  Rønbækskolen  2023-10-04  12:30:00   Onsdag   \n",
       " 1834989  J.01  Favrskov  Rønbækskolen  2023-10-04  12:15:00   Onsdag   \n",
       " 1835327  J.01  Favrskov  Rønbækskolen  2023-10-01  04:30:00  Soendag   \n",
       " \n",
       "         TIDSPUNKT_TYPE        TYPE        NAVN         CO2       TEMP  MOTION  \\\n",
       " 1029             Skole  Normal Dag  Normal Dag  488.000000  23.100000     NaN   \n",
       " 3470            Fritid  Normal Dag  Normal Dag  444.000000  22.700000     NaN   \n",
       " 6680            Fritid  Normal Dag  Normal Dag  446.000000  23.300000     NaN   \n",
       " 11956           Fritid  Normal Dag  Normal Dag  480.000000  23.100000     NaN   \n",
       " 15060            Skole  Normal Dag  Normal Dag  483.666667  24.266667     NaN   \n",
       " ...                ...         ...         ...         ...        ...     ...   \n",
       " 1827212         Fritid  Normal Dag  Normal Dag  483.333333  23.066667     NaN   \n",
       " 1827962          Skole  Normal Dag  Normal Dag  466.000000  21.000000     NaN   \n",
       " 1832900          Skole  Normal Dag  Normal Dag  502.500000  21.800000     NaN   \n",
       " 1834989          Skole  Normal Dag  Normal Dag  500.500000  21.700000     NaN   \n",
       " 1835327         Fritid  Normal Dag  Normal Dag  436.000000  22.700000     NaN   \n",
       " \n",
       "           IAQ  BOOKET  SKEMALAGT           SKOLE_ID  \n",
       " 1029     0.02     NaN        NaN  Rønbækskolen_J.01  \n",
       " 3470     0.02     NaN        NaN  Rønbækskolen_J.01  \n",
       " 6680     0.04     NaN        NaN  Rønbækskolen_J.01  \n",
       " 11956    0.07     NaN        NaN  Rønbækskolen_J.01  \n",
       " 15060    0.03     NaN        NaN  Rønbækskolen_J.01  \n",
       " ...       ...     ...        ...                ...  \n",
       " 1827212  0.03     NaN        NaN  Rønbækskolen_J.01  \n",
       " 1827962  0.03     NaN        NaN  Rønbækskolen_J.01  \n",
       " 1832900  0.05     NaN        NaN  Rønbækskolen_J.01  \n",
       " 1834989  0.05     NaN        NaN  Rønbækskolen_J.01  \n",
       " 1835327  0.02     NaN        NaN  Rønbækskolen_J.01  \n",
       " \n",
       " [800 rows x 16 columns],\n",
       " 'Rønbækskolen_J.03':            ID   KOMMUNE         SKOLE        DATE      TIME  DAYNAME  \\\n",
       " 359      J.03  Favrskov  Rønbækskolen  2023-10-08  18:00:00  Soendag   \n",
       " 1247     J.03  Favrskov  Rønbækskolen  2023-10-01  18:30:00  Soendag   \n",
       " 1891     J.03  Favrskov  Rønbækskolen  2023-09-28  16:30:00  Torsdag   \n",
       " 3409     J.03  Favrskov  Rønbækskolen  2023-10-02  19:15:00   Mandag   \n",
       " 4773     J.03  Favrskov  Rønbækskolen  2023-10-04  12:45:00   Onsdag   \n",
       " ...       ...       ...           ...         ...       ...      ...   \n",
       " 1827739  J.03  Favrskov  Rønbækskolen  2023-10-02  21:45:00   Mandag   \n",
       " 1834240  J.03  Favrskov  Rønbækskolen  2023-10-12  23:45:00  Torsdag   \n",
       " 1839026  J.03  Favrskov  Rønbækskolen  2023-09-23  14:15:00  Loerdag   \n",
       " 1841410  J.03  Favrskov  Rønbækskolen  2023-10-07  23:00:00  Loerdag   \n",
       " 1842101  J.03  Favrskov  Rønbækskolen  2023-09-22  10:45:00   Fredag   \n",
       " \n",
       "         TIDSPUNKT_TYPE        TYPE        NAVN    CO2  TEMP  MOTION   IAQ  \\\n",
       " 359             Fritid  Normal Dag  Normal Dag  415.0  19.9     NaN  0.04   \n",
       " 1247            Fritid  Normal Dag  Normal Dag  550.0  21.2     NaN  0.05   \n",
       " 1891            Fritid  Normal Dag  Normal Dag  420.0  22.1     NaN  1.46   \n",
       " 3409            Fritid  Normal Dag  Normal Dag  530.0  21.5     NaN  0.06   \n",
       " 4773             Skole  Normal Dag  Normal Dag  474.0  18.0     NaN  0.03   \n",
       " ...                ...         ...         ...    ...   ...     ...   ...   \n",
       " 1827739         Fritid  Normal Dag  Normal Dag  518.0  21.6     NaN  0.05   \n",
       " 1834240         Fritid  Normal Dag  Normal Dag  551.0  18.6     NaN  0.08   \n",
       " 1839026         Fritid  Normal Dag  Normal Dag  494.0  22.3     NaN  0.02   \n",
       " 1841410         Fritid  Normal Dag  Normal Dag  442.0  19.7     NaN  0.02   \n",
       " 1842101          Skole  Normal Dag  Normal Dag  486.0  21.3     NaN  0.02   \n",
       " \n",
       "          BOOKET  SKEMALAGT           SKOLE_ID  \n",
       " 359         NaN        NaN  Rønbækskolen_J.03  \n",
       " 1247        NaN        NaN  Rønbækskolen_J.03  \n",
       " 1891        NaN        NaN  Rønbækskolen_J.03  \n",
       " 3409        NaN        NaN  Rønbækskolen_J.03  \n",
       " 4773        NaN        NaN  Rønbækskolen_J.03  \n",
       " ...         ...        ...                ...  \n",
       " 1827739     NaN        NaN  Rønbækskolen_J.03  \n",
       " 1834240     NaN        NaN  Rønbækskolen_J.03  \n",
       " 1839026     NaN        NaN  Rønbækskolen_J.03  \n",
       " 1841410     NaN        NaN  Rønbækskolen_J.03  \n",
       " 1842101     NaN        NaN  Rønbækskolen_J.03  \n",
       " \n",
       " [907 rows x 16 columns],\n",
       " 'Strandskolen_02.S.08':               ID KOMMUNE         SKOLE        DATE      TIME  DAYNAME  \\\n",
       " 8        02.S.08  Aarhus  Strandskolen  2022-12-02  23:45:00   Fredag   \n",
       " 96       02.S.08  Aarhus  Strandskolen  2023-02-02  09:30:00  Torsdag   \n",
       " 207      02.S.08  Aarhus  Strandskolen  2022-10-12  02:00:00   Onsdag   \n",
       " 273      02.S.08  Aarhus  Strandskolen  2023-01-21  02:00:00  Loerdag   \n",
       " 293      02.S.08  Aarhus  Strandskolen  2022-09-03  16:45:00  Loerdag   \n",
       " ...          ...     ...           ...         ...       ...      ...   \n",
       " 1841543  02.S.08  Aarhus  Strandskolen  2023-02-20  02:45:00   Mandag   \n",
       " 1841596  02.S.08  Aarhus  Strandskolen  2023-04-04  14:15:00  Tirsdag   \n",
       " 1841673  02.S.08  Aarhus  Strandskolen  2023-01-24  09:30:00  Tirsdag   \n",
       " 1841856  02.S.08  Aarhus  Strandskolen  2022-10-01  09:00:00  Loerdag   \n",
       " 1842003  02.S.08  Aarhus  Strandskolen  2022-10-24  08:00:00   Mandag   \n",
       " \n",
       "         TIDSPUNKT_TYPE         TYPE        NAVN          CO2       TEMP  \\\n",
       " 8               Fritid   Normal Dag  Normal Dag   503.666667  18.400000   \n",
       " 96               Skole   Normal Dag  Normal Dag  1500.000000  19.900000   \n",
       " 207              Skole   Normal Dag  Normal Dag   504.666667  18.100000   \n",
       " 273             Fritid   Normal Dag  Normal Dag   559.666667  18.700000   \n",
       " 293             Fritid   Normal Dag  Normal Dag   457.666667  23.200000   \n",
       " ...                ...          ...         ...          ...        ...   \n",
       " 1841543          Skole   Normal Dag  Normal Dag   410.000000  18.400000   \n",
       " 1841596          Skole  Skole-ferie  Påskeferie   452.333333  18.533333   \n",
       " 1841673          Skole   Normal Dag  Normal Dag  1083.000000  19.550000   \n",
       " 1841856         Fritid   Normal Dag  Normal Dag   476.000000  17.800000   \n",
       " 1842003          Skole   Normal Dag  Normal Dag   713.000000  18.233333   \n",
       " \n",
       "          MOTION       IAQ  BOOKET  SKEMALAGT              SKOLE_ID  \n",
       " 8           NaN  0.030000     NaN        NaN  Strandskolen_02.S.08  \n",
       " 96          NaN  0.520000     NaN        NaN  Strandskolen_02.S.08  \n",
       " 207         NaN  0.020000     NaN        NaN  Strandskolen_02.S.08  \n",
       " 273         NaN  0.020000     NaN        NaN  Strandskolen_02.S.08  \n",
       " 293         NaN  0.020000     NaN        NaN  Strandskolen_02.S.08  \n",
       " ...         ...       ...     ...        ...                   ...  \n",
       " 1841543     NaN  0.030000     NaN        NaN  Strandskolen_02.S.08  \n",
       " 1841596     NaN  0.040000     NaN        NaN  Strandskolen_02.S.08  \n",
       " 1841673     NaN  0.725000     NaN        NaN  Strandskolen_02.S.08  \n",
       " 1841856     NaN  0.020000     NaN        NaN  Strandskolen_02.S.08  \n",
       " 1842003     NaN  0.023333     NaN        1.0  Strandskolen_02.S.08  \n",
       " \n",
       " [26182 rows x 16 columns],\n",
       " 'Strandskolen_02.S.09':               ID KOMMUNE         SKOLE        DATE      TIME  DAYNAME  \\\n",
       " 699      02.S.09  Aarhus  Strandskolen  2023-09-25  18:30:00   Mandag   \n",
       " 8191     02.S.09  Aarhus  Strandskolen  2023-09-22  12:45:00   Fredag   \n",
       " 10409    02.S.09  Aarhus  Strandskolen  2023-10-08  08:15:00  Soendag   \n",
       " 14969    02.S.09  Aarhus  Strandskolen  2023-10-06  02:15:00   Fredag   \n",
       " 15359    02.S.09  Aarhus  Strandskolen  2023-10-11  00:45:00   Onsdag   \n",
       " ...          ...     ...           ...         ...       ...      ...   \n",
       " 1830525  02.S.09  Aarhus  Strandskolen  2023-10-02  17:00:00   Mandag   \n",
       " 1831357  02.S.09  Aarhus  Strandskolen  2023-10-01  12:00:00  Soendag   \n",
       " 1835317  02.S.09  Aarhus  Strandskolen  2023-09-26  06:30:00  Tirsdag   \n",
       " 1837533  02.S.09  Aarhus  Strandskolen  2023-09-24  06:30:00  Soendag   \n",
       " 1838123  02.S.09  Aarhus  Strandskolen  2023-09-29  16:45:00   Fredag   \n",
       " \n",
       "         TIDSPUNKT_TYPE        TYPE        NAVN         CO2       TEMP  MOTION  \\\n",
       " 699             Fritid  Normal Dag  Normal Dag  430.333333  19.833333     NaN   \n",
       " 8191             Skole  Normal Dag  Normal Dag  462.000000  21.800000     NaN   \n",
       " 10409           Fritid  Normal Dag  Normal Dag  437.000000  16.900000     NaN   \n",
       " 14969            Skole  Normal Dag  Normal Dag  405.333333  18.100000     NaN   \n",
       " 15359            Skole  Normal Dag  Normal Dag  439.333333  18.100000     NaN   \n",
       " ...                ...         ...         ...         ...        ...     ...   \n",
       " 1830525         Fritid  Normal Dag  Normal Dag  428.666667  19.800000     NaN   \n",
       " 1831357         Fritid  Normal Dag  Normal Dag  427.333333  18.300000     NaN   \n",
       " 1835317          Skole  Normal Dag  Normal Dag  479.000000  19.900000     NaN   \n",
       " 1837533         Fritid  Normal Dag  Normal Dag  437.666667  18.766667     NaN   \n",
       " 1838123         Fritid  Normal Dag  Normal Dag  437.666667  20.400000     NaN   \n",
       " \n",
       "               IAQ  BOOKET  SKEMALAGT              SKOLE_ID  \n",
       " 699      0.020000     NaN        NaN  Strandskolen_02.S.09  \n",
       " 8191     0.150000     NaN        NaN  Strandskolen_02.S.09  \n",
       " 10409    0.680000     NaN        NaN  Strandskolen_02.S.09  \n",
       " 14969    0.020000     NaN        NaN  Strandskolen_02.S.09  \n",
       " 15359    0.020000     NaN        NaN  Strandskolen_02.S.09  \n",
       " ...           ...     ...        ...                   ...  \n",
       " 1830525  0.040000     NaN        NaN  Strandskolen_02.S.09  \n",
       " 1831357  0.020000     NaN        NaN  Strandskolen_02.S.09  \n",
       " 1835317  0.020000     NaN        NaN  Strandskolen_02.S.09  \n",
       " 1837533  0.416667     NaN        NaN  Strandskolen_02.S.09  \n",
       " 1838123  0.020000     NaN        NaN  Strandskolen_02.S.09  \n",
       " \n",
       " [1575 rows x 16 columns],\n",
       " 'Strandskolen_02.S.10':               ID KOMMUNE         SKOLE        DATE      TIME  DAYNAME  \\\n",
       " 124      02.S.10  Aarhus  Strandskolen  2022-09-03  04:15:00  Loerdag   \n",
       " 253      02.S.10  Aarhus  Strandskolen  2023-04-12  13:45:00   Onsdag   \n",
       " 271      02.S.10  Aarhus  Strandskolen  2023-01-04  01:00:00   Onsdag   \n",
       " 274      02.S.10  Aarhus  Strandskolen  2023-05-14  19:30:00  Soendag   \n",
       " 277      02.S.10  Aarhus  Strandskolen  2022-09-11  21:15:00  Soendag   \n",
       " ...          ...     ...           ...         ...       ...      ...   \n",
       " 1841215  02.S.10  Aarhus  Strandskolen  2023-09-25  16:45:00   Mandag   \n",
       " 1841600  02.S.10  Aarhus  Strandskolen  2023-09-27  13:15:00   Onsdag   \n",
       " 1841671  02.S.10  Aarhus  Strandskolen  2023-03-09  18:15:00  Torsdag   \n",
       " 1841762  02.S.10  Aarhus  Strandskolen  2022-09-12  18:45:00   Mandag   \n",
       " 1841790  02.S.10  Aarhus  Strandskolen  2023-09-30  06:45:00  Loerdag   \n",
       " \n",
       "         TIDSPUNKT_TYPE        TYPE        NAVN         CO2       TEMP  MOTION  \\\n",
       " 124             Fritid  Normal Dag  Normal Dag  476.000000  23.400000     NaN   \n",
       " 253              Skole  Normal Dag  Normal Dag  958.333333  21.733333     NaN   \n",
       " 271              Skole  Normal Dag  Normal Dag  586.666667  18.400000     NaN   \n",
       " 274             Fritid  Normal Dag  Normal Dag  519.000000  22.200000     NaN   \n",
       " 277             Fritid  Normal Dag  Normal Dag  487.000000  22.500000     NaN   \n",
       " ...                ...         ...         ...         ...        ...     ...   \n",
       " 1841215         Fritid  Normal Dag  Normal Dag  432.000000  19.833333     NaN   \n",
       " 1841600          Skole  Normal Dag  Normal Dag  603.000000  21.600000     NaN   \n",
       " 1841671         Fritid  Normal Dag  Normal Dag  570.333333  19.133333     NaN   \n",
       " 1841762         Fritid  Normal Dag  Normal Dag  511.000000  22.433333     NaN   \n",
       " 1841790         Fritid  Normal Dag  Normal Dag  431.000000  18.600000     NaN   \n",
       " \n",
       "               IAQ  BOOKET  SKEMALAGT              SKOLE_ID  \n",
       " 124      0.020000     NaN        NaN  Strandskolen_02.S.10  \n",
       " 253      0.453333     NaN        NaN  Strandskolen_02.S.10  \n",
       " 271      0.596667     NaN        NaN  Strandskolen_02.S.10  \n",
       " 274      0.113333     NaN        NaN  Strandskolen_02.S.10  \n",
       " 277      0.030000     NaN        NaN  Strandskolen_02.S.10  \n",
       " ...           ...     ...        ...                   ...  \n",
       " 1841215  0.106667     NaN        NaN  Strandskolen_02.S.10  \n",
       " 1841600  0.155000     NaN        NaN  Strandskolen_02.S.10  \n",
       " 1841671  0.203333     NaN        NaN  Strandskolen_02.S.10  \n",
       " 1841762  0.813333     NaN        NaN  Strandskolen_02.S.10  \n",
       " 1841790  0.020000     NaN        NaN  Strandskolen_02.S.10  \n",
       " \n",
       " [25715 rows x 16 columns],\n",
       " 'Strandskolen_02.S.11':               ID KOMMUNE         SKOLE        DATE      TIME  DAYNAME  \\\n",
       " 157      02.S.11  Aarhus  Strandskolen  2023-02-02  17:15:00  Torsdag   \n",
       " 191      02.S.11  Aarhus  Strandskolen  2022-12-28  05:30:00   Onsdag   \n",
       " 211      02.S.11  Aarhus  Strandskolen  2023-01-31  13:45:00  Tirsdag   \n",
       " 248      02.S.11  Aarhus  Strandskolen  2023-03-05  06:00:00  Soendag   \n",
       " 324      02.S.11  Aarhus  Strandskolen  2023-01-19  19:00:00  Torsdag   \n",
       " ...          ...     ...           ...         ...       ...      ...   \n",
       " 1840987  02.S.11  Aarhus  Strandskolen  2022-12-01  04:30:00  Torsdag   \n",
       " 1841156  02.S.11  Aarhus  Strandskolen  2023-02-24  13:15:00   Fredag   \n",
       " 1841646  02.S.11  Aarhus  Strandskolen  2023-04-15  18:15:00  Loerdag   \n",
       " 1841655  02.S.11  Aarhus  Strandskolen  2022-09-29  15:00:00  Torsdag   \n",
       " 1841820  02.S.11  Aarhus  Strandskolen  2022-11-03  08:45:00  Torsdag   \n",
       " \n",
       "         TIDSPUNKT_TYPE         TYPE        NAVN         CO2       TEMP  \\\n",
       " 157             Fritid   Normal Dag  Normal Dag  660.333333  18.700000   \n",
       " 191              Skole  Skole-ferie   Juleferie  426.000000  14.800000   \n",
       " 211              Skole   Normal Dag  Normal Dag  889.666667  19.766667   \n",
       " 248             Fritid   Normal Dag  Normal Dag  412.333333  17.933333   \n",
       " 324             Fritid   Normal Dag  Normal Dag  555.333333  17.900000   \n",
       " ...                ...          ...         ...         ...        ...   \n",
       " 1840987          Skole   Normal Dag  Normal Dag  488.333333  18.100000   \n",
       " 1841156          Skole   Normal Dag  Normal Dag  950.000000  20.166667   \n",
       " 1841646         Fritid   Normal Dag  Normal Dag  453.000000  19.000000   \n",
       " 1841655          Skole   Normal Dag  Normal Dag  613.666667  21.200000   \n",
       " 1841820          Skole   Normal Dag  Normal Dag  530.000000  19.300000   \n",
       " \n",
       "          MOTION       IAQ  BOOKET  SKEMALAGT              SKOLE_ID  \n",
       " 157         NaN  2.330000     NaN        NaN  Strandskolen_02.S.11  \n",
       " 191         NaN  0.020000     NaN        NaN  Strandskolen_02.S.11  \n",
       " 211         NaN  0.720000     NaN        1.0  Strandskolen_02.S.11  \n",
       " 248         NaN  0.030000     NaN        NaN  Strandskolen_02.S.11  \n",
       " 324         NaN  0.050000     NaN        NaN  Strandskolen_02.S.11  \n",
       " ...         ...       ...     ...        ...                   ...  \n",
       " 1840987     NaN  0.226667     NaN        NaN  Strandskolen_02.S.11  \n",
       " 1841156     NaN  0.766667     NaN        1.0  Strandskolen_02.S.11  \n",
       " 1841646     NaN  0.090000     NaN        NaN  Strandskolen_02.S.11  \n",
       " 1841655     NaN  0.030000     NaN        NaN  Strandskolen_02.S.11  \n",
       " 1841820     NaN  0.030000     NaN        NaN  Strandskolen_02.S.11  \n",
       " \n",
       " [26176 rows x 16 columns],\n",
       " 'Strandskolen_02.S.13':               ID KOMMUNE         SKOLE        DATE      TIME  DAYNAME  \\\n",
       " 34       02.S.13  Aarhus  Strandskolen  2022-12-18  06:15:00  Soendag   \n",
       " 38       02.S.13  Aarhus  Strandskolen  2022-09-03  11:00:00  Loerdag   \n",
       " 92       02.S.13  Aarhus  Strandskolen  2022-12-08  22:15:00  Torsdag   \n",
       " 127      02.S.13  Aarhus  Strandskolen  2022-09-10  00:15:00  Loerdag   \n",
       " 246      02.S.13  Aarhus  Strandskolen  2022-12-12  13:45:00   Mandag   \n",
       " ...          ...     ...           ...         ...       ...      ...   \n",
       " 1840280  02.S.13  Aarhus  Strandskolen  2023-02-18  15:00:00  Loerdag   \n",
       " 1840646  02.S.13  Aarhus  Strandskolen  2023-02-06  05:00:00   Mandag   \n",
       " 1841157  02.S.13  Aarhus  Strandskolen  2023-01-14  14:30:00  Loerdag   \n",
       " 1841231  02.S.13  Aarhus  Strandskolen  2022-09-27  07:45:00  Tirsdag   \n",
       " 1842132  02.S.13  Aarhus  Strandskolen  2022-09-30  06:45:00   Fredag   \n",
       " \n",
       "         TIDSPUNKT_TYPE         TYPE         NAVN         CO2       TEMP  \\\n",
       " 34              Fritid   Normal Dag   Normal Dag  445.666667  17.200000   \n",
       " 38              Fritid   Normal Dag   Normal Dag  498.333333  24.433333   \n",
       " 92              Fritid   Normal Dag   Normal Dag  693.000000  19.166667   \n",
       " 127             Fritid   Normal Dag   Normal Dag  488.000000  23.100000   \n",
       " 246              Skole   Normal Dag   Normal Dag  595.000000  19.966667   \n",
       " ...                ...          ...          ...         ...        ...   \n",
       " 1840280         Fritid  Skole-ferie  Vinterferie  430.000000  19.300000   \n",
       " 1840646          Skole   Normal Dag   Normal Dag  444.666667  18.600000   \n",
       " 1841157         Fritid   Normal Dag   Normal Dag  411.333333  20.000000   \n",
       " 1841231          Skole   Normal Dag   Normal Dag  449.333333  19.200000   \n",
       " 1842132          Skole   Normal Dag   Normal Dag  530.333333  18.900000   \n",
       " \n",
       "          MOTION       IAQ  BOOKET  SKEMALAGT              SKOLE_ID  \n",
       " 34          NaN  0.020000     NaN        NaN  Strandskolen_02.S.13  \n",
       " 38          NaN  0.080000     NaN        NaN  Strandskolen_02.S.13  \n",
       " 92          NaN  0.070000     NaN        NaN  Strandskolen_02.S.13  \n",
       " 127         NaN  0.040000     NaN        NaN  Strandskolen_02.S.13  \n",
       " 246         NaN  0.053333     NaN        1.0  Strandskolen_02.S.13  \n",
       " ...         ...       ...     ...        ...                   ...  \n",
       " 1840280     NaN  0.346667     NaN        NaN  Strandskolen_02.S.13  \n",
       " 1840646     NaN  0.030000     NaN        NaN  Strandskolen_02.S.13  \n",
       " 1841157     NaN  0.020000     NaN        NaN  Strandskolen_02.S.13  \n",
       " 1841231     NaN  0.020000     NaN        NaN  Strandskolen_02.S.13  \n",
       " 1842132     NaN  0.020000     NaN        NaN  Strandskolen_02.S.13  \n",
       " \n",
       " [23137 rows x 16 columns],\n",
       " 'Strandskolen_02.S.14':               ID KOMMUNE         SKOLE        DATE      TIME  DAYNAME  \\\n",
       " 95       02.S.14  Aarhus  Strandskolen  2023-10-10  23:00:00  Tirsdag   \n",
       " 308      02.S.14  Aarhus  Strandskolen  2022-09-04  15:15:00  Soendag   \n",
       " 377      02.S.14  Aarhus  Strandskolen  2023-04-01  22:45:00  Loerdag   \n",
       " 387      02.S.14  Aarhus  Strandskolen  2023-03-12  19:30:00  Soendag   \n",
       " 409      02.S.14  Aarhus  Strandskolen  2022-09-23  20:00:00   Fredag   \n",
       " ...          ...     ...           ...         ...       ...      ...   \n",
       " 1841128  02.S.14  Aarhus  Strandskolen  2023-10-11  02:30:00   Onsdag   \n",
       " 1841575  02.S.14  Aarhus  Strandskolen  2023-03-31  20:30:00   Fredag   \n",
       " 1841648  02.S.14  Aarhus  Strandskolen  2022-09-26  06:00:00   Mandag   \n",
       " 1841914  02.S.14  Aarhus  Strandskolen  2023-02-23  21:00:00  Torsdag   \n",
       " 1841968  02.S.14  Aarhus  Strandskolen  2023-05-05  01:30:00   Fredag   \n",
       " \n",
       "         TIDSPUNKT_TYPE        TYPE           NAVN          CO2       TEMP  \\\n",
       " 95              Fritid  Normal Dag     Normal Dag   471.000000  18.600000   \n",
       " 308             Fritid  Normal Dag     Normal Dag   422.333333  24.300000   \n",
       " 377             Fritid  Normal Dag     Normal Dag   426.666667  18.833333   \n",
       " 387             Fritid  Normal Dag     Normal Dag   440.000000  18.233333   \n",
       " 409             Fritid  Normal Dag     Normal Dag   490.000000  21.133333   \n",
       " ...                ...         ...            ...          ...        ...   \n",
       " 1841128          Skole  Normal Dag     Normal Dag   440.666667  18.500000   \n",
       " 1841575         Fritid  Normal Dag     Normal Dag   453.333333  19.400000   \n",
       " 1841648          Skole  Normal Dag     Normal Dag   476.666667  19.266667   \n",
       " 1841914         Fritid  Normal Dag     Normal Dag  1340.333333  18.700000   \n",
       " 1841968          Skole   Helligdag  Store bededag  1075.000000  20.866667   \n",
       " \n",
       "          MOTION       IAQ  BOOKET  SKEMALAGT              SKOLE_ID  \n",
       " 95          NaN  0.366667     NaN        NaN  Strandskolen_02.S.14  \n",
       " 308         NaN  0.020000     NaN        NaN  Strandskolen_02.S.14  \n",
       " 377         NaN  0.020000     NaN        NaN  Strandskolen_02.S.14  \n",
       " 387         NaN  0.050000     NaN        NaN  Strandskolen_02.S.14  \n",
       " 409         NaN  1.750000     NaN        NaN  Strandskolen_02.S.14  \n",
       " ...         ...       ...     ...        ...                   ...  \n",
       " 1841128     NaN  0.316667     NaN        NaN  Strandskolen_02.S.14  \n",
       " 1841575     NaN  0.970000     NaN        NaN  Strandskolen_02.S.14  \n",
       " 1841648     NaN  0.020000     NaN        NaN  Strandskolen_02.S.14  \n",
       " 1841914     NaN  0.940000     NaN        NaN  Strandskolen_02.S.14  \n",
       " 1841968     NaN  1.203333     NaN        NaN  Strandskolen_02.S.14  \n",
       " \n",
       " [26485 rows x 16 columns],\n",
       " 'Strandskolen_03.S.03':               ID KOMMUNE         SKOLE        DATE      TIME  DAYNAME  \\\n",
       " 48       03.S.03  Aarhus  Strandskolen  2023-04-26  09:30:00   Onsdag   \n",
       " 148      03.S.03  Aarhus  Strandskolen  2022-09-13  03:00:00  Tirsdag   \n",
       " 167      03.S.03  Aarhus  Strandskolen  2022-11-19  22:00:00  Loerdag   \n",
       " 187      03.S.03  Aarhus  Strandskolen  2022-11-01  17:30:00  Tirsdag   \n",
       " 239      03.S.03  Aarhus  Strandskolen  2022-12-06  06:30:00  Tirsdag   \n",
       " ...          ...     ...           ...         ...       ...      ...   \n",
       " 1841318  03.S.03  Aarhus  Strandskolen  2022-11-18  16:15:00   Fredag   \n",
       " 1841555  03.S.03  Aarhus  Strandskolen  2022-10-03  18:45:00   Mandag   \n",
       " 1841586  03.S.03  Aarhus  Strandskolen  2022-09-23  05:15:00   Fredag   \n",
       " 1841604  03.S.03  Aarhus  Strandskolen  2023-01-12  08:30:00  Torsdag   \n",
       " 1841841  03.S.03  Aarhus  Strandskolen  2023-10-05  14:45:00  Torsdag   \n",
       " \n",
       "         TIDSPUNKT_TYPE        TYPE        NAVN          CO2       TEMP  \\\n",
       " 48               Skole  Normal Dag  Normal Dag  1330.000000  20.600000   \n",
       " 148              Skole  Normal Dag  Normal Dag   494.333333  20.900000   \n",
       " 167             Fritid  Normal Dag  Normal Dag   418.000000  19.366667   \n",
       " 187             Fritid  Normal Dag  Normal Dag   929.333333  18.600000   \n",
       " 239              Skole  Normal Dag  Normal Dag   453.000000  19.300000   \n",
       " ...                ...         ...         ...          ...        ...   \n",
       " 1841318         Fritid  Normal Dag  Normal Dag   648.000000  18.466667   \n",
       " 1841555         Fritid  Normal Dag  Normal Dag   426.666667  19.900000   \n",
       " 1841586          Skole  Normal Dag  Normal Dag   576.666667  20.000000   \n",
       " 1841604          Skole  Normal Dag  Normal Dag  1047.000000  19.600000   \n",
       " 1841841          Skole  Normal Dag  Normal Dag   633.000000  19.800000   \n",
       " \n",
       "          MOTION       IAQ  BOOKET  SKEMALAGT              SKOLE_ID  \n",
       " 48          NaN  0.050000     NaN        NaN  Strandskolen_03.S.03  \n",
       " 148         NaN  0.030000     NaN        NaN  Strandskolen_03.S.03  \n",
       " 167         NaN  0.036667     NaN        NaN  Strandskolen_03.S.03  \n",
       " 187         NaN  0.030000     NaN        NaN  Strandskolen_03.S.03  \n",
       " 239         NaN  0.020000     NaN        NaN  Strandskolen_03.S.03  \n",
       " ...         ...       ...     ...        ...                   ...  \n",
       " 1841318     NaN  0.076667     NaN        NaN  Strandskolen_03.S.03  \n",
       " 1841555     NaN  0.040000     NaN        NaN  Strandskolen_03.S.03  \n",
       " 1841586     NaN  0.020000     NaN        NaN  Strandskolen_03.S.03  \n",
       " 1841604     NaN  0.046667     NaN        1.0  Strandskolen_03.S.03  \n",
       " 1841841     NaN  0.030000     NaN        NaN  Strandskolen_03.S.03  \n",
       " \n",
       " [25547 rows x 16 columns],\n",
       " 'Strandskolen_03.S.04':               ID KOMMUNE         SKOLE        DATE      TIME  DAYNAME  \\\n",
       " 134      03.S.04  Aarhus  Strandskolen  2023-03-09  10:30:00  Torsdag   \n",
       " 195      03.S.04  Aarhus  Strandskolen  2022-12-25  15:30:00  Soendag   \n",
       " 197      03.S.04  Aarhus  Strandskolen  2023-09-22  05:45:00   Fredag   \n",
       " 476      03.S.04  Aarhus  Strandskolen  2022-12-17  01:30:00  Loerdag   \n",
       " 585      03.S.04  Aarhus  Strandskolen  2023-03-23  22:30:00  Torsdag   \n",
       " ...          ...     ...           ...         ...       ...      ...   \n",
       " 1841175  03.S.04  Aarhus  Strandskolen  2022-09-15  15:00:00  Torsdag   \n",
       " 1841178  03.S.04  Aarhus  Strandskolen  2022-12-19  23:00:00   Mandag   \n",
       " 1841298  03.S.04  Aarhus  Strandskolen  2023-05-12  02:30:00   Fredag   \n",
       " 1841314  03.S.04  Aarhus  Strandskolen  2023-03-13  17:45:00   Mandag   \n",
       " 1842140  03.S.04  Aarhus  Strandskolen  2022-12-17  03:30:00  Loerdag   \n",
       " \n",
       "         TIDSPUNKT_TYPE         TYPE        NAVN          CO2       TEMP  \\\n",
       " 134              Skole   Normal Dag  Normal Dag  1504.666667  21.400000   \n",
       " 195             Fritid  Skole-ferie   Juleferie   426.000000  14.600000   \n",
       " 197              Skole   Normal Dag  Normal Dag   493.000000  21.900000   \n",
       " 476             Fritid   Normal Dag  Normal Dag   526.666667  20.200000   \n",
       " 585             Fritid   Normal Dag  Normal Dag   778.666667  19.533333   \n",
       " ...                ...          ...         ...          ...        ...   \n",
       " 1841175          Skole   Normal Dag  Normal Dag  1136.000000  22.366667   \n",
       " 1841178         Fritid   Normal Dag  Normal Dag   603.666667  20.400000   \n",
       " 1841298          Skole   Normal Dag  Normal Dag   571.666667  20.900000   \n",
       " 1841314         Fritid   Normal Dag  Normal Dag   685.666667  20.266667   \n",
       " 1842140         Fritid   Normal Dag  Normal Dag   500.000000  20.233333   \n",
       " \n",
       "          MOTION       IAQ  BOOKET  SKEMALAGT              SKOLE_ID  \n",
       " 134         NaN  0.383333     NaN        1.0  Strandskolen_03.S.04  \n",
       " 195         NaN  0.020000     NaN        NaN  Strandskolen_03.S.04  \n",
       " 197         NaN  0.020000     NaN        NaN  Strandskolen_03.S.04  \n",
       " 476         NaN  0.130000     NaN        NaN  Strandskolen_03.S.04  \n",
       " 585         NaN  0.030000     NaN        NaN  Strandskolen_03.S.04  \n",
       " ...         ...       ...     ...        ...                   ...  \n",
       " 1841175     NaN  0.436667     NaN        1.0  Strandskolen_03.S.04  \n",
       " 1841178     NaN  0.020000     NaN        NaN  Strandskolen_03.S.04  \n",
       " 1841298     NaN  0.020000     NaN        NaN  Strandskolen_03.S.04  \n",
       " 1841314     NaN  0.066667     NaN        NaN  Strandskolen_03.S.04  \n",
       " 1842140     NaN  0.100000     NaN        NaN  Strandskolen_03.S.04  \n",
       " \n",
       " [25080 rows x 16 columns],\n",
       " 'Strandskolen_03.S.05':               ID KOMMUNE         SKOLE        DATE      TIME  DAYNAME  \\\n",
       " 135      03.S.05  Aarhus  Strandskolen  2022-09-15  08:30:00  Torsdag   \n",
       " 145      03.S.05  Aarhus  Strandskolen  2022-10-14  17:30:00   Fredag   \n",
       " 188      03.S.05  Aarhus  Strandskolen  2023-03-03  00:45:00   Fredag   \n",
       " 240      03.S.05  Aarhus  Strandskolen  2023-01-18  00:30:00   Onsdag   \n",
       " 332      03.S.05  Aarhus  Strandskolen  2022-11-19  15:00:00  Loerdag   \n",
       " ...          ...     ...           ...         ...       ...      ...   \n",
       " 1841335  03.S.05  Aarhus  Strandskolen  2022-12-28  08:30:00   Onsdag   \n",
       " 1841581  03.S.05  Aarhus  Strandskolen  2022-09-26  22:30:00   Mandag   \n",
       " 1841674  03.S.05  Aarhus  Strandskolen  2023-04-21  09:15:00   Fredag   \n",
       " 1842064  03.S.05  Aarhus  Strandskolen  2023-01-31  01:30:00  Tirsdag   \n",
       " 1842195  03.S.05  Aarhus  Strandskolen  2023-01-12  09:15:00  Torsdag   \n",
       " \n",
       "         TIDSPUNKT_TYPE         TYPE        NAVN          CO2       TEMP  \\\n",
       " 135              Skole   Normal Dag  Normal Dag  1094.000000  23.166667   \n",
       " 145             Fritid   Normal Dag  Normal Dag  1046.666667  20.633333   \n",
       " 188              Skole   Normal Dag  Normal Dag   483.666667  21.066667   \n",
       " 240              Skole   Normal Dag  Normal Dag   681.666667  21.100000   \n",
       " 332             Fritid   Normal Dag  Normal Dag   466.666667  21.666667   \n",
       " ...                ...          ...         ...          ...        ...   \n",
       " 1841335          Skole  Skole-ferie   Juleferie   392.333333  15.100000   \n",
       " 1841581         Fritid   Normal Dag  Normal Dag   608.333333  20.400000   \n",
       " 1841674          Skole   Normal Dag  Normal Dag   925.500000  26.650000   \n",
       " 1842064          Skole   Normal Dag  Normal Dag   397.666667  19.033333   \n",
       " 1842195          Skole   Normal Dag  Normal Dag  1832.000000  21.800000   \n",
       " \n",
       "          MOTION       IAQ  BOOKET  SKEMALAGT              SKOLE_ID  \n",
       " 135         NaN  0.040000     NaN        1.0  Strandskolen_03.S.05  \n",
       " 145         NaN  0.446667     NaN        NaN  Strandskolen_03.S.05  \n",
       " 188         NaN  0.030000     NaN        NaN  Strandskolen_03.S.05  \n",
       " 240         NaN  0.023333     NaN        NaN  Strandskolen_03.S.05  \n",
       " 332         NaN  0.053333     NaN        NaN  Strandskolen_03.S.05  \n",
       " ...         ...       ...     ...        ...                   ...  \n",
       " 1841335     NaN  0.040000     NaN        NaN  Strandskolen_03.S.05  \n",
       " 1841581     NaN  0.050000     NaN        NaN  Strandskolen_03.S.05  \n",
       " 1841674     NaN  0.110000     NaN        1.0  Strandskolen_03.S.05  \n",
       " 1842064     NaN  0.043333     NaN        NaN  Strandskolen_03.S.05  \n",
       " 1842195     NaN  0.050000     NaN        1.0  Strandskolen_03.S.05  \n",
       " \n",
       " [24794 rows x 16 columns],\n",
       " 'Strandskolen_03.S.06':               ID KOMMUNE         SKOLE        DATE      TIME  DAYNAME  \\\n",
       " 27       03.S.06  Aarhus  Strandskolen  2023-02-03  10:30:00   Fredag   \n",
       " 51       03.S.06  Aarhus  Strandskolen  2022-12-31  08:30:00  Loerdag   \n",
       " 80       03.S.06  Aarhus  Strandskolen  2023-03-10  07:45:00   Fredag   \n",
       " 84       03.S.06  Aarhus  Strandskolen  2023-03-19  17:15:00  Soendag   \n",
       " 202      03.S.06  Aarhus  Strandskolen  2022-10-27  02:30:00  Torsdag   \n",
       " ...          ...     ...           ...         ...       ...      ...   \n",
       " 1841422  03.S.06  Aarhus  Strandskolen  2023-02-03  16:30:00   Fredag   \n",
       " 1841434  03.S.06  Aarhus  Strandskolen  2022-10-23  15:15:00  Soendag   \n",
       " 1841553  03.S.06  Aarhus  Strandskolen  2022-11-03  00:00:00  Torsdag   \n",
       " 1841764  03.S.06  Aarhus  Strandskolen  2022-12-16  01:30:00   Fredag   \n",
       " 1842190  03.S.06  Aarhus  Strandskolen  2023-10-03  01:45:00  Tirsdag   \n",
       " \n",
       "         TIDSPUNKT_TYPE         TYPE            NAVN          CO2       TEMP  \\\n",
       " 27               Skole   Normal Dag      Normal Dag   928.000000  20.300000   \n",
       " 51              Fritid    Mærkedage           Nytår   398.333333  14.000000   \n",
       " 80               Skole   Normal Dag      Normal Dag   441.333333  20.666667   \n",
       " 84              Fritid   Normal Dag      Normal Dag   452.333333  20.100000   \n",
       " 202              Skole   Normal Dag      Normal Dag   849.666667  19.500000   \n",
       " ...                ...          ...             ...          ...        ...   \n",
       " 1841422         Fritid   Normal Dag      Normal Dag   697.000000  20.733333   \n",
       " 1841434         Fritid  Skole-ferie  Efteraarsferie   494.000000  20.100000   \n",
       " 1841553          Skole   Normal Dag      Normal Dag   926.666667  19.600000   \n",
       " 1841764          Skole   Normal Dag      Normal Dag   605.333333  17.800000   \n",
       " 1842190          Skole   Normal Dag      Normal Dag  1368.000000  20.200000   \n",
       " \n",
       "          MOTION       IAQ  BOOKET  SKEMALAGT              SKOLE_ID  \n",
       " 27          NaN  0.030000     NaN        NaN  Strandskolen_03.S.06  \n",
       " 51          NaN  0.030000     NaN        NaN  Strandskolen_03.S.06  \n",
       " 80          NaN  0.413333     NaN        NaN  Strandskolen_03.S.06  \n",
       " 84          NaN  0.020000     NaN        NaN  Strandskolen_03.S.06  \n",
       " 202         NaN  0.030000     NaN        NaN  Strandskolen_03.S.06  \n",
       " ...         ...       ...     ...        ...                   ...  \n",
       " 1841422     NaN  0.036667     NaN        NaN  Strandskolen_03.S.06  \n",
       " 1841434     NaN  0.030000     NaN        NaN  Strandskolen_03.S.06  \n",
       " 1841553     NaN  0.020000     NaN        NaN  Strandskolen_03.S.06  \n",
       " 1841764     NaN  0.020000     NaN        NaN  Strandskolen_03.S.06  \n",
       " 1842190     NaN  0.030000     NaN        NaN  Strandskolen_03.S.06  \n",
       " \n",
       " [26026 rows x 16 columns],\n",
       " 'Strandskolen_03.S.07':               ID KOMMUNE         SKOLE        DATE      TIME  DAYNAME  \\\n",
       " 56       03.S.07  Aarhus  Strandskolen  2022-11-01  19:45:00  Tirsdag   \n",
       " 140      03.S.07  Aarhus  Strandskolen  2022-12-18  07:45:00  Soendag   \n",
       " 301      03.S.07  Aarhus  Strandskolen  2022-11-26  09:30:00  Loerdag   \n",
       " 475      03.S.07  Aarhus  Strandskolen  2022-10-08  12:45:00  Loerdag   \n",
       " 486      03.S.07  Aarhus  Strandskolen  2023-01-12  18:45:00  Torsdag   \n",
       " ...          ...     ...           ...         ...       ...      ...   \n",
       " 1840889  03.S.07  Aarhus  Strandskolen  2023-01-23  06:00:00   Mandag   \n",
       " 1840911  03.S.07  Aarhus  Strandskolen  2022-12-20  08:15:00  Tirsdag   \n",
       " 1841474  03.S.07  Aarhus  Strandskolen  2023-05-03  15:00:00   Onsdag   \n",
       " 1841544  03.S.07  Aarhus  Strandskolen  2023-03-17  08:15:00   Fredag   \n",
       " 1841605  03.S.07  Aarhus  Strandskolen  2022-12-26  21:15:00   Mandag   \n",
       " \n",
       "         TIDSPUNKT_TYPE         TYPE        NAVN          CO2       TEMP  \\\n",
       " 56              Fritid   Normal Dag  Normal Dag   522.666667  20.000000   \n",
       " 140             Fritid   Normal Dag  Normal Dag   445.333333  18.600000   \n",
       " 301             Fritid   Normal Dag  Normal Dag   486.666667  19.700000   \n",
       " 475             Fritid   Normal Dag  Normal Dag   467.000000  21.300000   \n",
       " 486             Fritid   Normal Dag  Normal Dag   763.666667  19.933333   \n",
       " ...                ...          ...         ...          ...        ...   \n",
       " 1840889          Skole   Normal Dag  Normal Dag   450.000000  20.700000   \n",
       " 1840911          Skole   Normal Dag  Normal Dag   955.666667  20.333333   \n",
       " 1841474          Skole   Normal Dag  Normal Dag  1770.666667  22.100000   \n",
       " 1841544          Skole   Normal Dag  Normal Dag   933.000000  21.566667   \n",
       " 1841605         Fritid  Skole-ferie   Juleferie   434.000000  15.000000   \n",
       " \n",
       "          MOTION       IAQ  BOOKET  SKEMALAGT              SKOLE_ID  \n",
       " 56          NaN  0.026667     NaN        NaN  Strandskolen_03.S.07  \n",
       " 140         NaN  0.050000     NaN        NaN  Strandskolen_03.S.07  \n",
       " 301         NaN  0.020000     NaN        NaN  Strandskolen_03.S.07  \n",
       " 475         NaN  0.020000     NaN        NaN  Strandskolen_03.S.07  \n",
       " 486         NaN  0.030000     NaN        NaN  Strandskolen_03.S.07  \n",
       " ...         ...       ...     ...        ...                   ...  \n",
       " 1840889     NaN  0.020000     NaN        NaN  Strandskolen_03.S.07  \n",
       " 1840911     NaN  0.083333     NaN        1.0  Strandskolen_03.S.07  \n",
       " 1841474     NaN  0.910000     NaN        NaN  Strandskolen_03.S.07  \n",
       " 1841544     NaN  0.033333     NaN        NaN  Strandskolen_03.S.07  \n",
       " 1841605     NaN  0.023333     NaN        NaN  Strandskolen_03.S.07  \n",
       " \n",
       " [24541 rows x 16 columns],\n",
       " 'Strandskolen_04.S.03':               ID KOMMUNE         SKOLE        DATE      TIME  DAYNAME  \\\n",
       " 69       04.S.03  Aarhus  Strandskolen  2023-02-09  06:00:00  Torsdag   \n",
       " 113      04.S.03  Aarhus  Strandskolen  2022-11-21  00:45:00   Mandag   \n",
       " 116      04.S.03  Aarhus  Strandskolen  2022-10-20  17:15:00  Torsdag   \n",
       " 160      04.S.03  Aarhus  Strandskolen  2022-09-24  07:45:00  Loerdag   \n",
       " 231      04.S.03  Aarhus  Strandskolen  2022-10-31  04:45:00   Mandag   \n",
       " ...          ...     ...           ...         ...       ...      ...   \n",
       " 1840940  04.S.03  Aarhus  Strandskolen  2023-02-16  04:00:00  Torsdag   \n",
       " 1841014  04.S.03  Aarhus  Strandskolen  2023-02-10  12:00:00   Fredag   \n",
       " 1841107  04.S.03  Aarhus  Strandskolen  2022-12-16  16:30:00   Fredag   \n",
       " 1841678  04.S.03  Aarhus  Strandskolen  2022-09-28  04:30:00   Onsdag   \n",
       " 1841791  04.S.03  Aarhus  Strandskolen  2023-02-10  15:45:00   Fredag   \n",
       " \n",
       "         TIDSPUNKT_TYPE         TYPE            NAVN          CO2       TEMP  \\\n",
       " 69               Skole   Normal Dag      Normal Dag   502.333333  18.900000   \n",
       " 113              Skole   Normal Dag      Normal Dag   478.000000  18.500000   \n",
       " 116             Fritid  Skole-ferie  Efteraarsferie   445.000000  16.800000   \n",
       " 160             Fritid   Normal Dag      Normal Dag   561.333333  19.500000   \n",
       " 231              Skole   Normal Dag      Normal Dag   502.000000  18.600000   \n",
       " ...                ...          ...             ...          ...        ...   \n",
       " 1840940          Skole  Skole-ferie     Vinterferie   448.666667  13.700000   \n",
       " 1841014          Skole   Normal Dag      Normal Dag  2311.000000  19.866667   \n",
       " 1841107         Fritid   Normal Dag      Normal Dag  1267.333333  18.733333   \n",
       " 1841678          Skole   Normal Dag      Normal Dag   626.333333  18.500000   \n",
       " 1841791          Skole   Normal Dag      Normal Dag  1238.666667  18.566667   \n",
       " \n",
       "          MOTION       IAQ  BOOKET  SKEMALAGT              SKOLE_ID  \n",
       " 69          NaN  0.060000     NaN        NaN  Strandskolen_04.S.03  \n",
       " 113         NaN  0.050000     NaN        NaN  Strandskolen_04.S.03  \n",
       " 116         NaN  0.033333     NaN        NaN  Strandskolen_04.S.03  \n",
       " 160         NaN  0.020000     NaN        NaN  Strandskolen_04.S.03  \n",
       " 231         NaN  0.020000     NaN        NaN  Strandskolen_04.S.03  \n",
       " ...         ...       ...     ...        ...                   ...  \n",
       " 1840940     NaN  0.023333     NaN        NaN  Strandskolen_04.S.03  \n",
       " 1841014     NaN  0.063333     NaN        NaN  Strandskolen_04.S.03  \n",
       " 1841107     NaN  0.020000     NaN        NaN  Strandskolen_04.S.03  \n",
       " 1841678     NaN  0.020000     NaN        NaN  Strandskolen_04.S.03  \n",
       " 1841791     NaN  0.040000     NaN        NaN  Strandskolen_04.S.03  \n",
       " \n",
       " [26046 rows x 16 columns],\n",
       " 'Strandskolen_04.S.04':               ID KOMMUNE         SKOLE        DATE      TIME  DAYNAME  \\\n",
       " 19       04.S.04  Aarhus  Strandskolen  2022-12-09  20:45:00   Fredag   \n",
       " 53       04.S.04  Aarhus  Strandskolen  2023-02-28  03:30:00  Tirsdag   \n",
       " 86       04.S.04  Aarhus  Strandskolen  2023-04-18  05:00:00  Tirsdag   \n",
       " 108      04.S.04  Aarhus  Strandskolen  2022-09-27  15:30:00  Tirsdag   \n",
       " 123      04.S.04  Aarhus  Strandskolen  2022-09-22  04:30:00  Torsdag   \n",
       " ...          ...     ...           ...         ...       ...      ...   \n",
       " 1840871  04.S.04  Aarhus  Strandskolen  2022-11-19  14:00:00  Loerdag   \n",
       " 1840942  04.S.04  Aarhus  Strandskolen  2023-05-10  03:15:00   Onsdag   \n",
       " 1840989  04.S.04  Aarhus  Strandskolen  2023-04-03  13:30:00   Mandag   \n",
       " 1841336  04.S.04  Aarhus  Strandskolen  2022-09-13  08:15:00  Tirsdag   \n",
       " 1841494  04.S.04  Aarhus  Strandskolen  2023-01-07  04:00:00  Loerdag   \n",
       " \n",
       "         TIDSPUNKT_TYPE         TYPE        NAVN          CO2       TEMP  \\\n",
       " 19              Fritid   Normal Dag  Normal Dag   953.000000  19.600000   \n",
       " 53               Skole   Normal Dag  Normal Dag   526.000000  19.000000   \n",
       " 86               Skole   Normal Dag  Normal Dag   428.333333  18.633333   \n",
       " 108              Skole   Normal Dag  Normal Dag  2501.000000  20.133333   \n",
       " 123              Skole   Normal Dag  Normal Dag   575.500000  20.000000   \n",
       " ...                ...          ...         ...          ...        ...   \n",
       " 1840871         Fritid   Normal Dag  Normal Dag   472.333333  20.100000   \n",
       " 1840942          Skole   Normal Dag  Normal Dag   450.666667  20.100000   \n",
       " 1840989          Skole  Skole-ferie  Påskeferie   520.000000  21.000000   \n",
       " 1841336          Skole   Normal Dag  Normal Dag  1094.000000  22.000000   \n",
       " 1841494         Fritid   Normal Dag  Normal Dag   627.333333  19.500000   \n",
       " \n",
       "          MOTION       IAQ  BOOKET  SKEMALAGT              SKOLE_ID  \n",
       " 19          NaN  0.050000     NaN        NaN  Strandskolen_04.S.04  \n",
       " 53          NaN  0.030000     NaN        NaN  Strandskolen_04.S.04  \n",
       " 86          NaN  0.026667     NaN        NaN  Strandskolen_04.S.04  \n",
       " 108         NaN  0.496667     NaN        NaN  Strandskolen_04.S.04  \n",
       " 123         NaN  0.020000     NaN        NaN  Strandskolen_04.S.04  \n",
       " ...         ...       ...     ...        ...                   ...  \n",
       " 1840871     NaN  0.020000     NaN        NaN  Strandskolen_04.S.04  \n",
       " 1840942     NaN  0.023333     NaN        NaN  Strandskolen_04.S.04  \n",
       " 1840989     NaN  0.020000     NaN        NaN  Strandskolen_04.S.04  \n",
       " 1841336     NaN  0.030000     NaN        1.0  Strandskolen_04.S.04  \n",
       " 1841494     NaN  0.030000     NaN        NaN  Strandskolen_04.S.04  \n",
       " \n",
       " [23678 rows x 16 columns],\n",
       " 'Strandskolen_04.S.05':               ID KOMMUNE         SKOLE        DATE      TIME  DAYNAME  \\\n",
       " 129      04.S.05  Aarhus  Strandskolen  2023-01-01  23:30:00  Soendag   \n",
       " 265      04.S.05  Aarhus  Strandskolen  2022-10-03  17:30:00   Mandag   \n",
       " 385      04.S.05  Aarhus  Strandskolen  2022-12-28  02:15:00   Onsdag   \n",
       " 437      04.S.05  Aarhus  Strandskolen  2023-04-25  03:15:00  Tirsdag   \n",
       " 446      04.S.05  Aarhus  Strandskolen  2023-02-15  15:00:00   Onsdag   \n",
       " ...          ...     ...           ...         ...       ...      ...   \n",
       " 1840671  04.S.05  Aarhus  Strandskolen  2023-02-09  09:15:00  Torsdag   \n",
       " 1840878  04.S.05  Aarhus  Strandskolen  2022-09-06  09:00:00  Tirsdag   \n",
       " 1840933  04.S.05  Aarhus  Strandskolen  2023-03-14  05:45:00  Tirsdag   \n",
       " 1841653  04.S.05  Aarhus  Strandskolen  2023-03-19  09:00:00  Soendag   \n",
       " 1841658  04.S.05  Aarhus  Strandskolen  2023-03-06  13:45:00   Mandag   \n",
       " \n",
       "         TIDSPUNKT_TYPE         TYPE         NAVN          CO2       TEMP  \\\n",
       " 129             Fritid    Helligdag    Nytårsdag   444.666667  14.500000   \n",
       " 265             Fritid   Normal Dag   Normal Dag   597.333333  20.500000   \n",
       " 385              Skole  Skole-ferie    Juleferie   389.000000  15.100000   \n",
       " 437              Skole   Normal Dag   Normal Dag   471.000000  18.900000   \n",
       " 446              Skole  Skole-ferie  Vinterferie   473.333333  15.600000   \n",
       " ...                ...          ...          ...          ...        ...   \n",
       " 1840671          Skole   Normal Dag   Normal Dag  2299.000000  21.550000   \n",
       " 1840878          Skole   Normal Dag   Normal Dag   981.666667  23.500000   \n",
       " 1840933          Skole   Normal Dag   Normal Dag   426.333333  19.433333   \n",
       " 1841653         Fritid   Normal Dag   Normal Dag   448.666667  19.900000   \n",
       " 1841658          Skole   Normal Dag   Normal Dag  1355.666667  21.466667   \n",
       " \n",
       "          MOTION       IAQ  BOOKET  SKEMALAGT              SKOLE_ID  \n",
       " 129         NaN  0.020000     NaN        NaN  Strandskolen_04.S.05  \n",
       " 265         NaN  0.020000     NaN        NaN  Strandskolen_04.S.05  \n",
       " 385         NaN  0.030000     NaN        NaN  Strandskolen_04.S.05  \n",
       " 437         NaN  0.020000     NaN        NaN  Strandskolen_04.S.05  \n",
       " 446         NaN  0.020000     NaN        NaN  Strandskolen_04.S.05  \n",
       " ...         ...       ...     ...        ...                   ...  \n",
       " 1840671     NaN  0.080000     NaN        1.0  Strandskolen_04.S.05  \n",
       " 1840878     NaN  0.023333     NaN        1.0  Strandskolen_04.S.05  \n",
       " 1840933     NaN  0.030000     NaN        NaN  Strandskolen_04.S.05  \n",
       " 1841653     NaN  0.340000     NaN        NaN  Strandskolen_04.S.05  \n",
       " 1841658     NaN  0.316667     NaN        1.0  Strandskolen_04.S.05  \n",
       " \n",
       " [25612 rows x 16 columns],\n",
       " 'Strandskolen_04.S.06':               ID KOMMUNE         SKOLE        DATE      TIME  DAYNAME  \\\n",
       " 16       04.S.06  Aarhus  Strandskolen  2023-04-20  18:45:00  Torsdag   \n",
       " 139      04.S.06  Aarhus  Strandskolen  2022-12-10  12:45:00  Loerdag   \n",
       " 210      04.S.06  Aarhus  Strandskolen  2022-10-06  21:45:00  Torsdag   \n",
       " 334      04.S.06  Aarhus  Strandskolen  2022-11-02  00:15:00   Onsdag   \n",
       " 404      04.S.06  Aarhus  Strandskolen  2023-01-05  23:45:00  Torsdag   \n",
       " ...          ...     ...           ...         ...       ...      ...   \n",
       " 1841219  04.S.06  Aarhus  Strandskolen  2022-10-13  06:00:00  Torsdag   \n",
       " 1841221  04.S.06  Aarhus  Strandskolen  2023-05-08  21:45:00   Mandag   \n",
       " 1841267  04.S.06  Aarhus  Strandskolen  2022-12-14  15:30:00   Onsdag   \n",
       " 1841421  04.S.06  Aarhus  Strandskolen  2023-01-16  12:00:00   Mandag   \n",
       " 1842200  04.S.06  Aarhus  Strandskolen  2023-10-06  04:30:00   Fredag   \n",
       " \n",
       "         TIDSPUNKT_TYPE        TYPE        NAVN         CO2       TEMP  MOTION  \\\n",
       " 16              Fritid  Normal Dag  Normal Dag  472.333333  20.300000     NaN   \n",
       " 139             Fritid  Normal Dag  Normal Dag  445.666667  19.300000     NaN   \n",
       " 210             Fritid  Normal Dag  Normal Dag  466.333333  19.800000     NaN   \n",
       " 334              Skole  Normal Dag  Normal Dag  432.666667  18.866667     NaN   \n",
       " 404             Fritid  Normal Dag  Normal Dag  492.000000  19.300000     NaN   \n",
       " ...                ...         ...         ...         ...        ...     ...   \n",
       " 1841219          Skole  Normal Dag  Normal Dag  604.000000  18.966667     NaN   \n",
       " 1841221         Fritid  Normal Dag  Normal Dag  406.666667  19.733333     NaN   \n",
       " 1841267          Skole  Normal Dag  Normal Dag  694.250000  18.875000     NaN   \n",
       " 1841421          Skole  Normal Dag  Normal Dag  864.000000  19.866667     NaN   \n",
       " 1842200          Skole  Normal Dag  Normal Dag  448.000000  18.700000     NaN   \n",
       " \n",
       "               IAQ  BOOKET  SKEMALAGT              SKOLE_ID  \n",
       " 16       0.020000     NaN        NaN  Strandskolen_04.S.06  \n",
       " 139      0.020000     NaN        NaN  Strandskolen_04.S.06  \n",
       " 210      0.030000     NaN        NaN  Strandskolen_04.S.06  \n",
       " 334      0.020000     NaN        NaN  Strandskolen_04.S.06  \n",
       " 404      0.040000     NaN        NaN  Strandskolen_04.S.06  \n",
       " ...           ...     ...        ...                   ...  \n",
       " 1841219  0.030000     NaN        NaN  Strandskolen_04.S.06  \n",
       " 1841221  1.176667     NaN        NaN  Strandskolen_04.S.06  \n",
       " 1841267  0.165000     NaN        NaN  Strandskolen_04.S.06  \n",
       " 1841421  0.090000     NaN        NaN  Strandskolen_04.S.06  \n",
       " 1842200  0.030000     NaN        NaN  Strandskolen_04.S.06  \n",
       " \n",
       " [24936 rows x 16 columns],\n",
       " 'Strandskolen_04.S.07':               ID KOMMUNE         SKOLE        DATE      TIME  DAYNAME  \\\n",
       " 106      04.S.07  Aarhus  Strandskolen  2022-12-30  03:30:00   Fredag   \n",
       " 114      04.S.07  Aarhus  Strandskolen  2023-02-21  21:15:00  Tirsdag   \n",
       " 425      04.S.07  Aarhus  Strandskolen  2023-02-18  08:45:00  Loerdag   \n",
       " 502      04.S.07  Aarhus  Strandskolen  2022-12-25  04:15:00  Soendag   \n",
       " 580      04.S.07  Aarhus  Strandskolen  2022-12-14  11:30:00   Onsdag   \n",
       " ...          ...     ...           ...         ...       ...      ...   \n",
       " 1841200  04.S.07  Aarhus  Strandskolen  2023-01-04  14:45:00   Onsdag   \n",
       " 1841426  04.S.07  Aarhus  Strandskolen  2023-04-19  12:15:00   Onsdag   \n",
       " 1841445  04.S.07  Aarhus  Strandskolen  2022-09-08  19:00:00  Torsdag   \n",
       " 1841736  04.S.07  Aarhus  Strandskolen  2022-12-13  06:00:00  Tirsdag   \n",
       " 1841873  04.S.07  Aarhus  Strandskolen  2023-10-02  18:45:00   Mandag   \n",
       " \n",
       "         TIDSPUNKT_TYPE         TYPE         NAVN         CO2       TEMP  \\\n",
       " 106              Skole  Skole-ferie    Juleferie  453.666667  14.933333   \n",
       " 114             Fritid   Normal Dag   Normal Dag  419.333333  19.500000   \n",
       " 425             Fritid  Skole-ferie  Vinterferie  363.000000  18.733333   \n",
       " 502             Fritid  Skole-ferie    Juleferie  423.000000  16.000000   \n",
       " 580              Skole   Normal Dag   Normal Dag  968.500000  22.250000   \n",
       " ...                ...          ...          ...         ...        ...   \n",
       " 1841200          Skole   Normal Dag   Normal Dag  580.666667  20.300000   \n",
       " 1841426          Skole   Normal Dag   Normal Dag  629.666667  21.100000   \n",
       " 1841445         Fritid   Normal Dag   Normal Dag  477.333333  22.100000   \n",
       " 1841736          Skole   Normal Dag   Normal Dag  482.000000  20.666667   \n",
       " 1841873         Fritid   Normal Dag   Normal Dag  452.333333  19.600000   \n",
       " \n",
       "          MOTION       IAQ  BOOKET  SKEMALAGT              SKOLE_ID  \n",
       " 106         NaN  0.020000     NaN        NaN  Strandskolen_04.S.07  \n",
       " 114         NaN  0.050000     NaN        NaN  Strandskolen_04.S.07  \n",
       " 425         NaN  0.030000     NaN        NaN  Strandskolen_04.S.07  \n",
       " 502         NaN  0.020000     NaN        NaN  Strandskolen_04.S.07  \n",
       " 580         NaN  0.330000     NaN        NaN  Strandskolen_04.S.07  \n",
       " ...         ...       ...     ...        ...                   ...  \n",
       " 1841200     NaN  0.030000     NaN        NaN  Strandskolen_04.S.07  \n",
       " 1841426     NaN  0.020000     NaN        NaN  Strandskolen_04.S.07  \n",
       " 1841445     NaN  1.323333     NaN        NaN  Strandskolen_04.S.07  \n",
       " 1841736     NaN  0.020000     NaN        NaN  Strandskolen_04.S.07  \n",
       " 1841873     NaN  0.033333     NaN        NaN  Strandskolen_04.S.07  \n",
       " \n",
       " [25999 rows x 16 columns],\n",
       " 'Strandskolen_05.S.22':               ID KOMMUNE         SKOLE        DATE      TIME  DAYNAME  \\\n",
       " 101      05.S.22  Aarhus  Strandskolen  2023-03-01  18:15:00   Onsdag   \n",
       " 115      05.S.22  Aarhus  Strandskolen  2022-11-15  20:00:00  Tirsdag   \n",
       " 152      05.S.22  Aarhus  Strandskolen  2023-01-28  23:15:00  Loerdag   \n",
       " 272      05.S.22  Aarhus  Strandskolen  2022-12-10  14:15:00  Loerdag   \n",
       " 397      05.S.22  Aarhus  Strandskolen  2022-11-06  04:00:00  Soendag   \n",
       " ...          ...     ...           ...         ...       ...      ...   \n",
       " 1841148  05.S.22  Aarhus  Strandskolen  2022-10-14  15:00:00   Fredag   \n",
       " 1841196  05.S.22  Aarhus  Strandskolen  2022-11-14  12:30:00   Mandag   \n",
       " 1841680  05.S.22  Aarhus  Strandskolen  2023-03-06  18:15:00   Mandag   \n",
       " 1841745  05.S.22  Aarhus  Strandskolen  2023-02-24  07:45:00   Fredag   \n",
       " 1841960  05.S.22  Aarhus  Strandskolen  2023-02-11  08:00:00  Loerdag   \n",
       " \n",
       "         TIDSPUNKT_TYPE        TYPE        NAVN          CO2       TEMP  \\\n",
       " 101             Fritid  Normal Dag  Normal Dag   468.333333  19.200000   \n",
       " 115             Fritid  Normal Dag  Normal Dag   474.000000  18.466667   \n",
       " 152             Fritid  Normal Dag  Normal Dag   463.666667  19.100000   \n",
       " 272             Fritid  Normal Dag  Normal Dag   501.666667  18.700000   \n",
       " 397             Fritid  Normal Dag  Normal Dag   372.333333  18.400000   \n",
       " ...                ...         ...         ...          ...        ...   \n",
       " 1841148          Skole  Normal Dag  Normal Dag   496.333333  19.766667   \n",
       " 1841196          Skole  Normal Dag  Normal Dag  1150.333333  19.600000   \n",
       " 1841680         Fritid  Normal Dag  Normal Dag   502.666667  19.000000   \n",
       " 1841745          Skole  Normal Dag  Normal Dag   442.666667  19.000000   \n",
       " 1841960         Fritid  Normal Dag  Normal Dag   407.666667  18.300000   \n",
       " \n",
       "          MOTION       IAQ  BOOKET  SKEMALAGT              SKOLE_ID  \n",
       " 101         NaN  0.020000     NaN        NaN  Strandskolen_05.S.22  \n",
       " 115         NaN  0.096667     NaN        NaN  Strandskolen_05.S.22  \n",
       " 152         NaN  0.026667     NaN        NaN  Strandskolen_05.S.22  \n",
       " 272         NaN  0.023333     NaN        NaN  Strandskolen_05.S.22  \n",
       " 397         NaN  0.040000     NaN        NaN  Strandskolen_05.S.22  \n",
       " ...         ...       ...     ...        ...                   ...  \n",
       " 1841148     NaN  0.496667     NaN        NaN  Strandskolen_05.S.22  \n",
       " 1841196     NaN  0.853333     NaN        1.0  Strandskolen_05.S.22  \n",
       " 1841680     NaN  0.030000     NaN        NaN  Strandskolen_05.S.22  \n",
       " 1841745     NaN  0.020000     NaN        NaN  Strandskolen_05.S.22  \n",
       " 1841960     NaN  0.030000     NaN        NaN  Strandskolen_05.S.22  \n",
       " \n",
       " [24078 rows x 16 columns],\n",
       " 'Strandskolen_05.S.23':               ID KOMMUNE         SKOLE        DATE      TIME  DAYNAME  \\\n",
       " 22       05.S.23  Aarhus  Strandskolen  2022-10-13  16:30:00  Torsdag   \n",
       " 110      05.S.23  Aarhus  Strandskolen  2022-12-08  09:00:00  Torsdag   \n",
       " 299      05.S.23  Aarhus  Strandskolen  2022-12-27  17:15:00  Tirsdag   \n",
       " 386      05.S.23  Aarhus  Strandskolen  2023-05-14  10:00:00  Soendag   \n",
       " 400      05.S.23  Aarhus  Strandskolen  2023-03-12  22:15:00  Soendag   \n",
       " ...          ...     ...           ...         ...       ...      ...   \n",
       " 1841420  05.S.23  Aarhus  Strandskolen  2022-11-11  00:45:00   Fredag   \n",
       " 1841492  05.S.23  Aarhus  Strandskolen  2023-04-16  21:45:00  Soendag   \n",
       " 1841611  05.S.23  Aarhus  Strandskolen  2022-11-20  21:15:00  Soendag   \n",
       " 1841657  05.S.23  Aarhus  Strandskolen  2022-09-15  16:15:00  Torsdag   \n",
       " 1841689  05.S.23  Aarhus  Strandskolen  2022-09-29  10:30:00  Torsdag   \n",
       " \n",
       "         TIDSPUNKT_TYPE         TYPE        NAVN          CO2       TEMP  \\\n",
       " 22              Fritid   Normal Dag  Normal Dag   889.666667  20.900000   \n",
       " 110              Skole   Normal Dag  Normal Dag  1334.000000  19.500000   \n",
       " 299             Fritid  Skole-ferie   Juleferie   453.000000  17.300000   \n",
       " 386             Fritid   Normal Dag  Normal Dag   501.000000  21.900000   \n",
       " 400             Fritid   Normal Dag  Normal Dag   429.333333  19.100000   \n",
       " ...                ...          ...         ...          ...        ...   \n",
       " 1841420          Skole   Normal Dag  Normal Dag   472.000000  20.100000   \n",
       " 1841492         Fritid   Normal Dag  Normal Dag   431.000000  19.400000   \n",
       " 1841611         Fritid   Normal Dag  Normal Dag   427.333333  19.000000   \n",
       " 1841657         Fritid   Normal Dag  Normal Dag   569.666667  21.600000   \n",
       " 1841689          Skole   Normal Dag  Normal Dag   967.333333  20.533333   \n",
       " \n",
       "          MOTION       IAQ  BOOKET  SKEMALAGT              SKOLE_ID  \n",
       " 22          NaN  0.050000     NaN        NaN  Strandskolen_05.S.23  \n",
       " 110         NaN  0.026667     NaN        1.0  Strandskolen_05.S.23  \n",
       " 299         NaN  0.033333     NaN        NaN  Strandskolen_05.S.23  \n",
       " 386         NaN  0.083333     NaN        NaN  Strandskolen_05.S.23  \n",
       " 400         NaN  0.030000     NaN        NaN  Strandskolen_05.S.23  \n",
       " ...         ...       ...     ...        ...                   ...  \n",
       " 1841420     NaN  0.040000     NaN        NaN  Strandskolen_05.S.23  \n",
       " 1841492     NaN  0.020000     NaN        NaN  Strandskolen_05.S.23  \n",
       " 1841611     NaN  0.046667     NaN        NaN  Strandskolen_05.S.23  \n",
       " 1841657     NaN  0.030000     NaN        NaN  Strandskolen_05.S.23  \n",
       " 1841689     NaN  0.020000     NaN        1.0  Strandskolen_05.S.23  \n",
       " \n",
       " [24650 rows x 16 columns],\n",
       " 'Strandskolen_05.S.24':               ID KOMMUNE         SKOLE        DATE      TIME  DAYNAME  \\\n",
       " 120      05.S.24  Aarhus  Strandskolen  2023-01-15  22:30:00  Soendag   \n",
       " 173      05.S.24  Aarhus  Strandskolen  2023-04-13  03:45:00  Torsdag   \n",
       " 315      05.S.24  Aarhus  Strandskolen  2023-03-10  06:45:00   Fredag   \n",
       " 318      05.S.24  Aarhus  Strandskolen  2023-02-09  14:00:00  Torsdag   \n",
       " 331      05.S.24  Aarhus  Strandskolen  2022-11-10  04:00:00  Torsdag   \n",
       " ...          ...     ...           ...         ...       ...      ...   \n",
       " 1841309  05.S.24  Aarhus  Strandskolen  2023-10-09  21:15:00   Mandag   \n",
       " 1841554  05.S.24  Aarhus  Strandskolen  2022-12-08  06:15:00  Torsdag   \n",
       " 1841579  05.S.24  Aarhus  Strandskolen  2022-11-28  16:30:00   Mandag   \n",
       " 1841897  05.S.24  Aarhus  Strandskolen  2023-03-13  02:00:00   Mandag   \n",
       " 1842054  05.S.24  Aarhus  Strandskolen  2022-11-17  11:30:00  Torsdag   \n",
       " \n",
       "         TIDSPUNKT_TYPE        TYPE        NAVN          CO2  TEMP  MOTION  \\\n",
       " 120             Fritid  Normal Dag  Normal Dag   404.500000  18.8     NaN   \n",
       " 173              Skole  Normal Dag  Normal Dag   415.333333  19.1     NaN   \n",
       " 315              Skole  Normal Dag  Normal Dag   463.000000  18.6     NaN   \n",
       " 318              Skole  Normal Dag  Normal Dag   988.333333  19.6     NaN   \n",
       " 331              Skole  Normal Dag  Normal Dag   516.666667  18.8     NaN   \n",
       " ...                ...         ...         ...          ...   ...     ...   \n",
       " 1841309         Fritid  Normal Dag  Normal Dag   602.000000  19.0     NaN   \n",
       " 1841554          Skole  Normal Dag  Normal Dag   488.333333  18.8     NaN   \n",
       " 1841579         Fritid  Normal Dag  Normal Dag   485.666667  18.4     NaN   \n",
       " 1841897          Skole  Normal Dag  Normal Dag   404.000000  19.4     NaN   \n",
       " 1842054          Skole  Normal Dag  Normal Dag  1259.000000  20.1     NaN   \n",
       " \n",
       "               IAQ  BOOKET  SKEMALAGT              SKOLE_ID  \n",
       " 120      0.030000     NaN        NaN  Strandskolen_05.S.24  \n",
       " 173      0.020000     NaN        NaN  Strandskolen_05.S.24  \n",
       " 315      0.040000     NaN        NaN  Strandskolen_05.S.24  \n",
       " 318      0.050000     NaN        NaN  Strandskolen_05.S.24  \n",
       " 331      0.736667     NaN        NaN  Strandskolen_05.S.24  \n",
       " ...           ...     ...        ...                   ...  \n",
       " 1841309  0.080000     NaN        NaN  Strandskolen_05.S.24  \n",
       " 1841554  0.040000     NaN        NaN  Strandskolen_05.S.24  \n",
       " 1841579  0.020000     NaN        NaN  Strandskolen_05.S.24  \n",
       " 1841897  0.020000     NaN        NaN  Strandskolen_05.S.24  \n",
       " 1842054  0.860000     NaN        NaN  Strandskolen_05.S.24  \n",
       " \n",
       " [25789 rows x 16 columns],\n",
       " 'Strandskolen_05.S.25':               ID KOMMUNE         SKOLE        DATE      TIME  DAYNAME  \\\n",
       " 25       05.S.25  Aarhus  Strandskolen  2023-04-04  21:00:00  Tirsdag   \n",
       " 279      05.S.25  Aarhus  Strandskolen  2023-04-27  05:00:00  Torsdag   \n",
       " 286      05.S.25  Aarhus  Strandskolen  2023-01-04  12:45:00   Onsdag   \n",
       " 830      05.S.25  Aarhus  Strandskolen  2022-11-16  16:30:00   Onsdag   \n",
       " 1097     05.S.25  Aarhus  Strandskolen  2023-04-20  22:45:00  Torsdag   \n",
       " ...          ...     ...           ...         ...       ...      ...   \n",
       " 1841670  05.S.25  Aarhus  Strandskolen  2022-11-25  13:45:00   Fredag   \n",
       " 1841682  05.S.25  Aarhus  Strandskolen  2022-09-11  15:00:00  Soendag   \n",
       " 1841867  05.S.25  Aarhus  Strandskolen  2023-01-13  19:15:00   Fredag   \n",
       " 1841964  05.S.25  Aarhus  Strandskolen  2022-11-11  13:30:00   Fredag   \n",
       " 1841993  05.S.25  Aarhus  Strandskolen  2022-12-01  09:30:00  Torsdag   \n",
       " \n",
       "         TIDSPUNKT_TYPE         TYPE        NAVN          CO2       TEMP  \\\n",
       " 25              Fritid  Skole-ferie  Påskeferie   386.666667  19.200000   \n",
       " 279              Skole   Normal Dag  Normal Dag   421.000000  19.533333   \n",
       " 286              Skole   Normal Dag  Normal Dag  1480.000000  19.666667   \n",
       " 830             Fritid   Normal Dag  Normal Dag   478.333333  18.833333   \n",
       " 1097            Fritid   Normal Dag  Normal Dag   459.666667  19.700000   \n",
       " ...                ...          ...         ...          ...        ...   \n",
       " 1841670          Skole   Normal Dag  Normal Dag   796.000000  19.433333   \n",
       " 1841682         Fritid   Normal Dag  Normal Dag   404.000000  22.300000   \n",
       " 1841867         Fritid   Normal Dag  Normal Dag   442.666667  19.500000   \n",
       " 1841964          Skole   Normal Dag  Normal Dag   879.000000  19.833333   \n",
       " 1841993          Skole   Normal Dag  Normal Dag  1216.000000  20.300000   \n",
       " \n",
       "          MOTION       IAQ  BOOKET  SKEMALAGT              SKOLE_ID  \n",
       " 25          NaN  0.033333     NaN        NaN  Strandskolen_05.S.25  \n",
       " 279         NaN  0.036667     NaN        NaN  Strandskolen_05.S.25  \n",
       " 286         NaN  0.150000     NaN        1.0  Strandskolen_05.S.25  \n",
       " 830         NaN  0.153333     NaN        NaN  Strandskolen_05.S.25  \n",
       " 1097        NaN  0.030000     NaN        NaN  Strandskolen_05.S.25  \n",
       " ...         ...       ...     ...        ...                   ...  \n",
       " 1841670     NaN  0.773333     NaN        NaN  Strandskolen_05.S.25  \n",
       " 1841682     NaN  0.116667     NaN        NaN  Strandskolen_05.S.25  \n",
       " 1841867     NaN  0.043333     NaN        NaN  Strandskolen_05.S.25  \n",
       " 1841964     NaN  0.383333     NaN        NaN  Strandskolen_05.S.25  \n",
       " 1841993     NaN  0.090000     NaN        NaN  Strandskolen_05.S.25  \n",
       " \n",
       " [21448 rows x 16 columns],\n",
       " 'Strandskolen_05.S.26':               ID KOMMUNE         SKOLE        DATE      TIME  DAYNAME  \\\n",
       " 164      05.S.26  Aarhus  Strandskolen  2022-10-20  09:15:00  Torsdag   \n",
       " 180      05.S.26  Aarhus  Strandskolen  2023-01-13  15:30:00   Fredag   \n",
       " 186      05.S.26  Aarhus  Strandskolen  2023-05-11  12:00:00  Torsdag   \n",
       " 372      05.S.26  Aarhus  Strandskolen  2023-02-18  00:00:00  Loerdag   \n",
       " 373      05.S.26  Aarhus  Strandskolen  2022-10-03  06:45:00   Mandag   \n",
       " ...          ...     ...           ...         ...       ...      ...   \n",
       " 1841138  05.S.26  Aarhus  Strandskolen  2022-11-29  23:15:00  Tirsdag   \n",
       " 1841172  05.S.26  Aarhus  Strandskolen  2023-02-03  05:00:00   Fredag   \n",
       " 1841198  05.S.26  Aarhus  Strandskolen  2022-12-05  14:15:00   Mandag   \n",
       " 1841209  05.S.26  Aarhus  Strandskolen  2022-12-05  18:00:00   Mandag   \n",
       " 1841499  05.S.26  Aarhus  Strandskolen  2022-09-25  12:30:00  Soendag   \n",
       " \n",
       "         TIDSPUNKT_TYPE         TYPE            NAVN         CO2       TEMP  \\\n",
       " 164              Skole  Skole-ferie  Efteraarsferie  417.000000  17.500000   \n",
       " 180              Skole   Normal Dag      Normal Dag  454.333333  19.200000   \n",
       " 186              Skole   Normal Dag      Normal Dag  978.666667  20.700000   \n",
       " 372             Fritid  Skole-ferie     Vinterferie  404.666667  15.100000   \n",
       " 373              Skole   Normal Dag      Normal Dag  467.000000  18.133333   \n",
       " ...                ...          ...             ...         ...        ...   \n",
       " 1841138         Fritid   Normal Dag      Normal Dag  511.333333  19.133333   \n",
       " 1841172          Skole   Normal Dag      Normal Dag  437.000000  18.900000   \n",
       " 1841198          Skole   Normal Dag      Normal Dag  558.333333  19.366667   \n",
       " 1841209         Fritid   Normal Dag      Normal Dag  446.333333  18.400000   \n",
       " 1841499         Fritid   Normal Dag      Normal Dag  382.666667  20.166667   \n",
       " \n",
       "          MOTION       IAQ  BOOKET  SKEMALAGT              SKOLE_ID  \n",
       " 164         NaN  0.020000     NaN        NaN  Strandskolen_05.S.26  \n",
       " 180         NaN  0.020000     NaN        NaN  Strandskolen_05.S.26  \n",
       " 186         NaN  0.020000     NaN        NaN  Strandskolen_05.S.26  \n",
       " 372         NaN  0.850000     NaN        NaN  Strandskolen_05.S.26  \n",
       " 373         NaN  0.020000     NaN        NaN  Strandskolen_05.S.26  \n",
       " ...         ...       ...     ...        ...                   ...  \n",
       " 1841138     NaN  0.040000     NaN        NaN  Strandskolen_05.S.26  \n",
       " 1841172     NaN  0.103333     NaN        NaN  Strandskolen_05.S.26  \n",
       " 1841198     NaN  0.020000     NaN        1.0  Strandskolen_05.S.26  \n",
       " 1841209     NaN  0.060000     NaN        NaN  Strandskolen_05.S.26  \n",
       " 1841499     NaN  0.023333     NaN        NaN  Strandskolen_05.S.26  \n",
       " \n",
       " [24122 rows x 16 columns],\n",
       " 'Strandskolen_06.S.13':               ID KOMMUNE         SKOLE        DATE      TIME  DAYNAME  \\\n",
       " 232      06.S.13  Aarhus  Strandskolen  2022-09-24  08:00:00  Loerdag   \n",
       " 356      06.S.13  Aarhus  Strandskolen  2022-12-26  14:45:00   Mandag   \n",
       " 364      06.S.13  Aarhus  Strandskolen  2023-02-24  21:30:00   Fredag   \n",
       " 474      06.S.13  Aarhus  Strandskolen  2023-04-22  11:00:00  Loerdag   \n",
       " 529      06.S.13  Aarhus  Strandskolen  2023-02-27  13:30:00   Mandag   \n",
       " ...          ...     ...           ...         ...       ...      ...   \n",
       " 1841287  06.S.13  Aarhus  Strandskolen  2023-01-06  07:15:00   Fredag   \n",
       " 1841323  06.S.13  Aarhus  Strandskolen  2022-09-25  13:15:00  Soendag   \n",
       " 1841442  06.S.13  Aarhus  Strandskolen  2023-03-11  22:00:00  Loerdag   \n",
       " 1841666  06.S.13  Aarhus  Strandskolen  2022-10-07  03:45:00   Fredag   \n",
       " 1841677  06.S.13  Aarhus  Strandskolen  2023-01-03  13:15:00  Tirsdag   \n",
       " \n",
       "         TIDSPUNKT_TYPE         TYPE        NAVN          CO2  TEMP  MOTION  \\\n",
       " 232             Fritid   Normal Dag  Normal Dag   465.333333  19.8     NaN   \n",
       " 356              Skole  Skole-ferie   Juleferie   438.666667  14.9     NaN   \n",
       " 364             Fritid   Normal Dag  Normal Dag   507.000000  18.4     NaN   \n",
       " 474             Fritid   Normal Dag  Normal Dag   456.000000  20.3     NaN   \n",
       " 529              Skole   Normal Dag  Normal Dag   752.666667  18.7     NaN   \n",
       " ...                ...          ...         ...          ...   ...     ...   \n",
       " 1841287          Skole   Normal Dag  Normal Dag   453.333333  18.7     NaN   \n",
       " 1841323         Fritid   Normal Dag  Normal Dag   420.333333  20.0     NaN   \n",
       " 1841442         Fritid   Normal Dag  Normal Dag   405.333333  18.7     NaN   \n",
       " 1841666          Skole   Normal Dag  Normal Dag   438.000000  19.2     NaN   \n",
       " 1841677          Skole   Normal Dag  Normal Dag  2184.000000  19.2     NaN   \n",
       " \n",
       "               IAQ  BOOKET  SKEMALAGT              SKOLE_ID  \n",
       " 232      0.023333     NaN        NaN  Strandskolen_06.S.13  \n",
       " 356      0.030000     NaN        NaN  Strandskolen_06.S.13  \n",
       " 364      0.033333     NaN        NaN  Strandskolen_06.S.13  \n",
       " 474      0.030000     NaN        NaN  Strandskolen_06.S.13  \n",
       " 529      0.206667     NaN        NaN  Strandskolen_06.S.13  \n",
       " ...           ...     ...        ...                   ...  \n",
       " 1841287  0.020000     NaN        NaN  Strandskolen_06.S.13  \n",
       " 1841323  0.020000     NaN        NaN  Strandskolen_06.S.13  \n",
       " 1841442  0.020000     NaN        NaN  Strandskolen_06.S.13  \n",
       " 1841666  0.246667     NaN        NaN  Strandskolen_06.S.13  \n",
       " 1841677  1.183333     NaN        NaN  Strandskolen_06.S.13  \n",
       " \n",
       " [24777 rows x 16 columns],\n",
       " 'Strandskolen_06.S.15':               ID KOMMUNE         SKOLE        DATE      TIME  DAYNAME  \\\n",
       " 2007     06.S.15  Aarhus  Strandskolen  2023-10-05  10:00:00  Torsdag   \n",
       " 5143     06.S.15  Aarhus  Strandskolen  2023-09-24  21:30:00  Soendag   \n",
       " 9009     06.S.15  Aarhus  Strandskolen  2023-09-29  04:00:00   Fredag   \n",
       " 15835    06.S.15  Aarhus  Strandskolen  2023-09-25  21:30:00   Mandag   \n",
       " 16596    06.S.15  Aarhus  Strandskolen  2023-10-11  03:00:00   Onsdag   \n",
       " ...          ...     ...           ...         ...       ...      ...   \n",
       " 1836884  06.S.15  Aarhus  Strandskolen  2023-10-08  09:15:00  Soendag   \n",
       " 1837623  06.S.15  Aarhus  Strandskolen  2023-10-07  20:15:00  Loerdag   \n",
       " 1838038  06.S.15  Aarhus  Strandskolen  2023-10-06  04:30:00   Fredag   \n",
       " 1838779  06.S.15  Aarhus  Strandskolen  2023-09-24  03:45:00  Soendag   \n",
       " 1840030  06.S.15  Aarhus  Strandskolen  2023-09-25  06:45:00   Mandag   \n",
       " \n",
       "         TIDSPUNKT_TYPE        TYPE        NAVN         CO2       TEMP  MOTION  \\\n",
       " 2007             Skole  Normal Dag  Normal Dag  461.000000  19.600000     NaN   \n",
       " 5143            Fritid  Normal Dag  Normal Dag  443.666667  21.333333     NaN   \n",
       " 9009             Skole  Normal Dag  Normal Dag  459.000000  21.600000     NaN   \n",
       " 15835           Fritid  Normal Dag  Normal Dag  543.000000  21.400000     NaN   \n",
       " 16596            Skole  Normal Dag  Normal Dag  470.000000  21.900000     NaN   \n",
       " ...                ...         ...         ...         ...        ...     ...   \n",
       " 1836884         Fritid  Normal Dag  Normal Dag  453.000000  18.700000     NaN   \n",
       " 1837623         Fritid  Normal Dag  Normal Dag  430.000000  19.100000     NaN   \n",
       " 1838038          Skole  Normal Dag  Normal Dag  453.000000  19.100000     NaN   \n",
       " 1838779         Fritid  Normal Dag  Normal Dag  429.000000  21.000000     NaN   \n",
       " 1840030          Skole  Normal Dag  Normal Dag  876.000000  21.500000     NaN   \n",
       " \n",
       "               IAQ  BOOKET  SKEMALAGT              SKOLE_ID  \n",
       " 2007     0.020000     NaN        NaN  Strandskolen_06.S.15  \n",
       " 5143     0.086667     NaN        NaN  Strandskolen_06.S.15  \n",
       " 9009     0.020000     NaN        NaN  Strandskolen_06.S.15  \n",
       " 15835    0.030000     NaN        NaN  Strandskolen_06.S.15  \n",
       " 16596    0.020000     NaN        NaN  Strandskolen_06.S.15  \n",
       " ...           ...     ...        ...                   ...  \n",
       " 1836884  0.020000     NaN        NaN  Strandskolen_06.S.15  \n",
       " 1837623  0.020000     NaN        NaN  Strandskolen_06.S.15  \n",
       " 1838038  0.020000     NaN        NaN  Strandskolen_06.S.15  \n",
       " 1838779  0.020000     NaN        NaN  Strandskolen_06.S.15  \n",
       " 1840030  0.080000     NaN        NaN  Strandskolen_06.S.15  \n",
       " \n",
       " [1434 rows x 16 columns],\n",
       " 'Strandskolen_06.S.16':               ID KOMMUNE         SKOLE        DATE      TIME  DAYNAME  \\\n",
       " 59       06.S.16  Aarhus  Strandskolen  2023-01-10  21:30:00  Tirsdag   \n",
       " 309      06.S.16  Aarhus  Strandskolen  2022-11-09  19:15:00   Onsdag   \n",
       " 323      06.S.16  Aarhus  Strandskolen  2022-09-19  13:30:00   Mandag   \n",
       " 403      06.S.16  Aarhus  Strandskolen  2023-03-29  22:15:00   Onsdag   \n",
       " 420      06.S.16  Aarhus  Strandskolen  2023-02-22  11:00:00   Onsdag   \n",
       " ...          ...     ...           ...         ...       ...      ...   \n",
       " 1841087  06.S.16  Aarhus  Strandskolen  2022-09-30  09:00:00   Fredag   \n",
       " 1841437  06.S.16  Aarhus  Strandskolen  2023-01-05  00:45:00  Torsdag   \n",
       " 1841571  06.S.16  Aarhus  Strandskolen  2023-01-31  16:30:00  Tirsdag   \n",
       " 1841894  06.S.16  Aarhus  Strandskolen  2023-02-28  19:15:00  Tirsdag   \n",
       " 1841974  06.S.16  Aarhus  Strandskolen  2023-01-19  08:30:00  Torsdag   \n",
       " \n",
       "         TIDSPUNKT_TYPE        TYPE        NAVN         CO2       TEMP  MOTION  \\\n",
       " 59              Fritid  Normal Dag  Normal Dag  617.666667  20.033333     NaN   \n",
       " 309             Fritid  Normal Dag  Normal Dag  795.000000  19.400000     NaN   \n",
       " 323              Skole  Normal Dag  Normal Dag  672.000000  20.300000     NaN   \n",
       " 403             Fritid  Normal Dag  Normal Dag  538.000000  19.433333     NaN   \n",
       " 420              Skole  Normal Dag  Normal Dag  838.000000  19.300000     NaN   \n",
       " ...                ...         ...         ...         ...        ...     ...   \n",
       " 1841087          Skole  Normal Dag  Normal Dag  448.000000  18.366667     NaN   \n",
       " 1841437          Skole  Normal Dag  Normal Dag  468.333333  20.900000     NaN   \n",
       " 1841571         Fritid  Normal Dag  Normal Dag  498.333333  18.766667     NaN   \n",
       " 1841894         Fritid  Normal Dag  Normal Dag  616.666667  18.433333     NaN   \n",
       " 1841974          Skole  Normal Dag  Normal Dag  548.666667  19.400000     NaN   \n",
       " \n",
       "               IAQ  BOOKET  SKEMALAGT              SKOLE_ID  \n",
       " 59       0.026667     NaN        NaN  Strandskolen_06.S.16  \n",
       " 309      0.030000     NaN        NaN  Strandskolen_06.S.16  \n",
       " 323      0.073333     NaN        NaN  Strandskolen_06.S.16  \n",
       " 403      0.050000     NaN        NaN  Strandskolen_06.S.16  \n",
       " 420      0.020000     NaN        NaN  Strandskolen_06.S.16  \n",
       " ...           ...     ...        ...                   ...  \n",
       " 1841087  0.026667     NaN        NaN  Strandskolen_06.S.16  \n",
       " 1841437  0.050000     NaN        NaN  Strandskolen_06.S.16  \n",
       " 1841571  0.040000     NaN        NaN  Strandskolen_06.S.16  \n",
       " 1841894  0.030000     NaN        NaN  Strandskolen_06.S.16  \n",
       " 1841974  0.040000     NaN        NaN  Strandskolen_06.S.16  \n",
       " \n",
       " [26067 rows x 16 columns],\n",
       " 'Strandskolen_07.S.17':               ID KOMMUNE         SKOLE        DATE      TIME  DAYNAME  \\\n",
       " 15       07.S.17  Aarhus  Strandskolen  2022-12-30  21:15:00   Fredag   \n",
       " 166      07.S.17  Aarhus  Strandskolen  2022-12-01  04:15:00  Torsdag   \n",
       " 175      07.S.17  Aarhus  Strandskolen  2023-01-23  07:45:00   Mandag   \n",
       " 214      07.S.17  Aarhus  Strandskolen  2022-10-09  19:30:00  Soendag   \n",
       " 218      07.S.17  Aarhus  Strandskolen  2023-03-21  02:00:00  Tirsdag   \n",
       " ...          ...     ...           ...         ...       ...      ...   \n",
       " 1841451  07.S.17  Aarhus  Strandskolen  2023-03-12  08:30:00  Soendag   \n",
       " 1841491  07.S.17  Aarhus  Strandskolen  2023-09-23  17:45:00  Loerdag   \n",
       " 1841589  07.S.17  Aarhus  Strandskolen  2023-01-01  03:15:00  Soendag   \n",
       " 1841959  07.S.17  Aarhus  Strandskolen  2023-09-27  23:15:00   Onsdag   \n",
       " 1842014  07.S.17  Aarhus  Strandskolen  2022-12-14  13:45:00   Onsdag   \n",
       " \n",
       "         TIDSPUNKT_TYPE         TYPE        NAVN         CO2       TEMP  \\\n",
       " 15              Fritid  Skole-ferie   Juleferie  417.000000  14.900000   \n",
       " 166              Skole   Normal Dag  Normal Dag  445.333333  20.500000   \n",
       " 175              Skole   Normal Dag  Normal Dag  644.333333  19.533333   \n",
       " 214             Fritid   Normal Dag  Normal Dag  480.666667  20.200000   \n",
       " 218              Skole   Normal Dag  Normal Dag  452.000000  19.200000   \n",
       " ...                ...          ...         ...         ...        ...   \n",
       " 1841451         Fritid   Normal Dag  Normal Dag  402.000000  19.100000   \n",
       " 1841491         Fritid   Normal Dag  Normal Dag  397.000000  20.000000   \n",
       " 1841589         Fritid    Helligdag   Nytårsdag  461.000000  14.900000   \n",
       " 1841959         Fritid   Normal Dag  Normal Dag  441.000000  20.500000   \n",
       " 1842014          Skole   Normal Dag  Normal Dag  882.666667  21.633333   \n",
       " \n",
       "          MOTION       IAQ  BOOKET  SKEMALAGT              SKOLE_ID  \n",
       " 15          NaN  0.020000     NaN        NaN  Strandskolen_07.S.17  \n",
       " 166         NaN  0.020000     NaN        NaN  Strandskolen_07.S.17  \n",
       " 175         NaN  0.026667     NaN        NaN  Strandskolen_07.S.17  \n",
       " 214         NaN  0.030000     NaN        NaN  Strandskolen_07.S.17  \n",
       " 218         NaN  0.026667     NaN        NaN  Strandskolen_07.S.17  \n",
       " ...         ...       ...     ...        ...                   ...  \n",
       " 1841451     NaN  0.130000     NaN        NaN  Strandskolen_07.S.17  \n",
       " 1841491     NaN  0.020000     NaN        NaN  Strandskolen_07.S.17  \n",
       " 1841589     NaN  0.030000     NaN        NaN  Strandskolen_07.S.17  \n",
       " 1841959     NaN  0.050000     NaN        NaN  Strandskolen_07.S.17  \n",
       " 1842014     NaN  0.170000     NaN        NaN  Strandskolen_07.S.17  \n",
       " \n",
       " [26065 rows x 16 columns],\n",
       " 'Strandskolen_07.S.20':               ID KOMMUNE         SKOLE        DATE      TIME  DAYNAME  \\\n",
       " 55       07.S.20  Aarhus  Strandskolen  2023-02-04  07:45:00  Loerdag   \n",
       " 90       07.S.20  Aarhus  Strandskolen  2023-09-26  02:45:00  Tirsdag   \n",
       " 216      07.S.20  Aarhus  Strandskolen  2023-02-27  13:45:00   Mandag   \n",
       " 230      07.S.20  Aarhus  Strandskolen  2023-05-11  05:15:00  Torsdag   \n",
       " 319      07.S.20  Aarhus  Strandskolen  2023-03-05  05:30:00  Soendag   \n",
       " ...          ...     ...           ...         ...       ...      ...   \n",
       " 1841480  07.S.20  Aarhus  Strandskolen  2022-12-15  05:30:00  Torsdag   \n",
       " 1841502  07.S.20  Aarhus  Strandskolen  2023-03-04  17:30:00  Loerdag   \n",
       " 1841561  07.S.20  Aarhus  Strandskolen  2023-03-01  23:30:00   Onsdag   \n",
       " 1841654  07.S.20  Aarhus  Strandskolen  2023-01-23  02:45:00   Mandag   \n",
       " 1841901  07.S.20  Aarhus  Strandskolen  2023-10-05  23:30:00  Torsdag   \n",
       " \n",
       "         TIDSPUNKT_TYPE        TYPE        NAVN          CO2       TEMP  \\\n",
       " 55              Fritid  Normal Dag  Normal Dag   405.666667  19.800000   \n",
       " 90               Skole  Normal Dag  Normal Dag   483.000000  21.400000   \n",
       " 216              Skole  Normal Dag  Normal Dag  1257.000000  23.166667   \n",
       " 230              Skole  Normal Dag  Normal Dag   521.000000  21.600000   \n",
       " 319             Fritid  Normal Dag  Normal Dag   402.666667  21.100000   \n",
       " ...                ...         ...         ...          ...        ...   \n",
       " 1841480          Skole  Normal Dag  Normal Dag   452.000000  19.533333   \n",
       " 1841502         Fritid  Normal Dag  Normal Dag   407.333333  22.133333   \n",
       " 1841561         Fritid  Normal Dag  Normal Dag   582.000000  22.100000   \n",
       " 1841654          Skole  Normal Dag  Normal Dag   515.333333  20.100000   \n",
       " 1841901         Fritid  Normal Dag  Normal Dag   426.000000  20.700000   \n",
       " \n",
       "          MOTION       IAQ  BOOKET  SKEMALAGT              SKOLE_ID  \n",
       " 55          NaN  0.030000     NaN        NaN  Strandskolen_07.S.20  \n",
       " 90          NaN  0.030000     NaN        NaN  Strandskolen_07.S.20  \n",
       " 216         NaN  2.533333     NaN        NaN  Strandskolen_07.S.20  \n",
       " 230         NaN  0.020000     NaN        NaN  Strandskolen_07.S.20  \n",
       " 319         NaN  0.020000     NaN        NaN  Strandskolen_07.S.20  \n",
       " ...         ...       ...     ...        ...                   ...  \n",
       " 1841480     NaN  0.020000     NaN        NaN  Strandskolen_07.S.20  \n",
       " 1841502     NaN  0.020000     NaN        NaN  Strandskolen_07.S.20  \n",
       " 1841561     NaN  0.023333     NaN        NaN  Strandskolen_07.S.20  \n",
       " 1841654     NaN  0.033333     NaN        NaN  Strandskolen_07.S.20  \n",
       " 1841901     NaN  0.060000     NaN        NaN  Strandskolen_07.S.20  \n",
       " \n",
       " [25733 rows x 16 columns],\n",
       " 'Strandskolen_07.S.40':               ID KOMMUNE         SKOLE        DATE      TIME  DAYNAME  \\\n",
       " 26       07.S.40  Aarhus  Strandskolen  2023-01-22  01:30:00  Soendag   \n",
       " 264      07.S.40  Aarhus  Strandskolen  2023-01-16  18:30:00   Mandag   \n",
       " 330      07.S.40  Aarhus  Strandskolen  2023-01-29  00:45:00  Soendag   \n",
       " 455      07.S.40  Aarhus  Strandskolen  2023-03-06  04:15:00   Mandag   \n",
       " 509      07.S.40  Aarhus  Strandskolen  2022-12-22  09:15:00  Torsdag   \n",
       " ...          ...     ...           ...         ...       ...      ...   \n",
       " 1841034  07.S.40  Aarhus  Strandskolen  2022-09-11  06:15:00  Soendag   \n",
       " 1841550  07.S.40  Aarhus  Strandskolen  2023-01-27  09:30:00   Fredag   \n",
       " 1841651  07.S.40  Aarhus  Strandskolen  2022-10-03  15:45:00   Mandag   \n",
       " 1841694  07.S.40  Aarhus  Strandskolen  2022-09-08  11:30:00  Torsdag   \n",
       " 1842164  07.S.40  Aarhus  Strandskolen  2023-09-23  11:15:00  Loerdag   \n",
       " \n",
       "         TIDSPUNKT_TYPE        TYPE        NAVN         CO2       TEMP  MOTION  \\\n",
       " 26              Fritid  Normal Dag  Normal Dag  504.000000  18.566667     NaN   \n",
       " 264             Fritid  Normal Dag  Normal Dag  412.000000  18.700000     NaN   \n",
       " 330             Fritid  Normal Dag  Normal Dag  415.666667  18.400000     NaN   \n",
       " 455              Skole  Normal Dag  Normal Dag  428.333333  18.766667     NaN   \n",
       " 509              Skole  Normal Dag  Normal Dag  372.666667  18.733333     NaN   \n",
       " ...                ...         ...         ...         ...        ...     ...   \n",
       " 1841034         Fritid  Normal Dag  Normal Dag  409.666667  21.300000     NaN   \n",
       " 1841550          Skole  Normal Dag  Normal Dag  616.000000  19.400000     NaN   \n",
       " 1841651          Skole  Normal Dag  Normal Dag  466.000000  20.000000     NaN   \n",
       " 1841694          Skole  Normal Dag  Normal Dag  710.000000  22.200000     NaN   \n",
       " 1842164         Fritid  Normal Dag  Normal Dag  444.000000  20.000000     NaN   \n",
       " \n",
       "               IAQ  BOOKET  SKEMALAGT              SKOLE_ID  \n",
       " 26       6.286667     NaN        NaN  Strandskolen_07.S.40  \n",
       " 264      5.480000     NaN        NaN  Strandskolen_07.S.40  \n",
       " 330      3.116667     NaN        NaN  Strandskolen_07.S.40  \n",
       " 455      0.040000     NaN        NaN  Strandskolen_07.S.40  \n",
       " 509      3.730000     NaN        NaN  Strandskolen_07.S.40  \n",
       " ...           ...     ...        ...                   ...  \n",
       " 1841034  0.020000     NaN        NaN  Strandskolen_07.S.40  \n",
       " 1841550  6.480000     NaN        NaN  Strandskolen_07.S.40  \n",
       " 1841651  0.040000     NaN        NaN  Strandskolen_07.S.40  \n",
       " 1841694  0.050000     NaN        NaN  Strandskolen_07.S.40  \n",
       " 1842164  0.020000     NaN        NaN  Strandskolen_07.S.40  \n",
       " \n",
       " [19376 rows x 16 columns],\n",
       " 'Strandskolen_08.S.02':               ID KOMMUNE         SKOLE        DATE      TIME  DAYNAME  \\\n",
       " 14       08.S.02  Aarhus  Strandskolen  2022-10-27  18:00:00  Torsdag   \n",
       " 43       08.S.02  Aarhus  Strandskolen  2022-12-20  06:45:00  Tirsdag   \n",
       " 62       08.S.02  Aarhus  Strandskolen  2022-11-22  17:00:00  Tirsdag   \n",
       " 78       08.S.02  Aarhus  Strandskolen  2022-10-02  04:30:00  Soendag   \n",
       " 82       08.S.02  Aarhus  Strandskolen  2022-11-03  17:00:00  Torsdag   \n",
       " ...          ...     ...           ...         ...       ...      ...   \n",
       " 1841478  08.S.02  Aarhus  Strandskolen  2023-04-10  08:15:00   Mandag   \n",
       " 1841597  08.S.02  Aarhus  Strandskolen  2023-04-21  14:15:00   Fredag   \n",
       " 1841620  08.S.02  Aarhus  Strandskolen  2022-12-03  23:45:00  Loerdag   \n",
       " 1841916  08.S.02  Aarhus  Strandskolen  2022-12-18  03:00:00  Soendag   \n",
       " 1842067  08.S.02  Aarhus  Strandskolen  2022-12-19  02:30:00   Mandag   \n",
       " \n",
       "         TIDSPUNKT_TYPE         TYPE        NAVN         CO2       TEMP  \\\n",
       " 14              Fritid   Normal Dag  Normal Dag  477.666667  19.500000   \n",
       " 43               Skole   Normal Dag  Normal Dag  439.333333  18.500000   \n",
       " 62              Fritid   Normal Dag  Normal Dag  468.000000  18.500000   \n",
       " 78              Fritid   Normal Dag  Normal Dag  431.333333  18.300000   \n",
       " 82              Fritid   Normal Dag  Normal Dag  416.000000  18.600000   \n",
       " ...                ...          ...         ...         ...        ...   \n",
       " 1841478          Skole  Skole-ferie  Påskeferie  430.666667  19.800000   \n",
       " 1841597          Skole   Normal Dag  Normal Dag  610.000000  21.900000   \n",
       " 1841620         Fritid   Normal Dag  Normal Dag  422.333333  19.100000   \n",
       " 1841916         Fritid   Normal Dag  Normal Dag  447.333333  17.866667   \n",
       " 1842067          Skole   Normal Dag  Normal Dag  451.000000  17.500000   \n",
       " \n",
       "          MOTION       IAQ  BOOKET  SKEMALAGT              SKOLE_ID  \n",
       " 14          NaN  0.023333     1.0        NaN  Strandskolen_08.S.02  \n",
       " 43          NaN  0.026667     NaN        NaN  Strandskolen_08.S.02  \n",
       " 62          NaN  0.080000     1.0        NaN  Strandskolen_08.S.02  \n",
       " 78          NaN  0.030000     NaN        NaN  Strandskolen_08.S.02  \n",
       " 82          NaN  0.060000     1.0        NaN  Strandskolen_08.S.02  \n",
       " ...         ...       ...     ...        ...                   ...  \n",
       " 1841478     NaN  0.040000     NaN        NaN  Strandskolen_08.S.02  \n",
       " 1841597     NaN  0.023333     NaN        NaN  Strandskolen_08.S.02  \n",
       " 1841620     NaN  0.023333     NaN        NaN  Strandskolen_08.S.02  \n",
       " 1841916     NaN  0.030000     NaN        NaN  Strandskolen_08.S.02  \n",
       " 1842067     NaN  0.040000     NaN        NaN  Strandskolen_08.S.02  \n",
       " \n",
       " [24017 rows x 16 columns],\n",
       " 'Strandskolen_08.S.05':               ID KOMMUNE         SKOLE        DATE      TIME  DAYNAME  \\\n",
       " 4        08.S.05  Aarhus  Strandskolen  2022-09-20  16:00:00  Tirsdag   \n",
       " 5        08.S.05  Aarhus  Strandskolen  2022-09-29  20:15:00  Torsdag   \n",
       " 6        08.S.05  Aarhus  Strandskolen  2022-10-04  17:30:00  Tirsdag   \n",
       " 9        08.S.05  Aarhus  Strandskolen  2022-10-25  17:00:00  Tirsdag   \n",
       " 42       08.S.05  Aarhus  Strandskolen  2022-11-17  17:15:00  Torsdag   \n",
       " ...          ...     ...           ...         ...       ...      ...   \n",
       " 1840868  08.S.05  Aarhus  Strandskolen  2022-10-09  10:00:00  Soendag   \n",
       " 1840906  08.S.05  Aarhus  Strandskolen  2022-11-05  20:45:00  Loerdag   \n",
       " 1841031  08.S.05  Aarhus  Strandskolen  2022-10-23  14:30:00  Soendag   \n",
       " 1841194  08.S.05  Aarhus  Strandskolen  2022-10-20  00:30:00  Torsdag   \n",
       " 1842124  08.S.05  Aarhus  Strandskolen  2023-10-01  22:45:00  Soendag   \n",
       " \n",
       "         TIDSPUNKT_TYPE         TYPE            NAVN         CO2  TEMP  MOTION  \\\n",
       " 4               Fritid   Normal Dag      Normal Dag  524.666667  21.1     NaN   \n",
       " 5               Fritid   Normal Dag      Normal Dag  399.666667  17.8     NaN   \n",
       " 6               Fritid   Normal Dag      Normal Dag  510.666667  20.8     NaN   \n",
       " 9               Fritid   Normal Dag      Normal Dag  399.666667  20.4     NaN   \n",
       " 42              Fritid   Normal Dag      Normal Dag  688.666667  18.9     NaN   \n",
       " ...                ...          ...             ...         ...   ...     ...   \n",
       " 1840868         Fritid   Normal Dag      Normal Dag  530.333333  19.7     NaN   \n",
       " 1840906         Fritid   Normal Dag      Normal Dag  369.666667  18.7     NaN   \n",
       " 1841031         Fritid  Skole-ferie  Efteraarsferie  438.666667  20.9     NaN   \n",
       " 1841194          Skole  Skole-ferie  Efteraarsferie  449.666667  18.0     NaN   \n",
       " 1842124         Fritid   Normal Dag      Normal Dag  494.000000  18.7     NaN   \n",
       " \n",
       "               IAQ  BOOKET  SKEMALAGT              SKOLE_ID  \n",
       " 4        0.050000     1.0        NaN  Strandskolen_08.S.05  \n",
       " 5        0.030000     1.0        NaN  Strandskolen_08.S.05  \n",
       " 6        0.130000     1.0        NaN  Strandskolen_08.S.05  \n",
       " 9        0.236667     1.0        NaN  Strandskolen_08.S.05  \n",
       " 42       0.270000     1.0        NaN  Strandskolen_08.S.05  \n",
       " ...           ...     ...        ...                   ...  \n",
       " 1840868  0.020000     NaN        NaN  Strandskolen_08.S.05  \n",
       " 1840906  0.030000     NaN        NaN  Strandskolen_08.S.05  \n",
       " 1841031  0.030000     NaN        NaN  Strandskolen_08.S.05  \n",
       " 1841194  0.020000     NaN        NaN  Strandskolen_08.S.05  \n",
       " 1842124  0.040000     NaN        NaN  Strandskolen_08.S.05  \n",
       " \n",
       " [25875 rows x 16 columns],\n",
       " 'Strandskolen_08.S.07':               ID KOMMUNE         SKOLE        DATE      TIME  DAYNAME  \\\n",
       " 77       08.S.07  Aarhus  Strandskolen  2023-04-08  05:30:00  Loerdag   \n",
       " 693      08.S.07  Aarhus  Strandskolen  2023-04-18  08:15:00  Tirsdag   \n",
       " 777      08.S.07  Aarhus  Strandskolen  2022-09-10  15:00:00  Loerdag   \n",
       " 793      08.S.07  Aarhus  Strandskolen  2022-09-26  20:45:00   Mandag   \n",
       " 842      08.S.07  Aarhus  Strandskolen  2023-04-16  11:15:00  Soendag   \n",
       " ...          ...     ...           ...         ...       ...      ...   \n",
       " 1840895  08.S.07  Aarhus  Strandskolen  2022-09-11  02:30:00  Soendag   \n",
       " 1841001  08.S.07  Aarhus  Strandskolen  2023-04-08  17:00:00  Loerdag   \n",
       " 1841264  08.S.07  Aarhus  Strandskolen  2023-04-04  18:00:00  Tirsdag   \n",
       " 1841627  08.S.07  Aarhus  Strandskolen  2023-04-11  17:45:00  Tirsdag   \n",
       " 1841726  08.S.07  Aarhus  Strandskolen  2023-10-04  23:45:00   Onsdag   \n",
       " \n",
       "         TIDSPUNKT_TYPE         TYPE        NAVN         CO2       TEMP  \\\n",
       " 77              Fritid  Skole-ferie  Påskeferie  415.666667  18.100000   \n",
       " 693              Skole   Normal Dag  Normal Dag  693.000000  19.066667   \n",
       " 777             Fritid   Normal Dag  Normal Dag  398.333333  21.800000   \n",
       " 793             Fritid   Normal Dag  Normal Dag  410.000000  19.500000   \n",
       " 842             Fritid   Normal Dag  Normal Dag  436.666667  18.700000   \n",
       " ...                ...          ...         ...         ...        ...   \n",
       " 1840895         Fritid   Normal Dag  Normal Dag  393.333333  20.933333   \n",
       " 1841001         Fritid  Skole-ferie  Påskeferie  473.333333  21.200000   \n",
       " 1841264         Fritid  Skole-ferie  Påskeferie  414.333333  19.500000   \n",
       " 1841627         Fritid   Normal Dag  Normal Dag  452.333333  20.366667   \n",
       " 1841726         Fritid   Normal Dag  Normal Dag  406.000000  18.600000   \n",
       " \n",
       "          MOTION       IAQ  BOOKET  SKEMALAGT              SKOLE_ID  \n",
       " 77          NaN  0.050000     NaN        NaN  Strandskolen_08.S.07  \n",
       " 693         NaN  0.033333     NaN        NaN  Strandskolen_08.S.07  \n",
       " 777         NaN  0.020000     NaN        NaN  Strandskolen_08.S.07  \n",
       " 793         NaN  0.030000     NaN        NaN  Strandskolen_08.S.07  \n",
       " 842         NaN  0.043333     NaN        NaN  Strandskolen_08.S.07  \n",
       " ...         ...       ...     ...        ...                   ...  \n",
       " 1840895     NaN  0.020000     NaN        NaN  Strandskolen_08.S.07  \n",
       " 1841001     NaN  0.193333     NaN        NaN  Strandskolen_08.S.07  \n",
       " 1841264     NaN  0.080000     NaN        NaN  Strandskolen_08.S.07  \n",
       " 1841627     NaN  0.563333     NaN        NaN  Strandskolen_08.S.07  \n",
       " 1841726     NaN  0.030000     NaN        NaN  Strandskolen_08.S.07  \n",
       " \n",
       " [9358 rows x 16 columns],\n",
       " 'Strandskolen_09.S.04':               ID KOMMUNE         SKOLE        DATE      TIME  DAYNAME  \\\n",
       " 0        09.S.04  Aarhus  Strandskolen  2022-09-08  15:30:00  Torsdag   \n",
       " 1        09.S.04  Aarhus  Strandskolen  2022-09-06  17:00:00  Tirsdag   \n",
       " 2        09.S.04  Aarhus  Strandskolen  2022-09-27  19:00:00  Tirsdag   \n",
       " 10       09.S.04  Aarhus  Strandskolen  2022-11-14  15:15:00   Mandag   \n",
       " 21       09.S.04  Aarhus  Strandskolen  2022-11-29  19:00:00  Tirsdag   \n",
       " ...          ...     ...           ...         ...       ...      ...   \n",
       " 1841280  09.S.04  Aarhus  Strandskolen  2023-02-14  13:15:00  Tirsdag   \n",
       " 1841623  09.S.04  Aarhus  Strandskolen  2022-10-29  03:45:00  Loerdag   \n",
       " 1841672  09.S.04  Aarhus  Strandskolen  2023-04-08  09:30:00  Loerdag   \n",
       " 1841704  09.S.04  Aarhus  Strandskolen  2023-01-06  09:00:00   Fredag   \n",
       " 1842112  09.S.04  Aarhus  Strandskolen  2022-12-17  16:30:00  Loerdag   \n",
       " \n",
       "         TIDSPUNKT_TYPE         TYPE         NAVN          CO2       TEMP  \\\n",
       " 0                Skole   Normal Dag   Normal Dag   688.333333  23.533333   \n",
       " 1               Fritid   Normal Dag   Normal Dag   556.666667  23.500000   \n",
       " 2               Fritid   Normal Dag   Normal Dag  1383.333333  20.900000   \n",
       " 10               Skole   Normal Dag   Normal Dag   871.000000  19.300000   \n",
       " 21              Fritid   Normal Dag   Normal Dag  1233.000000  20.700000   \n",
       " ...                ...          ...          ...          ...        ...   \n",
       " 1841280          Skole  Skole-ferie  Vinterferie   393.333333  20.200000   \n",
       " 1841623         Fritid   Normal Dag   Normal Dag   503.333333  19.200000   \n",
       " 1841672         Fritid  Skole-ferie   Påskeferie   434.666667  21.066667   \n",
       " 1841704          Skole   Normal Dag   Normal Dag   740.333333  18.533333   \n",
       " 1842112         Fritid   Normal Dag   Normal Dag   443.333333  18.000000   \n",
       " \n",
       "          MOTION       IAQ  BOOKET  SKEMALAGT              SKOLE_ID  \n",
       " 0           NaN  0.040000     1.0        NaN  Strandskolen_09.S.04  \n",
       " 1           NaN  0.040000     1.0        NaN  Strandskolen_09.S.04  \n",
       " 2           NaN  0.050000     1.0        NaN  Strandskolen_09.S.04  \n",
       " 10          NaN  0.030000     1.0        NaN  Strandskolen_09.S.04  \n",
       " 21          NaN  0.050000     1.0        NaN  Strandskolen_09.S.04  \n",
       " ...         ...       ...     ...        ...                   ...  \n",
       " 1841280     NaN  0.020000     NaN        NaN  Strandskolen_09.S.04  \n",
       " 1841623     NaN  0.030000     NaN        NaN  Strandskolen_09.S.04  \n",
       " 1841672     NaN  0.023333     NaN        NaN  Strandskolen_09.S.04  \n",
       " 1841704     NaN  0.020000     NaN        NaN  Strandskolen_09.S.04  \n",
       " 1842112     NaN  0.040000     NaN        NaN  Strandskolen_09.S.04  \n",
       " \n",
       " [25053 rows x 16 columns],\n",
       " 'Strandskolen_09.S.05':               ID KOMMUNE         SKOLE        DATE      TIME  DAYNAME  \\\n",
       " 73       09.S.05  Aarhus  Strandskolen  2022-12-17  19:30:00  Loerdag   \n",
       " 223      09.S.05  Aarhus  Strandskolen  2023-02-21  15:30:00  Tirsdag   \n",
       " 258      09.S.05  Aarhus  Strandskolen  2023-03-07  05:15:00  Tirsdag   \n",
       " 282      09.S.05  Aarhus  Strandskolen  2023-01-29  03:15:00  Soendag   \n",
       " 314      09.S.05  Aarhus  Strandskolen  2022-09-21  08:00:00   Onsdag   \n",
       " ...          ...     ...           ...         ...       ...      ...   \n",
       " 1841645  09.S.05  Aarhus  Strandskolen  2023-03-05  02:30:00  Soendag   \n",
       " 1841807  09.S.05  Aarhus  Strandskolen  2023-03-09  00:45:00  Torsdag   \n",
       " 1841879  09.S.05  Aarhus  Strandskolen  2022-10-27  10:45:00  Torsdag   \n",
       " 1841911  09.S.05  Aarhus  Strandskolen  2023-10-09  05:30:00   Mandag   \n",
       " 1842133  09.S.05  Aarhus  Strandskolen  2023-02-20  09:30:00   Mandag   \n",
       " \n",
       "         TIDSPUNKT_TYPE        TYPE        NAVN          CO2       TEMP  \\\n",
       " 73              Fritid  Normal Dag  Normal Dag   437.666667  19.900000   \n",
       " 223              Skole  Normal Dag  Normal Dag   668.000000  20.300000   \n",
       " 258              Skole  Normal Dag  Normal Dag   421.666667  19.933333   \n",
       " 282             Fritid  Normal Dag  Normal Dag   393.666667  19.600000   \n",
       " 314              Skole  Normal Dag  Normal Dag   639.333333  21.066667   \n",
       " ...                ...         ...         ...          ...        ...   \n",
       " 1841645         Fritid  Normal Dag  Normal Dag   394.666667  20.033333   \n",
       " 1841807          Skole  Normal Dag  Normal Dag   491.666667  20.066667   \n",
       " 1841879          Skole  Normal Dag  Normal Dag  1817.000000  21.366667   \n",
       " 1841911          Skole  Normal Dag  Normal Dag   489.000000  17.500000   \n",
       " 1842133          Skole  Normal Dag  Normal Dag  2742.000000  21.900000   \n",
       " \n",
       "          MOTION       IAQ  BOOKET  SKEMALAGT              SKOLE_ID  \n",
       " 73          NaN  0.020000     NaN        NaN  Strandskolen_09.S.05  \n",
       " 223         NaN  0.036667     NaN        NaN  Strandskolen_09.S.05  \n",
       " 258         NaN  0.020000     NaN        NaN  Strandskolen_09.S.05  \n",
       " 282         NaN  0.030000     NaN        NaN  Strandskolen_09.S.05  \n",
       " 314         NaN  0.023333     NaN        NaN  Strandskolen_09.S.05  \n",
       " ...         ...       ...     ...        ...                   ...  \n",
       " 1841645     NaN  0.020000     NaN        NaN  Strandskolen_09.S.05  \n",
       " 1841807     NaN  0.020000     NaN        NaN  Strandskolen_09.S.05  \n",
       " 1841879     NaN  0.056667     NaN        1.0  Strandskolen_09.S.05  \n",
       " 1841911     NaN  0.020000     NaN        NaN  Strandskolen_09.S.05  \n",
       " 1842133     NaN  1.180000     NaN        NaN  Strandskolen_09.S.05  \n",
       " \n",
       " [25752 rows x 16 columns],\n",
       " 'Strandskolen_09.S.06':               ID KOMMUNE         SKOLE        DATE      TIME  DAYNAME  \\\n",
       " 142      09.S.06  Aarhus  Strandskolen  2023-03-07  18:00:00  Tirsdag   \n",
       " 288      09.S.06  Aarhus  Strandskolen  2022-12-20  23:45:00  Tirsdag   \n",
       " 399      09.S.06  Aarhus  Strandskolen  2022-10-01  23:15:00  Loerdag   \n",
       " 682      09.S.06  Aarhus  Strandskolen  2023-03-23  04:00:00  Torsdag   \n",
       " 685      09.S.06  Aarhus  Strandskolen  2022-12-15  18:30:00  Torsdag   \n",
       " ...          ...     ...           ...         ...       ...      ...   \n",
       " 1841404  09.S.06  Aarhus  Strandskolen  2023-05-12  01:15:00   Fredag   \n",
       " 1841471  09.S.06  Aarhus  Strandskolen  2023-09-29  18:45:00   Fredag   \n",
       " 1841532  09.S.06  Aarhus  Strandskolen  2022-11-16  14:30:00   Onsdag   \n",
       " 1841584  09.S.06  Aarhus  Strandskolen  2022-10-28  14:00:00   Fredag   \n",
       " 1841962  09.S.06  Aarhus  Strandskolen  2023-10-10  07:45:00  Tirsdag   \n",
       " \n",
       "         TIDSPUNKT_TYPE        TYPE        NAVN          CO2       TEMP  \\\n",
       " 142             Fritid  Normal Dag  Normal Dag   562.666667  18.900000   \n",
       " 288             Fritid  Normal Dag  Normal Dag   939.000000  19.700000   \n",
       " 399             Fritid  Normal Dag  Normal Dag   445.000000  18.700000   \n",
       " 682              Skole  Normal Dag  Normal Dag   555.000000  19.000000   \n",
       " 685             Fritid  Normal Dag  Normal Dag  1435.666667  19.100000   \n",
       " ...                ...         ...         ...          ...        ...   \n",
       " 1841404          Skole  Normal Dag  Normal Dag   697.000000  21.400000   \n",
       " 1841471         Fritid  Normal Dag  Normal Dag   411.000000  20.200000   \n",
       " 1841532          Skole  Normal Dag  Normal Dag  1550.333333  18.966667   \n",
       " 1841584          Skole  Normal Dag  Normal Dag  2285.333333  22.000000   \n",
       " 1841962          Skole  Normal Dag  Normal Dag   432.000000  17.600000   \n",
       " \n",
       "          MOTION       IAQ  BOOKET  SKEMALAGT              SKOLE_ID  \n",
       " 142         NaN  0.020000     NaN        NaN  Strandskolen_09.S.06  \n",
       " 288         NaN  0.056667     NaN        NaN  Strandskolen_09.S.06  \n",
       " 399         NaN  0.020000     NaN        NaN  Strandskolen_09.S.06  \n",
       " 682         NaN  0.020000     NaN        NaN  Strandskolen_09.S.06  \n",
       " 685         NaN  0.020000     NaN        NaN  Strandskolen_09.S.06  \n",
       " ...         ...       ...     ...        ...                   ...  \n",
       " 1841404     NaN  0.056667     NaN        NaN  Strandskolen_09.S.06  \n",
       " 1841471     NaN  0.020000     NaN        NaN  Strandskolen_09.S.06  \n",
       " 1841532     NaN  0.060000     NaN        NaN  Strandskolen_09.S.06  \n",
       " 1841584     NaN  0.940000     NaN        NaN  Strandskolen_09.S.06  \n",
       " 1841962     NaN  0.020000     NaN        NaN  Strandskolen_09.S.06  \n",
       " \n",
       " [26002 rows x 16 columns],\n",
       " 'Strandskolen_09.S.07':               ID KOMMUNE         SKOLE        DATE      TIME  DAYNAME  \\\n",
       " 17       09.S.07  Aarhus  Strandskolen  2022-12-07  00:15:00   Onsdag   \n",
       " 20       09.S.07  Aarhus  Strandskolen  2023-01-16  06:00:00   Mandag   \n",
       " 76       09.S.07  Aarhus  Strandskolen  2022-09-26  03:30:00   Mandag   \n",
       " 153      09.S.07  Aarhus  Strandskolen  2022-09-22  02:15:00  Torsdag   \n",
       " 237      09.S.07  Aarhus  Strandskolen  2023-04-16  07:45:00  Soendag   \n",
       " ...          ...     ...           ...         ...       ...      ...   \n",
       " 1841224  09.S.07  Aarhus  Strandskolen  2022-09-13  07:15:00  Tirsdag   \n",
       " 1841470  09.S.07  Aarhus  Strandskolen  2023-01-09  10:45:00   Mandag   \n",
       " 1841558  09.S.07  Aarhus  Strandskolen  2023-10-04  12:30:00   Onsdag   \n",
       " 1841665  09.S.07  Aarhus  Strandskolen  2023-10-02  07:15:00   Mandag   \n",
       " 1841965  09.S.07  Aarhus  Strandskolen  2022-10-03  02:15:00   Mandag   \n",
       " \n",
       "         TIDSPUNKT_TYPE        TYPE        NAVN          CO2       TEMP  \\\n",
       " 17               Skole  Normal Dag  Normal Dag   917.333333  20.000000   \n",
       " 20               Skole  Normal Dag  Normal Dag   400.000000  20.800000   \n",
       " 76               Skole  Normal Dag  Normal Dag   458.000000  19.933333   \n",
       " 153              Skole  Normal Dag  Normal Dag   504.000000  20.833333   \n",
       " 237             Fritid  Normal Dag  Normal Dag   449.666667  19.333333   \n",
       " ...                ...         ...         ...          ...        ...   \n",
       " 1841224          Skole  Normal Dag  Normal Dag   450.333333  21.500000   \n",
       " 1841470          Skole  Normal Dag  Normal Dag  3324.333333  21.500000   \n",
       " 1841558          Skole  Normal Dag  Normal Dag   429.000000  18.100000   \n",
       " 1841665          Skole  Normal Dag  Normal Dag   497.000000  19.500000   \n",
       " 1841965          Skole  Normal Dag  Normal Dag   414.000000  19.100000   \n",
       " \n",
       "          MOTION       IAQ  BOOKET  SKEMALAGT              SKOLE_ID  \n",
       " 17          NaN  0.020000     NaN        NaN  Strandskolen_09.S.07  \n",
       " 20          NaN  0.093333     NaN        NaN  Strandskolen_09.S.07  \n",
       " 76          NaN  0.020000     NaN        NaN  Strandskolen_09.S.07  \n",
       " 153         NaN  0.020000     NaN        NaN  Strandskolen_09.S.07  \n",
       " 237         NaN  0.020000     NaN        NaN  Strandskolen_09.S.07  \n",
       " ...         ...       ...     ...        ...                   ...  \n",
       " 1841224     NaN  0.023333     NaN        NaN  Strandskolen_09.S.07  \n",
       " 1841470     NaN  0.933333     NaN        1.0  Strandskolen_09.S.07  \n",
       " 1841558     NaN  0.040000     NaN        NaN  Strandskolen_09.S.07  \n",
       " 1841665     NaN  0.050000     NaN        NaN  Strandskolen_09.S.07  \n",
       " 1841965     NaN  0.020000     NaN        NaN  Strandskolen_09.S.07  \n",
       " \n",
       " [24080 rows x 16 columns],\n",
       " 'Strandskolen_09.S.08':               ID KOMMUNE         SKOLE        DATE      TIME  DAYNAME  \\\n",
       " 170      09.S.08  Aarhus  Strandskolen  2022-12-05  15:15:00   Mandag   \n",
       " 247      09.S.08  Aarhus  Strandskolen  2023-01-26  07:15:00  Torsdag   \n",
       " 339      09.S.08  Aarhus  Strandskolen  2022-12-31  17:30:00  Loerdag   \n",
       " 477      09.S.08  Aarhus  Strandskolen  2023-09-24  20:00:00  Soendag   \n",
       " 616      09.S.08  Aarhus  Strandskolen  2022-12-25  19:00:00  Soendag   \n",
       " ...          ...     ...           ...         ...       ...      ...   \n",
       " 1841406  09.S.08  Aarhus  Strandskolen  2023-01-10  08:30:00  Tirsdag   \n",
       " 1841413  09.S.08  Aarhus  Strandskolen  2022-11-30  23:30:00   Onsdag   \n",
       " 1841572  09.S.08  Aarhus  Strandskolen  2023-05-02  11:15:00  Tirsdag   \n",
       " 1841578  09.S.08  Aarhus  Strandskolen  2023-04-11  15:30:00  Tirsdag   \n",
       " 1841608  09.S.08  Aarhus  Strandskolen  2022-11-29  11:45:00  Tirsdag   \n",
       " \n",
       "         TIDSPUNKT_TYPE         TYPE        NAVN          CO2       TEMP  \\\n",
       " 170              Skole   Normal Dag  Normal Dag  1900.333333  21.133333   \n",
       " 247              Skole   Normal Dag  Normal Dag   562.666667  21.433333   \n",
       " 339             Fritid    Mærkedage       Nytår   417.333333  14.766667   \n",
       " 477             Fritid   Normal Dag  Normal Dag   483.000000  19.600000   \n",
       " 616             Fritid  Skole-ferie   Juleferie   444.666667  15.400000   \n",
       " ...                ...          ...         ...          ...        ...   \n",
       " 1841406          Skole   Normal Dag  Normal Dag   872.000000  20.933333   \n",
       " 1841413         Fritid   Normal Dag  Normal Dag   710.333333  21.200000   \n",
       " 1841572          Skole   Normal Dag  Normal Dag  1003.500000  22.300000   \n",
       " 1841578          Skole   Normal Dag  Normal Dag  2044.000000  21.533333   \n",
       " 1841608          Skole   Normal Dag  Normal Dag  2017.666667  21.400000   \n",
       " \n",
       "          MOTION       IAQ  BOOKET  SKEMALAGT              SKOLE_ID  \n",
       " 170         NaN  1.050000     NaN        NaN  Strandskolen_09.S.08  \n",
       " 247         NaN  0.020000     NaN        NaN  Strandskolen_09.S.08  \n",
       " 339         NaN  0.030000     NaN        NaN  Strandskolen_09.S.08  \n",
       " 477         NaN  0.040000     NaN        NaN  Strandskolen_09.S.08  \n",
       " 616         NaN  0.020000     NaN        NaN  Strandskolen_09.S.08  \n",
       " ...         ...       ...     ...        ...                   ...  \n",
       " 1841406     NaN  0.033333     NaN        NaN  Strandskolen_09.S.08  \n",
       " 1841413     NaN  0.020000     NaN        NaN  Strandskolen_09.S.08  \n",
       " 1841572     NaN  2.470000     NaN        NaN  Strandskolen_09.S.08  \n",
       " 1841578     NaN  0.510000     NaN        NaN  Strandskolen_09.S.08  \n",
       " 1841608     NaN  0.976667     NaN        NaN  Strandskolen_09.S.08  \n",
       " \n",
       " [22856 rows x 16 columns],\n",
       " 'Strandskolen_09.S.09':               ID KOMMUNE         SKOLE        DATE      TIME  DAYNAME  \\\n",
       " 311      09.S.09  Aarhus  Strandskolen  2023-10-02  12:15:00   Mandag   \n",
       " 627      09.S.09  Aarhus  Strandskolen  2023-09-27  03:15:00   Onsdag   \n",
       " 1901     09.S.09  Aarhus  Strandskolen  2023-10-01  17:30:00  Soendag   \n",
       " 2196     09.S.09  Aarhus  Strandskolen  2023-09-27  19:45:00   Onsdag   \n",
       " 5729     09.S.09  Aarhus  Strandskolen  2023-09-25  06:30:00   Mandag   \n",
       " ...          ...     ...           ...         ...       ...      ...   \n",
       " 1835622  09.S.09  Aarhus  Strandskolen  2023-09-22  18:45:00   Fredag   \n",
       " 1837103  09.S.09  Aarhus  Strandskolen  2023-09-26  14:30:00  Tirsdag   \n",
       " 1840925  09.S.09  Aarhus  Strandskolen  2023-09-25  15:30:00   Mandag   \n",
       " 1841461  09.S.09  Aarhus  Strandskolen  2023-10-08  10:00:00  Soendag   \n",
       " 1841490  09.S.09  Aarhus  Strandskolen  2023-09-23  00:00:00  Loerdag   \n",
       " \n",
       "         TIDSPUNKT_TYPE        TYPE        NAVN         CO2       TEMP  MOTION  \\\n",
       " 311              Skole  Normal Dag  Normal Dag  444.500000  19.450000     NaN   \n",
       " 627              Skole  Normal Dag  Normal Dag  492.333333  19.900000     NaN   \n",
       " 1901            Fritid  Normal Dag  Normal Dag  384.666667  18.500000     NaN   \n",
       " 2196            Fritid  Normal Dag  Normal Dag  532.000000  20.700000     NaN   \n",
       " 5729             Skole  Normal Dag  Normal Dag  472.333333  19.100000     NaN   \n",
       " ...                ...         ...         ...         ...        ...     ...   \n",
       " 1835622         Fritid  Normal Dag  Normal Dag  414.000000  20.933333     NaN   \n",
       " 1837103          Skole  Normal Dag  Normal Dag  514.000000  20.300000     NaN   \n",
       " 1840925          Skole  Normal Dag  Normal Dag  452.666667  19.500000     NaN   \n",
       " 1841461         Fritid  Normal Dag  Normal Dag  438.000000  17.000000     NaN   \n",
       " 1841490         Fritid  Normal Dag  Normal Dag  458.000000  20.600000     NaN   \n",
       " \n",
       "               IAQ  BOOKET  SKEMALAGT              SKOLE_ID  \n",
       " 311      0.090000     NaN        NaN  Strandskolen_09.S.09  \n",
       " 627      0.040000     NaN        NaN  Strandskolen_09.S.09  \n",
       " 1901     0.040000     NaN        NaN  Strandskolen_09.S.09  \n",
       " 2196     0.050000     NaN        NaN  Strandskolen_09.S.09  \n",
       " 5729     0.023333     NaN        NaN  Strandskolen_09.S.09  \n",
       " ...           ...     ...        ...                   ...  \n",
       " 1835622  0.020000     NaN        NaN  Strandskolen_09.S.09  \n",
       " 1837103  0.060000     NaN        NaN  Strandskolen_09.S.09  \n",
       " 1840925  0.030000     NaN        NaN  Strandskolen_09.S.09  \n",
       " 1841461  0.020000     NaN        NaN  Strandskolen_09.S.09  \n",
       " 1841490  0.020000     NaN        NaN  Strandskolen_09.S.09  \n",
       " \n",
       " [1365 rows x 16 columns],\n",
       " 'Strandskolen_10.S.07':               ID KOMMUNE         SKOLE        DATE      TIME  DAYNAME  \\\n",
       " 12       10.S.07  Aarhus  Strandskolen  2023-03-18  04:30:00  Loerdag   \n",
       " 162      10.S.07  Aarhus  Strandskolen  2022-12-18  21:15:00  Soendag   \n",
       " 176      10.S.07  Aarhus  Strandskolen  2022-10-24  20:30:00   Mandag   \n",
       " 370      10.S.07  Aarhus  Strandskolen  2023-03-12  04:45:00  Soendag   \n",
       " 440      10.S.07  Aarhus  Strandskolen  2022-12-04  19:00:00  Soendag   \n",
       " ...          ...     ...           ...         ...       ...      ...   \n",
       " 1841368  10.S.07  Aarhus  Strandskolen  2023-05-11  09:00:00  Torsdag   \n",
       " 1841574  10.S.07  Aarhus  Strandskolen  2023-01-26  04:15:00  Torsdag   \n",
       " 1841708  10.S.07  Aarhus  Strandskolen  2022-11-20  16:00:00  Soendag   \n",
       " 1841748  10.S.07  Aarhus  Strandskolen  2023-01-23  21:15:00   Mandag   \n",
       " 1841771  10.S.07  Aarhus  Strandskolen  2023-05-04  11:00:00  Torsdag   \n",
       " \n",
       "         TIDSPUNKT_TYPE        TYPE        NAVN          CO2       TEMP  \\\n",
       " 12              Fritid  Normal Dag  Normal Dag   476.000000  18.100000   \n",
       " 162             Fritid  Normal Dag  Normal Dag   616.666667  18.733333   \n",
       " 176             Fritid  Normal Dag  Normal Dag   842.000000  18.800000   \n",
       " 370             Fritid  Normal Dag  Normal Dag   394.666667  19.066667   \n",
       " 440             Fritid  Normal Dag  Normal Dag   411.333333  18.800000   \n",
       " ...                ...         ...         ...          ...        ...   \n",
       " 1841368          Skole  Normal Dag  Normal Dag  1690.333333  20.733333   \n",
       " 1841574          Skole  Normal Dag  Normal Dag   462.333333  18.266667   \n",
       " 1841708         Fritid  Normal Dag  Normal Dag   374.000000  18.866667   \n",
       " 1841748         Fritid  Normal Dag  Normal Dag   631.000000  18.500000   \n",
       " 1841771          Skole  Normal Dag  Normal Dag   771.000000  20.300000   \n",
       " \n",
       "          MOTION       IAQ  BOOKET  SKEMALAGT              SKOLE_ID  \n",
       " 12          NaN  0.030000     NaN        NaN  Strandskolen_10.S.07  \n",
       " 162         NaN  0.026667     NaN        NaN  Strandskolen_10.S.07  \n",
       " 176         NaN  0.030000     NaN        NaN  Strandskolen_10.S.07  \n",
       " 370         NaN  0.033333     NaN        NaN  Strandskolen_10.S.07  \n",
       " 440         NaN  0.030000     NaN        NaN  Strandskolen_10.S.07  \n",
       " ...         ...       ...     ...        ...                   ...  \n",
       " 1841368     NaN  0.056667     NaN        NaN  Strandskolen_10.S.07  \n",
       " 1841574     NaN  0.020000     NaN        NaN  Strandskolen_10.S.07  \n",
       " 1841708     NaN  0.026667     NaN        NaN  Strandskolen_10.S.07  \n",
       " 1841748     NaN  0.020000     NaN        NaN  Strandskolen_10.S.07  \n",
       " 1841771     NaN  0.045000     NaN        NaN  Strandskolen_10.S.07  \n",
       " \n",
       " [24634 rows x 16 columns],\n",
       " 'Strandskolen_10.S.08':               ID KOMMUNE         SKOLE        DATE      TIME  DAYNAME  \\\n",
       " 213      10.S.08  Aarhus  Strandskolen  2022-10-02  10:00:00  Soendag   \n",
       " 338      10.S.08  Aarhus  Strandskolen  2022-12-30  02:00:00   Fredag   \n",
       " 422      10.S.08  Aarhus  Strandskolen  2023-03-27  20:45:00   Mandag   \n",
       " 436      10.S.08  Aarhus  Strandskolen  2023-03-26  22:45:00  Soendag   \n",
       " 445      10.S.08  Aarhus  Strandskolen  2023-02-07  23:15:00  Tirsdag   \n",
       " ...          ...     ...           ...         ...       ...      ...   \n",
       " 1841192  10.S.08  Aarhus  Strandskolen  2023-02-03  16:30:00   Fredag   \n",
       " 1841216  10.S.08  Aarhus  Strandskolen  2022-11-29  16:30:00  Tirsdag   \n",
       " 1841468  10.S.08  Aarhus  Strandskolen  2023-01-16  15:00:00   Mandag   \n",
       " 1841821  10.S.08  Aarhus  Strandskolen  2022-10-11  02:00:00  Tirsdag   \n",
       " 1842029  10.S.08  Aarhus  Strandskolen  2022-10-29  08:30:00  Loerdag   \n",
       " \n",
       "         TIDSPUNKT_TYPE         TYPE        NAVN         CO2       TEMP  \\\n",
       " 213             Fritid   Normal Dag  Normal Dag  472.333333  19.966667   \n",
       " 338              Skole  Skole-ferie   Juleferie  409.666667  14.300000   \n",
       " 422             Fritid   Normal Dag  Normal Dag  429.666667  20.033333   \n",
       " 436             Fritid   Normal Dag  Normal Dag  408.666667  19.433333   \n",
       " 445             Fritid   Normal Dag  Normal Dag  524.666667  19.066667   \n",
       " ...                ...          ...         ...         ...        ...   \n",
       " 1841192         Fritid   Normal Dag  Normal Dag  481.666667  19.700000   \n",
       " 1841216         Fritid   Normal Dag  Normal Dag  675.000000  18.700000   \n",
       " 1841468          Skole   Normal Dag  Normal Dag  834.666667  18.766667   \n",
       " 1841821          Skole   Normal Dag  Normal Dag  452.333333  19.466667   \n",
       " 1842029         Fritid   Normal Dag  Normal Dag  446.333333  18.700000   \n",
       " \n",
       "          MOTION   IAQ  BOOKET  SKEMALAGT              SKOLE_ID  \n",
       " 213         NaN  0.03     NaN        NaN  Strandskolen_10.S.08  \n",
       " 338         NaN  0.03     NaN        NaN  Strandskolen_10.S.08  \n",
       " 422         NaN  0.03     NaN        NaN  Strandskolen_10.S.08  \n",
       " 436         NaN  0.02     NaN        NaN  Strandskolen_10.S.08  \n",
       " 445         NaN  0.03     NaN        NaN  Strandskolen_10.S.08  \n",
       " ...         ...   ...     ...        ...                   ...  \n",
       " 1841192     NaN  0.03     NaN        NaN  Strandskolen_10.S.08  \n",
       " 1841216     NaN  0.03     NaN        NaN  Strandskolen_10.S.08  \n",
       " 1841468     NaN  0.07     NaN        NaN  Strandskolen_10.S.08  \n",
       " 1841821     NaN  0.02     NaN        NaN  Strandskolen_10.S.08  \n",
       " 1842029     NaN  0.02     NaN        NaN  Strandskolen_10.S.08  \n",
       " \n",
       " [24065 rows x 16 columns],\n",
       " 'Strandskolen_10.S.12':               ID KOMMUNE         SKOLE        DATE      TIME  DAYNAME  \\\n",
       " 30       10.S.12  Aarhus  Strandskolen  2022-10-20  04:00:00  Torsdag   \n",
       " 52       10.S.12  Aarhus  Strandskolen  2022-12-20  14:45:00  Tirsdag   \n",
       " 97       10.S.12  Aarhus  Strandskolen  2022-12-12  03:30:00   Mandag   \n",
       " 125      10.S.12  Aarhus  Strandskolen  2023-01-20  02:30:00   Fredag   \n",
       " 146      10.S.12  Aarhus  Strandskolen  2022-12-02  16:00:00   Fredag   \n",
       " ...          ...     ...           ...         ...       ...      ...   \n",
       " 1841135  10.S.12  Aarhus  Strandskolen  2022-11-16  01:45:00   Onsdag   \n",
       " 1841143  10.S.12  Aarhus  Strandskolen  2022-11-01  22:45:00  Tirsdag   \n",
       " 1841164  10.S.12  Aarhus  Strandskolen  2023-03-25  13:00:00  Loerdag   \n",
       " 1841642  10.S.12  Aarhus  Strandskolen  2023-02-23  17:15:00  Torsdag   \n",
       " 1841703  10.S.12  Aarhus  Strandskolen  2022-09-17  07:00:00  Loerdag   \n",
       " \n",
       "         TIDSPUNKT_TYPE         TYPE            NAVN         CO2       TEMP  \\\n",
       " 30               Skole  Skole-ferie  Efteraarsferie  529.666667  19.500000   \n",
       " 52               Skole   Normal Dag      Normal Dag  501.333333  17.266667   \n",
       " 97               Skole   Normal Dag      Normal Dag  416.000000  16.800000   \n",
       " 125              Skole   Normal Dag      Normal Dag  482.000000  17.233333   \n",
       " 146             Fritid   Normal Dag      Normal Dag  650.000000  18.533333   \n",
       " ...                ...          ...             ...         ...        ...   \n",
       " 1841135          Skole   Normal Dag      Normal Dag  433.333333  19.266667   \n",
       " 1841143         Fritid   Normal Dag      Normal Dag  412.000000  19.600000   \n",
       " 1841164         Fritid   Normal Dag      Normal Dag  409.333333  17.833333   \n",
       " 1841642         Fritid   Normal Dag      Normal Dag  504.333333  17.400000   \n",
       " 1841703         Fritid   Normal Dag      Normal Dag  426.000000  18.700000   \n",
       " \n",
       "          MOTION       IAQ  BOOKET  SKEMALAGT              SKOLE_ID  \n",
       " 30          NaN  0.066667     NaN        NaN  Strandskolen_10.S.12  \n",
       " 52          NaN  0.093333     NaN        NaN  Strandskolen_10.S.12  \n",
       " 97          NaN  0.020000     NaN        NaN  Strandskolen_10.S.12  \n",
       " 125         NaN  0.020000     NaN        NaN  Strandskolen_10.S.12  \n",
       " 146         NaN  0.210000     NaN        NaN  Strandskolen_10.S.12  \n",
       " ...         ...       ...     ...        ...                   ...  \n",
       " 1841135     NaN  0.023333     NaN        NaN  Strandskolen_10.S.12  \n",
       " 1841143     NaN  0.020000     NaN        NaN  Strandskolen_10.S.12  \n",
       " 1841164     NaN  0.020000     NaN        NaN  Strandskolen_10.S.12  \n",
       " 1841642     NaN  0.023333     NaN        NaN  Strandskolen_10.S.12  \n",
       " 1841703     NaN  0.030000     NaN        NaN  Strandskolen_10.S.12  \n",
       " \n",
       " [25996 rows x 16 columns],\n",
       " 'Strandskolen_10.S.13':               ID KOMMUNE         SKOLE        DATE      TIME  DAYNAME  \\\n",
       " 33       10.S.13  Aarhus  Strandskolen  2022-12-20  03:30:00  Tirsdag   \n",
       " 74       10.S.13  Aarhus  Strandskolen  2022-09-07  15:00:00   Onsdag   \n",
       " 118      10.S.13  Aarhus  Strandskolen  2023-03-31  13:00:00   Fredag   \n",
       " 143      10.S.13  Aarhus  Strandskolen  2023-01-24  20:15:00  Tirsdag   \n",
       " 151      10.S.13  Aarhus  Strandskolen  2022-10-27  00:30:00  Torsdag   \n",
       " ...          ...     ...           ...         ...       ...      ...   \n",
       " 1841582  10.S.13  Aarhus  Strandskolen  2023-03-06  09:30:00   Mandag   \n",
       " 1841601  10.S.13  Aarhus  Strandskolen  2023-02-06  05:15:00   Mandag   \n",
       " 1841664  10.S.13  Aarhus  Strandskolen  2023-03-28  09:30:00  Tirsdag   \n",
       " 1841898  10.S.13  Aarhus  Strandskolen  2022-12-14  04:30:00   Onsdag   \n",
       " 1842189  10.S.13  Aarhus  Strandskolen  2023-10-04  11:45:00   Onsdag   \n",
       " \n",
       "         TIDSPUNKT_TYPE        TYPE        NAVN         CO2       TEMP  MOTION  \\\n",
       " 33               Skole  Normal Dag  Normal Dag  504.000000  18.066667     NaN   \n",
       " 74               Skole  Normal Dag  Normal Dag  431.666667  21.500000     NaN   \n",
       " 118              Skole  Normal Dag  Normal Dag  707.666667  19.300000     NaN   \n",
       " 143             Fritid  Normal Dag  Normal Dag  565.666667  18.433333     NaN   \n",
       " 151              Skole  Normal Dag  Normal Dag  673.333333  18.400000     NaN   \n",
       " ...                ...         ...         ...         ...        ...     ...   \n",
       " 1841582          Skole  Normal Dag  Normal Dag  607.000000  18.700000     NaN   \n",
       " 1841601          Skole  Normal Dag  Normal Dag  467.666667  18.100000     NaN   \n",
       " 1841664          Skole  Normal Dag  Normal Dag  435.000000  20.300000     NaN   \n",
       " 1841898          Skole  Normal Dag  Normal Dag  579.666667  18.100000     NaN   \n",
       " 1842189          Skole  Normal Dag  Normal Dag  399.000000  18.000000     NaN   \n",
       " \n",
       "               IAQ  BOOKET  SKEMALAGT              SKOLE_ID  \n",
       " 33       0.050000     NaN        NaN  Strandskolen_10.S.13  \n",
       " 74       0.020000     NaN        NaN  Strandskolen_10.S.13  \n",
       " 118      0.280000     NaN        1.0  Strandskolen_10.S.13  \n",
       " 143      0.883333     NaN        NaN  Strandskolen_10.S.13  \n",
       " 151      0.146667     NaN        NaN  Strandskolen_10.S.13  \n",
       " ...           ...     ...        ...                   ...  \n",
       " 1841582  0.640000     NaN        NaN  Strandskolen_10.S.13  \n",
       " 1841601  0.143333     NaN        NaN  Strandskolen_10.S.13  \n",
       " 1841664  0.020000     NaN        NaN  Strandskolen_10.S.13  \n",
       " 1841898  0.103333     NaN        NaN  Strandskolen_10.S.13  \n",
       " 1842189  0.080000     NaN        NaN  Strandskolen_10.S.13  \n",
       " \n",
       " [25863 rows x 16 columns],\n",
       " 'Strandskolen_10.S.19':               ID KOMMUNE         SKOLE        DATE      TIME  DAYNAME  \\\n",
       " 29       10.S.19  Aarhus  Strandskolen  2022-12-30  11:15:00   Fredag   \n",
       " 263      10.S.19  Aarhus  Strandskolen  2023-01-14  19:15:00  Loerdag   \n",
       " 294      10.S.19  Aarhus  Strandskolen  2023-05-11  17:45:00  Torsdag   \n",
       " 326      10.S.19  Aarhus  Strandskolen  2023-04-16  22:00:00  Soendag   \n",
       " 416      10.S.19  Aarhus  Strandskolen  2023-01-23  01:00:00   Mandag   \n",
       " ...          ...     ...           ...         ...       ...      ...   \n",
       " 1841444  10.S.19  Aarhus  Strandskolen  2022-09-26  14:45:00   Mandag   \n",
       " 1841697  10.S.19  Aarhus  Strandskolen  2022-09-06  19:00:00  Tirsdag   \n",
       " 1841774  10.S.19  Aarhus  Strandskolen  2023-10-03  00:45:00  Tirsdag   \n",
       " 1842036  10.S.19  Aarhus  Strandskolen  2022-10-06  22:00:00  Torsdag   \n",
       " 1842135  10.S.19  Aarhus  Strandskolen  2023-01-22  20:15:00  Soendag   \n",
       " \n",
       "         TIDSPUNKT_TYPE         TYPE        NAVN         CO2  TEMP  MOTION  \\\n",
       " 29               Skole  Skole-ferie   Juleferie  423.666667  15.2     NaN   \n",
       " 263             Fritid   Normal Dag  Normal Dag  420.666667  18.6     NaN   \n",
       " 294             Fritid   Normal Dag  Normal Dag  600.666667  21.5     NaN   \n",
       " 326             Fritid   Normal Dag  Normal Dag  443.000000  18.4     NaN   \n",
       " 416              Skole   Normal Dag  Normal Dag  446.333333  18.7     NaN   \n",
       " ...                ...          ...         ...         ...   ...     ...   \n",
       " 1841444          Skole   Normal Dag  Normal Dag  508.000000  19.4     NaN   \n",
       " 1841697         Fritid   Normal Dag  Normal Dag  445.666667  23.4     NaN   \n",
       " 1841774          Skole   Normal Dag  Normal Dag  497.000000  19.4     NaN   \n",
       " 1842036         Fritid   Normal Dag  Normal Dag  427.666667  19.7     NaN   \n",
       " 1842135         Fritid   Normal Dag  Normal Dag  458.666667  18.7     NaN   \n",
       " \n",
       "               IAQ  BOOKET  SKEMALAGT              SKOLE_ID  \n",
       " 29       0.020000     NaN        NaN  Strandskolen_10.S.19  \n",
       " 263      0.020000     NaN        NaN  Strandskolen_10.S.19  \n",
       " 294      0.076667     NaN        NaN  Strandskolen_10.S.19  \n",
       " 326      0.030000     NaN        NaN  Strandskolen_10.S.19  \n",
       " 416      0.020000     NaN        NaN  Strandskolen_10.S.19  \n",
       " ...           ...     ...        ...                   ...  \n",
       " 1841444  0.040000     NaN        NaN  Strandskolen_10.S.19  \n",
       " 1841697  0.020000     NaN        NaN  Strandskolen_10.S.19  \n",
       " 1841774  0.020000     NaN        NaN  Strandskolen_10.S.19  \n",
       " 1842036  0.023333     NaN        NaN  Strandskolen_10.S.19  \n",
       " 1842135  0.020000     NaN        NaN  Strandskolen_10.S.19  \n",
       " \n",
       " [23482 rows x 16 columns],\n",
       " 'Strandskolen_10.S.20':               ID KOMMUNE         SKOLE        DATE      TIME  DAYNAME  \\\n",
       " 221      10.S.20  Aarhus  Strandskolen  2023-04-22  16:00:00  Loerdag   \n",
       " 245      10.S.20  Aarhus  Strandskolen  2022-12-19  13:15:00   Mandag   \n",
       " 278      10.S.20  Aarhus  Strandskolen  2023-01-04  17:15:00   Onsdag   \n",
       " 307      10.S.20  Aarhus  Strandskolen  2023-03-23  01:45:00  Torsdag   \n",
       " 320      10.S.20  Aarhus  Strandskolen  2023-03-18  19:30:00  Loerdag   \n",
       " ...          ...     ...           ...         ...       ...      ...   \n",
       " 1841371  10.S.20  Aarhus  Strandskolen  2023-04-25  17:30:00  Tirsdag   \n",
       " 1841610  10.S.20  Aarhus  Strandskolen  2023-03-11  22:00:00  Loerdag   \n",
       " 1841661  10.S.20  Aarhus  Strandskolen  2022-11-02  19:30:00   Onsdag   \n",
       " 1841917  10.S.20  Aarhus  Strandskolen  2022-10-31  02:30:00   Mandag   \n",
       " 1841929  10.S.20  Aarhus  Strandskolen  2023-04-30  21:45:00  Soendag   \n",
       " \n",
       "         TIDSPUNKT_TYPE        TYPE        NAVN         CO2       TEMP  MOTION  \\\n",
       " 221             Fritid  Normal Dag  Normal Dag  455.333333  20.600000     NaN   \n",
       " 245              Skole  Normal Dag  Normal Dag  715.666667  20.000000     NaN   \n",
       " 278             Fritid  Normal Dag  Normal Dag  452.666667  14.600000     NaN   \n",
       " 307              Skole  Normal Dag  Normal Dag  452.333333  20.133333     NaN   \n",
       " 320             Fritid  Normal Dag  Normal Dag  467.666667  19.200000     NaN   \n",
       " ...                ...         ...         ...         ...        ...     ...   \n",
       " 1841371         Fritid  Normal Dag  Normal Dag  450.333333  20.600000     NaN   \n",
       " 1841610         Fritid  Normal Dag  Normal Dag  407.666667  20.366667     NaN   \n",
       " 1841661         Fritid  Normal Dag  Normal Dag  463.000000  17.733333     NaN   \n",
       " 1841917          Skole   Mærkedage   Halloween  431.333333  17.633333     NaN   \n",
       " 1841929         Fritid  Normal Dag  Normal Dag  407.666667  19.466667     NaN   \n",
       " \n",
       "               IAQ  BOOKET  SKEMALAGT              SKOLE_ID  \n",
       " 221      0.873333     NaN        NaN  Strandskolen_10.S.20  \n",
       " 245      0.036667     NaN        NaN  Strandskolen_10.S.20  \n",
       " 278      0.050000     NaN        NaN  Strandskolen_10.S.20  \n",
       " 307      0.023333     NaN        NaN  Strandskolen_10.S.20  \n",
       " 320      0.020000     NaN        NaN  Strandskolen_10.S.20  \n",
       " ...           ...     ...        ...                   ...  \n",
       " 1841371  0.103333     NaN        NaN  Strandskolen_10.S.20  \n",
       " 1841610  0.083333     NaN        NaN  Strandskolen_10.S.20  \n",
       " 1841661  0.113333     NaN        NaN  Strandskolen_10.S.20  \n",
       " 1841917  0.026667     NaN        NaN  Strandskolen_10.S.20  \n",
       " 1841929  0.496667     NaN        NaN  Strandskolen_10.S.20  \n",
       " \n",
       " [26087 rows x 16 columns],\n",
       " 'Strandskolen_11.S.04':               ID KOMMUNE         SKOLE        DATE      TIME  DAYNAME  \\\n",
       " 37       11.S.04  Aarhus  Strandskolen  2023-02-26  03:15:00  Soendag   \n",
       " 64       11.S.04  Aarhus  Strandskolen  2022-10-04  20:30:00  Tirsdag   \n",
       " 107      11.S.04  Aarhus  Strandskolen  2023-03-29  18:00:00   Onsdag   \n",
       " 172      11.S.04  Aarhus  Strandskolen  2022-11-27  19:30:00  Soendag   \n",
       " 233      11.S.04  Aarhus  Strandskolen  2023-01-25  14:30:00   Onsdag   \n",
       " ...          ...     ...           ...         ...       ...      ...   \n",
       " 1841291  11.S.04  Aarhus  Strandskolen  2023-02-24  20:30:00   Fredag   \n",
       " 1841414  11.S.04  Aarhus  Strandskolen  2023-10-05  19:15:00  Torsdag   \n",
       " 1841447  11.S.04  Aarhus  Strandskolen  2023-02-14  20:45:00  Tirsdag   \n",
       " 1841475  11.S.04  Aarhus  Strandskolen  2022-11-22  20:00:00  Tirsdag   \n",
       " 1842160  11.S.04  Aarhus  Strandskolen  2022-11-26  22:15:00  Loerdag   \n",
       " \n",
       "         TIDSPUNKT_TYPE         TYPE         NAVN         CO2       TEMP  \\\n",
       " 37              Fritid   Normal Dag   Normal Dag  469.000000  18.600000   \n",
       " 64              Fritid   Normal Dag   Normal Dag  481.500000  19.000000   \n",
       " 107             Fritid   Normal Dag   Normal Dag  407.000000  19.333333   \n",
       " 172             Fritid   Normal Dag   Normal Dag  607.000000  19.166667   \n",
       " 233              Skole   Normal Dag   Normal Dag  430.666667  18.900000   \n",
       " ...                ...          ...          ...         ...        ...   \n",
       " 1841291         Fritid   Normal Dag   Normal Dag  453.000000  18.833333   \n",
       " 1841414         Fritid   Normal Dag   Normal Dag  423.000000  18.400000   \n",
       " 1841447         Fritid  Skole-ferie  Vinterferie  398.000000  16.600000   \n",
       " 1841475         Fritid   Normal Dag   Normal Dag  470.000000  19.100000   \n",
       " 1842160         Fritid   Normal Dag   Normal Dag  597.333333  18.700000   \n",
       " \n",
       "          MOTION   IAQ  BOOKET  SKEMALAGT              SKOLE_ID  \n",
       " 37          NaN  0.04     NaN        NaN  Strandskolen_11.S.04  \n",
       " 64          NaN  0.03     NaN        NaN  Strandskolen_11.S.04  \n",
       " 107         NaN  0.03     NaN        NaN  Strandskolen_11.S.04  \n",
       " 172         NaN  0.04     NaN        NaN  Strandskolen_11.S.04  \n",
       " 233         NaN  0.02     NaN        NaN  Strandskolen_11.S.04  \n",
       " ...         ...   ...     ...        ...                   ...  \n",
       " 1841291     NaN  0.04     NaN        NaN  Strandskolen_11.S.04  \n",
       " 1841414     NaN  0.03     NaN        NaN  Strandskolen_11.S.04  \n",
       " 1841447     NaN  0.03     NaN        NaN  Strandskolen_11.S.04  \n",
       " 1841475     NaN  0.04     NaN        NaN  Strandskolen_11.S.04  \n",
       " 1842160     NaN  0.03     NaN        NaN  Strandskolen_11.S.04  \n",
       " \n",
       " [25718 rows x 16 columns],\n",
       " 'Strandskolen_11.S.18':               ID KOMMUNE         SKOLE        DATE      TIME  DAYNAME  \\\n",
       " 103      11.S.18  Aarhus  Strandskolen  2022-10-21  13:15:00   Fredag   \n",
       " 219      11.S.18  Aarhus  Strandskolen  2023-05-02  15:30:00  Tirsdag   \n",
       " 242      11.S.18  Aarhus  Strandskolen  2022-11-24  14:45:00  Torsdag   \n",
       " 328      11.S.18  Aarhus  Strandskolen  2023-01-08  00:00:00  Soendag   \n",
       " 348      11.S.18  Aarhus  Strandskolen  2023-03-04  01:30:00  Loerdag   \n",
       " ...          ...     ...           ...         ...       ...      ...   \n",
       " 1841321  11.S.18  Aarhus  Strandskolen  2022-09-23  14:00:00   Fredag   \n",
       " 1841476  11.S.18  Aarhus  Strandskolen  2023-04-13  13:00:00  Torsdag   \n",
       " 1841576  11.S.18  Aarhus  Strandskolen  2022-11-01  12:00:00  Tirsdag   \n",
       " 1841614  11.S.18  Aarhus  Strandskolen  2023-02-17  12:15:00   Fredag   \n",
       " 1841637  11.S.18  Aarhus  Strandskolen  2023-01-29  04:15:00  Soendag   \n",
       " \n",
       "         TIDSPUNKT_TYPE         TYPE            NAVN         CO2       TEMP  \\\n",
       " 103              Skole  Skole-ferie  Efteraarsferie  445.000000  16.400000   \n",
       " 219              Skole   Normal Dag      Normal Dag  396.666667  19.800000   \n",
       " 242              Skole   Normal Dag      Normal Dag  714.333333  18.133333   \n",
       " 328             Fritid   Normal Dag      Normal Dag  364.000000  18.000000   \n",
       " 348             Fritid   Normal Dag      Normal Dag  418.333333  18.666667   \n",
       " ...                ...          ...             ...         ...        ...   \n",
       " 1841321          Skole   Normal Dag      Normal Dag  790.666667  21.000000   \n",
       " 1841476          Skole   Normal Dag      Normal Dag  973.666667  21.466667   \n",
       " 1841576          Skole   Normal Dag      Normal Dag  909.333333  19.400000   \n",
       " 1841614          Skole  Skole-ferie     Vinterferie  451.000000  14.133333   \n",
       " 1841637         Fritid   Normal Dag      Normal Dag  437.666667  18.400000   \n",
       " \n",
       "          MOTION       IAQ  BOOKET  SKEMALAGT              SKOLE_ID  \n",
       " 103         NaN  0.040000     NaN        NaN  Strandskolen_11.S.18  \n",
       " 219         NaN  0.223333     NaN        NaN  Strandskolen_11.S.18  \n",
       " 242         NaN  0.086667     NaN        NaN  Strandskolen_11.S.18  \n",
       " 328         NaN  0.020000     NaN        NaN  Strandskolen_11.S.18  \n",
       " 348         NaN  0.020000     NaN        NaN  Strandskolen_11.S.18  \n",
       " ...         ...       ...     ...        ...                   ...  \n",
       " 1841321     NaN  0.050000     NaN        NaN  Strandskolen_11.S.18  \n",
       " 1841476     NaN  3.400000     NaN        NaN  Strandskolen_11.S.18  \n",
       " 1841576     NaN  0.320000     NaN        NaN  Strandskolen_11.S.18  \n",
       " 1841614     NaN  0.040000     NaN        NaN  Strandskolen_11.S.18  \n",
       " 1841637     NaN  0.026667     NaN        NaN  Strandskolen_11.S.18  \n",
       " \n",
       " [25839 rows x 16 columns],\n",
       " 'Strandskolen_11.S.22':               ID KOMMUNE         SKOLE        DATE      TIME  DAYNAME  \\\n",
       " 18       11.S.22  Aarhus  Strandskolen  2022-10-17  15:00:00   Mandag   \n",
       " 109      11.S.22  Aarhus  Strandskolen  2023-01-31  12:45:00  Tirsdag   \n",
       " 130      11.S.22  Aarhus  Strandskolen  2022-09-21  21:30:00   Onsdag   \n",
       " 150      11.S.22  Aarhus  Strandskolen  2022-09-08  20:00:00  Torsdag   \n",
       " 165      11.S.22  Aarhus  Strandskolen  2022-11-11  10:30:00   Fredag   \n",
       " ...          ...     ...           ...         ...       ...      ...   \n",
       " 1841506  11.S.22  Aarhus  Strandskolen  2022-12-31  05:15:00  Loerdag   \n",
       " 1841624  11.S.22  Aarhus  Strandskolen  2023-02-24  00:30:00   Fredag   \n",
       " 1842007  11.S.22  Aarhus  Strandskolen  2023-10-07  08:30:00  Loerdag   \n",
       " 1842020  11.S.22  Aarhus  Strandskolen  2023-10-03  13:00:00  Tirsdag   \n",
       " 1842192  11.S.22  Aarhus  Strandskolen  2023-10-01  16:30:00  Soendag   \n",
       " \n",
       "         TIDSPUNKT_TYPE         TYPE            NAVN         CO2       TEMP  \\\n",
       " 18               Skole  Skole-ferie  Efteraarsferie  414.333333  18.400000   \n",
       " 109              Skole   Normal Dag      Normal Dag  942.000000  21.100000   \n",
       " 130             Fritid   Normal Dag      Normal Dag  442.666667  20.066667   \n",
       " 150             Fritid   Normal Dag      Normal Dag  469.666667  21.733333   \n",
       " 165              Skole   Normal Dag      Normal Dag  796.666667  19.833333   \n",
       " ...                ...          ...             ...         ...        ...   \n",
       " 1841506         Fritid    Mærkedage           Nytår  393.000000  17.500000   \n",
       " 1841624          Skole   Normal Dag      Normal Dag  440.000000  20.366667   \n",
       " 1842007         Fritid   Normal Dag      Normal Dag  416.000000  17.500000   \n",
       " 1842020          Skole   Normal Dag      Normal Dag  478.000000  18.500000   \n",
       " 1842192         Fritid   Normal Dag      Normal Dag  482.000000  18.500000   \n",
       " \n",
       "          MOTION       IAQ  BOOKET  SKEMALAGT              SKOLE_ID  \n",
       " 18          NaN  0.030000     NaN        NaN  Strandskolen_11.S.22  \n",
       " 109         NaN  0.906667     NaN        NaN  Strandskolen_11.S.22  \n",
       " 130         NaN  0.043333     NaN        NaN  Strandskolen_11.S.22  \n",
       " 150         NaN  0.040000     NaN        NaN  Strandskolen_11.S.22  \n",
       " 165         NaN  0.040000     NaN        NaN  Strandskolen_11.S.22  \n",
       " ...         ...       ...     ...        ...                   ...  \n",
       " 1841506     NaN  0.030000     NaN        NaN  Strandskolen_11.S.22  \n",
       " 1841624     NaN  0.020000     NaN        NaN  Strandskolen_11.S.22  \n",
       " 1842007     NaN  0.020000     NaN        NaN  Strandskolen_11.S.22  \n",
       " 1842020     NaN  0.020000     NaN        NaN  Strandskolen_11.S.22  \n",
       " 1842192     NaN  0.020000     NaN        NaN  Strandskolen_11.S.22  \n",
       " \n",
       " [25580 rows x 16 columns],\n",
       " 'Strandskolen_12.S.09':               ID KOMMUNE         SKOLE        DATE      TIME  DAYNAME  \\\n",
       " 1227     12.S.09  Aarhus  Strandskolen  2023-10-01  10:45:00  Soendag   \n",
       " 2555     12.S.09  Aarhus  Strandskolen  2023-10-04  03:30:00   Onsdag   \n",
       " 3194     12.S.09  Aarhus  Strandskolen  2023-09-27  17:45:00   Onsdag   \n",
       " 6958     12.S.09  Aarhus  Strandskolen  2023-09-26  23:15:00  Tirsdag   \n",
       " 7481     12.S.09  Aarhus  Strandskolen  2023-09-30  00:00:00  Loerdag   \n",
       " ...          ...     ...           ...         ...       ...      ...   \n",
       " 1837782  12.S.09  Aarhus  Strandskolen  2023-09-29  10:15:00   Fredag   \n",
       " 1838141  12.S.09  Aarhus  Strandskolen  2023-10-08  06:30:00  Soendag   \n",
       " 1838338  12.S.09  Aarhus  Strandskolen  2023-10-08  17:15:00  Soendag   \n",
       " 1838432  12.S.09  Aarhus  Strandskolen  2023-09-22  16:15:00   Fredag   \n",
       " 1841288  12.S.09  Aarhus  Strandskolen  2023-10-11  19:30:00   Onsdag   \n",
       " \n",
       "         TIDSPUNKT_TYPE        TYPE        NAVN         CO2       TEMP  MOTION  \\\n",
       " 1227            Fritid  Normal Dag  Normal Dag  502.333333  21.400000     NaN   \n",
       " 2555             Skole  Normal Dag  Normal Dag  559.000000  21.166667     NaN   \n",
       " 3194            Fritid  Normal Dag  Normal Dag  577.000000  22.600000     NaN   \n",
       " 6958            Fritid  Normal Dag  Normal Dag  522.666667  22.100000     NaN   \n",
       " 7481            Fritid  Normal Dag  Normal Dag  513.666667  22.233333     NaN   \n",
       " ...                ...         ...         ...         ...        ...     ...   \n",
       " 1837782          Skole  Normal Dag  Normal Dag  572.000000  22.200000     NaN   \n",
       " 1838141         Fritid  Normal Dag  Normal Dag  527.000000  20.100000     NaN   \n",
       " 1838338         Fritid  Normal Dag  Normal Dag  520.000000  20.100000     NaN   \n",
       " 1838432         Fritid  Normal Dag  Normal Dag  417.000000  22.600000     NaN   \n",
       " 1841288         Fritid  Normal Dag  Normal Dag  538.000000  20.400000     NaN   \n",
       " \n",
       "               IAQ  BOOKET  SKEMALAGT              SKOLE_ID  \n",
       " 1227     0.120000     NaN        NaN  Strandskolen_12.S.09  \n",
       " 2555     0.630000     NaN        NaN  Strandskolen_12.S.09  \n",
       " 3194     4.900000     NaN        NaN  Strandskolen_12.S.09  \n",
       " 6958     2.233333     NaN        NaN  Strandskolen_12.S.09  \n",
       " 7481     2.210000     NaN        NaN  Strandskolen_12.S.09  \n",
       " ...           ...     ...        ...                   ...  \n",
       " 1837782  0.030000     NaN        NaN  Strandskolen_12.S.09  \n",
       " 1838141  0.020000     NaN        NaN  Strandskolen_12.S.09  \n",
       " 1838338  0.020000     NaN        NaN  Strandskolen_12.S.09  \n",
       " 1838432  0.440000     NaN        NaN  Strandskolen_12.S.09  \n",
       " 1841288  0.460000     NaN        NaN  Strandskolen_12.S.09  \n",
       " \n",
       " [1405 rows x 16 columns],\n",
       " 'Strandskolen_12.S.20':               ID KOMMUNE         SKOLE        DATE      TIME  DAYNAME  \\\n",
       " 717      12.S.20  Aarhus  Strandskolen  2023-10-09  00:15:00   Mandag   \n",
       " 2192     12.S.20  Aarhus  Strandskolen  2023-09-27  02:45:00   Onsdag   \n",
       " 2239     12.S.20  Aarhus  Strandskolen  2023-10-08  21:45:00  Soendag   \n",
       " 3677     12.S.20  Aarhus  Strandskolen  2023-09-24  17:45:00  Soendag   \n",
       " 3863     12.S.20  Aarhus  Strandskolen  2023-09-24  01:00:00  Soendag   \n",
       " ...          ...     ...           ...         ...       ...      ...   \n",
       " 1835423  12.S.20  Aarhus  Strandskolen  2023-10-03  07:45:00  Tirsdag   \n",
       " 1835969  12.S.20  Aarhus  Strandskolen  2023-09-26  19:00:00  Tirsdag   \n",
       " 1836400  12.S.20  Aarhus  Strandskolen  2023-10-02  14:00:00   Mandag   \n",
       " 1837182  12.S.20  Aarhus  Strandskolen  2023-10-11  01:15:00   Onsdag   \n",
       " 1840534  12.S.20  Aarhus  Strandskolen  2023-09-28  12:00:00  Torsdag   \n",
       " \n",
       "         TIDSPUNKT_TYPE        TYPE        NAVN         CO2  TEMP  MOTION  \\\n",
       " 717              Skole  Normal Dag  Normal Dag  508.000000  20.1     NaN   \n",
       " 2192             Skole  Normal Dag  Normal Dag  505.500000  21.8     NaN   \n",
       " 2239            Fritid  Normal Dag  Normal Dag  495.000000  20.3     NaN   \n",
       " 3677            Fritid  Normal Dag  Normal Dag  488.000000  22.2     NaN   \n",
       " 3863            Fritid  Normal Dag  Normal Dag  497.000000  21.7     NaN   \n",
       " ...                ...         ...         ...         ...   ...     ...   \n",
       " 1835423          Skole  Normal Dag  Normal Dag  954.333333  21.8     NaN   \n",
       " 1835969         Fritid  Normal Dag  Normal Dag  476.000000  22.1     NaN   \n",
       " 1836400          Skole  Normal Dag  Normal Dag  447.000000  21.7     NaN   \n",
       " 1837182          Skole  Normal Dag  Normal Dag  503.000000  19.7     NaN   \n",
       " 1840534          Skole  Normal Dag  Normal Dag  606.000000  23.1     NaN   \n",
       " \n",
       "           IAQ  BOOKET  SKEMALAGT              SKOLE_ID  \n",
       " 717      0.03     NaN        NaN  Strandskolen_12.S.20  \n",
       " 2192     0.08     NaN        NaN  Strandskolen_12.S.20  \n",
       " 2239     0.04     NaN        NaN  Strandskolen_12.S.20  \n",
       " 3677     0.05     NaN        NaN  Strandskolen_12.S.20  \n",
       " 3863     0.03     NaN        NaN  Strandskolen_12.S.20  \n",
       " ...       ...     ...        ...                   ...  \n",
       " 1835423  0.02     NaN        NaN  Strandskolen_12.S.20  \n",
       " 1835969  0.09     NaN        NaN  Strandskolen_12.S.20  \n",
       " 1836400  0.05     NaN        NaN  Strandskolen_12.S.20  \n",
       " 1837182  0.09     NaN        NaN  Strandskolen_12.S.20  \n",
       " 1840534  0.39     NaN        NaN  Strandskolen_12.S.20  \n",
       " \n",
       " [1444 rows x 16 columns],\n",
       " 'Thorsager Skole_1.0.001':               ID   KOMMUNE            SKOLE        DATE      TIME  DAYNAME  \\\n",
       " 132      1.0.001  Syddjurs  Thorsager Skole  2023-02-25  12:15:00  Loerdag   \n",
       " 313      1.0.001  Syddjurs  Thorsager Skole  2022-09-17  03:30:00  Loerdag   \n",
       " 345      1.0.001  Syddjurs  Thorsager Skole  2023-09-15  21:00:00   Fredag   \n",
       " 453      1.0.001  Syddjurs  Thorsager Skole  2023-06-08  18:45:00  Torsdag   \n",
       " 626      1.0.001  Syddjurs  Thorsager Skole  2022-12-03  09:45:00  Loerdag   \n",
       " ...          ...       ...              ...         ...       ...      ...   \n",
       " 1842093  1.0.001  Syddjurs  Thorsager Skole  2022-12-19  17:15:00   Mandag   \n",
       " 1842149  1.0.001  Syddjurs  Thorsager Skole  2023-10-05  02:00:00  Torsdag   \n",
       " 1842167  1.0.001  Syddjurs  Thorsager Skole  2023-06-21  17:45:00   Onsdag   \n",
       " 1842170  1.0.001  Syddjurs  Thorsager Skole  2022-12-04  10:15:00  Soendag   \n",
       " 1842177  1.0.001  Syddjurs  Thorsager Skole  2023-06-25  15:30:00  Soendag   \n",
       " \n",
       "         TIDSPUNKT_TYPE        TYPE        NAVN         CO2       TEMP  MOTION  \\\n",
       " 132             Fritid  Normal Dag  Normal Dag  406.666667  20.900000     0.0   \n",
       " 313             Fritid  Normal Dag  Normal Dag  435.000000  22.844444     0.0   \n",
       " 345             Fritid  Normal Dag  Normal Dag  569.000000  23.555556     0.0   \n",
       " 453             Fritid  Normal Dag  Normal Dag  456.000000  25.333333     0.0   \n",
       " 626             Fritid  Normal Dag  Normal Dag  838.000000  21.966667     0.0   \n",
       " ...                ...         ...         ...         ...        ...     ...   \n",
       " 1842093         Fritid  Normal Dag  Normal Dag  838.000000  21.311111     0.0   \n",
       " 1842149          Skole  Normal Dag  Normal Dag  613.333333  22.188889     0.0   \n",
       " 1842167         Fritid  Normal Dag  Normal Dag  412.000000  24.800000     0.0   \n",
       " 1842170         Fritid  Normal Dag  Normal Dag  838.000000  21.800000     0.0   \n",
       " 1842177         Fritid  Normal Dag  Normal Dag  412.000000  24.800000     0.0   \n",
       " \n",
       "          IAQ  BOOKET  SKEMALAGT                 SKOLE_ID  \n",
       " 132      NaN     NaN        NaN  Thorsager Skole_1.0.001  \n",
       " 313      NaN     NaN        NaN  Thorsager Skole_1.0.001  \n",
       " 345      NaN     NaN        NaN  Thorsager Skole_1.0.001  \n",
       " 453      NaN     NaN        NaN  Thorsager Skole_1.0.001  \n",
       " 626      NaN     NaN        NaN  Thorsager Skole_1.0.001  \n",
       " ...      ...     ...        ...                      ...  \n",
       " 1842093  NaN     NaN        NaN  Thorsager Skole_1.0.001  \n",
       " 1842149  NaN     NaN        NaN  Thorsager Skole_1.0.001  \n",
       " 1842167  NaN     NaN        NaN  Thorsager Skole_1.0.001  \n",
       " 1842170  NaN     NaN        NaN  Thorsager Skole_1.0.001  \n",
       " 1842177  NaN     NaN        NaN  Thorsager Skole_1.0.001  \n",
       " \n",
       " [38561 rows x 16 columns],\n",
       " 'Thorsager Skole_12.0.001':                ID   KOMMUNE            SKOLE        DATE      TIME  DAYNAME  \\\n",
       " 28       12.0.001  Syddjurs  Thorsager Skole  2022-12-05  20:30:00   Mandag   \n",
       " 189      12.0.001  Syddjurs  Thorsager Skole  2022-11-01  01:00:00  Tirsdag   \n",
       " 206      12.0.001  Syddjurs  Thorsager Skole  2023-03-08  02:15:00   Onsdag   \n",
       " 426      12.0.001  Syddjurs  Thorsager Skole  2023-05-05  02:30:00   Fredag   \n",
       " 530      12.0.001  Syddjurs  Thorsager Skole  2022-09-14  16:30:00   Onsdag   \n",
       " ...           ...       ...              ...         ...       ...      ...   \n",
       " 1842129  12.0.001  Syddjurs  Thorsager Skole  2023-06-12  17:00:00   Mandag   \n",
       " 1842137  12.0.001  Syddjurs  Thorsager Skole  2022-12-10  17:45:00  Loerdag   \n",
       " 1842142  12.0.001  Syddjurs  Thorsager Skole  2022-12-17  18:15:00  Loerdag   \n",
       " 1842181  12.0.001  Syddjurs  Thorsager Skole  2023-03-02  08:45:00  Torsdag   \n",
       " 1842194  12.0.001  Syddjurs  Thorsager Skole  2022-12-29  18:00:00  Torsdag   \n",
       " \n",
       "         TIDSPUNKT_TYPE         TYPE           NAVN          CO2       TEMP  \\\n",
       " 28              Fritid   Normal Dag     Normal Dag  1612.000000  20.200000   \n",
       " 189              Skole   Normal Dag     Normal Dag  1612.000000  20.200000   \n",
       " 206              Skole   Normal Dag     Normal Dag   480.333333  17.466667   \n",
       " 426              Skole    Helligdag  Store bededag   536.333333  18.200000   \n",
       " 530             Fritid   Normal Dag     Normal Dag  1231.333333  22.133333   \n",
       " ...                ...          ...            ...          ...        ...   \n",
       " 1842129         Fritid   Normal Dag     Normal Dag   537.000000  23.800000   \n",
       " 1842137         Fritid   Normal Dag     Normal Dag  1612.000000  20.200000   \n",
       " 1842142         Fritid   Normal Dag     Normal Dag  1612.000000  20.200000   \n",
       " 1842181          Skole   Normal Dag     Normal Dag   694.000000  18.100000   \n",
       " 1842194         Fritid  Skole-ferie      Juleferie  1612.000000  20.200000   \n",
       " \n",
       "          MOTION  IAQ  BOOKET  SKEMALAGT                  SKOLE_ID  \n",
       " 28          2.0  NaN     NaN        NaN  Thorsager Skole_12.0.001  \n",
       " 189         2.0  NaN     NaN        NaN  Thorsager Skole_12.0.001  \n",
       " 206         0.0  NaN     NaN        NaN  Thorsager Skole_12.0.001  \n",
       " 426         0.0  NaN     NaN        NaN  Thorsager Skole_12.0.001  \n",
       " 530         0.0  NaN     NaN        NaN  Thorsager Skole_12.0.001  \n",
       " ...         ...  ...     ...        ...                       ...  \n",
       " 1842129     0.0  NaN     NaN        NaN  Thorsager Skole_12.0.001  \n",
       " 1842137     2.0  NaN     NaN        NaN  Thorsager Skole_12.0.001  \n",
       " 1842142     2.0  NaN     NaN        NaN  Thorsager Skole_12.0.001  \n",
       " 1842181     0.0  NaN     NaN        1.0  Thorsager Skole_12.0.001  \n",
       " 1842194     2.0  NaN     NaN        NaN  Thorsager Skole_12.0.001  \n",
       " \n",
       " [38561 rows x 16 columns],\n",
       " 'Thorsager Skole_12.0.004':                ID   KOMMUNE            SKOLE        DATE      TIME  DAYNAME  \\\n",
       " 243      12.0.004  Syddjurs  Thorsager Skole  2023-08-20  03:00:00  Soendag   \n",
       " 335      12.0.004  Syddjurs  Thorsager Skole  2023-02-15  10:00:00   Onsdag   \n",
       " 344      12.0.004  Syddjurs  Thorsager Skole  2023-09-12  16:45:00  Tirsdag   \n",
       " 411      12.0.004  Syddjurs  Thorsager Skole  2023-04-10  14:00:00   Mandag   \n",
       " 480      12.0.004  Syddjurs  Thorsager Skole  2023-07-17  03:00:00   Mandag   \n",
       " ...           ...       ...              ...         ...       ...      ...   \n",
       " 1842148  12.0.004  Syddjurs  Thorsager Skole  2023-01-05  07:00:00  Torsdag   \n",
       " 1842163  12.0.004  Syddjurs  Thorsager Skole  2023-05-12  16:15:00   Fredag   \n",
       " 1842172  12.0.004  Syddjurs  Thorsager Skole  2022-10-06  17:45:00  Torsdag   \n",
       " 1842178  12.0.004  Syddjurs  Thorsager Skole  2023-04-27  17:00:00  Torsdag   \n",
       " 1842180  12.0.004  Syddjurs  Thorsager Skole  2023-05-13  02:45:00  Loerdag   \n",
       " \n",
       "         TIDSPUNKT_TYPE         TYPE         NAVN         CO2       TEMP  \\\n",
       " 243             Fritid   Normal Dag   Normal Dag  418.000000  21.800000   \n",
       " 335              Skole  Skole-ferie  Vinterferie  446.000000  15.733333   \n",
       " 344             Fritid   Normal Dag   Normal Dag  418.000000  21.800000   \n",
       " 411              Skole  Skole-ferie   Påskeferie  377.333333  26.200000   \n",
       " 480              Skole  Skole-ferie  Sommerferie  418.000000  21.800000   \n",
       " ...                ...          ...          ...         ...        ...   \n",
       " 1842148          Skole   Normal Dag   Normal Dag  663.000000  27.200000   \n",
       " 1842163         Fritid   Normal Dag   Normal Dag  540.000000  24.933333   \n",
       " 1842172         Fritid   Normal Dag   Normal Dag  663.000000  27.200000   \n",
       " 1842178         Fritid   Normal Dag   Normal Dag  729.000000  20.800000   \n",
       " 1842180         Fritid   Normal Dag   Normal Dag  488.666667  17.366667   \n",
       " \n",
       "          MOTION  IAQ  BOOKET  SKEMALAGT                  SKOLE_ID  \n",
       " 243         0.0  NaN     NaN        NaN  Thorsager Skole_12.0.004  \n",
       " 335         0.0  NaN     NaN        NaN  Thorsager Skole_12.0.004  \n",
       " 344         0.0  NaN     NaN        NaN  Thorsager Skole_12.0.004  \n",
       " 411         0.0  NaN     NaN        NaN  Thorsager Skole_12.0.004  \n",
       " 480         0.0  NaN     NaN        NaN  Thorsager Skole_12.0.004  \n",
       " ...         ...  ...     ...        ...                       ...  \n",
       " 1842148     0.0  NaN     NaN        NaN  Thorsager Skole_12.0.004  \n",
       " 1842163     0.0  NaN     NaN        NaN  Thorsager Skole_12.0.004  \n",
       " 1842172     0.0  NaN     NaN        NaN  Thorsager Skole_12.0.004  \n",
       " 1842178     0.0  NaN     NaN        NaN  Thorsager Skole_12.0.004  \n",
       " 1842180     0.0  NaN     NaN        NaN  Thorsager Skole_12.0.004  \n",
       " \n",
       " [38561 rows x 16 columns],\n",
       " 'Thorsager Skole_12.1.002':                ID   KOMMUNE            SKOLE        DATE      TIME  DAYNAME  \\\n",
       " 31       12.1.002  Syddjurs  Thorsager Skole  2023-06-06  23:30:00  Tirsdag   \n",
       " 32       12.1.002  Syddjurs  Thorsager Skole  2022-12-28  16:15:00   Onsdag   \n",
       " 36       12.1.002  Syddjurs  Thorsager Skole  2023-10-04  04:45:00   Onsdag   \n",
       " 67       12.1.002  Syddjurs  Thorsager Skole  2023-02-10  01:15:00   Fredag   \n",
       " 70       12.1.002  Syddjurs  Thorsager Skole  2023-01-20  13:45:00   Fredag   \n",
       " ...           ...       ...              ...         ...       ...      ...   \n",
       " 1842131  12.1.002  Syddjurs  Thorsager Skole  2022-12-12  05:15:00   Mandag   \n",
       " 1842145  12.1.002  Syddjurs  Thorsager Skole  2022-09-19  03:45:00   Mandag   \n",
       " 1842168  12.1.002  Syddjurs  Thorsager Skole  2023-05-05  16:30:00   Fredag   \n",
       " 1842184  12.1.002  Syddjurs  Thorsager Skole  2022-11-18  01:00:00   Fredag   \n",
       " 1842188  12.1.002  Syddjurs  Thorsager Skole  2023-08-11  01:00:00   Fredag   \n",
       " \n",
       "         TIDSPUNKT_TYPE         TYPE            NAVN         CO2       TEMP  \\\n",
       " 31              Fritid    Helligdag  Anden pinsedag  499.000000  24.000000   \n",
       " 32              Fritid  Skole-ferie       Juleferie  889.000000 -45.000000   \n",
       " 36               Skole   Normal Dag      Normal Dag  532.000000  18.700000   \n",
       " 67               Skole   Normal Dag      Normal Dag  454.666667  17.833333   \n",
       " 70               Skole   Normal Dag      Normal Dag  889.000000 -45.000000   \n",
       " ...                ...          ...             ...         ...        ...   \n",
       " 1842131          Skole   Normal Dag      Normal Dag  889.000000 -45.000000   \n",
       " 1842145          Skole   Normal Dag      Normal Dag  394.666667  19.033333   \n",
       " 1842168         Fritid    Helligdag   Store bededag  413.666667  18.900000   \n",
       " 1842184          Skole   Normal Dag      Normal Dag  889.000000 -45.000000   \n",
       " 1842188          Skole  Skole-ferie     Sommerferie  401.000000  25.400000   \n",
       " \n",
       "          MOTION  IAQ  BOOKET  SKEMALAGT                  SKOLE_ID  \n",
       " 31          0.0  NaN     NaN        NaN  Thorsager Skole_12.1.002  \n",
       " 32          0.0  NaN     NaN        NaN  Thorsager Skole_12.1.002  \n",
       " 36          0.0  NaN     NaN        NaN  Thorsager Skole_12.1.002  \n",
       " 67          0.0  NaN     NaN        NaN  Thorsager Skole_12.1.002  \n",
       " 70          0.0  NaN     NaN        NaN  Thorsager Skole_12.1.002  \n",
       " ...         ...  ...     ...        ...                       ...  \n",
       " 1842131     0.0  NaN     NaN        NaN  Thorsager Skole_12.1.002  \n",
       " 1842145     0.0  NaN     NaN        NaN  Thorsager Skole_12.1.002  \n",
       " 1842168     0.0  NaN     NaN        NaN  Thorsager Skole_12.1.002  \n",
       " 1842184     0.0  NaN     NaN        NaN  Thorsager Skole_12.1.002  \n",
       " 1842188     0.0  NaN     NaN        NaN  Thorsager Skole_12.1.002  \n",
       " \n",
       " [38561 rows x 16 columns],\n",
       " 'Thorsager Skole_12.1.003':                ID   KOMMUNE            SKOLE        DATE      TIME  DAYNAME  \\\n",
       " 65       12.1.003  Syddjurs  Thorsager Skole  2022-10-31  10:45:00   Mandag   \n",
       " 163      12.1.003  Syddjurs  Thorsager Skole  2022-10-29  17:45:00  Loerdag   \n",
       " 220      12.1.003  Syddjurs  Thorsager Skole  2023-04-09  11:15:00  Soendag   \n",
       " 229      12.1.003  Syddjurs  Thorsager Skole  2022-11-15  06:00:00  Tirsdag   \n",
       " 300      12.1.003  Syddjurs  Thorsager Skole  2022-12-27  13:45:00  Tirsdag   \n",
       " ...           ...       ...              ...         ...       ...      ...   \n",
       " 1841956  12.1.003  Syddjurs  Thorsager Skole  2023-07-09  01:15:00  Soendag   \n",
       " 1842028  12.1.003  Syddjurs  Thorsager Skole  2022-09-11  01:30:00  Soendag   \n",
       " 1842091  12.1.003  Syddjurs  Thorsager Skole  2022-12-20  14:30:00  Tirsdag   \n",
       " 1842100  12.1.003  Syddjurs  Thorsager Skole  2023-04-21  08:00:00   Fredag   \n",
       " 1842138  12.1.003  Syddjurs  Thorsager Skole  2023-08-05  06:15:00  Loerdag   \n",
       " \n",
       "         TIDSPUNKT_TYPE         TYPE         NAVN          CO2       TEMP  \\\n",
       " 65               Skole   Normal Dag   Normal Dag  1105.000000  20.300000   \n",
       " 163             Fritid   Normal Dag   Normal Dag   561.000000  19.466667   \n",
       " 220             Fritid  Skole-ferie   Påskeferie   421.333333  19.200000   \n",
       " 229              Skole   Normal Dag   Normal Dag   499.666667  19.566667   \n",
       " 300              Skole  Skole-ferie    Juleferie   368.333333  22.633333   \n",
       " ...                ...          ...          ...          ...        ...   \n",
       " 1841956         Fritid  Skole-ferie  Sommerferie   400.000000  26.200000   \n",
       " 1842028         Fritid   Normal Dag   Normal Dag   454.000000  21.200000   \n",
       " 1842091          Skole   Normal Dag   Normal Dag   784.333333  18.700000   \n",
       " 1842100          Skole   Normal Dag   Normal Dag   587.000000  20.766667   \n",
       " 1842138         Fritid  Skole-ferie  Sommerferie   400.000000  26.200000   \n",
       " \n",
       "          MOTION  IAQ  BOOKET  SKEMALAGT                  SKOLE_ID  \n",
       " 65          0.0  NaN     NaN        NaN  Thorsager Skole_12.1.003  \n",
       " 163         0.0  NaN     NaN        NaN  Thorsager Skole_12.1.003  \n",
       " 220         0.0  NaN     NaN        NaN  Thorsager Skole_12.1.003  \n",
       " 229         0.0  NaN     NaN        NaN  Thorsager Skole_12.1.003  \n",
       " 300         0.0  NaN     NaN        NaN  Thorsager Skole_12.1.003  \n",
       " ...         ...  ...     ...        ...                       ...  \n",
       " 1841956     0.0  NaN     NaN        NaN  Thorsager Skole_12.1.003  \n",
       " 1842028     0.0  NaN     NaN        NaN  Thorsager Skole_12.1.003  \n",
       " 1842091     0.0  NaN     NaN        NaN  Thorsager Skole_12.1.003  \n",
       " 1842100     2.0  NaN     NaN        NaN  Thorsager Skole_12.1.003  \n",
       " 1842138     0.0  NaN     NaN        NaN  Thorsager Skole_12.1.003  \n",
       " \n",
       " [38561 rows x 16 columns],\n",
       " 'Thorsager Skole_13.0.002':                ID   KOMMUNE            SKOLE        DATE      TIME  DAYNAME  \\\n",
       " 63       13.0.002  Syddjurs  Thorsager Skole  2023-09-13  03:00:00   Onsdag   \n",
       " 144      13.0.002  Syddjurs  Thorsager Skole  2022-10-26  08:00:00   Onsdag   \n",
       " 171      13.0.002  Syddjurs  Thorsager Skole  2023-08-25  16:30:00   Fredag   \n",
       " 225      13.0.002  Syddjurs  Thorsager Skole  2023-06-08  05:30:00  Torsdag   \n",
       " 234      13.0.002  Syddjurs  Thorsager Skole  2022-11-18  00:00:00   Fredag   \n",
       " ...           ...       ...              ...         ...       ...      ...   \n",
       " 1842002  13.0.002  Syddjurs  Thorsager Skole  2023-08-17  15:15:00  Torsdag   \n",
       " 1842071  13.0.002  Syddjurs  Thorsager Skole  2022-12-09  01:00:00   Fredag   \n",
       " 1842151  13.0.002  Syddjurs  Thorsager Skole  2023-02-16  14:15:00  Torsdag   \n",
       " 1842173  13.0.002  Syddjurs  Thorsager Skole  2023-02-19  09:15:00  Soendag   \n",
       " 1842199  13.0.002  Syddjurs  Thorsager Skole  2023-09-13  01:30:00   Onsdag   \n",
       " \n",
       "         TIDSPUNKT_TYPE         TYPE         NAVN         CO2       TEMP  \\\n",
       " 63               Skole   Normal Dag   Normal Dag  542.000000  20.400000   \n",
       " 144              Skole   Normal Dag   Normal Dag  686.000000  17.500000   \n",
       " 171             Fritid   Normal Dag   Normal Dag  422.000000  27.600000   \n",
       " 225              Skole   Normal Dag   Normal Dag  423.333333  22.000000   \n",
       " 234              Skole   Normal Dag   Normal Dag  686.000000  17.500000   \n",
       " ...                ...          ...          ...         ...        ...   \n",
       " 1842002          Skole   Normal Dag   Normal Dag  422.000000  27.600000   \n",
       " 1842071          Skole   Normal Dag   Normal Dag  686.000000  17.500000   \n",
       " 1842151          Skole  Skole-ferie  Vinterferie  418.333333  18.366667   \n",
       " 1842173         Fritid  Skole-ferie  Vinterferie  414.000000  23.166667   \n",
       " 1842199          Skole   Normal Dag   Normal Dag  543.333333  20.900000   \n",
       " \n",
       "          MOTION  IAQ  BOOKET  SKEMALAGT                  SKOLE_ID  \n",
       " 63          0.0  NaN     NaN        NaN  Thorsager Skole_13.0.002  \n",
       " 144         3.0  NaN     NaN        NaN  Thorsager Skole_13.0.002  \n",
       " 171         0.0  NaN     NaN        NaN  Thorsager Skole_13.0.002  \n",
       " 225         0.0  NaN     NaN        NaN  Thorsager Skole_13.0.002  \n",
       " 234         3.0  NaN     NaN        NaN  Thorsager Skole_13.0.002  \n",
       " ...         ...  ...     ...        ...                       ...  \n",
       " 1842002     0.0  NaN     NaN        NaN  Thorsager Skole_13.0.002  \n",
       " 1842071     3.0  NaN     NaN        NaN  Thorsager Skole_13.0.002  \n",
       " 1842151     0.0  NaN     NaN        NaN  Thorsager Skole_13.0.002  \n",
       " 1842173     0.0  NaN     NaN        NaN  Thorsager Skole_13.0.002  \n",
       " 1842199     0.0  NaN     NaN        NaN  Thorsager Skole_13.0.002  \n",
       " \n",
       " [38561 rows x 16 columns],\n",
       " 'Thorsager Skole_13.0.004':                ID   KOMMUNE            SKOLE        DATE      TIME  DAYNAME  \\\n",
       " 7        13.0.004  Syddjurs  Thorsager Skole  2023-03-05  22:45:00  Soendag   \n",
       " 11       13.0.004  Syddjurs  Thorsager Skole  2022-09-03  09:00:00  Loerdag   \n",
       " 40       13.0.004  Syddjurs  Thorsager Skole  2023-05-31  02:00:00   Onsdag   \n",
       " 68       13.0.004  Syddjurs  Thorsager Skole  2022-10-08  09:15:00  Loerdag   \n",
       " 93       13.0.004  Syddjurs  Thorsager Skole  2023-07-12  12:30:00   Onsdag   \n",
       " ...           ...       ...              ...         ...       ...      ...   \n",
       " 1842144  13.0.004  Syddjurs  Thorsager Skole  2023-02-20  00:30:00   Mandag   \n",
       " 1842153  13.0.004  Syddjurs  Thorsager Skole  2023-08-22  06:45:00  Tirsdag   \n",
       " 1842155  13.0.004  Syddjurs  Thorsager Skole  2022-10-27  14:30:00  Torsdag   \n",
       " 1842196  13.0.004  Syddjurs  Thorsager Skole  2023-03-09  08:00:00  Torsdag   \n",
       " 1842198  13.0.004  Syddjurs  Thorsager Skole  2023-03-02  10:15:00  Torsdag   \n",
       " \n",
       "         TIDSPUNKT_TYPE         TYPE         NAVN          CO2       TEMP  \\\n",
       " 7               Fritid   Normal Dag   Normal Dag   382.333333  19.200000   \n",
       " 11              Fritid   Normal Dag   Normal Dag   439.000000  22.500000   \n",
       " 40               Skole    Helligdag     Pinsedag   805.333333  22.600000   \n",
       " 68              Fritid   Normal Dag   Normal Dag   522.000000  19.200000   \n",
       " 93               Skole  Skole-ferie  Sommerferie   518.000000  24.100000   \n",
       " ...                ...          ...          ...          ...        ...   \n",
       " 1842144          Skole   Normal Dag   Normal Dag   387.333333  18.500000   \n",
       " 1842153          Skole   Normal Dag   Normal Dag   637.333333  22.400000   \n",
       " 1842155          Skole   Normal Dag   Normal Dag  1622.000000  20.466667   \n",
       " 1842196          Skole   Normal Dag   Normal Dag   973.000000  19.533333   \n",
       " 1842198          Skole   Normal Dag   Normal Dag   786.000000  19.100000   \n",
       " \n",
       "            MOTION  IAQ  BOOKET  SKEMALAGT                  SKOLE_ID  \n",
       " 7        0.000000  NaN     NaN        NaN  Thorsager Skole_13.0.004  \n",
       " 11       0.000000  NaN     NaN        NaN  Thorsager Skole_13.0.004  \n",
       " 40       0.000000  NaN     NaN        NaN  Thorsager Skole_13.0.004  \n",
       " 68       0.000000  NaN     NaN        NaN  Thorsager Skole_13.0.004  \n",
       " 93       0.000000  NaN     NaN        NaN  Thorsager Skole_13.0.004  \n",
       " ...           ...  ...     ...        ...                       ...  \n",
       " 1842144  0.000000  NaN     NaN        NaN  Thorsager Skole_13.0.004  \n",
       " 1842153  0.000000  NaN     NaN        NaN  Thorsager Skole_13.0.004  \n",
       " 1842155  2.000000  NaN     NaN        NaN  Thorsager Skole_13.0.004  \n",
       " 1842196  2.333333  NaN     NaN        NaN  Thorsager Skole_13.0.004  \n",
       " 1842198  0.000000  NaN     NaN        NaN  Thorsager Skole_13.0.004  \n",
       " \n",
       " [38561 rows x 16 columns],\n",
       " 'Thorsager Skole_13.0.007':                ID   KOMMUNE            SKOLE        DATE      TIME  DAYNAME  \\\n",
       " 44       13.0.007  Syddjurs  Thorsager Skole  2023-07-22  08:00:00  Loerdag   \n",
       " 54       13.0.007  Syddjurs  Thorsager Skole  2023-05-14  18:00:00  Soendag   \n",
       " 196      13.0.007  Syddjurs  Thorsager Skole  2022-11-23  21:30:00   Onsdag   \n",
       " 305      13.0.007  Syddjurs  Thorsager Skole  2023-09-26  12:45:00  Tirsdag   \n",
       " 391      13.0.007  Syddjurs  Thorsager Skole  2022-11-30  15:30:00   Onsdag   \n",
       " ...           ...       ...              ...         ...       ...      ...   \n",
       " 1841987  13.0.007  Syddjurs  Thorsager Skole  2023-02-07  19:00:00  Tirsdag   \n",
       " 1841988  13.0.007  Syddjurs  Thorsager Skole  2023-07-03  04:45:00   Mandag   \n",
       " 1842047  13.0.007  Syddjurs  Thorsager Skole  2023-08-25  02:45:00   Fredag   \n",
       " 1842094  13.0.007  Syddjurs  Thorsager Skole  2023-05-05  09:45:00   Fredag   \n",
       " 1842104  13.0.007  Syddjurs  Thorsager Skole  2022-12-21  16:30:00   Onsdag   \n",
       " \n",
       "         TIDSPUNKT_TYPE         TYPE           NAVN          CO2       TEMP  \\\n",
       " 44              Fritid  Skole-ferie    Sommerferie   419.000000  18.100000   \n",
       " 54              Fritid   Normal Dag     Normal Dag   397.333333  24.833333   \n",
       " 196             Fritid   Normal Dag     Normal Dag   435.000000  17.366667   \n",
       " 305              Skole   Normal Dag     Normal Dag   419.000000  18.100000   \n",
       " 391              Skole   Normal Dag     Normal Dag  1206.666667  16.800000   \n",
       " ...                ...          ...            ...          ...        ...   \n",
       " 1841987         Fritid   Normal Dag     Normal Dag   732.333333  12.966667   \n",
       " 1841988          Skole  Skole-ferie    Sommerferie   419.000000  18.100000   \n",
       " 1842047          Skole   Normal Dag     Normal Dag   419.000000  18.100000   \n",
       " 1842094          Skole    Helligdag  Store bededag   417.666667  18.433333   \n",
       " 1842104         Fritid   Normal Dag     Normal Dag   637.000000  19.300000   \n",
       " \n",
       "          MOTION  IAQ  BOOKET  SKEMALAGT                  SKOLE_ID  \n",
       " 44          0.0  NaN     NaN        NaN  Thorsager Skole_13.0.007  \n",
       " 54          0.0  NaN     NaN        NaN  Thorsager Skole_13.0.007  \n",
       " 196         0.0  NaN     NaN        NaN  Thorsager Skole_13.0.007  \n",
       " 305         0.0  NaN     NaN        NaN  Thorsager Skole_13.0.007  \n",
       " 391         0.0  NaN     NaN        NaN  Thorsager Skole_13.0.007  \n",
       " ...         ...  ...     ...        ...                       ...  \n",
       " 1841987     0.0  NaN     NaN        NaN  Thorsager Skole_13.0.007  \n",
       " 1841988     0.0  NaN     NaN        NaN  Thorsager Skole_13.0.007  \n",
       " 1842047     0.0  NaN     NaN        NaN  Thorsager Skole_13.0.007  \n",
       " 1842094     0.0  NaN     NaN        NaN  Thorsager Skole_13.0.007  \n",
       " 1842104     0.0  NaN     NaN        NaN  Thorsager Skole_13.0.007  \n",
       " \n",
       " [38561 rows x 16 columns],\n",
       " 'Thorsager Skole_2.0.003':               ID   KOMMUNE            SKOLE        DATE      TIME  DAYNAME  \\\n",
       " 3        2.0.003  Syddjurs  Thorsager Skole  2022-09-23  09:00:00   Fredag   \n",
       " 156      2.0.003  Syddjurs  Thorsager Skole  2022-12-28  16:00:00   Onsdag   \n",
       " 161      2.0.003  Syddjurs  Thorsager Skole  2023-06-26  03:45:00   Mandag   \n",
       " 222      2.0.003  Syddjurs  Thorsager Skole  2023-07-22  20:00:00  Loerdag   \n",
       " 284      2.0.003  Syddjurs  Thorsager Skole  2022-11-14  03:15:00   Mandag   \n",
       " ...          ...       ...              ...         ...       ...      ...   \n",
       " 1842070  2.0.003  Syddjurs  Thorsager Skole  2023-05-17  23:30:00   Onsdag   \n",
       " 1842097  2.0.003  Syddjurs  Thorsager Skole  2023-07-16  08:30:00  Soendag   \n",
       " 1842123  2.0.003  Syddjurs  Thorsager Skole  2023-05-13  23:45:00  Loerdag   \n",
       " 1842150  2.0.003  Syddjurs  Thorsager Skole  2022-10-28  04:30:00   Fredag   \n",
       " 1842186  2.0.003  Syddjurs  Thorsager Skole  2023-09-15  10:00:00   Fredag   \n",
       " \n",
       "         TIDSPUNKT_TYPE         TYPE         NAVN         CO2       TEMP  \\\n",
       " 3                Skole   Normal Dag   Normal Dag  448.333333  20.166667   \n",
       " 156             Fritid  Skole-ferie    Juleferie  396.000000  17.500000   \n",
       " 161              Skole  Skole-ferie  Sommerferie  480.000000  27.400000   \n",
       " 222             Fritid  Skole-ferie  Sommerferie  480.000000  27.400000   \n",
       " 284              Skole   Normal Dag   Normal Dag  436.666667  15.700000   \n",
       " ...                ...          ...          ...         ...        ...   \n",
       " 1842070         Fritid   Normal Dag   Normal Dag  414.333333  20.300000   \n",
       " 1842097         Fritid  Skole-ferie  Sommerferie  480.000000  27.400000   \n",
       " 1842123         Fritid   Normal Dag   Normal Dag  445.666667  24.100000   \n",
       " 1842150          Skole   Normal Dag   Normal Dag  432.000000  17.500000   \n",
       " 1842186          Skole   Normal Dag   Normal Dag  418.000000  20.266667   \n",
       " \n",
       "          MOTION  IAQ  BOOKET  SKEMALAGT                 SKOLE_ID  \n",
       " 3           0.0  NaN     NaN        NaN  Thorsager Skole_2.0.003  \n",
       " 156         0.0  NaN     NaN        NaN  Thorsager Skole_2.0.003  \n",
       " 161         0.0  NaN     NaN        NaN  Thorsager Skole_2.0.003  \n",
       " 222         0.0  NaN     NaN        NaN  Thorsager Skole_2.0.003  \n",
       " 284         0.0  NaN     NaN        NaN  Thorsager Skole_2.0.003  \n",
       " ...         ...  ...     ...        ...                      ...  \n",
       " 1842070     0.0  NaN     NaN        NaN  Thorsager Skole_2.0.003  \n",
       " 1842097     0.0  NaN     NaN        NaN  Thorsager Skole_2.0.003  \n",
       " 1842123     0.0  NaN     NaN        NaN  Thorsager Skole_2.0.003  \n",
       " 1842150     0.0  NaN     NaN        NaN  Thorsager Skole_2.0.003  \n",
       " 1842186     0.0  NaN     NaN        NaN  Thorsager Skole_2.0.003  \n",
       " \n",
       " [38561 rows x 16 columns],\n",
       " 'Thorsager Skole_2.0.004':               ID   KOMMUNE            SKOLE        DATE      TIME  DAYNAME  \\\n",
       " 94       2.0.004  Syddjurs  Thorsager Skole  2023-04-25  14:00:00  Tirsdag   \n",
       " 131      2.0.004  Syddjurs  Thorsager Skole  2022-10-27  11:00:00  Torsdag   \n",
       " 136      2.0.004  Syddjurs  Thorsager Skole  2022-12-01  09:15:00  Torsdag   \n",
       " 155      2.0.004  Syddjurs  Thorsager Skole  2023-01-21  07:15:00  Loerdag   \n",
       " 241      2.0.004  Syddjurs  Thorsager Skole  2023-05-17  18:45:00   Onsdag   \n",
       " ...          ...       ...              ...         ...       ...      ...   \n",
       " 1842099  2.0.004  Syddjurs  Thorsager Skole  2023-04-16  00:45:00  Soendag   \n",
       " 1842102  2.0.004  Syddjurs  Thorsager Skole  2023-05-21  05:30:00  Soendag   \n",
       " 1842109  2.0.004  Syddjurs  Thorsager Skole  2023-04-08  19:30:00  Loerdag   \n",
       " 1842120  2.0.004  Syddjurs  Thorsager Skole  2023-08-27  21:15:00  Soendag   \n",
       " 1842171  2.0.004  Syddjurs  Thorsager Skole  2023-06-14  10:30:00   Onsdag   \n",
       " \n",
       "         TIDSPUNKT_TYPE         TYPE        NAVN           CO2       TEMP  \\\n",
       " 94               Skole   Normal Dag  Normal Dag   6957.000000  18.300000   \n",
       " 131              Skole   Normal Dag  Normal Dag  10000.000000  19.400000   \n",
       " 136              Skole   Normal Dag  Normal Dag  10000.000000  19.400000   \n",
       " 155             Fritid   Normal Dag  Normal Dag  10000.000000  20.050000   \n",
       " 241             Fritid   Normal Dag  Normal Dag   5695.000000  19.533333   \n",
       " ...                ...          ...         ...           ...        ...   \n",
       " 1842099         Fritid   Normal Dag  Normal Dag   6672.500000  18.550000   \n",
       " 1842102         Fritid   Normal Dag  Normal Dag   5866.333333  19.333333   \n",
       " 1842109         Fritid  Skole-ferie  Påskeferie   6950.333333  21.300000   \n",
       " 1842120         Fritid   Normal Dag  Normal Dag   4770.000000  22.500000   \n",
       " 1842171          Skole   Normal Dag  Normal Dag   5147.000000  28.700000   \n",
       " \n",
       "          MOTION  IAQ  BOOKET  SKEMALAGT                 SKOLE_ID  \n",
       " 94          0.0  NaN     NaN        NaN  Thorsager Skole_2.0.004  \n",
       " 131         0.0  NaN     NaN        NaN  Thorsager Skole_2.0.004  \n",
       " 136         0.0  NaN     NaN        NaN  Thorsager Skole_2.0.004  \n",
       " 155         0.0  NaN     NaN        NaN  Thorsager Skole_2.0.004  \n",
       " 241         0.0  NaN     NaN        NaN  Thorsager Skole_2.0.004  \n",
       " ...         ...  ...     ...        ...                      ...  \n",
       " 1842099     0.0  NaN     NaN        NaN  Thorsager Skole_2.0.004  \n",
       " 1842102     0.0  NaN     NaN        NaN  Thorsager Skole_2.0.004  \n",
       " 1842109     0.0  NaN     NaN        NaN  Thorsager Skole_2.0.004  \n",
       " 1842120     0.0  NaN     NaN        NaN  Thorsager Skole_2.0.004  \n",
       " 1842171     0.0  NaN     NaN        NaN  Thorsager Skole_2.0.004  \n",
       " \n",
       " [38561 rows x 16 columns],\n",
       " 'Thorsager Skole_2.0.008':               ID   KOMMUNE            SKOLE        DATE      TIME  DAYNAME  \\\n",
       " 117      2.0.008  Syddjurs  Thorsager Skole  2022-10-08  19:15:00  Loerdag   \n",
       " 244      2.0.008  Syddjurs  Thorsager Skole  2023-05-04  18:45:00  Torsdag   \n",
       " 255      2.0.008  Syddjurs  Thorsager Skole  2023-06-16  10:15:00   Fredag   \n",
       " 268      2.0.008  Syddjurs  Thorsager Skole  2022-09-17  02:45:00  Loerdag   \n",
       " 357      2.0.008  Syddjurs  Thorsager Skole  2023-07-03  02:45:00   Mandag   \n",
       " ...          ...       ...              ...         ...       ...      ...   \n",
       " 1842084  2.0.008  Syddjurs  Thorsager Skole  2023-05-12  21:00:00   Fredag   \n",
       " 1842110  2.0.008  Syddjurs  Thorsager Skole  2023-08-28  06:00:00   Mandag   \n",
       " 1842113  2.0.008  Syddjurs  Thorsager Skole  2023-05-02  23:45:00  Tirsdag   \n",
       " 1842121  2.0.008  Syddjurs  Thorsager Skole  2023-05-19  17:30:00   Fredag   \n",
       " 1842161  2.0.008  Syddjurs  Thorsager Skole  2023-08-04  14:30:00   Fredag   \n",
       " \n",
       "         TIDSPUNKT_TYPE         TYPE         NAVN      CO2       TEMP  MOTION  \\\n",
       " 117             Fritid   Normal Dag   Normal Dag  10000.0  18.233333     0.0   \n",
       " 244             Fritid   Normal Dag   Normal Dag  10000.0  23.866667     0.0   \n",
       " 255              Skole   Normal Dag   Normal Dag  10000.0  26.300000     0.0   \n",
       " 268             Fritid   Normal Dag   Normal Dag  10000.0  19.100000     0.0   \n",
       " 357              Skole  Skole-ferie  Sommerferie  10000.0  26.300000     0.0   \n",
       " ...                ...          ...          ...      ...        ...     ...   \n",
       " 1842084         Fritid   Normal Dag   Normal Dag  10000.0  25.966667     0.0   \n",
       " 1842110          Skole   Normal Dag   Normal Dag  10000.0  26.300000     0.0   \n",
       " 1842113         Fritid   Normal Dag   Normal Dag  10000.0  23.266667     0.0   \n",
       " 1842121         Fritid   Normal Dag   Normal Dag  10000.0  21.866667     0.0   \n",
       " 1842161          Skole  Skole-ferie  Sommerferie  10000.0  26.300000     0.0   \n",
       " \n",
       "          IAQ  BOOKET  SKEMALAGT                 SKOLE_ID  \n",
       " 117      NaN     NaN        NaN  Thorsager Skole_2.0.008  \n",
       " 244      NaN     NaN        NaN  Thorsager Skole_2.0.008  \n",
       " 255      NaN     NaN        NaN  Thorsager Skole_2.0.008  \n",
       " 268      NaN     NaN        NaN  Thorsager Skole_2.0.008  \n",
       " 357      NaN     NaN        NaN  Thorsager Skole_2.0.008  \n",
       " ...      ...     ...        ...                      ...  \n",
       " 1842084  NaN     NaN        NaN  Thorsager Skole_2.0.008  \n",
       " 1842110  NaN     NaN        NaN  Thorsager Skole_2.0.008  \n",
       " 1842113  NaN     NaN        NaN  Thorsager Skole_2.0.008  \n",
       " 1842121  NaN     NaN        NaN  Thorsager Skole_2.0.008  \n",
       " 1842161  NaN     NaN        NaN  Thorsager Skole_2.0.008  \n",
       " \n",
       " [38561 rows x 16 columns],\n",
       " 'Thorsager Skole_4.0.001':               ID   KOMMUNE            SKOLE        DATE      TIME  DAYNAME  \\\n",
       " 23       4.0.001  Syddjurs  Thorsager Skole  2023-08-06  12:15:00  Soendag   \n",
       " 85       4.0.001  Syddjurs  Thorsager Skole  2023-10-04  11:30:00   Onsdag   \n",
       " 104      4.0.001  Syddjurs  Thorsager Skole  2023-04-11  19:00:00  Tirsdag   \n",
       " 236      4.0.001  Syddjurs  Thorsager Skole  2023-06-11  22:00:00  Soendag   \n",
       " 254      4.0.001  Syddjurs  Thorsager Skole  2022-09-12  19:00:00   Mandag   \n",
       " ...          ...       ...              ...         ...       ...      ...   \n",
       " 1842136  4.0.001  Syddjurs  Thorsager Skole  2022-12-17  22:15:00  Loerdag   \n",
       " 1842139  4.0.001  Syddjurs  Thorsager Skole  2023-01-03  12:30:00  Tirsdag   \n",
       " 1842176  4.0.001  Syddjurs  Thorsager Skole  2022-12-17  09:30:00  Loerdag   \n",
       " 1842197  4.0.001  Syddjurs  Thorsager Skole  2022-12-15  13:30:00  Torsdag   \n",
       " 1842207  4.0.001  Syddjurs  Thorsager Skole  2023-02-01  04:00:00   Onsdag   \n",
       " \n",
       "         TIDSPUNKT_TYPE         TYPE         NAVN          CO2       TEMP  \\\n",
       " 23              Fritid  Skole-ferie  Sommerferie   548.500000  23.900000   \n",
       " 85               Skole   Normal Dag   Normal Dag  1236.500000  21.666667   \n",
       " 104             Fritid   Normal Dag   Normal Dag   545.833333  21.400000   \n",
       " 236             Fritid   Normal Dag   Normal Dag   390.166667  23.650000   \n",
       " 254             Fritid   Normal Dag   Normal Dag   491.166667  21.450000   \n",
       " ...                ...          ...          ...          ...        ...   \n",
       " 1842136         Fritid   Normal Dag   Normal Dag   407.833333  19.900000   \n",
       " 1842139          Skole   Normal Dag   Normal Dag   448.500000  20.300000   \n",
       " 1842176         Fritid   Normal Dag   Normal Dag   415.000000  19.833333   \n",
       " 1842197          Skole   Normal Dag   Normal Dag  1132.000000  20.300000   \n",
       " 1842207          Skole   Normal Dag   Normal Dag   513.500000  19.750000   \n",
       " \n",
       "            MOTION  IAQ  BOOKET  SKEMALAGT                 SKOLE_ID  \n",
       " 23       0.000000  NaN     NaN        NaN  Thorsager Skole_4.0.001  \n",
       " 85       0.333333  NaN     NaN        NaN  Thorsager Skole_4.0.001  \n",
       " 104      0.000000  NaN     NaN        NaN  Thorsager Skole_4.0.001  \n",
       " 236      0.000000  NaN     NaN        NaN  Thorsager Skole_4.0.001  \n",
       " 254      0.000000  NaN     NaN        NaN  Thorsager Skole_4.0.001  \n",
       " ...           ...  ...     ...        ...                      ...  \n",
       " 1842136  0.000000  NaN     NaN        NaN  Thorsager Skole_4.0.001  \n",
       " 1842139  0.000000  NaN     NaN        1.0  Thorsager Skole_4.0.001  \n",
       " 1842176  0.000000  NaN     NaN        NaN  Thorsager Skole_4.0.001  \n",
       " 1842197  0.000000  NaN     NaN        NaN  Thorsager Skole_4.0.001  \n",
       " 1842207  0.000000  NaN     NaN        NaN  Thorsager Skole_4.0.001  \n",
       " \n",
       " [38561 rows x 16 columns],\n",
       " 'Thorsager Skole_4.0.009':               ID   KOMMUNE            SKOLE        DATE      TIME  DAYNAME  \\\n",
       " 89       4.0.009  Syddjurs  Thorsager Skole  2023-03-15  16:15:00   Onsdag   \n",
       " 126      4.0.009  Syddjurs  Thorsager Skole  2022-09-19  00:15:00   Mandag   \n",
       " 174      4.0.009  Syddjurs  Thorsager Skole  2023-08-25  08:00:00   Fredag   \n",
       " 179      4.0.009  Syddjurs  Thorsager Skole  2023-02-13  14:15:00   Mandag   \n",
       " 185      4.0.009  Syddjurs  Thorsager Skole  2023-04-24  08:30:00   Mandag   \n",
       " ...          ...       ...              ...         ...       ...      ...   \n",
       " 1842042  4.0.009  Syddjurs  Thorsager Skole  2023-03-21  20:00:00  Tirsdag   \n",
       " 1842057  4.0.009  Syddjurs  Thorsager Skole  2023-01-14  19:15:00  Loerdag   \n",
       " 1842081  4.0.009  Syddjurs  Thorsager Skole  2022-10-30  20:00:00  Soendag   \n",
       " 1842127  4.0.009  Syddjurs  Thorsager Skole  2023-03-15  07:15:00   Onsdag   \n",
       " 1842143  4.0.009  Syddjurs  Thorsager Skole  2023-08-30  02:00:00   Onsdag   \n",
       " \n",
       "         TIDSPUNKT_TYPE         TYPE         NAVN          CO2       TEMP  \\\n",
       " 89              Fritid   Normal Dag   Normal Dag   718.666667  19.033333   \n",
       " 126              Skole   Normal Dag   Normal Dag   394.000000  22.333333   \n",
       " 174              Skole   Normal Dag   Normal Dag   546.666667  22.100000   \n",
       " 179              Skole  Skole-ferie  Vinterferie   547.666667  19.366667   \n",
       " 185              Skole   Normal Dag   Normal Dag   544.333333  17.000000   \n",
       " ...                ...          ...          ...          ...        ...   \n",
       " 1842042         Fritid   Normal Dag   Normal Dag  1268.666667  18.866667   \n",
       " 1842057         Fritid   Normal Dag   Normal Dag   502.000000  21.100000   \n",
       " 1842081         Fritid   Normal Dag   Normal Dag   502.000000  21.100000   \n",
       " 1842127          Skole   Normal Dag   Normal Dag   420.000000  15.800000   \n",
       " 1842143          Skole   Normal Dag   Normal Dag   477.333333  20.466667   \n",
       " \n",
       "            MOTION  IAQ  BOOKET  SKEMALAGT                 SKOLE_ID  \n",
       " 89       0.000000  NaN     NaN        NaN  Thorsager Skole_4.0.009  \n",
       " 126      0.000000  NaN     NaN        NaN  Thorsager Skole_4.0.009  \n",
       " 174      0.000000  NaN     NaN        NaN  Thorsager Skole_4.0.009  \n",
       " 179      0.000000  NaN     NaN        NaN  Thorsager Skole_4.0.009  \n",
       " 185      0.000000  NaN     NaN        NaN  Thorsager Skole_4.0.009  \n",
       " ...           ...  ...     ...        ...                      ...  \n",
       " 1842042  2.666667  NaN     NaN        NaN  Thorsager Skole_4.0.009  \n",
       " 1842057  0.000000  NaN     NaN        NaN  Thorsager Skole_4.0.009  \n",
       " 1842081  0.000000  NaN     NaN        NaN  Thorsager Skole_4.0.009  \n",
       " 1842127  0.000000  NaN     NaN        NaN  Thorsager Skole_4.0.009  \n",
       " 1842143  0.000000  NaN     NaN        NaN  Thorsager Skole_4.0.009  \n",
       " \n",
       " [38561 rows x 16 columns],\n",
       " 'Thorsager Skole_4.0.012':               ID   KOMMUNE            SKOLE        DATE      TIME  DAYNAME  \\\n",
       " 35       4.0.012  Syddjurs  Thorsager Skole  2022-10-07  03:30:00   Fredag   \n",
       " 154      4.0.012  Syddjurs  Thorsager Skole  2023-07-10  22:45:00   Mandag   \n",
       " 169      4.0.012  Syddjurs  Thorsager Skole  2023-02-16  11:15:00  Torsdag   \n",
       " 249      4.0.012  Syddjurs  Thorsager Skole  2022-12-12  20:30:00   Mandag   \n",
       " 281      4.0.012  Syddjurs  Thorsager Skole  2023-05-21  23:15:00  Soendag   \n",
       " ...          ...       ...              ...         ...       ...      ...   \n",
       " 1842111  4.0.012  Syddjurs  Thorsager Skole  2022-12-15  23:00:00  Torsdag   \n",
       " 1842118  4.0.012  Syddjurs  Thorsager Skole  2023-01-23  05:30:00   Mandag   \n",
       " 1842166  4.0.012  Syddjurs  Thorsager Skole  2023-05-28  22:30:00  Soendag   \n",
       " 1842174  4.0.012  Syddjurs  Thorsager Skole  2023-06-30  00:45:00   Fredag   \n",
       " 1842203  4.0.012  Syddjurs  Thorsager Skole  2022-10-04  20:30:00  Tirsdag   \n",
       " \n",
       "         TIDSPUNKT_TYPE         TYPE         NAVN         CO2       TEMP  \\\n",
       " 35               Skole   Normal Dag   Normal Dag  476.333333  22.500000   \n",
       " 154             Fritid  Skole-ferie  Sommerferie  407.000000  23.900000   \n",
       " 169              Skole  Skole-ferie  Vinterferie  464.000000  21.200000   \n",
       " 249             Fritid   Normal Dag   Normal Dag  622.666667  18.733333   \n",
       " 281             Fritid   Normal Dag   Normal Dag  400.000000  22.500000   \n",
       " ...                ...          ...          ...         ...        ...   \n",
       " 1842111         Fritid   Normal Dag   Normal Dag  557.333333  17.900000   \n",
       " 1842118          Skole   Normal Dag   Normal Dag  438.000000  18.900000   \n",
       " 1842166         Fritid   Normal Dag   Normal Dag  431.000000  20.766667   \n",
       " 1842174          Skole  Skole-ferie  Sommerferie  407.000000  23.900000   \n",
       " 1842203         Fritid   Normal Dag   Normal Dag  665.333333  22.300000   \n",
       " \n",
       "          MOTION  IAQ  BOOKET  SKEMALAGT                 SKOLE_ID  \n",
       " 35          0.0  NaN     NaN        NaN  Thorsager Skole_4.0.012  \n",
       " 154         0.0  NaN     NaN        NaN  Thorsager Skole_4.0.012  \n",
       " 169         2.0  NaN     NaN        NaN  Thorsager Skole_4.0.012  \n",
       " 249         0.0  NaN     NaN        NaN  Thorsager Skole_4.0.012  \n",
       " 281         0.0  NaN     NaN        NaN  Thorsager Skole_4.0.012  \n",
       " ...         ...  ...     ...        ...                      ...  \n",
       " 1842111     0.0  NaN     NaN        NaN  Thorsager Skole_4.0.012  \n",
       " 1842118     0.0  NaN     NaN        NaN  Thorsager Skole_4.0.012  \n",
       " 1842166     0.0  NaN     NaN        NaN  Thorsager Skole_4.0.012  \n",
       " 1842174     0.0  NaN     NaN        NaN  Thorsager Skole_4.0.012  \n",
       " 1842203     0.0  NaN     NaN        NaN  Thorsager Skole_4.0.012  \n",
       " \n",
       " [38561 rows x 16 columns],\n",
       " 'Thorsager Skole_7.0.001':               ID   KOMMUNE            SKOLE        DATE      TIME  DAYNAME  \\\n",
       " 177      7.0.001  Syddjurs  Thorsager Skole  2023-06-10  11:45:00  Loerdag   \n",
       " 341      7.0.001  Syddjurs  Thorsager Skole  2023-02-19  17:15:00  Soendag   \n",
       " 342      7.0.001  Syddjurs  Thorsager Skole  2022-10-30  03:30:00  Soendag   \n",
       " 380      7.0.001  Syddjurs  Thorsager Skole  2022-09-25  10:30:00  Soendag   \n",
       " 389      7.0.001  Syddjurs  Thorsager Skole  2023-04-09  19:00:00  Soendag   \n",
       " ...          ...       ...              ...         ...       ...      ...   \n",
       " 1842134  7.0.001  Syddjurs  Thorsager Skole  2023-05-24  10:00:00   Onsdag   \n",
       " 1842147  7.0.001  Syddjurs  Thorsager Skole  2023-05-27  04:45:00  Loerdag   \n",
       " 1842158  7.0.001  Syddjurs  Thorsager Skole  2022-11-02  13:00:00   Onsdag   \n",
       " 1842175  7.0.001  Syddjurs  Thorsager Skole  2023-08-08  10:00:00  Tirsdag   \n",
       " 1842204  7.0.001  Syddjurs  Thorsager Skole  2023-09-22  04:45:00   Fredag   \n",
       " \n",
       "         TIDSPUNKT_TYPE         TYPE         NAVN         CO2       TEMP  \\\n",
       " 177             Fritid   Normal Dag   Normal Dag  457.000000  27.000000   \n",
       " 341             Fritid  Skole-ferie  Vinterferie  398.666667  16.800000   \n",
       " 342             Fritid   Normal Dag   Normal Dag  586.000000  19.700000   \n",
       " 380             Fritid   Normal Dag   Normal Dag  449.333333  17.733333   \n",
       " 389             Fritid  Skole-ferie   Påskeferie  409.333333  24.733333   \n",
       " ...                ...          ...          ...         ...        ...   \n",
       " 1842134          Skole   Normal Dag   Normal Dag  902.000000  23.766667   \n",
       " 1842147         Fritid   Normal Dag   Normal Dag  449.333333  20.033333   \n",
       " 1842158          Skole   Normal Dag   Normal Dag  586.000000  19.700000   \n",
       " 1842175          Skole  Skole-ferie  Sommerferie  358.000000  30.100000   \n",
       " 1842204          Skole   Normal Dag   Normal Dag  358.000000  30.100000   \n",
       " \n",
       "          MOTION  IAQ  BOOKET  SKEMALAGT                 SKOLE_ID  \n",
       " 177         0.0  NaN     NaN        NaN  Thorsager Skole_7.0.001  \n",
       " 341         0.0  NaN     NaN        NaN  Thorsager Skole_7.0.001  \n",
       " 342         0.0  NaN     NaN        NaN  Thorsager Skole_7.0.001  \n",
       " 380         0.0  NaN     NaN        NaN  Thorsager Skole_7.0.001  \n",
       " 389         0.0  NaN     NaN        NaN  Thorsager Skole_7.0.001  \n",
       " ...         ...  ...     ...        ...                      ...  \n",
       " 1842134     0.0  NaN     NaN        NaN  Thorsager Skole_7.0.001  \n",
       " 1842147     0.0  NaN     NaN        NaN  Thorsager Skole_7.0.001  \n",
       " 1842158     0.0  NaN     NaN        NaN  Thorsager Skole_7.0.001  \n",
       " 1842175     0.0  NaN     NaN        NaN  Thorsager Skole_7.0.001  \n",
       " 1842204     0.0  NaN     NaN        NaN  Thorsager Skole_7.0.001  \n",
       " \n",
       " [38561 rows x 16 columns],\n",
       " 'Thorsager Skole_7.0.002':               ID   KOMMUNE            SKOLE        DATE      TIME  DAYNAME  \\\n",
       " 138      7.0.002  Syddjurs  Thorsager Skole  2023-09-23  09:00:00  Loerdag   \n",
       " 238      7.0.002  Syddjurs  Thorsager Skole  2022-12-02  15:30:00   Fredag   \n",
       " 250      7.0.002  Syddjurs  Thorsager Skole  2022-09-02  03:30:00   Fredag   \n",
       " 270      7.0.002  Syddjurs  Thorsager Skole  2023-04-11  03:30:00  Tirsdag   \n",
       " 367      7.0.002  Syddjurs  Thorsager Skole  2022-10-29  03:00:00  Loerdag   \n",
       " ...          ...       ...              ...         ...       ...      ...   \n",
       " 1842141  7.0.002  Syddjurs  Thorsager Skole  2023-02-10  07:15:00   Fredag   \n",
       " 1842146  7.0.002  Syddjurs  Thorsager Skole  2023-03-19  13:30:00  Soendag   \n",
       " 1842169  7.0.002  Syddjurs  Thorsager Skole  2022-11-05  05:45:00  Loerdag   \n",
       " 1842202  7.0.002  Syddjurs  Thorsager Skole  2023-06-18  02:15:00  Soendag   \n",
       " 1842206  7.0.002  Syddjurs  Thorsager Skole  2023-03-19  09:30:00  Soendag   \n",
       " \n",
       "         TIDSPUNKT_TYPE        TYPE        NAVN          CO2       TEMP  \\\n",
       " 138             Fritid  Normal Dag  Normal Dag   421.833333  20.150000   \n",
       " 238              Skole  Normal Dag  Normal Dag  1107.000000 -45.000000   \n",
       " 250              Skole  Normal Dag  Normal Dag   461.666667  21.300000   \n",
       " 270              Skole  Normal Dag  Normal Dag   355.666667  15.400000   \n",
       " 367             Fritid  Normal Dag  Normal Dag  1107.000000 -45.000000   \n",
       " ...                ...         ...         ...          ...        ...   \n",
       " 1842141          Skole  Normal Dag  Normal Dag   540.333333  14.600000   \n",
       " 1842146         Fritid  Normal Dag  Normal Dag   432.333333  17.400000   \n",
       " 1842169         Fritid  Normal Dag  Normal Dag  1107.000000 -45.000000   \n",
       " 1842202         Fritid  Normal Dag  Normal Dag   369.000000  30.100000   \n",
       " 1842206         Fritid  Normal Dag  Normal Dag   449.666667  16.033333   \n",
       " \n",
       "          MOTION  IAQ  BOOKET  SKEMALAGT                 SKOLE_ID  \n",
       " 138         0.0  NaN     NaN        NaN  Thorsager Skole_7.0.002  \n",
       " 238         0.0  NaN     NaN        NaN  Thorsager Skole_7.0.002  \n",
       " 250         0.0  NaN     NaN        NaN  Thorsager Skole_7.0.002  \n",
       " 270         0.0  NaN     NaN        NaN  Thorsager Skole_7.0.002  \n",
       " 367         0.0  NaN     NaN        NaN  Thorsager Skole_7.0.002  \n",
       " ...         ...  ...     ...        ...                      ...  \n",
       " 1842141     0.0  NaN     NaN        NaN  Thorsager Skole_7.0.002  \n",
       " 1842146     0.0  NaN     NaN        NaN  Thorsager Skole_7.0.002  \n",
       " 1842169     0.0  NaN     NaN        NaN  Thorsager Skole_7.0.002  \n",
       " 1842202     0.0  NaN     NaN        NaN  Thorsager Skole_7.0.002  \n",
       " 1842206     0.0  NaN     NaN        NaN  Thorsager Skole_7.0.002  \n",
       " \n",
       " [38561 rows x 16 columns],\n",
       " 'Thorsager Skole_8.0.001':               ID   KOMMUNE            SKOLE        DATE      TIME  DAYNAME  \\\n",
       " 111      8.0.001  Syddjurs  Thorsager Skole  2022-09-17  19:45:00  Loerdag   \n",
       " 200      8.0.001  Syddjurs  Thorsager Skole  2023-01-18  20:45:00   Onsdag   \n",
       " 205      8.0.001  Syddjurs  Thorsager Skole  2023-03-24  07:30:00   Fredag   \n",
       " 208      8.0.001  Syddjurs  Thorsager Skole  2023-09-07  23:30:00  Torsdag   \n",
       " 354      8.0.001  Syddjurs  Thorsager Skole  2022-12-06  22:30:00  Tirsdag   \n",
       " ...          ...       ...              ...         ...       ...      ...   \n",
       " 1842075  8.0.001  Syddjurs  Thorsager Skole  2023-07-08  15:15:00  Loerdag   \n",
       " 1842090  8.0.001  Syddjurs  Thorsager Skole  2023-10-09  10:30:00   Mandag   \n",
       " 1842154  8.0.001  Syddjurs  Thorsager Skole  2023-05-04  09:45:00  Torsdag   \n",
       " 1842157  8.0.001  Syddjurs  Thorsager Skole  2023-06-24  05:45:00  Loerdag   \n",
       " 1842187  8.0.001  Syddjurs  Thorsager Skole  2023-07-06  06:15:00  Torsdag   \n",
       " \n",
       "         TIDSPUNKT_TYPE         TYPE         NAVN         CO2       TEMP  \\\n",
       " 111             Fritid   Normal Dag   Normal Dag  388.666667  22.133333   \n",
       " 200             Fritid   Normal Dag   Normal Dag  712.000000  22.000000   \n",
       " 205              Skole   Normal Dag   Normal Dag  773.000000  19.000000   \n",
       " 208             Fritid   Normal Dag   Normal Dag  510.666667  23.300000   \n",
       " 354             Fritid   Normal Dag   Normal Dag  712.000000  22.000000   \n",
       " ...                ...          ...          ...         ...        ...   \n",
       " 1842075         Fritid  Skole-ferie  Sommerferie  421.000000  24.000000   \n",
       " 1842090          Skole   Normal Dag   Normal Dag  794.000000  19.200000   \n",
       " 1842154          Skole   Normal Dag   Normal Dag  839.000000  20.133333   \n",
       " 1842157         Fritid   Normal Dag   Normal Dag  421.000000  24.000000   \n",
       " 1842187          Skole  Skole-ferie  Sommerferie  421.000000  24.000000   \n",
       " \n",
       "            MOTION  IAQ  BOOKET  SKEMALAGT                 SKOLE_ID  \n",
       " 111      0.000000  NaN     NaN        NaN  Thorsager Skole_8.0.001  \n",
       " 200      1.000000  NaN     NaN        NaN  Thorsager Skole_8.0.001  \n",
       " 205      7.000000  NaN     NaN        NaN  Thorsager Skole_8.0.001  \n",
       " 208      0.000000  NaN     NaN        NaN  Thorsager Skole_8.0.001  \n",
       " 354      1.000000  NaN     NaN        NaN  Thorsager Skole_8.0.001  \n",
       " ...           ...  ...     ...        ...                      ...  \n",
       " 1842075  0.000000  NaN     NaN        NaN  Thorsager Skole_8.0.001  \n",
       " 1842090  2.666667  NaN     NaN        NaN  Thorsager Skole_8.0.001  \n",
       " 1842154  1.333333  NaN     NaN        NaN  Thorsager Skole_8.0.001  \n",
       " 1842157  0.000000  NaN     NaN        NaN  Thorsager Skole_8.0.001  \n",
       " 1842187  0.000000  NaN     NaN        NaN  Thorsager Skole_8.0.001  \n",
       " \n",
       " [38561 rows x 16 columns],\n",
       " 'Thorsager Skole_8.0.004':               ID   KOMMUNE            SKOLE        DATE      TIME  DAYNAME  \\\n",
       " 39       8.0.004  Syddjurs  Thorsager Skole  2023-06-09  10:30:00   Fredag   \n",
       " 50       8.0.004  Syddjurs  Thorsager Skole  2023-04-27  09:45:00  Torsdag   \n",
       " 158      8.0.004  Syddjurs  Thorsager Skole  2023-03-29  13:30:00   Onsdag   \n",
       " 212      8.0.004  Syddjurs  Thorsager Skole  2022-09-18  08:45:00  Soendag   \n",
       " 252      8.0.004  Syddjurs  Thorsager Skole  2022-10-11  02:15:00  Tirsdag   \n",
       " ...          ...       ...              ...         ...       ...      ...   \n",
       " 1842165  8.0.004  Syddjurs  Thorsager Skole  2023-05-30  03:30:00  Tirsdag   \n",
       " 1842179  8.0.004  Syddjurs  Thorsager Skole  2022-10-31  08:15:00   Mandag   \n",
       " 1842182  8.0.004  Syddjurs  Thorsager Skole  2022-10-19  22:15:00   Onsdag   \n",
       " 1842191  8.0.004  Syddjurs  Thorsager Skole  2022-09-16  22:30:00   Fredag   \n",
       " 1842201  8.0.004  Syddjurs  Thorsager Skole  2023-05-14  08:15:00  Soendag   \n",
       " \n",
       "         TIDSPUNKT_TYPE         TYPE            NAVN         CO2       TEMP  \\\n",
       " 39               Skole   Normal Dag      Normal Dag  809.000000  20.400000   \n",
       " 50               Skole   Normal Dag      Normal Dag  571.333333  19.400000   \n",
       " 158              Skole   Normal Dag      Normal Dag  908.333333  19.733333   \n",
       " 212             Fritid   Normal Dag      Normal Dag  389.333333  22.100000   \n",
       " 252              Skole   Normal Dag      Normal Dag  501.333333  18.433333   \n",
       " ...                ...          ...             ...         ...        ...   \n",
       " 1842165          Skole   Normal Dag      Normal Dag  809.000000  20.400000   \n",
       " 1842179          Skole    Mærkedage       Halloween  527.333333  18.366667   \n",
       " 1842182         Fritid  Skole-ferie  Efteraarsferie  463.000000  18.200000   \n",
       " 1842191         Fritid   Normal Dag      Normal Dag  432.333333  23.000000   \n",
       " 1842201         Fritid   Normal Dag      Normal Dag  809.000000  20.400000   \n",
       " \n",
       "            MOTION  IAQ  BOOKET  SKEMALAGT                 SKOLE_ID  \n",
       " 39       0.000000  NaN     NaN        NaN  Thorsager Skole_8.0.004  \n",
       " 50       0.000000  NaN     NaN        NaN  Thorsager Skole_8.0.004  \n",
       " 158      0.333333  NaN     NaN        NaN  Thorsager Skole_8.0.004  \n",
       " 212      0.000000  NaN     NaN        NaN  Thorsager Skole_8.0.004  \n",
       " 252      0.000000  NaN     NaN        NaN  Thorsager Skole_8.0.004  \n",
       " ...           ...  ...     ...        ...                      ...  \n",
       " 1842165  0.000000  NaN     NaN        NaN  Thorsager Skole_8.0.004  \n",
       " 1842179  0.000000  NaN     NaN        NaN  Thorsager Skole_8.0.004  \n",
       " 1842182  0.000000  NaN     NaN        NaN  Thorsager Skole_8.0.004  \n",
       " 1842191  0.000000  NaN     NaN        NaN  Thorsager Skole_8.0.004  \n",
       " 1842201  0.000000  NaN     NaN        NaN  Thorsager Skole_8.0.004  \n",
       " \n",
       " [38561 rows x 16 columns]}"
      ]
     },
     "execution_count": 29,
     "metadata": {},
     "output_type": "execute_result"
    }
   ],
   "source": [
    "data"
   ]
  },
  {
   "cell_type": "code",
   "execution_count": 30,
   "metadata": {},
   "outputs": [],
   "source": [
    "dataf = pd.concat(data.values())"
   ]
  },
  {
   "cell_type": "code",
   "execution_count": 32,
   "metadata": {},
   "outputs": [
    {
     "name": "stdout",
     "output_type": "stream",
     "text": [
      "<class 'pandas.core.frame.DataFrame'>\n",
      "Index: 1842208 entries, 303 to 1842201\n",
      "Data columns (total 16 columns):\n",
      " #   Column          Dtype  \n",
      "---  ------          -----  \n",
      " 0   ID              object \n",
      " 1   KOMMUNE         object \n",
      " 2   SKOLE           object \n",
      " 3   DATE            object \n",
      " 4   TIME            object \n",
      " 5   DAYNAME         object \n",
      " 6   TIDSPUNKT_TYPE  object \n",
      " 7   TYPE            object \n",
      " 8   NAVN            object \n",
      " 9   CO2             float64\n",
      " 10  TEMP            float64\n",
      " 11  MOTION          float64\n",
      " 12  IAQ             float64\n",
      " 13  BOOKET          float64\n",
      " 14  SKEMALAGT       float64\n",
      " 15  SKOLE_ID        object \n",
      "dtypes: float64(6), object(10)\n",
      "memory usage: 238.9+ MB\n"
     ]
    }
   ],
   "source": [
    "dataf.info()"
   ]
  },
  {
   "cell_type": "code",
   "execution_count": 34,
   "metadata": {},
   "outputs": [
    {
     "data": {
      "text/plain": [
       "SKOLE\n",
       "Strandskolen       1039539\n",
       "Thorsager Skole     694098\n",
       "Rønbækskolen        108571\n",
       "Name: count, dtype: int64"
      ]
     },
     "execution_count": 34,
     "metadata": {},
     "output_type": "execute_result"
    }
   ],
   "source": [
    "dataf.SKOLE.value_counts()"
   ]
  },
  {
   "cell_type": "code",
   "execution_count": 41,
   "metadata": {},
   "outputs": [
    {
     "data": {
      "application/vnd.plotly.v1+json": {
       "config": {
        "plotlyServerURL": "https://plot.ly"
       },
       "data": [
        {
         "alignmentgroup": "True",
         "hovertemplate": "Sensordata=CO2<br>SKOLE=%{x}<br>CustomNonMissingRatio=%{y}<extra></extra>",
         "legendgroup": "CO2",
         "marker": {
          "color": "#636efa",
          "pattern": {
           "shape": ""
          }
         },
         "name": "CO2",
         "offsetgroup": "CO2",
         "orientation": "v",
         "showlegend": true,
         "textposition": "auto",
         "type": "bar",
         "x": [
          "Rønbækskolen",
          "Strandskolen",
          "Thorsager Skole"
         ],
         "xaxis": "x",
         "y": [
          1,
          1,
          1
         ],
         "yaxis": "y"
        },
        {
         "alignmentgroup": "True",
         "hovertemplate": "Sensordata=TEMP<br>SKOLE=%{x}<br>CustomNonMissingRatio=%{y}<extra></extra>",
         "legendgroup": "TEMP",
         "marker": {
          "color": "#EF553B",
          "pattern": {
           "shape": ""
          }
         },
         "name": "TEMP",
         "offsetgroup": "TEMP",
         "orientation": "v",
         "showlegend": true,
         "textposition": "auto",
         "type": "bar",
         "x": [
          "Rønbækskolen",
          "Strandskolen",
          "Thorsager Skole"
         ],
         "xaxis": "x",
         "y": [
          0.9846367814609794,
          1,
          1
         ],
         "yaxis": "y"
        },
        {
         "alignmentgroup": "True",
         "hovertemplate": "Sensordata=MOTION<br>SKOLE=%{x}<br>CustomNonMissingRatio=%{y}<extra></extra>",
         "legendgroup": "MOTION",
         "marker": {
          "color": "#00cc96",
          "pattern": {
           "shape": ""
          }
         },
         "name": "MOTION",
         "offsetgroup": "MOTION",
         "orientation": "v",
         "showlegend": true,
         "textposition": "auto",
         "type": "bar",
         "x": [
          "Rønbækskolen",
          "Strandskolen",
          "Thorsager Skole"
         ],
         "xaxis": "x",
         "y": [
          0,
          0,
          0.11247403104460751
         ],
         "yaxis": "y"
        },
        {
         "alignmentgroup": "True",
         "hovertemplate": "Sensordata=IAQ<br>SKOLE=%{x}<br>CustomNonMissingRatio=%{y}<extra></extra>",
         "legendgroup": "IAQ",
         "marker": {
          "color": "#ab63fa",
          "pattern": {
           "shape": ""
          }
         },
         "name": "IAQ",
         "offsetgroup": "IAQ",
         "orientation": "v",
         "showlegend": true,
         "textposition": "auto",
         "type": "bar",
         "x": [
          "Rønbækskolen",
          "Strandskolen",
          "Thorsager Skole"
         ],
         "xaxis": "x",
         "y": [
          0.7993755238507521,
          0.9965340405699065,
          0
         ],
         "yaxis": "y"
        }
       ],
       "layout": {
        "barmode": "group",
        "legend": {
         "title": {
          "text": "Sensordata"
         },
         "tracegroupgap": 0
        },
        "margin": {
         "t": 60
        },
        "template": {
         "data": {
          "bar": [
           {
            "error_x": {
             "color": "#2a3f5f"
            },
            "error_y": {
             "color": "#2a3f5f"
            },
            "marker": {
             "line": {
              "color": "#E5ECF6",
              "width": 0.5
             },
             "pattern": {
              "fillmode": "overlay",
              "size": 10,
              "solidity": 0.2
             }
            },
            "type": "bar"
           }
          ],
          "barpolar": [
           {
            "marker": {
             "line": {
              "color": "#E5ECF6",
              "width": 0.5
             },
             "pattern": {
              "fillmode": "overlay",
              "size": 10,
              "solidity": 0.2
             }
            },
            "type": "barpolar"
           }
          ],
          "carpet": [
           {
            "aaxis": {
             "endlinecolor": "#2a3f5f",
             "gridcolor": "white",
             "linecolor": "white",
             "minorgridcolor": "white",
             "startlinecolor": "#2a3f5f"
            },
            "baxis": {
             "endlinecolor": "#2a3f5f",
             "gridcolor": "white",
             "linecolor": "white",
             "minorgridcolor": "white",
             "startlinecolor": "#2a3f5f"
            },
            "type": "carpet"
           }
          ],
          "choropleth": [
           {
            "colorbar": {
             "outlinewidth": 0,
             "ticks": ""
            },
            "type": "choropleth"
           }
          ],
          "contour": [
           {
            "colorbar": {
             "outlinewidth": 0,
             "ticks": ""
            },
            "colorscale": [
             [
              0,
              "#0d0887"
             ],
             [
              0.1111111111111111,
              "#46039f"
             ],
             [
              0.2222222222222222,
              "#7201a8"
             ],
             [
              0.3333333333333333,
              "#9c179e"
             ],
             [
              0.4444444444444444,
              "#bd3786"
             ],
             [
              0.5555555555555556,
              "#d8576b"
             ],
             [
              0.6666666666666666,
              "#ed7953"
             ],
             [
              0.7777777777777778,
              "#fb9f3a"
             ],
             [
              0.8888888888888888,
              "#fdca26"
             ],
             [
              1,
              "#f0f921"
             ]
            ],
            "type": "contour"
           }
          ],
          "contourcarpet": [
           {
            "colorbar": {
             "outlinewidth": 0,
             "ticks": ""
            },
            "type": "contourcarpet"
           }
          ],
          "heatmap": [
           {
            "colorbar": {
             "outlinewidth": 0,
             "ticks": ""
            },
            "colorscale": [
             [
              0,
              "#0d0887"
             ],
             [
              0.1111111111111111,
              "#46039f"
             ],
             [
              0.2222222222222222,
              "#7201a8"
             ],
             [
              0.3333333333333333,
              "#9c179e"
             ],
             [
              0.4444444444444444,
              "#bd3786"
             ],
             [
              0.5555555555555556,
              "#d8576b"
             ],
             [
              0.6666666666666666,
              "#ed7953"
             ],
             [
              0.7777777777777778,
              "#fb9f3a"
             ],
             [
              0.8888888888888888,
              "#fdca26"
             ],
             [
              1,
              "#f0f921"
             ]
            ],
            "type": "heatmap"
           }
          ],
          "heatmapgl": [
           {
            "colorbar": {
             "outlinewidth": 0,
             "ticks": ""
            },
            "colorscale": [
             [
              0,
              "#0d0887"
             ],
             [
              0.1111111111111111,
              "#46039f"
             ],
             [
              0.2222222222222222,
              "#7201a8"
             ],
             [
              0.3333333333333333,
              "#9c179e"
             ],
             [
              0.4444444444444444,
              "#bd3786"
             ],
             [
              0.5555555555555556,
              "#d8576b"
             ],
             [
              0.6666666666666666,
              "#ed7953"
             ],
             [
              0.7777777777777778,
              "#fb9f3a"
             ],
             [
              0.8888888888888888,
              "#fdca26"
             ],
             [
              1,
              "#f0f921"
             ]
            ],
            "type": "heatmapgl"
           }
          ],
          "histogram": [
           {
            "marker": {
             "pattern": {
              "fillmode": "overlay",
              "size": 10,
              "solidity": 0.2
             }
            },
            "type": "histogram"
           }
          ],
          "histogram2d": [
           {
            "colorbar": {
             "outlinewidth": 0,
             "ticks": ""
            },
            "colorscale": [
             [
              0,
              "#0d0887"
             ],
             [
              0.1111111111111111,
              "#46039f"
             ],
             [
              0.2222222222222222,
              "#7201a8"
             ],
             [
              0.3333333333333333,
              "#9c179e"
             ],
             [
              0.4444444444444444,
              "#bd3786"
             ],
             [
              0.5555555555555556,
              "#d8576b"
             ],
             [
              0.6666666666666666,
              "#ed7953"
             ],
             [
              0.7777777777777778,
              "#fb9f3a"
             ],
             [
              0.8888888888888888,
              "#fdca26"
             ],
             [
              1,
              "#f0f921"
             ]
            ],
            "type": "histogram2d"
           }
          ],
          "histogram2dcontour": [
           {
            "colorbar": {
             "outlinewidth": 0,
             "ticks": ""
            },
            "colorscale": [
             [
              0,
              "#0d0887"
             ],
             [
              0.1111111111111111,
              "#46039f"
             ],
             [
              0.2222222222222222,
              "#7201a8"
             ],
             [
              0.3333333333333333,
              "#9c179e"
             ],
             [
              0.4444444444444444,
              "#bd3786"
             ],
             [
              0.5555555555555556,
              "#d8576b"
             ],
             [
              0.6666666666666666,
              "#ed7953"
             ],
             [
              0.7777777777777778,
              "#fb9f3a"
             ],
             [
              0.8888888888888888,
              "#fdca26"
             ],
             [
              1,
              "#f0f921"
             ]
            ],
            "type": "histogram2dcontour"
           }
          ],
          "mesh3d": [
           {
            "colorbar": {
             "outlinewidth": 0,
             "ticks": ""
            },
            "type": "mesh3d"
           }
          ],
          "parcoords": [
           {
            "line": {
             "colorbar": {
              "outlinewidth": 0,
              "ticks": ""
             }
            },
            "type": "parcoords"
           }
          ],
          "pie": [
           {
            "automargin": true,
            "type": "pie"
           }
          ],
          "scatter": [
           {
            "fillpattern": {
             "fillmode": "overlay",
             "size": 10,
             "solidity": 0.2
            },
            "type": "scatter"
           }
          ],
          "scatter3d": [
           {
            "line": {
             "colorbar": {
              "outlinewidth": 0,
              "ticks": ""
             }
            },
            "marker": {
             "colorbar": {
              "outlinewidth": 0,
              "ticks": ""
             }
            },
            "type": "scatter3d"
           }
          ],
          "scattercarpet": [
           {
            "marker": {
             "colorbar": {
              "outlinewidth": 0,
              "ticks": ""
             }
            },
            "type": "scattercarpet"
           }
          ],
          "scattergeo": [
           {
            "marker": {
             "colorbar": {
              "outlinewidth": 0,
              "ticks": ""
             }
            },
            "type": "scattergeo"
           }
          ],
          "scattergl": [
           {
            "marker": {
             "colorbar": {
              "outlinewidth": 0,
              "ticks": ""
             }
            },
            "type": "scattergl"
           }
          ],
          "scattermapbox": [
           {
            "marker": {
             "colorbar": {
              "outlinewidth": 0,
              "ticks": ""
             }
            },
            "type": "scattermapbox"
           }
          ],
          "scatterpolar": [
           {
            "marker": {
             "colorbar": {
              "outlinewidth": 0,
              "ticks": ""
             }
            },
            "type": "scatterpolar"
           }
          ],
          "scatterpolargl": [
           {
            "marker": {
             "colorbar": {
              "outlinewidth": 0,
              "ticks": ""
             }
            },
            "type": "scatterpolargl"
           }
          ],
          "scatterternary": [
           {
            "marker": {
             "colorbar": {
              "outlinewidth": 0,
              "ticks": ""
             }
            },
            "type": "scatterternary"
           }
          ],
          "surface": [
           {
            "colorbar": {
             "outlinewidth": 0,
             "ticks": ""
            },
            "colorscale": [
             [
              0,
              "#0d0887"
             ],
             [
              0.1111111111111111,
              "#46039f"
             ],
             [
              0.2222222222222222,
              "#7201a8"
             ],
             [
              0.3333333333333333,
              "#9c179e"
             ],
             [
              0.4444444444444444,
              "#bd3786"
             ],
             [
              0.5555555555555556,
              "#d8576b"
             ],
             [
              0.6666666666666666,
              "#ed7953"
             ],
             [
              0.7777777777777778,
              "#fb9f3a"
             ],
             [
              0.8888888888888888,
              "#fdca26"
             ],
             [
              1,
              "#f0f921"
             ]
            ],
            "type": "surface"
           }
          ],
          "table": [
           {
            "cells": {
             "fill": {
              "color": "#EBF0F8"
             },
             "line": {
              "color": "white"
             }
            },
            "header": {
             "fill": {
              "color": "#C8D4E3"
             },
             "line": {
              "color": "white"
             }
            },
            "type": "table"
           }
          ]
         },
         "layout": {
          "annotationdefaults": {
           "arrowcolor": "#2a3f5f",
           "arrowhead": 0,
           "arrowwidth": 1
          },
          "autotypenumbers": "strict",
          "coloraxis": {
           "colorbar": {
            "outlinewidth": 0,
            "ticks": ""
           }
          },
          "colorscale": {
           "diverging": [
            [
             0,
             "#8e0152"
            ],
            [
             0.1,
             "#c51b7d"
            ],
            [
             0.2,
             "#de77ae"
            ],
            [
             0.3,
             "#f1b6da"
            ],
            [
             0.4,
             "#fde0ef"
            ],
            [
             0.5,
             "#f7f7f7"
            ],
            [
             0.6,
             "#e6f5d0"
            ],
            [
             0.7,
             "#b8e186"
            ],
            [
             0.8,
             "#7fbc41"
            ],
            [
             0.9,
             "#4d9221"
            ],
            [
             1,
             "#276419"
            ]
           ],
           "sequential": [
            [
             0,
             "#0d0887"
            ],
            [
             0.1111111111111111,
             "#46039f"
            ],
            [
             0.2222222222222222,
             "#7201a8"
            ],
            [
             0.3333333333333333,
             "#9c179e"
            ],
            [
             0.4444444444444444,
             "#bd3786"
            ],
            [
             0.5555555555555556,
             "#d8576b"
            ],
            [
             0.6666666666666666,
             "#ed7953"
            ],
            [
             0.7777777777777778,
             "#fb9f3a"
            ],
            [
             0.8888888888888888,
             "#fdca26"
            ],
            [
             1,
             "#f0f921"
            ]
           ],
           "sequentialminus": [
            [
             0,
             "#0d0887"
            ],
            [
             0.1111111111111111,
             "#46039f"
            ],
            [
             0.2222222222222222,
             "#7201a8"
            ],
            [
             0.3333333333333333,
             "#9c179e"
            ],
            [
             0.4444444444444444,
             "#bd3786"
            ],
            [
             0.5555555555555556,
             "#d8576b"
            ],
            [
             0.6666666666666666,
             "#ed7953"
            ],
            [
             0.7777777777777778,
             "#fb9f3a"
            ],
            [
             0.8888888888888888,
             "#fdca26"
            ],
            [
             1,
             "#f0f921"
            ]
           ]
          },
          "colorway": [
           "#636efa",
           "#EF553B",
           "#00cc96",
           "#ab63fa",
           "#FFA15A",
           "#19d3f3",
           "#FF6692",
           "#B6E880",
           "#FF97FF",
           "#FECB52"
          ],
          "font": {
           "color": "#2a3f5f"
          },
          "geo": {
           "bgcolor": "white",
           "lakecolor": "white",
           "landcolor": "#E5ECF6",
           "showlakes": true,
           "showland": true,
           "subunitcolor": "white"
          },
          "hoverlabel": {
           "align": "left"
          },
          "hovermode": "closest",
          "mapbox": {
           "style": "light"
          },
          "paper_bgcolor": "white",
          "plot_bgcolor": "#E5ECF6",
          "polar": {
           "angularaxis": {
            "gridcolor": "white",
            "linecolor": "white",
            "ticks": ""
           },
           "bgcolor": "#E5ECF6",
           "radialaxis": {
            "gridcolor": "white",
            "linecolor": "white",
            "ticks": ""
           }
          },
          "scene": {
           "xaxis": {
            "backgroundcolor": "#E5ECF6",
            "gridcolor": "white",
            "gridwidth": 2,
            "linecolor": "white",
            "showbackground": true,
            "ticks": "",
            "zerolinecolor": "white"
           },
           "yaxis": {
            "backgroundcolor": "#E5ECF6",
            "gridcolor": "white",
            "gridwidth": 2,
            "linecolor": "white",
            "showbackground": true,
            "ticks": "",
            "zerolinecolor": "white"
           },
           "zaxis": {
            "backgroundcolor": "#E5ECF6",
            "gridcolor": "white",
            "gridwidth": 2,
            "linecolor": "white",
            "showbackground": true,
            "ticks": "",
            "zerolinecolor": "white"
           }
          },
          "shapedefaults": {
           "line": {
            "color": "#2a3f5f"
           }
          },
          "ternary": {
           "aaxis": {
            "gridcolor": "white",
            "linecolor": "white",
            "ticks": ""
           },
           "baxis": {
            "gridcolor": "white",
            "linecolor": "white",
            "ticks": ""
           },
           "bgcolor": "#E5ECF6",
           "caxis": {
            "gridcolor": "white",
            "linecolor": "white",
            "ticks": ""
           }
          },
          "title": {
           "x": 0.05
          },
          "xaxis": {
           "automargin": true,
           "gridcolor": "white",
           "linecolor": "white",
           "ticks": "",
           "title": {
            "standoff": 15
           },
           "zerolinecolor": "white",
           "zerolinewidth": 2
          },
          "yaxis": {
           "automargin": true,
           "gridcolor": "white",
           "linecolor": "white",
           "ticks": "",
           "title": {
            "standoff": 15
           },
           "zerolinecolor": "white",
           "zerolinewidth": 2
          }
         }
        },
        "xaxis": {
         "anchor": "y",
         "categoryorder": "total descending",
         "domain": [
          0,
          1
         ],
         "title": {}
        },
        "yaxis": {
         "anchor": "x",
         "domain": [
          0,
          1
         ],
         "title": {
          "text": "Integritet (%)"
         }
        }
       }
      },
      "text/html": [
       "<div>                            <div id=\"e8972798-3b6f-4a4f-a5c3-0926dabc8b63\" class=\"plotly-graph-div\" style=\"height:525px; width:100%;\"></div>            <script type=\"text/javascript\">                require([\"plotly\"], function(Plotly) {                    window.PLOTLYENV=window.PLOTLYENV || {};                                    if (document.getElementById(\"e8972798-3b6f-4a4f-a5c3-0926dabc8b63\")) {                    Plotly.newPlot(                        \"e8972798-3b6f-4a4f-a5c3-0926dabc8b63\",                        [{\"alignmentgroup\":\"True\",\"hovertemplate\":\"Sensordata=CO2\\u003cbr\\u003eSKOLE=%{x}\\u003cbr\\u003eCustomNonMissingRatio=%{y}\\u003cextra\\u003e\\u003c\\u002fextra\\u003e\",\"legendgroup\":\"CO2\",\"marker\":{\"color\":\"#636efa\",\"pattern\":{\"shape\":\"\"}},\"name\":\"CO2\",\"offsetgroup\":\"CO2\",\"orientation\":\"v\",\"showlegend\":true,\"textposition\":\"auto\",\"x\":[\"R\\u00f8nb\\u00e6kskolen\",\"Strandskolen\",\"Thorsager Skole\"],\"xaxis\":\"x\",\"y\":[1.0,1.0,1.0],\"yaxis\":\"y\",\"type\":\"bar\"},{\"alignmentgroup\":\"True\",\"hovertemplate\":\"Sensordata=TEMP\\u003cbr\\u003eSKOLE=%{x}\\u003cbr\\u003eCustomNonMissingRatio=%{y}\\u003cextra\\u003e\\u003c\\u002fextra\\u003e\",\"legendgroup\":\"TEMP\",\"marker\":{\"color\":\"#EF553B\",\"pattern\":{\"shape\":\"\"}},\"name\":\"TEMP\",\"offsetgroup\":\"TEMP\",\"orientation\":\"v\",\"showlegend\":true,\"textposition\":\"auto\",\"x\":[\"R\\u00f8nb\\u00e6kskolen\",\"Strandskolen\",\"Thorsager Skole\"],\"xaxis\":\"x\",\"y\":[0.9846367814609794,1.0,1.0],\"yaxis\":\"y\",\"type\":\"bar\"},{\"alignmentgroup\":\"True\",\"hovertemplate\":\"Sensordata=MOTION\\u003cbr\\u003eSKOLE=%{x}\\u003cbr\\u003eCustomNonMissingRatio=%{y}\\u003cextra\\u003e\\u003c\\u002fextra\\u003e\",\"legendgroup\":\"MOTION\",\"marker\":{\"color\":\"#00cc96\",\"pattern\":{\"shape\":\"\"}},\"name\":\"MOTION\",\"offsetgroup\":\"MOTION\",\"orientation\":\"v\",\"showlegend\":true,\"textposition\":\"auto\",\"x\":[\"R\\u00f8nb\\u00e6kskolen\",\"Strandskolen\",\"Thorsager Skole\"],\"xaxis\":\"x\",\"y\":[0.0,0.0,0.11247403104460751],\"yaxis\":\"y\",\"type\":\"bar\"},{\"alignmentgroup\":\"True\",\"hovertemplate\":\"Sensordata=IAQ\\u003cbr\\u003eSKOLE=%{x}\\u003cbr\\u003eCustomNonMissingRatio=%{y}\\u003cextra\\u003e\\u003c\\u002fextra\\u003e\",\"legendgroup\":\"IAQ\",\"marker\":{\"color\":\"#ab63fa\",\"pattern\":{\"shape\":\"\"}},\"name\":\"IAQ\",\"offsetgroup\":\"IAQ\",\"orientation\":\"v\",\"showlegend\":true,\"textposition\":\"auto\",\"x\":[\"R\\u00f8nb\\u00e6kskolen\",\"Strandskolen\",\"Thorsager Skole\"],\"xaxis\":\"x\",\"y\":[0.7993755238507521,0.9965340405699065,0.0],\"yaxis\":\"y\",\"type\":\"bar\"}],                        {\"template\":{\"data\":{\"histogram2dcontour\":[{\"type\":\"histogram2dcontour\",\"colorbar\":{\"outlinewidth\":0,\"ticks\":\"\"},\"colorscale\":[[0.0,\"#0d0887\"],[0.1111111111111111,\"#46039f\"],[0.2222222222222222,\"#7201a8\"],[0.3333333333333333,\"#9c179e\"],[0.4444444444444444,\"#bd3786\"],[0.5555555555555556,\"#d8576b\"],[0.6666666666666666,\"#ed7953\"],[0.7777777777777778,\"#fb9f3a\"],[0.8888888888888888,\"#fdca26\"],[1.0,\"#f0f921\"]]}],\"choropleth\":[{\"type\":\"choropleth\",\"colorbar\":{\"outlinewidth\":0,\"ticks\":\"\"}}],\"histogram2d\":[{\"type\":\"histogram2d\",\"colorbar\":{\"outlinewidth\":0,\"ticks\":\"\"},\"colorscale\":[[0.0,\"#0d0887\"],[0.1111111111111111,\"#46039f\"],[0.2222222222222222,\"#7201a8\"],[0.3333333333333333,\"#9c179e\"],[0.4444444444444444,\"#bd3786\"],[0.5555555555555556,\"#d8576b\"],[0.6666666666666666,\"#ed7953\"],[0.7777777777777778,\"#fb9f3a\"],[0.8888888888888888,\"#fdca26\"],[1.0,\"#f0f921\"]]}],\"heatmap\":[{\"type\":\"heatmap\",\"colorbar\":{\"outlinewidth\":0,\"ticks\":\"\"},\"colorscale\":[[0.0,\"#0d0887\"],[0.1111111111111111,\"#46039f\"],[0.2222222222222222,\"#7201a8\"],[0.3333333333333333,\"#9c179e\"],[0.4444444444444444,\"#bd3786\"],[0.5555555555555556,\"#d8576b\"],[0.6666666666666666,\"#ed7953\"],[0.7777777777777778,\"#fb9f3a\"],[0.8888888888888888,\"#fdca26\"],[1.0,\"#f0f921\"]]}],\"heatmapgl\":[{\"type\":\"heatmapgl\",\"colorbar\":{\"outlinewidth\":0,\"ticks\":\"\"},\"colorscale\":[[0.0,\"#0d0887\"],[0.1111111111111111,\"#46039f\"],[0.2222222222222222,\"#7201a8\"],[0.3333333333333333,\"#9c179e\"],[0.4444444444444444,\"#bd3786\"],[0.5555555555555556,\"#d8576b\"],[0.6666666666666666,\"#ed7953\"],[0.7777777777777778,\"#fb9f3a\"],[0.8888888888888888,\"#fdca26\"],[1.0,\"#f0f921\"]]}],\"contourcarpet\":[{\"type\":\"contourcarpet\",\"colorbar\":{\"outlinewidth\":0,\"ticks\":\"\"}}],\"contour\":[{\"type\":\"contour\",\"colorbar\":{\"outlinewidth\":0,\"ticks\":\"\"},\"colorscale\":[[0.0,\"#0d0887\"],[0.1111111111111111,\"#46039f\"],[0.2222222222222222,\"#7201a8\"],[0.3333333333333333,\"#9c179e\"],[0.4444444444444444,\"#bd3786\"],[0.5555555555555556,\"#d8576b\"],[0.6666666666666666,\"#ed7953\"],[0.7777777777777778,\"#fb9f3a\"],[0.8888888888888888,\"#fdca26\"],[1.0,\"#f0f921\"]]}],\"surface\":[{\"type\":\"surface\",\"colorbar\":{\"outlinewidth\":0,\"ticks\":\"\"},\"colorscale\":[[0.0,\"#0d0887\"],[0.1111111111111111,\"#46039f\"],[0.2222222222222222,\"#7201a8\"],[0.3333333333333333,\"#9c179e\"],[0.4444444444444444,\"#bd3786\"],[0.5555555555555556,\"#d8576b\"],[0.6666666666666666,\"#ed7953\"],[0.7777777777777778,\"#fb9f3a\"],[0.8888888888888888,\"#fdca26\"],[1.0,\"#f0f921\"]]}],\"mesh3d\":[{\"type\":\"mesh3d\",\"colorbar\":{\"outlinewidth\":0,\"ticks\":\"\"}}],\"scatter\":[{\"fillpattern\":{\"fillmode\":\"overlay\",\"size\":10,\"solidity\":0.2},\"type\":\"scatter\"}],\"parcoords\":[{\"type\":\"parcoords\",\"line\":{\"colorbar\":{\"outlinewidth\":0,\"ticks\":\"\"}}}],\"scatterpolargl\":[{\"type\":\"scatterpolargl\",\"marker\":{\"colorbar\":{\"outlinewidth\":0,\"ticks\":\"\"}}}],\"bar\":[{\"error_x\":{\"color\":\"#2a3f5f\"},\"error_y\":{\"color\":\"#2a3f5f\"},\"marker\":{\"line\":{\"color\":\"#E5ECF6\",\"width\":0.5},\"pattern\":{\"fillmode\":\"overlay\",\"size\":10,\"solidity\":0.2}},\"type\":\"bar\"}],\"scattergeo\":[{\"type\":\"scattergeo\",\"marker\":{\"colorbar\":{\"outlinewidth\":0,\"ticks\":\"\"}}}],\"scatterpolar\":[{\"type\":\"scatterpolar\",\"marker\":{\"colorbar\":{\"outlinewidth\":0,\"ticks\":\"\"}}}],\"histogram\":[{\"marker\":{\"pattern\":{\"fillmode\":\"overlay\",\"size\":10,\"solidity\":0.2}},\"type\":\"histogram\"}],\"scattergl\":[{\"type\":\"scattergl\",\"marker\":{\"colorbar\":{\"outlinewidth\":0,\"ticks\":\"\"}}}],\"scatter3d\":[{\"type\":\"scatter3d\",\"line\":{\"colorbar\":{\"outlinewidth\":0,\"ticks\":\"\"}},\"marker\":{\"colorbar\":{\"outlinewidth\":0,\"ticks\":\"\"}}}],\"scattermapbox\":[{\"type\":\"scattermapbox\",\"marker\":{\"colorbar\":{\"outlinewidth\":0,\"ticks\":\"\"}}}],\"scatterternary\":[{\"type\":\"scatterternary\",\"marker\":{\"colorbar\":{\"outlinewidth\":0,\"ticks\":\"\"}}}],\"scattercarpet\":[{\"type\":\"scattercarpet\",\"marker\":{\"colorbar\":{\"outlinewidth\":0,\"ticks\":\"\"}}}],\"carpet\":[{\"aaxis\":{\"endlinecolor\":\"#2a3f5f\",\"gridcolor\":\"white\",\"linecolor\":\"white\",\"minorgridcolor\":\"white\",\"startlinecolor\":\"#2a3f5f\"},\"baxis\":{\"endlinecolor\":\"#2a3f5f\",\"gridcolor\":\"white\",\"linecolor\":\"white\",\"minorgridcolor\":\"white\",\"startlinecolor\":\"#2a3f5f\"},\"type\":\"carpet\"}],\"table\":[{\"cells\":{\"fill\":{\"color\":\"#EBF0F8\"},\"line\":{\"color\":\"white\"}},\"header\":{\"fill\":{\"color\":\"#C8D4E3\"},\"line\":{\"color\":\"white\"}},\"type\":\"table\"}],\"barpolar\":[{\"marker\":{\"line\":{\"color\":\"#E5ECF6\",\"width\":0.5},\"pattern\":{\"fillmode\":\"overlay\",\"size\":10,\"solidity\":0.2}},\"type\":\"barpolar\"}],\"pie\":[{\"automargin\":true,\"type\":\"pie\"}]},\"layout\":{\"autotypenumbers\":\"strict\",\"colorway\":[\"#636efa\",\"#EF553B\",\"#00cc96\",\"#ab63fa\",\"#FFA15A\",\"#19d3f3\",\"#FF6692\",\"#B6E880\",\"#FF97FF\",\"#FECB52\"],\"font\":{\"color\":\"#2a3f5f\"},\"hovermode\":\"closest\",\"hoverlabel\":{\"align\":\"left\"},\"paper_bgcolor\":\"white\",\"plot_bgcolor\":\"#E5ECF6\",\"polar\":{\"bgcolor\":\"#E5ECF6\",\"angularaxis\":{\"gridcolor\":\"white\",\"linecolor\":\"white\",\"ticks\":\"\"},\"radialaxis\":{\"gridcolor\":\"white\",\"linecolor\":\"white\",\"ticks\":\"\"}},\"ternary\":{\"bgcolor\":\"#E5ECF6\",\"aaxis\":{\"gridcolor\":\"white\",\"linecolor\":\"white\",\"ticks\":\"\"},\"baxis\":{\"gridcolor\":\"white\",\"linecolor\":\"white\",\"ticks\":\"\"},\"caxis\":{\"gridcolor\":\"white\",\"linecolor\":\"white\",\"ticks\":\"\"}},\"coloraxis\":{\"colorbar\":{\"outlinewidth\":0,\"ticks\":\"\"}},\"colorscale\":{\"sequential\":[[0.0,\"#0d0887\"],[0.1111111111111111,\"#46039f\"],[0.2222222222222222,\"#7201a8\"],[0.3333333333333333,\"#9c179e\"],[0.4444444444444444,\"#bd3786\"],[0.5555555555555556,\"#d8576b\"],[0.6666666666666666,\"#ed7953\"],[0.7777777777777778,\"#fb9f3a\"],[0.8888888888888888,\"#fdca26\"],[1.0,\"#f0f921\"]],\"sequentialminus\":[[0.0,\"#0d0887\"],[0.1111111111111111,\"#46039f\"],[0.2222222222222222,\"#7201a8\"],[0.3333333333333333,\"#9c179e\"],[0.4444444444444444,\"#bd3786\"],[0.5555555555555556,\"#d8576b\"],[0.6666666666666666,\"#ed7953\"],[0.7777777777777778,\"#fb9f3a\"],[0.8888888888888888,\"#fdca26\"],[1.0,\"#f0f921\"]],\"diverging\":[[0,\"#8e0152\"],[0.1,\"#c51b7d\"],[0.2,\"#de77ae\"],[0.3,\"#f1b6da\"],[0.4,\"#fde0ef\"],[0.5,\"#f7f7f7\"],[0.6,\"#e6f5d0\"],[0.7,\"#b8e186\"],[0.8,\"#7fbc41\"],[0.9,\"#4d9221\"],[1,\"#276419\"]]},\"xaxis\":{\"gridcolor\":\"white\",\"linecolor\":\"white\",\"ticks\":\"\",\"title\":{\"standoff\":15},\"zerolinecolor\":\"white\",\"automargin\":true,\"zerolinewidth\":2},\"yaxis\":{\"gridcolor\":\"white\",\"linecolor\":\"white\",\"ticks\":\"\",\"title\":{\"standoff\":15},\"zerolinecolor\":\"white\",\"automargin\":true,\"zerolinewidth\":2},\"scene\":{\"xaxis\":{\"backgroundcolor\":\"#E5ECF6\",\"gridcolor\":\"white\",\"linecolor\":\"white\",\"showbackground\":true,\"ticks\":\"\",\"zerolinecolor\":\"white\",\"gridwidth\":2},\"yaxis\":{\"backgroundcolor\":\"#E5ECF6\",\"gridcolor\":\"white\",\"linecolor\":\"white\",\"showbackground\":true,\"ticks\":\"\",\"zerolinecolor\":\"white\",\"gridwidth\":2},\"zaxis\":{\"backgroundcolor\":\"#E5ECF6\",\"gridcolor\":\"white\",\"linecolor\":\"white\",\"showbackground\":true,\"ticks\":\"\",\"zerolinecolor\":\"white\",\"gridwidth\":2}},\"shapedefaults\":{\"line\":{\"color\":\"#2a3f5f\"}},\"annotationdefaults\":{\"arrowcolor\":\"#2a3f5f\",\"arrowhead\":0,\"arrowwidth\":1},\"geo\":{\"bgcolor\":\"white\",\"landcolor\":\"#E5ECF6\",\"subunitcolor\":\"white\",\"showland\":true,\"showlakes\":true,\"lakecolor\":\"white\"},\"title\":{\"x\":0.05},\"mapbox\":{\"style\":\"light\"}}},\"xaxis\":{\"anchor\":\"y\",\"domain\":[0.0,1.0],\"title\":{},\"categoryorder\":\"total descending\"},\"yaxis\":{\"anchor\":\"x\",\"domain\":[0.0,1.0],\"title\":{\"text\":\"Integritet (%)\"}},\"legend\":{\"title\":{\"text\":\"Sensordata\"},\"tracegroupgap\":0},\"margin\":{\"t\":60},\"barmode\":\"group\"},                        {\"responsive\": true}                    ).then(function(){\n",
       "                            \n",
       "var gd = document.getElementById('e8972798-3b6f-4a4f-a5c3-0926dabc8b63');\n",
       "var x = new MutationObserver(function (mutations, observer) {{\n",
       "        var display = window.getComputedStyle(gd).display;\n",
       "        if (!display || display === 'none') {{\n",
       "            console.log([gd, 'removed!']);\n",
       "            Plotly.purge(gd);\n",
       "            observer.disconnect();\n",
       "        }}\n",
       "}});\n",
       "\n",
       "// Listen for the removal of the full notebook cells\n",
       "var notebookContainer = gd.closest('#notebook-container');\n",
       "if (notebookContainer) {{\n",
       "    x.observe(notebookContainer, {childList: true});\n",
       "}}\n",
       "\n",
       "// Listen for the clearing of the current output cell\n",
       "var outputEl = gd.closest('.output');\n",
       "if (outputEl) {{\n",
       "    x.observe(outputEl, {childList: true});\n",
       "}}\n",
       "\n",
       "                        })                };                });            </script>        </div>"
      ]
     },
     "metadata": {},
     "output_type": "display_data"
    }
   ],
   "source": [
    "# Define a custom function to consider NaN, None, False, and 0 as missing\n",
    "def custom_missing_ratio(series):\n",
    "    return (series.isna() | (series == 0) | (series == False)).mean()\n",
    "\n",
    "# Calculate the custom non-missing value ratio\n",
    "custom_non_missing_ratio = dataf.groupby('SKOLE')[['CO2', 'TEMP', 'MOTION', 'IAQ']].apply(lambda x: 1 - x.apply(custom_missing_ratio)).reset_index()\n",
    "\n",
    "# Melt the DataFrame to make it suitable for plotting with Plotly\n",
    "melted = custom_non_missing_ratio.melt(id_vars='SKOLE', var_name='Sensordata', value_name='CustomNonMissingRatio')\n",
    "\n",
    "# Create a bar plot using the Pandas plot method with Plotly\n",
    "fig = melted.plot(kind='bar', x='SKOLE', y='CustomNonMissingRatio', color='Sensordata', barmode='group')\n",
    "\n",
    "# Update layout if necessary\n",
    "fig.update_layout(xaxis_title='SKOLE', yaxis_title='Integritet (%)', xaxis={'categoryorder':'total descending'})\n",
    "\n",
    "# hide x-axis title\n",
    "fig.update_xaxes(title=None)\n",
    "# Show the figure\n",
    "fig.show()"
   ]
  },
  {
   "cell_type": "code",
   "execution_count": 53,
   "metadata": {},
   "outputs": [
    {
     "data": {
      "application/vnd.plotly.v1+json": {
       "config": {
        "plotlyServerURL": "https://plot.ly"
       },
       "data": [
        {
         "alignmentgroup": "True",
         "hovertemplate": "Sensordata=CO2<br>ID=%{x}<br>CustomNonMissingRatio=%{y}<extra></extra>",
         "legendgroup": "CO2",
         "marker": {
          "color": "#636efa",
          "pattern": {
           "shape": ""
          }
         },
         "name": "CO2",
         "offsetgroup": "CO2",
         "orientation": "v",
         "showlegend": true,
         "textposition": "auto",
         "type": "bar",
         "x": [
          "A.03",
          "A.09",
          "A.10",
          "A.11a",
          "A.11b",
          "A.12",
          "A.14",
          "A.20"
         ],
         "xaxis": "x",
         "y": [
          1,
          1,
          1,
          1,
          1,
          1,
          1,
          1
         ],
         "yaxis": "y"
        },
        {
         "alignmentgroup": "True",
         "hovertemplate": "Sensordata=TEMP<br>ID=%{x}<br>CustomNonMissingRatio=%{y}<extra></extra>",
         "legendgroup": "TEMP",
         "marker": {
          "color": "#EF553B",
          "pattern": {
           "shape": ""
          }
         },
         "name": "TEMP",
         "offsetgroup": "TEMP",
         "orientation": "v",
         "showlegend": true,
         "textposition": "auto",
         "type": "bar",
         "x": [
          "A.03",
          "A.09",
          "A.10",
          "A.11a",
          "A.11b",
          "A.12",
          "A.14",
          "A.20"
         ],
         "xaxis": "x",
         "y": [
          1,
          1,
          1,
          1,
          1,
          1,
          1,
          1
         ],
         "yaxis": "y"
        },
        {
         "alignmentgroup": "True",
         "hovertemplate": "Sensordata=MOTION<br>ID=%{x}<br>CustomNonMissingRatio=%{y}<extra></extra>",
         "legendgroup": "MOTION",
         "marker": {
          "color": "#00cc96",
          "pattern": {
           "shape": ""
          }
         },
         "name": "MOTION",
         "offsetgroup": "MOTION",
         "orientation": "v",
         "showlegend": true,
         "textposition": "auto",
         "type": "bar",
         "x": [
          "A.03",
          "A.09",
          "A.10",
          "A.11a",
          "A.11b",
          "A.12",
          "A.14",
          "A.20"
         ],
         "xaxis": "x",
         "y": [
          0,
          0,
          0,
          0,
          0,
          0,
          0,
          0
         ],
         "yaxis": "y"
        },
        {
         "alignmentgroup": "True",
         "hovertemplate": "Sensordata=IAQ<br>ID=%{x}<br>CustomNonMissingRatio=%{y}<extra></extra>",
         "legendgroup": "IAQ",
         "marker": {
          "color": "#ab63fa",
          "pattern": {
           "shape": ""
          }
         },
         "name": "IAQ",
         "offsetgroup": "IAQ",
         "orientation": "v",
         "showlegend": true,
         "textposition": "auto",
         "type": "bar",
         "x": [
          "A.03",
          "A.09",
          "A.10",
          "A.11a",
          "A.11b",
          "A.12",
          "A.14",
          "A.20"
         ],
         "xaxis": "x",
         "y": [
          1,
          0.9986130374479889,
          1,
          1,
          1,
          1,
          0.9956140350877193,
          0.9992242048099301
         ],
         "yaxis": "y"
        }
       ],
       "layout": {
        "barmode": "group",
        "legend": {
         "title": {
          "text": "Sensordata"
         },
         "tracegroupgap": 0
        },
        "template": {
         "data": {
          "bar": [
           {
            "error_x": {
             "color": "#2a3f5f"
            },
            "error_y": {
             "color": "#2a3f5f"
            },
            "marker": {
             "line": {
              "color": "#E5ECF6",
              "width": 0.5
             },
             "pattern": {
              "fillmode": "overlay",
              "size": 10,
              "solidity": 0.2
             }
            },
            "type": "bar"
           }
          ],
          "barpolar": [
           {
            "marker": {
             "line": {
              "color": "#E5ECF6",
              "width": 0.5
             },
             "pattern": {
              "fillmode": "overlay",
              "size": 10,
              "solidity": 0.2
             }
            },
            "type": "barpolar"
           }
          ],
          "carpet": [
           {
            "aaxis": {
             "endlinecolor": "#2a3f5f",
             "gridcolor": "white",
             "linecolor": "white",
             "minorgridcolor": "white",
             "startlinecolor": "#2a3f5f"
            },
            "baxis": {
             "endlinecolor": "#2a3f5f",
             "gridcolor": "white",
             "linecolor": "white",
             "minorgridcolor": "white",
             "startlinecolor": "#2a3f5f"
            },
            "type": "carpet"
           }
          ],
          "choropleth": [
           {
            "colorbar": {
             "outlinewidth": 0,
             "ticks": ""
            },
            "type": "choropleth"
           }
          ],
          "contour": [
           {
            "colorbar": {
             "outlinewidth": 0,
             "ticks": ""
            },
            "colorscale": [
             [
              0,
              "#0d0887"
             ],
             [
              0.1111111111111111,
              "#46039f"
             ],
             [
              0.2222222222222222,
              "#7201a8"
             ],
             [
              0.3333333333333333,
              "#9c179e"
             ],
             [
              0.4444444444444444,
              "#bd3786"
             ],
             [
              0.5555555555555556,
              "#d8576b"
             ],
             [
              0.6666666666666666,
              "#ed7953"
             ],
             [
              0.7777777777777778,
              "#fb9f3a"
             ],
             [
              0.8888888888888888,
              "#fdca26"
             ],
             [
              1,
              "#f0f921"
             ]
            ],
            "type": "contour"
           }
          ],
          "contourcarpet": [
           {
            "colorbar": {
             "outlinewidth": 0,
             "ticks": ""
            },
            "type": "contourcarpet"
           }
          ],
          "heatmap": [
           {
            "colorbar": {
             "outlinewidth": 0,
             "ticks": ""
            },
            "colorscale": [
             [
              0,
              "#0d0887"
             ],
             [
              0.1111111111111111,
              "#46039f"
             ],
             [
              0.2222222222222222,
              "#7201a8"
             ],
             [
              0.3333333333333333,
              "#9c179e"
             ],
             [
              0.4444444444444444,
              "#bd3786"
             ],
             [
              0.5555555555555556,
              "#d8576b"
             ],
             [
              0.6666666666666666,
              "#ed7953"
             ],
             [
              0.7777777777777778,
              "#fb9f3a"
             ],
             [
              0.8888888888888888,
              "#fdca26"
             ],
             [
              1,
              "#f0f921"
             ]
            ],
            "type": "heatmap"
           }
          ],
          "heatmapgl": [
           {
            "colorbar": {
             "outlinewidth": 0,
             "ticks": ""
            },
            "colorscale": [
             [
              0,
              "#0d0887"
             ],
             [
              0.1111111111111111,
              "#46039f"
             ],
             [
              0.2222222222222222,
              "#7201a8"
             ],
             [
              0.3333333333333333,
              "#9c179e"
             ],
             [
              0.4444444444444444,
              "#bd3786"
             ],
             [
              0.5555555555555556,
              "#d8576b"
             ],
             [
              0.6666666666666666,
              "#ed7953"
             ],
             [
              0.7777777777777778,
              "#fb9f3a"
             ],
             [
              0.8888888888888888,
              "#fdca26"
             ],
             [
              1,
              "#f0f921"
             ]
            ],
            "type": "heatmapgl"
           }
          ],
          "histogram": [
           {
            "marker": {
             "pattern": {
              "fillmode": "overlay",
              "size": 10,
              "solidity": 0.2
             }
            },
            "type": "histogram"
           }
          ],
          "histogram2d": [
           {
            "colorbar": {
             "outlinewidth": 0,
             "ticks": ""
            },
            "colorscale": [
             [
              0,
              "#0d0887"
             ],
             [
              0.1111111111111111,
              "#46039f"
             ],
             [
              0.2222222222222222,
              "#7201a8"
             ],
             [
              0.3333333333333333,
              "#9c179e"
             ],
             [
              0.4444444444444444,
              "#bd3786"
             ],
             [
              0.5555555555555556,
              "#d8576b"
             ],
             [
              0.6666666666666666,
              "#ed7953"
             ],
             [
              0.7777777777777778,
              "#fb9f3a"
             ],
             [
              0.8888888888888888,
              "#fdca26"
             ],
             [
              1,
              "#f0f921"
             ]
            ],
            "type": "histogram2d"
           }
          ],
          "histogram2dcontour": [
           {
            "colorbar": {
             "outlinewidth": 0,
             "ticks": ""
            },
            "colorscale": [
             [
              0,
              "#0d0887"
             ],
             [
              0.1111111111111111,
              "#46039f"
             ],
             [
              0.2222222222222222,
              "#7201a8"
             ],
             [
              0.3333333333333333,
              "#9c179e"
             ],
             [
              0.4444444444444444,
              "#bd3786"
             ],
             [
              0.5555555555555556,
              "#d8576b"
             ],
             [
              0.6666666666666666,
              "#ed7953"
             ],
             [
              0.7777777777777778,
              "#fb9f3a"
             ],
             [
              0.8888888888888888,
              "#fdca26"
             ],
             [
              1,
              "#f0f921"
             ]
            ],
            "type": "histogram2dcontour"
           }
          ],
          "mesh3d": [
           {
            "colorbar": {
             "outlinewidth": 0,
             "ticks": ""
            },
            "type": "mesh3d"
           }
          ],
          "parcoords": [
           {
            "line": {
             "colorbar": {
              "outlinewidth": 0,
              "ticks": ""
             }
            },
            "type": "parcoords"
           }
          ],
          "pie": [
           {
            "automargin": true,
            "type": "pie"
           }
          ],
          "scatter": [
           {
            "fillpattern": {
             "fillmode": "overlay",
             "size": 10,
             "solidity": 0.2
            },
            "type": "scatter"
           }
          ],
          "scatter3d": [
           {
            "line": {
             "colorbar": {
              "outlinewidth": 0,
              "ticks": ""
             }
            },
            "marker": {
             "colorbar": {
              "outlinewidth": 0,
              "ticks": ""
             }
            },
            "type": "scatter3d"
           }
          ],
          "scattercarpet": [
           {
            "marker": {
             "colorbar": {
              "outlinewidth": 0,
              "ticks": ""
             }
            },
            "type": "scattercarpet"
           }
          ],
          "scattergeo": [
           {
            "marker": {
             "colorbar": {
              "outlinewidth": 0,
              "ticks": ""
             }
            },
            "type": "scattergeo"
           }
          ],
          "scattergl": [
           {
            "marker": {
             "colorbar": {
              "outlinewidth": 0,
              "ticks": ""
             }
            },
            "type": "scattergl"
           }
          ],
          "scattermapbox": [
           {
            "marker": {
             "colorbar": {
              "outlinewidth": 0,
              "ticks": ""
             }
            },
            "type": "scattermapbox"
           }
          ],
          "scatterpolar": [
           {
            "marker": {
             "colorbar": {
              "outlinewidth": 0,
              "ticks": ""
             }
            },
            "type": "scatterpolar"
           }
          ],
          "scatterpolargl": [
           {
            "marker": {
             "colorbar": {
              "outlinewidth": 0,
              "ticks": ""
             }
            },
            "type": "scatterpolargl"
           }
          ],
          "scatterternary": [
           {
            "marker": {
             "colorbar": {
              "outlinewidth": 0,
              "ticks": ""
             }
            },
            "type": "scatterternary"
           }
          ],
          "surface": [
           {
            "colorbar": {
             "outlinewidth": 0,
             "ticks": ""
            },
            "colorscale": [
             [
              0,
              "#0d0887"
             ],
             [
              0.1111111111111111,
              "#46039f"
             ],
             [
              0.2222222222222222,
              "#7201a8"
             ],
             [
              0.3333333333333333,
              "#9c179e"
             ],
             [
              0.4444444444444444,
              "#bd3786"
             ],
             [
              0.5555555555555556,
              "#d8576b"
             ],
             [
              0.6666666666666666,
              "#ed7953"
             ],
             [
              0.7777777777777778,
              "#fb9f3a"
             ],
             [
              0.8888888888888888,
              "#fdca26"
             ],
             [
              1,
              "#f0f921"
             ]
            ],
            "type": "surface"
           }
          ],
          "table": [
           {
            "cells": {
             "fill": {
              "color": "#EBF0F8"
             },
             "line": {
              "color": "white"
             }
            },
            "header": {
             "fill": {
              "color": "#C8D4E3"
             },
             "line": {
              "color": "white"
             }
            },
            "type": "table"
           }
          ]
         },
         "layout": {
          "annotationdefaults": {
           "arrowcolor": "#2a3f5f",
           "arrowhead": 0,
           "arrowwidth": 1
          },
          "autotypenumbers": "strict",
          "coloraxis": {
           "colorbar": {
            "outlinewidth": 0,
            "ticks": ""
           }
          },
          "colorscale": {
           "diverging": [
            [
             0,
             "#8e0152"
            ],
            [
             0.1,
             "#c51b7d"
            ],
            [
             0.2,
             "#de77ae"
            ],
            [
             0.3,
             "#f1b6da"
            ],
            [
             0.4,
             "#fde0ef"
            ],
            [
             0.5,
             "#f7f7f7"
            ],
            [
             0.6,
             "#e6f5d0"
            ],
            [
             0.7,
             "#b8e186"
            ],
            [
             0.8,
             "#7fbc41"
            ],
            [
             0.9,
             "#4d9221"
            ],
            [
             1,
             "#276419"
            ]
           ],
           "sequential": [
            [
             0,
             "#0d0887"
            ],
            [
             0.1111111111111111,
             "#46039f"
            ],
            [
             0.2222222222222222,
             "#7201a8"
            ],
            [
             0.3333333333333333,
             "#9c179e"
            ],
            [
             0.4444444444444444,
             "#bd3786"
            ],
            [
             0.5555555555555556,
             "#d8576b"
            ],
            [
             0.6666666666666666,
             "#ed7953"
            ],
            [
             0.7777777777777778,
             "#fb9f3a"
            ],
            [
             0.8888888888888888,
             "#fdca26"
            ],
            [
             1,
             "#f0f921"
            ]
           ],
           "sequentialminus": [
            [
             0,
             "#0d0887"
            ],
            [
             0.1111111111111111,
             "#46039f"
            ],
            [
             0.2222222222222222,
             "#7201a8"
            ],
            [
             0.3333333333333333,
             "#9c179e"
            ],
            [
             0.4444444444444444,
             "#bd3786"
            ],
            [
             0.5555555555555556,
             "#d8576b"
            ],
            [
             0.6666666666666666,
             "#ed7953"
            ],
            [
             0.7777777777777778,
             "#fb9f3a"
            ],
            [
             0.8888888888888888,
             "#fdca26"
            ],
            [
             1,
             "#f0f921"
            ]
           ]
          },
          "colorway": [
           "#636efa",
           "#EF553B",
           "#00cc96",
           "#ab63fa",
           "#FFA15A",
           "#19d3f3",
           "#FF6692",
           "#B6E880",
           "#FF97FF",
           "#FECB52"
          ],
          "font": {
           "color": "#2a3f5f"
          },
          "geo": {
           "bgcolor": "white",
           "lakecolor": "white",
           "landcolor": "#E5ECF6",
           "showlakes": true,
           "showland": true,
           "subunitcolor": "white"
          },
          "hoverlabel": {
           "align": "left"
          },
          "hovermode": "closest",
          "mapbox": {
           "style": "light"
          },
          "paper_bgcolor": "white",
          "plot_bgcolor": "#E5ECF6",
          "polar": {
           "angularaxis": {
            "gridcolor": "white",
            "linecolor": "white",
            "ticks": ""
           },
           "bgcolor": "#E5ECF6",
           "radialaxis": {
            "gridcolor": "white",
            "linecolor": "white",
            "ticks": ""
           }
          },
          "scene": {
           "xaxis": {
            "backgroundcolor": "#E5ECF6",
            "gridcolor": "white",
            "gridwidth": 2,
            "linecolor": "white",
            "showbackground": true,
            "ticks": "",
            "zerolinecolor": "white"
           },
           "yaxis": {
            "backgroundcolor": "#E5ECF6",
            "gridcolor": "white",
            "gridwidth": 2,
            "linecolor": "white",
            "showbackground": true,
            "ticks": "",
            "zerolinecolor": "white"
           },
           "zaxis": {
            "backgroundcolor": "#E5ECF6",
            "gridcolor": "white",
            "gridwidth": 2,
            "linecolor": "white",
            "showbackground": true,
            "ticks": "",
            "zerolinecolor": "white"
           }
          },
          "shapedefaults": {
           "line": {
            "color": "#2a3f5f"
           }
          },
          "ternary": {
           "aaxis": {
            "gridcolor": "white",
            "linecolor": "white",
            "ticks": ""
           },
           "baxis": {
            "gridcolor": "white",
            "linecolor": "white",
            "ticks": ""
           },
           "bgcolor": "#E5ECF6",
           "caxis": {
            "gridcolor": "white",
            "linecolor": "white",
            "ticks": ""
           }
          },
          "title": {
           "x": 0.05
          },
          "xaxis": {
           "automargin": true,
           "gridcolor": "white",
           "linecolor": "white",
           "ticks": "",
           "title": {
            "standoff": 15
           },
           "zerolinecolor": "white",
           "zerolinewidth": 2
          },
          "yaxis": {
           "automargin": true,
           "gridcolor": "white",
           "linecolor": "white",
           "ticks": "",
           "title": {
            "standoff": 15
           },
           "zerolinecolor": "white",
           "zerolinewidth": 2
          }
         }
        },
        "title": {
         "text": "Custom Non-Missing Values Ratio for Rønbækskolen (Top 8 IDs)"
        },
        "xaxis": {
         "anchor": "y",
         "categoryorder": "total descending",
         "domain": [
          0,
          1
         ],
         "title": {
          "text": "ID"
         }
        },
        "yaxis": {
         "anchor": "x",
         "domain": [
          0,
          1
         ],
         "title": {
          "text": "Integritet (%)"
         }
        }
       }
      },
      "text/html": [
       "<div>                            <div id=\"8943f155-9d9e-44ed-9be4-b5b91e9150ee\" class=\"plotly-graph-div\" style=\"height:525px; width:100%;\"></div>            <script type=\"text/javascript\">                require([\"plotly\"], function(Plotly) {                    window.PLOTLYENV=window.PLOTLYENV || {};                                    if (document.getElementById(\"8943f155-9d9e-44ed-9be4-b5b91e9150ee\")) {                    Plotly.newPlot(                        \"8943f155-9d9e-44ed-9be4-b5b91e9150ee\",                        [{\"alignmentgroup\":\"True\",\"hovertemplate\":\"Sensordata=CO2\\u003cbr\\u003eID=%{x}\\u003cbr\\u003eCustomNonMissingRatio=%{y}\\u003cextra\\u003e\\u003c\\u002fextra\\u003e\",\"legendgroup\":\"CO2\",\"marker\":{\"color\":\"#636efa\",\"pattern\":{\"shape\":\"\"}},\"name\":\"CO2\",\"offsetgroup\":\"CO2\",\"orientation\":\"v\",\"showlegend\":true,\"textposition\":\"auto\",\"x\":[\"A.03\",\"A.09\",\"A.10\",\"A.11a\",\"A.11b\",\"A.12\",\"A.14\",\"A.20\"],\"xaxis\":\"x\",\"y\":[1.0,1.0,1.0,1.0,1.0,1.0,1.0,1.0],\"yaxis\":\"y\",\"type\":\"bar\"},{\"alignmentgroup\":\"True\",\"hovertemplate\":\"Sensordata=TEMP\\u003cbr\\u003eID=%{x}\\u003cbr\\u003eCustomNonMissingRatio=%{y}\\u003cextra\\u003e\\u003c\\u002fextra\\u003e\",\"legendgroup\":\"TEMP\",\"marker\":{\"color\":\"#EF553B\",\"pattern\":{\"shape\":\"\"}},\"name\":\"TEMP\",\"offsetgroup\":\"TEMP\",\"orientation\":\"v\",\"showlegend\":true,\"textposition\":\"auto\",\"x\":[\"A.03\",\"A.09\",\"A.10\",\"A.11a\",\"A.11b\",\"A.12\",\"A.14\",\"A.20\"],\"xaxis\":\"x\",\"y\":[1.0,1.0,1.0,1.0,1.0,1.0,1.0,1.0],\"yaxis\":\"y\",\"type\":\"bar\"},{\"alignmentgroup\":\"True\",\"hovertemplate\":\"Sensordata=MOTION\\u003cbr\\u003eID=%{x}\\u003cbr\\u003eCustomNonMissingRatio=%{y}\\u003cextra\\u003e\\u003c\\u002fextra\\u003e\",\"legendgroup\":\"MOTION\",\"marker\":{\"color\":\"#00cc96\",\"pattern\":{\"shape\":\"\"}},\"name\":\"MOTION\",\"offsetgroup\":\"MOTION\",\"orientation\":\"v\",\"showlegend\":true,\"textposition\":\"auto\",\"x\":[\"A.03\",\"A.09\",\"A.10\",\"A.11a\",\"A.11b\",\"A.12\",\"A.14\",\"A.20\"],\"xaxis\":\"x\",\"y\":[0.0,0.0,0.0,0.0,0.0,0.0,0.0,0.0],\"yaxis\":\"y\",\"type\":\"bar\"},{\"alignmentgroup\":\"True\",\"hovertemplate\":\"Sensordata=IAQ\\u003cbr\\u003eID=%{x}\\u003cbr\\u003eCustomNonMissingRatio=%{y}\\u003cextra\\u003e\\u003c\\u002fextra\\u003e\",\"legendgroup\":\"IAQ\",\"marker\":{\"color\":\"#ab63fa\",\"pattern\":{\"shape\":\"\"}},\"name\":\"IAQ\",\"offsetgroup\":\"IAQ\",\"orientation\":\"v\",\"showlegend\":true,\"textposition\":\"auto\",\"x\":[\"A.03\",\"A.09\",\"A.10\",\"A.11a\",\"A.11b\",\"A.12\",\"A.14\",\"A.20\"],\"xaxis\":\"x\",\"y\":[1.0,0.9986130374479889,1.0,1.0,1.0,1.0,0.9956140350877193,0.9992242048099301],\"yaxis\":\"y\",\"type\":\"bar\"}],                        {\"template\":{\"data\":{\"histogram2dcontour\":[{\"type\":\"histogram2dcontour\",\"colorbar\":{\"outlinewidth\":0,\"ticks\":\"\"},\"colorscale\":[[0.0,\"#0d0887\"],[0.1111111111111111,\"#46039f\"],[0.2222222222222222,\"#7201a8\"],[0.3333333333333333,\"#9c179e\"],[0.4444444444444444,\"#bd3786\"],[0.5555555555555556,\"#d8576b\"],[0.6666666666666666,\"#ed7953\"],[0.7777777777777778,\"#fb9f3a\"],[0.8888888888888888,\"#fdca26\"],[1.0,\"#f0f921\"]]}],\"choropleth\":[{\"type\":\"choropleth\",\"colorbar\":{\"outlinewidth\":0,\"ticks\":\"\"}}],\"histogram2d\":[{\"type\":\"histogram2d\",\"colorbar\":{\"outlinewidth\":0,\"ticks\":\"\"},\"colorscale\":[[0.0,\"#0d0887\"],[0.1111111111111111,\"#46039f\"],[0.2222222222222222,\"#7201a8\"],[0.3333333333333333,\"#9c179e\"],[0.4444444444444444,\"#bd3786\"],[0.5555555555555556,\"#d8576b\"],[0.6666666666666666,\"#ed7953\"],[0.7777777777777778,\"#fb9f3a\"],[0.8888888888888888,\"#fdca26\"],[1.0,\"#f0f921\"]]}],\"heatmap\":[{\"type\":\"heatmap\",\"colorbar\":{\"outlinewidth\":0,\"ticks\":\"\"},\"colorscale\":[[0.0,\"#0d0887\"],[0.1111111111111111,\"#46039f\"],[0.2222222222222222,\"#7201a8\"],[0.3333333333333333,\"#9c179e\"],[0.4444444444444444,\"#bd3786\"],[0.5555555555555556,\"#d8576b\"],[0.6666666666666666,\"#ed7953\"],[0.7777777777777778,\"#fb9f3a\"],[0.8888888888888888,\"#fdca26\"],[1.0,\"#f0f921\"]]}],\"heatmapgl\":[{\"type\":\"heatmapgl\",\"colorbar\":{\"outlinewidth\":0,\"ticks\":\"\"},\"colorscale\":[[0.0,\"#0d0887\"],[0.1111111111111111,\"#46039f\"],[0.2222222222222222,\"#7201a8\"],[0.3333333333333333,\"#9c179e\"],[0.4444444444444444,\"#bd3786\"],[0.5555555555555556,\"#d8576b\"],[0.6666666666666666,\"#ed7953\"],[0.7777777777777778,\"#fb9f3a\"],[0.8888888888888888,\"#fdca26\"],[1.0,\"#f0f921\"]]}],\"contourcarpet\":[{\"type\":\"contourcarpet\",\"colorbar\":{\"outlinewidth\":0,\"ticks\":\"\"}}],\"contour\":[{\"type\":\"contour\",\"colorbar\":{\"outlinewidth\":0,\"ticks\":\"\"},\"colorscale\":[[0.0,\"#0d0887\"],[0.1111111111111111,\"#46039f\"],[0.2222222222222222,\"#7201a8\"],[0.3333333333333333,\"#9c179e\"],[0.4444444444444444,\"#bd3786\"],[0.5555555555555556,\"#d8576b\"],[0.6666666666666666,\"#ed7953\"],[0.7777777777777778,\"#fb9f3a\"],[0.8888888888888888,\"#fdca26\"],[1.0,\"#f0f921\"]]}],\"surface\":[{\"type\":\"surface\",\"colorbar\":{\"outlinewidth\":0,\"ticks\":\"\"},\"colorscale\":[[0.0,\"#0d0887\"],[0.1111111111111111,\"#46039f\"],[0.2222222222222222,\"#7201a8\"],[0.3333333333333333,\"#9c179e\"],[0.4444444444444444,\"#bd3786\"],[0.5555555555555556,\"#d8576b\"],[0.6666666666666666,\"#ed7953\"],[0.7777777777777778,\"#fb9f3a\"],[0.8888888888888888,\"#fdca26\"],[1.0,\"#f0f921\"]]}],\"mesh3d\":[{\"type\":\"mesh3d\",\"colorbar\":{\"outlinewidth\":0,\"ticks\":\"\"}}],\"scatter\":[{\"fillpattern\":{\"fillmode\":\"overlay\",\"size\":10,\"solidity\":0.2},\"type\":\"scatter\"}],\"parcoords\":[{\"type\":\"parcoords\",\"line\":{\"colorbar\":{\"outlinewidth\":0,\"ticks\":\"\"}}}],\"scatterpolargl\":[{\"type\":\"scatterpolargl\",\"marker\":{\"colorbar\":{\"outlinewidth\":0,\"ticks\":\"\"}}}],\"bar\":[{\"error_x\":{\"color\":\"#2a3f5f\"},\"error_y\":{\"color\":\"#2a3f5f\"},\"marker\":{\"line\":{\"color\":\"#E5ECF6\",\"width\":0.5},\"pattern\":{\"fillmode\":\"overlay\",\"size\":10,\"solidity\":0.2}},\"type\":\"bar\"}],\"scattergeo\":[{\"type\":\"scattergeo\",\"marker\":{\"colorbar\":{\"outlinewidth\":0,\"ticks\":\"\"}}}],\"scatterpolar\":[{\"type\":\"scatterpolar\",\"marker\":{\"colorbar\":{\"outlinewidth\":0,\"ticks\":\"\"}}}],\"histogram\":[{\"marker\":{\"pattern\":{\"fillmode\":\"overlay\",\"size\":10,\"solidity\":0.2}},\"type\":\"histogram\"}],\"scattergl\":[{\"type\":\"scattergl\",\"marker\":{\"colorbar\":{\"outlinewidth\":0,\"ticks\":\"\"}}}],\"scatter3d\":[{\"type\":\"scatter3d\",\"line\":{\"colorbar\":{\"outlinewidth\":0,\"ticks\":\"\"}},\"marker\":{\"colorbar\":{\"outlinewidth\":0,\"ticks\":\"\"}}}],\"scattermapbox\":[{\"type\":\"scattermapbox\",\"marker\":{\"colorbar\":{\"outlinewidth\":0,\"ticks\":\"\"}}}],\"scatterternary\":[{\"type\":\"scatterternary\",\"marker\":{\"colorbar\":{\"outlinewidth\":0,\"ticks\":\"\"}}}],\"scattercarpet\":[{\"type\":\"scattercarpet\",\"marker\":{\"colorbar\":{\"outlinewidth\":0,\"ticks\":\"\"}}}],\"carpet\":[{\"aaxis\":{\"endlinecolor\":\"#2a3f5f\",\"gridcolor\":\"white\",\"linecolor\":\"white\",\"minorgridcolor\":\"white\",\"startlinecolor\":\"#2a3f5f\"},\"baxis\":{\"endlinecolor\":\"#2a3f5f\",\"gridcolor\":\"white\",\"linecolor\":\"white\",\"minorgridcolor\":\"white\",\"startlinecolor\":\"#2a3f5f\"},\"type\":\"carpet\"}],\"table\":[{\"cells\":{\"fill\":{\"color\":\"#EBF0F8\"},\"line\":{\"color\":\"white\"}},\"header\":{\"fill\":{\"color\":\"#C8D4E3\"},\"line\":{\"color\":\"white\"}},\"type\":\"table\"}],\"barpolar\":[{\"marker\":{\"line\":{\"color\":\"#E5ECF6\",\"width\":0.5},\"pattern\":{\"fillmode\":\"overlay\",\"size\":10,\"solidity\":0.2}},\"type\":\"barpolar\"}],\"pie\":[{\"automargin\":true,\"type\":\"pie\"}]},\"layout\":{\"autotypenumbers\":\"strict\",\"colorway\":[\"#636efa\",\"#EF553B\",\"#00cc96\",\"#ab63fa\",\"#FFA15A\",\"#19d3f3\",\"#FF6692\",\"#B6E880\",\"#FF97FF\",\"#FECB52\"],\"font\":{\"color\":\"#2a3f5f\"},\"hovermode\":\"closest\",\"hoverlabel\":{\"align\":\"left\"},\"paper_bgcolor\":\"white\",\"plot_bgcolor\":\"#E5ECF6\",\"polar\":{\"bgcolor\":\"#E5ECF6\",\"angularaxis\":{\"gridcolor\":\"white\",\"linecolor\":\"white\",\"ticks\":\"\"},\"radialaxis\":{\"gridcolor\":\"white\",\"linecolor\":\"white\",\"ticks\":\"\"}},\"ternary\":{\"bgcolor\":\"#E5ECF6\",\"aaxis\":{\"gridcolor\":\"white\",\"linecolor\":\"white\",\"ticks\":\"\"},\"baxis\":{\"gridcolor\":\"white\",\"linecolor\":\"white\",\"ticks\":\"\"},\"caxis\":{\"gridcolor\":\"white\",\"linecolor\":\"white\",\"ticks\":\"\"}},\"coloraxis\":{\"colorbar\":{\"outlinewidth\":0,\"ticks\":\"\"}},\"colorscale\":{\"sequential\":[[0.0,\"#0d0887\"],[0.1111111111111111,\"#46039f\"],[0.2222222222222222,\"#7201a8\"],[0.3333333333333333,\"#9c179e\"],[0.4444444444444444,\"#bd3786\"],[0.5555555555555556,\"#d8576b\"],[0.6666666666666666,\"#ed7953\"],[0.7777777777777778,\"#fb9f3a\"],[0.8888888888888888,\"#fdca26\"],[1.0,\"#f0f921\"]],\"sequentialminus\":[[0.0,\"#0d0887\"],[0.1111111111111111,\"#46039f\"],[0.2222222222222222,\"#7201a8\"],[0.3333333333333333,\"#9c179e\"],[0.4444444444444444,\"#bd3786\"],[0.5555555555555556,\"#d8576b\"],[0.6666666666666666,\"#ed7953\"],[0.7777777777777778,\"#fb9f3a\"],[0.8888888888888888,\"#fdca26\"],[1.0,\"#f0f921\"]],\"diverging\":[[0,\"#8e0152\"],[0.1,\"#c51b7d\"],[0.2,\"#de77ae\"],[0.3,\"#f1b6da\"],[0.4,\"#fde0ef\"],[0.5,\"#f7f7f7\"],[0.6,\"#e6f5d0\"],[0.7,\"#b8e186\"],[0.8,\"#7fbc41\"],[0.9,\"#4d9221\"],[1,\"#276419\"]]},\"xaxis\":{\"gridcolor\":\"white\",\"linecolor\":\"white\",\"ticks\":\"\",\"title\":{\"standoff\":15},\"zerolinecolor\":\"white\",\"automargin\":true,\"zerolinewidth\":2},\"yaxis\":{\"gridcolor\":\"white\",\"linecolor\":\"white\",\"ticks\":\"\",\"title\":{\"standoff\":15},\"zerolinecolor\":\"white\",\"automargin\":true,\"zerolinewidth\":2},\"scene\":{\"xaxis\":{\"backgroundcolor\":\"#E5ECF6\",\"gridcolor\":\"white\",\"linecolor\":\"white\",\"showbackground\":true,\"ticks\":\"\",\"zerolinecolor\":\"white\",\"gridwidth\":2},\"yaxis\":{\"backgroundcolor\":\"#E5ECF6\",\"gridcolor\":\"white\",\"linecolor\":\"white\",\"showbackground\":true,\"ticks\":\"\",\"zerolinecolor\":\"white\",\"gridwidth\":2},\"zaxis\":{\"backgroundcolor\":\"#E5ECF6\",\"gridcolor\":\"white\",\"linecolor\":\"white\",\"showbackground\":true,\"ticks\":\"\",\"zerolinecolor\":\"white\",\"gridwidth\":2}},\"shapedefaults\":{\"line\":{\"color\":\"#2a3f5f\"}},\"annotationdefaults\":{\"arrowcolor\":\"#2a3f5f\",\"arrowhead\":0,\"arrowwidth\":1},\"geo\":{\"bgcolor\":\"white\",\"landcolor\":\"#E5ECF6\",\"subunitcolor\":\"white\",\"showland\":true,\"showlakes\":true,\"lakecolor\":\"white\"},\"title\":{\"x\":0.05},\"mapbox\":{\"style\":\"light\"}}},\"xaxis\":{\"anchor\":\"y\",\"domain\":[0.0,1.0],\"title\":{\"text\":\"ID\"},\"categoryorder\":\"total descending\"},\"yaxis\":{\"anchor\":\"x\",\"domain\":[0.0,1.0],\"title\":{\"text\":\"Integritet (%)\"}},\"legend\":{\"title\":{\"text\":\"Sensordata\"},\"tracegroupgap\":0},\"title\":{\"text\":\"Custom Non-Missing Values Ratio for R\\u00f8nb\\u00e6kskolen (Top 8 IDs)\"},\"barmode\":\"group\"},                        {\"responsive\": true}                    ).then(function(){\n",
       "                            \n",
       "var gd = document.getElementById('8943f155-9d9e-44ed-9be4-b5b91e9150ee');\n",
       "var x = new MutationObserver(function (mutations, observer) {{\n",
       "        var display = window.getComputedStyle(gd).display;\n",
       "        if (!display || display === 'none') {{\n",
       "            console.log([gd, 'removed!']);\n",
       "            Plotly.purge(gd);\n",
       "            observer.disconnect();\n",
       "        }}\n",
       "}});\n",
       "\n",
       "// Listen for the removal of the full notebook cells\n",
       "var notebookContainer = gd.closest('#notebook-container');\n",
       "if (notebookContainer) {{\n",
       "    x.observe(notebookContainer, {childList: true});\n",
       "}}\n",
       "\n",
       "// Listen for the clearing of the current output cell\n",
       "var outputEl = gd.closest('.output');\n",
       "if (outputEl) {{\n",
       "    x.observe(outputEl, {childList: true});\n",
       "}}\n",
       "\n",
       "                        })                };                });            </script>        </div>"
      ]
     },
     "metadata": {},
     "output_type": "display_data"
    },
    {
     "data": {
      "application/vnd.plotly.v1+json": {
       "config": {
        "plotlyServerURL": "https://plot.ly"
       },
       "data": [
        {
         "alignmentgroup": "True",
         "hovertemplate": "Sensordata=CO2<br>ID=%{x}<br>CustomNonMissingRatio=%{y}<extra></extra>",
         "legendgroup": "CO2",
         "marker": {
          "color": "#636efa",
          "pattern": {
           "shape": ""
          }
         },
         "name": "CO2",
         "offsetgroup": "CO2",
         "orientation": "v",
         "showlegend": true,
         "textposition": "auto",
         "type": "bar",
         "x": [
          "02.S.08",
          "02.S.09",
          "02.S.10",
          "02.S.11",
          "02.S.13",
          "02.S.14",
          "03.S.03",
          "03.S.04"
         ],
         "xaxis": "x",
         "y": [
          1,
          1,
          1,
          1,
          1,
          1,
          1,
          1
         ],
         "yaxis": "y"
        },
        {
         "alignmentgroup": "True",
         "hovertemplate": "Sensordata=TEMP<br>ID=%{x}<br>CustomNonMissingRatio=%{y}<extra></extra>",
         "legendgroup": "TEMP",
         "marker": {
          "color": "#EF553B",
          "pattern": {
           "shape": ""
          }
         },
         "name": "TEMP",
         "offsetgroup": "TEMP",
         "orientation": "v",
         "showlegend": true,
         "textposition": "auto",
         "type": "bar",
         "x": [
          "02.S.08",
          "02.S.09",
          "02.S.10",
          "02.S.11",
          "02.S.13",
          "02.S.14",
          "03.S.03",
          "03.S.04"
         ],
         "xaxis": "x",
         "y": [
          1,
          1,
          1,
          1,
          1,
          1,
          1,
          1
         ],
         "yaxis": "y"
        },
        {
         "alignmentgroup": "True",
         "hovertemplate": "Sensordata=MOTION<br>ID=%{x}<br>CustomNonMissingRatio=%{y}<extra></extra>",
         "legendgroup": "MOTION",
         "marker": {
          "color": "#00cc96",
          "pattern": {
           "shape": ""
          }
         },
         "name": "MOTION",
         "offsetgroup": "MOTION",
         "orientation": "v",
         "showlegend": true,
         "textposition": "auto",
         "type": "bar",
         "x": [
          "02.S.08",
          "02.S.09",
          "02.S.10",
          "02.S.11",
          "02.S.13",
          "02.S.14",
          "03.S.03",
          "03.S.04"
         ],
         "xaxis": "x",
         "y": [
          0,
          0,
          0,
          0,
          0,
          0,
          0,
          0
         ],
         "yaxis": "y"
        },
        {
         "alignmentgroup": "True",
         "hovertemplate": "Sensordata=IAQ<br>ID=%{x}<br>CustomNonMissingRatio=%{y}<extra></extra>",
         "legendgroup": "IAQ",
         "marker": {
          "color": "#ab63fa",
          "pattern": {
           "shape": ""
          }
         },
         "name": "IAQ",
         "offsetgroup": "IAQ",
         "orientation": "v",
         "showlegend": true,
         "textposition": "auto",
         "type": "bar",
         "x": [
          "02.S.08",
          "02.S.09",
          "02.S.10",
          "02.S.11",
          "02.S.13",
          "02.S.14",
          "03.S.03",
          "03.S.04"
         ],
         "xaxis": "x",
         "y": [
          0.9996562523871362,
          0.9993650793650793,
          0.9911335796227883,
          0.9993887530562348,
          0.9996542334788434,
          0.9995469133471776,
          0.9996085646064117,
          0.9991228070175439
         ],
         "yaxis": "y"
        }
       ],
       "layout": {
        "barmode": "group",
        "legend": {
         "title": {
          "text": "Sensordata"
         },
         "tracegroupgap": 0
        },
        "template": {
         "data": {
          "bar": [
           {
            "error_x": {
             "color": "#2a3f5f"
            },
            "error_y": {
             "color": "#2a3f5f"
            },
            "marker": {
             "line": {
              "color": "#E5ECF6",
              "width": 0.5
             },
             "pattern": {
              "fillmode": "overlay",
              "size": 10,
              "solidity": 0.2
             }
            },
            "type": "bar"
           }
          ],
          "barpolar": [
           {
            "marker": {
             "line": {
              "color": "#E5ECF6",
              "width": 0.5
             },
             "pattern": {
              "fillmode": "overlay",
              "size": 10,
              "solidity": 0.2
             }
            },
            "type": "barpolar"
           }
          ],
          "carpet": [
           {
            "aaxis": {
             "endlinecolor": "#2a3f5f",
             "gridcolor": "white",
             "linecolor": "white",
             "minorgridcolor": "white",
             "startlinecolor": "#2a3f5f"
            },
            "baxis": {
             "endlinecolor": "#2a3f5f",
             "gridcolor": "white",
             "linecolor": "white",
             "minorgridcolor": "white",
             "startlinecolor": "#2a3f5f"
            },
            "type": "carpet"
           }
          ],
          "choropleth": [
           {
            "colorbar": {
             "outlinewidth": 0,
             "ticks": ""
            },
            "type": "choropleth"
           }
          ],
          "contour": [
           {
            "colorbar": {
             "outlinewidth": 0,
             "ticks": ""
            },
            "colorscale": [
             [
              0,
              "#0d0887"
             ],
             [
              0.1111111111111111,
              "#46039f"
             ],
             [
              0.2222222222222222,
              "#7201a8"
             ],
             [
              0.3333333333333333,
              "#9c179e"
             ],
             [
              0.4444444444444444,
              "#bd3786"
             ],
             [
              0.5555555555555556,
              "#d8576b"
             ],
             [
              0.6666666666666666,
              "#ed7953"
             ],
             [
              0.7777777777777778,
              "#fb9f3a"
             ],
             [
              0.8888888888888888,
              "#fdca26"
             ],
             [
              1,
              "#f0f921"
             ]
            ],
            "type": "contour"
           }
          ],
          "contourcarpet": [
           {
            "colorbar": {
             "outlinewidth": 0,
             "ticks": ""
            },
            "type": "contourcarpet"
           }
          ],
          "heatmap": [
           {
            "colorbar": {
             "outlinewidth": 0,
             "ticks": ""
            },
            "colorscale": [
             [
              0,
              "#0d0887"
             ],
             [
              0.1111111111111111,
              "#46039f"
             ],
             [
              0.2222222222222222,
              "#7201a8"
             ],
             [
              0.3333333333333333,
              "#9c179e"
             ],
             [
              0.4444444444444444,
              "#bd3786"
             ],
             [
              0.5555555555555556,
              "#d8576b"
             ],
             [
              0.6666666666666666,
              "#ed7953"
             ],
             [
              0.7777777777777778,
              "#fb9f3a"
             ],
             [
              0.8888888888888888,
              "#fdca26"
             ],
             [
              1,
              "#f0f921"
             ]
            ],
            "type": "heatmap"
           }
          ],
          "heatmapgl": [
           {
            "colorbar": {
             "outlinewidth": 0,
             "ticks": ""
            },
            "colorscale": [
             [
              0,
              "#0d0887"
             ],
             [
              0.1111111111111111,
              "#46039f"
             ],
             [
              0.2222222222222222,
              "#7201a8"
             ],
             [
              0.3333333333333333,
              "#9c179e"
             ],
             [
              0.4444444444444444,
              "#bd3786"
             ],
             [
              0.5555555555555556,
              "#d8576b"
             ],
             [
              0.6666666666666666,
              "#ed7953"
             ],
             [
              0.7777777777777778,
              "#fb9f3a"
             ],
             [
              0.8888888888888888,
              "#fdca26"
             ],
             [
              1,
              "#f0f921"
             ]
            ],
            "type": "heatmapgl"
           }
          ],
          "histogram": [
           {
            "marker": {
             "pattern": {
              "fillmode": "overlay",
              "size": 10,
              "solidity": 0.2
             }
            },
            "type": "histogram"
           }
          ],
          "histogram2d": [
           {
            "colorbar": {
             "outlinewidth": 0,
             "ticks": ""
            },
            "colorscale": [
             [
              0,
              "#0d0887"
             ],
             [
              0.1111111111111111,
              "#46039f"
             ],
             [
              0.2222222222222222,
              "#7201a8"
             ],
             [
              0.3333333333333333,
              "#9c179e"
             ],
             [
              0.4444444444444444,
              "#bd3786"
             ],
             [
              0.5555555555555556,
              "#d8576b"
             ],
             [
              0.6666666666666666,
              "#ed7953"
             ],
             [
              0.7777777777777778,
              "#fb9f3a"
             ],
             [
              0.8888888888888888,
              "#fdca26"
             ],
             [
              1,
              "#f0f921"
             ]
            ],
            "type": "histogram2d"
           }
          ],
          "histogram2dcontour": [
           {
            "colorbar": {
             "outlinewidth": 0,
             "ticks": ""
            },
            "colorscale": [
             [
              0,
              "#0d0887"
             ],
             [
              0.1111111111111111,
              "#46039f"
             ],
             [
              0.2222222222222222,
              "#7201a8"
             ],
             [
              0.3333333333333333,
              "#9c179e"
             ],
             [
              0.4444444444444444,
              "#bd3786"
             ],
             [
              0.5555555555555556,
              "#d8576b"
             ],
             [
              0.6666666666666666,
              "#ed7953"
             ],
             [
              0.7777777777777778,
              "#fb9f3a"
             ],
             [
              0.8888888888888888,
              "#fdca26"
             ],
             [
              1,
              "#f0f921"
             ]
            ],
            "type": "histogram2dcontour"
           }
          ],
          "mesh3d": [
           {
            "colorbar": {
             "outlinewidth": 0,
             "ticks": ""
            },
            "type": "mesh3d"
           }
          ],
          "parcoords": [
           {
            "line": {
             "colorbar": {
              "outlinewidth": 0,
              "ticks": ""
             }
            },
            "type": "parcoords"
           }
          ],
          "pie": [
           {
            "automargin": true,
            "type": "pie"
           }
          ],
          "scatter": [
           {
            "fillpattern": {
             "fillmode": "overlay",
             "size": 10,
             "solidity": 0.2
            },
            "type": "scatter"
           }
          ],
          "scatter3d": [
           {
            "line": {
             "colorbar": {
              "outlinewidth": 0,
              "ticks": ""
             }
            },
            "marker": {
             "colorbar": {
              "outlinewidth": 0,
              "ticks": ""
             }
            },
            "type": "scatter3d"
           }
          ],
          "scattercarpet": [
           {
            "marker": {
             "colorbar": {
              "outlinewidth": 0,
              "ticks": ""
             }
            },
            "type": "scattercarpet"
           }
          ],
          "scattergeo": [
           {
            "marker": {
             "colorbar": {
              "outlinewidth": 0,
              "ticks": ""
             }
            },
            "type": "scattergeo"
           }
          ],
          "scattergl": [
           {
            "marker": {
             "colorbar": {
              "outlinewidth": 0,
              "ticks": ""
             }
            },
            "type": "scattergl"
           }
          ],
          "scattermapbox": [
           {
            "marker": {
             "colorbar": {
              "outlinewidth": 0,
              "ticks": ""
             }
            },
            "type": "scattermapbox"
           }
          ],
          "scatterpolar": [
           {
            "marker": {
             "colorbar": {
              "outlinewidth": 0,
              "ticks": ""
             }
            },
            "type": "scatterpolar"
           }
          ],
          "scatterpolargl": [
           {
            "marker": {
             "colorbar": {
              "outlinewidth": 0,
              "ticks": ""
             }
            },
            "type": "scatterpolargl"
           }
          ],
          "scatterternary": [
           {
            "marker": {
             "colorbar": {
              "outlinewidth": 0,
              "ticks": ""
             }
            },
            "type": "scatterternary"
           }
          ],
          "surface": [
           {
            "colorbar": {
             "outlinewidth": 0,
             "ticks": ""
            },
            "colorscale": [
             [
              0,
              "#0d0887"
             ],
             [
              0.1111111111111111,
              "#46039f"
             ],
             [
              0.2222222222222222,
              "#7201a8"
             ],
             [
              0.3333333333333333,
              "#9c179e"
             ],
             [
              0.4444444444444444,
              "#bd3786"
             ],
             [
              0.5555555555555556,
              "#d8576b"
             ],
             [
              0.6666666666666666,
              "#ed7953"
             ],
             [
              0.7777777777777778,
              "#fb9f3a"
             ],
             [
              0.8888888888888888,
              "#fdca26"
             ],
             [
              1,
              "#f0f921"
             ]
            ],
            "type": "surface"
           }
          ],
          "table": [
           {
            "cells": {
             "fill": {
              "color": "#EBF0F8"
             },
             "line": {
              "color": "white"
             }
            },
            "header": {
             "fill": {
              "color": "#C8D4E3"
             },
             "line": {
              "color": "white"
             }
            },
            "type": "table"
           }
          ]
         },
         "layout": {
          "annotationdefaults": {
           "arrowcolor": "#2a3f5f",
           "arrowhead": 0,
           "arrowwidth": 1
          },
          "autotypenumbers": "strict",
          "coloraxis": {
           "colorbar": {
            "outlinewidth": 0,
            "ticks": ""
           }
          },
          "colorscale": {
           "diverging": [
            [
             0,
             "#8e0152"
            ],
            [
             0.1,
             "#c51b7d"
            ],
            [
             0.2,
             "#de77ae"
            ],
            [
             0.3,
             "#f1b6da"
            ],
            [
             0.4,
             "#fde0ef"
            ],
            [
             0.5,
             "#f7f7f7"
            ],
            [
             0.6,
             "#e6f5d0"
            ],
            [
             0.7,
             "#b8e186"
            ],
            [
             0.8,
             "#7fbc41"
            ],
            [
             0.9,
             "#4d9221"
            ],
            [
             1,
             "#276419"
            ]
           ],
           "sequential": [
            [
             0,
             "#0d0887"
            ],
            [
             0.1111111111111111,
             "#46039f"
            ],
            [
             0.2222222222222222,
             "#7201a8"
            ],
            [
             0.3333333333333333,
             "#9c179e"
            ],
            [
             0.4444444444444444,
             "#bd3786"
            ],
            [
             0.5555555555555556,
             "#d8576b"
            ],
            [
             0.6666666666666666,
             "#ed7953"
            ],
            [
             0.7777777777777778,
             "#fb9f3a"
            ],
            [
             0.8888888888888888,
             "#fdca26"
            ],
            [
             1,
             "#f0f921"
            ]
           ],
           "sequentialminus": [
            [
             0,
             "#0d0887"
            ],
            [
             0.1111111111111111,
             "#46039f"
            ],
            [
             0.2222222222222222,
             "#7201a8"
            ],
            [
             0.3333333333333333,
             "#9c179e"
            ],
            [
             0.4444444444444444,
             "#bd3786"
            ],
            [
             0.5555555555555556,
             "#d8576b"
            ],
            [
             0.6666666666666666,
             "#ed7953"
            ],
            [
             0.7777777777777778,
             "#fb9f3a"
            ],
            [
             0.8888888888888888,
             "#fdca26"
            ],
            [
             1,
             "#f0f921"
            ]
           ]
          },
          "colorway": [
           "#636efa",
           "#EF553B",
           "#00cc96",
           "#ab63fa",
           "#FFA15A",
           "#19d3f3",
           "#FF6692",
           "#B6E880",
           "#FF97FF",
           "#FECB52"
          ],
          "font": {
           "color": "#2a3f5f"
          },
          "geo": {
           "bgcolor": "white",
           "lakecolor": "white",
           "landcolor": "#E5ECF6",
           "showlakes": true,
           "showland": true,
           "subunitcolor": "white"
          },
          "hoverlabel": {
           "align": "left"
          },
          "hovermode": "closest",
          "mapbox": {
           "style": "light"
          },
          "paper_bgcolor": "white",
          "plot_bgcolor": "#E5ECF6",
          "polar": {
           "angularaxis": {
            "gridcolor": "white",
            "linecolor": "white",
            "ticks": ""
           },
           "bgcolor": "#E5ECF6",
           "radialaxis": {
            "gridcolor": "white",
            "linecolor": "white",
            "ticks": ""
           }
          },
          "scene": {
           "xaxis": {
            "backgroundcolor": "#E5ECF6",
            "gridcolor": "white",
            "gridwidth": 2,
            "linecolor": "white",
            "showbackground": true,
            "ticks": "",
            "zerolinecolor": "white"
           },
           "yaxis": {
            "backgroundcolor": "#E5ECF6",
            "gridcolor": "white",
            "gridwidth": 2,
            "linecolor": "white",
            "showbackground": true,
            "ticks": "",
            "zerolinecolor": "white"
           },
           "zaxis": {
            "backgroundcolor": "#E5ECF6",
            "gridcolor": "white",
            "gridwidth": 2,
            "linecolor": "white",
            "showbackground": true,
            "ticks": "",
            "zerolinecolor": "white"
           }
          },
          "shapedefaults": {
           "line": {
            "color": "#2a3f5f"
           }
          },
          "ternary": {
           "aaxis": {
            "gridcolor": "white",
            "linecolor": "white",
            "ticks": ""
           },
           "baxis": {
            "gridcolor": "white",
            "linecolor": "white",
            "ticks": ""
           },
           "bgcolor": "#E5ECF6",
           "caxis": {
            "gridcolor": "white",
            "linecolor": "white",
            "ticks": ""
           }
          },
          "title": {
           "x": 0.05
          },
          "xaxis": {
           "automargin": true,
           "gridcolor": "white",
           "linecolor": "white",
           "ticks": "",
           "title": {
            "standoff": 15
           },
           "zerolinecolor": "white",
           "zerolinewidth": 2
          },
          "yaxis": {
           "automargin": true,
           "gridcolor": "white",
           "linecolor": "white",
           "ticks": "",
           "title": {
            "standoff": 15
           },
           "zerolinecolor": "white",
           "zerolinewidth": 2
          }
         }
        },
        "title": {
         "text": "Custom Non-Missing Values Ratio for Strandskolen (Top 8 IDs)"
        },
        "xaxis": {
         "anchor": "y",
         "categoryorder": "total descending",
         "domain": [
          0,
          1
         ],
         "title": {
          "text": "ID"
         }
        },
        "yaxis": {
         "anchor": "x",
         "domain": [
          0,
          1
         ],
         "title": {
          "text": "Integritet (%)"
         }
        }
       }
      },
      "text/html": [
       "<div>                            <div id=\"1be497ac-c1e1-4620-9091-342af01f9060\" class=\"plotly-graph-div\" style=\"height:525px; width:100%;\"></div>            <script type=\"text/javascript\">                require([\"plotly\"], function(Plotly) {                    window.PLOTLYENV=window.PLOTLYENV || {};                                    if (document.getElementById(\"1be497ac-c1e1-4620-9091-342af01f9060\")) {                    Plotly.newPlot(                        \"1be497ac-c1e1-4620-9091-342af01f9060\",                        [{\"alignmentgroup\":\"True\",\"hovertemplate\":\"Sensordata=CO2\\u003cbr\\u003eID=%{x}\\u003cbr\\u003eCustomNonMissingRatio=%{y}\\u003cextra\\u003e\\u003c\\u002fextra\\u003e\",\"legendgroup\":\"CO2\",\"marker\":{\"color\":\"#636efa\",\"pattern\":{\"shape\":\"\"}},\"name\":\"CO2\",\"offsetgroup\":\"CO2\",\"orientation\":\"v\",\"showlegend\":true,\"textposition\":\"auto\",\"x\":[\"02.S.08\",\"02.S.09\",\"02.S.10\",\"02.S.11\",\"02.S.13\",\"02.S.14\",\"03.S.03\",\"03.S.04\"],\"xaxis\":\"x\",\"y\":[1.0,1.0,1.0,1.0,1.0,1.0,1.0,1.0],\"yaxis\":\"y\",\"type\":\"bar\"},{\"alignmentgroup\":\"True\",\"hovertemplate\":\"Sensordata=TEMP\\u003cbr\\u003eID=%{x}\\u003cbr\\u003eCustomNonMissingRatio=%{y}\\u003cextra\\u003e\\u003c\\u002fextra\\u003e\",\"legendgroup\":\"TEMP\",\"marker\":{\"color\":\"#EF553B\",\"pattern\":{\"shape\":\"\"}},\"name\":\"TEMP\",\"offsetgroup\":\"TEMP\",\"orientation\":\"v\",\"showlegend\":true,\"textposition\":\"auto\",\"x\":[\"02.S.08\",\"02.S.09\",\"02.S.10\",\"02.S.11\",\"02.S.13\",\"02.S.14\",\"03.S.03\",\"03.S.04\"],\"xaxis\":\"x\",\"y\":[1.0,1.0,1.0,1.0,1.0,1.0,1.0,1.0],\"yaxis\":\"y\",\"type\":\"bar\"},{\"alignmentgroup\":\"True\",\"hovertemplate\":\"Sensordata=MOTION\\u003cbr\\u003eID=%{x}\\u003cbr\\u003eCustomNonMissingRatio=%{y}\\u003cextra\\u003e\\u003c\\u002fextra\\u003e\",\"legendgroup\":\"MOTION\",\"marker\":{\"color\":\"#00cc96\",\"pattern\":{\"shape\":\"\"}},\"name\":\"MOTION\",\"offsetgroup\":\"MOTION\",\"orientation\":\"v\",\"showlegend\":true,\"textposition\":\"auto\",\"x\":[\"02.S.08\",\"02.S.09\",\"02.S.10\",\"02.S.11\",\"02.S.13\",\"02.S.14\",\"03.S.03\",\"03.S.04\"],\"xaxis\":\"x\",\"y\":[0.0,0.0,0.0,0.0,0.0,0.0,0.0,0.0],\"yaxis\":\"y\",\"type\":\"bar\"},{\"alignmentgroup\":\"True\",\"hovertemplate\":\"Sensordata=IAQ\\u003cbr\\u003eID=%{x}\\u003cbr\\u003eCustomNonMissingRatio=%{y}\\u003cextra\\u003e\\u003c\\u002fextra\\u003e\",\"legendgroup\":\"IAQ\",\"marker\":{\"color\":\"#ab63fa\",\"pattern\":{\"shape\":\"\"}},\"name\":\"IAQ\",\"offsetgroup\":\"IAQ\",\"orientation\":\"v\",\"showlegend\":true,\"textposition\":\"auto\",\"x\":[\"02.S.08\",\"02.S.09\",\"02.S.10\",\"02.S.11\",\"02.S.13\",\"02.S.14\",\"03.S.03\",\"03.S.04\"],\"xaxis\":\"x\",\"y\":[0.9996562523871362,0.9993650793650793,0.9911335796227883,0.9993887530562348,0.9996542334788434,0.9995469133471776,0.9996085646064117,0.9991228070175439],\"yaxis\":\"y\",\"type\":\"bar\"}],                        {\"template\":{\"data\":{\"histogram2dcontour\":[{\"type\":\"histogram2dcontour\",\"colorbar\":{\"outlinewidth\":0,\"ticks\":\"\"},\"colorscale\":[[0.0,\"#0d0887\"],[0.1111111111111111,\"#46039f\"],[0.2222222222222222,\"#7201a8\"],[0.3333333333333333,\"#9c179e\"],[0.4444444444444444,\"#bd3786\"],[0.5555555555555556,\"#d8576b\"],[0.6666666666666666,\"#ed7953\"],[0.7777777777777778,\"#fb9f3a\"],[0.8888888888888888,\"#fdca26\"],[1.0,\"#f0f921\"]]}],\"choropleth\":[{\"type\":\"choropleth\",\"colorbar\":{\"outlinewidth\":0,\"ticks\":\"\"}}],\"histogram2d\":[{\"type\":\"histogram2d\",\"colorbar\":{\"outlinewidth\":0,\"ticks\":\"\"},\"colorscale\":[[0.0,\"#0d0887\"],[0.1111111111111111,\"#46039f\"],[0.2222222222222222,\"#7201a8\"],[0.3333333333333333,\"#9c179e\"],[0.4444444444444444,\"#bd3786\"],[0.5555555555555556,\"#d8576b\"],[0.6666666666666666,\"#ed7953\"],[0.7777777777777778,\"#fb9f3a\"],[0.8888888888888888,\"#fdca26\"],[1.0,\"#f0f921\"]]}],\"heatmap\":[{\"type\":\"heatmap\",\"colorbar\":{\"outlinewidth\":0,\"ticks\":\"\"},\"colorscale\":[[0.0,\"#0d0887\"],[0.1111111111111111,\"#46039f\"],[0.2222222222222222,\"#7201a8\"],[0.3333333333333333,\"#9c179e\"],[0.4444444444444444,\"#bd3786\"],[0.5555555555555556,\"#d8576b\"],[0.6666666666666666,\"#ed7953\"],[0.7777777777777778,\"#fb9f3a\"],[0.8888888888888888,\"#fdca26\"],[1.0,\"#f0f921\"]]}],\"heatmapgl\":[{\"type\":\"heatmapgl\",\"colorbar\":{\"outlinewidth\":0,\"ticks\":\"\"},\"colorscale\":[[0.0,\"#0d0887\"],[0.1111111111111111,\"#46039f\"],[0.2222222222222222,\"#7201a8\"],[0.3333333333333333,\"#9c179e\"],[0.4444444444444444,\"#bd3786\"],[0.5555555555555556,\"#d8576b\"],[0.6666666666666666,\"#ed7953\"],[0.7777777777777778,\"#fb9f3a\"],[0.8888888888888888,\"#fdca26\"],[1.0,\"#f0f921\"]]}],\"contourcarpet\":[{\"type\":\"contourcarpet\",\"colorbar\":{\"outlinewidth\":0,\"ticks\":\"\"}}],\"contour\":[{\"type\":\"contour\",\"colorbar\":{\"outlinewidth\":0,\"ticks\":\"\"},\"colorscale\":[[0.0,\"#0d0887\"],[0.1111111111111111,\"#46039f\"],[0.2222222222222222,\"#7201a8\"],[0.3333333333333333,\"#9c179e\"],[0.4444444444444444,\"#bd3786\"],[0.5555555555555556,\"#d8576b\"],[0.6666666666666666,\"#ed7953\"],[0.7777777777777778,\"#fb9f3a\"],[0.8888888888888888,\"#fdca26\"],[1.0,\"#f0f921\"]]}],\"surface\":[{\"type\":\"surface\",\"colorbar\":{\"outlinewidth\":0,\"ticks\":\"\"},\"colorscale\":[[0.0,\"#0d0887\"],[0.1111111111111111,\"#46039f\"],[0.2222222222222222,\"#7201a8\"],[0.3333333333333333,\"#9c179e\"],[0.4444444444444444,\"#bd3786\"],[0.5555555555555556,\"#d8576b\"],[0.6666666666666666,\"#ed7953\"],[0.7777777777777778,\"#fb9f3a\"],[0.8888888888888888,\"#fdca26\"],[1.0,\"#f0f921\"]]}],\"mesh3d\":[{\"type\":\"mesh3d\",\"colorbar\":{\"outlinewidth\":0,\"ticks\":\"\"}}],\"scatter\":[{\"fillpattern\":{\"fillmode\":\"overlay\",\"size\":10,\"solidity\":0.2},\"type\":\"scatter\"}],\"parcoords\":[{\"type\":\"parcoords\",\"line\":{\"colorbar\":{\"outlinewidth\":0,\"ticks\":\"\"}}}],\"scatterpolargl\":[{\"type\":\"scatterpolargl\",\"marker\":{\"colorbar\":{\"outlinewidth\":0,\"ticks\":\"\"}}}],\"bar\":[{\"error_x\":{\"color\":\"#2a3f5f\"},\"error_y\":{\"color\":\"#2a3f5f\"},\"marker\":{\"line\":{\"color\":\"#E5ECF6\",\"width\":0.5},\"pattern\":{\"fillmode\":\"overlay\",\"size\":10,\"solidity\":0.2}},\"type\":\"bar\"}],\"scattergeo\":[{\"type\":\"scattergeo\",\"marker\":{\"colorbar\":{\"outlinewidth\":0,\"ticks\":\"\"}}}],\"scatterpolar\":[{\"type\":\"scatterpolar\",\"marker\":{\"colorbar\":{\"outlinewidth\":0,\"ticks\":\"\"}}}],\"histogram\":[{\"marker\":{\"pattern\":{\"fillmode\":\"overlay\",\"size\":10,\"solidity\":0.2}},\"type\":\"histogram\"}],\"scattergl\":[{\"type\":\"scattergl\",\"marker\":{\"colorbar\":{\"outlinewidth\":0,\"ticks\":\"\"}}}],\"scatter3d\":[{\"type\":\"scatter3d\",\"line\":{\"colorbar\":{\"outlinewidth\":0,\"ticks\":\"\"}},\"marker\":{\"colorbar\":{\"outlinewidth\":0,\"ticks\":\"\"}}}],\"scattermapbox\":[{\"type\":\"scattermapbox\",\"marker\":{\"colorbar\":{\"outlinewidth\":0,\"ticks\":\"\"}}}],\"scatterternary\":[{\"type\":\"scatterternary\",\"marker\":{\"colorbar\":{\"outlinewidth\":0,\"ticks\":\"\"}}}],\"scattercarpet\":[{\"type\":\"scattercarpet\",\"marker\":{\"colorbar\":{\"outlinewidth\":0,\"ticks\":\"\"}}}],\"carpet\":[{\"aaxis\":{\"endlinecolor\":\"#2a3f5f\",\"gridcolor\":\"white\",\"linecolor\":\"white\",\"minorgridcolor\":\"white\",\"startlinecolor\":\"#2a3f5f\"},\"baxis\":{\"endlinecolor\":\"#2a3f5f\",\"gridcolor\":\"white\",\"linecolor\":\"white\",\"minorgridcolor\":\"white\",\"startlinecolor\":\"#2a3f5f\"},\"type\":\"carpet\"}],\"table\":[{\"cells\":{\"fill\":{\"color\":\"#EBF0F8\"},\"line\":{\"color\":\"white\"}},\"header\":{\"fill\":{\"color\":\"#C8D4E3\"},\"line\":{\"color\":\"white\"}},\"type\":\"table\"}],\"barpolar\":[{\"marker\":{\"line\":{\"color\":\"#E5ECF6\",\"width\":0.5},\"pattern\":{\"fillmode\":\"overlay\",\"size\":10,\"solidity\":0.2}},\"type\":\"barpolar\"}],\"pie\":[{\"automargin\":true,\"type\":\"pie\"}]},\"layout\":{\"autotypenumbers\":\"strict\",\"colorway\":[\"#636efa\",\"#EF553B\",\"#00cc96\",\"#ab63fa\",\"#FFA15A\",\"#19d3f3\",\"#FF6692\",\"#B6E880\",\"#FF97FF\",\"#FECB52\"],\"font\":{\"color\":\"#2a3f5f\"},\"hovermode\":\"closest\",\"hoverlabel\":{\"align\":\"left\"},\"paper_bgcolor\":\"white\",\"plot_bgcolor\":\"#E5ECF6\",\"polar\":{\"bgcolor\":\"#E5ECF6\",\"angularaxis\":{\"gridcolor\":\"white\",\"linecolor\":\"white\",\"ticks\":\"\"},\"radialaxis\":{\"gridcolor\":\"white\",\"linecolor\":\"white\",\"ticks\":\"\"}},\"ternary\":{\"bgcolor\":\"#E5ECF6\",\"aaxis\":{\"gridcolor\":\"white\",\"linecolor\":\"white\",\"ticks\":\"\"},\"baxis\":{\"gridcolor\":\"white\",\"linecolor\":\"white\",\"ticks\":\"\"},\"caxis\":{\"gridcolor\":\"white\",\"linecolor\":\"white\",\"ticks\":\"\"}},\"coloraxis\":{\"colorbar\":{\"outlinewidth\":0,\"ticks\":\"\"}},\"colorscale\":{\"sequential\":[[0.0,\"#0d0887\"],[0.1111111111111111,\"#46039f\"],[0.2222222222222222,\"#7201a8\"],[0.3333333333333333,\"#9c179e\"],[0.4444444444444444,\"#bd3786\"],[0.5555555555555556,\"#d8576b\"],[0.6666666666666666,\"#ed7953\"],[0.7777777777777778,\"#fb9f3a\"],[0.8888888888888888,\"#fdca26\"],[1.0,\"#f0f921\"]],\"sequentialminus\":[[0.0,\"#0d0887\"],[0.1111111111111111,\"#46039f\"],[0.2222222222222222,\"#7201a8\"],[0.3333333333333333,\"#9c179e\"],[0.4444444444444444,\"#bd3786\"],[0.5555555555555556,\"#d8576b\"],[0.6666666666666666,\"#ed7953\"],[0.7777777777777778,\"#fb9f3a\"],[0.8888888888888888,\"#fdca26\"],[1.0,\"#f0f921\"]],\"diverging\":[[0,\"#8e0152\"],[0.1,\"#c51b7d\"],[0.2,\"#de77ae\"],[0.3,\"#f1b6da\"],[0.4,\"#fde0ef\"],[0.5,\"#f7f7f7\"],[0.6,\"#e6f5d0\"],[0.7,\"#b8e186\"],[0.8,\"#7fbc41\"],[0.9,\"#4d9221\"],[1,\"#276419\"]]},\"xaxis\":{\"gridcolor\":\"white\",\"linecolor\":\"white\",\"ticks\":\"\",\"title\":{\"standoff\":15},\"zerolinecolor\":\"white\",\"automargin\":true,\"zerolinewidth\":2},\"yaxis\":{\"gridcolor\":\"white\",\"linecolor\":\"white\",\"ticks\":\"\",\"title\":{\"standoff\":15},\"zerolinecolor\":\"white\",\"automargin\":true,\"zerolinewidth\":2},\"scene\":{\"xaxis\":{\"backgroundcolor\":\"#E5ECF6\",\"gridcolor\":\"white\",\"linecolor\":\"white\",\"showbackground\":true,\"ticks\":\"\",\"zerolinecolor\":\"white\",\"gridwidth\":2},\"yaxis\":{\"backgroundcolor\":\"#E5ECF6\",\"gridcolor\":\"white\",\"linecolor\":\"white\",\"showbackground\":true,\"ticks\":\"\",\"zerolinecolor\":\"white\",\"gridwidth\":2},\"zaxis\":{\"backgroundcolor\":\"#E5ECF6\",\"gridcolor\":\"white\",\"linecolor\":\"white\",\"showbackground\":true,\"ticks\":\"\",\"zerolinecolor\":\"white\",\"gridwidth\":2}},\"shapedefaults\":{\"line\":{\"color\":\"#2a3f5f\"}},\"annotationdefaults\":{\"arrowcolor\":\"#2a3f5f\",\"arrowhead\":0,\"arrowwidth\":1},\"geo\":{\"bgcolor\":\"white\",\"landcolor\":\"#E5ECF6\",\"subunitcolor\":\"white\",\"showland\":true,\"showlakes\":true,\"lakecolor\":\"white\"},\"title\":{\"x\":0.05},\"mapbox\":{\"style\":\"light\"}}},\"xaxis\":{\"anchor\":\"y\",\"domain\":[0.0,1.0],\"title\":{\"text\":\"ID\"},\"categoryorder\":\"total descending\"},\"yaxis\":{\"anchor\":\"x\",\"domain\":[0.0,1.0],\"title\":{\"text\":\"Integritet (%)\"}},\"legend\":{\"title\":{\"text\":\"Sensordata\"},\"tracegroupgap\":0},\"title\":{\"text\":\"Custom Non-Missing Values Ratio for Strandskolen (Top 8 IDs)\"},\"barmode\":\"group\"},                        {\"responsive\": true}                    ).then(function(){\n",
       "                            \n",
       "var gd = document.getElementById('1be497ac-c1e1-4620-9091-342af01f9060');\n",
       "var x = new MutationObserver(function (mutations, observer) {{\n",
       "        var display = window.getComputedStyle(gd).display;\n",
       "        if (!display || display === 'none') {{\n",
       "            console.log([gd, 'removed!']);\n",
       "            Plotly.purge(gd);\n",
       "            observer.disconnect();\n",
       "        }}\n",
       "}});\n",
       "\n",
       "// Listen for the removal of the full notebook cells\n",
       "var notebookContainer = gd.closest('#notebook-container');\n",
       "if (notebookContainer) {{\n",
       "    x.observe(notebookContainer, {childList: true});\n",
       "}}\n",
       "\n",
       "// Listen for the clearing of the current output cell\n",
       "var outputEl = gd.closest('.output');\n",
       "if (outputEl) {{\n",
       "    x.observe(outputEl, {childList: true});\n",
       "}}\n",
       "\n",
       "                        })                };                });            </script>        </div>"
      ]
     },
     "metadata": {},
     "output_type": "display_data"
    },
    {
     "data": {
      "application/vnd.plotly.v1+json": {
       "config": {
        "plotlyServerURL": "https://plot.ly"
       },
       "data": [
        {
         "alignmentgroup": "True",
         "hovertemplate": "Sensordata=CO2<br>ID=%{x}<br>CustomNonMissingRatio=%{y}<extra></extra>",
         "legendgroup": "CO2",
         "marker": {
          "color": "#636efa",
          "pattern": {
           "shape": ""
          }
         },
         "name": "CO2",
         "offsetgroup": "CO2",
         "orientation": "v",
         "showlegend": true,
         "textposition": "auto",
         "type": "bar",
         "x": [
          "1.0.001",
          "12.0.001",
          "12.0.004",
          "12.1.002",
          "12.1.003",
          "13.0.002",
          "13.0.004",
          "13.0.007"
         ],
         "xaxis": "x",
         "y": [
          1,
          1,
          1,
          1,
          1,
          1,
          1,
          1
         ],
         "yaxis": "y"
        },
        {
         "alignmentgroup": "True",
         "hovertemplate": "Sensordata=TEMP<br>ID=%{x}<br>CustomNonMissingRatio=%{y}<extra></extra>",
         "legendgroup": "TEMP",
         "marker": {
          "color": "#EF553B",
          "pattern": {
           "shape": ""
          }
         },
         "name": "TEMP",
         "offsetgroup": "TEMP",
         "orientation": "v",
         "showlegend": true,
         "textposition": "auto",
         "type": "bar",
         "x": [
          "1.0.001",
          "12.0.001",
          "12.0.004",
          "12.1.002",
          "12.1.003",
          "13.0.002",
          "13.0.004",
          "13.0.007"
         ],
         "xaxis": "x",
         "y": [
          1,
          1,
          1,
          1,
          1,
          1,
          1,
          1
         ],
         "yaxis": "y"
        },
        {
         "alignmentgroup": "True",
         "hovertemplate": "Sensordata=MOTION<br>ID=%{x}<br>CustomNonMissingRatio=%{y}<extra></extra>",
         "legendgroup": "MOTION",
         "marker": {
          "color": "#00cc96",
          "pattern": {
           "shape": ""
          }
         },
         "name": "MOTION",
         "offsetgroup": "MOTION",
         "orientation": "v",
         "showlegend": true,
         "textposition": "auto",
         "type": "bar",
         "x": [
          "1.0.001",
          "12.0.001",
          "12.0.004",
          "12.1.002",
          "12.1.003",
          "13.0.002",
          "13.0.004",
          "13.0.007"
         ],
         "xaxis": "x",
         "y": [
          0.1646482197038458,
          0.37885428282461553,
          0.006457301418531625,
          0.01530043308005502,
          0.058400975078447104,
          0.3575114753248101,
          0.07608723840149378,
          0.028759627603018645
         ],
         "yaxis": "y"
        },
        {
         "alignmentgroup": "True",
         "hovertemplate": "Sensordata=IAQ<br>ID=%{x}<br>CustomNonMissingRatio=%{y}<extra></extra>",
         "legendgroup": "IAQ",
         "marker": {
          "color": "#ab63fa",
          "pattern": {
           "shape": ""
          }
         },
         "name": "IAQ",
         "offsetgroup": "IAQ",
         "orientation": "v",
         "showlegend": true,
         "textposition": "auto",
         "type": "bar",
         "x": [
          "1.0.001",
          "12.0.001",
          "12.0.004",
          "12.1.002",
          "12.1.003",
          "13.0.002",
          "13.0.004",
          "13.0.007"
         ],
         "xaxis": "x",
         "y": [
          0,
          0,
          0,
          0,
          0,
          0,
          0,
          0
         ],
         "yaxis": "y"
        }
       ],
       "layout": {
        "barmode": "group",
        "legend": {
         "title": {
          "text": "Sensordata"
         },
         "tracegroupgap": 0
        },
        "template": {
         "data": {
          "bar": [
           {
            "error_x": {
             "color": "#2a3f5f"
            },
            "error_y": {
             "color": "#2a3f5f"
            },
            "marker": {
             "line": {
              "color": "#E5ECF6",
              "width": 0.5
             },
             "pattern": {
              "fillmode": "overlay",
              "size": 10,
              "solidity": 0.2
             }
            },
            "type": "bar"
           }
          ],
          "barpolar": [
           {
            "marker": {
             "line": {
              "color": "#E5ECF6",
              "width": 0.5
             },
             "pattern": {
              "fillmode": "overlay",
              "size": 10,
              "solidity": 0.2
             }
            },
            "type": "barpolar"
           }
          ],
          "carpet": [
           {
            "aaxis": {
             "endlinecolor": "#2a3f5f",
             "gridcolor": "white",
             "linecolor": "white",
             "minorgridcolor": "white",
             "startlinecolor": "#2a3f5f"
            },
            "baxis": {
             "endlinecolor": "#2a3f5f",
             "gridcolor": "white",
             "linecolor": "white",
             "minorgridcolor": "white",
             "startlinecolor": "#2a3f5f"
            },
            "type": "carpet"
           }
          ],
          "choropleth": [
           {
            "colorbar": {
             "outlinewidth": 0,
             "ticks": ""
            },
            "type": "choropleth"
           }
          ],
          "contour": [
           {
            "colorbar": {
             "outlinewidth": 0,
             "ticks": ""
            },
            "colorscale": [
             [
              0,
              "#0d0887"
             ],
             [
              0.1111111111111111,
              "#46039f"
             ],
             [
              0.2222222222222222,
              "#7201a8"
             ],
             [
              0.3333333333333333,
              "#9c179e"
             ],
             [
              0.4444444444444444,
              "#bd3786"
             ],
             [
              0.5555555555555556,
              "#d8576b"
             ],
             [
              0.6666666666666666,
              "#ed7953"
             ],
             [
              0.7777777777777778,
              "#fb9f3a"
             ],
             [
              0.8888888888888888,
              "#fdca26"
             ],
             [
              1,
              "#f0f921"
             ]
            ],
            "type": "contour"
           }
          ],
          "contourcarpet": [
           {
            "colorbar": {
             "outlinewidth": 0,
             "ticks": ""
            },
            "type": "contourcarpet"
           }
          ],
          "heatmap": [
           {
            "colorbar": {
             "outlinewidth": 0,
             "ticks": ""
            },
            "colorscale": [
             [
              0,
              "#0d0887"
             ],
             [
              0.1111111111111111,
              "#46039f"
             ],
             [
              0.2222222222222222,
              "#7201a8"
             ],
             [
              0.3333333333333333,
              "#9c179e"
             ],
             [
              0.4444444444444444,
              "#bd3786"
             ],
             [
              0.5555555555555556,
              "#d8576b"
             ],
             [
              0.6666666666666666,
              "#ed7953"
             ],
             [
              0.7777777777777778,
              "#fb9f3a"
             ],
             [
              0.8888888888888888,
              "#fdca26"
             ],
             [
              1,
              "#f0f921"
             ]
            ],
            "type": "heatmap"
           }
          ],
          "heatmapgl": [
           {
            "colorbar": {
             "outlinewidth": 0,
             "ticks": ""
            },
            "colorscale": [
             [
              0,
              "#0d0887"
             ],
             [
              0.1111111111111111,
              "#46039f"
             ],
             [
              0.2222222222222222,
              "#7201a8"
             ],
             [
              0.3333333333333333,
              "#9c179e"
             ],
             [
              0.4444444444444444,
              "#bd3786"
             ],
             [
              0.5555555555555556,
              "#d8576b"
             ],
             [
              0.6666666666666666,
              "#ed7953"
             ],
             [
              0.7777777777777778,
              "#fb9f3a"
             ],
             [
              0.8888888888888888,
              "#fdca26"
             ],
             [
              1,
              "#f0f921"
             ]
            ],
            "type": "heatmapgl"
           }
          ],
          "histogram": [
           {
            "marker": {
             "pattern": {
              "fillmode": "overlay",
              "size": 10,
              "solidity": 0.2
             }
            },
            "type": "histogram"
           }
          ],
          "histogram2d": [
           {
            "colorbar": {
             "outlinewidth": 0,
             "ticks": ""
            },
            "colorscale": [
             [
              0,
              "#0d0887"
             ],
             [
              0.1111111111111111,
              "#46039f"
             ],
             [
              0.2222222222222222,
              "#7201a8"
             ],
             [
              0.3333333333333333,
              "#9c179e"
             ],
             [
              0.4444444444444444,
              "#bd3786"
             ],
             [
              0.5555555555555556,
              "#d8576b"
             ],
             [
              0.6666666666666666,
              "#ed7953"
             ],
             [
              0.7777777777777778,
              "#fb9f3a"
             ],
             [
              0.8888888888888888,
              "#fdca26"
             ],
             [
              1,
              "#f0f921"
             ]
            ],
            "type": "histogram2d"
           }
          ],
          "histogram2dcontour": [
           {
            "colorbar": {
             "outlinewidth": 0,
             "ticks": ""
            },
            "colorscale": [
             [
              0,
              "#0d0887"
             ],
             [
              0.1111111111111111,
              "#46039f"
             ],
             [
              0.2222222222222222,
              "#7201a8"
             ],
             [
              0.3333333333333333,
              "#9c179e"
             ],
             [
              0.4444444444444444,
              "#bd3786"
             ],
             [
              0.5555555555555556,
              "#d8576b"
             ],
             [
              0.6666666666666666,
              "#ed7953"
             ],
             [
              0.7777777777777778,
              "#fb9f3a"
             ],
             [
              0.8888888888888888,
              "#fdca26"
             ],
             [
              1,
              "#f0f921"
             ]
            ],
            "type": "histogram2dcontour"
           }
          ],
          "mesh3d": [
           {
            "colorbar": {
             "outlinewidth": 0,
             "ticks": ""
            },
            "type": "mesh3d"
           }
          ],
          "parcoords": [
           {
            "line": {
             "colorbar": {
              "outlinewidth": 0,
              "ticks": ""
             }
            },
            "type": "parcoords"
           }
          ],
          "pie": [
           {
            "automargin": true,
            "type": "pie"
           }
          ],
          "scatter": [
           {
            "fillpattern": {
             "fillmode": "overlay",
             "size": 10,
             "solidity": 0.2
            },
            "type": "scatter"
           }
          ],
          "scatter3d": [
           {
            "line": {
             "colorbar": {
              "outlinewidth": 0,
              "ticks": ""
             }
            },
            "marker": {
             "colorbar": {
              "outlinewidth": 0,
              "ticks": ""
             }
            },
            "type": "scatter3d"
           }
          ],
          "scattercarpet": [
           {
            "marker": {
             "colorbar": {
              "outlinewidth": 0,
              "ticks": ""
             }
            },
            "type": "scattercarpet"
           }
          ],
          "scattergeo": [
           {
            "marker": {
             "colorbar": {
              "outlinewidth": 0,
              "ticks": ""
             }
            },
            "type": "scattergeo"
           }
          ],
          "scattergl": [
           {
            "marker": {
             "colorbar": {
              "outlinewidth": 0,
              "ticks": ""
             }
            },
            "type": "scattergl"
           }
          ],
          "scattermapbox": [
           {
            "marker": {
             "colorbar": {
              "outlinewidth": 0,
              "ticks": ""
             }
            },
            "type": "scattermapbox"
           }
          ],
          "scatterpolar": [
           {
            "marker": {
             "colorbar": {
              "outlinewidth": 0,
              "ticks": ""
             }
            },
            "type": "scatterpolar"
           }
          ],
          "scatterpolargl": [
           {
            "marker": {
             "colorbar": {
              "outlinewidth": 0,
              "ticks": ""
             }
            },
            "type": "scatterpolargl"
           }
          ],
          "scatterternary": [
           {
            "marker": {
             "colorbar": {
              "outlinewidth": 0,
              "ticks": ""
             }
            },
            "type": "scatterternary"
           }
          ],
          "surface": [
           {
            "colorbar": {
             "outlinewidth": 0,
             "ticks": ""
            },
            "colorscale": [
             [
              0,
              "#0d0887"
             ],
             [
              0.1111111111111111,
              "#46039f"
             ],
             [
              0.2222222222222222,
              "#7201a8"
             ],
             [
              0.3333333333333333,
              "#9c179e"
             ],
             [
              0.4444444444444444,
              "#bd3786"
             ],
             [
              0.5555555555555556,
              "#d8576b"
             ],
             [
              0.6666666666666666,
              "#ed7953"
             ],
             [
              0.7777777777777778,
              "#fb9f3a"
             ],
             [
              0.8888888888888888,
              "#fdca26"
             ],
             [
              1,
              "#f0f921"
             ]
            ],
            "type": "surface"
           }
          ],
          "table": [
           {
            "cells": {
             "fill": {
              "color": "#EBF0F8"
             },
             "line": {
              "color": "white"
             }
            },
            "header": {
             "fill": {
              "color": "#C8D4E3"
             },
             "line": {
              "color": "white"
             }
            },
            "type": "table"
           }
          ]
         },
         "layout": {
          "annotationdefaults": {
           "arrowcolor": "#2a3f5f",
           "arrowhead": 0,
           "arrowwidth": 1
          },
          "autotypenumbers": "strict",
          "coloraxis": {
           "colorbar": {
            "outlinewidth": 0,
            "ticks": ""
           }
          },
          "colorscale": {
           "diverging": [
            [
             0,
             "#8e0152"
            ],
            [
             0.1,
             "#c51b7d"
            ],
            [
             0.2,
             "#de77ae"
            ],
            [
             0.3,
             "#f1b6da"
            ],
            [
             0.4,
             "#fde0ef"
            ],
            [
             0.5,
             "#f7f7f7"
            ],
            [
             0.6,
             "#e6f5d0"
            ],
            [
             0.7,
             "#b8e186"
            ],
            [
             0.8,
             "#7fbc41"
            ],
            [
             0.9,
             "#4d9221"
            ],
            [
             1,
             "#276419"
            ]
           ],
           "sequential": [
            [
             0,
             "#0d0887"
            ],
            [
             0.1111111111111111,
             "#46039f"
            ],
            [
             0.2222222222222222,
             "#7201a8"
            ],
            [
             0.3333333333333333,
             "#9c179e"
            ],
            [
             0.4444444444444444,
             "#bd3786"
            ],
            [
             0.5555555555555556,
             "#d8576b"
            ],
            [
             0.6666666666666666,
             "#ed7953"
            ],
            [
             0.7777777777777778,
             "#fb9f3a"
            ],
            [
             0.8888888888888888,
             "#fdca26"
            ],
            [
             1,
             "#f0f921"
            ]
           ],
           "sequentialminus": [
            [
             0,
             "#0d0887"
            ],
            [
             0.1111111111111111,
             "#46039f"
            ],
            [
             0.2222222222222222,
             "#7201a8"
            ],
            [
             0.3333333333333333,
             "#9c179e"
            ],
            [
             0.4444444444444444,
             "#bd3786"
            ],
            [
             0.5555555555555556,
             "#d8576b"
            ],
            [
             0.6666666666666666,
             "#ed7953"
            ],
            [
             0.7777777777777778,
             "#fb9f3a"
            ],
            [
             0.8888888888888888,
             "#fdca26"
            ],
            [
             1,
             "#f0f921"
            ]
           ]
          },
          "colorway": [
           "#636efa",
           "#EF553B",
           "#00cc96",
           "#ab63fa",
           "#FFA15A",
           "#19d3f3",
           "#FF6692",
           "#B6E880",
           "#FF97FF",
           "#FECB52"
          ],
          "font": {
           "color": "#2a3f5f"
          },
          "geo": {
           "bgcolor": "white",
           "lakecolor": "white",
           "landcolor": "#E5ECF6",
           "showlakes": true,
           "showland": true,
           "subunitcolor": "white"
          },
          "hoverlabel": {
           "align": "left"
          },
          "hovermode": "closest",
          "mapbox": {
           "style": "light"
          },
          "paper_bgcolor": "white",
          "plot_bgcolor": "#E5ECF6",
          "polar": {
           "angularaxis": {
            "gridcolor": "white",
            "linecolor": "white",
            "ticks": ""
           },
           "bgcolor": "#E5ECF6",
           "radialaxis": {
            "gridcolor": "white",
            "linecolor": "white",
            "ticks": ""
           }
          },
          "scene": {
           "xaxis": {
            "backgroundcolor": "#E5ECF6",
            "gridcolor": "white",
            "gridwidth": 2,
            "linecolor": "white",
            "showbackground": true,
            "ticks": "",
            "zerolinecolor": "white"
           },
           "yaxis": {
            "backgroundcolor": "#E5ECF6",
            "gridcolor": "white",
            "gridwidth": 2,
            "linecolor": "white",
            "showbackground": true,
            "ticks": "",
            "zerolinecolor": "white"
           },
           "zaxis": {
            "backgroundcolor": "#E5ECF6",
            "gridcolor": "white",
            "gridwidth": 2,
            "linecolor": "white",
            "showbackground": true,
            "ticks": "",
            "zerolinecolor": "white"
           }
          },
          "shapedefaults": {
           "line": {
            "color": "#2a3f5f"
           }
          },
          "ternary": {
           "aaxis": {
            "gridcolor": "white",
            "linecolor": "white",
            "ticks": ""
           },
           "baxis": {
            "gridcolor": "white",
            "linecolor": "white",
            "ticks": ""
           },
           "bgcolor": "#E5ECF6",
           "caxis": {
            "gridcolor": "white",
            "linecolor": "white",
            "ticks": ""
           }
          },
          "title": {
           "x": 0.05
          },
          "xaxis": {
           "automargin": true,
           "gridcolor": "white",
           "linecolor": "white",
           "ticks": "",
           "title": {
            "standoff": 15
           },
           "zerolinecolor": "white",
           "zerolinewidth": 2
          },
          "yaxis": {
           "automargin": true,
           "gridcolor": "white",
           "linecolor": "white",
           "ticks": "",
           "title": {
            "standoff": 15
           },
           "zerolinecolor": "white",
           "zerolinewidth": 2
          }
         }
        },
        "title": {
         "text": "Custom Non-Missing Values Ratio for Thorsager Skole (Top 8 IDs)"
        },
        "xaxis": {
         "anchor": "y",
         "categoryorder": "total descending",
         "domain": [
          0,
          1
         ],
         "title": {
          "text": "ID"
         }
        },
        "yaxis": {
         "anchor": "x",
         "domain": [
          0,
          1
         ],
         "title": {
          "text": "Integritet (%)"
         }
        }
       }
      },
      "text/html": [
       "<div>                            <div id=\"585ae4ca-daae-4f78-96b6-f3c82d1217e3\" class=\"plotly-graph-div\" style=\"height:525px; width:100%;\"></div>            <script type=\"text/javascript\">                require([\"plotly\"], function(Plotly) {                    window.PLOTLYENV=window.PLOTLYENV || {};                                    if (document.getElementById(\"585ae4ca-daae-4f78-96b6-f3c82d1217e3\")) {                    Plotly.newPlot(                        \"585ae4ca-daae-4f78-96b6-f3c82d1217e3\",                        [{\"alignmentgroup\":\"True\",\"hovertemplate\":\"Sensordata=CO2\\u003cbr\\u003eID=%{x}\\u003cbr\\u003eCustomNonMissingRatio=%{y}\\u003cextra\\u003e\\u003c\\u002fextra\\u003e\",\"legendgroup\":\"CO2\",\"marker\":{\"color\":\"#636efa\",\"pattern\":{\"shape\":\"\"}},\"name\":\"CO2\",\"offsetgroup\":\"CO2\",\"orientation\":\"v\",\"showlegend\":true,\"textposition\":\"auto\",\"x\":[\"1.0.001\",\"12.0.001\",\"12.0.004\",\"12.1.002\",\"12.1.003\",\"13.0.002\",\"13.0.004\",\"13.0.007\"],\"xaxis\":\"x\",\"y\":[1.0,1.0,1.0,1.0,1.0,1.0,1.0,1.0],\"yaxis\":\"y\",\"type\":\"bar\"},{\"alignmentgroup\":\"True\",\"hovertemplate\":\"Sensordata=TEMP\\u003cbr\\u003eID=%{x}\\u003cbr\\u003eCustomNonMissingRatio=%{y}\\u003cextra\\u003e\\u003c\\u002fextra\\u003e\",\"legendgroup\":\"TEMP\",\"marker\":{\"color\":\"#EF553B\",\"pattern\":{\"shape\":\"\"}},\"name\":\"TEMP\",\"offsetgroup\":\"TEMP\",\"orientation\":\"v\",\"showlegend\":true,\"textposition\":\"auto\",\"x\":[\"1.0.001\",\"12.0.001\",\"12.0.004\",\"12.1.002\",\"12.1.003\",\"13.0.002\",\"13.0.004\",\"13.0.007\"],\"xaxis\":\"x\",\"y\":[1.0,1.0,1.0,1.0,1.0,1.0,1.0,1.0],\"yaxis\":\"y\",\"type\":\"bar\"},{\"alignmentgroup\":\"True\",\"hovertemplate\":\"Sensordata=MOTION\\u003cbr\\u003eID=%{x}\\u003cbr\\u003eCustomNonMissingRatio=%{y}\\u003cextra\\u003e\\u003c\\u002fextra\\u003e\",\"legendgroup\":\"MOTION\",\"marker\":{\"color\":\"#00cc96\",\"pattern\":{\"shape\":\"\"}},\"name\":\"MOTION\",\"offsetgroup\":\"MOTION\",\"orientation\":\"v\",\"showlegend\":true,\"textposition\":\"auto\",\"x\":[\"1.0.001\",\"12.0.001\",\"12.0.004\",\"12.1.002\",\"12.1.003\",\"13.0.002\",\"13.0.004\",\"13.0.007\"],\"xaxis\":\"x\",\"y\":[0.1646482197038458,0.37885428282461553,0.006457301418531625,0.01530043308005502,0.058400975078447104,0.3575114753248101,0.07608723840149378,0.028759627603018645],\"yaxis\":\"y\",\"type\":\"bar\"},{\"alignmentgroup\":\"True\",\"hovertemplate\":\"Sensordata=IAQ\\u003cbr\\u003eID=%{x}\\u003cbr\\u003eCustomNonMissingRatio=%{y}\\u003cextra\\u003e\\u003c\\u002fextra\\u003e\",\"legendgroup\":\"IAQ\",\"marker\":{\"color\":\"#ab63fa\",\"pattern\":{\"shape\":\"\"}},\"name\":\"IAQ\",\"offsetgroup\":\"IAQ\",\"orientation\":\"v\",\"showlegend\":true,\"textposition\":\"auto\",\"x\":[\"1.0.001\",\"12.0.001\",\"12.0.004\",\"12.1.002\",\"12.1.003\",\"13.0.002\",\"13.0.004\",\"13.0.007\"],\"xaxis\":\"x\",\"y\":[0.0,0.0,0.0,0.0,0.0,0.0,0.0,0.0],\"yaxis\":\"y\",\"type\":\"bar\"}],                        {\"template\":{\"data\":{\"histogram2dcontour\":[{\"type\":\"histogram2dcontour\",\"colorbar\":{\"outlinewidth\":0,\"ticks\":\"\"},\"colorscale\":[[0.0,\"#0d0887\"],[0.1111111111111111,\"#46039f\"],[0.2222222222222222,\"#7201a8\"],[0.3333333333333333,\"#9c179e\"],[0.4444444444444444,\"#bd3786\"],[0.5555555555555556,\"#d8576b\"],[0.6666666666666666,\"#ed7953\"],[0.7777777777777778,\"#fb9f3a\"],[0.8888888888888888,\"#fdca26\"],[1.0,\"#f0f921\"]]}],\"choropleth\":[{\"type\":\"choropleth\",\"colorbar\":{\"outlinewidth\":0,\"ticks\":\"\"}}],\"histogram2d\":[{\"type\":\"histogram2d\",\"colorbar\":{\"outlinewidth\":0,\"ticks\":\"\"},\"colorscale\":[[0.0,\"#0d0887\"],[0.1111111111111111,\"#46039f\"],[0.2222222222222222,\"#7201a8\"],[0.3333333333333333,\"#9c179e\"],[0.4444444444444444,\"#bd3786\"],[0.5555555555555556,\"#d8576b\"],[0.6666666666666666,\"#ed7953\"],[0.7777777777777778,\"#fb9f3a\"],[0.8888888888888888,\"#fdca26\"],[1.0,\"#f0f921\"]]}],\"heatmap\":[{\"type\":\"heatmap\",\"colorbar\":{\"outlinewidth\":0,\"ticks\":\"\"},\"colorscale\":[[0.0,\"#0d0887\"],[0.1111111111111111,\"#46039f\"],[0.2222222222222222,\"#7201a8\"],[0.3333333333333333,\"#9c179e\"],[0.4444444444444444,\"#bd3786\"],[0.5555555555555556,\"#d8576b\"],[0.6666666666666666,\"#ed7953\"],[0.7777777777777778,\"#fb9f3a\"],[0.8888888888888888,\"#fdca26\"],[1.0,\"#f0f921\"]]}],\"heatmapgl\":[{\"type\":\"heatmapgl\",\"colorbar\":{\"outlinewidth\":0,\"ticks\":\"\"},\"colorscale\":[[0.0,\"#0d0887\"],[0.1111111111111111,\"#46039f\"],[0.2222222222222222,\"#7201a8\"],[0.3333333333333333,\"#9c179e\"],[0.4444444444444444,\"#bd3786\"],[0.5555555555555556,\"#d8576b\"],[0.6666666666666666,\"#ed7953\"],[0.7777777777777778,\"#fb9f3a\"],[0.8888888888888888,\"#fdca26\"],[1.0,\"#f0f921\"]]}],\"contourcarpet\":[{\"type\":\"contourcarpet\",\"colorbar\":{\"outlinewidth\":0,\"ticks\":\"\"}}],\"contour\":[{\"type\":\"contour\",\"colorbar\":{\"outlinewidth\":0,\"ticks\":\"\"},\"colorscale\":[[0.0,\"#0d0887\"],[0.1111111111111111,\"#46039f\"],[0.2222222222222222,\"#7201a8\"],[0.3333333333333333,\"#9c179e\"],[0.4444444444444444,\"#bd3786\"],[0.5555555555555556,\"#d8576b\"],[0.6666666666666666,\"#ed7953\"],[0.7777777777777778,\"#fb9f3a\"],[0.8888888888888888,\"#fdca26\"],[1.0,\"#f0f921\"]]}],\"surface\":[{\"type\":\"surface\",\"colorbar\":{\"outlinewidth\":0,\"ticks\":\"\"},\"colorscale\":[[0.0,\"#0d0887\"],[0.1111111111111111,\"#46039f\"],[0.2222222222222222,\"#7201a8\"],[0.3333333333333333,\"#9c179e\"],[0.4444444444444444,\"#bd3786\"],[0.5555555555555556,\"#d8576b\"],[0.6666666666666666,\"#ed7953\"],[0.7777777777777778,\"#fb9f3a\"],[0.8888888888888888,\"#fdca26\"],[1.0,\"#f0f921\"]]}],\"mesh3d\":[{\"type\":\"mesh3d\",\"colorbar\":{\"outlinewidth\":0,\"ticks\":\"\"}}],\"scatter\":[{\"fillpattern\":{\"fillmode\":\"overlay\",\"size\":10,\"solidity\":0.2},\"type\":\"scatter\"}],\"parcoords\":[{\"type\":\"parcoords\",\"line\":{\"colorbar\":{\"outlinewidth\":0,\"ticks\":\"\"}}}],\"scatterpolargl\":[{\"type\":\"scatterpolargl\",\"marker\":{\"colorbar\":{\"outlinewidth\":0,\"ticks\":\"\"}}}],\"bar\":[{\"error_x\":{\"color\":\"#2a3f5f\"},\"error_y\":{\"color\":\"#2a3f5f\"},\"marker\":{\"line\":{\"color\":\"#E5ECF6\",\"width\":0.5},\"pattern\":{\"fillmode\":\"overlay\",\"size\":10,\"solidity\":0.2}},\"type\":\"bar\"}],\"scattergeo\":[{\"type\":\"scattergeo\",\"marker\":{\"colorbar\":{\"outlinewidth\":0,\"ticks\":\"\"}}}],\"scatterpolar\":[{\"type\":\"scatterpolar\",\"marker\":{\"colorbar\":{\"outlinewidth\":0,\"ticks\":\"\"}}}],\"histogram\":[{\"marker\":{\"pattern\":{\"fillmode\":\"overlay\",\"size\":10,\"solidity\":0.2}},\"type\":\"histogram\"}],\"scattergl\":[{\"type\":\"scattergl\",\"marker\":{\"colorbar\":{\"outlinewidth\":0,\"ticks\":\"\"}}}],\"scatter3d\":[{\"type\":\"scatter3d\",\"line\":{\"colorbar\":{\"outlinewidth\":0,\"ticks\":\"\"}},\"marker\":{\"colorbar\":{\"outlinewidth\":0,\"ticks\":\"\"}}}],\"scattermapbox\":[{\"type\":\"scattermapbox\",\"marker\":{\"colorbar\":{\"outlinewidth\":0,\"ticks\":\"\"}}}],\"scatterternary\":[{\"type\":\"scatterternary\",\"marker\":{\"colorbar\":{\"outlinewidth\":0,\"ticks\":\"\"}}}],\"scattercarpet\":[{\"type\":\"scattercarpet\",\"marker\":{\"colorbar\":{\"outlinewidth\":0,\"ticks\":\"\"}}}],\"carpet\":[{\"aaxis\":{\"endlinecolor\":\"#2a3f5f\",\"gridcolor\":\"white\",\"linecolor\":\"white\",\"minorgridcolor\":\"white\",\"startlinecolor\":\"#2a3f5f\"},\"baxis\":{\"endlinecolor\":\"#2a3f5f\",\"gridcolor\":\"white\",\"linecolor\":\"white\",\"minorgridcolor\":\"white\",\"startlinecolor\":\"#2a3f5f\"},\"type\":\"carpet\"}],\"table\":[{\"cells\":{\"fill\":{\"color\":\"#EBF0F8\"},\"line\":{\"color\":\"white\"}},\"header\":{\"fill\":{\"color\":\"#C8D4E3\"},\"line\":{\"color\":\"white\"}},\"type\":\"table\"}],\"barpolar\":[{\"marker\":{\"line\":{\"color\":\"#E5ECF6\",\"width\":0.5},\"pattern\":{\"fillmode\":\"overlay\",\"size\":10,\"solidity\":0.2}},\"type\":\"barpolar\"}],\"pie\":[{\"automargin\":true,\"type\":\"pie\"}]},\"layout\":{\"autotypenumbers\":\"strict\",\"colorway\":[\"#636efa\",\"#EF553B\",\"#00cc96\",\"#ab63fa\",\"#FFA15A\",\"#19d3f3\",\"#FF6692\",\"#B6E880\",\"#FF97FF\",\"#FECB52\"],\"font\":{\"color\":\"#2a3f5f\"},\"hovermode\":\"closest\",\"hoverlabel\":{\"align\":\"left\"},\"paper_bgcolor\":\"white\",\"plot_bgcolor\":\"#E5ECF6\",\"polar\":{\"bgcolor\":\"#E5ECF6\",\"angularaxis\":{\"gridcolor\":\"white\",\"linecolor\":\"white\",\"ticks\":\"\"},\"radialaxis\":{\"gridcolor\":\"white\",\"linecolor\":\"white\",\"ticks\":\"\"}},\"ternary\":{\"bgcolor\":\"#E5ECF6\",\"aaxis\":{\"gridcolor\":\"white\",\"linecolor\":\"white\",\"ticks\":\"\"},\"baxis\":{\"gridcolor\":\"white\",\"linecolor\":\"white\",\"ticks\":\"\"},\"caxis\":{\"gridcolor\":\"white\",\"linecolor\":\"white\",\"ticks\":\"\"}},\"coloraxis\":{\"colorbar\":{\"outlinewidth\":0,\"ticks\":\"\"}},\"colorscale\":{\"sequential\":[[0.0,\"#0d0887\"],[0.1111111111111111,\"#46039f\"],[0.2222222222222222,\"#7201a8\"],[0.3333333333333333,\"#9c179e\"],[0.4444444444444444,\"#bd3786\"],[0.5555555555555556,\"#d8576b\"],[0.6666666666666666,\"#ed7953\"],[0.7777777777777778,\"#fb9f3a\"],[0.8888888888888888,\"#fdca26\"],[1.0,\"#f0f921\"]],\"sequentialminus\":[[0.0,\"#0d0887\"],[0.1111111111111111,\"#46039f\"],[0.2222222222222222,\"#7201a8\"],[0.3333333333333333,\"#9c179e\"],[0.4444444444444444,\"#bd3786\"],[0.5555555555555556,\"#d8576b\"],[0.6666666666666666,\"#ed7953\"],[0.7777777777777778,\"#fb9f3a\"],[0.8888888888888888,\"#fdca26\"],[1.0,\"#f0f921\"]],\"diverging\":[[0,\"#8e0152\"],[0.1,\"#c51b7d\"],[0.2,\"#de77ae\"],[0.3,\"#f1b6da\"],[0.4,\"#fde0ef\"],[0.5,\"#f7f7f7\"],[0.6,\"#e6f5d0\"],[0.7,\"#b8e186\"],[0.8,\"#7fbc41\"],[0.9,\"#4d9221\"],[1,\"#276419\"]]},\"xaxis\":{\"gridcolor\":\"white\",\"linecolor\":\"white\",\"ticks\":\"\",\"title\":{\"standoff\":15},\"zerolinecolor\":\"white\",\"automargin\":true,\"zerolinewidth\":2},\"yaxis\":{\"gridcolor\":\"white\",\"linecolor\":\"white\",\"ticks\":\"\",\"title\":{\"standoff\":15},\"zerolinecolor\":\"white\",\"automargin\":true,\"zerolinewidth\":2},\"scene\":{\"xaxis\":{\"backgroundcolor\":\"#E5ECF6\",\"gridcolor\":\"white\",\"linecolor\":\"white\",\"showbackground\":true,\"ticks\":\"\",\"zerolinecolor\":\"white\",\"gridwidth\":2},\"yaxis\":{\"backgroundcolor\":\"#E5ECF6\",\"gridcolor\":\"white\",\"linecolor\":\"white\",\"showbackground\":true,\"ticks\":\"\",\"zerolinecolor\":\"white\",\"gridwidth\":2},\"zaxis\":{\"backgroundcolor\":\"#E5ECF6\",\"gridcolor\":\"white\",\"linecolor\":\"white\",\"showbackground\":true,\"ticks\":\"\",\"zerolinecolor\":\"white\",\"gridwidth\":2}},\"shapedefaults\":{\"line\":{\"color\":\"#2a3f5f\"}},\"annotationdefaults\":{\"arrowcolor\":\"#2a3f5f\",\"arrowhead\":0,\"arrowwidth\":1},\"geo\":{\"bgcolor\":\"white\",\"landcolor\":\"#E5ECF6\",\"subunitcolor\":\"white\",\"showland\":true,\"showlakes\":true,\"lakecolor\":\"white\"},\"title\":{\"x\":0.05},\"mapbox\":{\"style\":\"light\"}}},\"xaxis\":{\"anchor\":\"y\",\"domain\":[0.0,1.0],\"title\":{\"text\":\"ID\"},\"categoryorder\":\"total descending\"},\"yaxis\":{\"anchor\":\"x\",\"domain\":[0.0,1.0],\"title\":{\"text\":\"Integritet (%)\"}},\"legend\":{\"title\":{\"text\":\"Sensordata\"},\"tracegroupgap\":0},\"title\":{\"text\":\"Custom Non-Missing Values Ratio for Thorsager Skole (Top 8 IDs)\"},\"barmode\":\"group\"},                        {\"responsive\": true}                    ).then(function(){\n",
       "                            \n",
       "var gd = document.getElementById('585ae4ca-daae-4f78-96b6-f3c82d1217e3');\n",
       "var x = new MutationObserver(function (mutations, observer) {{\n",
       "        var display = window.getComputedStyle(gd).display;\n",
       "        if (!display || display === 'none') {{\n",
       "            console.log([gd, 'removed!']);\n",
       "            Plotly.purge(gd);\n",
       "            observer.disconnect();\n",
       "        }}\n",
       "}});\n",
       "\n",
       "// Listen for the removal of the full notebook cells\n",
       "var notebookContainer = gd.closest('#notebook-container');\n",
       "if (notebookContainer) {{\n",
       "    x.observe(notebookContainer, {childList: true});\n",
       "}}\n",
       "\n",
       "// Listen for the clearing of the current output cell\n",
       "var outputEl = gd.closest('.output');\n",
       "if (outputEl) {{\n",
       "    x.observe(outputEl, {childList: true});\n",
       "}}\n",
       "\n",
       "                        })                };                });            </script>        </div>"
      ]
     },
     "metadata": {},
     "output_type": "display_data"
    }
   ],
   "source": [
    "import pandas as pd\n",
    "import plotly.express as px\n",
    "\n",
    "# Assuming 'dataf' is your original DataFrame\n",
    "\n",
    "# Define a custom function to consider NaN, None, False, and 0 as missing\n",
    "def custom_missing_ratio(series):\n",
    "    return (series.isna() | (series == 0) | (series == False)).mean()\n",
    "\n",
    "# Calculate the custom non-missing value ratio\n",
    "custom_non_missing_ratio = dataf.groupby(['SKOLE', 'ID'])[['CO2', 'TEMP', 'MOTION', 'IAQ']].apply(lambda x: 1 - x.apply(custom_missing_ratio)).reset_index()\n",
    "\n",
    "# Melt the DataFrame to make it suitable for plotting with Plotly\n",
    "melted = custom_non_missing_ratio.melt(id_vars=['SKOLE', 'ID'], var_name='Sensordata', value_name='CustomNonMissingRatio')\n",
    "\n",
    "# Get the first three unique SKOLEs\n",
    "unique_skoles = melted['SKOLE'].unique()[:3]\n",
    "\n",
    "# Loop through each SKOLE and plot the top 8 IDs\n",
    "for skole in unique_skoles:\n",
    "    # Filter the DataFrame for the current SKOLE\n",
    "    df_skole = melted[melted['SKOLE'] == skole]\n",
    "\n",
    "    # Sort IDs by the minimum 'CustomNonMissingRatio' within each ID, prioritizing those with missing data\n",
    "    df_skole = df_skole.assign(min_ratio=df_skole.groupby('ID')['CustomNonMissingRatio'].transform(min))\n",
    "    df_skole_sorted = df_skole.sort_values(by=['min_ratio', 'ID'], ascending=[True, True]).drop_duplicates('ID')\n",
    "\n",
    "    # Select top 8 IDs, prioritizing those with missing data\n",
    "    top_ids = df_skole_sorted['ID'].unique()[:8]\n",
    "    df_skole_top_ids = df_skole[df_skole['ID'].isin(top_ids)]\n",
    "\n",
    "    # Create the bar plot for the current SKOLE with selected IDs\n",
    "    fig = px.bar(\n",
    "        df_skole_top_ids,\n",
    "        x=\"ID\",\n",
    "        y=\"CustomNonMissingRatio\",\n",
    "        color=\"Sensordata\",\n",
    "        barmode=\"group\",\n",
    "        title=f\"Custom Non-Missing Values Ratio for {skole} (Top 8 IDs)\",\n",
    "        # labels={\"CustomNonMissingRatio\": \"Custom Non-Missing Ratio (%)\", \"ID\": \"ID\"}\n",
    "    )\n",
    "    \n",
    "    # Update layout if necessary\n",
    "    fig.update_layout(\n",
    "        xaxis={'categoryorder':'total descending'},\n",
    "        yaxis_title='Integritet (%)',\n",
    "    )\n",
    "    \n",
    "    # Show the figure\n",
    "    fig.show()\n"
   ]
  },
  {
   "cell_type": "code",
   "execution_count": 70,
   "metadata": {},
   "outputs": [
    {
     "data": {
      "application/vnd.plotly.v1+json": {
       "config": {
        "plotlyServerURL": "https://plot.ly"
       },
       "data": [
        {
         "alignmentgroup": "True",
         "hovertemplate": "Sensordata=%{x}<br>RatioOfNonMissingIDs=%{y}<extra></extra>",
         "legendgroup": "",
         "marker": {
          "color": "#636efa",
          "pattern": {
           "shape": ""
          }
         },
         "name": "",
         "offsetgroup": "",
         "orientation": "v",
         "showlegend": false,
         "textposition": "auto",
         "type": "bar",
         "x": [
          "CO2",
          "TEMP",
          "MOTION",
          "IAQ"
         ],
         "xaxis": "x",
         "y": [
          1,
          0.9939024390243902,
          0,
          0.21951219512195122
         ],
         "yaxis": "y"
        }
       ],
       "layout": {
        "barmode": "relative",
        "legend": {
         "tracegroupgap": 0
        },
        "margin": {
         "t": 60
        },
        "template": {
         "data": {
          "bar": [
           {
            "error_x": {
             "color": "#2a3f5f"
            },
            "error_y": {
             "color": "#2a3f5f"
            },
            "marker": {
             "line": {
              "color": "#E5ECF6",
              "width": 0.5
             },
             "pattern": {
              "fillmode": "overlay",
              "size": 10,
              "solidity": 0.2
             }
            },
            "type": "bar"
           }
          ],
          "barpolar": [
           {
            "marker": {
             "line": {
              "color": "#E5ECF6",
              "width": 0.5
             },
             "pattern": {
              "fillmode": "overlay",
              "size": 10,
              "solidity": 0.2
             }
            },
            "type": "barpolar"
           }
          ],
          "carpet": [
           {
            "aaxis": {
             "endlinecolor": "#2a3f5f",
             "gridcolor": "white",
             "linecolor": "white",
             "minorgridcolor": "white",
             "startlinecolor": "#2a3f5f"
            },
            "baxis": {
             "endlinecolor": "#2a3f5f",
             "gridcolor": "white",
             "linecolor": "white",
             "minorgridcolor": "white",
             "startlinecolor": "#2a3f5f"
            },
            "type": "carpet"
           }
          ],
          "choropleth": [
           {
            "colorbar": {
             "outlinewidth": 0,
             "ticks": ""
            },
            "type": "choropleth"
           }
          ],
          "contour": [
           {
            "colorbar": {
             "outlinewidth": 0,
             "ticks": ""
            },
            "colorscale": [
             [
              0,
              "#0d0887"
             ],
             [
              0.1111111111111111,
              "#46039f"
             ],
             [
              0.2222222222222222,
              "#7201a8"
             ],
             [
              0.3333333333333333,
              "#9c179e"
             ],
             [
              0.4444444444444444,
              "#bd3786"
             ],
             [
              0.5555555555555556,
              "#d8576b"
             ],
             [
              0.6666666666666666,
              "#ed7953"
             ],
             [
              0.7777777777777778,
              "#fb9f3a"
             ],
             [
              0.8888888888888888,
              "#fdca26"
             ],
             [
              1,
              "#f0f921"
             ]
            ],
            "type": "contour"
           }
          ],
          "contourcarpet": [
           {
            "colorbar": {
             "outlinewidth": 0,
             "ticks": ""
            },
            "type": "contourcarpet"
           }
          ],
          "heatmap": [
           {
            "colorbar": {
             "outlinewidth": 0,
             "ticks": ""
            },
            "colorscale": [
             [
              0,
              "#0d0887"
             ],
             [
              0.1111111111111111,
              "#46039f"
             ],
             [
              0.2222222222222222,
              "#7201a8"
             ],
             [
              0.3333333333333333,
              "#9c179e"
             ],
             [
              0.4444444444444444,
              "#bd3786"
             ],
             [
              0.5555555555555556,
              "#d8576b"
             ],
             [
              0.6666666666666666,
              "#ed7953"
             ],
             [
              0.7777777777777778,
              "#fb9f3a"
             ],
             [
              0.8888888888888888,
              "#fdca26"
             ],
             [
              1,
              "#f0f921"
             ]
            ],
            "type": "heatmap"
           }
          ],
          "heatmapgl": [
           {
            "colorbar": {
             "outlinewidth": 0,
             "ticks": ""
            },
            "colorscale": [
             [
              0,
              "#0d0887"
             ],
             [
              0.1111111111111111,
              "#46039f"
             ],
             [
              0.2222222222222222,
              "#7201a8"
             ],
             [
              0.3333333333333333,
              "#9c179e"
             ],
             [
              0.4444444444444444,
              "#bd3786"
             ],
             [
              0.5555555555555556,
              "#d8576b"
             ],
             [
              0.6666666666666666,
              "#ed7953"
             ],
             [
              0.7777777777777778,
              "#fb9f3a"
             ],
             [
              0.8888888888888888,
              "#fdca26"
             ],
             [
              1,
              "#f0f921"
             ]
            ],
            "type": "heatmapgl"
           }
          ],
          "histogram": [
           {
            "marker": {
             "pattern": {
              "fillmode": "overlay",
              "size": 10,
              "solidity": 0.2
             }
            },
            "type": "histogram"
           }
          ],
          "histogram2d": [
           {
            "colorbar": {
             "outlinewidth": 0,
             "ticks": ""
            },
            "colorscale": [
             [
              0,
              "#0d0887"
             ],
             [
              0.1111111111111111,
              "#46039f"
             ],
             [
              0.2222222222222222,
              "#7201a8"
             ],
             [
              0.3333333333333333,
              "#9c179e"
             ],
             [
              0.4444444444444444,
              "#bd3786"
             ],
             [
              0.5555555555555556,
              "#d8576b"
             ],
             [
              0.6666666666666666,
              "#ed7953"
             ],
             [
              0.7777777777777778,
              "#fb9f3a"
             ],
             [
              0.8888888888888888,
              "#fdca26"
             ],
             [
              1,
              "#f0f921"
             ]
            ],
            "type": "histogram2d"
           }
          ],
          "histogram2dcontour": [
           {
            "colorbar": {
             "outlinewidth": 0,
             "ticks": ""
            },
            "colorscale": [
             [
              0,
              "#0d0887"
             ],
             [
              0.1111111111111111,
              "#46039f"
             ],
             [
              0.2222222222222222,
              "#7201a8"
             ],
             [
              0.3333333333333333,
              "#9c179e"
             ],
             [
              0.4444444444444444,
              "#bd3786"
             ],
             [
              0.5555555555555556,
              "#d8576b"
             ],
             [
              0.6666666666666666,
              "#ed7953"
             ],
             [
              0.7777777777777778,
              "#fb9f3a"
             ],
             [
              0.8888888888888888,
              "#fdca26"
             ],
             [
              1,
              "#f0f921"
             ]
            ],
            "type": "histogram2dcontour"
           }
          ],
          "mesh3d": [
           {
            "colorbar": {
             "outlinewidth": 0,
             "ticks": ""
            },
            "type": "mesh3d"
           }
          ],
          "parcoords": [
           {
            "line": {
             "colorbar": {
              "outlinewidth": 0,
              "ticks": ""
             }
            },
            "type": "parcoords"
           }
          ],
          "pie": [
           {
            "automargin": true,
            "type": "pie"
           }
          ],
          "scatter": [
           {
            "fillpattern": {
             "fillmode": "overlay",
             "size": 10,
             "solidity": 0.2
            },
            "type": "scatter"
           }
          ],
          "scatter3d": [
           {
            "line": {
             "colorbar": {
              "outlinewidth": 0,
              "ticks": ""
             }
            },
            "marker": {
             "colorbar": {
              "outlinewidth": 0,
              "ticks": ""
             }
            },
            "type": "scatter3d"
           }
          ],
          "scattercarpet": [
           {
            "marker": {
             "colorbar": {
              "outlinewidth": 0,
              "ticks": ""
             }
            },
            "type": "scattercarpet"
           }
          ],
          "scattergeo": [
           {
            "marker": {
             "colorbar": {
              "outlinewidth": 0,
              "ticks": ""
             }
            },
            "type": "scattergeo"
           }
          ],
          "scattergl": [
           {
            "marker": {
             "colorbar": {
              "outlinewidth": 0,
              "ticks": ""
             }
            },
            "type": "scattergl"
           }
          ],
          "scattermapbox": [
           {
            "marker": {
             "colorbar": {
              "outlinewidth": 0,
              "ticks": ""
             }
            },
            "type": "scattermapbox"
           }
          ],
          "scatterpolar": [
           {
            "marker": {
             "colorbar": {
              "outlinewidth": 0,
              "ticks": ""
             }
            },
            "type": "scatterpolar"
           }
          ],
          "scatterpolargl": [
           {
            "marker": {
             "colorbar": {
              "outlinewidth": 0,
              "ticks": ""
             }
            },
            "type": "scatterpolargl"
           }
          ],
          "scatterternary": [
           {
            "marker": {
             "colorbar": {
              "outlinewidth": 0,
              "ticks": ""
             }
            },
            "type": "scatterternary"
           }
          ],
          "surface": [
           {
            "colorbar": {
             "outlinewidth": 0,
             "ticks": ""
            },
            "colorscale": [
             [
              0,
              "#0d0887"
             ],
             [
              0.1111111111111111,
              "#46039f"
             ],
             [
              0.2222222222222222,
              "#7201a8"
             ],
             [
              0.3333333333333333,
              "#9c179e"
             ],
             [
              0.4444444444444444,
              "#bd3786"
             ],
             [
              0.5555555555555556,
              "#d8576b"
             ],
             [
              0.6666666666666666,
              "#ed7953"
             ],
             [
              0.7777777777777778,
              "#fb9f3a"
             ],
             [
              0.8888888888888888,
              "#fdca26"
             ],
             [
              1,
              "#f0f921"
             ]
            ],
            "type": "surface"
           }
          ],
          "table": [
           {
            "cells": {
             "fill": {
              "color": "#EBF0F8"
             },
             "line": {
              "color": "white"
             }
            },
            "header": {
             "fill": {
              "color": "#C8D4E3"
             },
             "line": {
              "color": "white"
             }
            },
            "type": "table"
           }
          ]
         },
         "layout": {
          "annotationdefaults": {
           "arrowcolor": "#2a3f5f",
           "arrowhead": 0,
           "arrowwidth": 1
          },
          "autotypenumbers": "strict",
          "coloraxis": {
           "colorbar": {
            "outlinewidth": 0,
            "ticks": ""
           }
          },
          "colorscale": {
           "diverging": [
            [
             0,
             "#8e0152"
            ],
            [
             0.1,
             "#c51b7d"
            ],
            [
             0.2,
             "#de77ae"
            ],
            [
             0.3,
             "#f1b6da"
            ],
            [
             0.4,
             "#fde0ef"
            ],
            [
             0.5,
             "#f7f7f7"
            ],
            [
             0.6,
             "#e6f5d0"
            ],
            [
             0.7,
             "#b8e186"
            ],
            [
             0.8,
             "#7fbc41"
            ],
            [
             0.9,
             "#4d9221"
            ],
            [
             1,
             "#276419"
            ]
           ],
           "sequential": [
            [
             0,
             "#0d0887"
            ],
            [
             0.1111111111111111,
             "#46039f"
            ],
            [
             0.2222222222222222,
             "#7201a8"
            ],
            [
             0.3333333333333333,
             "#9c179e"
            ],
            [
             0.4444444444444444,
             "#bd3786"
            ],
            [
             0.5555555555555556,
             "#d8576b"
            ],
            [
             0.6666666666666666,
             "#ed7953"
            ],
            [
             0.7777777777777778,
             "#fb9f3a"
            ],
            [
             0.8888888888888888,
             "#fdca26"
            ],
            [
             1,
             "#f0f921"
            ]
           ],
           "sequentialminus": [
            [
             0,
             "#0d0887"
            ],
            [
             0.1111111111111111,
             "#46039f"
            ],
            [
             0.2222222222222222,
             "#7201a8"
            ],
            [
             0.3333333333333333,
             "#9c179e"
            ],
            [
             0.4444444444444444,
             "#bd3786"
            ],
            [
             0.5555555555555556,
             "#d8576b"
            ],
            [
             0.6666666666666666,
             "#ed7953"
            ],
            [
             0.7777777777777778,
             "#fb9f3a"
            ],
            [
             0.8888888888888888,
             "#fdca26"
            ],
            [
             1,
             "#f0f921"
            ]
           ]
          },
          "colorway": [
           "#636efa",
           "#EF553B",
           "#00cc96",
           "#ab63fa",
           "#FFA15A",
           "#19d3f3",
           "#FF6692",
           "#B6E880",
           "#FF97FF",
           "#FECB52"
          ],
          "font": {
           "color": "#2a3f5f"
          },
          "geo": {
           "bgcolor": "white",
           "lakecolor": "white",
           "landcolor": "#E5ECF6",
           "showlakes": true,
           "showland": true,
           "subunitcolor": "white"
          },
          "hoverlabel": {
           "align": "left"
          },
          "hovermode": "closest",
          "mapbox": {
           "style": "light"
          },
          "paper_bgcolor": "white",
          "plot_bgcolor": "#E5ECF6",
          "polar": {
           "angularaxis": {
            "gridcolor": "white",
            "linecolor": "white",
            "ticks": ""
           },
           "bgcolor": "#E5ECF6",
           "radialaxis": {
            "gridcolor": "white",
            "linecolor": "white",
            "ticks": ""
           }
          },
          "scene": {
           "xaxis": {
            "backgroundcolor": "#E5ECF6",
            "gridcolor": "white",
            "gridwidth": 2,
            "linecolor": "white",
            "showbackground": true,
            "ticks": "",
            "zerolinecolor": "white"
           },
           "yaxis": {
            "backgroundcolor": "#E5ECF6",
            "gridcolor": "white",
            "gridwidth": 2,
            "linecolor": "white",
            "showbackground": true,
            "ticks": "",
            "zerolinecolor": "white"
           },
           "zaxis": {
            "backgroundcolor": "#E5ECF6",
            "gridcolor": "white",
            "gridwidth": 2,
            "linecolor": "white",
            "showbackground": true,
            "ticks": "",
            "zerolinecolor": "white"
           }
          },
          "shapedefaults": {
           "line": {
            "color": "#2a3f5f"
           }
          },
          "ternary": {
           "aaxis": {
            "gridcolor": "white",
            "linecolor": "white",
            "ticks": ""
           },
           "baxis": {
            "gridcolor": "white",
            "linecolor": "white",
            "ticks": ""
           },
           "bgcolor": "#E5ECF6",
           "caxis": {
            "gridcolor": "white",
            "linecolor": "white",
            "ticks": ""
           }
          },
          "title": {
           "x": 0.05
          },
          "xaxis": {
           "automargin": true,
           "gridcolor": "white",
           "linecolor": "white",
           "ticks": "",
           "title": {
            "standoff": 15
           },
           "zerolinecolor": "white",
           "zerolinewidth": 2
          },
          "yaxis": {
           "automargin": true,
           "gridcolor": "white",
           "linecolor": "white",
           "ticks": "",
           "title": {
            "standoff": 15
           },
           "zerolinecolor": "white",
           "zerolinewidth": 2
          }
         }
        },
        "xaxis": {
         "anchor": "y",
         "domain": [
          0,
          1
         ],
         "title": {
          "text": "Sensordata"
         }
        },
        "yaxis": {
         "anchor": "x",
         "domain": [
          0,
          1
         ],
         "tickformat": ".0%",
         "title": {
          "text": "Integritet (%)"
         }
        }
       }
      },
      "text/html": [
       "<div>                            <div id=\"253e1f30-fc1b-4f09-8890-b8d11eac2a35\" class=\"plotly-graph-div\" style=\"height:525px; width:100%;\"></div>            <script type=\"text/javascript\">                require([\"plotly\"], function(Plotly) {                    window.PLOTLYENV=window.PLOTLYENV || {};                                    if (document.getElementById(\"253e1f30-fc1b-4f09-8890-b8d11eac2a35\")) {                    Plotly.newPlot(                        \"253e1f30-fc1b-4f09-8890-b8d11eac2a35\",                        [{\"alignmentgroup\":\"True\",\"hovertemplate\":\"Sensordata=%{x}\\u003cbr\\u003eRatioOfNonMissingIDs=%{y}\\u003cextra\\u003e\\u003c\\u002fextra\\u003e\",\"legendgroup\":\"\",\"marker\":{\"color\":\"#636efa\",\"pattern\":{\"shape\":\"\"}},\"name\":\"\",\"offsetgroup\":\"\",\"orientation\":\"v\",\"showlegend\":false,\"textposition\":\"auto\",\"x\":[\"CO2\",\"TEMP\",\"MOTION\",\"IAQ\"],\"xaxis\":\"x\",\"y\":[1.0,0.9939024390243902,0.0,0.21951219512195122],\"yaxis\":\"y\",\"type\":\"bar\"}],                        {\"template\":{\"data\":{\"histogram2dcontour\":[{\"type\":\"histogram2dcontour\",\"colorbar\":{\"outlinewidth\":0,\"ticks\":\"\"},\"colorscale\":[[0.0,\"#0d0887\"],[0.1111111111111111,\"#46039f\"],[0.2222222222222222,\"#7201a8\"],[0.3333333333333333,\"#9c179e\"],[0.4444444444444444,\"#bd3786\"],[0.5555555555555556,\"#d8576b\"],[0.6666666666666666,\"#ed7953\"],[0.7777777777777778,\"#fb9f3a\"],[0.8888888888888888,\"#fdca26\"],[1.0,\"#f0f921\"]]}],\"choropleth\":[{\"type\":\"choropleth\",\"colorbar\":{\"outlinewidth\":0,\"ticks\":\"\"}}],\"histogram2d\":[{\"type\":\"histogram2d\",\"colorbar\":{\"outlinewidth\":0,\"ticks\":\"\"},\"colorscale\":[[0.0,\"#0d0887\"],[0.1111111111111111,\"#46039f\"],[0.2222222222222222,\"#7201a8\"],[0.3333333333333333,\"#9c179e\"],[0.4444444444444444,\"#bd3786\"],[0.5555555555555556,\"#d8576b\"],[0.6666666666666666,\"#ed7953\"],[0.7777777777777778,\"#fb9f3a\"],[0.8888888888888888,\"#fdca26\"],[1.0,\"#f0f921\"]]}],\"heatmap\":[{\"type\":\"heatmap\",\"colorbar\":{\"outlinewidth\":0,\"ticks\":\"\"},\"colorscale\":[[0.0,\"#0d0887\"],[0.1111111111111111,\"#46039f\"],[0.2222222222222222,\"#7201a8\"],[0.3333333333333333,\"#9c179e\"],[0.4444444444444444,\"#bd3786\"],[0.5555555555555556,\"#d8576b\"],[0.6666666666666666,\"#ed7953\"],[0.7777777777777778,\"#fb9f3a\"],[0.8888888888888888,\"#fdca26\"],[1.0,\"#f0f921\"]]}],\"heatmapgl\":[{\"type\":\"heatmapgl\",\"colorbar\":{\"outlinewidth\":0,\"ticks\":\"\"},\"colorscale\":[[0.0,\"#0d0887\"],[0.1111111111111111,\"#46039f\"],[0.2222222222222222,\"#7201a8\"],[0.3333333333333333,\"#9c179e\"],[0.4444444444444444,\"#bd3786\"],[0.5555555555555556,\"#d8576b\"],[0.6666666666666666,\"#ed7953\"],[0.7777777777777778,\"#fb9f3a\"],[0.8888888888888888,\"#fdca26\"],[1.0,\"#f0f921\"]]}],\"contourcarpet\":[{\"type\":\"contourcarpet\",\"colorbar\":{\"outlinewidth\":0,\"ticks\":\"\"}}],\"contour\":[{\"type\":\"contour\",\"colorbar\":{\"outlinewidth\":0,\"ticks\":\"\"},\"colorscale\":[[0.0,\"#0d0887\"],[0.1111111111111111,\"#46039f\"],[0.2222222222222222,\"#7201a8\"],[0.3333333333333333,\"#9c179e\"],[0.4444444444444444,\"#bd3786\"],[0.5555555555555556,\"#d8576b\"],[0.6666666666666666,\"#ed7953\"],[0.7777777777777778,\"#fb9f3a\"],[0.8888888888888888,\"#fdca26\"],[1.0,\"#f0f921\"]]}],\"surface\":[{\"type\":\"surface\",\"colorbar\":{\"outlinewidth\":0,\"ticks\":\"\"},\"colorscale\":[[0.0,\"#0d0887\"],[0.1111111111111111,\"#46039f\"],[0.2222222222222222,\"#7201a8\"],[0.3333333333333333,\"#9c179e\"],[0.4444444444444444,\"#bd3786\"],[0.5555555555555556,\"#d8576b\"],[0.6666666666666666,\"#ed7953\"],[0.7777777777777778,\"#fb9f3a\"],[0.8888888888888888,\"#fdca26\"],[1.0,\"#f0f921\"]]}],\"mesh3d\":[{\"type\":\"mesh3d\",\"colorbar\":{\"outlinewidth\":0,\"ticks\":\"\"}}],\"scatter\":[{\"fillpattern\":{\"fillmode\":\"overlay\",\"size\":10,\"solidity\":0.2},\"type\":\"scatter\"}],\"parcoords\":[{\"type\":\"parcoords\",\"line\":{\"colorbar\":{\"outlinewidth\":0,\"ticks\":\"\"}}}],\"scatterpolargl\":[{\"type\":\"scatterpolargl\",\"marker\":{\"colorbar\":{\"outlinewidth\":0,\"ticks\":\"\"}}}],\"bar\":[{\"error_x\":{\"color\":\"#2a3f5f\"},\"error_y\":{\"color\":\"#2a3f5f\"},\"marker\":{\"line\":{\"color\":\"#E5ECF6\",\"width\":0.5},\"pattern\":{\"fillmode\":\"overlay\",\"size\":10,\"solidity\":0.2}},\"type\":\"bar\"}],\"scattergeo\":[{\"type\":\"scattergeo\",\"marker\":{\"colorbar\":{\"outlinewidth\":0,\"ticks\":\"\"}}}],\"scatterpolar\":[{\"type\":\"scatterpolar\",\"marker\":{\"colorbar\":{\"outlinewidth\":0,\"ticks\":\"\"}}}],\"histogram\":[{\"marker\":{\"pattern\":{\"fillmode\":\"overlay\",\"size\":10,\"solidity\":0.2}},\"type\":\"histogram\"}],\"scattergl\":[{\"type\":\"scattergl\",\"marker\":{\"colorbar\":{\"outlinewidth\":0,\"ticks\":\"\"}}}],\"scatter3d\":[{\"type\":\"scatter3d\",\"line\":{\"colorbar\":{\"outlinewidth\":0,\"ticks\":\"\"}},\"marker\":{\"colorbar\":{\"outlinewidth\":0,\"ticks\":\"\"}}}],\"scattermapbox\":[{\"type\":\"scattermapbox\",\"marker\":{\"colorbar\":{\"outlinewidth\":0,\"ticks\":\"\"}}}],\"scatterternary\":[{\"type\":\"scatterternary\",\"marker\":{\"colorbar\":{\"outlinewidth\":0,\"ticks\":\"\"}}}],\"scattercarpet\":[{\"type\":\"scattercarpet\",\"marker\":{\"colorbar\":{\"outlinewidth\":0,\"ticks\":\"\"}}}],\"carpet\":[{\"aaxis\":{\"endlinecolor\":\"#2a3f5f\",\"gridcolor\":\"white\",\"linecolor\":\"white\",\"minorgridcolor\":\"white\",\"startlinecolor\":\"#2a3f5f\"},\"baxis\":{\"endlinecolor\":\"#2a3f5f\",\"gridcolor\":\"white\",\"linecolor\":\"white\",\"minorgridcolor\":\"white\",\"startlinecolor\":\"#2a3f5f\"},\"type\":\"carpet\"}],\"table\":[{\"cells\":{\"fill\":{\"color\":\"#EBF0F8\"},\"line\":{\"color\":\"white\"}},\"header\":{\"fill\":{\"color\":\"#C8D4E3\"},\"line\":{\"color\":\"white\"}},\"type\":\"table\"}],\"barpolar\":[{\"marker\":{\"line\":{\"color\":\"#E5ECF6\",\"width\":0.5},\"pattern\":{\"fillmode\":\"overlay\",\"size\":10,\"solidity\":0.2}},\"type\":\"barpolar\"}],\"pie\":[{\"automargin\":true,\"type\":\"pie\"}]},\"layout\":{\"autotypenumbers\":\"strict\",\"colorway\":[\"#636efa\",\"#EF553B\",\"#00cc96\",\"#ab63fa\",\"#FFA15A\",\"#19d3f3\",\"#FF6692\",\"#B6E880\",\"#FF97FF\",\"#FECB52\"],\"font\":{\"color\":\"#2a3f5f\"},\"hovermode\":\"closest\",\"hoverlabel\":{\"align\":\"left\"},\"paper_bgcolor\":\"white\",\"plot_bgcolor\":\"#E5ECF6\",\"polar\":{\"bgcolor\":\"#E5ECF6\",\"angularaxis\":{\"gridcolor\":\"white\",\"linecolor\":\"white\",\"ticks\":\"\"},\"radialaxis\":{\"gridcolor\":\"white\",\"linecolor\":\"white\",\"ticks\":\"\"}},\"ternary\":{\"bgcolor\":\"#E5ECF6\",\"aaxis\":{\"gridcolor\":\"white\",\"linecolor\":\"white\",\"ticks\":\"\"},\"baxis\":{\"gridcolor\":\"white\",\"linecolor\":\"white\",\"ticks\":\"\"},\"caxis\":{\"gridcolor\":\"white\",\"linecolor\":\"white\",\"ticks\":\"\"}},\"coloraxis\":{\"colorbar\":{\"outlinewidth\":0,\"ticks\":\"\"}},\"colorscale\":{\"sequential\":[[0.0,\"#0d0887\"],[0.1111111111111111,\"#46039f\"],[0.2222222222222222,\"#7201a8\"],[0.3333333333333333,\"#9c179e\"],[0.4444444444444444,\"#bd3786\"],[0.5555555555555556,\"#d8576b\"],[0.6666666666666666,\"#ed7953\"],[0.7777777777777778,\"#fb9f3a\"],[0.8888888888888888,\"#fdca26\"],[1.0,\"#f0f921\"]],\"sequentialminus\":[[0.0,\"#0d0887\"],[0.1111111111111111,\"#46039f\"],[0.2222222222222222,\"#7201a8\"],[0.3333333333333333,\"#9c179e\"],[0.4444444444444444,\"#bd3786\"],[0.5555555555555556,\"#d8576b\"],[0.6666666666666666,\"#ed7953\"],[0.7777777777777778,\"#fb9f3a\"],[0.8888888888888888,\"#fdca26\"],[1.0,\"#f0f921\"]],\"diverging\":[[0,\"#8e0152\"],[0.1,\"#c51b7d\"],[0.2,\"#de77ae\"],[0.3,\"#f1b6da\"],[0.4,\"#fde0ef\"],[0.5,\"#f7f7f7\"],[0.6,\"#e6f5d0\"],[0.7,\"#b8e186\"],[0.8,\"#7fbc41\"],[0.9,\"#4d9221\"],[1,\"#276419\"]]},\"xaxis\":{\"gridcolor\":\"white\",\"linecolor\":\"white\",\"ticks\":\"\",\"title\":{\"standoff\":15},\"zerolinecolor\":\"white\",\"automargin\":true,\"zerolinewidth\":2},\"yaxis\":{\"gridcolor\":\"white\",\"linecolor\":\"white\",\"ticks\":\"\",\"title\":{\"standoff\":15},\"zerolinecolor\":\"white\",\"automargin\":true,\"zerolinewidth\":2},\"scene\":{\"xaxis\":{\"backgroundcolor\":\"#E5ECF6\",\"gridcolor\":\"white\",\"linecolor\":\"white\",\"showbackground\":true,\"ticks\":\"\",\"zerolinecolor\":\"white\",\"gridwidth\":2},\"yaxis\":{\"backgroundcolor\":\"#E5ECF6\",\"gridcolor\":\"white\",\"linecolor\":\"white\",\"showbackground\":true,\"ticks\":\"\",\"zerolinecolor\":\"white\",\"gridwidth\":2},\"zaxis\":{\"backgroundcolor\":\"#E5ECF6\",\"gridcolor\":\"white\",\"linecolor\":\"white\",\"showbackground\":true,\"ticks\":\"\",\"zerolinecolor\":\"white\",\"gridwidth\":2}},\"shapedefaults\":{\"line\":{\"color\":\"#2a3f5f\"}},\"annotationdefaults\":{\"arrowcolor\":\"#2a3f5f\",\"arrowhead\":0,\"arrowwidth\":1},\"geo\":{\"bgcolor\":\"white\",\"landcolor\":\"#E5ECF6\",\"subunitcolor\":\"white\",\"showland\":true,\"showlakes\":true,\"lakecolor\":\"white\"},\"title\":{\"x\":0.05},\"mapbox\":{\"style\":\"light\"}}},\"xaxis\":{\"anchor\":\"y\",\"domain\":[0.0,1.0],\"title\":{\"text\":\"Sensordata\"}},\"yaxis\":{\"anchor\":\"x\",\"domain\":[0.0,1.0],\"title\":{\"text\":\"Integritet (%)\"},\"tickformat\":\".0%\"},\"legend\":{\"tracegroupgap\":0},\"margin\":{\"t\":60},\"barmode\":\"relative\"},                        {\"responsive\": true}                    ).then(function(){\n",
       "                            \n",
       "var gd = document.getElementById('253e1f30-fc1b-4f09-8890-b8d11eac2a35');\n",
       "var x = new MutationObserver(function (mutations, observer) {{\n",
       "        var display = window.getComputedStyle(gd).display;\n",
       "        if (!display || display === 'none') {{\n",
       "            console.log([gd, 'removed!']);\n",
       "            Plotly.purge(gd);\n",
       "            observer.disconnect();\n",
       "        }}\n",
       "}});\n",
       "\n",
       "// Listen for the removal of the full notebook cells\n",
       "var notebookContainer = gd.closest('#notebook-container');\n",
       "if (notebookContainer) {{\n",
       "    x.observe(notebookContainer, {childList: true});\n",
       "}}\n",
       "\n",
       "// Listen for the clearing of the current output cell\n",
       "var outputEl = gd.closest('.output');\n",
       "if (outputEl) {{\n",
       "    x.observe(outputEl, {childList: true});\n",
       "}}\n",
       "\n",
       "                        })                };                });            </script>        </div>"
      ]
     },
     "metadata": {},
     "output_type": "display_data"
    }
   ],
   "source": [
    "import pandas as pd\n",
    "import plotly.express as px\n",
    "\n",
    "# Assuming 'dataf' is your original DataFrame\n",
    "\n",
    "# Define a function to treat NaN, None, False, and 0 as missing, and everything else as non-missing\n",
    "def is_valid(entry):\n",
    "    if entry is None or entry is False or pd.isna(entry) or entry == 0:\n",
    "        return False\n",
    "    else:\n",
    "        return True\n",
    "\n",
    "# Apply the function to each sensor data column to create a boolean DataFrame where True represents a valid entry\n",
    "valid_entries = dataf[['CO2', 'TEMP', 'MOTION', 'IAQ']].applymap(is_valid)\n",
    "\n",
    "# Now, for each sensor data type, determine which IDs have only valid (non-missing) entries\n",
    "valid_counts_per_sensor = valid_entries.groupby(dataf['ID']).all()\n",
    "\n",
    "# Calculate the ratio of IDs with all valid entries for each sensor data type\n",
    "ratios = valid_counts_per_sensor.sum() / len(valid_counts_per_sensor)\n",
    "\n",
    "# Convert the Series to a DataFrame for plotting\n",
    "ratios_df = ratios.reset_index()\n",
    "ratios_df.columns = ['Sensordata', 'RatioOfNonMissingIDs']\n",
    "\n",
    "# Plot the ratios using Plotly Express\n",
    "fig = px.bar(\n",
    "    ratios_df,\n",
    "    x='Sensordata',\n",
    "    y='RatioOfNonMissingIDs',\n",
    ")\n",
    "\n",
    "# Update the y-axis to show the ratio as a percentage\n",
    "fig.update_yaxes(tickformat='.0%')\n",
    "fig.update_layout(yaxis_title='Integritet (%)', xaxis_title='Sensordata')\n",
    "\n",
    "# Show the plot\n",
    "fig.show()\n"
   ]
  },
  {
   "cell_type": "code",
   "execution_count": 73,
   "metadata": {},
   "outputs": [],
   "source": [
    "def merge_dt(df, date, time, name, sep=\" \"):\n",
    "    return df.assign(\n",
    "        **{\n",
    "            name: lambda d: pd.to_datetime(\n",
    "                d[date].astype(str) + sep + d[time].astype(str)\n",
    "            )\n",
    "        }\n",
    "    )\n",
    "dataf = dataf.pipe(merge_dt, date=\"DATE\", time=\"TIME\", name=\"DATETIME\")"
   ]
  },
  {
   "cell_type": "code",
   "execution_count": 173,
   "metadata": {},
   "outputs": [],
   "source": [
    "import pandas as pd\n",
    "\n",
    "def add_missing_timeslots(df: pd.DataFrame, freq: str = \"15T\") -> pd.DataFrame:\n",
    "    \"\"\"Adds the rows that are missing from the DataFrame, by comparing\n",
    "    it with a DataFrame containing all the timeslots.\"\"\"\n",
    "\n",
    "    results = []\n",
    "\n",
    "    # Filter out rows beyond the specified date\n",
    "    df_filtered = df[df[\"DATETIME\"] < pd.to_datetime(\"2023-03-01\", format=\"%Y-%m-%d\")]\n",
    "\n",
    "    # Iterate over each group by 'ID'\n",
    "    for id, group in df_filtered.groupby(\"ID\"):\n",
    "        # Remove duplicate timestamps within each group\n",
    "        group_unique = group.drop_duplicates(subset='DATETIME')\n",
    "\n",
    "        # Create a complete DataFrame of timeslots from min to max of the group\n",
    "        full_ts = pd.DataFrame(\n",
    "            {\n",
    "                \"DATETIME\": pd.date_range(\n",
    "                    start=group[\"DATETIME\"].min(), \n",
    "                    end=group[\"DATETIME\"].max(), \n",
    "                    freq=freq\n",
    "                )\n",
    "            }\n",
    "        )\n",
    "\n",
    "        # Calculate the ratio of the length of unique timestamps to the full timeslot length\n",
    "        ratio = len(group_unique) / len(full_ts)\n",
    "\n",
    "        # Append the results to the list\n",
    "        results.append({\n",
    "            \"full_len\": len(full_ts), \n",
    "            \"orig_len\": len(group_unique), \n",
    "            \"msg_ratio\": ratio, \n",
    "            \"id\": id, \n",
    "            \"skole\": group[\"SKOLE\"].iloc[0]\n",
    "        })\n",
    "\n",
    "    # Convert results to DataFrame before returning\n",
    "    return pd.DataFrame(results)\n"
   ]
  },
  {
   "cell_type": "code",
   "execution_count": 174,
   "metadata": {},
   "outputs": [],
   "source": [
    "ratios = add_missing_timeslots(dataf).sort_values(\"msg_ratio\", ascending=True)"
   ]
  },
  {
   "cell_type": "code",
   "execution_count": 175,
   "metadata": {},
   "outputs": [
    {
     "data": {
      "application/vnd.plotly.v1+json": {
       "config": {
        "plotlyServerURL": "https://plot.ly"
       },
       "data": [
        {
         "alignmentgroup": "True",
         "hovertemplate": "skole=%{x}<br>msg_ratio=%{y}<extra></extra>",
         "legendgroup": "",
         "marker": {
          "color": "#636efa",
          "pattern": {
           "shape": ""
          }
         },
         "name": "",
         "offsetgroup": "",
         "orientation": "v",
         "showlegend": false,
         "textposition": "auto",
         "type": "bar",
         "x": [
          "Rønbækskolen",
          "Strandskolen",
          "Thorsager Skole"
         ],
         "xaxis": "x",
         "y": [
          49.98500126797365,
          1.4561859878751582,
          0
         ],
         "yaxis": "y"
        }
       ],
       "layout": {
        "barmode": "relative",
        "legend": {
         "tracegroupgap": 0
        },
        "margin": {
         "t": 60
        },
        "template": {
         "data": {
          "bar": [
           {
            "error_x": {
             "color": "#2a3f5f"
            },
            "error_y": {
             "color": "#2a3f5f"
            },
            "marker": {
             "line": {
              "color": "#E5ECF6",
              "width": 0.5
             },
             "pattern": {
              "fillmode": "overlay",
              "size": 10,
              "solidity": 0.2
             }
            },
            "type": "bar"
           }
          ],
          "barpolar": [
           {
            "marker": {
             "line": {
              "color": "#E5ECF6",
              "width": 0.5
             },
             "pattern": {
              "fillmode": "overlay",
              "size": 10,
              "solidity": 0.2
             }
            },
            "type": "barpolar"
           }
          ],
          "carpet": [
           {
            "aaxis": {
             "endlinecolor": "#2a3f5f",
             "gridcolor": "white",
             "linecolor": "white",
             "minorgridcolor": "white",
             "startlinecolor": "#2a3f5f"
            },
            "baxis": {
             "endlinecolor": "#2a3f5f",
             "gridcolor": "white",
             "linecolor": "white",
             "minorgridcolor": "white",
             "startlinecolor": "#2a3f5f"
            },
            "type": "carpet"
           }
          ],
          "choropleth": [
           {
            "colorbar": {
             "outlinewidth": 0,
             "ticks": ""
            },
            "type": "choropleth"
           }
          ],
          "contour": [
           {
            "colorbar": {
             "outlinewidth": 0,
             "ticks": ""
            },
            "colorscale": [
             [
              0,
              "#0d0887"
             ],
             [
              0.1111111111111111,
              "#46039f"
             ],
             [
              0.2222222222222222,
              "#7201a8"
             ],
             [
              0.3333333333333333,
              "#9c179e"
             ],
             [
              0.4444444444444444,
              "#bd3786"
             ],
             [
              0.5555555555555556,
              "#d8576b"
             ],
             [
              0.6666666666666666,
              "#ed7953"
             ],
             [
              0.7777777777777778,
              "#fb9f3a"
             ],
             [
              0.8888888888888888,
              "#fdca26"
             ],
             [
              1,
              "#f0f921"
             ]
            ],
            "type": "contour"
           }
          ],
          "contourcarpet": [
           {
            "colorbar": {
             "outlinewidth": 0,
             "ticks": ""
            },
            "type": "contourcarpet"
           }
          ],
          "heatmap": [
           {
            "colorbar": {
             "outlinewidth": 0,
             "ticks": ""
            },
            "colorscale": [
             [
              0,
              "#0d0887"
             ],
             [
              0.1111111111111111,
              "#46039f"
             ],
             [
              0.2222222222222222,
              "#7201a8"
             ],
             [
              0.3333333333333333,
              "#9c179e"
             ],
             [
              0.4444444444444444,
              "#bd3786"
             ],
             [
              0.5555555555555556,
              "#d8576b"
             ],
             [
              0.6666666666666666,
              "#ed7953"
             ],
             [
              0.7777777777777778,
              "#fb9f3a"
             ],
             [
              0.8888888888888888,
              "#fdca26"
             ],
             [
              1,
              "#f0f921"
             ]
            ],
            "type": "heatmap"
           }
          ],
          "heatmapgl": [
           {
            "colorbar": {
             "outlinewidth": 0,
             "ticks": ""
            },
            "colorscale": [
             [
              0,
              "#0d0887"
             ],
             [
              0.1111111111111111,
              "#46039f"
             ],
             [
              0.2222222222222222,
              "#7201a8"
             ],
             [
              0.3333333333333333,
              "#9c179e"
             ],
             [
              0.4444444444444444,
              "#bd3786"
             ],
             [
              0.5555555555555556,
              "#d8576b"
             ],
             [
              0.6666666666666666,
              "#ed7953"
             ],
             [
              0.7777777777777778,
              "#fb9f3a"
             ],
             [
              0.8888888888888888,
              "#fdca26"
             ],
             [
              1,
              "#f0f921"
             ]
            ],
            "type": "heatmapgl"
           }
          ],
          "histogram": [
           {
            "marker": {
             "pattern": {
              "fillmode": "overlay",
              "size": 10,
              "solidity": 0.2
             }
            },
            "type": "histogram"
           }
          ],
          "histogram2d": [
           {
            "colorbar": {
             "outlinewidth": 0,
             "ticks": ""
            },
            "colorscale": [
             [
              0,
              "#0d0887"
             ],
             [
              0.1111111111111111,
              "#46039f"
             ],
             [
              0.2222222222222222,
              "#7201a8"
             ],
             [
              0.3333333333333333,
              "#9c179e"
             ],
             [
              0.4444444444444444,
              "#bd3786"
             ],
             [
              0.5555555555555556,
              "#d8576b"
             ],
             [
              0.6666666666666666,
              "#ed7953"
             ],
             [
              0.7777777777777778,
              "#fb9f3a"
             ],
             [
              0.8888888888888888,
              "#fdca26"
             ],
             [
              1,
              "#f0f921"
             ]
            ],
            "type": "histogram2d"
           }
          ],
          "histogram2dcontour": [
           {
            "colorbar": {
             "outlinewidth": 0,
             "ticks": ""
            },
            "colorscale": [
             [
              0,
              "#0d0887"
             ],
             [
              0.1111111111111111,
              "#46039f"
             ],
             [
              0.2222222222222222,
              "#7201a8"
             ],
             [
              0.3333333333333333,
              "#9c179e"
             ],
             [
              0.4444444444444444,
              "#bd3786"
             ],
             [
              0.5555555555555556,
              "#d8576b"
             ],
             [
              0.6666666666666666,
              "#ed7953"
             ],
             [
              0.7777777777777778,
              "#fb9f3a"
             ],
             [
              0.8888888888888888,
              "#fdca26"
             ],
             [
              1,
              "#f0f921"
             ]
            ],
            "type": "histogram2dcontour"
           }
          ],
          "mesh3d": [
           {
            "colorbar": {
             "outlinewidth": 0,
             "ticks": ""
            },
            "type": "mesh3d"
           }
          ],
          "parcoords": [
           {
            "line": {
             "colorbar": {
              "outlinewidth": 0,
              "ticks": ""
             }
            },
            "type": "parcoords"
           }
          ],
          "pie": [
           {
            "automargin": true,
            "type": "pie"
           }
          ],
          "scatter": [
           {
            "fillpattern": {
             "fillmode": "overlay",
             "size": 10,
             "solidity": 0.2
            },
            "type": "scatter"
           }
          ],
          "scatter3d": [
           {
            "line": {
             "colorbar": {
              "outlinewidth": 0,
              "ticks": ""
             }
            },
            "marker": {
             "colorbar": {
              "outlinewidth": 0,
              "ticks": ""
             }
            },
            "type": "scatter3d"
           }
          ],
          "scattercarpet": [
           {
            "marker": {
             "colorbar": {
              "outlinewidth": 0,
              "ticks": ""
             }
            },
            "type": "scattercarpet"
           }
          ],
          "scattergeo": [
           {
            "marker": {
             "colorbar": {
              "outlinewidth": 0,
              "ticks": ""
             }
            },
            "type": "scattergeo"
           }
          ],
          "scattergl": [
           {
            "marker": {
             "colorbar": {
              "outlinewidth": 0,
              "ticks": ""
             }
            },
            "type": "scattergl"
           }
          ],
          "scattermapbox": [
           {
            "marker": {
             "colorbar": {
              "outlinewidth": 0,
              "ticks": ""
             }
            },
            "type": "scattermapbox"
           }
          ],
          "scatterpolar": [
           {
            "marker": {
             "colorbar": {
              "outlinewidth": 0,
              "ticks": ""
             }
            },
            "type": "scatterpolar"
           }
          ],
          "scatterpolargl": [
           {
            "marker": {
             "colorbar": {
              "outlinewidth": 0,
              "ticks": ""
             }
            },
            "type": "scatterpolargl"
           }
          ],
          "scatterternary": [
           {
            "marker": {
             "colorbar": {
              "outlinewidth": 0,
              "ticks": ""
             }
            },
            "type": "scatterternary"
           }
          ],
          "surface": [
           {
            "colorbar": {
             "outlinewidth": 0,
             "ticks": ""
            },
            "colorscale": [
             [
              0,
              "#0d0887"
             ],
             [
              0.1111111111111111,
              "#46039f"
             ],
             [
              0.2222222222222222,
              "#7201a8"
             ],
             [
              0.3333333333333333,
              "#9c179e"
             ],
             [
              0.4444444444444444,
              "#bd3786"
             ],
             [
              0.5555555555555556,
              "#d8576b"
             ],
             [
              0.6666666666666666,
              "#ed7953"
             ],
             [
              0.7777777777777778,
              "#fb9f3a"
             ],
             [
              0.8888888888888888,
              "#fdca26"
             ],
             [
              1,
              "#f0f921"
             ]
            ],
            "type": "surface"
           }
          ],
          "table": [
           {
            "cells": {
             "fill": {
              "color": "#EBF0F8"
             },
             "line": {
              "color": "white"
             }
            },
            "header": {
             "fill": {
              "color": "#C8D4E3"
             },
             "line": {
              "color": "white"
             }
            },
            "type": "table"
           }
          ]
         },
         "layout": {
          "annotationdefaults": {
           "arrowcolor": "#2a3f5f",
           "arrowhead": 0,
           "arrowwidth": 1
          },
          "autotypenumbers": "strict",
          "coloraxis": {
           "colorbar": {
            "outlinewidth": 0,
            "ticks": ""
           }
          },
          "colorscale": {
           "diverging": [
            [
             0,
             "#8e0152"
            ],
            [
             0.1,
             "#c51b7d"
            ],
            [
             0.2,
             "#de77ae"
            ],
            [
             0.3,
             "#f1b6da"
            ],
            [
             0.4,
             "#fde0ef"
            ],
            [
             0.5,
             "#f7f7f7"
            ],
            [
             0.6,
             "#e6f5d0"
            ],
            [
             0.7,
             "#b8e186"
            ],
            [
             0.8,
             "#7fbc41"
            ],
            [
             0.9,
             "#4d9221"
            ],
            [
             1,
             "#276419"
            ]
           ],
           "sequential": [
            [
             0,
             "#0d0887"
            ],
            [
             0.1111111111111111,
             "#46039f"
            ],
            [
             0.2222222222222222,
             "#7201a8"
            ],
            [
             0.3333333333333333,
             "#9c179e"
            ],
            [
             0.4444444444444444,
             "#bd3786"
            ],
            [
             0.5555555555555556,
             "#d8576b"
            ],
            [
             0.6666666666666666,
             "#ed7953"
            ],
            [
             0.7777777777777778,
             "#fb9f3a"
            ],
            [
             0.8888888888888888,
             "#fdca26"
            ],
            [
             1,
             "#f0f921"
            ]
           ],
           "sequentialminus": [
            [
             0,
             "#0d0887"
            ],
            [
             0.1111111111111111,
             "#46039f"
            ],
            [
             0.2222222222222222,
             "#7201a8"
            ],
            [
             0.3333333333333333,
             "#9c179e"
            ],
            [
             0.4444444444444444,
             "#bd3786"
            ],
            [
             0.5555555555555556,
             "#d8576b"
            ],
            [
             0.6666666666666666,
             "#ed7953"
            ],
            [
             0.7777777777777778,
             "#fb9f3a"
            ],
            [
             0.8888888888888888,
             "#fdca26"
            ],
            [
             1,
             "#f0f921"
            ]
           ]
          },
          "colorway": [
           "#636efa",
           "#EF553B",
           "#00cc96",
           "#ab63fa",
           "#FFA15A",
           "#19d3f3",
           "#FF6692",
           "#B6E880",
           "#FF97FF",
           "#FECB52"
          ],
          "font": {
           "color": "#2a3f5f"
          },
          "geo": {
           "bgcolor": "white",
           "lakecolor": "white",
           "landcolor": "#E5ECF6",
           "showlakes": true,
           "showland": true,
           "subunitcolor": "white"
          },
          "hoverlabel": {
           "align": "left"
          },
          "hovermode": "closest",
          "mapbox": {
           "style": "light"
          },
          "paper_bgcolor": "white",
          "plot_bgcolor": "#E5ECF6",
          "polar": {
           "angularaxis": {
            "gridcolor": "white",
            "linecolor": "white",
            "ticks": ""
           },
           "bgcolor": "#E5ECF6",
           "radialaxis": {
            "gridcolor": "white",
            "linecolor": "white",
            "ticks": ""
           }
          },
          "scene": {
           "xaxis": {
            "backgroundcolor": "#E5ECF6",
            "gridcolor": "white",
            "gridwidth": 2,
            "linecolor": "white",
            "showbackground": true,
            "ticks": "",
            "zerolinecolor": "white"
           },
           "yaxis": {
            "backgroundcolor": "#E5ECF6",
            "gridcolor": "white",
            "gridwidth": 2,
            "linecolor": "white",
            "showbackground": true,
            "ticks": "",
            "zerolinecolor": "white"
           },
           "zaxis": {
            "backgroundcolor": "#E5ECF6",
            "gridcolor": "white",
            "gridwidth": 2,
            "linecolor": "white",
            "showbackground": true,
            "ticks": "",
            "zerolinecolor": "white"
           }
          },
          "shapedefaults": {
           "line": {
            "color": "#2a3f5f"
           }
          },
          "ternary": {
           "aaxis": {
            "gridcolor": "white",
            "linecolor": "white",
            "ticks": ""
           },
           "baxis": {
            "gridcolor": "white",
            "linecolor": "white",
            "ticks": ""
           },
           "bgcolor": "#E5ECF6",
           "caxis": {
            "gridcolor": "white",
            "linecolor": "white",
            "ticks": ""
           }
          },
          "title": {
           "x": 0.05
          },
          "xaxis": {
           "automargin": true,
           "gridcolor": "white",
           "linecolor": "white",
           "ticks": "",
           "title": {
            "standoff": 15
           },
           "zerolinecolor": "white",
           "zerolinewidth": 2
          },
          "yaxis": {
           "automargin": true,
           "gridcolor": "white",
           "linecolor": "white",
           "ticks": "",
           "title": {
            "standoff": 15
           },
           "zerolinecolor": "white",
           "zerolinewidth": 2
          }
         }
        },
        "xaxis": {
         "anchor": "y",
         "domain": [
          0,
          1
         ],
         "title": {
          "text": "Skole"
         }
        },
        "yaxis": {
         "anchor": "x",
         "domain": [
          0,
          1
         ],
         "range": [
          0,
          100
         ],
         "ticksuffix": "%",
         "title": {
          "text": "Manglende tidsintervaller (%)"
         }
        }
       }
      },
      "text/html": [
       "<div>                            <div id=\"5941ede4-00f5-4fbd-be67-b6922ece347f\" class=\"plotly-graph-div\" style=\"height:525px; width:100%;\"></div>            <script type=\"text/javascript\">                require([\"plotly\"], function(Plotly) {                    window.PLOTLYENV=window.PLOTLYENV || {};                                    if (document.getElementById(\"5941ede4-00f5-4fbd-be67-b6922ece347f\")) {                    Plotly.newPlot(                        \"5941ede4-00f5-4fbd-be67-b6922ece347f\",                        [{\"alignmentgroup\":\"True\",\"hovertemplate\":\"skole=%{x}\\u003cbr\\u003emsg_ratio=%{y}\\u003cextra\\u003e\\u003c\\u002fextra\\u003e\",\"legendgroup\":\"\",\"marker\":{\"color\":\"#636efa\",\"pattern\":{\"shape\":\"\"}},\"name\":\"\",\"offsetgroup\":\"\",\"orientation\":\"v\",\"showlegend\":false,\"textposition\":\"auto\",\"x\":[\"R\\u00f8nb\\u00e6kskolen\",\"Strandskolen\",\"Thorsager Skole\"],\"xaxis\":\"x\",\"y\":[49.98500126797365,1.4561859878751582,0.0],\"yaxis\":\"y\",\"type\":\"bar\"}],                        {\"template\":{\"data\":{\"histogram2dcontour\":[{\"type\":\"histogram2dcontour\",\"colorbar\":{\"outlinewidth\":0,\"ticks\":\"\"},\"colorscale\":[[0.0,\"#0d0887\"],[0.1111111111111111,\"#46039f\"],[0.2222222222222222,\"#7201a8\"],[0.3333333333333333,\"#9c179e\"],[0.4444444444444444,\"#bd3786\"],[0.5555555555555556,\"#d8576b\"],[0.6666666666666666,\"#ed7953\"],[0.7777777777777778,\"#fb9f3a\"],[0.8888888888888888,\"#fdca26\"],[1.0,\"#f0f921\"]]}],\"choropleth\":[{\"type\":\"choropleth\",\"colorbar\":{\"outlinewidth\":0,\"ticks\":\"\"}}],\"histogram2d\":[{\"type\":\"histogram2d\",\"colorbar\":{\"outlinewidth\":0,\"ticks\":\"\"},\"colorscale\":[[0.0,\"#0d0887\"],[0.1111111111111111,\"#46039f\"],[0.2222222222222222,\"#7201a8\"],[0.3333333333333333,\"#9c179e\"],[0.4444444444444444,\"#bd3786\"],[0.5555555555555556,\"#d8576b\"],[0.6666666666666666,\"#ed7953\"],[0.7777777777777778,\"#fb9f3a\"],[0.8888888888888888,\"#fdca26\"],[1.0,\"#f0f921\"]]}],\"heatmap\":[{\"type\":\"heatmap\",\"colorbar\":{\"outlinewidth\":0,\"ticks\":\"\"},\"colorscale\":[[0.0,\"#0d0887\"],[0.1111111111111111,\"#46039f\"],[0.2222222222222222,\"#7201a8\"],[0.3333333333333333,\"#9c179e\"],[0.4444444444444444,\"#bd3786\"],[0.5555555555555556,\"#d8576b\"],[0.6666666666666666,\"#ed7953\"],[0.7777777777777778,\"#fb9f3a\"],[0.8888888888888888,\"#fdca26\"],[1.0,\"#f0f921\"]]}],\"heatmapgl\":[{\"type\":\"heatmapgl\",\"colorbar\":{\"outlinewidth\":0,\"ticks\":\"\"},\"colorscale\":[[0.0,\"#0d0887\"],[0.1111111111111111,\"#46039f\"],[0.2222222222222222,\"#7201a8\"],[0.3333333333333333,\"#9c179e\"],[0.4444444444444444,\"#bd3786\"],[0.5555555555555556,\"#d8576b\"],[0.6666666666666666,\"#ed7953\"],[0.7777777777777778,\"#fb9f3a\"],[0.8888888888888888,\"#fdca26\"],[1.0,\"#f0f921\"]]}],\"contourcarpet\":[{\"type\":\"contourcarpet\",\"colorbar\":{\"outlinewidth\":0,\"ticks\":\"\"}}],\"contour\":[{\"type\":\"contour\",\"colorbar\":{\"outlinewidth\":0,\"ticks\":\"\"},\"colorscale\":[[0.0,\"#0d0887\"],[0.1111111111111111,\"#46039f\"],[0.2222222222222222,\"#7201a8\"],[0.3333333333333333,\"#9c179e\"],[0.4444444444444444,\"#bd3786\"],[0.5555555555555556,\"#d8576b\"],[0.6666666666666666,\"#ed7953\"],[0.7777777777777778,\"#fb9f3a\"],[0.8888888888888888,\"#fdca26\"],[1.0,\"#f0f921\"]]}],\"surface\":[{\"type\":\"surface\",\"colorbar\":{\"outlinewidth\":0,\"ticks\":\"\"},\"colorscale\":[[0.0,\"#0d0887\"],[0.1111111111111111,\"#46039f\"],[0.2222222222222222,\"#7201a8\"],[0.3333333333333333,\"#9c179e\"],[0.4444444444444444,\"#bd3786\"],[0.5555555555555556,\"#d8576b\"],[0.6666666666666666,\"#ed7953\"],[0.7777777777777778,\"#fb9f3a\"],[0.8888888888888888,\"#fdca26\"],[1.0,\"#f0f921\"]]}],\"mesh3d\":[{\"type\":\"mesh3d\",\"colorbar\":{\"outlinewidth\":0,\"ticks\":\"\"}}],\"scatter\":[{\"fillpattern\":{\"fillmode\":\"overlay\",\"size\":10,\"solidity\":0.2},\"type\":\"scatter\"}],\"parcoords\":[{\"type\":\"parcoords\",\"line\":{\"colorbar\":{\"outlinewidth\":0,\"ticks\":\"\"}}}],\"scatterpolargl\":[{\"type\":\"scatterpolargl\",\"marker\":{\"colorbar\":{\"outlinewidth\":0,\"ticks\":\"\"}}}],\"bar\":[{\"error_x\":{\"color\":\"#2a3f5f\"},\"error_y\":{\"color\":\"#2a3f5f\"},\"marker\":{\"line\":{\"color\":\"#E5ECF6\",\"width\":0.5},\"pattern\":{\"fillmode\":\"overlay\",\"size\":10,\"solidity\":0.2}},\"type\":\"bar\"}],\"scattergeo\":[{\"type\":\"scattergeo\",\"marker\":{\"colorbar\":{\"outlinewidth\":0,\"ticks\":\"\"}}}],\"scatterpolar\":[{\"type\":\"scatterpolar\",\"marker\":{\"colorbar\":{\"outlinewidth\":0,\"ticks\":\"\"}}}],\"histogram\":[{\"marker\":{\"pattern\":{\"fillmode\":\"overlay\",\"size\":10,\"solidity\":0.2}},\"type\":\"histogram\"}],\"scattergl\":[{\"type\":\"scattergl\",\"marker\":{\"colorbar\":{\"outlinewidth\":0,\"ticks\":\"\"}}}],\"scatter3d\":[{\"type\":\"scatter3d\",\"line\":{\"colorbar\":{\"outlinewidth\":0,\"ticks\":\"\"}},\"marker\":{\"colorbar\":{\"outlinewidth\":0,\"ticks\":\"\"}}}],\"scattermapbox\":[{\"type\":\"scattermapbox\",\"marker\":{\"colorbar\":{\"outlinewidth\":0,\"ticks\":\"\"}}}],\"scatterternary\":[{\"type\":\"scatterternary\",\"marker\":{\"colorbar\":{\"outlinewidth\":0,\"ticks\":\"\"}}}],\"scattercarpet\":[{\"type\":\"scattercarpet\",\"marker\":{\"colorbar\":{\"outlinewidth\":0,\"ticks\":\"\"}}}],\"carpet\":[{\"aaxis\":{\"endlinecolor\":\"#2a3f5f\",\"gridcolor\":\"white\",\"linecolor\":\"white\",\"minorgridcolor\":\"white\",\"startlinecolor\":\"#2a3f5f\"},\"baxis\":{\"endlinecolor\":\"#2a3f5f\",\"gridcolor\":\"white\",\"linecolor\":\"white\",\"minorgridcolor\":\"white\",\"startlinecolor\":\"#2a3f5f\"},\"type\":\"carpet\"}],\"table\":[{\"cells\":{\"fill\":{\"color\":\"#EBF0F8\"},\"line\":{\"color\":\"white\"}},\"header\":{\"fill\":{\"color\":\"#C8D4E3\"},\"line\":{\"color\":\"white\"}},\"type\":\"table\"}],\"barpolar\":[{\"marker\":{\"line\":{\"color\":\"#E5ECF6\",\"width\":0.5},\"pattern\":{\"fillmode\":\"overlay\",\"size\":10,\"solidity\":0.2}},\"type\":\"barpolar\"}],\"pie\":[{\"automargin\":true,\"type\":\"pie\"}]},\"layout\":{\"autotypenumbers\":\"strict\",\"colorway\":[\"#636efa\",\"#EF553B\",\"#00cc96\",\"#ab63fa\",\"#FFA15A\",\"#19d3f3\",\"#FF6692\",\"#B6E880\",\"#FF97FF\",\"#FECB52\"],\"font\":{\"color\":\"#2a3f5f\"},\"hovermode\":\"closest\",\"hoverlabel\":{\"align\":\"left\"},\"paper_bgcolor\":\"white\",\"plot_bgcolor\":\"#E5ECF6\",\"polar\":{\"bgcolor\":\"#E5ECF6\",\"angularaxis\":{\"gridcolor\":\"white\",\"linecolor\":\"white\",\"ticks\":\"\"},\"radialaxis\":{\"gridcolor\":\"white\",\"linecolor\":\"white\",\"ticks\":\"\"}},\"ternary\":{\"bgcolor\":\"#E5ECF6\",\"aaxis\":{\"gridcolor\":\"white\",\"linecolor\":\"white\",\"ticks\":\"\"},\"baxis\":{\"gridcolor\":\"white\",\"linecolor\":\"white\",\"ticks\":\"\"},\"caxis\":{\"gridcolor\":\"white\",\"linecolor\":\"white\",\"ticks\":\"\"}},\"coloraxis\":{\"colorbar\":{\"outlinewidth\":0,\"ticks\":\"\"}},\"colorscale\":{\"sequential\":[[0.0,\"#0d0887\"],[0.1111111111111111,\"#46039f\"],[0.2222222222222222,\"#7201a8\"],[0.3333333333333333,\"#9c179e\"],[0.4444444444444444,\"#bd3786\"],[0.5555555555555556,\"#d8576b\"],[0.6666666666666666,\"#ed7953\"],[0.7777777777777778,\"#fb9f3a\"],[0.8888888888888888,\"#fdca26\"],[1.0,\"#f0f921\"]],\"sequentialminus\":[[0.0,\"#0d0887\"],[0.1111111111111111,\"#46039f\"],[0.2222222222222222,\"#7201a8\"],[0.3333333333333333,\"#9c179e\"],[0.4444444444444444,\"#bd3786\"],[0.5555555555555556,\"#d8576b\"],[0.6666666666666666,\"#ed7953\"],[0.7777777777777778,\"#fb9f3a\"],[0.8888888888888888,\"#fdca26\"],[1.0,\"#f0f921\"]],\"diverging\":[[0,\"#8e0152\"],[0.1,\"#c51b7d\"],[0.2,\"#de77ae\"],[0.3,\"#f1b6da\"],[0.4,\"#fde0ef\"],[0.5,\"#f7f7f7\"],[0.6,\"#e6f5d0\"],[0.7,\"#b8e186\"],[0.8,\"#7fbc41\"],[0.9,\"#4d9221\"],[1,\"#276419\"]]},\"xaxis\":{\"gridcolor\":\"white\",\"linecolor\":\"white\",\"ticks\":\"\",\"title\":{\"standoff\":15},\"zerolinecolor\":\"white\",\"automargin\":true,\"zerolinewidth\":2},\"yaxis\":{\"gridcolor\":\"white\",\"linecolor\":\"white\",\"ticks\":\"\",\"title\":{\"standoff\":15},\"zerolinecolor\":\"white\",\"automargin\":true,\"zerolinewidth\":2},\"scene\":{\"xaxis\":{\"backgroundcolor\":\"#E5ECF6\",\"gridcolor\":\"white\",\"linecolor\":\"white\",\"showbackground\":true,\"ticks\":\"\",\"zerolinecolor\":\"white\",\"gridwidth\":2},\"yaxis\":{\"backgroundcolor\":\"#E5ECF6\",\"gridcolor\":\"white\",\"linecolor\":\"white\",\"showbackground\":true,\"ticks\":\"\",\"zerolinecolor\":\"white\",\"gridwidth\":2},\"zaxis\":{\"backgroundcolor\":\"#E5ECF6\",\"gridcolor\":\"white\",\"linecolor\":\"white\",\"showbackground\":true,\"ticks\":\"\",\"zerolinecolor\":\"white\",\"gridwidth\":2}},\"shapedefaults\":{\"line\":{\"color\":\"#2a3f5f\"}},\"annotationdefaults\":{\"arrowcolor\":\"#2a3f5f\",\"arrowhead\":0,\"arrowwidth\":1},\"geo\":{\"bgcolor\":\"white\",\"landcolor\":\"#E5ECF6\",\"subunitcolor\":\"white\",\"showland\":true,\"showlakes\":true,\"lakecolor\":\"white\"},\"title\":{\"x\":0.05},\"mapbox\":{\"style\":\"light\"}}},\"xaxis\":{\"anchor\":\"y\",\"domain\":[0.0,1.0],\"title\":{\"text\":\"Skole\"}},\"yaxis\":{\"anchor\":\"x\",\"domain\":[0.0,1.0],\"title\":{\"text\":\"Manglende tidsintervaller (%)\"},\"range\":[0,100],\"ticksuffix\":\"%\"},\"legend\":{\"tracegroupgap\":0},\"margin\":{\"t\":60},\"barmode\":\"relative\"},                        {\"responsive\": true}                    ).then(function(){\n",
       "                            \n",
       "var gd = document.getElementById('5941ede4-00f5-4fbd-be67-b6922ece347f');\n",
       "var x = new MutationObserver(function (mutations, observer) {{\n",
       "        var display = window.getComputedStyle(gd).display;\n",
       "        if (!display || display === 'none') {{\n",
       "            console.log([gd, 'removed!']);\n",
       "            Plotly.purge(gd);\n",
       "            observer.disconnect();\n",
       "        }}\n",
       "}});\n",
       "\n",
       "// Listen for the removal of the full notebook cells\n",
       "var notebookContainer = gd.closest('#notebook-container');\n",
       "if (notebookContainer) {{\n",
       "    x.observe(notebookContainer, {childList: true});\n",
       "}}\n",
       "\n",
       "// Listen for the clearing of the current output cell\n",
       "var outputEl = gd.closest('.output');\n",
       "if (outputEl) {{\n",
       "    x.observe(outputEl, {childList: true});\n",
       "}}\n",
       "\n",
       "                        })                };                });            </script>        </div>"
      ]
     },
     "metadata": {},
     "output_type": "display_data"
    }
   ],
   "source": [
    "fig = (\n",
    "    ratios\n",
    "    .sort_values(\"msg_ratio\")\n",
    "    .groupby(\"skole\")\n",
    "    .agg({\"msg_ratio\": \"mean\"})\n",
    "    .sort_values(\"msg_ratio\")\n",
    "    .reset_index()\n",
    "    .assign(msg_ratio=lambda d: (1 - d[\"msg_ratio\"]) * 100)\n",
    "    .plot(\n",
    "        kind=\"bar\",\n",
    "        x=\"skole\",\n",
    "        y=\"msg_ratio\",\n",
    "        # y range\n",
    "        range_y=(0, 100),\n",
    "    )\n",
    ")\n",
    "fig.update_layout(yaxis_title='Manglende tidsintervaller (%)', xaxis_title='Skole')\n",
    "# # set percentage tick suffix\n",
    "fig.update_yaxes(ticksuffix=\"%\")"
   ]
  },
  {
   "cell_type": "code",
   "execution_count": 176,
   "metadata": {},
   "outputs": [
    {
     "data": {
      "text/html": [
       "<div>\n",
       "<style scoped>\n",
       "    .dataframe tbody tr th:only-of-type {\n",
       "        vertical-align: middle;\n",
       "    }\n",
       "\n",
       "    .dataframe tbody tr th {\n",
       "        vertical-align: top;\n",
       "    }\n",
       "\n",
       "    .dataframe thead th {\n",
       "        text-align: right;\n",
       "    }\n",
       "</style>\n",
       "<table border=\"1\" class=\"dataframe\">\n",
       "  <thead>\n",
       "    <tr style=\"text-align: right;\">\n",
       "      <th></th>\n",
       "      <th>full_len</th>\n",
       "      <th>orig_len</th>\n",
       "      <th>msg_ratio</th>\n",
       "      <th>id</th>\n",
       "      <th>skole</th>\n",
       "    </tr>\n",
       "  </thead>\n",
       "  <tbody>\n",
       "    <tr>\n",
       "      <th>67</th>\n",
       "      <td>3335</td>\n",
       "      <td>1668</td>\n",
       "      <td>0.50015</td>\n",
       "      <td>D.19</td>\n",
       "      <td>Rønbækskolen</td>\n",
       "    </tr>\n",
       "    <tr>\n",
       "      <th>68</th>\n",
       "      <td>3335</td>\n",
       "      <td>1668</td>\n",
       "      <td>0.50015</td>\n",
       "      <td>D.23</td>\n",
       "      <td>Rønbækskolen</td>\n",
       "    </tr>\n",
       "    <tr>\n",
       "      <th>71</th>\n",
       "      <td>3335</td>\n",
       "      <td>1668</td>\n",
       "      <td>0.50015</td>\n",
       "      <td>D.31</td>\n",
       "      <td>Rønbækskolen</td>\n",
       "    </tr>\n",
       "    <tr>\n",
       "      <th>69</th>\n",
       "      <td>3335</td>\n",
       "      <td>1668</td>\n",
       "      <td>0.50015</td>\n",
       "      <td>D.29</td>\n",
       "      <td>Rønbækskolen</td>\n",
       "    </tr>\n",
       "    <tr>\n",
       "      <th>64</th>\n",
       "      <td>3333</td>\n",
       "      <td>1667</td>\n",
       "      <td>0.50015</td>\n",
       "      <td>D.09</td>\n",
       "      <td>Rønbækskolen</td>\n",
       "    </tr>\n",
       "    <tr>\n",
       "      <th>...</th>\n",
       "      <td>...</td>\n",
       "      <td>...</td>\n",
       "      <td>...</td>\n",
       "      <td>...</td>\n",
       "      <td>...</td>\n",
       "    </tr>\n",
       "    <tr>\n",
       "      <th>45</th>\n",
       "      <td>17280</td>\n",
       "      <td>17280</td>\n",
       "      <td>1.00000</td>\n",
       "      <td>12.1.002</td>\n",
       "      <td>Thorsager Skole</td>\n",
       "    </tr>\n",
       "    <tr>\n",
       "      <th>52</th>\n",
       "      <td>17280</td>\n",
       "      <td>17280</td>\n",
       "      <td>1.00000</td>\n",
       "      <td>2.0.008</td>\n",
       "      <td>Thorsager Skole</td>\n",
       "    </tr>\n",
       "    <tr>\n",
       "      <th>53</th>\n",
       "      <td>17280</td>\n",
       "      <td>17280</td>\n",
       "      <td>1.00000</td>\n",
       "      <td>4.0.001</td>\n",
       "      <td>Thorsager Skole</td>\n",
       "    </tr>\n",
       "    <tr>\n",
       "      <th>54</th>\n",
       "      <td>17280</td>\n",
       "      <td>17280</td>\n",
       "      <td>1.00000</td>\n",
       "      <td>4.0.009</td>\n",
       "      <td>Thorsager Skole</td>\n",
       "    </tr>\n",
       "    <tr>\n",
       "      <th>46</th>\n",
       "      <td>17280</td>\n",
       "      <td>17280</td>\n",
       "      <td>1.00000</td>\n",
       "      <td>12.1.003</td>\n",
       "      <td>Thorsager Skole</td>\n",
       "    </tr>\n",
       "  </tbody>\n",
       "</table>\n",
       "<p>73 rows × 5 columns</p>\n",
       "</div>"
      ],
      "text/plain": [
       "    full_len  orig_len  msg_ratio        id            skole\n",
       "67      3335      1668    0.50015      D.19     Rønbækskolen\n",
       "68      3335      1668    0.50015      D.23     Rønbækskolen\n",
       "71      3335      1668    0.50015      D.31     Rønbækskolen\n",
       "69      3335      1668    0.50015      D.29     Rønbækskolen\n",
       "64      3333      1667    0.50015      D.09     Rønbækskolen\n",
       "..       ...       ...        ...       ...              ...\n",
       "45     17280     17280    1.00000  12.1.002  Thorsager Skole\n",
       "52     17280     17280    1.00000   2.0.008  Thorsager Skole\n",
       "53     17280     17280    1.00000   4.0.001  Thorsager Skole\n",
       "54     17280     17280    1.00000   4.0.009  Thorsager Skole\n",
       "46     17280     17280    1.00000  12.1.003  Thorsager Skole\n",
       "\n",
       "[73 rows x 5 columns]"
      ]
     },
     "execution_count": 176,
     "metadata": {},
     "output_type": "execute_result"
    }
   ],
   "source": [
    "ratios.sort_values(\"msg_ratio\", ascending=True)"
   ]
  },
  {
   "cell_type": "code",
   "execution_count": 123,
   "metadata": {},
   "outputs": [
    {
     "data": {
      "text/plain": [
       "['Strandskolen_07.S.20']"
      ]
     },
     "execution_count": 123,
     "metadata": {},
     "output_type": "execute_result"
    }
   ],
   "source": [
    "[k for k in data.keys() if k.endswith(\"07.S.20\")]"
   ]
  },
  {
   "cell_type": "code",
   "execution_count": 179,
   "metadata": {},
   "outputs": [],
   "source": [
    "from random import choice"
   ]
  },
  {
   "cell_type": "code",
   "execution_count": 180,
   "metadata": {},
   "outputs": [],
   "source": [
    "rb = [k for k in data.keys() if k.startswith(\"Røn\")]"
   ]
  },
  {
   "cell_type": "code",
   "execution_count": 198,
   "metadata": {},
   "outputs": [
    {
     "name": "stdout",
     "output_type": "stream",
     "text": [
      "Rønbækskolen_B.26\n"
     ]
    },
    {
     "data": {
      "application/vnd.plotly.v1+json": {
       "config": {
        "plotlyServerURL": "https://plot.ly"
       },
       "data": [
        {
         "alignmentgroup": "True",
         "hovertemplate": "DATETIME=%{x}<br>CO2=%{y}<extra></extra>",
         "legendgroup": "",
         "marker": {
          "color": "#636efa",
          "line": {
           "width": 0
          },
          "pattern": {
           "shape": ""
          }
         },
         "name": "",
         "offsetgroup": "",
         "orientation": "v",
         "showlegend": false,
         "textposition": "auto",
         "type": "bar",
         "x": [
          "2023-09-25T17:45:00",
          "2023-09-29T02:30:00",
          "2023-10-03T07:00:00",
          "2023-09-22T02:30:00",
          "2023-09-23T11:45:00",
          "2023-09-27T18:45:00",
          "2023-10-07T13:15:00",
          "2023-09-26T18:30:00",
          "2023-10-04T15:30:00",
          "2023-09-26T01:30:00",
          "2023-10-04T19:45:00",
          "2023-09-22T02:00:00",
          "2023-09-24T19:15:00",
          "2023-09-22T08:15:00",
          "2023-09-22T09:00:00",
          "2023-09-25T08:00:00",
          "2023-10-02T17:15:00",
          "2023-10-02T02:30:00",
          "2023-10-04T20:00:00",
          "2023-09-26T11:30:00",
          "2023-10-02T16:00:00",
          "2023-09-29T18:30:00",
          "2023-09-23T14:30:00",
          "2023-09-28T15:30:00",
          "2023-09-26T01:00:00",
          "2023-10-03T00:15:00",
          "2023-10-07T12:45:00",
          "2023-10-03T21:45:00",
          "2023-09-28T06:00:00",
          "2023-09-25T23:45:00",
          "2023-10-11T08:15:00",
          "2023-09-25T10:00:00",
          "2023-09-26T08:00:00",
          "2023-10-03T14:45:00",
          "2023-10-04T14:00:00",
          "2023-09-23T02:45:00",
          "2023-10-09T11:00:00",
          "2023-09-28T19:15:00",
          "2023-10-09T08:00:00",
          "2023-09-29T14:00:00",
          "2023-09-26T16:00:00",
          "2023-09-29T10:15:00",
          "2023-09-27T14:15:00",
          "2023-09-27T17:00:00",
          "2023-10-03T10:15:00",
          "2023-10-07T14:30:00",
          "2023-10-03T23:45:00",
          "2023-10-03T01:00:00",
          "2023-10-07T02:30:00",
          "2023-09-27T10:45:00",
          "2023-10-04T19:30:00",
          "2023-10-01T12:30:00",
          "2023-09-22T10:30:00",
          "2023-09-22T18:00:00",
          "2023-10-07T01:00:00",
          "2023-10-11T00:00:00",
          "2023-09-22T16:30:00",
          "2023-09-27T23:00:00",
          "2023-09-28T18:15:00",
          "2023-09-22T13:00:00",
          "2023-09-30T06:15:00",
          "2023-09-27T14:45:00",
          "2023-10-04T01:15:00",
          "2023-09-25T21:15:00",
          "2023-10-02T03:30:00",
          "2023-10-05T13:30:00",
          "2023-10-03T20:45:00",
          "2023-09-22T18:45:00",
          "2023-10-02T07:00:00",
          "2023-09-22T18:30:00",
          "2023-09-26T06:30:00",
          "2023-10-05T14:00:00",
          "2023-10-08T12:45:00",
          "2023-10-11T03:30:00",
          "2023-09-25T04:00:00",
          "2023-10-03T23:15:00",
          "2023-09-24T19:30:00",
          "2023-09-28T17:45:00",
          "2023-10-03T17:45:00",
          "2023-09-27T11:00:00",
          "2023-09-23T18:30:00",
          "2023-09-27T21:00:00",
          "2023-10-04T04:15:00",
          "2023-10-10T17:30:00",
          "2023-10-07T01:45:00",
          "2023-10-09T13:30:00",
          "2023-09-30T13:00:00",
          "2023-09-23T21:00:00",
          "2023-10-09T13:15:00",
          "2023-10-07T00:30:00",
          "2023-09-25T04:45:00",
          "2023-09-24T20:30:00",
          "2023-09-22T03:15:00",
          "2023-10-03T10:45:00",
          "2023-10-03T10:30:00",
          "2023-10-03T00:00:00",
          "2023-09-27T08:00:00",
          "2023-10-04T10:30:00",
          "2023-10-11T01:45:00",
          "2023-10-09T15:30:00",
          "2023-09-25T21:00:00",
          "2023-10-06T22:30:00",
          "2023-10-11T02:45:00",
          "2023-10-10T22:15:00",
          "2023-10-03T16:15:00",
          "2023-10-05T03:15:00",
          "2023-10-07T21:30:00",
          "2023-10-08T14:15:00",
          "2023-09-28T19:30:00",
          "2023-10-02T20:45:00",
          "2023-10-07T20:45:00",
          "2023-09-27T04:45:00",
          "2023-10-09T23:45:00",
          "2023-09-27T09:30:00",
          "2023-09-22T07:15:00",
          "2023-10-03T09:00:00",
          "2023-09-26T00:45:00",
          "2023-09-22T12:45:00",
          "2023-10-01T14:00:00",
          "2023-09-25T14:45:00",
          "2023-10-03T18:00:00",
          "2023-09-25T13:15:00",
          "2023-10-02T11:00:00",
          "2023-09-23T07:15:00",
          "2023-10-07T11:30:00",
          "2023-09-25T18:15:00",
          "2023-10-07T16:15:00",
          "2023-10-03T08:00:00",
          "2023-09-27T07:15:00",
          "2023-09-23T06:00:00",
          "2023-09-24T23:00:00",
          "2023-10-02T00:00:00",
          "2023-09-28T22:30:00",
          "2023-10-02T20:15:00",
          "2023-09-26T14:15:00",
          "2023-09-30T08:15:00",
          "2023-09-24T08:15:00",
          "2023-09-28T08:45:00",
          "2023-10-09T09:00:00",
          "2023-10-07T03:00:00",
          "2023-10-03T05:00:00",
          "2023-10-08T15:15:00",
          "2023-09-27T01:00:00",
          "2023-09-27T06:45:00",
          "2023-10-10T17:00:00",
          "2023-10-07T10:45:00",
          "2023-10-11T06:15:00",
          "2023-10-03T03:45:00",
          "2023-09-29T11:00:00",
          "2023-10-08T17:00:00",
          "2023-10-04T12:30:00",
          "2023-10-03T15:15:00",
          "2023-09-25T17:00:00",
          "2023-09-22T14:15:00",
          "2023-09-28T00:15:00",
          "2023-10-04T11:45:00",
          "2023-09-25T23:00:00",
          "2023-09-26T14:45:00",
          "2023-09-25T19:45:00",
          "2023-09-27T12:15:00",
          "2023-09-27T16:15:00",
          "2023-09-27T18:00:00",
          "2023-10-02T14:30:00",
          "2023-10-03T19:15:00",
          "2023-09-25T05:30:00",
          "2023-10-03T09:45:00",
          "2023-10-03T04:45:00",
          "2023-09-22T22:15:00",
          "2023-09-27T15:45:00",
          "2023-09-24T18:30:00",
          "2023-10-04T09:00:00",
          "2023-10-07T07:45:00",
          "2023-09-26T17:30:00",
          "2023-09-30T14:30:00",
          "2023-10-05T02:15:00",
          "2023-09-27T11:30:00",
          "2023-09-27T01:30:00",
          "2023-10-05T01:15:00",
          "2023-09-25T14:15:00",
          "2023-09-24T11:45:00",
          "2023-09-26T15:45:00",
          "2023-10-03T22:15:00",
          "2023-09-22T18:15:00",
          "2023-09-22T21:45:00",
          "2023-10-08T07:45:00",
          "2023-09-28T08:00:00",
          "2023-09-24T12:00:00",
          "2023-09-25T20:00:00",
          "2023-09-28T16:15:00",
          "2023-10-06T11:45:00",
          "2023-09-23T23:00:00",
          "2023-09-23T22:15:00",
          "2023-09-25T22:45:00",
          "2023-09-22T07:30:00",
          "2023-10-03T16:30:00",
          "2023-10-06T04:15:00",
          "2023-10-04T05:15:00",
          "2023-09-30T03:45:00",
          "2023-09-27T23:15:00",
          "2023-09-22T17:15:00",
          "2023-10-11T01:15:00",
          "2023-10-01T07:15:00",
          "2023-10-09T18:15:00",
          "2023-10-08T20:00:00",
          "2023-10-08T18:00:00",
          "2023-10-06T18:00:00",
          "2023-10-06T02:00:00",
          "2023-09-29T03:30:00",
          "2023-09-25T01:30:00",
          "2023-09-29T11:45:00",
          "2023-10-04T18:15:00",
          "2023-09-27T19:15:00",
          "2023-09-30T05:30:00",
          "2023-09-26T10:15:00",
          "2023-09-26T10:45:00",
          "2023-10-04T04:00:00",
          "2023-10-02T12:45:00",
          "2023-10-03T18:15:00",
          "2023-10-06T00:15:00",
          "2023-09-27T08:45:00",
          "2023-10-06T00:45:00",
          "2023-10-10T18:15:00",
          "2023-09-24T21:45:00",
          "2023-10-04T00:30:00",
          "2023-09-22T09:45:00",
          "2023-10-04T01:45:00",
          "2023-10-10T22:45:00",
          "2023-09-23T13:15:00",
          "2023-09-29T13:00:00",
          "2023-09-24T17:00:00",
          "2023-10-03T05:45:00",
          "2023-09-27T22:15:00",
          "2023-09-27T12:00:00",
          "2023-10-08T04:15:00",
          "2023-10-08T00:45:00",
          "2023-10-05T09:45:00",
          "2023-09-28T01:45:00",
          "2023-10-04T14:30:00",
          "2023-09-30T05:00:00",
          "2023-09-23T03:00:00",
          "2023-09-23T16:30:00",
          "2023-10-07T21:00:00",
          "2023-09-28T08:15:00",
          "2023-09-25T00:45:00",
          "2023-10-04T16:00:00",
          "2023-09-22T14:00:00",
          "2023-09-24T06:45:00",
          "2023-09-25T23:15:00",
          "2023-10-08T03:45:00",
          "2023-10-03T05:30:00",
          "2023-10-03T11:15:00",
          "2023-10-02T21:45:00",
          "2023-09-23T05:00:00",
          "2023-09-29T12:15:00",
          "2023-09-25T09:00:00",
          "2023-09-25T12:45:00",
          "2023-10-06T06:45:00",
          "2023-09-22T12:00:00",
          "2023-10-10T23:30:00",
          "2023-09-25T18:45:00",
          "2023-10-06T20:00:00",
          "2023-10-05T15:00:00",
          "2023-10-09T17:45:00",
          "2023-10-08T01:15:00",
          "2023-09-30T21:45:00",
          "2023-09-25T20:45:00",
          "2023-09-27T17:15:00",
          "2023-09-24T09:00:00",
          "2023-10-04T01:00:00",
          "2023-10-01T00:15:00",
          "2023-10-04T04:45:00",
          "2023-09-25T08:15:00",
          "2023-10-09T09:45:00",
          "2023-10-01T15:15:00",
          "2023-10-03T14:30:00",
          "2023-10-03T20:00:00",
          "2023-10-07T09:45:00",
          "2023-10-04T02:30:00",
          "2023-10-03T08:45:00",
          "2023-10-07T08:45:00",
          "2023-09-24T19:00:00",
          "2023-10-07T15:00:00",
          "2023-09-24T19:45:00",
          "2023-09-26T08:30:00",
          "2023-10-05T13:00:00",
          "2023-10-02T17:30:00",
          "2023-10-04T13:15:00",
          "2023-09-30T14:45:00",
          "2023-09-28T21:15:00",
          "2023-10-02T02:45:00",
          "2023-10-02T19:15:00",
          "2023-10-04T07:00:00",
          "2023-10-03T02:30:00",
          "2023-09-27T03:45:00",
          "2023-10-07T23:45:00",
          "2023-09-27T13:45:00",
          "2023-09-22T20:45:00",
          "2023-09-29T13:30:00",
          "2023-09-26T08:45:00",
          "2023-10-09T09:15:00",
          "2023-09-30T04:30:00",
          "2023-10-10T06:45:00",
          "2023-09-25T07:15:00",
          "2023-09-29T12:00:00",
          "2023-10-05T12:00:00",
          "2023-09-27T07:30:00",
          "2023-09-29T04:30:00",
          "2023-10-10T20:30:00",
          "2023-10-02T08:30:00",
          "2023-09-28T07:00:00",
          "2023-10-07T22:15:00",
          "2023-09-27T20:00:00",
          "2023-09-24T14:30:00",
          "2023-09-28T04:00:00",
          "2023-10-07T12:30:00",
          "2023-10-09T12:30:00",
          "2023-09-22T21:00:00",
          "2023-09-27T03:00:00",
          "2023-10-02T00:15:00",
          "2023-09-26T18:15:00",
          "2023-10-03T08:30:00",
          "2023-09-26T10:00:00",
          "2023-10-06T16:15:00",
          "2023-09-22T07:00:00",
          "2023-09-24T13:45:00",
          "2023-09-23T12:30:00",
          "2023-09-25T14:30:00",
          "2023-10-08T02:30:00",
          "2023-09-26T15:15:00",
          "2023-10-10T07:15:00",
          "2023-09-22T15:15:00",
          "2023-10-03T15:45:00",
          "2023-09-24T14:15:00",
          "2023-10-04T10:45:00",
          "2023-09-26T03:15:00",
          "2023-09-27T16:30:00",
          "2023-09-24T16:15:00",
          "2023-09-24T07:15:00",
          "2023-10-02T16:45:00",
          "2023-09-24T11:15:00",
          "2023-10-09T15:00:00",
          "2023-09-23T03:30:00",
          "2023-10-03T19:30:00",
          "2023-09-28T12:15:00",
          "2023-09-26T18:45:00",
          "2023-09-28T11:00:00",
          "2023-09-25T08:30:00",
          "2023-10-03T06:30:00",
          "2023-10-01T13:00:00",
          "2023-09-29T02:45:00",
          "2023-09-23T15:15:00",
          "2023-09-28T16:30:00",
          "2023-09-22T13:30:00",
          "2023-10-10T21:45:00",
          "2023-09-25T11:30:00",
          "2023-09-24T08:30:00",
          "2023-10-03T11:30:00",
          "2023-10-08T10:00:00",
          "2023-10-08T09:00:00",
          "2023-10-03T12:00:00",
          "2023-09-23T14:00:00",
          "2023-10-01T22:00:00",
          "2023-09-28T20:30:00",
          "2023-09-23T16:15:00",
          "2023-10-04T18:00:00",
          "2023-09-27T22:30:00",
          "2023-10-03T03:15:00",
          "2023-10-04T00:00:00",
          "2023-09-24T15:30:00",
          "2023-09-22T11:15:00",
          "2023-09-23T07:00:00",
          "2023-10-01T15:00:00",
          "2023-09-26T04:00:00",
          "2023-10-09T00:45:00",
          "2023-10-06T02:30:00",
          "2023-09-29T02:00:00",
          "2023-10-06T23:00:00",
          "2023-10-03T14:00:00",
          "2023-10-07T16:00:00",
          "2023-10-05T16:30:00",
          "2023-09-30T12:30:00",
          "2023-10-03T15:00:00",
          "2023-10-11T03:00:00",
          "2023-09-22T08:30:00",
          "2023-09-26T06:15:00",
          "2023-10-08T11:15:00",
          "2023-10-02T14:45:00",
          "2023-09-23T20:30:00",
          "2023-09-28T04:30:00",
          "2023-10-06T08:00:00",
          "2023-10-09T23:00:00",
          "2023-10-06T21:00:00",
          "2023-09-28T05:15:00",
          "2023-09-25T01:00:00",
          "2023-10-07T20:30:00",
          "2023-09-26T19:45:00",
          "2023-09-30T02:15:00",
          "2023-09-26T04:45:00",
          "2023-10-06T17:30:00",
          "2023-09-23T06:30:00",
          "2023-10-07T18:45:00",
          "2023-10-05T10:30:00",
          "2023-09-27T04:15:00",
          "2023-10-06T15:00:00",
          "2023-10-08T17:30:00",
          "2023-09-27T03:15:00",
          "2023-10-03T09:30:00",
          "2023-10-07T19:45:00",
          "2023-10-07T19:15:00",
          "2023-10-08T02:00:00",
          "2023-10-07T20:00:00",
          "2023-09-25T19:15:00",
          "2023-09-25T22:30:00",
          "2023-09-29T04:00:00",
          "2023-09-27T01:45:00",
          "2023-09-30T13:30:00",
          "2023-10-04T09:30:00",
          "2023-10-09T22:15:00",
          "2023-09-29T01:45:00",
          "2023-10-03T23:30:00",
          "2023-09-24T18:45:00",
          "2023-09-23T13:30:00",
          "2023-10-08T23:15:00",
          "2023-10-09T21:45:00",
          "2023-09-26T02:30:00",
          "2023-09-28T10:30:00",
          "2023-10-09T11:30:00",
          "2023-10-09T10:15:00",
          "2023-09-29T06:45:00",
          "2023-09-22T13:45:00",
          "2023-10-04T15:15:00",
          "2023-10-06T18:30:00",
          "2023-10-09T12:45:00",
          "2023-10-10T19:15:00",
          "2023-09-29T10:30:00",
          "2023-10-09T20:45:00",
          "2023-09-25T13:30:00",
          "2023-09-26T07:45:00",
          "2023-09-23T01:15:00",
          "2023-10-03T13:15:00",
          "2023-10-04T18:45:00",
          "2023-10-04T17:15:00",
          "2023-09-25T09:45:00",
          "2023-09-24T23:45:00",
          "2023-10-02T08:15:00",
          "2023-09-23T10:30:00",
          "2023-10-10T16:00:00",
          "2023-09-25T18:30:00",
          "2023-09-25T09:30:00",
          "2023-10-01T22:30:00",
          "2023-10-03T01:15:00",
          "2023-10-04T13:00:00",
          "2023-10-08T07:30:00",
          "2023-10-03T22:00:00",
          "2023-09-28T11:30:00",
          "2023-09-27T22:00:00",
          "2023-09-22T08:00:00",
          "2023-10-02T13:30:00",
          "2023-09-27T20:15:00",
          "2023-09-25T03:00:00",
          "2023-10-06T12:45:00",
          "2023-09-30T01:00:00",
          "2023-09-26T06:00:00",
          "2023-10-03T19:45:00",
          "2023-10-10T20:00:00",
          "2023-09-27T17:45:00",
          "2023-10-03T13:30:00",
          "2023-09-23T10:00:00",
          "2023-09-27T12:30:00",
          "2023-09-24T07:30:00",
          "2023-09-30T15:00:00",
          "2023-09-26T16:15:00",
          "2023-10-07T17:15:00",
          "2023-09-30T12:45:00",
          "2023-10-05T01:00:00",
          "2023-10-03T11:45:00",
          "2023-09-24T10:15:00",
          "2023-10-08T13:15:00",
          "2023-09-22T12:30:00",
          "2023-10-01T08:00:00",
          "2023-09-23T11:15:00",
          "2023-09-22T04:45:00",
          "2023-09-22T08:45:00",
          "2023-09-28T20:15:00",
          "2023-10-10T15:45:00",
          "2023-10-02T07:45:00",
          "2023-09-26T14:00:00",
          "2023-09-22T16:00:00",
          "2023-10-06T14:30:00",
          "2023-10-06T03:00:00",
          "2023-09-26T09:15:00",
          "2023-10-02T07:15:00",
          "2023-09-22T06:45:00",
          "2023-10-08T02:45:00",
          "2023-09-29T14:45:00",
          "2023-09-22T04:00:00",
          "2023-09-23T19:45:00",
          "2023-10-10T10:45:00",
          "2023-09-25T03:15:00",
          "2023-10-09T12:00:00",
          "2023-09-27T11:15:00",
          "2023-09-27T04:30:00",
          "2023-10-03T04:30:00",
          "2023-10-07T22:30:00",
          "2023-09-29T13:45:00",
          "2023-09-25T15:30:00",
          "2023-10-07T10:15:00",
          "2023-09-23T17:15:00",
          "2023-09-27T16:00:00",
          "2023-10-06T01:45:00",
          "2023-09-28T06:15:00",
          "2023-10-09T21:15:00",
          "2023-09-25T22:00:00",
          "2023-10-10T22:00:00",
          "2023-09-24T10:00:00",
          "2023-10-03T06:00:00",
          "2023-09-30T14:15:00",
          "2023-09-26T00:15:00",
          "2023-09-27T14:30:00",
          "2023-09-25T12:15:00",
          "2023-10-09T11:45:00",
          "2023-10-02T15:30:00",
          "2023-09-25T04:15:00",
          "2023-09-26T02:15:00",
          "2023-10-11T06:00:00",
          "2023-09-23T04:45:00",
          "2023-09-25T08:45:00",
          "2023-10-05T19:30:00",
          "2023-10-04T03:00:00",
          "2023-09-28T02:30:00",
          "2023-09-27T10:30:00",
          "2023-10-04T00:15:00",
          "2023-09-29T18:15:00",
          "2023-09-22T21:30:00",
          "2023-09-30T09:00:00",
          "2023-09-23T07:30:00",
          "2023-09-25T13:45:00",
          "2023-09-23T20:00:00",
          "2023-09-28T21:00:00",
          "2023-09-24T21:00:00",
          "2023-10-06T19:00:00",
          "2023-09-27T09:15:00",
          "2023-09-30T04:15:00",
          "2023-09-26T23:30:00",
          "2023-09-24T21:30:00",
          "2023-10-05T16:00:00",
          "2023-10-05T03:00:00",
          "2023-09-23T20:15:00",
          "2023-10-09T16:00:00",
          "2023-10-05T02:45:00",
          "2023-09-24T12:15:00",
          "2023-09-22T19:00:00",
          "2023-09-22T09:30:00",
          "2023-09-22T15:30:00",
          "2023-09-29T03:00:00",
          "2023-10-04T07:15:00",
          "2023-09-22T02:15:00",
          "2023-09-28T22:15:00",
          "2023-10-03T00:30:00",
          "2023-10-02T20:30:00",
          "2023-09-24T16:00:00",
          "2023-09-27T20:45:00",
          "2023-09-26T02:00:00",
          "2023-10-03T18:45:00",
          "2023-09-30T22:15:00",
          "2023-10-04T13:30:00",
          "2023-09-25T07:45:00",
          "2023-10-08T13:30:00",
          "2023-09-24T20:15:00",
          "2023-10-04T03:30:00",
          "2023-10-02T19:45:00",
          "2023-10-02T13:45:00",
          "2023-09-25T11:00:00",
          "2023-10-03T04:00:00",
          "2023-09-26T19:00:00",
          "2023-10-06T13:15:00",
          "2023-09-28T10:00:00",
          "2023-10-02T10:15:00",
          "2023-09-25T02:30:00",
          "2023-10-05T09:00:00",
          "2023-09-28T02:45:00",
          "2023-09-24T21:15:00",
          "2023-09-29T04:15:00",
          "2023-09-26T00:30:00",
          "2023-09-23T00:00:00",
          "2023-10-06T08:30:00",
          "2023-09-26T07:30:00",
          "2023-09-22T07:45:00",
          "2023-10-04T17:00:00",
          "2023-09-27T08:30:00",
          "2023-09-24T08:00:00",
          "2023-10-07T00:00:00",
          "2023-10-04T15:45:00",
          "2023-10-06T20:30:00",
          "2023-09-26T19:30:00",
          "2023-09-27T07:00:00",
          "2023-09-24T06:15:00",
          "2023-10-04T19:15:00",
          "2023-09-22T16:15:00",
          "2023-09-23T20:45:00",
          "2023-10-03T07:45:00",
          "2023-10-02T13:15:00",
          "2023-09-23T15:30:00",
          "2023-09-27T18:30:00",
          "2023-09-28T02:00:00",
          "2023-10-09T18:45:00",
          "2023-10-06T23:30:00",
          "2023-10-03T21:30:00",
          "2023-10-06T19:30:00",
          "2023-09-29T13:15:00",
          "2023-10-10T07:45:00",
          "2023-10-02T09:45:00",
          "2023-10-08T01:30:00",
          "2023-10-10T10:00:00",
          "2023-10-05T23:45:00",
          "2023-09-28T10:45:00",
          "2023-10-02T11:45:00",
          "2023-09-25T07:00:00",
          "2023-10-01T23:45:00",
          "2023-10-04T02:45:00",
          "2023-10-04T00:45:00",
          "2023-09-26T08:15:00",
          "2023-09-25T02:15:00",
          "2023-09-25T00:00:00",
          "2023-09-23T12:45:00",
          "2023-09-22T04:30:00",
          "2023-09-24T09:45:00",
          "2023-09-24T22:45:00",
          "2023-10-02T22:00:00",
          "2023-10-07T23:00:00",
          "2023-10-03T04:15:00",
          "2023-09-26T09:00:00",
          "2023-09-25T11:45:00",
          "2023-10-03T12:45:00",
          "2023-09-24T07:00:00",
          "2023-10-03T06:45:00",
          "2023-10-04T20:30:00",
          "2023-10-06T03:45:00",
          "2023-09-23T15:00:00",
          "2023-10-02T06:45:00",
          "2023-09-29T07:00:00",
          "2023-09-23T03:45:00",
          "2023-10-05T18:45:00",
          "2023-10-04T12:00:00",
          "2023-10-04T14:45:00",
          "2023-10-04T16:45:00",
          "2023-09-23T22:00:00",
          "2023-09-23T18:00:00",
          "2023-09-28T06:45:00",
          "2023-10-01T22:45:00",
          "2023-09-29T15:30:00",
          "2023-09-25T23:30:00",
          "2023-09-26T15:00:00",
          "2023-09-26T11:45:00",
          "2023-10-06T17:00:00",
          "2023-10-10T12:45:00",
          "2023-09-25T14:00:00",
          "2023-10-01T21:30:00",
          "2023-09-22T10:15:00",
          "2023-10-03T12:30:00",
          "2023-09-28T11:15:00",
          "2023-09-27T13:30:00",
          "2023-09-25T16:15:00",
          "2023-10-07T16:45:00",
          "2023-10-04T02:00:00",
          "2023-09-23T04:00:00",
          "2023-10-02T23:15:00",
          "2023-10-06T10:30:00",
          "2023-10-07T15:30:00",
          "2023-09-25T20:30:00",
          "2023-09-27T00:00:00",
          "2023-10-06T09:30:00",
          "2023-09-28T17:15:00",
          "2023-09-26T07:00:00",
          "2023-09-22T15:00:00",
          "2023-10-03T07:30:00",
          "2023-10-03T17:30:00",
          "2023-10-03T03:00:00",
          "2023-09-26T12:15:00",
          "2023-09-27T02:30:00",
          "2023-09-23T13:00:00",
          "2023-10-07T03:45:00",
          "2023-10-07T07:15:00",
          "2023-09-23T03:15:00",
          "2023-10-11T03:45:00",
          "2023-09-26T05:15:00",
          "2023-09-26T05:30:00",
          "2023-09-27T00:45:00",
          "2023-09-22T10:00:00",
          "2023-09-23T22:30:00",
          "2023-10-04T16:30:00",
          "2023-09-23T06:15:00",
          "2023-10-06T07:00:00",
          "2023-09-22T12:15:00",
          "2023-09-24T08:45:00",
          "2023-10-10T11:15:00",
          "2023-10-03T03:30:00",
          "2023-09-26T16:30:00",
          "2023-10-06T05:00:00",
          "2023-10-02T22:30:00",
          "2023-10-09T19:45:00",
          "2023-09-30T22:45:00",
          "2023-10-04T13:45:00",
          "2023-10-03T22:45:00",
          "2023-09-24T15:45:00",
          "2023-09-30T08:45:00",
          "2023-09-25T12:00:00",
          "2023-10-05T08:00:00",
          "2023-09-23T23:15:00",
          "2023-09-22T11:45:00",
          "2023-10-05T20:00:00",
          "2023-09-22T23:00:00",
          "2023-10-02T19:30:00",
          "2023-09-22T02:45:00",
          "2023-09-23T05:15:00",
          "2023-09-28T07:30:00",
          "2023-09-29T10:00:00",
          "2023-10-09T01:15:00",
          "2023-10-02T10:30:00",
          "2023-09-27T07:45:00",
          "2023-09-25T21:45:00",
          "2023-09-24T17:30:00",
          "2023-10-02T14:00:00",
          "2023-10-05T11:00:00",
          "2023-09-26T17:15:00",
          "2023-09-29T10:45:00",
          "2023-10-06T09:45:00",
          "2023-10-04T07:45:00",
          "2023-09-28T21:45:00",
          "2023-09-23T04:30:00",
          "2023-09-27T03:30:00",
          "2023-09-24T07:45:00",
          "2023-10-05T11:45:00",
          "2023-09-23T15:45:00",
          "2023-09-24T22:00:00",
          "2023-09-28T01:30:00",
          "2023-09-27T09:45:00",
          "2023-09-23T00:30:00",
          "2023-09-23T13:45:00",
          "2023-09-30T23:00:00",
          "2023-10-07T13:30:00",
          "2023-09-24T17:15:00",
          "2023-09-26T03:00:00",
          "2023-10-02T11:30:00",
          "2023-09-27T16:45:00",
          "2023-09-28T11:45:00",
          "2023-10-11T01:00:00",
          "2023-10-04T14:15:00",
          "2023-09-27T21:30:00",
          "2023-10-06T21:30:00",
          "2023-09-23T04:15:00",
          "2023-09-26T17:00:00",
          "2023-10-09T17:15:00",
          "2023-09-25T17:30:00",
          "2023-10-03T02:00:00",
          "2023-10-05T15:30:00",
          "2023-10-09T19:15:00",
          "2023-09-22T17:45:00",
          "2023-09-23T17:30:00",
          "2023-10-03T01:30:00",
          "2023-10-02T02:15:00",
          "2023-10-08T10:30:00",
          "2023-10-07T17:45:00",
          "2023-09-30T13:45:00",
          "2023-09-29T11:30:00",
          "2023-10-04T19:00:00",
          "2023-09-23T16:00:00",
          "2023-10-03T13:00:00",
          "2023-09-22T14:45:00",
          "2023-09-27T02:45:00",
          "2023-09-29T12:45:00",
          "2023-10-10T09:00:00",
          "2023-09-25T05:00:00",
          "2023-09-25T12:30:00",
          "2023-09-24T14:45:00",
          "2023-10-02T01:30:00",
          "2023-10-01T14:15:00",
          "2023-09-30T15:15:00",
          "2023-09-24T18:15:00",
          "2023-10-03T02:15:00",
          "2023-10-07T02:00:00",
          "2023-10-05T14:30:00",
          "2023-10-09T01:30:00",
          "2023-10-05T02:30:00",
          "2023-09-26T12:30:00",
          "2023-10-02T21:00:00",
          "2023-10-04T08:00:00",
          "2023-09-22T23:30:00",
          "2023-10-05T19:15:00",
          "2023-09-26T18:00:00",
          "2023-10-10T09:30:00",
          "2023-10-05T09:15:00",
          "2023-10-05T10:15:00",
          "2023-09-23T23:30:00",
          "2023-09-26T10:30:00",
          "2023-10-02T22:45:00",
          "2023-09-24T06:00:00",
          "2023-09-28T19:45:00",
          "2023-09-23T01:00:00",
          "2023-09-23T21:45:00",
          "2023-10-10T18:00:00",
          "2023-10-04T16:15:00",
          "2023-10-02T21:15:00",
          "2023-10-02T16:15:00",
          "2023-10-03T08:15:00",
          "2023-10-10T10:15:00",
          "2023-09-26T01:15:00",
          "2023-10-03T17:00:00",
          "2023-10-04T09:45:00",
          "2023-10-08T09:30:00",
          "2023-09-28T07:45:00",
          "2023-09-23T10:45:00",
          "2023-09-23T12:00:00",
          "2023-10-08T16:30:00",
          "2023-09-27T09:00:00",
          "2023-10-03T13:45:00",
          "2023-10-05T12:30:00",
          "2023-09-23T10:15:00",
          "2023-09-27T15:15:00",
          "2023-09-26T09:45:00",
          "2023-09-25T17:15:00",
          "2023-09-28T00:30:00",
          "2023-09-22T03:45:00",
          "2023-10-04T11:00:00",
          "2023-09-23T09:45:00",
          "2023-09-22T22:30:00",
          "2023-09-23T08:15:00",
          "2023-09-25T16:00:00",
          "2023-09-28T15:45:00",
          "2023-09-24T23:30:00",
          "2023-10-02T01:00:00",
          "2023-09-22T17:00:00",
          "2023-10-11T05:30:00",
          "2023-09-27T23:45:00",
          "2023-10-08T23:45:00",
          "2023-09-28T00:45:00",
          "2023-09-30T03:15:00",
          "2023-10-10T19:45:00",
          "2023-09-27T02:00:00",
          "2023-10-03T07:15:00",
          "2023-09-26T04:30:00",
          "2023-09-26T06:45:00",
          "2023-10-10T12:15:00",
          "2023-09-26T17:45:00",
          "2023-10-03T01:45:00",
          "2023-10-06T07:30:00",
          "2023-09-24T10:45:00",
          "2023-09-29T03:45:00",
          "2023-09-30T03:30:00",
          "2023-10-01T23:15:00",
          "2023-09-25T07:30:00",
          "2023-09-25T02:00:00",
          "2023-09-24T11:00:00",
          "2023-10-02T16:30:00",
          "2023-09-23T09:30:00",
          "2023-10-06T19:15:00",
          "2023-10-07T18:15:00",
          "2023-09-28T20:45:00",
          "2023-10-09T20:15:00",
          "2023-09-23T19:30:00",
          "2023-10-08T14:00:00",
          "2023-10-04T01:30:00",
          "2023-09-28T19:00:00",
          "2023-09-25T05:15:00",
          "2023-09-27T04:00:00",
          "2023-09-25T03:30:00",
          "2023-10-07T01:15:00",
          "2023-09-24T09:30:00",
          "2023-10-03T09:15:00",
          "2023-10-06T01:15:00",
          "2023-10-03T17:15:00",
          "2023-09-27T05:15:00",
          "2023-10-02T08:00:00",
          "2023-10-06T16:30:00",
          "2023-09-22T22:00:00",
          "2023-09-27T21:15:00",
          "2023-09-23T08:45:00",
          "2023-09-25T10:15:00",
          "2023-09-25T15:00:00",
          "2023-09-23T09:15:00",
          "2023-09-27T11:45:00",
          "2023-09-25T19:30:00",
          "2023-10-10T23:15:00",
          "2023-09-25T01:45:00",
          "2023-09-23T09:00:00",
          "2023-09-28T18:30:00",
          "2023-09-26T01:45:00",
          "2023-10-11T04:30:00",
          "2023-09-26T19:15:00",
          "2023-10-08T17:15:00",
          "2023-10-06T15:30:00",
          "2023-09-24T22:15:00",
          "2023-10-05T13:45:00",
          "2023-09-26T23:45:00",
          "2023-10-02T18:45:00",
          "2023-09-27T21:45:00",
          "2023-09-24T20:00:00",
          "2023-10-02T15:45:00",
          "2023-10-02T18:00:00",
          "2023-10-01T13:15:00",
          "2023-09-30T14:00:00",
          "2023-09-25T02:45:00",
          "2023-09-23T21:15:00",
          "2023-09-22T22:45:00",
          "2023-10-04T08:15:00",
          "2023-10-06T12:30:00",
          "2023-10-02T12:00:00",
          "2023-09-28T16:45:00",
          "2023-09-23T16:45:00",
          "2023-10-02T20:00:00",
          "2023-10-09T16:45:00",
          "2023-09-24T16:45:00",
          "2023-09-25T15:15:00",
          "2023-10-07T08:15:00",
          "2023-09-25T03:45:00",
          "2023-10-01T13:30:00",
          "2023-10-05T08:30:00",
          "2023-09-26T11:15:00",
          "2023-09-24T18:00:00",
          "2023-10-10T07:00:00",
          "2023-10-02T18:15:00",
          "2023-09-24T05:45:00",
          "2023-09-29T12:30:00",
          "2023-10-10T18:45:00",
          "2023-10-02T23:00:00",
          "2023-09-22T16:45:00",
          "2023-10-01T21:45:00",
          "2023-09-22T15:45:00",
          "2023-09-30T05:15:00",
          "2023-09-23T05:30:00",
          "2023-09-23T00:15:00",
          "2023-09-26T20:00:00",
          "2023-09-27T14:00:00",
          "2023-10-10T21:00:00",
          "2023-10-02T10:00:00",
          "2023-10-07T14:00:00",
          "2023-09-25T10:45:00",
          "2023-10-06T10:15:00",
          "2023-10-09T14:30:00",
          "2023-10-03T02:45:00",
          "2023-10-07T11:00:00",
          "2023-09-24T06:30:00",
          "2023-10-04T09:15:00",
          "2023-10-04T03:15:00",
          "2023-09-27T12:45:00",
          "2023-10-08T11:30:00",
          "2023-09-28T22:00:00",
          "2023-10-06T14:15:00",
          "2023-09-28T12:30:00",
          "2023-09-24T20:45:00",
          "2023-10-01T14:45:00",
          "2023-10-04T02:15:00",
          "2023-10-11T00:45:00",
          "2023-09-23T14:45:00",
          "2023-10-02T19:00:00",
          "2023-10-07T09:15:00",
          "2023-10-04T10:00:00",
          "2023-09-28T17:00:00",
          "2023-10-07T16:30:00",
          "2023-10-02T06:30:00",
          "2023-10-02T01:45:00",
          "2023-09-24T15:15:00",
          "2023-10-08T03:15:00",
          "2023-09-30T08:30:00",
          "2023-10-03T12:15:00",
          "2023-09-28T16:00:00",
          "2023-09-24T12:45:00",
          "2023-09-25T00:15:00",
          "2023-09-22T09:15:00",
          "2023-10-08T18:45:00",
          "2023-09-29T14:30:00",
          "2023-09-30T23:45:00",
          "2023-09-26T09:30:00",
          "2023-10-09T10:00:00",
          "2023-09-28T03:15:00",
          "2023-09-24T15:00:00",
          "2023-10-04T15:00:00",
          "2023-10-11T09:45:00",
          "2023-09-23T00:45:00",
          "2023-09-22T14:30:00",
          "2023-10-09T16:30:00",
          "2023-09-23T11:00:00",
          "2023-10-03T11:00:00",
          "2023-09-22T11:00:00",
          "2023-10-04T11:15:00",
          "2023-09-25T00:30:00",
          "2023-09-23T08:30:00",
          "2023-09-22T10:45:00",
          "2023-09-28T10:15:00",
          "2023-10-03T18:30:00",
          "2023-09-26T12:00:00",
          "2023-10-09T08:15:00",
          "2023-10-04T06:45:00",
          "2023-09-27T00:30:00",
          "2023-10-06T07:15:00",
          "2023-09-30T04:00:00",
          "2023-09-24T11:30:00",
          "2023-10-03T21:15:00",
          "2023-09-28T21:30:00",
          "2023-09-23T18:45:00",
          "2023-10-05T01:30:00",
          "2023-10-04T08:45:00",
          "2023-10-03T22:30:00",
          "2023-09-27T19:30:00",
          "2023-09-26T05:00:00",
          "2023-09-27T13:15:00",
          "2023-10-06T12:00:00",
          "2023-10-02T23:30:00",
          "2023-09-25T16:30:00",
          "2023-09-24T10:30:00",
          "2023-10-03T19:00:00",
          "2023-10-10T21:15:00",
          "2023-10-08T00:15:00",
          "2023-10-08T19:30:00",
          "2023-09-28T04:15:00",
          "2023-10-11T00:30:00",
          "2023-10-09T10:30:00",
          "2023-10-02T03:00:00",
          "2023-10-01T09:00:00",
          "2023-10-02T17:45:00",
          "2023-10-02T23:45:00",
          "2023-09-23T21:30:00",
          "2023-10-04T04:30:00",
          "2023-10-02T12:30:00",
          "2023-10-08T18:30:00",
          "2023-09-29T09:45:00",
          "2023-09-24T13:00:00",
          "2023-10-03T06:15:00",
          "2023-09-28T20:00:00",
          "2023-09-26T13:30:00",
          "2023-10-05T19:00:00",
          "2023-10-08T12:15:00",
          "2023-10-04T20:15:00",
          "2023-10-08T23:00:00",
          "2023-10-07T12:00:00",
          "2023-09-24T14:00:00",
          "2023-09-28T03:30:00",
          "2023-10-08T08:30:00",
          "2023-10-01T14:30:00",
          "2023-10-03T00:45:00",
          "2023-09-29T07:15:00",
          "2023-09-30T22:00:00",
          "2023-09-30T04:45:00",
          "2023-09-30T02:30:00",
          "2023-09-28T09:45:00",
          "2023-09-22T23:45:00",
          "2023-10-02T10:45:00",
          "2023-09-28T01:15:00",
          "2023-10-03T16:45:00",
          "2023-10-01T09:15:00",
          "2023-10-11T04:00:00",
          "2023-09-23T17:00:00",
          "2023-09-30T06:00:00",
          "2023-10-02T21:30:00",
          "2023-10-06T03:15:00",
          "2023-09-26T16:45:00",
          "2023-09-22T23:15:00",
          "2023-10-05T23:00:00",
          "2023-09-26T14:30:00",
          "2023-10-11T02:15:00",
          "2023-09-27T00:15:00",
          "2023-10-06T13:45:00",
          "2023-09-27T05:00:00",
          "2023-09-23T12:15:00",
          "2023-10-09T00:15:00",
          "2023-09-28T01:00:00",
          "2023-09-28T12:00:00",
          "2023-10-08T16:00:00",
          "2023-10-02T17:00:00",
          "2023-09-28T17:30:00",
          "2023-09-26T13:15:00",
          "2023-10-09T13:45:00",
          "2023-10-07T23:30:00",
          "2023-09-27T15:30:00",
          "2023-10-02T15:15:00",
          "2023-09-27T10:15:00",
          "2023-09-26T12:45:00",
          "2023-09-24T17:45:00",
          "2023-10-01T13:45:00",
          "2023-10-08T10:15:00",
          "2023-09-25T15:45:00",
          "2023-10-03T10:00:00",
          "2023-09-23T08:00:00",
          "2023-10-10T09:45:00",
          "2023-10-10T08:15:00",
          "2023-09-26T11:00:00",
          "2023-09-26T05:45:00",
          "2023-09-30T15:30:00",
          "2023-10-03T21:00:00",
          "2023-10-05T23:15:00",
          "2023-10-01T15:30:00",
          "2023-09-26T03:45:00",
          "2023-09-23T19:00:00",
          "2023-09-27T15:00:00",
          "2023-09-29T07:45:00",
          "2023-09-25T20:15:00",
          "2023-09-25T06:45:00",
          "2023-10-10T16:30:00",
          "2023-09-27T01:15:00",
          "2023-10-02T00:30:00",
          "2023-09-28T08:30:00",
          "2023-09-23T17:45:00",
          "2023-10-10T00:15:00",
          "2023-09-29T15:15:00",
          "2023-09-24T16:30:00",
          "2023-10-03T20:30:00",
          "2023-10-09T22:45:00",
          "2023-09-25T01:15:00",
          "2023-09-23T05:45:00",
          "2023-09-24T13:15:00",
          "2023-09-30T09:30:00",
          "2023-10-04T03:45:00",
          "2023-09-25T11:15:00",
          "2023-10-04T07:30:00",
          "2023-09-28T07:15:00",
          "2023-10-02T18:30:00",
          "2023-10-09T16:15:00",
          "2023-10-06T09:00:00",
          "2023-09-22T21:15:00",
          "2023-09-28T03:45:00",
          "2023-09-28T18:45:00",
          "2023-09-22T03:00:00",
          "2023-10-10T11:45:00",
          "2023-09-26T00:00:00",
          "2023-10-02T22:15:00",
          "2023-09-25T04:30:00",
          "2023-10-04T17:30:00"
         ],
         "xaxis": "x",
         "y": [
          557,
          446,
          458.3333333333333,
          499.6666666666667,
          501.6666666666667,
          597,
          482.5,
          439.3333333333333,
          738.6666666666666,
          499.6666666666667,
          670.6666666666666,
          498.3333333333333,
          464,
          580.3333333333334,
          631.5,
          617.3333333333334,
          510,
          467.5,
          649.3333333333334,
          434.6666666666667,
          517,
          510.5,
          505,
          430,
          537,
          556.6666666666666,
          471,
          535.6666666666666,
          578,
          526.6666666666666,
          471,
          599,
          478,
          416,
          995.3333333333334,
          497,
          553,
          423.6666666666667,
          632,
          527,
          430.3333333333333,
          472,
          670,
          619.3333333333334,
          432,
          503,
          530.6666666666666,
          559,
          484,
          585,
          672,
          441,
          489,
          465.5,
          534,
          468,
          445,
          577,
          424,
          430,
          486,
          669.3333333333334,
          518.3333333333334,
          545,
          461,
          403,
          542,
          434,
          523,
          454,
          491,
          396,
          466,
          466,
          440.6666666666667,
          527,
          472.3333333333333,
          436,
          486,
          594.6666666666666,
          494,
          551,
          490,
          422,
          517,
          507,
          491,
          492.3333333333333,
          496,
          513,
          438,
          473,
          503,
          439,
          431.3333333333333,
          545.3333333333334,
          527,
          434,
          467,
          504,
          517,
          526,
          476,
          473,
          435,
          669,
          467,
          444,
          436.6666666666667,
          574,
          488,
          467,
          512,
          589.6666666666666,
          493,
          437.3333333333333,
          511,
          441,
          456,
          603,
          489.6666666666667,
          555,
          517,
          468,
          474,
          571,
          460,
          442,
          637.3333333333334,
          511,
          468,
          465,
          477.6666666666667,
          578,
          453,
          505,
          492,
          659.5,
          616,
          496,
          548,
          459,
          531.6666666666666,
          645,
          408,
          475,
          615,
          553,
          598,
          523,
          589.5,
          426,
          518,
          442.3333333333333,
          589,
          599,
          534.5,
          444,
          548,
          632,
          653.6666666666666,
          594,
          558,
          562.5,
          437,
          447,
          532,
          494.3333333333333,
          651.6666666666666,
          476.6666666666667,
          497.6666666666667,
          507,
          441.6666666666667,
          479,
          657,
          626.3333333333334,
          478.6666666666667,
          676,
          626,
          482.5,
          430.5,
          539,
          445,
          494,
          462,
          642,
          477,
          548.6666666666666,
          416.3333333333333,
          711,
          494,
          498,
          533,
          534.6666666666666,
          428.3333333333333,
          473,
          493,
          515.6666666666666,
          572,
          461,
          473,
          454,
          536,
          495,
          476,
          531,
          485,
          445,
          458,
          576,
          667,
          586,
          499,
          436,
          424,
          508.3333333333333,
          630.6666666666666,
          478,
          469,
          533,
          498,
          440,
          466.3333333333333,
          511,
          491,
          505.3333333333333,
          483,
          499.3333333333333,
          565.6666666666666,
          466.6666666666667,
          554,
          595.3333333333334,
          606.5,
          471,
          467,
          523,
          498,
          855.3333333333334,
          505.3333333333333,
          499.3333333333333,
          492,
          465,
          554,
          461.3333333333333,
          709,
          450.3333333333333,
          473.3333333333333,
          529.6666666666666,
          458,
          543,
          426,
          554.3333333333334,
          499,
          628,
          534,
          527,
          710,
          477,
          474,
          542,
          539,
          418,
          512,
          456,
          486,
          524.5,
          626,
          488,
          513.6666666666666,
          483,
          510,
          599,
          487,
          448.6666666666667,
          434,
          557,
          480,
          513,
          436.3333333333333,
          491,
          466.3333333333333,
          478,
          470.3333333333333,
          465,
          412,
          520.6666666666666,
          616.3333333333334,
          489,
          428.3333333333333,
          478,
          524,
          677,
          538.6666666666666,
          475.3333333333333,
          457,
          688,
          501.5,
          549,
          468,
          506,
          497.6666666666667,
          474,
          822,
          604,
          391,
          622.6666666666666,
          442,
          474,
          482.5,
          699,
          465,
          598,
          476.6666666666667,
          465,
          473,
          534,
          495.6666666666667,
          480,
          468.3333333333333,
          433,
          444.3333333333333,
          438.6666666666667,
          565,
          490.6666666666667,
          489,
          501,
          610,
          474,
          432,
          455,
          456.3333333333333,
          414,
          477,
          502.5,
          489,
          637,
          490,
          480,
          516.3333333333334,
          490,
          479,
          492.6666666666667,
          566.3333333333334,
          529,
          440.3333333333333,
          470,
          608,
          503,
          449,
          440,
          498.3333333333333,
          411,
          449,
          470,
          698.6666666666666,
          479,
          429,
          466,
          449,
          420.6666666666667,
          506.5,
          453,
          444.3333333333333,
          489.6666666666667,
          699,
          587,
          553,
          508,
          478.3333333333333,
          467.5,
          502,
          434.3333333333333,
          481,
          498,
          473,
          445,
          549,
          411,
          478,
          411,
          478,
          437,
          476,
          572,
          476,
          441,
          541,
          488.3333333333333,
          465,
          474.5,
          507,
          508,
          467,
          447,
          474.5,
          494,
          515,
          481,
          561,
          500,
          466,
          430,
          481,
          611,
          494,
          488,
          448.6666666666667,
          465,
          455,
          476,
          465,
          549,
          550,
          433,
          499,
          504,
          523.6666666666666,
          507,
          445.3333333333333,
          531,
          468.3333333333333,
          501.6666666666667,
          475,
          511,
          497,
          466,
          653,
          445,
          625.5,
          447,
          752.6666666666666,
          556,
          493,
          467,
          567,
          538,
          595,
          461,
          491,
          418.6666666666667,
          684,
          695,
          671,
          470.5,
          473.3333333333333,
          513.3333333333334,
          406.5,
          530,
          546,
          467,
          552.3333333333334,
          499.3333333333333,
          464,
          528.6666666666666,
          485.3333333333333,
          588.6666666666666,
          610.6666666666666,
          583.6666666666666,
          579,
          448,
          638,
          502,
          491.3333333333333,
          561,
          455,
          602,
          425,
          485,
          564.6666666666666,
          471,
          481.6666666666667,
          446.3333333333333,
          478,
          484,
          667,
          438.6666666666667,
          479.3333333333333,
          462,
          441,
          457,
          512,
          476,
          587,
          432,
          432,
          509,
          448,
          449.6666666666667,
          606,
          477,
          455,
          550,
          491,
          460,
          542,
          487,
          478,
          424,
          442.6666666666667,
          685,
          620,
          476,
          544,
          466,
          540,
          577.3333333333334,
          485,
          507.3333333333333,
          642.6666666666666,
          480,
          662,
          514,
          532,
          475,
          470.3333333333333,
          513,
          493,
          529,
          669,
          564.3333333333334,
          786.5,
          540,
          451.6666666666667,
          488,
          558,
          507,
          577,
          520,
          504.3333333333333,
          484,
          552,
          514,
          529,
          487.6666666666667,
          494,
          486,
          601,
          505.6666666666667,
          437.6666666666667,
          452,
          550,
          548.6666666666666,
          512.5,
          518.3333333333334,
          468.3333333333333,
          409,
          663,
          503.6666666666667,
          512,
          651,
          474,
          445,
          493,
          452.6666666666667,
          425,
          670.6666666666666,
          490.6666666666667,
          462,
          555.3333333333334,
          568,
          473,
          570,
          489,
          542,
          459,
          738.3333333333334,
          688,
          451,
          475.3333333333333,
          502.3333333333333,
          500,
          578.5,
          581.6666666666666,
          534,
          437.3333333333333,
          672,
          490.6666666666667,
          449,
          447.6666666666667,
          660,
          461,
          469,
          434,
          545.3333333333334,
          495,
          469,
          489,
          619,
          696,
          551.3333333333334,
          484,
          521,
          726.3333333333334,
          540,
          449,
          675.5,
          469.3333333333333,
          686,
          460.3333333333333,
          507.6666666666667,
          442,
          588,
          509,
          607,
          455,
          547,
          520,
          528.3333333333334,
          547,
          567.3333333333334,
          451,
          464,
          470,
          431,
          498,
          461.3333333333333,
          516,
          926,
          454,
          512.3333333333334,
          532.3333333333334,
          478,
          468,
          470,
          501,
          491,
          467.5,
          455,
          559.6666666666666,
          453,
          556,
          448,
          665,
          422,
          478.3333333333333,
          483,
          669,
          481,
          504.3333333333333,
          553,
          671,
          488.6666666666667,
          563,
          559,
          817.6666666666666,
          705.5,
          475,
          505,
          691,
          456,
          531,
          525,
          432,
          430.3333333333333,
          560,
          412,
          628,
          446,
          447.6666666666667,
          417.3333333333333,
          492,
          697,
          550.6666666666666,
          469.5,
          509.5,
          502.3333333333333,
          559.3333333333334,
          469,
          476,
          548.6666666666666,
          520,
          721,
          438,
          494,
          439,
          437.6666666666667,
          490.3333333333333,
          549,
          419.3333333333333,
          464.6666666666667,
          502.3333333333333,
          487,
          497,
          497.3333333333333,
          458,
          470.6666666666667,
          483.3333333333333,
          519.3333333333334,
          455.6666666666667,
          501,
          716.3333333333334,
          489,
          631,
          455,
          487,
          432,
          559,
          441.3333333333333,
          481,
          570.3333333333334,
          529,
          456,
          879,
          512,
          469,
          505,
          609,
          606,
          487,
          470,
          516,
          491.6666666666667,
          498,
          488,
          475,
          712,
          478,
          482,
          453.6666666666667,
          599.5,
          540,
          470,
          561.5,
          403,
          430.6666666666667,
          625,
          673.5,
          636.6666666666666,
          441.3333333333333,
          526,
          485,
          479.6666666666667,
          407,
          493.3333333333333,
          469.6666666666667,
          495,
          565.6666666666666,
          493.3333333333333,
          507,
          473,
          492,
          470.3333333333333,
          493,
          563,
          636.6666666666666,
          566.6666666666666,
          467,
          911.3333333333334,
          588.6666666666666,
          542.5,
          508.6666666666667,
          435.6666666666667,
          521,
          556,
          547.6666666666666,
          392,
          542,
          447,
          499.6666666666667,
          546.6666666666666,
          457,
          438,
          450,
          469,
          517,
          668.6666666666666,
          502,
          414.6666666666667,
          446.3333333333333,
          472,
          605,
          442,
          435.6666666666667,
          549.5,
          490.3333333333333,
          469,
          443.6666666666667,
          472,
          467,
          555,
          508,
          409,
          491,
          644,
          427,
          561,
          617,
          502,
          529,
          451.3333333333333,
          430,
          550,
          458,
          495,
          438.6666666666667,
          550,
          500,
          443,
          490.3333333333333,
          502,
          428,
          708.6666666666666,
          571,
          535,
          444.3333333333333,
          418,
          505.6666666666667,
          461.3333333333333,
          540,
          466,
          712.3333333333334,
          504.5,
          498,
          462,
          578,
          409,
          415,
          504,
          676.3333333333334,
          442.3333333333333,
          570,
          578,
          494,
          546,
          497,
          498.6666666666667,
          502.6666666666667,
          549.3333333333334,
          429.6666666666667,
          471,
          473,
          454.5,
          446,
          558,
          458,
          570,
          523,
          480,
          469,
          452.3333333333333,
          493,
          492,
          406,
          430.6666666666667,
          544.6666666666666,
          486,
          486,
          457,
          506,
          477,
          798,
          458,
          476.3333333333333,
          523.6666666666666,
          490.3333333333333,
          548,
          449,
          423.3333333333333,
          524,
          488,
          459,
          510,
          424.5,
          437.5,
          479.3333333333333,
          451.3333333333333,
          505,
          463,
          454.3333333333333,
          503,
          488,
          469,
          488,
          584,
          503.6666666666667,
          565.3333333333334,
          493.6666666666667,
          536,
          582.3333333333334,
          500,
          623.3333333333334,
          529,
          490,
          450.6666666666667,
          507.3333333333333,
          424,
          483,
          455,
          445.6666666666667,
          519,
          584,
          471,
          411,
          517.6666666666666,
          515.3333333333334,
          608,
          474.3333333333333,
          530,
          515.3333333333334,
          453.5,
          504,
          461.6666666666667,
          492,
          490.6666666666667,
          545.6666666666666,
          534,
          520,
          437,
          512.6666666666666,
          537,
          529,
          469,
          565.3333333333334,
          495,
          439,
          441.6666666666667,
          615,
          441.6666666666667,
          481,
          453,
          511,
          479,
          645,
          458,
          556.3333333333334,
          448.6666666666667,
          447,
          454.6666666666667,
          504.3333333333333,
          501,
          485.6666666666667,
          529,
          663,
          480,
          459.6666666666667,
          470,
          503.3333333333333,
          501,
          513,
          546,
          473,
          475.3333333333333,
          486.6666666666667,
          504,
          516,
          457,
          455.3333333333333,
          641,
          504.5,
          456.6666666666667,
          437.3333333333333,
          517,
          477,
          502.5,
          524.6666666666666,
          487,
          491,
          418,
          474.6666666666667,
          542,
          480,
          482,
          452,
          517,
          421.3333333333333,
          429,
          466,
          469,
          547,
          477,
          513,
          455,
          443.5,
          480,
          462,
          486,
          795,
          553,
          493.6666666666667,
          452,
          499.5,
          529,
          441.6666666666667,
          493,
          658,
          470,
          507,
          498.3333333333333,
          467,
          500.6666666666667,
          432.3333333333333,
          559,
          687,
          521,
          491,
          509,
          497.6666666666667,
          539.6666666666666,
          434.3333333333333,
          509,
          668,
          572,
          545,
          601,
          500,
          613,
          663,
          568,
          534,
          479.6666666666667,
          535.3333333333334,
          467,
          456,
          488,
          461.6666666666667,
          451,
          434,
          481,
          443,
          519.6666666666666,
          560.6666666666666,
          495,
          517,
          515,
          452,
          523,
          496,
          509.6666666666667,
          422,
          443,
          515.5,
          459,
          670,
          505,
          480,
          483,
          456,
          453,
          441.6666666666667,
          559,
          529,
          472.5,
          494,
          515.3333333333334,
          515,
          487,
          502.3333333333333,
          534.6666666666666,
          421.3333333333333,
          439,
          463,
          494.6666666666667,
          490,
          567,
          474,
          437.6666666666667,
          493.5,
          477,
          440,
          456,
          521,
          649,
          459.6666666666667,
          504.6666666666667,
          462,
          552.6666666666666,
          589,
          441,
          526.3333333333334,
          437,
          436,
          515,
          454,
          670.3333333333334,
          515,
          493,
          458,
          474.5,
          447,
          465,
          568.6666666666666,
          454,
          497,
          421,
          454,
          431.6666666666667,
          482.6666666666667,
          482,
          534.6666666666666,
          477,
          444.5,
          505,
          475,
          655.6666666666666,
          496,
          531,
          933.5,
          426,
          514.3333333333334,
          455,
          604.3333333333334,
          494,
          521,
          525,
          472,
          553.5,
          504,
          451.3333333333333,
          504,
          466,
          491,
          511,
          658,
          604.6666666666666,
          695,
          521.6666666666666,
          496,
          660,
          507,
          453.6666666666667,
          440,
          494,
          418,
          531.6666666666666,
          556.6666666666666,
          449.3333333333333,
          696
         ],
         "yaxis": "y"
        }
       ],
       "layout": {
        "barmode": "relative",
        "legend": {
         "tracegroupgap": 0
        },
        "margin": {
         "t": 60
        },
        "template": {
         "data": {
          "bar": [
           {
            "error_x": {
             "color": "#2a3f5f"
            },
            "error_y": {
             "color": "#2a3f5f"
            },
            "marker": {
             "line": {
              "color": "#E5ECF6",
              "width": 0.5
             },
             "pattern": {
              "fillmode": "overlay",
              "size": 10,
              "solidity": 0.2
             }
            },
            "type": "bar"
           }
          ],
          "barpolar": [
           {
            "marker": {
             "line": {
              "color": "#E5ECF6",
              "width": 0.5
             },
             "pattern": {
              "fillmode": "overlay",
              "size": 10,
              "solidity": 0.2
             }
            },
            "type": "barpolar"
           }
          ],
          "carpet": [
           {
            "aaxis": {
             "endlinecolor": "#2a3f5f",
             "gridcolor": "white",
             "linecolor": "white",
             "minorgridcolor": "white",
             "startlinecolor": "#2a3f5f"
            },
            "baxis": {
             "endlinecolor": "#2a3f5f",
             "gridcolor": "white",
             "linecolor": "white",
             "minorgridcolor": "white",
             "startlinecolor": "#2a3f5f"
            },
            "type": "carpet"
           }
          ],
          "choropleth": [
           {
            "colorbar": {
             "outlinewidth": 0,
             "ticks": ""
            },
            "type": "choropleth"
           }
          ],
          "contour": [
           {
            "colorbar": {
             "outlinewidth": 0,
             "ticks": ""
            },
            "colorscale": [
             [
              0,
              "#0d0887"
             ],
             [
              0.1111111111111111,
              "#46039f"
             ],
             [
              0.2222222222222222,
              "#7201a8"
             ],
             [
              0.3333333333333333,
              "#9c179e"
             ],
             [
              0.4444444444444444,
              "#bd3786"
             ],
             [
              0.5555555555555556,
              "#d8576b"
             ],
             [
              0.6666666666666666,
              "#ed7953"
             ],
             [
              0.7777777777777778,
              "#fb9f3a"
             ],
             [
              0.8888888888888888,
              "#fdca26"
             ],
             [
              1,
              "#f0f921"
             ]
            ],
            "type": "contour"
           }
          ],
          "contourcarpet": [
           {
            "colorbar": {
             "outlinewidth": 0,
             "ticks": ""
            },
            "type": "contourcarpet"
           }
          ],
          "heatmap": [
           {
            "colorbar": {
             "outlinewidth": 0,
             "ticks": ""
            },
            "colorscale": [
             [
              0,
              "#0d0887"
             ],
             [
              0.1111111111111111,
              "#46039f"
             ],
             [
              0.2222222222222222,
              "#7201a8"
             ],
             [
              0.3333333333333333,
              "#9c179e"
             ],
             [
              0.4444444444444444,
              "#bd3786"
             ],
             [
              0.5555555555555556,
              "#d8576b"
             ],
             [
              0.6666666666666666,
              "#ed7953"
             ],
             [
              0.7777777777777778,
              "#fb9f3a"
             ],
             [
              0.8888888888888888,
              "#fdca26"
             ],
             [
              1,
              "#f0f921"
             ]
            ],
            "type": "heatmap"
           }
          ],
          "heatmapgl": [
           {
            "colorbar": {
             "outlinewidth": 0,
             "ticks": ""
            },
            "colorscale": [
             [
              0,
              "#0d0887"
             ],
             [
              0.1111111111111111,
              "#46039f"
             ],
             [
              0.2222222222222222,
              "#7201a8"
             ],
             [
              0.3333333333333333,
              "#9c179e"
             ],
             [
              0.4444444444444444,
              "#bd3786"
             ],
             [
              0.5555555555555556,
              "#d8576b"
             ],
             [
              0.6666666666666666,
              "#ed7953"
             ],
             [
              0.7777777777777778,
              "#fb9f3a"
             ],
             [
              0.8888888888888888,
              "#fdca26"
             ],
             [
              1,
              "#f0f921"
             ]
            ],
            "type": "heatmapgl"
           }
          ],
          "histogram": [
           {
            "marker": {
             "pattern": {
              "fillmode": "overlay",
              "size": 10,
              "solidity": 0.2
             }
            },
            "type": "histogram"
           }
          ],
          "histogram2d": [
           {
            "colorbar": {
             "outlinewidth": 0,
             "ticks": ""
            },
            "colorscale": [
             [
              0,
              "#0d0887"
             ],
             [
              0.1111111111111111,
              "#46039f"
             ],
             [
              0.2222222222222222,
              "#7201a8"
             ],
             [
              0.3333333333333333,
              "#9c179e"
             ],
             [
              0.4444444444444444,
              "#bd3786"
             ],
             [
              0.5555555555555556,
              "#d8576b"
             ],
             [
              0.6666666666666666,
              "#ed7953"
             ],
             [
              0.7777777777777778,
              "#fb9f3a"
             ],
             [
              0.8888888888888888,
              "#fdca26"
             ],
             [
              1,
              "#f0f921"
             ]
            ],
            "type": "histogram2d"
           }
          ],
          "histogram2dcontour": [
           {
            "colorbar": {
             "outlinewidth": 0,
             "ticks": ""
            },
            "colorscale": [
             [
              0,
              "#0d0887"
             ],
             [
              0.1111111111111111,
              "#46039f"
             ],
             [
              0.2222222222222222,
              "#7201a8"
             ],
             [
              0.3333333333333333,
              "#9c179e"
             ],
             [
              0.4444444444444444,
              "#bd3786"
             ],
             [
              0.5555555555555556,
              "#d8576b"
             ],
             [
              0.6666666666666666,
              "#ed7953"
             ],
             [
              0.7777777777777778,
              "#fb9f3a"
             ],
             [
              0.8888888888888888,
              "#fdca26"
             ],
             [
              1,
              "#f0f921"
             ]
            ],
            "type": "histogram2dcontour"
           }
          ],
          "mesh3d": [
           {
            "colorbar": {
             "outlinewidth": 0,
             "ticks": ""
            },
            "type": "mesh3d"
           }
          ],
          "parcoords": [
           {
            "line": {
             "colorbar": {
              "outlinewidth": 0,
              "ticks": ""
             }
            },
            "type": "parcoords"
           }
          ],
          "pie": [
           {
            "automargin": true,
            "type": "pie"
           }
          ],
          "scatter": [
           {
            "fillpattern": {
             "fillmode": "overlay",
             "size": 10,
             "solidity": 0.2
            },
            "type": "scatter"
           }
          ],
          "scatter3d": [
           {
            "line": {
             "colorbar": {
              "outlinewidth": 0,
              "ticks": ""
             }
            },
            "marker": {
             "colorbar": {
              "outlinewidth": 0,
              "ticks": ""
             }
            },
            "type": "scatter3d"
           }
          ],
          "scattercarpet": [
           {
            "marker": {
             "colorbar": {
              "outlinewidth": 0,
              "ticks": ""
             }
            },
            "type": "scattercarpet"
           }
          ],
          "scattergeo": [
           {
            "marker": {
             "colorbar": {
              "outlinewidth": 0,
              "ticks": ""
             }
            },
            "type": "scattergeo"
           }
          ],
          "scattergl": [
           {
            "marker": {
             "colorbar": {
              "outlinewidth": 0,
              "ticks": ""
             }
            },
            "type": "scattergl"
           }
          ],
          "scattermapbox": [
           {
            "marker": {
             "colorbar": {
              "outlinewidth": 0,
              "ticks": ""
             }
            },
            "type": "scattermapbox"
           }
          ],
          "scatterpolar": [
           {
            "marker": {
             "colorbar": {
              "outlinewidth": 0,
              "ticks": ""
             }
            },
            "type": "scatterpolar"
           }
          ],
          "scatterpolargl": [
           {
            "marker": {
             "colorbar": {
              "outlinewidth": 0,
              "ticks": ""
             }
            },
            "type": "scatterpolargl"
           }
          ],
          "scatterternary": [
           {
            "marker": {
             "colorbar": {
              "outlinewidth": 0,
              "ticks": ""
             }
            },
            "type": "scatterternary"
           }
          ],
          "surface": [
           {
            "colorbar": {
             "outlinewidth": 0,
             "ticks": ""
            },
            "colorscale": [
             [
              0,
              "#0d0887"
             ],
             [
              0.1111111111111111,
              "#46039f"
             ],
             [
              0.2222222222222222,
              "#7201a8"
             ],
             [
              0.3333333333333333,
              "#9c179e"
             ],
             [
              0.4444444444444444,
              "#bd3786"
             ],
             [
              0.5555555555555556,
              "#d8576b"
             ],
             [
              0.6666666666666666,
              "#ed7953"
             ],
             [
              0.7777777777777778,
              "#fb9f3a"
             ],
             [
              0.8888888888888888,
              "#fdca26"
             ],
             [
              1,
              "#f0f921"
             ]
            ],
            "type": "surface"
           }
          ],
          "table": [
           {
            "cells": {
             "fill": {
              "color": "#EBF0F8"
             },
             "line": {
              "color": "white"
             }
            },
            "header": {
             "fill": {
              "color": "#C8D4E3"
             },
             "line": {
              "color": "white"
             }
            },
            "type": "table"
           }
          ]
         },
         "layout": {
          "annotationdefaults": {
           "arrowcolor": "#2a3f5f",
           "arrowhead": 0,
           "arrowwidth": 1
          },
          "autotypenumbers": "strict",
          "coloraxis": {
           "colorbar": {
            "outlinewidth": 0,
            "ticks": ""
           }
          },
          "colorscale": {
           "diverging": [
            [
             0,
             "#8e0152"
            ],
            [
             0.1,
             "#c51b7d"
            ],
            [
             0.2,
             "#de77ae"
            ],
            [
             0.3,
             "#f1b6da"
            ],
            [
             0.4,
             "#fde0ef"
            ],
            [
             0.5,
             "#f7f7f7"
            ],
            [
             0.6,
             "#e6f5d0"
            ],
            [
             0.7,
             "#b8e186"
            ],
            [
             0.8,
             "#7fbc41"
            ],
            [
             0.9,
             "#4d9221"
            ],
            [
             1,
             "#276419"
            ]
           ],
           "sequential": [
            [
             0,
             "#0d0887"
            ],
            [
             0.1111111111111111,
             "#46039f"
            ],
            [
             0.2222222222222222,
             "#7201a8"
            ],
            [
             0.3333333333333333,
             "#9c179e"
            ],
            [
             0.4444444444444444,
             "#bd3786"
            ],
            [
             0.5555555555555556,
             "#d8576b"
            ],
            [
             0.6666666666666666,
             "#ed7953"
            ],
            [
             0.7777777777777778,
             "#fb9f3a"
            ],
            [
             0.8888888888888888,
             "#fdca26"
            ],
            [
             1,
             "#f0f921"
            ]
           ],
           "sequentialminus": [
            [
             0,
             "#0d0887"
            ],
            [
             0.1111111111111111,
             "#46039f"
            ],
            [
             0.2222222222222222,
             "#7201a8"
            ],
            [
             0.3333333333333333,
             "#9c179e"
            ],
            [
             0.4444444444444444,
             "#bd3786"
            ],
            [
             0.5555555555555556,
             "#d8576b"
            ],
            [
             0.6666666666666666,
             "#ed7953"
            ],
            [
             0.7777777777777778,
             "#fb9f3a"
            ],
            [
             0.8888888888888888,
             "#fdca26"
            ],
            [
             1,
             "#f0f921"
            ]
           ]
          },
          "colorway": [
           "#636efa",
           "#EF553B",
           "#00cc96",
           "#ab63fa",
           "#FFA15A",
           "#19d3f3",
           "#FF6692",
           "#B6E880",
           "#FF97FF",
           "#FECB52"
          ],
          "font": {
           "color": "#2a3f5f"
          },
          "geo": {
           "bgcolor": "white",
           "lakecolor": "white",
           "landcolor": "#E5ECF6",
           "showlakes": true,
           "showland": true,
           "subunitcolor": "white"
          },
          "hoverlabel": {
           "align": "left"
          },
          "hovermode": "closest",
          "mapbox": {
           "style": "light"
          },
          "paper_bgcolor": "white",
          "plot_bgcolor": "#E5ECF6",
          "polar": {
           "angularaxis": {
            "gridcolor": "white",
            "linecolor": "white",
            "ticks": ""
           },
           "bgcolor": "#E5ECF6",
           "radialaxis": {
            "gridcolor": "white",
            "linecolor": "white",
            "ticks": ""
           }
          },
          "scene": {
           "xaxis": {
            "backgroundcolor": "#E5ECF6",
            "gridcolor": "white",
            "gridwidth": 2,
            "linecolor": "white",
            "showbackground": true,
            "ticks": "",
            "zerolinecolor": "white"
           },
           "yaxis": {
            "backgroundcolor": "#E5ECF6",
            "gridcolor": "white",
            "gridwidth": 2,
            "linecolor": "white",
            "showbackground": true,
            "ticks": "",
            "zerolinecolor": "white"
           },
           "zaxis": {
            "backgroundcolor": "#E5ECF6",
            "gridcolor": "white",
            "gridwidth": 2,
            "linecolor": "white",
            "showbackground": true,
            "ticks": "",
            "zerolinecolor": "white"
           }
          },
          "shapedefaults": {
           "line": {
            "color": "#2a3f5f"
           }
          },
          "ternary": {
           "aaxis": {
            "gridcolor": "white",
            "linecolor": "white",
            "ticks": ""
           },
           "baxis": {
            "gridcolor": "white",
            "linecolor": "white",
            "ticks": ""
           },
           "bgcolor": "#E5ECF6",
           "caxis": {
            "gridcolor": "white",
            "linecolor": "white",
            "ticks": ""
           }
          },
          "title": {
           "x": 0.05
          },
          "xaxis": {
           "automargin": true,
           "gridcolor": "white",
           "linecolor": "white",
           "ticks": "",
           "title": {
            "standoff": 15
           },
           "zerolinecolor": "white",
           "zerolinewidth": 2
          },
          "yaxis": {
           "automargin": true,
           "gridcolor": "white",
           "linecolor": "white",
           "ticks": "",
           "title": {
            "standoff": 15
           },
           "zerolinecolor": "white",
           "zerolinewidth": 2
          }
         }
        },
        "xaxis": {
         "anchor": "y",
         "domain": [
          0,
          1
         ],
         "title": {
          "text": "DATETIME"
         }
        },
        "yaxis": {
         "anchor": "x",
         "domain": [
          0,
          1
         ],
         "title": {
          "text": "CO2"
         }
        }
       }
      },
      "text/html": [
       "<div>                            <div id=\"c9463000-ae42-44a3-8151-887cb65025b3\" class=\"plotly-graph-div\" style=\"height:525px; width:100%;\"></div>            <script type=\"text/javascript\">                require([\"plotly\"], function(Plotly) {                    window.PLOTLYENV=window.PLOTLYENV || {};                                    if (document.getElementById(\"c9463000-ae42-44a3-8151-887cb65025b3\")) {                    Plotly.newPlot(                        \"c9463000-ae42-44a3-8151-887cb65025b3\",                        [{\"alignmentgroup\":\"True\",\"hovertemplate\":\"DATETIME=%{x}\\u003cbr\\u003eCO2=%{y}\\u003cextra\\u003e\\u003c\\u002fextra\\u003e\",\"legendgroup\":\"\",\"marker\":{\"color\":\"#636efa\",\"pattern\":{\"shape\":\"\"},\"line\":{\"width\":0}},\"name\":\"\",\"offsetgroup\":\"\",\"orientation\":\"v\",\"showlegend\":false,\"textposition\":\"auto\",\"x\":[\"2023-09-25T17:45:00\",\"2023-09-29T02:30:00\",\"2023-10-03T07:00:00\",\"2023-09-22T02:30:00\",\"2023-09-23T11:45:00\",\"2023-09-27T18:45:00\",\"2023-10-07T13:15:00\",\"2023-09-26T18:30:00\",\"2023-10-04T15:30:00\",\"2023-09-26T01:30:00\",\"2023-10-04T19:45:00\",\"2023-09-22T02:00:00\",\"2023-09-24T19:15:00\",\"2023-09-22T08:15:00\",\"2023-09-22T09:00:00\",\"2023-09-25T08:00:00\",\"2023-10-02T17:15:00\",\"2023-10-02T02:30:00\",\"2023-10-04T20:00:00\",\"2023-09-26T11:30:00\",\"2023-10-02T16:00:00\",\"2023-09-29T18:30:00\",\"2023-09-23T14:30:00\",\"2023-09-28T15:30:00\",\"2023-09-26T01:00:00\",\"2023-10-03T00:15:00\",\"2023-10-07T12:45:00\",\"2023-10-03T21:45:00\",\"2023-09-28T06:00:00\",\"2023-09-25T23:45:00\",\"2023-10-11T08:15:00\",\"2023-09-25T10:00:00\",\"2023-09-26T08:00:00\",\"2023-10-03T14:45:00\",\"2023-10-04T14:00:00\",\"2023-09-23T02:45:00\",\"2023-10-09T11:00:00\",\"2023-09-28T19:15:00\",\"2023-10-09T08:00:00\",\"2023-09-29T14:00:00\",\"2023-09-26T16:00:00\",\"2023-09-29T10:15:00\",\"2023-09-27T14:15:00\",\"2023-09-27T17:00:00\",\"2023-10-03T10:15:00\",\"2023-10-07T14:30:00\",\"2023-10-03T23:45:00\",\"2023-10-03T01:00:00\",\"2023-10-07T02:30:00\",\"2023-09-27T10:45:00\",\"2023-10-04T19:30:00\",\"2023-10-01T12:30:00\",\"2023-09-22T10:30:00\",\"2023-09-22T18:00:00\",\"2023-10-07T01:00:00\",\"2023-10-11T00:00:00\",\"2023-09-22T16:30:00\",\"2023-09-27T23:00:00\",\"2023-09-28T18:15:00\",\"2023-09-22T13:00:00\",\"2023-09-30T06:15:00\",\"2023-09-27T14:45:00\",\"2023-10-04T01:15:00\",\"2023-09-25T21:15:00\",\"2023-10-02T03:30:00\",\"2023-10-05T13:30:00\",\"2023-10-03T20:45:00\",\"2023-09-22T18:45:00\",\"2023-10-02T07:00:00\",\"2023-09-22T18:30:00\",\"2023-09-26T06:30:00\",\"2023-10-05T14:00:00\",\"2023-10-08T12:45:00\",\"2023-10-11T03:30:00\",\"2023-09-25T04:00:00\",\"2023-10-03T23:15:00\",\"2023-09-24T19:30:00\",\"2023-09-28T17:45:00\",\"2023-10-03T17:45:00\",\"2023-09-27T11:00:00\",\"2023-09-23T18:30:00\",\"2023-09-27T21:00:00\",\"2023-10-04T04:15:00\",\"2023-10-10T17:30:00\",\"2023-10-07T01:45:00\",\"2023-10-09T13:30:00\",\"2023-09-30T13:00:00\",\"2023-09-23T21:00:00\",\"2023-10-09T13:15:00\",\"2023-10-07T00:30:00\",\"2023-09-25T04:45:00\",\"2023-09-24T20:30:00\",\"2023-09-22T03:15:00\",\"2023-10-03T10:45:00\",\"2023-10-03T10:30:00\",\"2023-10-03T00:00:00\",\"2023-09-27T08:00:00\",\"2023-10-04T10:30:00\",\"2023-10-11T01:45:00\",\"2023-10-09T15:30:00\",\"2023-09-25T21:00:00\",\"2023-10-06T22:30:00\",\"2023-10-11T02:45:00\",\"2023-10-10T22:15:00\",\"2023-10-03T16:15:00\",\"2023-10-05T03:15:00\",\"2023-10-07T21:30:00\",\"2023-10-08T14:15:00\",\"2023-09-28T19:30:00\",\"2023-10-02T20:45:00\",\"2023-10-07T20:45:00\",\"2023-09-27T04:45:00\",\"2023-10-09T23:45:00\",\"2023-09-27T09:30:00\",\"2023-09-22T07:15:00\",\"2023-10-03T09:00:00\",\"2023-09-26T00:45:00\",\"2023-09-22T12:45:00\",\"2023-10-01T14:00:00\",\"2023-09-25T14:45:00\",\"2023-10-03T18:00:00\",\"2023-09-25T13:15:00\",\"2023-10-02T11:00:00\",\"2023-09-23T07:15:00\",\"2023-10-07T11:30:00\",\"2023-09-25T18:15:00\",\"2023-10-07T16:15:00\",\"2023-10-03T08:00:00\",\"2023-09-27T07:15:00\",\"2023-09-23T06:00:00\",\"2023-09-24T23:00:00\",\"2023-10-02T00:00:00\",\"2023-09-28T22:30:00\",\"2023-10-02T20:15:00\",\"2023-09-26T14:15:00\",\"2023-09-30T08:15:00\",\"2023-09-24T08:15:00\",\"2023-09-28T08:45:00\",\"2023-10-09T09:00:00\",\"2023-10-07T03:00:00\",\"2023-10-03T05:00:00\",\"2023-10-08T15:15:00\",\"2023-09-27T01:00:00\",\"2023-09-27T06:45:00\",\"2023-10-10T17:00:00\",\"2023-10-07T10:45:00\",\"2023-10-11T06:15:00\",\"2023-10-03T03:45:00\",\"2023-09-29T11:00:00\",\"2023-10-08T17:00:00\",\"2023-10-04T12:30:00\",\"2023-10-03T15:15:00\",\"2023-09-25T17:00:00\",\"2023-09-22T14:15:00\",\"2023-09-28T00:15:00\",\"2023-10-04T11:45:00\",\"2023-09-25T23:00:00\",\"2023-09-26T14:45:00\",\"2023-09-25T19:45:00\",\"2023-09-27T12:15:00\",\"2023-09-27T16:15:00\",\"2023-09-27T18:00:00\",\"2023-10-02T14:30:00\",\"2023-10-03T19:15:00\",\"2023-09-25T05:30:00\",\"2023-10-03T09:45:00\",\"2023-10-03T04:45:00\",\"2023-09-22T22:15:00\",\"2023-09-27T15:45:00\",\"2023-09-24T18:30:00\",\"2023-10-04T09:00:00\",\"2023-10-07T07:45:00\",\"2023-09-26T17:30:00\",\"2023-09-30T14:30:00\",\"2023-10-05T02:15:00\",\"2023-09-27T11:30:00\",\"2023-09-27T01:30:00\",\"2023-10-05T01:15:00\",\"2023-09-25T14:15:00\",\"2023-09-24T11:45:00\",\"2023-09-26T15:45:00\",\"2023-10-03T22:15:00\",\"2023-09-22T18:15:00\",\"2023-09-22T21:45:00\",\"2023-10-08T07:45:00\",\"2023-09-28T08:00:00\",\"2023-09-24T12:00:00\",\"2023-09-25T20:00:00\",\"2023-09-28T16:15:00\",\"2023-10-06T11:45:00\",\"2023-09-23T23:00:00\",\"2023-09-23T22:15:00\",\"2023-09-25T22:45:00\",\"2023-09-22T07:30:00\",\"2023-10-03T16:30:00\",\"2023-10-06T04:15:00\",\"2023-10-04T05:15:00\",\"2023-09-30T03:45:00\",\"2023-09-27T23:15:00\",\"2023-09-22T17:15:00\",\"2023-10-11T01:15:00\",\"2023-10-01T07:15:00\",\"2023-10-09T18:15:00\",\"2023-10-08T20:00:00\",\"2023-10-08T18:00:00\",\"2023-10-06T18:00:00\",\"2023-10-06T02:00:00\",\"2023-09-29T03:30:00\",\"2023-09-25T01:30:00\",\"2023-09-29T11:45:00\",\"2023-10-04T18:15:00\",\"2023-09-27T19:15:00\",\"2023-09-30T05:30:00\",\"2023-09-26T10:15:00\",\"2023-09-26T10:45:00\",\"2023-10-04T04:00:00\",\"2023-10-02T12:45:00\",\"2023-10-03T18:15:00\",\"2023-10-06T00:15:00\",\"2023-09-27T08:45:00\",\"2023-10-06T00:45:00\",\"2023-10-10T18:15:00\",\"2023-09-24T21:45:00\",\"2023-10-04T00:30:00\",\"2023-09-22T09:45:00\",\"2023-10-04T01:45:00\",\"2023-10-10T22:45:00\",\"2023-09-23T13:15:00\",\"2023-09-29T13:00:00\",\"2023-09-24T17:00:00\",\"2023-10-03T05:45:00\",\"2023-09-27T22:15:00\",\"2023-09-27T12:00:00\",\"2023-10-08T04:15:00\",\"2023-10-08T00:45:00\",\"2023-10-05T09:45:00\",\"2023-09-28T01:45:00\",\"2023-10-04T14:30:00\",\"2023-09-30T05:00:00\",\"2023-09-23T03:00:00\",\"2023-09-23T16:30:00\",\"2023-10-07T21:00:00\",\"2023-09-28T08:15:00\",\"2023-09-25T00:45:00\",\"2023-10-04T16:00:00\",\"2023-09-22T14:00:00\",\"2023-09-24T06:45:00\",\"2023-09-25T23:15:00\",\"2023-10-08T03:45:00\",\"2023-10-03T05:30:00\",\"2023-10-03T11:15:00\",\"2023-10-02T21:45:00\",\"2023-09-23T05:00:00\",\"2023-09-29T12:15:00\",\"2023-09-25T09:00:00\",\"2023-09-25T12:45:00\",\"2023-10-06T06:45:00\",\"2023-09-22T12:00:00\",\"2023-10-10T23:30:00\",\"2023-09-25T18:45:00\",\"2023-10-06T20:00:00\",\"2023-10-05T15:00:00\",\"2023-10-09T17:45:00\",\"2023-10-08T01:15:00\",\"2023-09-30T21:45:00\",\"2023-09-25T20:45:00\",\"2023-09-27T17:15:00\",\"2023-09-24T09:00:00\",\"2023-10-04T01:00:00\",\"2023-10-01T00:15:00\",\"2023-10-04T04:45:00\",\"2023-09-25T08:15:00\",\"2023-10-09T09:45:00\",\"2023-10-01T15:15:00\",\"2023-10-03T14:30:00\",\"2023-10-03T20:00:00\",\"2023-10-07T09:45:00\",\"2023-10-04T02:30:00\",\"2023-10-03T08:45:00\",\"2023-10-07T08:45:00\",\"2023-09-24T19:00:00\",\"2023-10-07T15:00:00\",\"2023-09-24T19:45:00\",\"2023-09-26T08:30:00\",\"2023-10-05T13:00:00\",\"2023-10-02T17:30:00\",\"2023-10-04T13:15:00\",\"2023-09-30T14:45:00\",\"2023-09-28T21:15:00\",\"2023-10-02T02:45:00\",\"2023-10-02T19:15:00\",\"2023-10-04T07:00:00\",\"2023-10-03T02:30:00\",\"2023-09-27T03:45:00\",\"2023-10-07T23:45:00\",\"2023-09-27T13:45:00\",\"2023-09-22T20:45:00\",\"2023-09-29T13:30:00\",\"2023-09-26T08:45:00\",\"2023-10-09T09:15:00\",\"2023-09-30T04:30:00\",\"2023-10-10T06:45:00\",\"2023-09-25T07:15:00\",\"2023-09-29T12:00:00\",\"2023-10-05T12:00:00\",\"2023-09-27T07:30:00\",\"2023-09-29T04:30:00\",\"2023-10-10T20:30:00\",\"2023-10-02T08:30:00\",\"2023-09-28T07:00:00\",\"2023-10-07T22:15:00\",\"2023-09-27T20:00:00\",\"2023-09-24T14:30:00\",\"2023-09-28T04:00:00\",\"2023-10-07T12:30:00\",\"2023-10-09T12:30:00\",\"2023-09-22T21:00:00\",\"2023-09-27T03:00:00\",\"2023-10-02T00:15:00\",\"2023-09-26T18:15:00\",\"2023-10-03T08:30:00\",\"2023-09-26T10:00:00\",\"2023-10-06T16:15:00\",\"2023-09-22T07:00:00\",\"2023-09-24T13:45:00\",\"2023-09-23T12:30:00\",\"2023-09-25T14:30:00\",\"2023-10-08T02:30:00\",\"2023-09-26T15:15:00\",\"2023-10-10T07:15:00\",\"2023-09-22T15:15:00\",\"2023-10-03T15:45:00\",\"2023-09-24T14:15:00\",\"2023-10-04T10:45:00\",\"2023-09-26T03:15:00\",\"2023-09-27T16:30:00\",\"2023-09-24T16:15:00\",\"2023-09-24T07:15:00\",\"2023-10-02T16:45:00\",\"2023-09-24T11:15:00\",\"2023-10-09T15:00:00\",\"2023-09-23T03:30:00\",\"2023-10-03T19:30:00\",\"2023-09-28T12:15:00\",\"2023-09-26T18:45:00\",\"2023-09-28T11:00:00\",\"2023-09-25T08:30:00\",\"2023-10-03T06:30:00\",\"2023-10-01T13:00:00\",\"2023-09-29T02:45:00\",\"2023-09-23T15:15:00\",\"2023-09-28T16:30:00\",\"2023-09-22T13:30:00\",\"2023-10-10T21:45:00\",\"2023-09-25T11:30:00\",\"2023-09-24T08:30:00\",\"2023-10-03T11:30:00\",\"2023-10-08T10:00:00\",\"2023-10-08T09:00:00\",\"2023-10-03T12:00:00\",\"2023-09-23T14:00:00\",\"2023-10-01T22:00:00\",\"2023-09-28T20:30:00\",\"2023-09-23T16:15:00\",\"2023-10-04T18:00:00\",\"2023-09-27T22:30:00\",\"2023-10-03T03:15:00\",\"2023-10-04T00:00:00\",\"2023-09-24T15:30:00\",\"2023-09-22T11:15:00\",\"2023-09-23T07:00:00\",\"2023-10-01T15:00:00\",\"2023-09-26T04:00:00\",\"2023-10-09T00:45:00\",\"2023-10-06T02:30:00\",\"2023-09-29T02:00:00\",\"2023-10-06T23:00:00\",\"2023-10-03T14:00:00\",\"2023-10-07T16:00:00\",\"2023-10-05T16:30:00\",\"2023-09-30T12:30:00\",\"2023-10-03T15:00:00\",\"2023-10-11T03:00:00\",\"2023-09-22T08:30:00\",\"2023-09-26T06:15:00\",\"2023-10-08T11:15:00\",\"2023-10-02T14:45:00\",\"2023-09-23T20:30:00\",\"2023-09-28T04:30:00\",\"2023-10-06T08:00:00\",\"2023-10-09T23:00:00\",\"2023-10-06T21:00:00\",\"2023-09-28T05:15:00\",\"2023-09-25T01:00:00\",\"2023-10-07T20:30:00\",\"2023-09-26T19:45:00\",\"2023-09-30T02:15:00\",\"2023-09-26T04:45:00\",\"2023-10-06T17:30:00\",\"2023-09-23T06:30:00\",\"2023-10-07T18:45:00\",\"2023-10-05T10:30:00\",\"2023-09-27T04:15:00\",\"2023-10-06T15:00:00\",\"2023-10-08T17:30:00\",\"2023-09-27T03:15:00\",\"2023-10-03T09:30:00\",\"2023-10-07T19:45:00\",\"2023-10-07T19:15:00\",\"2023-10-08T02:00:00\",\"2023-10-07T20:00:00\",\"2023-09-25T19:15:00\",\"2023-09-25T22:30:00\",\"2023-09-29T04:00:00\",\"2023-09-27T01:45:00\",\"2023-09-30T13:30:00\",\"2023-10-04T09:30:00\",\"2023-10-09T22:15:00\",\"2023-09-29T01:45:00\",\"2023-10-03T23:30:00\",\"2023-09-24T18:45:00\",\"2023-09-23T13:30:00\",\"2023-10-08T23:15:00\",\"2023-10-09T21:45:00\",\"2023-09-26T02:30:00\",\"2023-09-28T10:30:00\",\"2023-10-09T11:30:00\",\"2023-10-09T10:15:00\",\"2023-09-29T06:45:00\",\"2023-09-22T13:45:00\",\"2023-10-04T15:15:00\",\"2023-10-06T18:30:00\",\"2023-10-09T12:45:00\",\"2023-10-10T19:15:00\",\"2023-09-29T10:30:00\",\"2023-10-09T20:45:00\",\"2023-09-25T13:30:00\",\"2023-09-26T07:45:00\",\"2023-09-23T01:15:00\",\"2023-10-03T13:15:00\",\"2023-10-04T18:45:00\",\"2023-10-04T17:15:00\",\"2023-09-25T09:45:00\",\"2023-09-24T23:45:00\",\"2023-10-02T08:15:00\",\"2023-09-23T10:30:00\",\"2023-10-10T16:00:00\",\"2023-09-25T18:30:00\",\"2023-09-25T09:30:00\",\"2023-10-01T22:30:00\",\"2023-10-03T01:15:00\",\"2023-10-04T13:00:00\",\"2023-10-08T07:30:00\",\"2023-10-03T22:00:00\",\"2023-09-28T11:30:00\",\"2023-09-27T22:00:00\",\"2023-09-22T08:00:00\",\"2023-10-02T13:30:00\",\"2023-09-27T20:15:00\",\"2023-09-25T03:00:00\",\"2023-10-06T12:45:00\",\"2023-09-30T01:00:00\",\"2023-09-26T06:00:00\",\"2023-10-03T19:45:00\",\"2023-10-10T20:00:00\",\"2023-09-27T17:45:00\",\"2023-10-03T13:30:00\",\"2023-09-23T10:00:00\",\"2023-09-27T12:30:00\",\"2023-09-24T07:30:00\",\"2023-09-30T15:00:00\",\"2023-09-26T16:15:00\",\"2023-10-07T17:15:00\",\"2023-09-30T12:45:00\",\"2023-10-05T01:00:00\",\"2023-10-03T11:45:00\",\"2023-09-24T10:15:00\",\"2023-10-08T13:15:00\",\"2023-09-22T12:30:00\",\"2023-10-01T08:00:00\",\"2023-09-23T11:15:00\",\"2023-09-22T04:45:00\",\"2023-09-22T08:45:00\",\"2023-09-28T20:15:00\",\"2023-10-10T15:45:00\",\"2023-10-02T07:45:00\",\"2023-09-26T14:00:00\",\"2023-09-22T16:00:00\",\"2023-10-06T14:30:00\",\"2023-10-06T03:00:00\",\"2023-09-26T09:15:00\",\"2023-10-02T07:15:00\",\"2023-09-22T06:45:00\",\"2023-10-08T02:45:00\",\"2023-09-29T14:45:00\",\"2023-09-22T04:00:00\",\"2023-09-23T19:45:00\",\"2023-10-10T10:45:00\",\"2023-09-25T03:15:00\",\"2023-10-09T12:00:00\",\"2023-09-27T11:15:00\",\"2023-09-27T04:30:00\",\"2023-10-03T04:30:00\",\"2023-10-07T22:30:00\",\"2023-09-29T13:45:00\",\"2023-09-25T15:30:00\",\"2023-10-07T10:15:00\",\"2023-09-23T17:15:00\",\"2023-09-27T16:00:00\",\"2023-10-06T01:45:00\",\"2023-09-28T06:15:00\",\"2023-10-09T21:15:00\",\"2023-09-25T22:00:00\",\"2023-10-10T22:00:00\",\"2023-09-24T10:00:00\",\"2023-10-03T06:00:00\",\"2023-09-30T14:15:00\",\"2023-09-26T00:15:00\",\"2023-09-27T14:30:00\",\"2023-09-25T12:15:00\",\"2023-10-09T11:45:00\",\"2023-10-02T15:30:00\",\"2023-09-25T04:15:00\",\"2023-09-26T02:15:00\",\"2023-10-11T06:00:00\",\"2023-09-23T04:45:00\",\"2023-09-25T08:45:00\",\"2023-10-05T19:30:00\",\"2023-10-04T03:00:00\",\"2023-09-28T02:30:00\",\"2023-09-27T10:30:00\",\"2023-10-04T00:15:00\",\"2023-09-29T18:15:00\",\"2023-09-22T21:30:00\",\"2023-09-30T09:00:00\",\"2023-09-23T07:30:00\",\"2023-09-25T13:45:00\",\"2023-09-23T20:00:00\",\"2023-09-28T21:00:00\",\"2023-09-24T21:00:00\",\"2023-10-06T19:00:00\",\"2023-09-27T09:15:00\",\"2023-09-30T04:15:00\",\"2023-09-26T23:30:00\",\"2023-09-24T21:30:00\",\"2023-10-05T16:00:00\",\"2023-10-05T03:00:00\",\"2023-09-23T20:15:00\",\"2023-10-09T16:00:00\",\"2023-10-05T02:45:00\",\"2023-09-24T12:15:00\",\"2023-09-22T19:00:00\",\"2023-09-22T09:30:00\",\"2023-09-22T15:30:00\",\"2023-09-29T03:00:00\",\"2023-10-04T07:15:00\",\"2023-09-22T02:15:00\",\"2023-09-28T22:15:00\",\"2023-10-03T00:30:00\",\"2023-10-02T20:30:00\",\"2023-09-24T16:00:00\",\"2023-09-27T20:45:00\",\"2023-09-26T02:00:00\",\"2023-10-03T18:45:00\",\"2023-09-30T22:15:00\",\"2023-10-04T13:30:00\",\"2023-09-25T07:45:00\",\"2023-10-08T13:30:00\",\"2023-09-24T20:15:00\",\"2023-10-04T03:30:00\",\"2023-10-02T19:45:00\",\"2023-10-02T13:45:00\",\"2023-09-25T11:00:00\",\"2023-10-03T04:00:00\",\"2023-09-26T19:00:00\",\"2023-10-06T13:15:00\",\"2023-09-28T10:00:00\",\"2023-10-02T10:15:00\",\"2023-09-25T02:30:00\",\"2023-10-05T09:00:00\",\"2023-09-28T02:45:00\",\"2023-09-24T21:15:00\",\"2023-09-29T04:15:00\",\"2023-09-26T00:30:00\",\"2023-09-23T00:00:00\",\"2023-10-06T08:30:00\",\"2023-09-26T07:30:00\",\"2023-09-22T07:45:00\",\"2023-10-04T17:00:00\",\"2023-09-27T08:30:00\",\"2023-09-24T08:00:00\",\"2023-10-07T00:00:00\",\"2023-10-04T15:45:00\",\"2023-10-06T20:30:00\",\"2023-09-26T19:30:00\",\"2023-09-27T07:00:00\",\"2023-09-24T06:15:00\",\"2023-10-04T19:15:00\",\"2023-09-22T16:15:00\",\"2023-09-23T20:45:00\",\"2023-10-03T07:45:00\",\"2023-10-02T13:15:00\",\"2023-09-23T15:30:00\",\"2023-09-27T18:30:00\",\"2023-09-28T02:00:00\",\"2023-10-09T18:45:00\",\"2023-10-06T23:30:00\",\"2023-10-03T21:30:00\",\"2023-10-06T19:30:00\",\"2023-09-29T13:15:00\",\"2023-10-10T07:45:00\",\"2023-10-02T09:45:00\",\"2023-10-08T01:30:00\",\"2023-10-10T10:00:00\",\"2023-10-05T23:45:00\",\"2023-09-28T10:45:00\",\"2023-10-02T11:45:00\",\"2023-09-25T07:00:00\",\"2023-10-01T23:45:00\",\"2023-10-04T02:45:00\",\"2023-10-04T00:45:00\",\"2023-09-26T08:15:00\",\"2023-09-25T02:15:00\",\"2023-09-25T00:00:00\",\"2023-09-23T12:45:00\",\"2023-09-22T04:30:00\",\"2023-09-24T09:45:00\",\"2023-09-24T22:45:00\",\"2023-10-02T22:00:00\",\"2023-10-07T23:00:00\",\"2023-10-03T04:15:00\",\"2023-09-26T09:00:00\",\"2023-09-25T11:45:00\",\"2023-10-03T12:45:00\",\"2023-09-24T07:00:00\",\"2023-10-03T06:45:00\",\"2023-10-04T20:30:00\",\"2023-10-06T03:45:00\",\"2023-09-23T15:00:00\",\"2023-10-02T06:45:00\",\"2023-09-29T07:00:00\",\"2023-09-23T03:45:00\",\"2023-10-05T18:45:00\",\"2023-10-04T12:00:00\",\"2023-10-04T14:45:00\",\"2023-10-04T16:45:00\",\"2023-09-23T22:00:00\",\"2023-09-23T18:00:00\",\"2023-09-28T06:45:00\",\"2023-10-01T22:45:00\",\"2023-09-29T15:30:00\",\"2023-09-25T23:30:00\",\"2023-09-26T15:00:00\",\"2023-09-26T11:45:00\",\"2023-10-06T17:00:00\",\"2023-10-10T12:45:00\",\"2023-09-25T14:00:00\",\"2023-10-01T21:30:00\",\"2023-09-22T10:15:00\",\"2023-10-03T12:30:00\",\"2023-09-28T11:15:00\",\"2023-09-27T13:30:00\",\"2023-09-25T16:15:00\",\"2023-10-07T16:45:00\",\"2023-10-04T02:00:00\",\"2023-09-23T04:00:00\",\"2023-10-02T23:15:00\",\"2023-10-06T10:30:00\",\"2023-10-07T15:30:00\",\"2023-09-25T20:30:00\",\"2023-09-27T00:00:00\",\"2023-10-06T09:30:00\",\"2023-09-28T17:15:00\",\"2023-09-26T07:00:00\",\"2023-09-22T15:00:00\",\"2023-10-03T07:30:00\",\"2023-10-03T17:30:00\",\"2023-10-03T03:00:00\",\"2023-09-26T12:15:00\",\"2023-09-27T02:30:00\",\"2023-09-23T13:00:00\",\"2023-10-07T03:45:00\",\"2023-10-07T07:15:00\",\"2023-09-23T03:15:00\",\"2023-10-11T03:45:00\",\"2023-09-26T05:15:00\",\"2023-09-26T05:30:00\",\"2023-09-27T00:45:00\",\"2023-09-22T10:00:00\",\"2023-09-23T22:30:00\",\"2023-10-04T16:30:00\",\"2023-09-23T06:15:00\",\"2023-10-06T07:00:00\",\"2023-09-22T12:15:00\",\"2023-09-24T08:45:00\",\"2023-10-10T11:15:00\",\"2023-10-03T03:30:00\",\"2023-09-26T16:30:00\",\"2023-10-06T05:00:00\",\"2023-10-02T22:30:00\",\"2023-10-09T19:45:00\",\"2023-09-30T22:45:00\",\"2023-10-04T13:45:00\",\"2023-10-03T22:45:00\",\"2023-09-24T15:45:00\",\"2023-09-30T08:45:00\",\"2023-09-25T12:00:00\",\"2023-10-05T08:00:00\",\"2023-09-23T23:15:00\",\"2023-09-22T11:45:00\",\"2023-10-05T20:00:00\",\"2023-09-22T23:00:00\",\"2023-10-02T19:30:00\",\"2023-09-22T02:45:00\",\"2023-09-23T05:15:00\",\"2023-09-28T07:30:00\",\"2023-09-29T10:00:00\",\"2023-10-09T01:15:00\",\"2023-10-02T10:30:00\",\"2023-09-27T07:45:00\",\"2023-09-25T21:45:00\",\"2023-09-24T17:30:00\",\"2023-10-02T14:00:00\",\"2023-10-05T11:00:00\",\"2023-09-26T17:15:00\",\"2023-09-29T10:45:00\",\"2023-10-06T09:45:00\",\"2023-10-04T07:45:00\",\"2023-09-28T21:45:00\",\"2023-09-23T04:30:00\",\"2023-09-27T03:30:00\",\"2023-09-24T07:45:00\",\"2023-10-05T11:45:00\",\"2023-09-23T15:45:00\",\"2023-09-24T22:00:00\",\"2023-09-28T01:30:00\",\"2023-09-27T09:45:00\",\"2023-09-23T00:30:00\",\"2023-09-23T13:45:00\",\"2023-09-30T23:00:00\",\"2023-10-07T13:30:00\",\"2023-09-24T17:15:00\",\"2023-09-26T03:00:00\",\"2023-10-02T11:30:00\",\"2023-09-27T16:45:00\",\"2023-09-28T11:45:00\",\"2023-10-11T01:00:00\",\"2023-10-04T14:15:00\",\"2023-09-27T21:30:00\",\"2023-10-06T21:30:00\",\"2023-09-23T04:15:00\",\"2023-09-26T17:00:00\",\"2023-10-09T17:15:00\",\"2023-09-25T17:30:00\",\"2023-10-03T02:00:00\",\"2023-10-05T15:30:00\",\"2023-10-09T19:15:00\",\"2023-09-22T17:45:00\",\"2023-09-23T17:30:00\",\"2023-10-03T01:30:00\",\"2023-10-02T02:15:00\",\"2023-10-08T10:30:00\",\"2023-10-07T17:45:00\",\"2023-09-30T13:45:00\",\"2023-09-29T11:30:00\",\"2023-10-04T19:00:00\",\"2023-09-23T16:00:00\",\"2023-10-03T13:00:00\",\"2023-09-22T14:45:00\",\"2023-09-27T02:45:00\",\"2023-09-29T12:45:00\",\"2023-10-10T09:00:00\",\"2023-09-25T05:00:00\",\"2023-09-25T12:30:00\",\"2023-09-24T14:45:00\",\"2023-10-02T01:30:00\",\"2023-10-01T14:15:00\",\"2023-09-30T15:15:00\",\"2023-09-24T18:15:00\",\"2023-10-03T02:15:00\",\"2023-10-07T02:00:00\",\"2023-10-05T14:30:00\",\"2023-10-09T01:30:00\",\"2023-10-05T02:30:00\",\"2023-09-26T12:30:00\",\"2023-10-02T21:00:00\",\"2023-10-04T08:00:00\",\"2023-09-22T23:30:00\",\"2023-10-05T19:15:00\",\"2023-09-26T18:00:00\",\"2023-10-10T09:30:00\",\"2023-10-05T09:15:00\",\"2023-10-05T10:15:00\",\"2023-09-23T23:30:00\",\"2023-09-26T10:30:00\",\"2023-10-02T22:45:00\",\"2023-09-24T06:00:00\",\"2023-09-28T19:45:00\",\"2023-09-23T01:00:00\",\"2023-09-23T21:45:00\",\"2023-10-10T18:00:00\",\"2023-10-04T16:15:00\",\"2023-10-02T21:15:00\",\"2023-10-02T16:15:00\",\"2023-10-03T08:15:00\",\"2023-10-10T10:15:00\",\"2023-09-26T01:15:00\",\"2023-10-03T17:00:00\",\"2023-10-04T09:45:00\",\"2023-10-08T09:30:00\",\"2023-09-28T07:45:00\",\"2023-09-23T10:45:00\",\"2023-09-23T12:00:00\",\"2023-10-08T16:30:00\",\"2023-09-27T09:00:00\",\"2023-10-03T13:45:00\",\"2023-10-05T12:30:00\",\"2023-09-23T10:15:00\",\"2023-09-27T15:15:00\",\"2023-09-26T09:45:00\",\"2023-09-25T17:15:00\",\"2023-09-28T00:30:00\",\"2023-09-22T03:45:00\",\"2023-10-04T11:00:00\",\"2023-09-23T09:45:00\",\"2023-09-22T22:30:00\",\"2023-09-23T08:15:00\",\"2023-09-25T16:00:00\",\"2023-09-28T15:45:00\",\"2023-09-24T23:30:00\",\"2023-10-02T01:00:00\",\"2023-09-22T17:00:00\",\"2023-10-11T05:30:00\",\"2023-09-27T23:45:00\",\"2023-10-08T23:45:00\",\"2023-09-28T00:45:00\",\"2023-09-30T03:15:00\",\"2023-10-10T19:45:00\",\"2023-09-27T02:00:00\",\"2023-10-03T07:15:00\",\"2023-09-26T04:30:00\",\"2023-09-26T06:45:00\",\"2023-10-10T12:15:00\",\"2023-09-26T17:45:00\",\"2023-10-03T01:45:00\",\"2023-10-06T07:30:00\",\"2023-09-24T10:45:00\",\"2023-09-29T03:45:00\",\"2023-09-30T03:30:00\",\"2023-10-01T23:15:00\",\"2023-09-25T07:30:00\",\"2023-09-25T02:00:00\",\"2023-09-24T11:00:00\",\"2023-10-02T16:30:00\",\"2023-09-23T09:30:00\",\"2023-10-06T19:15:00\",\"2023-10-07T18:15:00\",\"2023-09-28T20:45:00\",\"2023-10-09T20:15:00\",\"2023-09-23T19:30:00\",\"2023-10-08T14:00:00\",\"2023-10-04T01:30:00\",\"2023-09-28T19:00:00\",\"2023-09-25T05:15:00\",\"2023-09-27T04:00:00\",\"2023-09-25T03:30:00\",\"2023-10-07T01:15:00\",\"2023-09-24T09:30:00\",\"2023-10-03T09:15:00\",\"2023-10-06T01:15:00\",\"2023-10-03T17:15:00\",\"2023-09-27T05:15:00\",\"2023-10-02T08:00:00\",\"2023-10-06T16:30:00\",\"2023-09-22T22:00:00\",\"2023-09-27T21:15:00\",\"2023-09-23T08:45:00\",\"2023-09-25T10:15:00\",\"2023-09-25T15:00:00\",\"2023-09-23T09:15:00\",\"2023-09-27T11:45:00\",\"2023-09-25T19:30:00\",\"2023-10-10T23:15:00\",\"2023-09-25T01:45:00\",\"2023-09-23T09:00:00\",\"2023-09-28T18:30:00\",\"2023-09-26T01:45:00\",\"2023-10-11T04:30:00\",\"2023-09-26T19:15:00\",\"2023-10-08T17:15:00\",\"2023-10-06T15:30:00\",\"2023-09-24T22:15:00\",\"2023-10-05T13:45:00\",\"2023-09-26T23:45:00\",\"2023-10-02T18:45:00\",\"2023-09-27T21:45:00\",\"2023-09-24T20:00:00\",\"2023-10-02T15:45:00\",\"2023-10-02T18:00:00\",\"2023-10-01T13:15:00\",\"2023-09-30T14:00:00\",\"2023-09-25T02:45:00\",\"2023-09-23T21:15:00\",\"2023-09-22T22:45:00\",\"2023-10-04T08:15:00\",\"2023-10-06T12:30:00\",\"2023-10-02T12:00:00\",\"2023-09-28T16:45:00\",\"2023-09-23T16:45:00\",\"2023-10-02T20:00:00\",\"2023-10-09T16:45:00\",\"2023-09-24T16:45:00\",\"2023-09-25T15:15:00\",\"2023-10-07T08:15:00\",\"2023-09-25T03:45:00\",\"2023-10-01T13:30:00\",\"2023-10-05T08:30:00\",\"2023-09-26T11:15:00\",\"2023-09-24T18:00:00\",\"2023-10-10T07:00:00\",\"2023-10-02T18:15:00\",\"2023-09-24T05:45:00\",\"2023-09-29T12:30:00\",\"2023-10-10T18:45:00\",\"2023-10-02T23:00:00\",\"2023-09-22T16:45:00\",\"2023-10-01T21:45:00\",\"2023-09-22T15:45:00\",\"2023-09-30T05:15:00\",\"2023-09-23T05:30:00\",\"2023-09-23T00:15:00\",\"2023-09-26T20:00:00\",\"2023-09-27T14:00:00\",\"2023-10-10T21:00:00\",\"2023-10-02T10:00:00\",\"2023-10-07T14:00:00\",\"2023-09-25T10:45:00\",\"2023-10-06T10:15:00\",\"2023-10-09T14:30:00\",\"2023-10-03T02:45:00\",\"2023-10-07T11:00:00\",\"2023-09-24T06:30:00\",\"2023-10-04T09:15:00\",\"2023-10-04T03:15:00\",\"2023-09-27T12:45:00\",\"2023-10-08T11:30:00\",\"2023-09-28T22:00:00\",\"2023-10-06T14:15:00\",\"2023-09-28T12:30:00\",\"2023-09-24T20:45:00\",\"2023-10-01T14:45:00\",\"2023-10-04T02:15:00\",\"2023-10-11T00:45:00\",\"2023-09-23T14:45:00\",\"2023-10-02T19:00:00\",\"2023-10-07T09:15:00\",\"2023-10-04T10:00:00\",\"2023-09-28T17:00:00\",\"2023-10-07T16:30:00\",\"2023-10-02T06:30:00\",\"2023-10-02T01:45:00\",\"2023-09-24T15:15:00\",\"2023-10-08T03:15:00\",\"2023-09-30T08:30:00\",\"2023-10-03T12:15:00\",\"2023-09-28T16:00:00\",\"2023-09-24T12:45:00\",\"2023-09-25T00:15:00\",\"2023-09-22T09:15:00\",\"2023-10-08T18:45:00\",\"2023-09-29T14:30:00\",\"2023-09-30T23:45:00\",\"2023-09-26T09:30:00\",\"2023-10-09T10:00:00\",\"2023-09-28T03:15:00\",\"2023-09-24T15:00:00\",\"2023-10-04T15:00:00\",\"2023-10-11T09:45:00\",\"2023-09-23T00:45:00\",\"2023-09-22T14:30:00\",\"2023-10-09T16:30:00\",\"2023-09-23T11:00:00\",\"2023-10-03T11:00:00\",\"2023-09-22T11:00:00\",\"2023-10-04T11:15:00\",\"2023-09-25T00:30:00\",\"2023-09-23T08:30:00\",\"2023-09-22T10:45:00\",\"2023-09-28T10:15:00\",\"2023-10-03T18:30:00\",\"2023-09-26T12:00:00\",\"2023-10-09T08:15:00\",\"2023-10-04T06:45:00\",\"2023-09-27T00:30:00\",\"2023-10-06T07:15:00\",\"2023-09-30T04:00:00\",\"2023-09-24T11:30:00\",\"2023-10-03T21:15:00\",\"2023-09-28T21:30:00\",\"2023-09-23T18:45:00\",\"2023-10-05T01:30:00\",\"2023-10-04T08:45:00\",\"2023-10-03T22:30:00\",\"2023-09-27T19:30:00\",\"2023-09-26T05:00:00\",\"2023-09-27T13:15:00\",\"2023-10-06T12:00:00\",\"2023-10-02T23:30:00\",\"2023-09-25T16:30:00\",\"2023-09-24T10:30:00\",\"2023-10-03T19:00:00\",\"2023-10-10T21:15:00\",\"2023-10-08T00:15:00\",\"2023-10-08T19:30:00\",\"2023-09-28T04:15:00\",\"2023-10-11T00:30:00\",\"2023-10-09T10:30:00\",\"2023-10-02T03:00:00\",\"2023-10-01T09:00:00\",\"2023-10-02T17:45:00\",\"2023-10-02T23:45:00\",\"2023-09-23T21:30:00\",\"2023-10-04T04:30:00\",\"2023-10-02T12:30:00\",\"2023-10-08T18:30:00\",\"2023-09-29T09:45:00\",\"2023-09-24T13:00:00\",\"2023-10-03T06:15:00\",\"2023-09-28T20:00:00\",\"2023-09-26T13:30:00\",\"2023-10-05T19:00:00\",\"2023-10-08T12:15:00\",\"2023-10-04T20:15:00\",\"2023-10-08T23:00:00\",\"2023-10-07T12:00:00\",\"2023-09-24T14:00:00\",\"2023-09-28T03:30:00\",\"2023-10-08T08:30:00\",\"2023-10-01T14:30:00\",\"2023-10-03T00:45:00\",\"2023-09-29T07:15:00\",\"2023-09-30T22:00:00\",\"2023-09-30T04:45:00\",\"2023-09-30T02:30:00\",\"2023-09-28T09:45:00\",\"2023-09-22T23:45:00\",\"2023-10-02T10:45:00\",\"2023-09-28T01:15:00\",\"2023-10-03T16:45:00\",\"2023-10-01T09:15:00\",\"2023-10-11T04:00:00\",\"2023-09-23T17:00:00\",\"2023-09-30T06:00:00\",\"2023-10-02T21:30:00\",\"2023-10-06T03:15:00\",\"2023-09-26T16:45:00\",\"2023-09-22T23:15:00\",\"2023-10-05T23:00:00\",\"2023-09-26T14:30:00\",\"2023-10-11T02:15:00\",\"2023-09-27T00:15:00\",\"2023-10-06T13:45:00\",\"2023-09-27T05:00:00\",\"2023-09-23T12:15:00\",\"2023-10-09T00:15:00\",\"2023-09-28T01:00:00\",\"2023-09-28T12:00:00\",\"2023-10-08T16:00:00\",\"2023-10-02T17:00:00\",\"2023-09-28T17:30:00\",\"2023-09-26T13:15:00\",\"2023-10-09T13:45:00\",\"2023-10-07T23:30:00\",\"2023-09-27T15:30:00\",\"2023-10-02T15:15:00\",\"2023-09-27T10:15:00\",\"2023-09-26T12:45:00\",\"2023-09-24T17:45:00\",\"2023-10-01T13:45:00\",\"2023-10-08T10:15:00\",\"2023-09-25T15:45:00\",\"2023-10-03T10:00:00\",\"2023-09-23T08:00:00\",\"2023-10-10T09:45:00\",\"2023-10-10T08:15:00\",\"2023-09-26T11:00:00\",\"2023-09-26T05:45:00\",\"2023-09-30T15:30:00\",\"2023-10-03T21:00:00\",\"2023-10-05T23:15:00\",\"2023-10-01T15:30:00\",\"2023-09-26T03:45:00\",\"2023-09-23T19:00:00\",\"2023-09-27T15:00:00\",\"2023-09-29T07:45:00\",\"2023-09-25T20:15:00\",\"2023-09-25T06:45:00\",\"2023-10-10T16:30:00\",\"2023-09-27T01:15:00\",\"2023-10-02T00:30:00\",\"2023-09-28T08:30:00\",\"2023-09-23T17:45:00\",\"2023-10-10T00:15:00\",\"2023-09-29T15:15:00\",\"2023-09-24T16:30:00\",\"2023-10-03T20:30:00\",\"2023-10-09T22:45:00\",\"2023-09-25T01:15:00\",\"2023-09-23T05:45:00\",\"2023-09-24T13:15:00\",\"2023-09-30T09:30:00\",\"2023-10-04T03:45:00\",\"2023-09-25T11:15:00\",\"2023-10-04T07:30:00\",\"2023-09-28T07:15:00\",\"2023-10-02T18:30:00\",\"2023-10-09T16:15:00\",\"2023-10-06T09:00:00\",\"2023-09-22T21:15:00\",\"2023-09-28T03:45:00\",\"2023-09-28T18:45:00\",\"2023-09-22T03:00:00\",\"2023-10-10T11:45:00\",\"2023-09-26T00:00:00\",\"2023-10-02T22:15:00\",\"2023-09-25T04:30:00\",\"2023-10-04T17:30:00\"],\"xaxis\":\"x\",\"y\":[557.0,446.0,458.3333333333333,499.6666666666667,501.6666666666667,597.0,482.5,439.3333333333333,738.6666666666666,499.6666666666667,670.6666666666666,498.3333333333333,464.0,580.3333333333334,631.5,617.3333333333334,510.0,467.5,649.3333333333334,434.6666666666667,517.0,510.5,505.0,430.0,537.0,556.6666666666666,471.0,535.6666666666666,578.0,526.6666666666666,471.0,599.0,478.0,416.0,995.3333333333334,497.0,553.0,423.6666666666667,632.0,527.0,430.3333333333333,472.0,670.0,619.3333333333334,432.0,503.0,530.6666666666666,559.0,484.0,585.0,672.0,441.0,489.0,465.5,534.0,468.0,445.0,577.0,424.0,430.0,486.0,669.3333333333334,518.3333333333334,545.0,461.0,403.0,542.0,434.0,523.0,454.0,491.0,396.0,466.0,466.0,440.6666666666667,527.0,472.3333333333333,436.0,486.0,594.6666666666666,494.0,551.0,490.0,422.0,517.0,507.0,491.0,492.3333333333333,496.0,513.0,438.0,473.0,503.0,439.0,431.3333333333333,545.3333333333334,527.0,434.0,467.0,504.0,517.0,526.0,476.0,473.0,435.0,669.0,467.0,444.0,436.6666666666667,574.0,488.0,467.0,512.0,589.6666666666666,493.0,437.3333333333333,511.0,441.0,456.0,603.0,489.6666666666667,555.0,517.0,468.0,474.0,571.0,460.0,442.0,637.3333333333334,511.0,468.0,465.0,477.6666666666667,578.0,453.0,505.0,492.0,659.5,616.0,496.0,548.0,459.0,531.6666666666666,645.0,408.0,475.0,615.0,553.0,598.0,523.0,589.5,426.0,518.0,442.3333333333333,589.0,599.0,534.5,444.0,548.0,632.0,653.6666666666666,594.0,558.0,562.5,437.0,447.0,532.0,494.3333333333333,651.6666666666666,476.6666666666667,497.6666666666667,507.0,441.6666666666667,479.0,657.0,626.3333333333334,478.6666666666667,676.0,626.0,482.5,430.5,539.0,445.0,494.0,462.0,642.0,477.0,548.6666666666666,416.3333333333333,711.0,494.0,498.0,533.0,534.6666666666666,428.3333333333333,473.0,493.0,515.6666666666666,572.0,461.0,473.0,454.0,536.0,495.0,476.0,531.0,485.0,445.0,458.0,576.0,667.0,586.0,499.0,436.0,424.0,508.3333333333333,630.6666666666666,478.0,469.0,533.0,498.0,440.0,466.3333333333333,511.0,491.0,505.3333333333333,483.0,499.3333333333333,565.6666666666666,466.6666666666667,554.0,595.3333333333334,606.5,471.0,467.0,523.0,498.0,855.3333333333334,505.3333333333333,499.3333333333333,492.0,465.0,554.0,461.3333333333333,709.0,450.3333333333333,473.3333333333333,529.6666666666666,458.0,543.0,426.0,554.3333333333334,499.0,628.0,534.0,527.0,710.0,477.0,474.0,542.0,539.0,418.0,512.0,456.0,486.0,524.5,626.0,488.0,513.6666666666666,483.0,510.0,599.0,487.0,448.6666666666667,434.0,557.0,480.0,513.0,436.3333333333333,491.0,466.3333333333333,478.0,470.3333333333333,465.0,412.0,520.6666666666666,616.3333333333334,489.0,428.3333333333333,478.0,524.0,677.0,538.6666666666666,475.3333333333333,457.0,688.0,501.5,549.0,468.0,506.0,497.6666666666667,474.0,822.0,604.0,391.0,622.6666666666666,442.0,474.0,482.5,699.0,465.0,598.0,476.6666666666667,465.0,473.0,534.0,495.6666666666667,480.0,468.3333333333333,433.0,444.3333333333333,438.6666666666667,565.0,490.6666666666667,489.0,501.0,610.0,474.0,432.0,455.0,456.3333333333333,414.0,477.0,502.5,489.0,637.0,490.0,480.0,516.3333333333334,490.0,479.0,492.6666666666667,566.3333333333334,529.0,440.3333333333333,470.0,608.0,503.0,449.0,440.0,498.3333333333333,411.0,449.0,470.0,698.6666666666666,479.0,429.0,466.0,449.0,420.6666666666667,506.5,453.0,444.3333333333333,489.6666666666667,699.0,587.0,553.0,508.0,478.3333333333333,467.5,502.0,434.3333333333333,481.0,498.0,473.0,445.0,549.0,411.0,478.0,411.0,478.0,437.0,476.0,572.0,476.0,441.0,541.0,488.3333333333333,465.0,474.5,507.0,508.0,467.0,447.0,474.5,494.0,515.0,481.0,561.0,500.0,466.0,430.0,481.0,611.0,494.0,488.0,448.6666666666667,465.0,455.0,476.0,465.0,549.0,550.0,433.0,499.0,504.0,523.6666666666666,507.0,445.3333333333333,531.0,468.3333333333333,501.6666666666667,475.0,511.0,497.0,466.0,653.0,445.0,625.5,447.0,752.6666666666666,556.0,493.0,467.0,567.0,538.0,595.0,461.0,491.0,418.6666666666667,684.0,695.0,671.0,470.5,473.3333333333333,513.3333333333334,406.5,530.0,546.0,467.0,552.3333333333334,499.3333333333333,464.0,528.6666666666666,485.3333333333333,588.6666666666666,610.6666666666666,583.6666666666666,579.0,448.0,638.0,502.0,491.3333333333333,561.0,455.0,602.0,425.0,485.0,564.6666666666666,471.0,481.6666666666667,446.3333333333333,478.0,484.0,667.0,438.6666666666667,479.3333333333333,462.0,441.0,457.0,512.0,476.0,587.0,432.0,432.0,509.0,448.0,449.6666666666667,606.0,477.0,455.0,550.0,491.0,460.0,542.0,487.0,478.0,424.0,442.6666666666667,685.0,620.0,476.0,544.0,466.0,540.0,577.3333333333334,485.0,507.3333333333333,642.6666666666666,480.0,662.0,514.0,532.0,475.0,470.3333333333333,513.0,493.0,529.0,669.0,564.3333333333334,786.5,540.0,451.6666666666667,488.0,558.0,507.0,577.0,520.0,504.3333333333333,484.0,552.0,514.0,529.0,487.6666666666667,494.0,486.0,601.0,505.6666666666667,437.6666666666667,452.0,550.0,548.6666666666666,512.5,518.3333333333334,468.3333333333333,409.0,663.0,503.6666666666667,512.0,651.0,474.0,445.0,493.0,452.6666666666667,425.0,670.6666666666666,490.6666666666667,462.0,555.3333333333334,568.0,473.0,570.0,489.0,542.0,459.0,738.3333333333334,688.0,451.0,475.3333333333333,502.3333333333333,500.0,578.5,581.6666666666666,534.0,437.3333333333333,672.0,490.6666666666667,449.0,447.6666666666667,660.0,461.0,469.0,434.0,545.3333333333334,495.0,469.0,489.0,619.0,696.0,551.3333333333334,484.0,521.0,726.3333333333334,540.0,449.0,675.5,469.3333333333333,686.0,460.3333333333333,507.6666666666667,442.0,588.0,509.0,607.0,455.0,547.0,520.0,528.3333333333334,547.0,567.3333333333334,451.0,464.0,470.0,431.0,498.0,461.3333333333333,516.0,926.0,454.0,512.3333333333334,532.3333333333334,478.0,468.0,470.0,501.0,491.0,467.5,455.0,559.6666666666666,453.0,556.0,448.0,665.0,422.0,478.3333333333333,483.0,669.0,481.0,504.3333333333333,553.0,671.0,488.6666666666667,563.0,559.0,817.6666666666666,705.5,475.0,505.0,691.0,456.0,531.0,525.0,432.0,430.3333333333333,560.0,412.0,628.0,446.0,447.6666666666667,417.3333333333333,492.0,697.0,550.6666666666666,469.5,509.5,502.3333333333333,559.3333333333334,469.0,476.0,548.6666666666666,520.0,721.0,438.0,494.0,439.0,437.6666666666667,490.3333333333333,549.0,419.3333333333333,464.6666666666667,502.3333333333333,487.0,497.0,497.3333333333333,458.0,470.6666666666667,483.3333333333333,519.3333333333334,455.6666666666667,501.0,716.3333333333334,489.0,631.0,455.0,487.0,432.0,559.0,441.3333333333333,481.0,570.3333333333334,529.0,456.0,879.0,512.0,469.0,505.0,609.0,606.0,487.0,470.0,516.0,491.6666666666667,498.0,488.0,475.0,712.0,478.0,482.0,453.6666666666667,599.5,540.0,470.0,561.5,403.0,430.6666666666667,625.0,673.5,636.6666666666666,441.3333333333333,526.0,485.0,479.6666666666667,407.0,493.3333333333333,469.6666666666667,495.0,565.6666666666666,493.3333333333333,507.0,473.0,492.0,470.3333333333333,493.0,563.0,636.6666666666666,566.6666666666666,467.0,911.3333333333334,588.6666666666666,542.5,508.6666666666667,435.6666666666667,521.0,556.0,547.6666666666666,392.0,542.0,447.0,499.6666666666667,546.6666666666666,457.0,438.0,450.0,469.0,517.0,668.6666666666666,502.0,414.6666666666667,446.3333333333333,472.0,605.0,442.0,435.6666666666667,549.5,490.3333333333333,469.0,443.6666666666667,472.0,467.0,555.0,508.0,409.0,491.0,644.0,427.0,561.0,617.0,502.0,529.0,451.3333333333333,430.0,550.0,458.0,495.0,438.6666666666667,550.0,500.0,443.0,490.3333333333333,502.0,428.0,708.6666666666666,571.0,535.0,444.3333333333333,418.0,505.6666666666667,461.3333333333333,540.0,466.0,712.3333333333334,504.5,498.0,462.0,578.0,409.0,415.0,504.0,676.3333333333334,442.3333333333333,570.0,578.0,494.0,546.0,497.0,498.6666666666667,502.6666666666667,549.3333333333334,429.6666666666667,471.0,473.0,454.5,446.0,558.0,458.0,570.0,523.0,480.0,469.0,452.3333333333333,493.0,492.0,406.0,430.6666666666667,544.6666666666666,486.0,486.0,457.0,506.0,477.0,798.0,458.0,476.3333333333333,523.6666666666666,490.3333333333333,548.0,449.0,423.3333333333333,524.0,488.0,459.0,510.0,424.5,437.5,479.3333333333333,451.3333333333333,505.0,463.0,454.3333333333333,503.0,488.0,469.0,488.0,584.0,503.6666666666667,565.3333333333334,493.6666666666667,536.0,582.3333333333334,500.0,623.3333333333334,529.0,490.0,450.6666666666667,507.3333333333333,424.0,483.0,455.0,445.6666666666667,519.0,584.0,471.0,411.0,517.6666666666666,515.3333333333334,608.0,474.3333333333333,530.0,515.3333333333334,453.5,504.0,461.6666666666667,492.0,490.6666666666667,545.6666666666666,534.0,520.0,437.0,512.6666666666666,537.0,529.0,469.0,565.3333333333334,495.0,439.0,441.6666666666667,615.0,441.6666666666667,481.0,453.0,511.0,479.0,645.0,458.0,556.3333333333334,448.6666666666667,447.0,454.6666666666667,504.3333333333333,501.0,485.6666666666667,529.0,663.0,480.0,459.6666666666667,470.0,503.3333333333333,501.0,513.0,546.0,473.0,475.3333333333333,486.6666666666667,504.0,516.0,457.0,455.3333333333333,641.0,504.5,456.6666666666667,437.3333333333333,517.0,477.0,502.5,524.6666666666666,487.0,491.0,418.0,474.6666666666667,542.0,480.0,482.0,452.0,517.0,421.3333333333333,429.0,466.0,469.0,547.0,477.0,513.0,455.0,443.5,480.0,462.0,486.0,795.0,553.0,493.6666666666667,452.0,499.5,529.0,441.6666666666667,493.0,658.0,470.0,507.0,498.3333333333333,467.0,500.6666666666667,432.3333333333333,559.0,687.0,521.0,491.0,509.0,497.6666666666667,539.6666666666666,434.3333333333333,509.0,668.0,572.0,545.0,601.0,500.0,613.0,663.0,568.0,534.0,479.6666666666667,535.3333333333334,467.0,456.0,488.0,461.6666666666667,451.0,434.0,481.0,443.0,519.6666666666666,560.6666666666666,495.0,517.0,515.0,452.0,523.0,496.0,509.6666666666667,422.0,443.0,515.5,459.0,670.0,505.0,480.0,483.0,456.0,453.0,441.6666666666667,559.0,529.0,472.5,494.0,515.3333333333334,515.0,487.0,502.3333333333333,534.6666666666666,421.3333333333333,439.0,463.0,494.6666666666667,490.0,567.0,474.0,437.6666666666667,493.5,477.0,440.0,456.0,521.0,649.0,459.6666666666667,504.6666666666667,462.0,552.6666666666666,589.0,441.0,526.3333333333334,437.0,436.0,515.0,454.0,670.3333333333334,515.0,493.0,458.0,474.5,447.0,465.0,568.6666666666666,454.0,497.0,421.0,454.0,431.6666666666667,482.6666666666667,482.0,534.6666666666666,477.0,444.5,505.0,475.0,655.6666666666666,496.0,531.0,933.5,426.0,514.3333333333334,455.0,604.3333333333334,494.0,521.0,525.0,472.0,553.5,504.0,451.3333333333333,504.0,466.0,491.0,511.0,658.0,604.6666666666666,695.0,521.6666666666666,496.0,660.0,507.0,453.6666666666667,440.0,494.0,418.0,531.6666666666666,556.6666666666666,449.3333333333333,696.0],\"yaxis\":\"y\",\"type\":\"bar\"}],                        {\"template\":{\"data\":{\"histogram2dcontour\":[{\"type\":\"histogram2dcontour\",\"colorbar\":{\"outlinewidth\":0,\"ticks\":\"\"},\"colorscale\":[[0.0,\"#0d0887\"],[0.1111111111111111,\"#46039f\"],[0.2222222222222222,\"#7201a8\"],[0.3333333333333333,\"#9c179e\"],[0.4444444444444444,\"#bd3786\"],[0.5555555555555556,\"#d8576b\"],[0.6666666666666666,\"#ed7953\"],[0.7777777777777778,\"#fb9f3a\"],[0.8888888888888888,\"#fdca26\"],[1.0,\"#f0f921\"]]}],\"choropleth\":[{\"type\":\"choropleth\",\"colorbar\":{\"outlinewidth\":0,\"ticks\":\"\"}}],\"histogram2d\":[{\"type\":\"histogram2d\",\"colorbar\":{\"outlinewidth\":0,\"ticks\":\"\"},\"colorscale\":[[0.0,\"#0d0887\"],[0.1111111111111111,\"#46039f\"],[0.2222222222222222,\"#7201a8\"],[0.3333333333333333,\"#9c179e\"],[0.4444444444444444,\"#bd3786\"],[0.5555555555555556,\"#d8576b\"],[0.6666666666666666,\"#ed7953\"],[0.7777777777777778,\"#fb9f3a\"],[0.8888888888888888,\"#fdca26\"],[1.0,\"#f0f921\"]]}],\"heatmap\":[{\"type\":\"heatmap\",\"colorbar\":{\"outlinewidth\":0,\"ticks\":\"\"},\"colorscale\":[[0.0,\"#0d0887\"],[0.1111111111111111,\"#46039f\"],[0.2222222222222222,\"#7201a8\"],[0.3333333333333333,\"#9c179e\"],[0.4444444444444444,\"#bd3786\"],[0.5555555555555556,\"#d8576b\"],[0.6666666666666666,\"#ed7953\"],[0.7777777777777778,\"#fb9f3a\"],[0.8888888888888888,\"#fdca26\"],[1.0,\"#f0f921\"]]}],\"heatmapgl\":[{\"type\":\"heatmapgl\",\"colorbar\":{\"outlinewidth\":0,\"ticks\":\"\"},\"colorscale\":[[0.0,\"#0d0887\"],[0.1111111111111111,\"#46039f\"],[0.2222222222222222,\"#7201a8\"],[0.3333333333333333,\"#9c179e\"],[0.4444444444444444,\"#bd3786\"],[0.5555555555555556,\"#d8576b\"],[0.6666666666666666,\"#ed7953\"],[0.7777777777777778,\"#fb9f3a\"],[0.8888888888888888,\"#fdca26\"],[1.0,\"#f0f921\"]]}],\"contourcarpet\":[{\"type\":\"contourcarpet\",\"colorbar\":{\"outlinewidth\":0,\"ticks\":\"\"}}],\"contour\":[{\"type\":\"contour\",\"colorbar\":{\"outlinewidth\":0,\"ticks\":\"\"},\"colorscale\":[[0.0,\"#0d0887\"],[0.1111111111111111,\"#46039f\"],[0.2222222222222222,\"#7201a8\"],[0.3333333333333333,\"#9c179e\"],[0.4444444444444444,\"#bd3786\"],[0.5555555555555556,\"#d8576b\"],[0.6666666666666666,\"#ed7953\"],[0.7777777777777778,\"#fb9f3a\"],[0.8888888888888888,\"#fdca26\"],[1.0,\"#f0f921\"]]}],\"surface\":[{\"type\":\"surface\",\"colorbar\":{\"outlinewidth\":0,\"ticks\":\"\"},\"colorscale\":[[0.0,\"#0d0887\"],[0.1111111111111111,\"#46039f\"],[0.2222222222222222,\"#7201a8\"],[0.3333333333333333,\"#9c179e\"],[0.4444444444444444,\"#bd3786\"],[0.5555555555555556,\"#d8576b\"],[0.6666666666666666,\"#ed7953\"],[0.7777777777777778,\"#fb9f3a\"],[0.8888888888888888,\"#fdca26\"],[1.0,\"#f0f921\"]]}],\"mesh3d\":[{\"type\":\"mesh3d\",\"colorbar\":{\"outlinewidth\":0,\"ticks\":\"\"}}],\"scatter\":[{\"fillpattern\":{\"fillmode\":\"overlay\",\"size\":10,\"solidity\":0.2},\"type\":\"scatter\"}],\"parcoords\":[{\"type\":\"parcoords\",\"line\":{\"colorbar\":{\"outlinewidth\":0,\"ticks\":\"\"}}}],\"scatterpolargl\":[{\"type\":\"scatterpolargl\",\"marker\":{\"colorbar\":{\"outlinewidth\":0,\"ticks\":\"\"}}}],\"bar\":[{\"error_x\":{\"color\":\"#2a3f5f\"},\"error_y\":{\"color\":\"#2a3f5f\"},\"marker\":{\"line\":{\"color\":\"#E5ECF6\",\"width\":0.5},\"pattern\":{\"fillmode\":\"overlay\",\"size\":10,\"solidity\":0.2}},\"type\":\"bar\"}],\"scattergeo\":[{\"type\":\"scattergeo\",\"marker\":{\"colorbar\":{\"outlinewidth\":0,\"ticks\":\"\"}}}],\"scatterpolar\":[{\"type\":\"scatterpolar\",\"marker\":{\"colorbar\":{\"outlinewidth\":0,\"ticks\":\"\"}}}],\"histogram\":[{\"marker\":{\"pattern\":{\"fillmode\":\"overlay\",\"size\":10,\"solidity\":0.2}},\"type\":\"histogram\"}],\"scattergl\":[{\"type\":\"scattergl\",\"marker\":{\"colorbar\":{\"outlinewidth\":0,\"ticks\":\"\"}}}],\"scatter3d\":[{\"type\":\"scatter3d\",\"line\":{\"colorbar\":{\"outlinewidth\":0,\"ticks\":\"\"}},\"marker\":{\"colorbar\":{\"outlinewidth\":0,\"ticks\":\"\"}}}],\"scattermapbox\":[{\"type\":\"scattermapbox\",\"marker\":{\"colorbar\":{\"outlinewidth\":0,\"ticks\":\"\"}}}],\"scatterternary\":[{\"type\":\"scatterternary\",\"marker\":{\"colorbar\":{\"outlinewidth\":0,\"ticks\":\"\"}}}],\"scattercarpet\":[{\"type\":\"scattercarpet\",\"marker\":{\"colorbar\":{\"outlinewidth\":0,\"ticks\":\"\"}}}],\"carpet\":[{\"aaxis\":{\"endlinecolor\":\"#2a3f5f\",\"gridcolor\":\"white\",\"linecolor\":\"white\",\"minorgridcolor\":\"white\",\"startlinecolor\":\"#2a3f5f\"},\"baxis\":{\"endlinecolor\":\"#2a3f5f\",\"gridcolor\":\"white\",\"linecolor\":\"white\",\"minorgridcolor\":\"white\",\"startlinecolor\":\"#2a3f5f\"},\"type\":\"carpet\"}],\"table\":[{\"cells\":{\"fill\":{\"color\":\"#EBF0F8\"},\"line\":{\"color\":\"white\"}},\"header\":{\"fill\":{\"color\":\"#C8D4E3\"},\"line\":{\"color\":\"white\"}},\"type\":\"table\"}],\"barpolar\":[{\"marker\":{\"line\":{\"color\":\"#E5ECF6\",\"width\":0.5},\"pattern\":{\"fillmode\":\"overlay\",\"size\":10,\"solidity\":0.2}},\"type\":\"barpolar\"}],\"pie\":[{\"automargin\":true,\"type\":\"pie\"}]},\"layout\":{\"autotypenumbers\":\"strict\",\"colorway\":[\"#636efa\",\"#EF553B\",\"#00cc96\",\"#ab63fa\",\"#FFA15A\",\"#19d3f3\",\"#FF6692\",\"#B6E880\",\"#FF97FF\",\"#FECB52\"],\"font\":{\"color\":\"#2a3f5f\"},\"hovermode\":\"closest\",\"hoverlabel\":{\"align\":\"left\"},\"paper_bgcolor\":\"white\",\"plot_bgcolor\":\"#E5ECF6\",\"polar\":{\"bgcolor\":\"#E5ECF6\",\"angularaxis\":{\"gridcolor\":\"white\",\"linecolor\":\"white\",\"ticks\":\"\"},\"radialaxis\":{\"gridcolor\":\"white\",\"linecolor\":\"white\",\"ticks\":\"\"}},\"ternary\":{\"bgcolor\":\"#E5ECF6\",\"aaxis\":{\"gridcolor\":\"white\",\"linecolor\":\"white\",\"ticks\":\"\"},\"baxis\":{\"gridcolor\":\"white\",\"linecolor\":\"white\",\"ticks\":\"\"},\"caxis\":{\"gridcolor\":\"white\",\"linecolor\":\"white\",\"ticks\":\"\"}},\"coloraxis\":{\"colorbar\":{\"outlinewidth\":0,\"ticks\":\"\"}},\"colorscale\":{\"sequential\":[[0.0,\"#0d0887\"],[0.1111111111111111,\"#46039f\"],[0.2222222222222222,\"#7201a8\"],[0.3333333333333333,\"#9c179e\"],[0.4444444444444444,\"#bd3786\"],[0.5555555555555556,\"#d8576b\"],[0.6666666666666666,\"#ed7953\"],[0.7777777777777778,\"#fb9f3a\"],[0.8888888888888888,\"#fdca26\"],[1.0,\"#f0f921\"]],\"sequentialminus\":[[0.0,\"#0d0887\"],[0.1111111111111111,\"#46039f\"],[0.2222222222222222,\"#7201a8\"],[0.3333333333333333,\"#9c179e\"],[0.4444444444444444,\"#bd3786\"],[0.5555555555555556,\"#d8576b\"],[0.6666666666666666,\"#ed7953\"],[0.7777777777777778,\"#fb9f3a\"],[0.8888888888888888,\"#fdca26\"],[1.0,\"#f0f921\"]],\"diverging\":[[0,\"#8e0152\"],[0.1,\"#c51b7d\"],[0.2,\"#de77ae\"],[0.3,\"#f1b6da\"],[0.4,\"#fde0ef\"],[0.5,\"#f7f7f7\"],[0.6,\"#e6f5d0\"],[0.7,\"#b8e186\"],[0.8,\"#7fbc41\"],[0.9,\"#4d9221\"],[1,\"#276419\"]]},\"xaxis\":{\"gridcolor\":\"white\",\"linecolor\":\"white\",\"ticks\":\"\",\"title\":{\"standoff\":15},\"zerolinecolor\":\"white\",\"automargin\":true,\"zerolinewidth\":2},\"yaxis\":{\"gridcolor\":\"white\",\"linecolor\":\"white\",\"ticks\":\"\",\"title\":{\"standoff\":15},\"zerolinecolor\":\"white\",\"automargin\":true,\"zerolinewidth\":2},\"scene\":{\"xaxis\":{\"backgroundcolor\":\"#E5ECF6\",\"gridcolor\":\"white\",\"linecolor\":\"white\",\"showbackground\":true,\"ticks\":\"\",\"zerolinecolor\":\"white\",\"gridwidth\":2},\"yaxis\":{\"backgroundcolor\":\"#E5ECF6\",\"gridcolor\":\"white\",\"linecolor\":\"white\",\"showbackground\":true,\"ticks\":\"\",\"zerolinecolor\":\"white\",\"gridwidth\":2},\"zaxis\":{\"backgroundcolor\":\"#E5ECF6\",\"gridcolor\":\"white\",\"linecolor\":\"white\",\"showbackground\":true,\"ticks\":\"\",\"zerolinecolor\":\"white\",\"gridwidth\":2}},\"shapedefaults\":{\"line\":{\"color\":\"#2a3f5f\"}},\"annotationdefaults\":{\"arrowcolor\":\"#2a3f5f\",\"arrowhead\":0,\"arrowwidth\":1},\"geo\":{\"bgcolor\":\"white\",\"landcolor\":\"#E5ECF6\",\"subunitcolor\":\"white\",\"showland\":true,\"showlakes\":true,\"lakecolor\":\"white\"},\"title\":{\"x\":0.05},\"mapbox\":{\"style\":\"light\"}}},\"xaxis\":{\"anchor\":\"y\",\"domain\":[0.0,1.0],\"title\":{\"text\":\"DATETIME\"}},\"yaxis\":{\"anchor\":\"x\",\"domain\":[0.0,1.0],\"title\":{\"text\":\"CO2\"}},\"legend\":{\"tracegroupgap\":0},\"margin\":{\"t\":60},\"barmode\":\"relative\"},                        {\"responsive\": true}                    ).then(function(){\n",
       "                            \n",
       "var gd = document.getElementById('c9463000-ae42-44a3-8151-887cb65025b3');\n",
       "var x = new MutationObserver(function (mutations, observer) {{\n",
       "        var display = window.getComputedStyle(gd).display;\n",
       "        if (!display || display === 'none') {{\n",
       "            console.log([gd, 'removed!']);\n",
       "            Plotly.purge(gd);\n",
       "            observer.disconnect();\n",
       "        }}\n",
       "}});\n",
       "\n",
       "// Listen for the removal of the full notebook cells\n",
       "var notebookContainer = gd.closest('#notebook-container');\n",
       "if (notebookContainer) {{\n",
       "    x.observe(notebookContainer, {childList: true});\n",
       "}}\n",
       "\n",
       "// Listen for the clearing of the current output cell\n",
       "var outputEl = gd.closest('.output');\n",
       "if (outputEl) {{\n",
       "    x.observe(outputEl, {childList: true});\n",
       "}}\n",
       "\n",
       "                        })                };                });            </script>        </div>"
      ]
     },
     "metadata": {},
     "output_type": "display_data"
    }
   ],
   "source": [
    "k = choice(rb)\n",
    "print(k)\n",
    "fig = (\n",
    "    data[k]# data[\"Rønbækskolen_D.09\"]\n",
    "    .pipe(merge_dt, date=\"DATE\", time=\"TIME\", name=\"DATETIME\")\n",
    "    # [lambda d: d[\"DATETIME\"] < pd.to_datetime(\"2023-04-01\", format=\"%Y-%m-%d\")]\n",
    "    .plot.bar(\n",
    "        x=\"DATETIME\",\n",
    "        y=\"CO2\",\n",
    "        # title=\"CO2\",\n",
    "    \n",
    "    )\n",
    ")\n",
    "fig.update_traces(dict(marker_line_width=0))\n",
    "fig"
   ]
  },
  {
   "cell_type": "markdown",
   "metadata": {},
   "source": [
    "Retrieve a single room from the database"
   ]
  },
  {
   "cell_type": "code",
   "execution_count": null,
   "metadata": {},
   "outputs": [],
   "source": [
    "data = room[list(room.keys())[0]]"
   ]
  },
  {
   "cell_type": "code",
   "execution_count": null,
   "metadata": {},
   "outputs": [],
   "source": [
    "def plot_col(df, x = \"DATETIME\", y = \"CO2\", **kwargs):\n",
    "    if not df.empty:\n",
    "        fig = df.plot.bar(\n",
    "            x=\"DATETIME\",\n",
    "            y=\"CO2\",\n",
    "            title=f\"{y} values for {df.SKOLE_ID.iloc[0]}\",\n",
    "            **kwargs\n",
    "            # prevent stacking CO2 values on same dates\n",
    "        )\n",
    "        fig.update_traces(dict(marker_line_width=0))\n",
    "        fig.show()\n",
    "    else:\n",
    "        print(\"No data to plot\")"
   ]
  },
  {
   "cell_type": "code",
   "execution_count": null,
   "metadata": {},
   "outputs": [],
   "source": [
    "plot_col(data) # Rønbækskolen_E.16"
   ]
  },
  {
   "cell_type": "markdown",
   "metadata": {},
   "source": [
    "# Run preprocessing flow"
   ]
  },
  {
   "cell_type": "code",
   "execution_count": null,
   "metadata": {},
   "outputs": [],
   "source": [
    "prep = Preprocessor()\n",
    "\n",
    "processed = (\n",
    "    data\n",
    "\n",
    "    # fill missing timeslots between first and last timeslot\n",
    "    .pipe(prep.add_missing_timeslots)\n",
    "\n",
    "    # fill missing values using cubic spline interpolation\n",
    "    .pipe(prep.interpolate_missing_islands, target_col=\"CO2\", limit=4)\n",
    "\n",
    "    # remove timeslots where 5 or more consecutive values are missing\n",
    "    .pipe(prep.remove_stagnate_intervals, target_col=\"CO2\", threshold=5)\n",
    "\n",
    "    # remove all rows where CO2 is missing\n",
    "    .dropna(subset=[\"CO2\"])\n",
    "\n",
    "    # drop timeslots where CO2 is outside the bounds of 1 and 8000\n",
    "    .pipe(prep.drop_outliers, bounds={\"CO2\": (1, 8000)})\n",
    "\n",
    "    # remove days where less than 25% of the timeslots are present\n",
    "    .pipe(prep.day_filter, min_ratio=0.25)\n",
    "\n",
    "    # group timeslots into time-contiguous groups\n",
    "    .pipe(\n",
    "        prep.apply_time_group_funcs,\n",
    "        funcs=[\n",
    "\n",
    "            # Apply gaussian smoothing to CO2 values\n",
    "            (prep.gaussian_smooth, dict(metric=\"CO2\", std_dev=2)),\n",
    "            (\n",
    "                # calculate derivatives of CO2 values\n",
    "                prep.calculate_kinematic_quantities,\n",
    "                dict(metric=\"CO2_smoothed\", window=4, prefix=\"CO2\"),\n",
    "            ),\n",
    "        ],\n",
    "    )\n",
    "    # add time features\n",
    "    .pipe(prep.add_time_features, night_start=22, night_end=6)\n",
    ")\n"
   ]
  },
  {
   "cell_type": "markdown",
   "metadata": {},
   "source": [
    "## Modelling"
   ]
  },
  {
   "cell_type": "code",
   "execution_count": null,
   "metadata": {},
   "outputs": [],
   "source": [
    "\n",
    "FEATURES = [\n",
    "    # \"CO2\",\n",
    "    \"CO2_velocity\",\n",
    "    \"CO2_acceleration\",\n",
    "    # \"CO2_jerk\",\n",
    "    \"CO2_smoothed\",\n",
    "    \"is_night\",\n",
    "    \"CO2_log\",\n",
    "]"
   ]
  },
  {
   "cell_type": "code",
   "execution_count": null,
   "metadata": {},
   "outputs": [],
   "source": [
    "model = Model(\n",
    "    model_params={\n",
    "        \"n_estimators\": 300,\n",
    "        \"random_state\": 123,\n",
    "        \"verbose\": 0,\n",
    "\n",
    "    },\n",
    "    estimated_usage=0.3\n",
    ")\n",
    "model.fit(processed[FEATURES])\n",
    "processed[\"pred\"] = model.predict(processed[FEATURES])\n",
    "processed[\"score\"] = model.score(processed[FEATURES])"
   ]
  },
  {
   "cell_type": "markdown",
   "metadata": {},
   "source": [
    "## Visualize results"
   ]
  },
  {
   "cell_type": "code",
   "execution_count": null,
   "metadata": {},
   "outputs": [],
   "source": [
    "# Plotting using Plotly via Pandas\n",
    "(\n",
    "    processed.assign(color=lambda d: d[\"pred\"].map({0: 'Unsued', 1: 'Used'})).plot.bar(\n",
    "        x='DATETIME',\n",
    "        y=['CO2'], \n",
    "        color=\"color\", \n",
    "        hover_data=[\"CO2_velocity\", \"score\"], \n",
    "        barmode=\"group\", \n",
    "    )\n",
    "    .update_layout(\n",
    "        title='Usage detection',\n",
    "        xaxis_title='Time',\n",
    "        yaxis_title='CO2 level',\n",
    "        legend_title=\"Usage\",          \n",
    "    )\n",
    "    .update_traces(dict(marker_line_width=0))\n",
    ")"
   ]
  },
  {
   "cell_type": "markdown",
   "metadata": {},
   "source": [
    "## Postprocessing"
   ]
  },
  {
   "cell_type": "code",
   "execution_count": null,
   "metadata": {},
   "outputs": [],
   "source": [
    "def heuristics(room: pd.DataFrame) -> pd.DataFrame:\n",
    "    \"\"\"Add heuristic rules to predicted data\"\"\"\n",
    "    \n",
    "\n",
    "    def apply_night_time_filter(df):\n",
    "        \"\"\"Filters out false positives during midnight to 6 AM.\"\"\"\n",
    "        hour = df[\"DATETIME\"].dt.hour\n",
    "        mask = (hour >= 0) & (hour < 6) & (df[\"ANOMALY_SCORE\"] <= 0.7)\n",
    "        df.loc[mask, \"IN_USE\"] = 0\n",
    "        return df\n",
    "\n",
    "    def apply_stand_alone_instances_filter(df):\n",
    "        \"\"\"Removes isolated instances of \"IN_USE\" being 1.\"\"\"\n",
    "        prev_IN_USE = df[\"IN_USE\"].shift(1, fill_value=0)\n",
    "        next_IN_USE = df[\"IN_USE\"].shift(-1, fill_value=0)\n",
    "        mask = (prev_IN_USE == 0) & (df[\"IN_USE\"] == 1) & (next_IN_USE == 0)\n",
    "        df.loc[mask, \"IN_USE\"] = 0\n",
    "        return df\n",
    "\n",
    "    def apply_low_co2_filter(df):\n",
    "        \"\"\"Sets \"IN_USE\" to 0 if CO2 levels are low.\"\"\"\n",
    "        mask = df[\"CO2\"] <= 325\n",
    "        df.loc[mask, \"IN_USE\"] = 0\n",
    "        return df\n",
    "\n",
    "    def update_anomaly_score(df):\n",
    "        \"\"\"Updates the anomaly score based on the modified\n",
    "        \"IN_USE\" values.\"\"\"\n",
    "        mask = ((df[\"IN_USE\"] == 1) & (df[\"ANOMALY_SCORE\"] < 0.5)) | (\n",
    "            (df[\"IN_USE\"] == 0) & (df[\"ANOMALY_SCORE\"] > 0.5)\n",
    "        )\n",
    "        df.loc[mask, \"ANOMALY_SCORE\"] = 1 - df.loc[mask, \"ANOMALY_SCORE\"]\n",
    "        return df\n",
    "\n",
    "    return (\n",
    "        room.pipe(apply_night_time_filter)\n",
    "        .pipe(apply_stand_alone_instances_filter)\n",
    "        .pipe(apply_low_co2_filter)\n",
    "        .pipe(update_anomaly_score)\n",
    "    )\n"
   ]
  },
  {
   "cell_type": "code",
   "execution_count": null,
   "metadata": {},
   "outputs": [],
   "source": [
    "postprocessed = heuristics(processed.rename(columns={\"pred\": \"IN_USE\", \"score\": \"ANOMALY_SCORE\"}))"
   ]
  },
  {
   "cell_type": "markdown",
   "metadata": {},
   "source": [
    "## Visualize results after postprocessing"
   ]
  },
  {
   "cell_type": "code",
   "execution_count": null,
   "metadata": {},
   "outputs": [],
   "source": [
    "(\n",
    "    postprocessed.assign(color=lambda d: d[\"IN_USE\"].map({0: 'blue', 1: 'red'})).plot.bar(\n",
    "        x='DATETIME',\n",
    "        y=['CO2'], \n",
    "        color=\"color\", \n",
    "        hover_data=[\"CO2_velocity\", \"ANOMALY_SCORE\"], \n",
    "        barmode=\"group\", \n",
    "    )\n",
    "    .update_layout(\n",
    "        title='Usage detection - Heuristics',\n",
    "        xaxis_title='Time',\n",
    "        yaxis_title='CO2 level',\n",
    "        legend_title=\"Usage\",          \n",
    "    )\n",
    "    .update_traces(dict(marker_line_width=0))\n",
    ")"
   ]
  }
 ],
 "metadata": {
  "kernelspec": {
   "display_name": "tilly-s2H1s5Sc-py3.10",
   "language": "python",
   "name": "python3"
  },
  "language_info": {
   "codemirror_mode": {
    "name": "ipython",
    "version": 3
   },
   "file_extension": ".py",
   "mimetype": "text/x-python",
   "name": "python",
   "nbconvert_exporter": "python",
   "pygments_lexer": "ipython3",
   "version": "3.10.12"
  },
  "orig_nbformat": 4
 },
 "nbformat": 4,
 "nbformat_minor": 2
}
